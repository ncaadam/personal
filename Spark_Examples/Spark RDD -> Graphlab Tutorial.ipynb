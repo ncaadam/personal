{
 "metadata": {
  "name": "",
  "signature": "sha256:92d6bd3d5b4240c21fb58c225298ac29a09a3d4a46ef43f32a79a5ffbe02c6d3"
 },
 "nbformat": 3,
 "nbformat_minor": 0,
 "worksheets": [
  {
   "cells": [
    {
     "cell_type": "heading",
     "level": 1,
     "metadata": {},
     "source": [
      "Imports"
     ]
    },
    {
     "cell_type": "code",
     "collapsed": false,
     "input": [
      "from pyspark import SparkContext, SparkConf\n",
      "import graphlab as gl"
     ],
     "language": "python",
     "metadata": {},
     "outputs": []
    },
    {
     "cell_type": "heading",
     "level": 1,
     "metadata": {},
     "source": [
      "Start Spark"
     ]
    },
    {
     "cell_type": "code",
     "collapsed": false,
     "input": [
      "# Configure Spark Settings\n",
      "conf=SparkConf()\n",
      "conf.set(\"spark.executor.memory\", \"1g\")\n",
      "conf.set(\"spark.cores.max\", \"4\")\n",
      "conf.setAppName(\"My App\")\n",
      "\n",
      "## Initialize SparkContext\n",
      "sc = SparkContext('local[*]', conf=conf)"
     ],
     "language": "python",
     "metadata": {},
     "outputs": []
    },
    {
     "cell_type": "heading",
     "level": 1,
     "metadata": {},
     "source": [
      "Load Data"
     ]
    },
    {
     "cell_type": "code",
     "collapsed": false,
     "input": [
      "# load your data into spark\n",
      "# obviously this may change based on what file you're importing\n",
      "# e.g. textfile (csv), pickle, Hadoop, RDD, etc. \n",
      "spark_input = sc.textFile('path/to/data/')"
     ],
     "language": "python",
     "metadata": {},
     "outputs": []
    },
    {
     "cell_type": "markdown",
     "metadata": {},
     "source": [
      "# Configuration Step - Required for RDD > Graphlab to work\n",
      "<p> \n",
      "You'll need to add this line to your _spark-defaults.conf_ file.</p>\n",
      "    \n",
      "1. Located the config file in your spark folder which should be where you installed it. The file doesn't exist except as a template. It'll have the name _spark-defualts.conf.template_. \n",
      "2. Rename this file and take out the template extension. \n",
      "3. Add the line below to the bottom of the file. \n",
      "4. Change the path in the line below to be a valid path. The JAR you're referencing is in your Python site-packages folder. The path may be the same from \"lib\" on.\n",
      "    * <code>spark.driver.extraClassPath /your/path/to/python/lib/python2.7/site-packages/graphlab/graphlab-create-spark-integration.jar</code>\n",
      "<br>\n",
      "\n",
      "If you run into trouble, reference [this link](https://dato.com/products/create/docs/generated/graphlab.SFrame.from_rdd.html#graphlab.SFrame.from_rdd) for the Graphlab documentation. "
     ]
    },
    {
     "cell_type": "code",
     "collapsed": false,
     "input": [
      "# import the Spark RDD to graphlab as an SFrame\n",
      "graphlab_SFrame = gl.SFrame.from_rdd(spark_input)"
     ],
     "language": "python",
     "metadata": {},
     "outputs": []
    },
    {
     "cell_type": "heading",
     "level": 1,
     "metadata": {},
     "source": [
      "Change Column Names"
     ]
    },
    {
     "cell_type": "code",
     "collapsed": false,
     "input": [
      "# when you import the the RDD, graphlab doesn't recognize headers (I didn't investigate the possibility)\n",
      "# create a dictionary of key = old column name, value = new column name\n",
      "# the default column names are 'X#' where # is the column name\n",
      "col_names = {'X1':'new_column_name_1','X2':'new_column_name_2'}\n",
      "\n",
      "# rename the columns\n",
      "# it should show you a sample output with the new column names\n",
      "graphlab_SFrame.rename(col_names)"
     ],
     "language": "python",
     "metadata": {},
     "outputs": []
    },
    {
     "cell_type": "heading",
     "level": 1,
     "metadata": {},
     "source": [
      "Change Column Data Types"
     ]
    },
    {
     "cell_type": "code",
     "collapsed": false,
     "input": [
      "# when you import the the RDD, graphlab doesn't recognize data types (I didn't investigate the possibility)\n",
      "# create a dictionary to designate the column data type\n",
      "# key = column name\n",
      "# value = column type\n",
      "col_types = {'new_column_name_1':int,'new_column_name_2':str}"
     ],
     "language": "python",
     "metadata": {},
     "outputs": []
    },
    {
     "cell_type": "code",
     "collapsed": false,
     "input": [
      "# this is how i changed the column data types\n",
      "# there may be a better way to do this, but I know this works\n",
      "# if you have more types than int and float, add an elif statement in there for it\n",
      "for name in graphlab_SFrame.column_names():\n",
      "    if name in col_types.keys():\n",
      "        if col_types[name] is int:\n",
      "            graphlab_SFrame[name] = graphlab_SFrame[name].astype(int)\n",
      "        elif col_types[name] is float:\n",
      "            graphlab_SFrame[name] = graphlab_SFrame[name].astype(float)\n",
      "        else:\n",
      "            print \"The data type isn't in your if-elif statements\"\n",
      "    else:\n",
      "        print \"A column name wasn't given a data type in your column type dictionary\""
     ],
     "language": "python",
     "metadata": {},
     "outputs": []
    },
    {
     "cell_type": "code",
     "collapsed": false,
     "input": [
      "# this is attempting to do the same as above in a much simpler way\n",
      "# however I wasn't able to test this, it may work\n",
      "for name in graphlab_SFrame.column_names():\n",
      "    if name in col_types.keys():\n",
      "        graphlab_SFrame[name] = graphlab[name].astype(col_types[name])"
     ],
     "language": "python",
     "metadata": {},
     "outputs": []
    },
    {
     "cell_type": "code",
     "collapsed": false,
     "input": [
      "# you can check the data types\n",
      "graphlab_SFrame.dtype()"
     ],
     "language": "python",
     "metadata": {},
     "outputs": []
    }
   ],
   "metadata": {}
  }
 ]
}