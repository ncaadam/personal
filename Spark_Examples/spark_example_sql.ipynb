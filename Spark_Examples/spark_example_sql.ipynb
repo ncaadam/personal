{
 "metadata": {
  "name": "",
  "signature": "sha256:694b04c5f3b4e87df1ebb5eeef6f00537025ba28e8ea95641b81054a09eaaea9"
 },
 "nbformat": 3,
 "nbformat_minor": 0,
 "worksheets": [
  {
   "cells": [
    {
     "cell_type": "code",
     "collapsed": false,
     "input": [
      "from pyspark import SparkContext, SparkConf"
     ],
     "language": "python",
     "metadata": {},
     "outputs": [],
     "prompt_number": 10
    },
    {
     "cell_type": "code",
     "collapsed": false,
     "input": [
      "# Configure Spark Settings\n",
      "conf=SparkConf()\n",
      "#conf.set(\"spark.executor.memory\", \"1g\")\n",
      "#conf.set(\"spark.cores.max\", \"2\")\n",
      "conf.setAppName(\"My App\")\n",
      "\n",
      "## Initialize SparkContext\n",
      "sc = SparkContext('local[*]', conf=conf)"
     ],
     "language": "python",
     "metadata": {},
     "outputs": [],
     "prompt_number": 4
    },
    {
     "cell_type": "code",
     "collapsed": false,
     "input": [
      "print sc"
     ],
     "language": "python",
     "metadata": {},
     "outputs": [
      {
       "output_type": "stream",
       "stream": "stdout",
       "text": [
        "<pyspark.context.SparkContext object at 0x105942450>\n"
       ]
      }
     ],
     "prompt_number": 3
    },
    {
     "cell_type": "code",
     "collapsed": false,
     "input": [
      "# sc is an existing SparkContext.\n",
      "from pyspark.sql import SQLContext, Row\n",
      "sqlContext = SQLContext(sc)"
     ],
     "language": "python",
     "metadata": {},
     "outputs": [],
     "prompt_number": 11
    },
    {
     "cell_type": "code",
     "collapsed": false,
     "input": [
      "# Load a text file and convert each line to a Row.\n",
      "lines = sc.textFile(\"/Users/sfullman001/Documents/code/spark-1.2.0/examples/src/main/resources/people.txt\")\n",
      "parts = lines.map(lambda l: l.split(\",\"))\n",
      "people = parts.map(lambda p: Row(name=p[0], age=int(p[1])))"
     ],
     "language": "python",
     "metadata": {},
     "outputs": [],
     "prompt_number": 5
    },
    {
     "cell_type": "code",
     "collapsed": false,
     "input": [
      "# show the data in the text file\n",
      "lines.take(3)"
     ],
     "language": "python",
     "metadata": {},
     "outputs": [
      {
       "metadata": {},
       "output_type": "pyout",
       "prompt_number": 6,
       "text": [
        "[u'Michael, 29', u'Andy, 30', u'Justin, 19']"
       ]
      }
     ],
     "prompt_number": 6
    },
    {
     "cell_type": "code",
     "collapsed": false,
     "input": [
      "people.take(3)"
     ],
     "language": "python",
     "metadata": {},
     "outputs": [
      {
       "metadata": {},
       "output_type": "pyout",
       "prompt_number": 13,
       "text": [
        "[Row(age=29, name=u'Michael'),\n",
        " Row(age=30, name=u'Andy'),\n",
        " Row(age=19, name=u'Justin')]"
       ]
      }
     ],
     "prompt_number": 13
    },
    {
     "cell_type": "code",
     "collapsed": false,
     "input": [
      "# Infer the schema, and register the SchemaRDD as a table.\n",
      "schemaPeople = sqlContext.inferSchema(people)\n",
      "schemaPeople.registerTempTable(\"people\")"
     ],
     "language": "python",
     "metadata": {},
     "outputs": [],
     "prompt_number": 12
    },
    {
     "cell_type": "code",
     "collapsed": false,
     "input": [
      "# SQL can be run over SchemaRDDs that have been registered as a table.\n",
      "teenagers = sqlContext.sql(\"SELECT name FROM people WHERE age >= 13 AND age <= 19\")"
     ],
     "language": "python",
     "metadata": {},
     "outputs": [],
     "prompt_number": 14
    },
    {
     "cell_type": "code",
     "collapsed": false,
     "input": [
      "# The results of SQL queries are RDDs and support all the normal RDD operations.\n",
      "teenNames = teenagers.map(lambda p: \"Name: \" + p.name)\n",
      "for teenName in teenNames.collect():\n",
      "  print teenName"
     ],
     "language": "python",
     "metadata": {},
     "outputs": [
      {
       "output_type": "stream",
       "stream": "stdout",
       "text": [
        "Name: Justin\n"
       ]
      }
     ],
     "prompt_number": 15
    },
    {
     "cell_type": "code",
     "collapsed": false,
     "input": [
      "schemaPeople.printSchema()"
     ],
     "language": "python",
     "metadata": {},
     "outputs": [
      {
       "output_type": "stream",
       "stream": "stdout",
       "text": [
        "root\n",
        " |-- age: integer (nullable = true)\n",
        " |-- name: string (nullable = true)\n",
        "\n"
       ]
      }
     ],
     "prompt_number": 18
    },
    {
     "cell_type": "code",
     "collapsed": false,
     "input": [],
     "language": "python",
     "metadata": {},
     "outputs": []
    }
   ],
   "metadata": {}
  }
 ]
}