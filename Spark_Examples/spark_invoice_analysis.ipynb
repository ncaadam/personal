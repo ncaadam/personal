{
 "metadata": {
  "name": "",
  "signature": "sha256:57e5897b23e4aecfbbf0c841fb4ac3116cc94c719580e9c38aea49fd6d1a2302"
 },
 "nbformat": 3,
 "nbformat_minor": 0,
 "worksheets": [
  {
   "cells": [
    {
     "cell_type": "code",
     "collapsed": false,
     "input": [
      "from pyspark import SparkContext, SparkConf"
     ],
     "language": "python",
     "metadata": {},
     "outputs": [],
     "prompt_number": 1
    },
    {
     "cell_type": "code",
     "collapsed": false,
     "input": [
      "# Configure Spark Settings\n",
      "conf=SparkConf()\n",
      "#conf.set(\"spark.executor.memory\", \"1g\")\n",
      "#conf.set(\"spark.cores.max\", \"2\")\n",
      "conf.setAppName(\"My App\")\n",
      "\n",
      "## Initialize SparkContext\n",
      "sc = SparkContext('local[*]', conf=conf)"
     ],
     "language": "python",
     "metadata": {},
     "outputs": [],
     "prompt_number": 2
    },
    {
     "cell_type": "code",
     "collapsed": false,
     "input": [
      "print sc"
     ],
     "language": "python",
     "metadata": {},
     "outputs": [
      {
       "output_type": "stream",
       "stream": "stdout",
       "text": [
        "<pyspark.context.SparkContext object at 0x1058e5450>\n"
       ]
      }
     ],
     "prompt_number": 3
    },
    {
     "cell_type": "code",
     "collapsed": false,
     "input": [
      "# sc is an existing SparkContext.\n",
      "from pyspark.sql import *\n",
      "sqlContext = SQLContext(sc)"
     ],
     "language": "python",
     "metadata": {},
     "outputs": [],
     "prompt_number": 4
    },
    {
     "cell_type": "code",
     "collapsed": false,
     "input": [
      "# Load a text file\n",
      "lines = sc.textFile(\"data/invoice_lines_short.txt\")"
     ],
     "language": "python",
     "metadata": {},
     "outputs": [],
     "prompt_number": 74
    },
    {
     "cell_type": "code",
     "collapsed": false,
     "input": [
      "lines = lines.map(lambda l: l.split(\"|\"))\n",
      "header = lines.first()\n",
      "parts = lines.filter(lambda line: True if line != header else False)"
     ],
     "language": "python",
     "metadata": {},
     "outputs": [],
     "prompt_number": 75
    },
    {
     "cell_type": "code",
     "collapsed": false,
     "input": [
      "parts.take(1)"
     ],
     "language": "python",
     "metadata": {},
     "outputs": [
      {
       "metadata": {},
       "output_type": "pyout",
       "prompt_number": 77,
       "text": [
        "[[u'11/26/14',\n",
        "  u'0',\n",
        "  u'1',\n",
        "  u'0',\n",
        "  u'0',\n",
        "  u'0',\n",
        "  u'0',\n",
        "  u'1',\n",
        "  u'1',\n",
        "  u'0',\n",
        "  u'PDTN',\n",
        "  u'B100',\n",
        "  u'MISC',\n",
        "  u'']]"
       ]
      }
     ],
     "prompt_number": 77
    },
    {
     "cell_type": "code",
     "collapsed": false,
     "input": [
      "header"
     ],
     "language": "python",
     "metadata": {},
     "outputs": [
      {
       "metadata": {},
       "output_type": "pyout",
       "prompt_number": 78,
       "text": [
        "[u'billdt',\n",
        " u'custno',\n",
        " u'lineno',\n",
        " u'netamt',\n",
        " u'orderno',\n",
        " u'price',\n",
        " u'prodcat',\n",
        " u'qtyship',\n",
        " u'stkqtyship',\n",
        " u'prodcost',\n",
        " u'Cust_zcustsegment',\n",
        " u'Cust_zsegmentcat',\n",
        " u'Prod_prodgrpid',\n",
        " u'']"
       ]
      }
     ],
     "prompt_number": 78
    },
    {
     "cell_type": "code",
     "collapsed": false,
     "input": [
      "parts.count()"
     ],
     "language": "python",
     "metadata": {},
     "outputs": [
      {
       "metadata": {},
       "output_type": "pyout",
       "prompt_number": 80,
       "text": [
        "10000"
       ]
      }
     ],
     "prompt_number": 80
    },
    {
     "cell_type": "code",
     "collapsed": false,
     "input": [
      "fields = [StructField(field_name, StringType(), True) for field_name in header]\n",
      "schema = StructType(fields)"
     ],
     "language": "python",
     "metadata": {},
     "outputs": [],
     "prompt_number": 81
    },
    {
     "cell_type": "code",
     "collapsed": false,
     "input": [
      "schema"
     ],
     "language": "python",
     "metadata": {},
     "outputs": [
      {
       "metadata": {},
       "output_type": "pyout",
       "prompt_number": 82,
       "text": [
        "StructType(List(StructField(billdt,StringType,true),StructField(custno,StringType,true),StructField(lineno,StringType,true),StructField(netamt,StringType,true),StructField(orderno,StringType,true),StructField(price,StringType,true),StructField(prodcat,StringType,true),StructField(qtyship,StringType,true),StructField(stkqtyship,StringType,true),StructField(prodcost,StringType,true),StructField(Cust_zcustsegment,StringType,true),StructField(Cust_zsegmentcat,StringType,true),StructField(Prod_prodgrpid,StringType,true),StructField(,StringType,true)))"
       ]
      }
     ],
     "prompt_number": 82
    },
    {
     "cell_type": "code",
     "collapsed": false,
     "input": [
      "schemaInvoice = sqlContext.applySchema(parts, schema)\n",
      "schemaInvoice.registerTempTable(\"parts\")"
     ],
     "language": "python",
     "metadata": {},
     "outputs": [],
     "prompt_number": 83
    },
    {
     "cell_type": "code",
     "collapsed": false,
     "input": [
      "schemaInvoice.printSchema()"
     ],
     "language": "python",
     "metadata": {},
     "outputs": [
      {
       "output_type": "stream",
       "stream": "stdout",
       "text": [
        "root\n",
        " |-- billdt: string (nullable = true)\n",
        " |-- custno: string (nullable = true)\n",
        " |-- lineno: string (nullable = true)\n",
        " |-- netamt: string (nullable = true)\n",
        " |-- orderno: string (nullable = true)\n",
        " |-- price: string (nullable = true)\n",
        " |-- prodcat: string (nullable = true)\n",
        " |-- qtyship: string (nullable = true)\n",
        " |-- stkqtyship: string (nullable = true)\n",
        " |-- prodcost: string (nullable = true)\n",
        " |-- Cust_zcustsegment: string (nullable = true)\n",
        " |-- Cust_zsegmentcat: string (nullable = true)\n",
        " |-- Prod_prodgrpid: string (nullable = true)\n",
        " |-- : string (nullable = true)\n",
        "\n"
       ]
      }
     ],
     "prompt_number": 84
    },
    {
     "cell_type": "code",
     "collapsed": false,
     "input": [
      "results = sqlContext.sql(\"SELECT * FROM parts WHERE price > 5\")"
     ],
     "language": "python",
     "metadata": {},
     "outputs": [],
     "prompt_number": 103
    },
    {
     "cell_type": "code",
     "collapsed": false,
     "input": [
      "results.count()"
     ],
     "language": "python",
     "metadata": {},
     "outputs": [
      {
       "metadata": {},
       "output_type": "pyout",
       "prompt_number": 104,
       "text": [
        "3999L"
       ]
      }
     ],
     "prompt_number": 104
    },
    {
     "cell_type": "code",
     "collapsed": false,
     "input": [],
     "language": "python",
     "metadata": {},
     "outputs": []
    }
   ],
   "metadata": {}
  }
 ]
}