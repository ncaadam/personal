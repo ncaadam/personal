{
 "cells": [
  {
   "cell_type": "code",
   "execution_count": 3,
   "metadata": {
    "collapsed": true
   },
   "outputs": [],
   "source": [
    "import requests as r\n",
    "from requests_oauthlib import OAuth1"
   ]
  },
  {
   "cell_type": "code",
   "execution_count": 2,
   "metadata": {
    "collapsed": true
   },
   "outputs": [],
   "source": [
    "CONSUMER_KEY = 'eIxExGtrpo4bbKj-w08J6g'\n",
    "CONSUMER_SECRET = 'fM0BHacZtolG7V2LBqHuZynUOv0'\n",
    "TOKEN = 'CQrNWHfLFWcnC_9KVrP_oJSs8gYclMqn'\n",
    "TOKEN_SECRET = 'UIHVU0HGvjSfFu92MznCJcbsiCo'"
   ]
  },
  {
   "cell_type": "code",
   "execution_count": 5,
   "metadata": {
    "collapsed": false
   },
   "outputs": [],
   "source": [
    "auth = OAuth1(CONSUMER_KEY,CONSUMER_SECRET,TOKEN,TOKEN_SECRET)"
   ]
  },
  {
   "cell_type": "code",
   "execution_count": 6,
   "metadata": {
    "collapsed": true
   },
   "outputs": [],
   "source": [
    "url = 'http://api.yelp.com/v2/search/?term=restaurants&location=Chicago'"
   ]
  },
  {
   "cell_type": "code",
   "execution_count": 8,
   "metadata": {
    "collapsed": false
   },
   "outputs": [],
   "source": [
    "resp = r.get(url, auth=auth)"
   ]
  },
  {
   "cell_type": "code",
   "execution_count": 12,
   "metadata": {
    "collapsed": false
   },
   "outputs": [],
   "source": [
    "resp_j = resp.json()"
   ]
  },
  {
   "cell_type": "code",
   "execution_count": 24,
   "metadata": {
    "collapsed": false
   },
   "outputs": [
    {
     "data": {
      "text/plain": [
       "{u'center': {u'latitude': 41.88901318355005, u'longitude': -87.6678852921338},\n",
       " u'span': {u'latitude_delta': 0.11227490886336966,\n",
       "  u'longitude_delta': 0.11297243730564333}}"
      ]
     },
     "execution_count": 24,
     "metadata": {},
     "output_type": "execute_result"
    }
   ],
   "source": [
    "resp_j['region']"
   ]
  },
  {
   "cell_type": "code",
   "execution_count": 21,
   "metadata": {
    "collapsed": false
   },
   "outputs": [
    {
     "name": "stdout",
     "output_type": "stream",
     "text": [
      "The Corned Beef Factory Sandwich Shop\n",
      "The Betty\n",
      "Girl & the Goat\n",
      "The Purple Pig\n",
      "Formento's\n",
      "Au Cheval\n",
      "Lotus Cafe & Bánh Mì Sandwiches\n",
      "Green Tomato Cafe\n",
      "Pinstripes\n",
      "TWO\n",
      "Cafecito\n",
      "Bohemian House {BoHo}\n",
      "Ameritalia\n",
      "Saucy Porka\n",
      "Big & Little's Restaurant\n",
      "Pleasant House Bakery\n",
      "Pollo Express\n",
      "Avec\n",
      "Ruxbin\n",
      "Husky Hog BBQ\n"
     ]
    }
   ],
   "source": [
    "for x in resp_j['businesses']:\n",
    "    print x['name']"
   ]
  },
  {
   "cell_type": "code",
   "execution_count": null,
   "metadata": {
    "collapsed": true
   },
   "outputs": [],
   "source": []
  }
 ],
 "metadata": {
  "kernelspec": {
   "display_name": "Python 2",
   "language": "python",
   "name": "python2"
  },
  "language_info": {
   "codemirror_mode": {
    "name": "ipython",
    "version": 2
   },
   "file_extension": ".py",
   "mimetype": "text/x-python",
   "name": "python",
   "nbconvert_exporter": "python",
   "pygments_lexer": "ipython2",
   "version": "2.7.9"
  }
 },
 "nbformat": 4,
 "nbformat_minor": 0
}
