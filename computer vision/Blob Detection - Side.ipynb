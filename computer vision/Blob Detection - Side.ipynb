{
 "metadata": {
  "name": "",
  "signature": "sha256:45168c6e8342d4b2addf7a34f7add61aa4bf36c4972abec38dac2539312c7ff7"
 },
 "nbformat": 3,
 "nbformat_minor": 0,
 "worksheets": [
  {
   "cells": [
    {
     "cell_type": "code",
     "collapsed": false,
     "input": [
      "import SimpleCV as s\n",
      "import numpy as np"
     ],
     "language": "python",
     "metadata": {},
     "outputs": [],
     "prompt_number": 1
    },
    {
     "cell_type": "code",
     "collapsed": false,
     "input": [
      "img = s.Image('../Cooler Images/coke_test.jpg')\n",
      "img = img.crop(0,800,2000,2000)\n",
      "img = img.binarize(thresh=80).invert()\n",
      "img = img.scale(.4)\n",
      "num_blobs = 0\n",
      "\n",
      "\"\"\"hhfe = s.HueHistogramFeatureExtractor(16)\n",
      "output = s.KNNClassifier(hhfe)\"\"\"\n",
      "\n",
      "\n",
      "blobs = img.findBlobs(minsize=8000)\n",
      "for blob in blobs:\n",
      "    blob.drawOutline(color=s.Color.WHITE,width=3)\n",
      "    #blob.drawMinRect(color=s.Color.WHITE,width=3)\n",
      "    #print blob\n",
      "    num_blobs += 1\n",
      "    \n",
      "print \"There are\", num_blobs, \"blobs in this image\"\n",
      "\n",
      "blobs.draw(width = -1,autocolor=True)\n",
      "\n",
      "img.show()"
     ],
     "language": "python",
     "metadata": {},
     "outputs": [
      {
       "output_type": "stream",
       "stream": "stdout",
       "text": [
        "There are 5 blobs in this image\n"
       ]
      },
      {
       "metadata": {},
       "output_type": "pyout",
       "prompt_number": 8,
       "text": [
        "<SimpleCV.Display Object resolution:((800, 457)), Image Resolution: (800, 457) at memory location: (0x7f336e79afc8)>"
       ]
      }
     ],
     "prompt_number": 8
    },
    {
     "cell_type": "code",
     "collapsed": false,
     "input": [
      "\"counter = 0\n",
      "for b in blobs:\n",
      "    save_path = \"./train/test/img-\" + str(counter) + \".png\"\n",
      "    img.crop(b).save(save_path)\n",
      "    counter += 1\n",
      "\n",
      "    #blobs = img.binarize(thresh=128).findBlobsFromWatershed()\n",
      "#img = img.binarize(thresh=60).invert()\n",
      "#findBlobs(minsize=15000)\n",
      "#blob = blobs[0]\n",
      "#src = blob.mImg\n",
      "#src = src.sideBySide(blob.getHullEdgeImage())\n",
      "#blobs.show()\n",
      "#img.applyLayers().show()\n",
      "#img.clearLayers()\n",
      "#blobs[-1].show()\n",
      "#img.crop(blobs[-1]).show()"
     ],
     "language": "python",
     "metadata": {},
     "outputs": [],
     "prompt_number": 14
    },
    {
     "cell_type": "code",
     "collapsed": false,
     "input": [],
     "language": "python",
     "metadata": {},
     "outputs": []
    }
   ],
   "metadata": {}
  }
 ]
}