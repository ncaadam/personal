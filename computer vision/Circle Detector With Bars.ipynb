{
 "metadata": {
  "name": ""
 },
 "nbformat": 3,
 "nbformat_minor": 0,
 "worksheets": [
  {
   "cells": [
    {
     "cell_type": "code",
     "collapsed": false,
     "input": [
      "import cv2"
     ],
     "language": "python",
     "metadata": {},
     "outputs": [],
     "prompt_number": 2
    },
    {
     "cell_type": "code",
     "collapsed": false,
     "input": [
      "#Import image and scale it to a viewable size\n",
      "img = cv2.imread(\"../top_view1.jpg\")\n",
      "w,h = img.shape[:2]\n",
      "h,w = int(h*.2),int(w*.2)\n",
      "img = cv2.resize(img,(h,w))\n",
      "\n",
      "#Make the image binary\n",
      "new = cv2.cvtColor(img,cv2.COLOR_BGR2GRAY)\n",
      "#Apply a Gaussian Filter\n",
      "new = cv2.filter2D(new,new.filter(DFT.createGaussianFilter())\n",
      "\n",
      "#set FindCirce() parameters\n",
      "thresh = 175\n",
      "dist = 250\n",
      "canny = 100\n",
      "num_cans = 0\n",
      "\n",
      "#Try to find circles that are the size of a can \n",
      "#and display them. If not, throw an exception\n",
      "while(1):\n",
      "    cv2.createTrackbar(\"thresh\",\"main\"\n",
      "    circles = new.findCircle(thresh= thresh,distance= dist, canny= canny)\n",
      "    for circle in circles:\n",
      "        if circle.diameter() in range(170, 300):\n",
      "            circle.draw(color=Color.GOLD,width = 3)\n",
      "            num_cans += 1\n",
      "            \n",
      "    new = new.applyLayers()\n",
      "    orig.sideBySide(new,side='bottom').show()"
     ],
     "language": "python",
     "metadata": {},
     "outputs": [
      {
       "ename": "SyntaxError",
       "evalue": "invalid syntax (<ipython-input-3-ee35251be5e9>, line 22)",
       "output_type": "pyerr",
       "traceback": [
        "\u001b[0;36m  File \u001b[0;32m\"<ipython-input-3-ee35251be5e9>\"\u001b[0;36m, line \u001b[0;32m22\u001b[0m\n\u001b[0;31m    circles = new.findCircle(thresh= thresh,distance= dist, canny= canny)\u001b[0m\n\u001b[0m          ^\u001b[0m\n\u001b[0;31mSyntaxError\u001b[0m\u001b[0;31m:\u001b[0m invalid syntax\n"
       ]
      }
     ],
     "prompt_number": 3
    },
    {
     "cell_type": "code",
     "collapsed": false,
     "input": [],
     "language": "python",
     "metadata": {},
     "outputs": []
    }
   ],
   "metadata": {}
  }
 ]
}