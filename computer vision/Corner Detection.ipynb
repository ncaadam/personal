{
 "metadata": {
  "name": "",
  "signature": "sha256:4e7c9b039da44d69c3704a1408f62898a501b4b13d3d2d6af64362e3f2b3611e"
 },
 "nbformat": 3,
 "nbformat_minor": 0,
 "worksheets": [
  {
   "cells": [
    {
     "cell_type": "markdown",
     "metadata": {},
     "source": [
      "Corner detection\n",
      "================\n",
      "\n",
      "Detect corner points using the Harris corner detector and determine subpixel\n",
      "position of corners.\n",
      "\n",
      "[1] http://en.wikipedia.org/wiki/Corner_detection\n",
      "\n",
      "[2] http://en.wikipedia.org/wiki/Interest_point_detection"
     ]
    },
    {
     "cell_type": "code",
     "collapsed": false,
     "input": [
      "from matplotlib import pyplot as plt\n",
      "\n",
      "from skimage import data\n",
      "from skimage.feature import corner_harris, corner_subpix, corner_peaks\n",
      "from skimage.transform import warp, AffineTransform\n",
      "from skimage.draw import ellipse\n",
      "import skimage.io as io"
     ],
     "language": "python",
     "metadata": {},
     "outputs": [],
     "prompt_number": 2
    },
    {
     "cell_type": "code",
     "collapsed": false,
     "input": [
      "tform = AffineTransform(scale=(1.3, 1.1), rotation=1, shear=0.7,\n",
      "                        translation=(210, 50))\n",
      "imageRaw = io.imread(\"../cokecantest.jpg\")\n",
      "image = warp(imageRaw, tform.inverse, output_shape=(800, 600))\n",
      "\n",
      "rr, cc = ellipse(310, 175, 10, 100)\n",
      "image[rr, cc] = 1\n",
      "image[180:230, 10:60] = 1\n",
      "image[230:280, 60:110] = 1\n",
      "\n",
      "coords = corner_peaks(corner_harris(image), min_distance=5)\n",
      "coords_subpix = corner_subpix(image, coords)\n",
      "\n",
      "fig, ax = plt.subplots()\n",
      "ax.imshow(image, interpolation='nearest', cmap=plt.cm.gray)\n",
      "ax.plot(coords[:, 1], coords[:, 0], '.b', markersize=3)\n",
      "ax.plot(coords_subpix[:, 1], coords_subpix[:, 0], '+r', markersize=15)\n",
      "ax.axis((0, 350, 350, 0))\n",
      "plt.show()"
     ],
     "language": "python",
     "metadata": {},
     "outputs": [
      {
       "ename": "ValueError",
       "evalue": "operands could not be broadcast together with shapes (11,11,3) (11,11) ",
       "output_type": "pyerr",
       "traceback": [
        "\u001b[0;31m---------------------------------------------------------------------------\u001b[0m\n\u001b[0;31mValueError\u001b[0m                                Traceback (most recent call last)",
        "\u001b[0;32m<ipython-input-5-9e46099cd04d>\u001b[0m in \u001b[0;36m<module>\u001b[0;34m()\u001b[0m\n\u001b[1;32m     10\u001b[0m \u001b[0;34m\u001b[0m\u001b[0m\n\u001b[1;32m     11\u001b[0m \u001b[0mcoords\u001b[0m \u001b[0;34m=\u001b[0m \u001b[0mcorner_peaks\u001b[0m\u001b[0;34m(\u001b[0m\u001b[0mcorner_harris\u001b[0m\u001b[0;34m(\u001b[0m\u001b[0mimage\u001b[0m\u001b[0;34m)\u001b[0m\u001b[0;34m,\u001b[0m \u001b[0mmin_distance\u001b[0m\u001b[0;34m=\u001b[0m\u001b[0;36m5\u001b[0m\u001b[0;34m)\u001b[0m\u001b[0;34m\u001b[0m\u001b[0m\n\u001b[0;32m---> 12\u001b[0;31m \u001b[0mcoords_subpix\u001b[0m \u001b[0;34m=\u001b[0m \u001b[0mcorner_subpix\u001b[0m\u001b[0;34m(\u001b[0m\u001b[0mimage\u001b[0m\u001b[0;34m,\u001b[0m \u001b[0mcoords\u001b[0m\u001b[0;34m)\u001b[0m\u001b[0;34m\u001b[0m\u001b[0m\n\u001b[0m\u001b[1;32m     13\u001b[0m \u001b[0;34m\u001b[0m\u001b[0m\n\u001b[1;32m     14\u001b[0m \u001b[0mfig\u001b[0m\u001b[0;34m,\u001b[0m \u001b[0max\u001b[0m \u001b[0;34m=\u001b[0m \u001b[0mplt\u001b[0m\u001b[0;34m.\u001b[0m\u001b[0msubplots\u001b[0m\u001b[0;34m(\u001b[0m\u001b[0;34m)\u001b[0m\u001b[0;34m\u001b[0m\u001b[0m\n",
        "\u001b[0;32m/usr/local/lib/python2.7/dist-packages/skimage/feature/corner.pyc\u001b[0m in \u001b[0;36mcorner_subpix\u001b[0;34m(image, corners, window_size, alpha)\u001b[0m\n\u001b[1;32m    396\u001b[0m         \u001b[0;31m# sum of squared differences weighted with coordinates\u001b[0m\u001b[0;34m\u001b[0m\u001b[0;34m\u001b[0m\u001b[0m\n\u001b[1;32m    397\u001b[0m         \u001b[0;31m# (mean instead of gaussian filter)\u001b[0m\u001b[0;34m\u001b[0m\u001b[0;34m\u001b[0m\u001b[0m\n\u001b[0;32m--> 398\u001b[0;31m         \u001b[0mbxx_x\u001b[0m \u001b[0;34m=\u001b[0m \u001b[0mnp\u001b[0m\u001b[0;34m.\u001b[0m\u001b[0msum\u001b[0m\u001b[0;34m(\u001b[0m\u001b[0mwinx_winx\u001b[0m \u001b[0;34m*\u001b[0m \u001b[0mx\u001b[0m\u001b[0;34m)\u001b[0m\u001b[0;34m\u001b[0m\u001b[0m\n\u001b[0m\u001b[1;32m    399\u001b[0m         \u001b[0mbxx_y\u001b[0m \u001b[0;34m=\u001b[0m \u001b[0mnp\u001b[0m\u001b[0;34m.\u001b[0m\u001b[0msum\u001b[0m\u001b[0;34m(\u001b[0m\u001b[0mwinx_winx\u001b[0m \u001b[0;34m*\u001b[0m \u001b[0my\u001b[0m\u001b[0;34m)\u001b[0m\u001b[0;34m\u001b[0m\u001b[0m\n\u001b[1;32m    400\u001b[0m         \u001b[0mbxy_x\u001b[0m \u001b[0;34m=\u001b[0m \u001b[0mnp\u001b[0m\u001b[0;34m.\u001b[0m\u001b[0msum\u001b[0m\u001b[0;34m(\u001b[0m\u001b[0mwinx_winy\u001b[0m \u001b[0;34m*\u001b[0m \u001b[0mx\u001b[0m\u001b[0;34m)\u001b[0m\u001b[0;34m\u001b[0m\u001b[0m\n",
        "\u001b[0;31mValueError\u001b[0m: operands could not be broadcast together with shapes (11,11,3) (11,11) "
       ]
      }
     ],
     "prompt_number": 5
    },
    {
     "cell_type": "code",
     "collapsed": false,
     "input": [],
     "language": "python",
     "metadata": {},
     "outputs": []
    }
   ],
   "metadata": {}
  }
 ]
}