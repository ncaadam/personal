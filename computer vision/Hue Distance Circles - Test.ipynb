{
 "metadata": {
  "name": "",
  "signature": "sha256:e724be04da9a19a7edfa57fbcad829d7ee7f4e998201f25109980866372fd816"
 },
 "nbformat": 3,
 "nbformat_minor": 0,
 "worksheets": [
  {
   "cells": [
    {
     "cell_type": "code",
     "collapsed": false,
     "input": [
      "from SimpleCV import Image, Color, Display\n",
      "import pylab as plt"
     ],
     "language": "python",
     "metadata": {},
     "outputs": [],
     "prompt_number": 4
    },
    {
     "cell_type": "code",
     "collapsed": false,
     "input": [
      "# Load an image from imgur.\n",
      "img = Image(\"../Cooler Images/coke_test.jpg\")\n",
      "scaledImg = img.crop(0,800,2000,2000)\n",
      "scaledImg = scaledImg.scale(.4)\n",
      "scaledImg.clearLayers()\n",
      "\n",
      "peaks = scaledImg.huePeaks()\n",
      "hist = scaledImg.hueHistogram()\n",
      "plt.plot(hist)\n",
      "\n",
      "hdist = scaledImg.hueDistance(peaks[3][0])\n",
      "#binary = scaledImg.hueDistance(peaks[3][0]).invert().threshold(110)\n",
      "circles = hdist.findCircle(canny=1,thresh=250,distance=100)\n",
      "circles.draw(width=2)\n",
      "#circles.draw()\n",
      "hdist.show()\n",
      "#binary.show()\n",
      "#output = scaledImg.binarize(120).invert().edges()\n",
      "#print output\n",
      "#feats = output.findKeypoints().draw()\n",
      "#output.show()"
     ],
     "language": "python",
     "metadata": {},
     "outputs": [
      {
       "metadata": {},
       "output_type": "pyout",
       "prompt_number": 35,
       "text": [
        "<SimpleCV.Display Object resolution:((800, 457)), Image Resolution: (800, 457) at memory location: (0x7fb84004d200)>"
       ]
      }
     ],
     "prompt_number": 35
    },
    {
     "cell_type": "code",
     "collapsed": false,
     "input": [],
     "language": "python",
     "metadata": {},
     "outputs": [],
     "prompt_number": 59
    },
    {
     "cell_type": "code",
     "collapsed": false,
     "input": [],
     "language": "python",
     "metadata": {},
     "outputs": []
    }
   ],
   "metadata": {}
  }
 ]
}