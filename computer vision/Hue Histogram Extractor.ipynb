{
 "metadata": {
  "name": "",
  "signature": "sha256:45168c6e8342d4b2addf7a34f7add61aa4bf36c4972abec38dac2539312c7ff7"
 },
 "nbformat": 3,
 "nbformat_minor": 0,
 "worksheets": [
  {
   "cells": [
    {
     "cell_type": "code",
     "collapsed": false,
     "input": [
      "import SimpleCV as s\n",
      "import numpy as np"
     ],
     "language": "python",
     "metadata": {},
     "outputs": [],
     "prompt_number": 1
    },
    {
     "cell_type": "code",
     "collapsed": false,
     "input": [
      "img = s.Image('../Cooler Images/coke_test.jpg')\n",
      "img = img.crop(0,800,2000,2000)\n",
      "#img = img.findCorners()\n",
      "img = img.scale(.4)\n",
      "num_blobs = 0\n",
      "\n",
      "hhfe = s.HueHistogramFeatureExtractor()\n",
      "#output = s.KNNClassifier(hhfe)\n",
      "new_img = hhfe.getFieldNamesextract(img)\n",
      "print new_img\n",
      "\n",
      "blobs = img.findBlobsFromHueHistogram(hhfe)\n",
      "for blob in blobs:\n",
      "    #blob.drawMinRect(color=s.Color.WHITE,width=3)\n",
      "    #print blob\n",
      "    blob.draw()\n",
      "    num_blobs += 1\n",
      "    \n",
      "print \"There are\", num_blobs, \"blobs in this image\"\n",
      "\n",
      "blobs.draw(width = -1,autocolor=True)\n",
      "\n",
      "img.show()"
     ],
     "language": "python",
     "metadata": {},
     "outputs": [
      {
       "output_type": "stream",
       "stream": "stderr",
       "text": [
        "WARNING: Not a valid roi\n"
       ]
      },
      {
       "output_type": "stream",
       "stream": "stderr",
       "text": [
        "WARNING:Main Logger:Not a valid roi\n"
       ]
      },
      {
       "output_type": "stream",
       "stream": "stderr",
       "text": [
        "WARNING: Can't do a negative crop!\n"
       ]
      },
      {
       "output_type": "stream",
       "stream": "stderr",
       "text": [
        "WARNING:Main Logger:Can't do a negative crop!\n"
       ]
      },
      {
       "ename": "AttributeError",
       "evalue": "'NoneType' object has no attribute 'toHSV'",
       "output_type": "pyerr",
       "traceback": [
        "\u001b[0;31m---------------------------------------------------------------------------\u001b[0m\n\u001b[0;31mAttributeError\u001b[0m                            Traceback (most recent call last)",
        "\u001b[0;32m<ipython-input-14-47448f20ccea>\u001b[0m in \u001b[0;36m<module>\u001b[0;34m()\u001b[0m\n\u001b[1;32m     10\u001b[0m \u001b[0;32mprint\u001b[0m \u001b[0mnew_img\u001b[0m\u001b[0;34m\u001b[0m\u001b[0m\n\u001b[1;32m     11\u001b[0m \u001b[0;34m\u001b[0m\u001b[0m\n\u001b[0;32m---> 12\u001b[0;31m \u001b[0mblobs\u001b[0m \u001b[0;34m=\u001b[0m \u001b[0mimg\u001b[0m\u001b[0;34m.\u001b[0m\u001b[0mfindBlobsFromHueHistogram\u001b[0m\u001b[0;34m(\u001b[0m\u001b[0mhhfe\u001b[0m\u001b[0;34m)\u001b[0m\u001b[0;34m\u001b[0m\u001b[0m\n\u001b[0m\u001b[1;32m     13\u001b[0m \u001b[0;32mfor\u001b[0m \u001b[0mblob\u001b[0m \u001b[0;32min\u001b[0m \u001b[0mblobs\u001b[0m\u001b[0;34m:\u001b[0m\u001b[0;34m\u001b[0m\u001b[0m\n\u001b[1;32m     14\u001b[0m     \u001b[0;31m#blob.drawMinRect(color=s.Color.WHITE,width=3)\u001b[0m\u001b[0;34m\u001b[0m\u001b[0;34m\u001b[0m\u001b[0m\n",
        "\u001b[0;32m/usr/local/lib/python2.7/dist-packages/SimpleCV/ImageClass.pyc\u001b[0m in \u001b[0;36mfindBlobsFromHueHistogram\u001b[0;34m(self, model, threshold, smooth, minsize, maxsize)\u001b[0m\n\u001b[1;32m  14717\u001b[0m \u001b[0;34m\u001b[0m\u001b[0m\n\u001b[1;32m  14718\u001b[0m         \"\"\"\n\u001b[0;32m> 14719\u001b[0;31m         \u001b[0mnewMask\u001b[0m \u001b[0;34m=\u001b[0m \u001b[0mself\u001b[0m\u001b[0;34m.\u001b[0m\u001b[0mbackProjectHueHistogram\u001b[0m\u001b[0;34m(\u001b[0m\u001b[0mmodel\u001b[0m\u001b[0;34m,\u001b[0m\u001b[0msmooth\u001b[0m\u001b[0;34m,\u001b[0m\u001b[0mfullColor\u001b[0m\u001b[0;34m=\u001b[0m\u001b[0mFalse\u001b[0m\u001b[0;34m,\u001b[0m\u001b[0mthreshold\u001b[0m\u001b[0;34m=\u001b[0m\u001b[0mthreshold\u001b[0m\u001b[0;34m)\u001b[0m\u001b[0;34m\u001b[0m\u001b[0m\n\u001b[0m\u001b[1;32m  14720\u001b[0m         \u001b[0;32mreturn\u001b[0m \u001b[0mself\u001b[0m\u001b[0;34m.\u001b[0m\u001b[0mfindBlobsFromMask\u001b[0m\u001b[0;34m(\u001b[0m\u001b[0mnewMask\u001b[0m\u001b[0;34m,\u001b[0m\u001b[0mminsize\u001b[0m\u001b[0;34m=\u001b[0m\u001b[0mminsize\u001b[0m\u001b[0;34m,\u001b[0m\u001b[0mmaxsize\u001b[0m\u001b[0;34m=\u001b[0m\u001b[0mmaxsize\u001b[0m\u001b[0;34m)\u001b[0m\u001b[0;34m\u001b[0m\u001b[0m\n\u001b[1;32m  14721\u001b[0m \u001b[0;34m\u001b[0m\u001b[0m\n",
        "\u001b[0;32m/usr/local/lib/python2.7/dist-packages/SimpleCV/ImageClass.pyc\u001b[0m in \u001b[0;36mbackProjectHueHistogram\u001b[0;34m(self, model, smooth, fullColor, threshold)\u001b[0m\n\u001b[1;32m  14656\u001b[0m             \u001b[0mmodel\u001b[0m \u001b[0;34m=\u001b[0m \u001b[0mmodel\u001b[0m\u001b[0;34m.\u001b[0m\u001b[0mgetNormalizedHueHistogram\u001b[0m\u001b[0;34m(\u001b[0m\u001b[0;34m)\u001b[0m\u001b[0;34m\u001b[0m\u001b[0m\n\u001b[1;32m  14657\u001b[0m         \u001b[0;32mif\u001b[0m\u001b[0;34m(\u001b[0m\u001b[0;32mnot\u001b[0m \u001b[0misinstance\u001b[0m\u001b[0;34m(\u001b[0m\u001b[0mmodel\u001b[0m\u001b[0;34m,\u001b[0m\u001b[0mnp\u001b[0m\u001b[0;34m.\u001b[0m\u001b[0mndarray\u001b[0m\u001b[0;34m)\u001b[0m \u001b[0;32mor\u001b[0m  \u001b[0mmodel\u001b[0m\u001b[0;34m.\u001b[0m\u001b[0mshape\u001b[0m \u001b[0;34m!=\u001b[0m \u001b[0;34m(\u001b[0m\u001b[0;36m180\u001b[0m\u001b[0;34m,\u001b[0m\u001b[0;36m256\u001b[0m\u001b[0;34m)\u001b[0m \u001b[0;34m)\u001b[0m\u001b[0;34m:\u001b[0m\u001b[0;34m\u001b[0m\u001b[0m\n\u001b[0;32m> 14658\u001b[0;31m             \u001b[0mmodel\u001b[0m \u001b[0;34m=\u001b[0m \u001b[0mself\u001b[0m\u001b[0;34m.\u001b[0m\u001b[0mgetNormalizedHueHistogram\u001b[0m\u001b[0;34m(\u001b[0m\u001b[0mmodel\u001b[0m\u001b[0;34m)\u001b[0m\u001b[0;34m\u001b[0m\u001b[0m\n\u001b[0m\u001b[1;32m  14659\u001b[0m         \u001b[0;32mif\u001b[0m\u001b[0;34m(\u001b[0m \u001b[0misinstance\u001b[0m\u001b[0;34m(\u001b[0m\u001b[0mmodel\u001b[0m\u001b[0;34m,\u001b[0m\u001b[0mnp\u001b[0m\u001b[0;34m.\u001b[0m\u001b[0mndarray\u001b[0m\u001b[0;34m)\u001b[0m \u001b[0;32mand\u001b[0m \u001b[0mmodel\u001b[0m\u001b[0;34m.\u001b[0m\u001b[0mshape\u001b[0m \u001b[0;34m==\u001b[0m \u001b[0;34m(\u001b[0m\u001b[0;36m180\u001b[0m\u001b[0;34m,\u001b[0m\u001b[0;36m256\u001b[0m\u001b[0;34m)\u001b[0m \u001b[0;34m)\u001b[0m\u001b[0;34m:\u001b[0m\u001b[0;34m\u001b[0m\u001b[0m\n\u001b[1;32m  14660\u001b[0m             \u001b[0mhsv\u001b[0m \u001b[0;34m=\u001b[0m \u001b[0mself\u001b[0m\u001b[0;34m.\u001b[0m\u001b[0mtoHSV\u001b[0m\u001b[0;34m(\u001b[0m\u001b[0;34m)\u001b[0m\u001b[0;34m.\u001b[0m\u001b[0mgetNumpyCv2\u001b[0m\u001b[0;34m(\u001b[0m\u001b[0;34m)\u001b[0m\u001b[0;34m\u001b[0m\u001b[0m\n",
        "\u001b[0;32m/usr/local/lib/python2.7/dist-packages/SimpleCV/ImageClass.pyc\u001b[0m in \u001b[0;36mgetNormalizedHueHistogram\u001b[0;34m(self, roi)\u001b[0m\n\u001b[1;32m  14595\u001b[0m         \u001b[0;32mif\u001b[0m\u001b[0;34m(\u001b[0m \u001b[0mroi\u001b[0m \u001b[0;34m)\u001b[0m\u001b[0;34m:\u001b[0m \u001b[0;31m# roi is anything that can be taken to be an roi\u001b[0m\u001b[0;34m\u001b[0m\u001b[0m\n\u001b[1;32m  14596\u001b[0m             \u001b[0mroi\u001b[0m \u001b[0;34m=\u001b[0m \u001b[0mROI\u001b[0m\u001b[0;34m(\u001b[0m\u001b[0mroi\u001b[0m\u001b[0;34m,\u001b[0m\u001b[0mself\u001b[0m\u001b[0;34m)\u001b[0m\u001b[0;34m\u001b[0m\u001b[0m\n\u001b[0;32m> 14597\u001b[0;31m             \u001b[0mhsv\u001b[0m \u001b[0;34m=\u001b[0m \u001b[0mroi\u001b[0m\u001b[0;34m.\u001b[0m\u001b[0mcrop\u001b[0m\u001b[0;34m(\u001b[0m\u001b[0;34m)\u001b[0m\u001b[0;34m.\u001b[0m\u001b[0mtoHSV\u001b[0m\u001b[0;34m(\u001b[0m\u001b[0;34m)\u001b[0m\u001b[0;34m.\u001b[0m\u001b[0mgetNumpyCv2\u001b[0m\u001b[0;34m(\u001b[0m\u001b[0;34m)\u001b[0m\u001b[0;34m\u001b[0m\u001b[0m\n\u001b[0m\u001b[1;32m  14598\u001b[0m         \u001b[0;32melse\u001b[0m\u001b[0;34m:\u001b[0m\u001b[0;34m\u001b[0m\u001b[0m\n\u001b[1;32m  14599\u001b[0m             \u001b[0mhsv\u001b[0m \u001b[0;34m=\u001b[0m \u001b[0mself\u001b[0m\u001b[0;34m.\u001b[0m\u001b[0mtoHSV\u001b[0m\u001b[0;34m(\u001b[0m\u001b[0;34m)\u001b[0m\u001b[0;34m.\u001b[0m\u001b[0mgetNumpyCv2\u001b[0m\u001b[0;34m(\u001b[0m\u001b[0;34m)\u001b[0m\u001b[0;34m\u001b[0m\u001b[0m\n",
        "\u001b[0;31mAttributeError\u001b[0m: 'NoneType' object has no attribute 'toHSV'"
       ]
      },
      {
       "output_type": "stream",
       "stream": "stdout",
       "text": [
        "[0.0024421847513622515, 0.00013077616166816836, 0.00011069635731754408, 0.0008035354185437851, 0.005033680868408633, 0.024438151628266187, 0.0026011069635731754, 0.00018363581756553824, 0.00010486120049770455, 0.00022431029304500794, 0.022463980778306948, 0.004208177800660746, 0.0, 0.0, 0.0, 0.0]\n"
       ]
      }
     ],
     "prompt_number": 14
    },
    {
     "cell_type": "code",
     "collapsed": false,
     "input": [
      "counter = 0\n",
      "for b in blobs:\n",
      "    save_path = \"./train/test/img-\" + str(counter) + \".png\"\n",
      "    img.crop(b).save(save_path)\n",
      "    counter += 1\n",
      "\n",
      "    #blobs = img.binarize(thresh=128).findBlobsFromWatershed()\n",
      "#img = img.binarize(thresh=60).invert()\n",
      "#findBlobs(minsize=15000)\n",
      "#blob = blobs[0]\n",
      "#src = blob.mImg\n",
      "#src = src.sideBySide(blob.getHullEdgeImage())\n",
      "#blobs.show()\n",
      "#img.applyLayers().show()\n",
      "#img.clearLayers()\n",
      "#blobs[-1].show()\n",
      "#img.crop(blobs[-1]).show()"
     ],
     "language": "python",
     "metadata": {},
     "outputs": [],
     "prompt_number": 14
    },
    {
     "cell_type": "code",
     "collapsed": false,
     "input": [],
     "language": "python",
     "metadata": {},
     "outputs": []
    }
   ],
   "metadata": {}
  }
 ]
}