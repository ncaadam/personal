{
 "metadata": {
  "name": ""
 },
 "nbformat": 3,
 "nbformat_minor": 0,
 "worksheets": [
  {
   "cells": [
    {
     "cell_type": "code",
     "collapsed": false,
     "input": [
      "import numpy as np\n",
      "import cv2\n",
      "import SimpleCV as scv"
     ],
     "language": "python",
     "metadata": {},
     "outputs": [],
     "prompt_number": 1
    },
    {
     "cell_type": "code",
     "collapsed": false,
     "input": [
      "cc = cv2.CascadeClassifier(\"../Cascades/cascade_works.xml\")"
     ],
     "language": "python",
     "metadata": {},
     "outputs": [],
     "prompt_number": 2
    },
    {
     "cell_type": "code",
     "collapsed": false,
     "input": [
      "img = cv2.imread(\"../please_work.jpg\")\n",
      "img = cv2.resize(img,(80,160))\n",
      "gray = cv2.cvtColor(img, cv2.COLOR_BGR2GRAY)\n",
      "gray = cv2.equalizeHist(gray)"
     ],
     "language": "python",
     "metadata": {},
     "outputs": [],
     "prompt_number": 3
    },
    {
     "cell_type": "code",
     "collapsed": false,
     "input": [
      "can = cc.detectMultiScale(gray,scaleFactor = 1.1, minNeighbors=3)"
     ],
     "language": "python",
     "metadata": {},
     "outputs": [],
     "prompt_number": 4
    },
    {
     "cell_type": "code",
     "collapsed": false,
     "input": [
      "rects = cc.detectMultiScale(gray, scaleFactor=1.1, minNeighbors=2,flags=cv2.cv.CV_HAAR_SCALE_IMAGE)\n",
      "len(rects)"
     ],
     "language": "python",
     "metadata": {},
     "outputs": [
      {
       "metadata": {},
       "output_type": "pyout",
       "prompt_number": 20,
       "text": [
        "3"
       ]
      }
     ],
     "prompt_number": 20
    },
    {
     "cell_type": "code",
     "collapsed": false,
     "input": [
      "for scale in [float(i)/10 for i in range(11,19)]:\n",
      "    for neighbors in range(2,10):\n",
      "        rects = cc.detectMultiScale(gray, scaleFactor=scale, minNeighbors=neighbors,\n",
      "                                    flags=cv2.cv.CV_HAAR_SCALE_IMAGE)\n",
      "        print 'scale: %s, neighbors: %s, len rects: %d' % (scale, neighbors, len(rects))"
     ],
     "language": "python",
     "metadata": {},
     "outputs": [
      {
       "output_type": "stream",
       "stream": "stdout",
       "text": [
        "scale: 1.1, neighbors: 2, len rects: 0\n",
        "scale: 1.1, neighbors: 3, len rects: 0\n",
        "scale: 1.1, neighbors: 4, len rects: 0\n",
        "scale: 1.1, neighbors: 5, len rects: 0\n",
        "scale: 1.1, neighbors: 6, len rects: 0\n",
        "scale: 1.1, neighbors: 7, len rects: 0\n",
        "scale: 1.1, neighbors: 8, len rects: 0\n",
        "scale: 1.1, neighbors: 9, len rects: 0\n",
        "scale: 1.2, neighbors: 2, len rects: 0\n",
        "scale: 1.2, neighbors: 3, len rects: 0\n",
        "scale: 1.2, neighbors: 4, len rects: 0\n",
        "scale: 1.2, neighbors: 5, len rects: 0\n",
        "scale: 1.2, neighbors: 6, len rects: 0\n",
        "scale: 1.2, neighbors: 7, len rects: 0\n",
        "scale: 1.2, neighbors: 8, len rects: 0\n",
        "scale: 1.2, neighbors: 9, len rects: 0\n",
        "scale: 1.3, neighbors: 2, len rects: 0\n",
        "scale: 1.3, neighbors: 3, len rects: 0\n",
        "scale: 1.3, neighbors: 4, len rects: 0\n",
        "scale: 1.3, neighbors: 5, len rects: 0\n",
        "scale: 1.3, neighbors: 6, len rects: 0\n",
        "scale: 1.3, neighbors: 7, len rects: 0\n",
        "scale: 1.3, neighbors: 8, len rects: 0\n",
        "scale: 1.3, neighbors: 9, len rects: 0\n",
        "scale: 1.4, neighbors: 2, len rects: 0\n",
        "scale: 1.4, neighbors: 3, len rects: 0\n",
        "scale: 1.4, neighbors: 4, len rects: 0\n",
        "scale: 1.4, neighbors: 5, len rects: 0\n",
        "scale: 1.4, neighbors: 6, len rects: 0\n",
        "scale: 1.4, neighbors: 7, len rects: 0\n",
        "scale: 1.4, neighbors: 8, len rects: 0\n",
        "scale: 1.4, neighbors: 9, len rects: 0\n",
        "scale: 1.5, neighbors: 2, len rects: 0\n",
        "scale: 1.5, neighbors: 3, len rects: 0\n",
        "scale: 1.5, neighbors: 4, len rects: 0\n",
        "scale: 1.5, neighbors: 5, len rects: 0\n",
        "scale: 1.5, neighbors: 6, len rects: 0\n",
        "scale: 1.5, neighbors: 7, len rects: 0\n",
        "scale: 1.5, neighbors: 8, len rects: 0\n",
        "scale: 1.5, neighbors: 9, len rects: 0\n",
        "scale: 1.6, neighbors: 2, len rects: 0\n",
        "scale: 1.6, neighbors: 3, len rects: 0\n",
        "scale: 1.6, neighbors: 4, len rects: 0\n",
        "scale: 1.6, neighbors: 5, len rects: 0\n",
        "scale: 1.6, neighbors: 6, len rects: 0\n",
        "scale: 1.6, neighbors: 7, len rects: 0\n",
        "scale: 1.6, neighbors: 8, len rects: 0\n",
        "scale: 1.6, neighbors: 9, len rects: 0\n",
        "scale: 1.7, neighbors: 2, len rects: 0\n",
        "scale: 1.7, neighbors: 3, len rects: 0\n",
        "scale: 1.7, neighbors: 4, len rects: 0\n",
        "scale: 1.7, neighbors: 5, len rects: 0\n",
        "scale: 1.7, neighbors: 6, len rects: 0\n",
        "scale: 1.7, neighbors: 7, len rects: 0\n",
        "scale: 1.7, neighbors: 8, len rects: 0\n",
        "scale: 1.7, neighbors: 9, len rects: 0\n",
        "scale: 1.8, neighbors: 2, len rects: 0\n",
        "scale: 1.8, neighbors: 3, len rects: 0\n",
        "scale: 1.8, neighbors: 4, len rects: 0\n",
        "scale: 1.8, neighbors: 5, len rects: 0\n",
        "scale: 1.8, neighbors: 6, len rects: 0\n",
        "scale: 1.8, neighbors: 7, len rects: 0\n",
        "scale: 1.8, neighbors: 8, len rects: 0\n",
        "scale: 1.8, neighbors: 9, len rects: 0\n"
       ]
      }
     ],
     "prompt_number": 5
    },
    {
     "cell_type": "code",
     "collapsed": false,
     "input": [
      "for (x,y,w,h) in rects:\n",
      "    cv2.rectangle(img, (x,y), (x+w,y+h), (255,0,0),2)\n",
      "    roi_gray = gray[y:y+h, x:x+w]\n",
      "    roi_color = img[y:y+h, x:x+w]"
     ],
     "language": "python",
     "metadata": {},
     "outputs": [],
     "prompt_number": 21
    },
    {
     "cell_type": "code",
     "collapsed": false,
     "input": [
      "cv2.imshow('img',img)\n",
      "cv2.waitKey(0)\n",
      "cv2.destroyAllWindows()"
     ],
     "language": "python",
     "metadata": {},
     "outputs": [],
     "prompt_number": 22
    },
    {
     "cell_type": "code",
     "collapsed": false,
     "input": [],
     "language": "python",
     "metadata": {},
     "outputs": []
    }
   ],
   "metadata": {}
  }
 ]
}