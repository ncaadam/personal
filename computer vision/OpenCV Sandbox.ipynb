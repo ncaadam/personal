{
 "metadata": {
  "name": ""
 },
 "nbformat": 3,
 "nbformat_minor": 0,
 "worksheets": [
  {
   "cells": [
    {
     "cell_type": "code",
     "collapsed": false,
     "input": [
      "import cv2 \n",
      "import numpy as np "
     ],
     "language": "python",
     "metadata": {},
     "outputs": [],
     "prompt_number": 2
    },
    {
     "cell_type": "code",
     "collapsed": false,
     "input": [
      "img =cv2.imread('../featureEx.jpg') \n",
      "grey_img1 =cv2.cvtColor(img1,cv2.COLOR_BGR2GRAY)"
     ],
     "language": "python",
     "metadata": {},
     "outputs": [],
     "prompt_number": 5
    },
    {
     "cell_type": "code",
     "collapsed": false,
     "input": [
      "detector = cv2.FeatureDetector_create(\"SIFT\")\n",
      "descriptor = cv2.DescriptorExtractor_create(\"SIFT\")\n",
      "\n",
      "skp = detector.detect(img)\n",
      "skp, sd = descriptor.compute(img, skp)\n",
      "\n",
      "tkp = detector.detect(template)\n",
      "tkp, td = descriptor.compute(template, tkp)"
     ],
     "language": "python",
     "metadata": {},
     "outputs": [],
     "prompt_number": "*"
    },
    {
     "cell_type": "code",
     "collapsed": false,
     "input": [],
     "language": "python",
     "metadata": {},
     "outputs": []
    }
   ],
   "metadata": {}
  }
 ]
}