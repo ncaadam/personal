{
 "metadata": {
  "name": ""
 },
 "nbformat": 3,
 "nbformat_minor": 0,
 "worksheets": [
  {
   "cells": [
    {
     "cell_type": "code",
     "collapsed": false,
     "input": [
      "import cv2\n",
      "import numpy as np\n",
      "import itertools\n",
      "import sys"
     ],
     "language": "python",
     "metadata": {},
     "outputs": [],
     "prompt_number": 2
    },
    {
     "cell_type": "code",
     "collapsed": false,
     "input": [
      "img = cv2.imread(\"../5.png\")\n",
      "temp = cv2.imread(\"../Cooler Images/coke_test.jpg\")\n",
      "distance = 50\n",
      "num = 20\n",
      "\n",
      "detector = cv2.FeatureDetector_create(\"SURF\")\n",
      "descriptor = cv2.DescriptorExtractor_create(\"SURF\")\n",
      "\n",
      "skp = detector.detect(img)\n",
      "skp, sd = descriptor.compute(img, skp)\n",
      "\n",
      "tkp = detector.detect(temp)\n",
      "tkp, td = descriptor.compute(temp, tkp)\n",
      "\n",
      "flann_params = dict(algorithm=1, trees=4)\n",
      "flann = cv2.flann_Index(sd, flann_params)\n",
      "idx, dist = flann.knnSearch(td, 1, params={})\n",
      "del flann\n",
      "\n",
      "dist = dist[:,0]/2500.0\n",
      "print type(dist)\n",
      "dist = dist.reshape(-1,).tolist()\n",
      "idx = idx.reshape(-1).tolist()\n",
      "indices = range(len(dist))\n",
      "indices.sort(key=lambda i: dist[i])\n",
      "dist = [dist[i] for i in indices]\n",
      "idx = [idx[i] for i in indices]\n",
      "skp_final = []\n",
      "for i, dis in itertools.izip(idx, dist):\n",
      "    if dis < distance:\n",
      "        skp_final.append(skp[i])\n",
      "\n",
      "flann = cv2.flann_Index(td, flann_params)\n",
      "idx, dist = flann.knnSearch(sd, 1, params={})\n",
      "del flann\n",
      "\n",
      "dist = dist[:,0]/2500.0\n",
      "dist = dist.reshape(-1,).tolist()\n",
      "idx = idx.reshape(-1).tolist()\n",
      "indices = range(len(dist))\n",
      "indices.sort(key=lambda i: dist[i])\n",
      "dist = [dist[i] for i in indices]\n",
      "idx = [idx[i] for i in indices]\n",
      "tkp_final = []\n",
      "for i, dis in itertools.izip(idx, dist):\n",
      "    if dis < distance:\n",
      "        tkp_final.append(tkp[i])"
     ],
     "language": "python",
     "metadata": {},
     "outputs": [
      {
       "ename": "error",
       "evalue": "/home/ncaadam/opencv-2.4.9/modules/features2d/src/matchers.cpp:488: error: (-5) Unknown matcher name in function create\n",
       "output_type": "pyerr",
       "traceback": [
        "\u001b[0;31m---------------------------------------------------------------------------\u001b[0m\n\u001b[0;31merror\u001b[0m                                     Traceback (most recent call last)",
        "\u001b[0;32m<ipython-input-10-ef906723d138>\u001b[0m in \u001b[0;36m<module>\u001b[0;34m()\u001b[0m\n\u001b[1;32m      7\u001b[0m \u001b[0mdescriptor\u001b[0m \u001b[0;34m=\u001b[0m \u001b[0mcv2\u001b[0m\u001b[0;34m.\u001b[0m\u001b[0mDescriptorExtractor_create\u001b[0m\u001b[0;34m(\u001b[0m\u001b[0;34m\"SURF\"\u001b[0m\u001b[0;34m)\u001b[0m\u001b[0;34m\u001b[0m\u001b[0m\n\u001b[1;32m      8\u001b[0m \u001b[0;34m\u001b[0m\u001b[0m\n\u001b[0;32m----> 9\u001b[0;31m \u001b[0mmatcher\u001b[0m \u001b[0;34m=\u001b[0m \u001b[0mcv2\u001b[0m\u001b[0;34m.\u001b[0m\u001b[0mDescriptorMatcher_create\u001b[0m\u001b[0;34m(\u001b[0m\u001b[0;34m\"SURF\"\u001b[0m\u001b[0;34m)\u001b[0m\u001b[0;34m\u001b[0m\u001b[0m\n\u001b[0m\u001b[1;32m     10\u001b[0m \u001b[0;34m\u001b[0m\u001b[0m\n\u001b[1;32m     11\u001b[0m \u001b[0mskp\u001b[0m \u001b[0;34m=\u001b[0m \u001b[0mdetector\u001b[0m\u001b[0;34m.\u001b[0m\u001b[0mdetect\u001b[0m\u001b[0;34m(\u001b[0m\u001b[0mimg\u001b[0m\u001b[0;34m)\u001b[0m\u001b[0;34m\u001b[0m\u001b[0m\n",
        "\u001b[0;31merror\u001b[0m: /home/ncaadam/opencv-2.4.9/modules/features2d/src/matchers.cpp:488: error: (-5) Unknown matcher name in function create\n"
       ]
      }
     ],
     "prompt_number": 10
    },
    {
     "cell_type": "code",
     "collapsed": false,
     "input": [
      "h1, w1 = img.shape[:2]\n",
      "h2, w2 = temp.shape[:2]\n",
      "nWidth = w1+w2\n",
      "nHeight = max(h1, h2)\n",
      "print nHeight\n",
      "\"\"\"hdif = (h1-h2)/2\"\"\"\n",
      "if (h1-h2)/2 < 0:\n",
      "    hdif = 0\n",
      "else:\n",
      "    hdif = (h1-h2)/2\n",
      "print hdif\n",
      "newimg = np.zeros((nHeight, nWidth, 3), np.uint8)\n",
      "newimg[hdif:hdif+h2, :w2] = temp\n",
      "newimg[:h1, w2:w1+w2] = img\n",
      "\n",
      "maxlen = min(len(skp), len(tkp))\n",
      "print maxlen\n",
      "if num < 0 or num > maxlen:\n",
      "    num = maxlen\n",
      "for i in range(num):\n",
      "    pt_a = (int(tkp_final[i].pt[0]), int(tkp_final[i].pt[1]+hdif))\n",
      "    pt_b = (int(skp_final[i].pt[0]+w2), int(skp_final[i].pt[1]))\n",
      "    cv2.line(newimg, pt_a, pt_b, (255, 0, 0))"
     ],
     "language": "python",
     "metadata": {},
     "outputs": [
      {
       "output_type": "stream",
       "stream": "stdout",
       "text": [
        "1944\n",
        "0\n",
        "734\n"
       ]
      }
     ],
     "prompt_number": 8
    },
    {
     "cell_type": "code",
     "collapsed": false,
     "input": [
      "height, width = newimg.shape[:2]\n",
      "newimg = cv2.resize(newimg,(int(.5*width), int(.5*height)), interpolation = cv2.INTER_CUBIC)\n",
      "cv2.imshow(\"image\", newimg)\n",
      "cv2.waitKey(0)"
     ],
     "language": "python",
     "metadata": {},
     "outputs": [
      {
       "metadata": {},
       "output_type": "pyout",
       "prompt_number": 9,
       "text": [
        "27"
       ]
      }
     ],
     "prompt_number": 9
    },
    {
     "cell_type": "code",
     "collapsed": false,
     "input": [],
     "language": "python",
     "metadata": {},
     "outputs": []
    }
   ],
   "metadata": {}
  }
 ]
}