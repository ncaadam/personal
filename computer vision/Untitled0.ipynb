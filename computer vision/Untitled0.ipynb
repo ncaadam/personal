{
 "metadata": {
  "name": ""
 },
 "nbformat": 3,
 "nbformat_minor": 0,
 "worksheets": [
  {
   "cells": [
    {
     "cell_type": "code",
     "collapsed": false,
     "input": [
      "# This is a standalone program. Pass an image name as a first parameter of the program.\n",
      "\n",
      "import sys\n",
      "from math import sin, cos, sqrt, pi\n",
      "import cv2 as cv\n",
      "import urllib2\n",
      "\n",
      "# toggle between CV_HOUGH_STANDARD and CV_HOUGH_PROBILISTIC\n",
      "USE_STANDARD = True\n",
      "\n",
      "src = cv.imread('../Cooler Images/coke_test.jpg',0)\n",
      "\n",
      "\n",
      "cv.namedWindow(\"Source\", 1)\n",
      "cv.namedWindow(\"Hough\", 1)\n",
      "\n",
      "while True:\n",
      "    dst = cv.cv.CreateImage(cv.cv.GetSize(src), 8, 1)\n",
      "    color_dst = cv.cv.CreateImage(cv.cv.GetSize(src), 8, 3)\n",
      "    storage = cv.cv.CreateMemStorage(0)\n",
      "    lines = 0\n",
      "    cv.Canny(src, dst, 50, 200, 3)\n",
      "    cv.CvtColor(dst, color_dst, cv.CV_GRAY2BGR)\n",
      "\n",
      "if USE_STANDARD:\n",
      "    lines = cv.HoughLines2(dst, storage, cv.CV_HOUGH_STANDARD, 1, pi / 180, 100, 0, 0)\n",
      "    for (rho, theta) in lines[:100]:\n",
      "        a = cos(theta)\n",
      "        b = sin(theta)\n",
      "        x0 = a * rho\n",
      "        y0 = b * rho\n",
      "        pt1 = (cv.Round(x0 + 1000*(-b)), cv.Round(y0 + 1000*(a)))\n",
      "        pt2 = (cv.Round(x0 - 1000*(-b)), cv.Round(y0 - 1000*(a)))\n",
      "        cv.Line(color_dst, pt1, pt2, cv.RGB(255, 0, 0), 3, 8)\n",
      "else:\n",
      "    lines = cv.HoughLines2(dst, storage, cv.CV_HOUGH_PROBABILISTIC, 1, pi / 180, 50, 50, 10)\n",
      "    for line in lines:\n",
      "        cv.Line(color_dst, line[0], line[1], cv.CV_RGB(255, 0, 0), 3, 8)\n",
      "\n",
      "w,h = src.shape[:2]\n",
      "h,w = int(h*.2),int(w*.2)\n",
      "src = cv2.resize(src,(h,w))\n",
      "\n",
      "cv.ShowImage(\"Source\", src)\n",
      "cv.ShowImage(\"Hough\", color_dst)\n",
      "\n",
      "k = cv.WaitKey(0) % 0x100\n",
      "if k == ord(' '):\n",
      "    USE_STANDARD = not USE_STANDARD\n",
      "if k == 27:\n",
      "    break\n",
      "cv.DestroyAllWindows()\n"
     ],
     "language": "python",
     "metadata": {},
     "outputs": [
      {
       "ename": "TypeError",
       "evalue": "CvArr argument 'arr' must be IplImage, CvMat or CvMatND. Use fromarray() to convert numpy arrays to CvMat or cvMatND",
       "output_type": "pyerr",
       "traceback": [
        "\u001b[0;31m---------------------------------------------------------------------------\u001b[0m\n\u001b[0;31mTypeError\u001b[0m                                 Traceback (most recent call last)",
        "\u001b[0;32m<ipython-input-2-42b2ab5d2a1d>\u001b[0m in \u001b[0;36m<module>\u001b[0;34m()\u001b[0m\n\u001b[1;32m     16\u001b[0m \u001b[0;34m\u001b[0m\u001b[0m\n\u001b[1;32m     17\u001b[0m \u001b[0;32mwhile\u001b[0m \u001b[0mTrue\u001b[0m\u001b[0;34m:\u001b[0m\u001b[0;34m\u001b[0m\u001b[0m\n\u001b[0;32m---> 18\u001b[0;31m     \u001b[0mdst\u001b[0m \u001b[0;34m=\u001b[0m \u001b[0mcv\u001b[0m\u001b[0;34m.\u001b[0m\u001b[0mcv\u001b[0m\u001b[0;34m.\u001b[0m\u001b[0mCreateImage\u001b[0m\u001b[0;34m(\u001b[0m\u001b[0mcv\u001b[0m\u001b[0;34m.\u001b[0m\u001b[0mcv\u001b[0m\u001b[0;34m.\u001b[0m\u001b[0mGetSize\u001b[0m\u001b[0;34m(\u001b[0m\u001b[0msrc\u001b[0m\u001b[0;34m)\u001b[0m\u001b[0;34m,\u001b[0m \u001b[0;36m8\u001b[0m\u001b[0;34m,\u001b[0m \u001b[0;36m1\u001b[0m\u001b[0;34m)\u001b[0m\u001b[0;34m\u001b[0m\u001b[0m\n\u001b[0m\u001b[1;32m     19\u001b[0m     \u001b[0mcolor_dst\u001b[0m \u001b[0;34m=\u001b[0m \u001b[0mcv\u001b[0m\u001b[0;34m.\u001b[0m\u001b[0mcv\u001b[0m\u001b[0;34m.\u001b[0m\u001b[0mCreateImage\u001b[0m\u001b[0;34m(\u001b[0m\u001b[0mcv\u001b[0m\u001b[0;34m.\u001b[0m\u001b[0mcv\u001b[0m\u001b[0;34m.\u001b[0m\u001b[0mGetSize\u001b[0m\u001b[0;34m(\u001b[0m\u001b[0msrc\u001b[0m\u001b[0;34m)\u001b[0m\u001b[0;34m,\u001b[0m \u001b[0;36m8\u001b[0m\u001b[0;34m,\u001b[0m \u001b[0;36m3\u001b[0m\u001b[0;34m)\u001b[0m\u001b[0;34m\u001b[0m\u001b[0m\n\u001b[1;32m     20\u001b[0m     \u001b[0mstorage\u001b[0m \u001b[0;34m=\u001b[0m \u001b[0mcv\u001b[0m\u001b[0;34m.\u001b[0m\u001b[0mcv\u001b[0m\u001b[0;34m.\u001b[0m\u001b[0mCreateMemStorage\u001b[0m\u001b[0;34m(\u001b[0m\u001b[0;36m0\u001b[0m\u001b[0;34m)\u001b[0m\u001b[0;34m\u001b[0m\u001b[0m\n",
        "\u001b[0;31mTypeError\u001b[0m: CvArr argument 'arr' must be IplImage, CvMat or CvMatND. Use fromarray() to convert numpy arrays to CvMat or cvMatND"
       ]
      }
     ],
     "prompt_number": 2
    },
    {
     "cell_type": "code",
     "collapsed": false,
     "input": [],
     "language": "python",
     "metadata": {},
     "outputs": []
    }
   ],
   "metadata": {}
  }
 ]
}