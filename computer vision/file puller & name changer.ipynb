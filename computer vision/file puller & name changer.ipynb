{
 "metadata": {
  "name": ""
 },
 "nbformat": 3,
 "nbformat_minor": 0,
 "worksheets": [
  {
   "cells": [
    {
     "cell_type": "code",
     "collapsed": false,
     "input": [
      "import Image\n",
      "import os\n",
      "import urllib\n",
      "import io\n",
      "import gzip"
     ],
     "language": "python",
     "metadata": {},
     "outputs": [],
     "prompt_number": 2
    },
    {
     "cell_type": "code",
     "collapsed": false,
     "input": [
      "for img in os.listdir(\"./wood/wood/pics/\"):\n",
      "    curr = Image.open(\"./wood/wood/pics/\"+img)\n",
      "    curr.save(\"./wood/wood/pics/\"+img[:-4],'png')"
     ],
     "language": "python",
     "metadata": {},
     "outputs": [],
     "prompt_number": 3
    },
    {
     "cell_type": "code",
     "collapsed": false,
     "input": [
      "x = 0\n",
      "for img in os.listdir(\"./wood/knots/\"):\n",
      "    if str(img[-3:]) == \"ppm\":\n",
      "        os.remove(\"./wood/knots/\"+img)\n",
      "        x += 1\n",
      "print x"
     ],
     "language": "python",
     "metadata": {},
     "outputs": [
      {
       "output_type": "stream",
       "stream": "stdout",
       "text": [
        "438\n"
       ]
      }
     ],
     "prompt_number": 19
    },
    {
     "cell_type": "code",
     "collapsed": false,
     "input": [
      "for x in range(1012,1850):\n",
      "    try:\n",
      "        url_out = urllib.urlretrieve(\"http://www.ee.oulu.fi/research/imag/wood/WOOD/IMAGES/st\" + str(x) + \".gz\",\n",
      "                                     \"./wood/wood/st\" + str(x) + \".gz\")\n",
      "    except:\n",
      "        continue"
     ],
     "language": "python",
     "metadata": {},
     "outputs": [],
     "prompt_number": 40
    },
    {
     "cell_type": "code",
     "collapsed": false,
     "input": [
      " "
     ],
     "language": "python",
     "metadata": {},
     "outputs": []
    }
   ],
   "metadata": {}
  }
 ]
}