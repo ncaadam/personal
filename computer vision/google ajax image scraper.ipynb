{
 "metadata": {
  "name": "",
  "signature": "sha256:e214a2a9b9e883c2251484c6e1363b0a28a6fbb0a4ce2197801ef6f6c8bcc98c"
 },
 "nbformat": 3,
 "nbformat_minor": 0,
 "worksheets": [
  {
   "cells": [
    {
     "cell_type": "code",
     "collapsed": false,
     "input": [
      "import requests\n",
      "import time\n",
      "import urllib\n",
      "\n",
      "i = 1\n",
      "raw_search_term = \"coca cola can\"\n",
      "search_term = raw_search_term.replace(\" \",\"%20\")\n",
      "\n",
      "\n",
      "while(i < 100):\n",
      "    req_results = requests.get(\"https://ajax.googleapis.com/ajax/services/search/images?v=1.0&q=\" + search_term + \"&userip=155.201.35.55&start=\" + str(i))\n",
      "    json_results = req_results.json()\n",
      "    \n",
      "    for result in json_results['responseData']['results']:\n",
      "        for key, value in result.iteritems():\n",
      "            if key == 'unescapedUrl':\n",
      "                if value[-3:] == \"jpg\":\n",
      "                    urllib.urlretrieve(value,\"photo\" + str(i) + \".jpg\")\n",
      "                i += 1\n",
      "    \n",
      "    time.sleep(5)"
     ],
     "language": "python",
     "metadata": {},
     "outputs": [
      {
       "ename": "KeyboardInterrupt",
       "evalue": "",
       "output_type": "pyerr",
       "traceback": [
        "\u001b[0;31m---------------------------------------------------------------------------\u001b[0m\n\u001b[0;31mKeyboardInterrupt\u001b[0m                         Traceback (most recent call last)",
        "\u001b[0;32m<ipython-input-105-6394319ceff0>\u001b[0m in \u001b[0;36m<module>\u001b[0;34m()\u001b[0m\n\u001b[1;32m     19\u001b[0m                 \u001b[0mi\u001b[0m \u001b[0;34m+=\u001b[0m \u001b[0;36m1\u001b[0m\u001b[0;34m\u001b[0m\u001b[0m\n\u001b[1;32m     20\u001b[0m \u001b[0;34m\u001b[0m\u001b[0m\n\u001b[0;32m---> 21\u001b[0;31m     \u001b[0mtime\u001b[0m\u001b[0;34m.\u001b[0m\u001b[0msleep\u001b[0m\u001b[0;34m(\u001b[0m\u001b[0;36m5\u001b[0m\u001b[0;34m)\u001b[0m\u001b[0;34m\u001b[0m\u001b[0m\n\u001b[0m",
        "\u001b[0;31mKeyboardInterrupt\u001b[0m: "
       ]
      }
     ],
     "prompt_number": 105
    },
    {
     "cell_type": "code",
     "collapsed": false,
     "input": [],
     "language": "python",
     "metadata": {},
     "outputs": []
    }
   ],
   "metadata": {}
  }
 ]
}