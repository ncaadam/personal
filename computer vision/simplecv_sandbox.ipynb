{
 "metadata": {
  "name": "",
  "signature": "sha256:98ca9fa7ae368fa4237525c9e5a9e564fc2ca1545f97cdd513c7d1368fb7fdb3"
 },
 "nbformat": 3,
 "nbformat_minor": 0,
 "worksheets": [
  {
   "cells": [
    {
     "cell_type": "code",
     "collapsed": false,
     "input": [
      "import SimpleCV as s\n",
      "import cv2\n",
      "import numpy as np"
     ],
     "language": "python",
     "metadata": {},
     "outputs": [],
     "prompt_number": 50
    },
    {
     "cell_type": "code",
     "collapsed": false,
     "input": [
      "img = s.Image('../cokecantest_cropped.jpg')\n",
      "gray = img.grayscale()\n",
      "gray = gray.scale(40,80)\n",
      "cas = cv2.CascadeClassifier(\"../Cascades/cascade_808pos.xml\")"
     ],
     "language": "python",
     "metadata": {},
     "outputs": [],
     "prompt_number": 51
    },
    {
     "cell_type": "code",
     "collapsed": false,
     "input": [
      "print img.readText()"
     ],
     "language": "python",
     "metadata": {},
     "outputs": [
      {
       "output_type": "stream",
       "stream": "stdout",
       "text": [
        "Please install the correct OCR library required - http://code.google.com/p/tesseract-ocr/ http://code.google.com/p/python-tesseract/\n"
       ]
      }
     ],
     "prompt_number": 54
    },
    {
     "cell_type": "code",
     "collapsed": false,
     "input": [
      "for scale in [float(i)/10 for i in range(11, 15)]:\n",
      "    for neighbors in range(2,5):\n",
      "        rects = cas.detectMultiScale(gray.getGrayNumpy(), scaleFactor=scale, minNeighbors=neighbors,flags=cv2.cv.CV_HAAR_SCALE_IMAGE)\n",
      "        print 'scale: %s, neighbors: %s, len rects: %d' % (scale, neighbors, len(rects))"
     ],
     "language": "python",
     "metadata": {},
     "outputs": []
    },
    {
     "cell_type": "code",
     "collapsed": false,
     "input": [
      "detected = cas.detectMultiScale(img.getGrayNumpy())\n",
      "if type(detected) is not tuple:\n",
      "    for face in detected:\n",
      "        img.dl().rectangle((face[0], face[1]), (face[2], face[3]), s.Color.RED)\n",
      "img.show()\n",
      "\n",
      "#img.findHaarFeatures(cas,min_size=(40,80), max_size=(40,80))"
     ],
     "language": "python",
     "metadata": {},
     "outputs": []
    },
    {
     "cell_type": "code",
     "collapsed": false,
     "input": [
      "img = img.scale(.2)\n",
      "binary = img.binarize(215).invert()\n",
      "binary2 = img.hueDistance(1).invert().threshold(0)\n",
      "filled = binary.floodFill((0,img.height-1),color = s.Color.BLACK)\n",
      "better = filled.logicalOR(binary2)\n",
      "eroded = better.erode()\n",
      "dialated = better.dilate(0)\n",
      "final = dialated.edges()\n",
      "\n",
      "blobs = final.findBlobs(threshval=175,minsize=50)\n",
      "blobs.draw(width = -1, color = s.Color.BLUE)\n",
      "\n",
      "final.show()"
     ],
     "language": "python",
     "metadata": {},
     "outputs": []
    },
    {
     "cell_type": "code",
     "collapsed": false,
     "input": [],
     "language": "python",
     "metadata": {},
     "outputs": []
    }
   ],
   "metadata": {}
  }
 ]
}