{
 "metadata": {
  "name": ""
 },
 "nbformat": 3,
 "nbformat_minor": 0,
 "worksheets": [
  {
   "cells": [
    {
     "cell_type": "code",
     "collapsed": false,
     "input": [
      "import django_mongodb_engine\n",
      "import django\n",
      "import djangotoolbox"
     ],
     "language": "python",
     "metadata": {},
     "outputs": [],
     "prompt_number": 10
    },
    {
     "cell_type": "code",
     "collapsed": false,
     "input": [],
     "language": "python",
     "metadata": {},
     "outputs": [
      {
       "metadata": {},
       "output_type": "pyout",
       "prompt_number": 13,
       "text": [
        "django.core.exceptions.ImproperlyConfigured"
       ]
      }
     ],
     "prompt_number": 13
    },
    {
     "cell_type": "code",
     "collapsed": false,
     "input": [
      "class Choice(EmbeddedDocument):\n",
      "    choice_text = StringField(max_length=200)\n",
      "    votes = IntField(default=0)\n",
      "    \n",
      "class Users(Document):\n",
      "    question = StringField(max_length=200)\n",
      "    pub_date = DateTimeField(help_text='date published')\n",
      "    choices = ListField(EmbeddedDocumentField(Choice))"
     ],
     "language": "python",
     "metadata": {},
     "outputs": [],
     "prompt_number": 7
    },
    {
     "cell_type": "code",
     "collapsed": false,
     "input": [],
     "language": "python",
     "metadata": {},
     "outputs": []
    }
   ],
   "metadata": {}
  }
 ]
}