{
 "metadata": {
  "name": ""
 },
 "nbformat": 3,
 "nbformat_minor": 0,
 "worksheets": [
  {
   "cells": [
    {
     "cell_type": "code",
     "collapsed": false,
     "input": [
      "from pymongo import MongoClient"
     ],
     "language": "python",
     "metadata": {},
     "outputs": [],
     "prompt_number": 1
    },
    {
     "cell_type": "raw",
     "metadata": {},
     "source": [
      "mongo_hello_world.py\n",
      "Author: Bruce Elgort\n",
      "Date: March 18, 2014\n",
      "Purpose: To demonstrate how to use Python to\n",
      "1) Connect to a MongoDB document collection\n",
      "2) Insert a document\n",
      "3) Display all of the documents in a collection"
     ]
    },
    {
     "cell_type": "code",
     "collapsed": false,
     "input": [
      "# connect to the MongoDB on MongoLab\n",
      "# to learn more about MongoLab visit http://www.mongolab.com\n",
      "# replace the \"\" in the line below with your MongoLab connection string\n",
      "# you can also use a local MongoDB instance\n",
      "client = MongoClient()\n",
      "client.database_names()"
     ],
     "language": "python",
     "metadata": {},
     "outputs": [
      {
       "ename": "TypeError",
       "evalue": "drop_collection() takes exactly 2 arguments (1 given)",
       "output_type": "pyerr",
       "traceback": [
        "\u001b[0;31m---------------------------------------------------------------------------\u001b[0m\n\u001b[0;31mTypeError\u001b[0m                                 Traceback (most recent call last)",
        "\u001b[0;32m<ipython-input-5-33ee297d0c02>\u001b[0m in \u001b[0;36m<module>\u001b[0;34m()\u001b[0m\n\u001b[1;32m      5\u001b[0m \u001b[0mclient\u001b[0m \u001b[0;34m=\u001b[0m \u001b[0mMongoClient\u001b[0m\u001b[0;34m(\u001b[0m\u001b[0;34m)\u001b[0m\u001b[0;34m\u001b[0m\u001b[0m\n\u001b[1;32m      6\u001b[0m \u001b[0mclient\u001b[0m\u001b[0;34m.\u001b[0m\u001b[0mdatabase_names\u001b[0m\u001b[0;34m(\u001b[0m\u001b[0;34m)\u001b[0m\u001b[0;34m\u001b[0m\u001b[0m\n\u001b[0;32m----> 7\u001b[0;31m \u001b[0mclient\u001b[0m\u001b[0;34m.\u001b[0m\u001b[0mdb\u001b[0m\u001b[0;34m.\u001b[0m\u001b[0mdrop_collection\u001b[0m\u001b[0;34m(\u001b[0m\u001b[0;34m)\u001b[0m\u001b[0;34m\u001b[0m\u001b[0m\n\u001b[0m",
        "\u001b[0;31mTypeError\u001b[0m: drop_collection() takes exactly 2 arguments (1 given)"
       ]
      }
     ],
     "prompt_number": 5
    },
    {
     "cell_type": "code",
     "collapsed": false,
     "input": [
      "db = client.mysite\n",
      "db.collection_names()"
     ],
     "language": "python",
     "metadata": {},
     "outputs": [
      {
       "metadata": {},
       "output_type": "pyout",
       "prompt_number": 3,
       "text": [
        "[u'django_content_type',\n",
        " u'system.indexes',\n",
        " u'auth_permission',\n",
        " u'auth_user',\n",
        " u'django_site',\n",
        " u'auth_group_permissions',\n",
        " u'auth_group',\n",
        " u'django_session',\n",
        " u'django_admin_log',\n",
        " u'testing_tweet',\n",
        " u'testing_sbiprofile',\n",
        " u'testing_customer',\n",
        " u'testing_customerdossier',\n",
        " u'testing_claritasprofile']"
       ]
      }
     ],
     "prompt_number": 3
    },
    {
     "cell_type": "code",
     "collapsed": false,
     "input": [
      "#db.create_collection(\"testing\")"
     ],
     "language": "python",
     "metadata": {},
     "outputs": [
      {
       "metadata": {},
       "output_type": "pyout",
       "prompt_number": 26,
       "text": [
        "Collection(Database(MongoClient('localhost', 27017), u'local'), u'testing')"
       ]
      }
     ],
     "prompt_number": 26
    },
    {
     "cell_type": "code",
     "collapsed": false,
     "input": [
      "coll = db.testing"
     ],
     "language": "python",
     "metadata": {},
     "outputs": [],
     "prompt_number": 8
    },
    {
     "cell_type": "code",
     "collapsed": false,
     "input": [
      "post = {\"name\": \"Adam\",\n",
      "        \"POB\" : \"Indianapolis\"}"
     ],
     "language": "python",
     "metadata": {},
     "outputs": [],
     "prompt_number": 12
    },
    {
     "cell_type": "code",
     "collapsed": false,
     "input": [
      "coll.insert(post)"
     ],
     "language": "python",
     "metadata": {},
     "outputs": [
      {
       "metadata": {},
       "output_type": "pyout",
       "prompt_number": 13,
       "text": [
        "ObjectId('5391d62f1d41c80c78c2ed17')"
       ]
      }
     ],
     "prompt_number": 13
    },
    {
     "cell_type": "code",
     "collapsed": false,
     "input": [
      "results = coll.find()"
     ],
     "language": "python",
     "metadata": {},
     "outputs": [],
     "prompt_number": 14
    },
    {
     "cell_type": "code",
     "collapsed": false,
     "input": [
      "for line in results:\n",
      "    print line['name'], line['POB']"
     ],
     "language": "python",
     "metadata": {},
     "outputs": [
      {
       "output_type": "stream",
       "stream": "stdout",
       "text": [
        "Adam Indianapolis\n",
        "Adam Indianapolis\n"
       ]
      }
     ],
     "prompt_number": 15
    },
    {
     "cell_type": "code",
     "collapsed": false,
     "input": [
      "# create a dictionary to hold student documents\n",
      "\n",
      "# create dictionary\n",
      "student_record = {}\n",
      "\n",
      "# set flag variable\n",
      "flag = True\n",
      "\n",
      "# loop for data input\n",
      "while (flag):\n",
      "   # ask for input\n",
      "   student_name,student_grade = input(\"Enter student name and grade: \").split(',')\n",
      "   # place values in dictionary\n",
      "   student_record = {'name':student_name,'grade':student_grade}\n",
      "   # insert the record\n",
      "   db.insert(student_record)\n",
      "   # should we continue?\n",
      "   flag = input('Enter another record? ')\n",
      "   if (flag[0].upper() == 'N'):\n",
      "      flag = False\n",
      "\n",
      "# find all documents\n",
      "results = db.find()\n",
      "\n",
      "print()\n",
      "print('+-+-+-+-+-+-+-+-+-+-+-+-+-+-')\n",
      "\n",
      "# display documents from collection\n",
      "for record in results:\n",
      "# print out the document\n",
      "print(record['name'] + ',',record['grade'])\n",
      "\n",
      "print()\n",
      "\n",
      "# close the connection to MongoDB\n",
      "connection.close()"
     ],
     "language": "python",
     "metadata": {},
     "outputs": []
    }
   ],
   "metadata": {}
  }
 ]
}