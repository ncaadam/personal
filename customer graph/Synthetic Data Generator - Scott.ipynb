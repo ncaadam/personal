{
 "metadata": {
  "name": "",
  "signature": "sha256:d92c50a58c4e76ff6e9c618afc00c2f7ff22447e9a3feb2093ca60dfbe38c800"
 },
 "nbformat": 3,
 "nbformat_minor": 0,
 "worksheets": [
  {
   "cells": [
    {
     "cell_type": "heading",
     "level": 2,
     "metadata": {},
     "source": [
      "Database Settings and Connections"
     ]
    },
    {
     "cell_type": "code",
     "collapsed": false,
     "input": [
      "from mongoengine import *"
     ],
     "language": "python",
     "metadata": {},
     "outputs": [],
     "prompt_number": 1
    },
    {
     "cell_type": "code",
     "collapsed": false,
     "input": [
      "DB_NAME = 'testdb'"
     ],
     "language": "python",
     "metadata": {},
     "outputs": [],
     "prompt_number": 2
    },
    {
     "cell_type": "code",
     "collapsed": false,
     "input": [
      "connect(DB_NAME)"
     ],
     "language": "python",
     "metadata": {},
     "outputs": [
      {
       "metadata": {},
       "output_type": "pyout",
       "prompt_number": 3,
       "text": [
        "MongoClient('localhost', 27017)"
       ]
      }
     ],
     "prompt_number": 3
    },
    {
     "cell_type": "code",
     "collapsed": false,
     "input": [
      "# this is for the synthetic CRM data model\n",
      "class Phone(EmbeddedDocument):\n",
      "    number = IntField() #TODO: generate\n",
      "    phone_type = StringField() #TODO: generate\n",
      "    \n",
      "class CustomerProfile(EmbeddedDocument):\n",
      "    customer_id = IntField() #TODO: generate\n",
      "    name = StringField() #Stuckey twitter match\n",
      "    location = StringField() # Stuckey twitter match\n",
      "    email = StringField() #TODO: generate\n",
      "    phone = EmbeddedDocumentField(Phone) #TODO: generate\n",
      "    twitter = StringField() #Stuckey twitter match\n",
      "    dob = DateTimeField() #TODO: generate\n",
      "    gender = StringField() #TODO: generate\n",
      "\n",
      "class CustomerBehavior(EmbeddedDocument):\n",
      "    mobile_app = BooleanField() #TODO: generate\n",
      "    gift_card_balance = FloatField() #TODO: generate\n",
      "    number_of_transactions = IntField() #TODO: generate\n",
      "\n",
      "class Employment(EmbeddedDocument): # TODO: TBD\n",
      "    linkedin_profile = StringField() \n",
      "    employer = StringField()\n",
      "    job_title = StringField()\n",
      "    salary_range_low = IntField()\n",
      "    salary_range_mid = IntField()\n",
      "    salary_range_high = IntField()\n",
      "\n",
      "class CrmData(EmbeddedDocument):\n",
      "    customer_profile = EmbeddedDocumentField(CustomerProfile)\n",
      "    customer_behavior = EmbeddedDocumentField(CustomerBehavior)\n",
      "\n",
      "class CollectedData(EmbeddedDocument):\n",
      "    twitter = StringField() #TODO: update this to be an embedded doc\n",
      "    employment = EmbeddedDocumentField(Employment) #TODO: update this to be an embedded doc for the matching algo\n",
      "    \n",
      "class MatchedData(EmbeddedDocument):\n",
      "    sbi = StringField() #TODO: update this to be an embedded doc for the matching algo\n",
      "\n",
      "class CustomerData(Document):\n",
      "    crm_data = EmbeddedDocumentField(CrmData)\n",
      "    collected_data = EmbeddedDocumentField(CollectedData)\n",
      "    matched_data = EmbeddedDocumentField(MatchedData)"
     ],
     "language": "python",
     "metadata": {},
     "outputs": [],
     "prompt_number": 13
    },
    {
     "cell_type": "code",
     "collapsed": false,
     "input": [
      "all_customers = CustomerData.objects.all()\n",
      "print len(all_customers)"
     ],
     "language": "python",
     "metadata": {},
     "outputs": [
      {
       "output_type": "stream",
       "stream": "stdout",
       "text": [
        "1\n"
       ]
      }
     ],
     "prompt_number": 14
    },
    {
     "cell_type": "code",
     "collapsed": false,
     "input": [
      "import uuid\n",
      "def generate_customer_id():\n",
      "    new_id = uuid.uuid4()\n",
      "    return new_id"
     ],
     "language": "python",
     "metadata": {},
     "outputs": [],
     "prompt_number": 26
    },
    {
     "cell_type": "code",
     "collapsed": false,
     "input": [
      "def generate_email(customer):\n",
      "    if customer.crm_data.customer_profile.name:\n",
      "        new_name = str(customer.crm_data.customer_profile.name).lower().replace(' ', '')\n",
      "        new_email = new_name + '@email.com'\n",
      "        return new_email\n",
      "    else:\n",
      "        #create generic email if there is no name\n",
      "        pass"
     ],
     "language": "python",
     "metadata": {},
     "outputs": [],
     "prompt_number": 39
    },
    {
     "cell_type": "code",
     "collapsed": false,
     "input": [
      "def generate_phone_number():\n",
      "    number = '2125551212'\n",
      "    return number"
     ],
     "language": "python",
     "metadata": {},
     "outputs": [],
     "prompt_number": 41
    },
    {
     "cell_type": "code",
     "collapsed": false,
     "input": [
      "def generate_phone_type():\n",
      "    phone_type = 'mobile'\n",
      "    return phone_type"
     ],
     "language": "python",
     "metadata": {},
     "outputs": [],
     "prompt_number": 42
    },
    {
     "cell_type": "code",
     "collapsed": false,
     "input": [
      "import datetime\n",
      "from random import randrange\n",
      "base = datetime.datetime.today()\n",
      "def generate_dob():\n",
      "    days_param = randrange(365*13,365*60)\n",
      "    new_dob = base - datetime.timedelta(days=days_param)\n",
      "    return new_dob.strftime('%m/%d/%Y')"
     ],
     "language": "python",
     "metadata": {},
     "outputs": [],
     "prompt_number": 74
    },
    {
     "cell_type": "code",
     "collapsed": false,
     "input": [
      "import random\n",
      "male_female_list = ['male', 'female']\n",
      "def generate_gender():\n",
      "    gender = random.choice(male_female_list)\n",
      "    return gender"
     ],
     "language": "python",
     "metadata": {},
     "outputs": [],
     "prompt_number": 77
    },
    {
     "cell_type": "code",
     "collapsed": false,
     "input": [
      "import random\n",
      "mobile_app_probability = ['True'] * 3 + ['False'] * 7\n",
      "def generate_mobile_app():\n",
      "    return random.choice(mobile_app_probability)"
     ],
     "language": "python",
     "metadata": {},
     "outputs": [],
     "prompt_number": 91
    },
    {
     "cell_type": "code",
     "collapsed": false,
     "input": [
      "import random\n",
      "def generate_gift_card_balance():\n",
      "    return random.uniform(0, 74.32)"
     ],
     "language": "python",
     "metadata": {},
     "outputs": [],
     "prompt_number": 107
    },
    {
     "cell_type": "code",
     "collapsed": false,
     "input": [
      "def generate_number_of_transactions():\n",
      "    #TODO: update this based on the parameters we need\n",
      "    return 0"
     ],
     "language": "python",
     "metadata": {},
     "outputs": [],
     "prompt_number": 113
    },
    {
     "cell_type": "code",
     "collapsed": false,
     "input": [
      "for customer in all_customers:\n",
      "    customer.crm_data.customer_profile.customer_id = generate_customer_id()\n",
      "    customer.crm_data.customer_profile.email = generate_email(customer)\n",
      "    customer.crm_data.customer_profile.phone.number = generate_phone_number()\n",
      "    customer.crm_data.customer_profile.phone.phone_type = generate_phone_type()\n",
      "    customer.crm_data.customer_profile.dob = generate_dob()\n",
      "    customer.crm_data.customer_profile.gender = generate_gender()\n",
      "    customer.crm_data.customer_behavior.mobile_app = generate_mobile_app()\n",
      "    customer.crm_data.customer_behavior.gift_card_balance = generate_gift_card_balance()\n",
      "    customer.crm_data.customer_behavior.number_of_transactions = generate_number_of_transactions()"
     ],
     "language": "python",
     "metadata": {},
     "outputs": [
      {
       "output_type": "stream",
       "stream": "stdout",
       "text": [
        "0\n"
       ]
      }
     ],
     "prompt_number": 115
    },
    {
     "cell_type": "code",
     "collapsed": false,
     "input": [],
     "language": "python",
     "metadata": {},
     "outputs": []
    }
   ],
   "metadata": {}
  }
 ]
}