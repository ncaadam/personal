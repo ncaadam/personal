{
 "metadata": {
  "name": ""
 },
 "nbformat": 3,
 "nbformat_minor": 0,
 "worksheets": [
  {
   "cells": [
    {
     "cell_type": "code",
     "collapsed": false,
     "input": [
      "import oauth2 as oauth\n",
      "import time\n",
      "import twitter\n",
      "\n",
      "# Set the API endpoint \n",
      "url = \"https://api.twitter.com/oauth2/token\"\n",
      "\n",
      "# Set the base oauth_* parameters along with any other parameters required\n",
      "# for the API call.\n",
      "params = {\n",
      "    'oauth_version': \"1.0\",\n",
      "    'oauth_nonce': oauth.generate_nonce(),\n",
      "    'oauth_timestamp': int(time.time())\n",
      "}\n",
      "\n",
      "# Set up instances of our Token and Consumer. The Consumer.key and \n",
      "# Consumer.secret are given to you by the API provider. The Token.key and\n",
      "# Token.secret is given to you after a three-legged authentication.\n",
      "token = oauth.Token(key=\"tok-test-key\", secret=\"tok-test-secret\")\n",
      "consumer = oauth.Consumer(key=\"con-test-key\", secret=\"con-test-secret\")\n",
      "\n",
      "# Set our token/key parameters\n",
      "params['oauth_token'] = \"2544560712-jrJOwSbx1itPVchmUYAa5dgx251zNrZJckQPAab\"\n",
      "params['oauth_consumer_key'] = \"ys3WwaOhona6vznsgn3OPVSIY\"\n",
      "\n",
      "# Create our request. Change method, etc. accordingly.\n",
      "req = oauth.Request(method=\"GET\", url=url, parameters=params)\n",
      "\n",
      "# Sign the request.\n",
      "signature_method = oauth.SignatureMethod_HMAC_SHA1()\n",
      "req.sign_request(signature_method, consumer, token)"
     ],
     "language": "python",
     "metadata": {},
     "outputs": [],
     "prompt_number": 3
    },
    {
     "cell_type": "code",
     "collapsed": false,
     "input": [],
     "language": "python",
     "metadata": {},
     "outputs": [
      {
       "output_type": "stream",
       "stream": "stdout",
       "text": [
        "{'oauth_body_hash': '2jmj7l5rSw0yVb/vlWAYkK/YBwk=', u'oauth_nonce': u'64589659', u'oauth_timestamp': 1401892589, u'oauth_consumer_key': u'ys3WwaOhona6vznsgn3OPVSIY', 'oauth_signature_method': 'HMAC-SHA1', u'oauth_version': u'1.0', u'oauth_token': u'2544560712-jrJOwSbx1itPVchmUYAa5dgx251zNrZJckQPAab', 'oauth_signature': 'qbqbe6ubMZZjubmCGXSZZ3eDljI='}\n"
       ]
      }
     ],
     "prompt_number": 4
    },
    {
     "cell_type": "code",
     "collapsed": false,
     "input": [],
     "language": "python",
     "metadata": {},
     "outputs": []
    }
   ],
   "metadata": {}
  }
 ]
}