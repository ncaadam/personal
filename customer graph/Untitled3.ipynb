{
 "metadata": {
  "name": ""
 },
 "nbformat": 3,
 "nbformat_minor": 0,
 "worksheets": [
  {
   "cells": [
    {
     "cell_type": "code",
     "collapsed": false,
     "input": [
      "import tweepy\n",
      "import frequent_functions\n",
      "import json\n",
      "from pymongo import MongoClient"
     ],
     "language": "python",
     "metadata": {},
     "outputs": [],
     "prompt_number": 4
    },
    {
     "cell_type": "code",
     "collapsed": false,
     "input": [
      "sj = tweepy.utils.import_simplejson()\n",
      "atk,ats,ck,cs=frequent_functions.set_twitter_keys()\n",
      "auth = tweepy.OAuthHandler(ck,cs)\n",
      "auth.set_access_token(atk,ats)\n",
      "api = tweepy.API(auth)\n",
      "try:\n",
      "    data = api.followers(id = 'Starbucks', count = 200)\n",
      "except Exception,e:\n",
      "    print e"
     ],
     "language": "python",
     "metadata": {},
     "outputs": [
      {
       "output_type": "stream",
       "stream": "stdout",
       "text": [
        "[{'message': 'Rate limit exceeded', 'code': 88}]\n"
       ]
      }
     ],
     "prompt_number": 177
    },
    {
     "cell_type": "code",
     "collapsed": false,
     "input": [
      "for x,y in data:\n",
      "    print x,y"
     ],
     "language": "python",
     "metadata": {},
     "outputs": [],
     "prompt_number": 184
    },
    {
     "cell_type": "code",
     "collapsed": false,
     "input": [
      "api.rate_limit_status()"
     ],
     "language": "python",
     "metadata": {},
     "outputs": [
      {
       "metadata": {},
       "output_type": "pyout",
       "prompt_number": 208,
       "text": [
        "{'rate_limit_context': {'access_token': '2544560712-jrJOwSbx1itPVchmUYAa5dgx251zNrZJckQPAab'},\n",
        " 'resources': {'account': {'/account/settings': {'limit': 15,\n",
        "    'remaining': 15,\n",
        "    'reset': 1403848752},\n",
        "   '/account/verify_credentials': {'limit': 15,\n",
        "    'remaining': 15,\n",
        "    'reset': 1403848752}},\n",
        "  'application': {'/application/rate_limit_status': {'limit': 180,\n",
        "    'remaining': 177,\n",
        "    'reset': 1403847981}},\n",
        "  'blocks': {'/blocks/ids': {'limit': 15,\n",
        "    'remaining': 15,\n",
        "    'reset': 1403848752},\n",
        "   '/blocks/list': {'limit': 15, 'remaining': 15, 'reset': 1403848752}},\n",
        "  'direct_messages': {'/direct_messages': {'limit': 15,\n",
        "    'remaining': 15,\n",
        "    'reset': 1403848752},\n",
        "   '/direct_messages/sent': {'limit': 15,\n",
        "    'remaining': 15,\n",
        "    'reset': 1403848752},\n",
        "   '/direct_messages/sent_and_received': {'limit': 15,\n",
        "    'remaining': 15,\n",
        "    'reset': 1403848752},\n",
        "   '/direct_messages/show': {'limit': 15,\n",
        "    'remaining': 15,\n",
        "    'reset': 1403848752}},\n",
        "  'favorites': {'/favorites/list': {'limit': 15,\n",
        "    'remaining': 15,\n",
        "    'reset': 1403848752}},\n",
        "  'followers': {'/followers/ids': {'limit': 15,\n",
        "    'remaining': 15,\n",
        "    'reset': 1403848752},\n",
        "   '/followers/list': {'limit': 15, 'remaining': 15, 'reset': 1403848752}},\n",
        "  'friends': {'/friends/following/ids': {'limit': 15,\n",
        "    'remaining': 15,\n",
        "    'reset': 1403848752},\n",
        "   '/friends/following/list': {'limit': 15,\n",
        "    'remaining': 15,\n",
        "    'reset': 1403848752},\n",
        "   '/friends/ids': {'limit': 15, 'remaining': 15, 'reset': 1403848752},\n",
        "   '/friends/list': {'limit': 15, 'remaining': 15, 'reset': 1403848752}},\n",
        "  'friendships': {'/friendships/incoming': {'limit': 15,\n",
        "    'remaining': 15,\n",
        "    'reset': 1403848752},\n",
        "   '/friendships/lookup': {'limit': 15, 'remaining': 15, 'reset': 1403848752},\n",
        "   '/friendships/no_retweets/ids': {'limit': 15,\n",
        "    'remaining': 15,\n",
        "    'reset': 1403848752},\n",
        "   '/friendships/outgoing': {'limit': 15,\n",
        "    'remaining': 15,\n",
        "    'reset': 1403848752},\n",
        "   '/friendships/show': {'limit': 180, 'remaining': 180, 'reset': 1403848752}},\n",
        "  'geo': {'/geo/id/:place_id': {'limit': 15,\n",
        "    'remaining': 15,\n",
        "    'reset': 1403848752},\n",
        "   '/geo/reverse_geocode': {'limit': 15, 'remaining': 15, 'reset': 1403848752},\n",
        "   '/geo/search': {'limit': 15, 'remaining': 15, 'reset': 1403848752},\n",
        "   '/geo/similar_places': {'limit': 15, 'remaining': 15, 'reset': 1403848752}},\n",
        "  'help': {'/help/configuration': {'limit': 15,\n",
        "    'remaining': 15,\n",
        "    'reset': 1403848752},\n",
        "   '/help/languages': {'limit': 15, 'remaining': 15, 'reset': 1403848752},\n",
        "   '/help/privacy': {'limit': 15, 'remaining': 15, 'reset': 1403848752},\n",
        "   '/help/tos': {'limit': 15, 'remaining': 15, 'reset': 1403848752}},\n",
        "  'lists': {'/lists/list': {'limit': 15, 'remaining': 15, 'reset': 1403848752},\n",
        "   '/lists/members': {'limit': 180, 'remaining': 180, 'reset': 1403848752},\n",
        "   '/lists/members/show': {'limit': 15, 'remaining': 15, 'reset': 1403848752},\n",
        "   '/lists/memberships': {'limit': 15, 'remaining': 15, 'reset': 1403848752},\n",
        "   '/lists/ownerships': {'limit': 15, 'remaining': 15, 'reset': 1403848752},\n",
        "   '/lists/show': {'limit': 15, 'remaining': 15, 'reset': 1403848752},\n",
        "   '/lists/statuses': {'limit': 180, 'remaining': 180, 'reset': 1403848752},\n",
        "   '/lists/subscribers': {'limit': 180, 'remaining': 180, 'reset': 1403848752},\n",
        "   '/lists/subscribers/show': {'limit': 15,\n",
        "    'remaining': 15,\n",
        "    'reset': 1403848752},\n",
        "   '/lists/subscriptions': {'limit': 15,\n",
        "    'remaining': 15,\n",
        "    'reset': 1403848752}},\n",
        "  'mutes': {'/mutes/users/ids': {'limit': 15,\n",
        "    'remaining': 15,\n",
        "    'reset': 1403848752},\n",
        "   '/mutes/users/list': {'limit': 15, 'remaining': 15, 'reset': 1403848752}},\n",
        "  'saved_searches': {'/saved_searches/destroy/:id': {'limit': 15,\n",
        "    'remaining': 15,\n",
        "    'reset': 1403848752},\n",
        "   '/saved_searches/list': {'limit': 15, 'remaining': 15, 'reset': 1403848752},\n",
        "   '/saved_searches/show/:id': {'limit': 15,\n",
        "    'remaining': 15,\n",
        "    'reset': 1403848752}},\n",
        "  'search': {'/search/tweets': {'limit': 180,\n",
        "    'remaining': 180,\n",
        "    'reset': 1403848752}},\n",
        "  'statuses': {'/statuses/home_timeline': {'limit': 15,\n",
        "    'remaining': 15,\n",
        "    'reset': 1403848752},\n",
        "   '/statuses/lookup': {'limit': 180, 'remaining': 180, 'reset': 1403848752},\n",
        "   '/statuses/mentions_timeline': {'limit': 15,\n",
        "    'remaining': 15,\n",
        "    'reset': 1403848752},\n",
        "   '/statuses/oembed': {'limit': 180, 'remaining': 180, 'reset': 1403848752},\n",
        "   '/statuses/retweeters/ids': {'limit': 15,\n",
        "    'remaining': 15,\n",
        "    'reset': 1403848752},\n",
        "   '/statuses/retweets/:id': {'limit': 60,\n",
        "    'remaining': 60,\n",
        "    'reset': 1403848752},\n",
        "   '/statuses/retweets_of_me': {'limit': 15,\n",
        "    'remaining': 15,\n",
        "    'reset': 1403848752},\n",
        "   '/statuses/show/:id': {'limit': 180, 'remaining': 180, 'reset': 1403848752},\n",
        "   '/statuses/user_timeline': {'limit': 180,\n",
        "    'remaining': 180,\n",
        "    'reset': 1403848752}},\n",
        "  'trends': {'/trends/available': {'limit': 15,\n",
        "    'remaining': 15,\n",
        "    'reset': 1403848752},\n",
        "   '/trends/closest': {'limit': 15, 'remaining': 15, 'reset': 1403848752},\n",
        "   '/trends/place': {'limit': 15, 'remaining': 15, 'reset': 1403848752}},\n",
        "  'users': {'/users/contributees': {'limit': 15,\n",
        "    'remaining': 15,\n",
        "    'reset': 1403848752},\n",
        "   '/users/contributors': {'limit': 15, 'remaining': 15, 'reset': 1403848752},\n",
        "   '/users/lookup': {'limit': 180, 'remaining': 180, 'reset': 1403848752},\n",
        "   '/users/profile_banner': {'limit': 180,\n",
        "    'remaining': 180,\n",
        "    'reset': 1403848752},\n",
        "   '/users/search': {'limit': 180, 'remaining': 180, 'reset': 1403848752},\n",
        "   '/users/show/:id': {'limit': 180, 'remaining': 180, 'reset': 1403848752},\n",
        "   '/users/suggestions': {'limit': 15, 'remaining': 15, 'reset': 1403848752},\n",
        "   '/users/suggestions/:slug': {'limit': 15,\n",
        "    'remaining': 15,\n",
        "    'reset': 1403848752},\n",
        "   '/users/suggestions/:slug/members': {'limit': 15,\n",
        "    'remaining': 15,\n",
        "    'reset': 1403848752}}}}"
       ]
      }
     ],
     "prompt_number": 208
    },
    {
     "cell_type": "code",
     "collapsed": false,
     "input": [
      "db = MongoClient().mysite\n",
      "cust_coll = db.testing_customer\n",
      "tweet_coll = db.testing_tweet\n",
      "custs = cust_coll.find_one()\n",
      "tweets = tweet_coll.find_one()\n",
      "print tweets\n",
      "print tweets[0]['tweets'][0]['text']"
     ],
     "language": "python",
     "metadata": {},
     "outputs": [
      {
       "ename": "KeyError",
       "evalue": "0",
       "output_type": "pyerr",
       "traceback": [
        "\u001b[0;31m---------------------------------------------------------------------------\u001b[0m\n\u001b[0;31mKeyError\u001b[0m                                  Traceback (most recent call last)",
        "\u001b[0;32m<ipython-input-17-4b8eee804664>\u001b[0m in \u001b[0;36m<module>\u001b[0;34m()\u001b[0m\n\u001b[1;32m      5\u001b[0m \u001b[0mtweets\u001b[0m \u001b[0;34m=\u001b[0m \u001b[0mtweet_coll\u001b[0m\u001b[0;34m.\u001b[0m\u001b[0mfind_one\u001b[0m\u001b[0;34m(\u001b[0m\u001b[0;34m)\u001b[0m\u001b[0;34m\u001b[0m\u001b[0m\n\u001b[1;32m      6\u001b[0m \u001b[0;32mprint\u001b[0m \u001b[0mtweets\u001b[0m\u001b[0;34m\u001b[0m\u001b[0m\n\u001b[0;32m----> 7\u001b[0;31m \u001b[0;32mprint\u001b[0m \u001b[0mtweets\u001b[0m\u001b[0;34m[\u001b[0m\u001b[0;36m0\u001b[0m\u001b[0;34m]\u001b[0m\u001b[0;34m[\u001b[0m\u001b[0;34m'tweets'\u001b[0m\u001b[0;34m]\u001b[0m\u001b[0;34m[\u001b[0m\u001b[0;36m0\u001b[0m\u001b[0;34m]\u001b[0m\u001b[0;34m[\u001b[0m\u001b[0;34m'text'\u001b[0m\u001b[0;34m]\u001b[0m\u001b[0;34m\u001b[0m\u001b[0m\n\u001b[0m",
        "\u001b[0;31mKeyError\u001b[0m: 0"
       ]
      },
      {
       "output_type": "stream",
       "stream": "stdout",
       "text": [
        "{u'tweets': [{u'contributors': None, u'truncated': False, u'text': u'Today stats: No new followers, One unfollower via http://t.co/XEyot6zAtw', u'in_reply_to_status_id': None, u'id': 482619632763695105L, u'favorite_count': 0, u'source': u'<a href=\"http://unfollowers.com\" rel=\"nofollow\">Unfollowers.me</a>', u'retweeted': False, u'coordinates': None, u'entities': {u'symbols': [], u'user_mentions': [], u'hashtags': [], u'urls': [{u'url': u'http://t.co/XEyot6zAtw', u'indices': [50, 72], u'expanded_url': u'http://Unfollowers.com/?s=dt', u'display_url': u'Unfollowers.com/?s=dt'}]}, u'in_reply_to_screen_name': None, u'id_str': u'482619632763695105', u'retweet_count': 0, u'in_reply_to_user_id': None, u'favorited': False, u'user': {u'id': 385650046, u'id_str': u'385650046'}, u'geo': None, u'in_reply_to_user_id_str': None, u'possibly_sensitive': False, u'lang': u'en', u'created_at': u'Fri Jun 27 20:21:01 +0000 2014', u'in_reply_to_status_id_str': None, u'place': None}, {u'contributors': None, u'truncated': False, u'text': u'Today stats: No new followers, 2 unfollowers via http://t.co/XEyot6zAtw', u'in_reply_to_status_id': None, u'id': 481531193301561345L, u'favorite_count': 0, u'source': u'<a href=\"http://unfollowers.com\" rel=\"nofollow\">Unfollowers.me</a>', u'retweeted': False, u'coordinates': None, u'entities': {u'symbols': [], u'user_mentions': [], u'hashtags': [], u'urls': [{u'url': u'http://t.co/XEyot6zAtw', u'indices': [49, 71], u'expanded_url': u'http://Unfollowers.com/?s=dt', u'display_url': u'Unfollowers.com/?s=dt'}]}, u'in_reply_to_screen_name': None, u'id_str': u'481531193301561345', u'retweet_count': 0, u'in_reply_to_user_id': None, u'favorited': False, u'user': {u'id': 385650046, u'id_str': u'385650046'}, u'geo': None, u'in_reply_to_user_id_str': None, u'possibly_sensitive': False, u'lang': u'en', u'created_at': u'Tue Jun 24 20:15:57 +0000 2014', u'in_reply_to_status_id_str': None, u'place': None}, {u'contributors': None, u'truncated': False, u'text': u'Today stats: One follower, No unfollowers via http://t.co/XEyot6zAtw', u'in_reply_to_status_id': None, u'id': 481168248939880448L, u'favorite_count': 0, u'source': u'<a href=\"http://unfollowers.com\" rel=\"nofollow\">Unfollowers.me</a>', u'retweeted': False, u'coordinates': None, u'entities': {u'symbols': [], u'user_mentions': [], u'hashtags': [], u'urls': [{u'url': u'http://t.co/XEyot6zAtw', u'indices': [46, 68], u'expanded_url': u'http://Unfollowers.com/?s=dt', u'display_url': u'Unfollowers.com/?s=dt'}]}, u'in_reply_to_screen_name': None, u'id_str': u'481168248939880448', u'retweet_count': 0, u'in_reply_to_user_id': None, u'favorited': False, u'user': {u'id': 385650046, u'id_str': u'385650046'}, u'geo': None, u'in_reply_to_user_id_str': None, u'possibly_sensitive': False, u'lang': u'en', u'created_at': u'Mon Jun 23 20:13:44 +0000 2014', u'in_reply_to_status_id_str': None, u'place': None}, {u'contributors': None, u'truncated': False, u'text': u'RT @KianLawley: On to the last cityyyyy ... http://t.co/QismNKwU1d', u'in_reply_to_status_id': None, u'id': 480521767216488448L, u'favorite_count': 0, u'source': u'<a href=\"http://twitter.com/download/iphone\" rel=\"nofollow\">Twitter for iPhone</a>', u'retweeted': False, u'coordinates': None, u'entities': {u'symbols': [], u'user_mentions': [{u'indices': [3, 14], u'screen_name': u'KianLawley', u'id': 308297673, u'name': u'KEY-YUHN!', u'id_str': u'308297673'}], u'hashtags': [], u'urls': [], u'media': [{u'source_status_id_str': u'480516986997182464', u'expanded_url': u'http://twitter.com/KianLawley/status/480516986997182464/photo/1', u'display_url': u'pic.twitter.com/QismNKwU1d', u'url': u'http://t.co/QismNKwU1d', u'media_url_https': u'https://pbs.twimg.com/media/BqsjpzWCcAEHb4r.jpg', u'source_status_id': 480516986997182464L, u'id_str': u'480516986309341185', u'sizes': {u'small': {u'h': 453, u'w': 340, u'resize': u'fit'}, u'large': {u'h': 1024, u'w': 768, u'resize': u'fit'}, u'medium': {u'h': 800, u'w': 600, u'resize': u'fit'}, u'thumb': {u'h': 150, u'w': 150, u'resize': u'crop'}}, u'indices': [44, 66], u'type': u'photo', u'id': 480516986309341185L, u'media_url': u'http://pbs.twimg.com/media/BqsjpzWCcAEHb4r.jpg'}]}, u'in_reply_to_screen_name': None, u'id_str': u'480521767216488448', u'retweet_count': 3463, u'in_reply_to_user_id': None, u'favorited': False, u'retweeted_status': {u'contributors': None, u'truncated': False, u'text': u'On to the last cityyyyy ... http://t.co/QismNKwU1d', u'in_reply_to_status_id': None, u'id': 480516986997182464L, u'favorite_count': 18697, u'source': u'<a href=\"http://twitter.com/download/iphone\" rel=\"nofollow\">Twitter for iPhone</a>', u'retweeted': False, u'coordinates': None, u'entities': {u'symbols': [], u'user_mentions': [], u'hashtags': [], u'urls': [], u'media': [{u'expanded_url': u'http://twitter.com/KianLawley/status/480516986997182464/photo/1', u'sizes': {u'small': {u'h': 453, u'w': 340, u'resize': u'fit'}, u'large': {u'h': 1024, u'w': 768, u'resize': u'fit'}, u'medium': {u'h': 800, u'w': 600, u'resize': u'fit'}, u'thumb': {u'h': 150, u'w': 150, u'resize': u'crop'}}, u'url': u'http://t.co/QismNKwU1d', u'media_url_https': u'https://pbs.twimg.com/media/BqsjpzWCcAEHb4r.jpg', u'id_str': u'480516986309341185', u'indices': [28, 50], u'media_url': u'http://pbs.twimg.com/media/BqsjpzWCcAEHb4r.jpg', u'type': u'photo', u'id': 480516986309341185L, u'display_url': u'pic.twitter.com/QismNKwU1d'}]}, u'in_reply_to_screen_name': None, u'id_str': u'480516986997182464', u'retweet_count': 3463, u'in_reply_to_user_id': None, u'favorited': False, u'user': {u'id': 308297673, u'id_str': u'308297673'}, u'geo': None, u'in_reply_to_user_id_str': None, u'possibly_sensitive': False, u'lang': u'en', u'created_at': u'Sun Jun 22 01:05:51 +0000 2014', u'in_reply_to_status_id_str': None, u'place': None, u'extended_entities': {u'media': [{u'expanded_url': u'http://twitter.com/KianLawley/status/480516986997182464/photo/1', u'sizes': {u'small': {u'h': 453, u'w': 340, u'resize': u'fit'}, u'large': {u'h': 1024, u'w': 768, u'resize': u'fit'}, u'medium': {u'h': 800, u'w': 600, u'resize': u'fit'}, u'thumb': {u'h': 150, u'w': 150, u'resize': u'crop'}}, u'url': u'http://t.co/QismNKwU1d', u'media_url_https': u'https://pbs.twimg.com/media/BqsjpzWCcAEHb4r.jpg', u'id_str': u'480516986309341185', u'indices': [28, 50], u'media_url': u'http://pbs.twimg.com/media/BqsjpzWCcAEHb4r.jpg', u'type': u'photo', u'id': 480516986309341185L, u'display_url': u'pic.twitter.com/QismNKwU1d'}]}}, u'user': {u'id': 385650046, u'id_str': u'385650046'}, u'geo': None, u'in_reply_to_user_id_str': None, u'possibly_sensitive': False, u'lang': u'en', u'created_at': u'Sun Jun 22 01:24:51 +0000 2014', u'in_reply_to_status_id_str': None, u'place': None, u'extended_entities': {u'media': [{u'source_status_id_str': u'480516986997182464', u'expanded_url': u'http://twitter.com/KianLawley/status/480516986997182464/photo/1', u'display_url': u'pic.twitter.com/QismNKwU1d', u'url': u'http://t.co/QismNKwU1d', u'media_url_https': u'https://pbs.twimg.com/media/BqsjpzWCcAEHb4r.jpg', u'source_status_id': 480516986997182464L, u'id_str': u'480516986309341185', u'sizes': {u'small': {u'h': 453, u'w': 340, u'resize': u'fit'}, u'large': {u'h': 1024, u'w': 768, u'resize': u'fit'}, u'medium': {u'h': 800, u'w': 600, u'resize': u'fit'}, u'thumb': {u'h': 150, u'w': 150, u'resize': u'crop'}}, u'indices': [44, 66], u'type': u'photo', u'id': 480516986309341185L, u'media_url': u'http://pbs.twimg.com/media/BqsjpzWCcAEHb4r.jpg'}]}}], u'testing_customer_id': None, u'_id': ObjectId('53aef8531d41c81f3d9f8e5a')}\n"
       ]
      }
     ],
     "prompt_number": 17
    },
    {
     "cell_type": "code",
     "collapsed": false,
     "input": [
      "for profile in tweets:\n",
      "    cust = cust_coll.find({\"_id\":profile['testing_customer_id']},{\"first_name\": 1, \"last_name\":1})\n",
      "    username = profile['profile']['screen_name']\n",
      "    print cust[0]['first_name'], cust[0]['last_name'], username"
     ],
     "language": "python",
     "metadata": {},
     "outputs": []
    },
    {
     "cell_type": "code",
     "collapsed": false,
     "input": [
      "for profile in tweets:\n",
      "    for tweet in profile['tweets']:\n",
      "        print tweet['text']"
     ],
     "language": "python",
     "metadata": {},
     "outputs": [],
     "prompt_number": 118
    },
    {
     "cell_type": "code",
     "collapsed": false,
     "input": [
      "print custs['city']"
     ],
     "language": "python",
     "metadata": {},
     "outputs": [
      {
       "output_type": "stream",
       "stream": "stdout",
       "text": [
        "Aston\n"
       ]
      }
     ],
     "prompt_number": 15
    },
    {
     "cell_type": "code",
     "collapsed": false,
     "input": [],
     "language": "python",
     "metadata": {},
     "outputs": [],
     "prompt_number": 110
    },
    {
     "cell_type": "code",
     "collapsed": false,
     "input": [],
     "language": "python",
     "metadata": {},
     "outputs": [],
     "prompt_number": 110
    },
    {
     "cell_type": "code",
     "collapsed": false,
     "input": [],
     "language": "python",
     "metadata": {},
     "outputs": [],
     "prompt_number": 110
    },
    {
     "cell_type": "code",
     "collapsed": false,
     "input": [],
     "language": "python",
     "metadata": {},
     "outputs": [],
     "prompt_number": 110
    },
    {
     "cell_type": "code",
     "collapsed": false,
     "input": [],
     "language": "python",
     "metadata": {},
     "outputs": []
    }
   ],
   "metadata": {}
  }
 ]
}