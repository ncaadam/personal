{
 "metadata": {
  "name": ""
 },
 "nbformat": 3,
 "nbformat_minor": 0,
 "worksheets": [
  {
   "cells": [
    {
     "cell_type": "code",
     "collapsed": false,
     "input": [
      "from pymongo import MongoClient"
     ],
     "language": "python",
     "metadata": {},
     "outputs": [],
     "prompt_number": 1
    },
    {
     "cell_type": "code",
     "collapsed": false,
     "input": [
      "db = MongoClient().mysite\n",
      "prof_coll = db.testing_twitter_profile\n",
      "tweets_coll = db.testing_tweet"
     ],
     "language": "python",
     "metadata": {},
     "outputs": [],
     "prompt_number": 3
    },
    {
     "cell_type": "code",
     "collapsed": false,
     "input": [
      "profs = prof_coll.find()\n",
      "tweets = tweets_coll.find_one()"
     ],
     "language": "python",
     "metadata": {},
     "outputs": [],
     "prompt_number": 9
    },
    {
     "cell_type": "code",
     "collapsed": false,
     "input": [
      "tweet_id = tweets['tweets'][0]['user']['id']\n",
      "print tweet_id"
     ],
     "language": "python",
     "metadata": {},
     "outputs": [
      {
       "output_type": "stream",
       "stream": "stdout",
       "text": [
        "385650046\n"
       ]
      }
     ],
     "prompt_number": 15
    },
    {
     "cell_type": "code",
     "collapsed": false,
     "input": [
      "for prof in profs:\n",
      "    if prof['profile']['id'] == tweet_id:\n",
      "        print prof['profile']\n",
      "        break"
     ],
     "language": "python",
     "metadata": {},
     "outputs": [
      {
       "output_type": "stream",
       "stream": "stdout",
       "text": [
        "{u'follow_request_sent': False, u'profile_use_background_image': True, u'id': 385650046, u'verified': False, u'profile_text_color': u'333333', u'profile_image_url_https': u'https://pbs.twimg.com/profile_images/475060790949466112/04Ulx3kT_normal.jpeg', u'profile_sidebar_fill_color': u'EFEFEF', u'is_translator': False, u'geo_enabled': True, u'entities': {u'description': {u'urls': []}}, u'followers_count': 269, u'protected': False, u'location': u'met 6/6 on 6/1/14', u'default_profile_image': False, u'id_str': u'385650046', u'status': {u'contributors': None, u'truncated': False, u'text': u'Today stats: No new followers, 2 unfollowers via http://t.co/XEyot6zAtw', u'in_reply_to_status_id': None, u'id': 481531193301561345L, u'favorite_count': 0, u'source': u'<a href=\"http://unfollowers.com\" rel=\"nofollow\">Unfollowers.me</a>', u'retweeted': False, u'coordinates': None, u'entities': {u'symbols': [], u'user_mentions': [], u'hashtags': [], u'urls': [{u'url': u'http://t.co/XEyot6zAtw', u'indices': [49, 71], u'expanded_url': u'http://Unfollowers.com/?s=dt', u'display_url': u'Unfollowers.com/?s=dt'}]}, u'in_reply_to_screen_name': None, u'id_str': u'481531193301561345', u'retweet_count': 0, u'in_reply_to_user_id': None, u'favorited': False, u'geo': None, u'in_reply_to_user_id_str': None, u'possibly_sensitive': False, u'lang': u'en', u'created_at': u'Tue Jun 24 20:15:57 +0000 2014', u'in_reply_to_status_id_str': None, u'place': None}, u'lang': u'en', u'utc_offset': -18000, u'statuses_count': 975, u'description': u'I dont actually have 900 tweets its jacked up', u'friends_count': 60, u'profile_link_color': u'009999', u'profile_image_url': u'http://pbs.twimg.com/profile_images/475060790949466112/04Ulx3kT_normal.jpeg', u'notifications': False, u'profile_background_image_url_https': u'https://abs.twimg.com/images/themes/theme14/bg.gif', u'profile_background_color': u'131516', u'profile_banner_url': u'https://pbs.twimg.com/profile_banners/385650046/1402098297', u'profile_background_image_url': u'http://abs.twimg.com/images/themes/theme14/bg.gif', u'name': u'ur cute', u'is_translation_enabled': False, u'profile_background_tile': True, u'favourites_count': 2763, u'screen_name': u'prettipottorff', u'url': None, u'created_at': u'Wed Oct 05 21:38:21 +0000 2011', u'contributors_enabled': False, u'time_zone': u'Central Time (US & Canada)', u'profile_sidebar_border_color': u'EEEEEE', u'default_profile': False, u'following': False, u'listed_count': 0}\n"
       ]
      }
     ],
     "prompt_number": 14
    },
    {
     "cell_type": "code",
     "collapsed": false,
     "input": [],
     "language": "python",
     "metadata": {},
     "outputs": []
    }
   ],
   "metadata": {}
  }
 ]
}