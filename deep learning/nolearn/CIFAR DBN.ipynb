{
 "metadata": {
  "name": "",
  "signature": "sha256:535226db8ca9ef1489ec689d02f532f0de36fe86d51c25a324cc50ed00cdcd41"
 },
 "nbformat": 3,
 "nbformat_minor": 0,
 "worksheets": [
  {
   "cells": [
    {
     "cell_type": "heading",
     "level": 6,
     "metadata": {},
     "source": [
      "This is an example of how to build a Deep Belief Network using the nolearn python package in combination with sklearn. Make sure to install nolearn and sklearn prior to running this script."
     ]
    },
    {
     "cell_type": "code",
     "collapsed": false,
     "input": [
      "import cPickle\n",
      "import numpy as np\n",
      "from sklearn.metrics import classification_report,confusion_matrix\n",
      "from nolearn.dbn import DBN"
     ],
     "language": "python",
     "metadata": {},
     "outputs": [
      {
       "output_type": "stream",
       "stream": "stdout",
       "text": [
        "gnumpy: failed to import cudamat. Using npmat instead. No GPU will be used.\n"
       ]
      }
     ],
     "prompt_number": 3
    },
    {
     "cell_type": "heading",
     "level": 6,
     "metadata": {},
     "source": [
      "Write a function to import and convert our data."
     ]
    },
    {
     "cell_type": "code",
     "collapsed": false,
     "input": [
      "def load(name):\n",
      "    with open(name, 'rb') as f:\n",
      "        return cPickle.load(f)"
     ],
     "language": "python",
     "metadata": {},
     "outputs": [],
     "prompt_number": 4
    },
    {
     "cell_type": "heading",
     "level": 6,
     "metadata": {},
     "source": [
      "import the data. The CIFAR-10 dataset is required for this example. You can download it here: http://www.cs.toronto.edu/~kriz/cifar-10-python.tar.gz. Put it in the folder above your ipython notebook folder in a folder called data. You could also change the directory below."
     ]
    },
    {
     "cell_type": "code",
     "collapsed": false,
     "input": [
      "dataset1 = load('../data/cifar-10-batches-py/data_batch_1')\n",
      "dataset2 = load('../data/cifar-10-batches-py/data_batch_2')\n",
      "dataset3 = load('../data/cifar-10-batches-py/data_batch_3')"
     ],
     "language": "python",
     "metadata": {},
     "outputs": [],
     "prompt_number": 5
    },
    {
     "cell_type": "heading",
     "level": 6,
     "metadata": {},
     "source": [
      "We're using 2/3 datasets as our training data and the other 1/3 as our test data. Therefore we want to combine the two batches that we're using for training."
     ]
    },
    {
     "cell_type": "code",
     "collapsed": false,
     "input": [
      "data_train = np.vstack([dataset1['data'], dataset2['data']])\n",
      "labels_train = np.hstack([dataset1['labels'], dataset2['labels']])"
     ],
     "language": "python",
     "metadata": {},
     "outputs": [],
     "prompt_number": 6
    },
    {
     "cell_type": "heading",
     "level": 6,
     "metadata": {},
     "source": [
      "We need to normalize our data so that everything we're inputting into the model are at the same scale. We're dividing all the data by 255 to force each cell of the array to be between 0 and 1."
     ]
    },
    {
     "cell_type": "code",
     "collapsed": false,
     "input": [
      "data_train = data_train.astype('float') / 255.\n",
      "labels_train = labels_train\n",
      "data_test = dataset3['data'].astype('float') / 255.\n",
      "labels_test = np.array(dataset3['labels'])"
     ],
     "language": "python",
     "metadata": {},
     "outputs": [],
     "prompt_number": 8
    },
    {
     "cell_type": "heading",
     "level": 6,
     "metadata": {},
     "source": [
      "Sometimes we can use the data to create our hyper parameters for the DBN. We're grabbing the number of features that are being input into the model and the number of classes potentially being output by the model."
     ]
    },
    {
     "cell_type": "code",
     "collapsed": false,
     "input": [
      "n_feat = data_train.shape[1]\n",
      "print \"Features:\",n_feat\n",
      "n_targets = labels_train.max() + 1\n",
      "print \"Targets:\",n_targets"
     ],
     "language": "python",
     "metadata": {},
     "outputs": [
      {
       "output_type": "stream",
       "stream": "stdout",
       "text": [
        "Features: 3072\n",
        "Targets: 10\n"
       ]
      }
     ],
     "prompt_number": 13
    },
    {
     "cell_type": "heading",
     "level": 6,
     "metadata": {},
     "source": [
      "Create the Deep Belief Network classifier class. The first argument is a list of hyper parameters for the model. [# of inputs (features), # of hidden layers, # of classes]. You can read more about this class here: https://pythonhosted.org/nolearn/dbn.html"
     ]
    },
    {
     "cell_type": "code",
     "collapsed": false,
     "input": [
      "net = DBN(\n",
      "    [n_feat, n_feat / 3, n_targets],\n",
      "    epochs=50,\n",
      "    learn_rates=0.03,\n",
      "    verbose=1,\n",
      "    )"
     ],
     "language": "python",
     "metadata": {},
     "outputs": [],
     "prompt_number": 10
    },
    {
     "cell_type": "heading",
     "level": 6,
     "metadata": {},
     "source": [
      "Train the model...This will take some time (30-40 minutes) Side note: You likely see the error above (when importing your packages) that reads \"gnumpy: failed to import cudamat. Using npmat instead. No GPU will be used.\" This is an important point - a large upside to deep learning algorithms is the ability to use the system's GPUs. The cudamat python package provides us with that functionality. However, you must have a CUDA-enabled GPU on your system. Find the graphics card on your system and see if it is on the CUDA GPU list, here: https://developer.nvidia.com/cuda-gpus. My assumption is that training our model with the GPUs would be significatly faster, but I haven't tested it."
     ]
    },
    {
     "cell_type": "code",
     "collapsed": false,
     "input": [
      "net.fit(data_train, labels_train)"
     ],
     "language": "python",
     "metadata": {},
     "outputs": [
      {
       "output_type": "stream",
       "stream": "stdout",
       "text": [
        "[DBN] fitting X.shape=(20000, 3072)\n",
        "[DBN] layers [3072, 1024, 10]\n",
        "[DBN] Fine-tune..."
       ]
      },
      {
       "output_type": "stream",
       "stream": "stderr",
       "text": [
        "1%\r"
       ]
      },
      {
       "output_type": "stream",
       "stream": "stderr",
       "text": [
        "2%\r"
       ]
      },
      {
       "output_type": "stream",
       "stream": "stderr",
       "text": [
        "3%\r"
       ]
      },
      {
       "output_type": "stream",
       "stream": "stderr",
       "text": [
        "4%\r"
       ]
      },
      {
       "output_type": "stream",
       "stream": "stderr",
       "text": [
        "5%\r"
       ]
      },
      {
       "output_type": "stream",
       "stream": "stderr",
       "text": [
        "6%\r"
       ]
      },
      {
       "output_type": "stream",
       "stream": "stderr",
       "text": [
        "7%\r"
       ]
      },
      {
       "output_type": "stream",
       "stream": "stderr",
       "text": [
        "8%\r"
       ]
      },
      {
       "output_type": "stream",
       "stream": "stderr",
       "text": [
        "9%\r"
       ]
      },
      {
       "output_type": "stream",
       "stream": "stderr",
       "text": [
        "10%\r"
       ]
      },
      {
       "output_type": "stream",
       "stream": "stderr",
       "text": [
        "11%\r"
       ]
      },
      {
       "output_type": "stream",
       "stream": "stderr",
       "text": [
        "12%\r"
       ]
      },
      {
       "output_type": "stream",
       "stream": "stderr",
       "text": [
        "13%\r"
       ]
      },
      {
       "output_type": "stream",
       "stream": "stderr",
       "text": [
        "14%\r"
       ]
      },
      {
       "output_type": "stream",
       "stream": "stderr",
       "text": [
        "15%\r"
       ]
      },
      {
       "output_type": "stream",
       "stream": "stderr",
       "text": [
        "16%\r"
       ]
      },
      {
       "output_type": "stream",
       "stream": "stderr",
       "text": [
        "17%\r"
       ]
      },
      {
       "output_type": "stream",
       "stream": "stderr",
       "text": [
        "18%\r"
       ]
      },
      {
       "output_type": "stream",
       "stream": "stderr",
       "text": [
        "19%\r"
       ]
      },
      {
       "output_type": "stream",
       "stream": "stderr",
       "text": [
        "20%\r"
       ]
      },
      {
       "output_type": "stream",
       "stream": "stderr",
       "text": [
        "21%\r"
       ]
      },
      {
       "output_type": "stream",
       "stream": "stderr",
       "text": [
        "22%\r"
       ]
      },
      {
       "output_type": "stream",
       "stream": "stderr",
       "text": [
        "23%\r"
       ]
      },
      {
       "output_type": "stream",
       "stream": "stderr",
       "text": [
        "24%\r"
       ]
      },
      {
       "output_type": "stream",
       "stream": "stderr",
       "text": [
        "25%\r"
       ]
      },
      {
       "output_type": "stream",
       "stream": "stderr",
       "text": [
        "26%\r"
       ]
      },
      {
       "output_type": "stream",
       "stream": "stderr",
       "text": [
        "27%\r"
       ]
      },
      {
       "output_type": "stream",
       "stream": "stderr",
       "text": [
        "28%\r"
       ]
      },
      {
       "output_type": "stream",
       "stream": "stderr",
       "text": [
        "29%\r"
       ]
      },
      {
       "output_type": "stream",
       "stream": "stderr",
       "text": [
        "30%\r"
       ]
      },
      {
       "output_type": "stream",
       "stream": "stderr",
       "text": [
        "31%\r"
       ]
      },
      {
       "output_type": "stream",
       "stream": "stderr",
       "text": [
        "32%\r"
       ]
      },
      {
       "output_type": "stream",
       "stream": "stderr",
       "text": [
        "33%\r"
       ]
      },
      {
       "output_type": "stream",
       "stream": "stderr",
       "text": [
        "34%\r"
       ]
      },
      {
       "output_type": "stream",
       "stream": "stderr",
       "text": [
        "35%\r"
       ]
      },
      {
       "output_type": "stream",
       "stream": "stderr",
       "text": [
        "36%\r"
       ]
      },
      {
       "output_type": "stream",
       "stream": "stderr",
       "text": [
        "37%\r"
       ]
      },
      {
       "output_type": "stream",
       "stream": "stderr",
       "text": [
        "38%\r"
       ]
      },
      {
       "output_type": "stream",
       "stream": "stderr",
       "text": [
        "39%\r"
       ]
      },
      {
       "output_type": "stream",
       "stream": "stderr",
       "text": [
        "40%\r"
       ]
      },
      {
       "output_type": "stream",
       "stream": "stderr",
       "text": [
        "41%\r"
       ]
      },
      {
       "output_type": "stream",
       "stream": "stderr",
       "text": [
        "42%\r"
       ]
      },
      {
       "output_type": "stream",
       "stream": "stderr",
       "text": [
        "43%\r"
       ]
      },
      {
       "output_type": "stream",
       "stream": "stderr",
       "text": [
        "44%\r"
       ]
      },
      {
       "output_type": "stream",
       "stream": "stderr",
       "text": [
        "45%\r"
       ]
      },
      {
       "output_type": "stream",
       "stream": "stderr",
       "text": [
        "46%\r"
       ]
      },
      {
       "output_type": "stream",
       "stream": "stderr",
       "text": [
        "47%\r"
       ]
      },
      {
       "output_type": "stream",
       "stream": "stderr",
       "text": [
        "48%\r"
       ]
      },
      {
       "output_type": "stream",
       "stream": "stderr",
       "text": [
        "49%\r"
       ]
      },
      {
       "output_type": "stream",
       "stream": "stderr",
       "text": [
        "50%\r"
       ]
      },
      {
       "output_type": "stream",
       "stream": "stderr",
       "text": [
        "51%\r"
       ]
      },
      {
       "output_type": "stream",
       "stream": "stderr",
       "text": [
        "52%\r"
       ]
      },
      {
       "output_type": "stream",
       "stream": "stderr",
       "text": [
        "53%\r"
       ]
      },
      {
       "output_type": "stream",
       "stream": "stderr",
       "text": [
        "54%\r"
       ]
      },
      {
       "output_type": "stream",
       "stream": "stderr",
       "text": [
        "55%\r"
       ]
      },
      {
       "output_type": "stream",
       "stream": "stderr",
       "text": [
        "56%\r"
       ]
      },
      {
       "output_type": "stream",
       "stream": "stderr",
       "text": [
        "57%\r"
       ]
      },
      {
       "output_type": "stream",
       "stream": "stderr",
       "text": [
        "58%\r"
       ]
      },
      {
       "output_type": "stream",
       "stream": "stderr",
       "text": [
        "59%\r"
       ]
      },
      {
       "output_type": "stream",
       "stream": "stderr",
       "text": [
        "60%\r"
       ]
      },
      {
       "output_type": "stream",
       "stream": "stderr",
       "text": [
        "61%\r"
       ]
      },
      {
       "output_type": "stream",
       "stream": "stderr",
       "text": [
        "62%\r"
       ]
      },
      {
       "output_type": "stream",
       "stream": "stderr",
       "text": [
        "63%\r"
       ]
      },
      {
       "output_type": "stream",
       "stream": "stderr",
       "text": [
        "64%\r"
       ]
      },
      {
       "output_type": "stream",
       "stream": "stderr",
       "text": [
        "65%\r"
       ]
      },
      {
       "output_type": "stream",
       "stream": "stderr",
       "text": [
        "66%\r"
       ]
      },
      {
       "output_type": "stream",
       "stream": "stderr",
       "text": [
        "67%\r"
       ]
      },
      {
       "output_type": "stream",
       "stream": "stderr",
       "text": [
        "68%\r"
       ]
      },
      {
       "output_type": "stream",
       "stream": "stderr",
       "text": [
        "69%\r"
       ]
      },
      {
       "output_type": "stream",
       "stream": "stderr",
       "text": [
        "70%\r"
       ]
      },
      {
       "output_type": "stream",
       "stream": "stderr",
       "text": [
        "71%\r"
       ]
      },
      {
       "output_type": "stream",
       "stream": "stderr",
       "text": [
        "72%\r"
       ]
      },
      {
       "output_type": "stream",
       "stream": "stderr",
       "text": [
        "73%\r"
       ]
      },
      {
       "output_type": "stream",
       "stream": "stderr",
       "text": [
        "74%\r"
       ]
      },
      {
       "output_type": "stream",
       "stream": "stderr",
       "text": [
        "75%\r"
       ]
      },
      {
       "output_type": "stream",
       "stream": "stderr",
       "text": [
        "76%\r"
       ]
      },
      {
       "output_type": "stream",
       "stream": "stderr",
       "text": [
        "77%\r"
       ]
      },
      {
       "output_type": "stream",
       "stream": "stderr",
       "text": [
        "78%\r"
       ]
      },
      {
       "output_type": "stream",
       "stream": "stderr",
       "text": [
        "79%\r"
       ]
      },
      {
       "output_type": "stream",
       "stream": "stderr",
       "text": [
        "80%\r"
       ]
      },
      {
       "output_type": "stream",
       "stream": "stderr",
       "text": [
        "81%\r"
       ]
      },
      {
       "output_type": "stream",
       "stream": "stderr",
       "text": [
        "82%\r"
       ]
      },
      {
       "output_type": "stream",
       "stream": "stderr",
       "text": [
        "83%\r"
       ]
      },
      {
       "output_type": "stream",
       "stream": "stderr",
       "text": [
        "84%\r"
       ]
      },
      {
       "output_type": "stream",
       "stream": "stderr",
       "text": [
        "85%\r"
       ]
      },
      {
       "output_type": "stream",
       "stream": "stderr",
       "text": [
        "86%\r"
       ]
      },
      {
       "output_type": "stream",
       "stream": "stderr",
       "text": [
        "87%\r"
       ]
      },
      {
       "output_type": "stream",
       "stream": "stderr",
       "text": [
        "88%\r"
       ]
      },
      {
       "output_type": "stream",
       "stream": "stderr",
       "text": [
        "89%\r"
       ]
      },
      {
       "output_type": "stream",
       "stream": "stderr",
       "text": [
        "90%\r"
       ]
      },
      {
       "output_type": "stream",
       "stream": "stderr",
       "text": [
        "91%\r"
       ]
      },
      {
       "output_type": "stream",
       "stream": "stderr",
       "text": [
        "92%\r"
       ]
      },
      {
       "output_type": "stream",
       "stream": "stderr",
       "text": [
        "93%\r"
       ]
      },
      {
       "output_type": "stream",
       "stream": "stderr",
       "text": [
        "94%\r"
       ]
      },
      {
       "output_type": "stream",
       "stream": "stderr",
       "text": [
        "95%\r"
       ]
      },
      {
       "output_type": "stream",
       "stream": "stderr",
       "text": [
        "96%\r"
       ]
      },
      {
       "output_type": "stream",
       "stream": "stderr",
       "text": [
        "97%\r"
       ]
      },
      {
       "output_type": "stream",
       "stream": "stderr",
       "text": [
        "98%\r"
       ]
      },
      {
       "output_type": "stream",
       "stream": "stderr",
       "text": [
        "99%\r"
       ]
      },
      {
       "output_type": "stream",
       "stream": "stderr",
       "text": [
        "100%\r"
       ]
      },
      {
       "output_type": "stream",
       "stream": "stderr",
       "text": [
        "100%\n"
       ]
      },
      {
       "output_type": "stream",
       "stream": "stdout",
       "text": [
        "\n",
        "Epoch 1:"
       ]
      },
      {
       "output_type": "stream",
       "stream": "stderr",
       "text": [
        "1%\r"
       ]
      },
      {
       "output_type": "stream",
       "stream": "stderr",
       "text": [
        "2%\r"
       ]
      },
      {
       "output_type": "stream",
       "stream": "stderr",
       "text": [
        "3%\r"
       ]
      },
      {
       "output_type": "stream",
       "stream": "stderr",
       "text": [
        "4%\r"
       ]
      },
      {
       "output_type": "stream",
       "stream": "stderr",
       "text": [
        "5%\r"
       ]
      },
      {
       "output_type": "stream",
       "stream": "stderr",
       "text": [
        "6%\r"
       ]
      },
      {
       "output_type": "stream",
       "stream": "stderr",
       "text": [
        "7%\r"
       ]
      },
      {
       "output_type": "stream",
       "stream": "stderr",
       "text": [
        "8%\r"
       ]
      },
      {
       "output_type": "stream",
       "stream": "stderr",
       "text": [
        "9%\r"
       ]
      },
      {
       "output_type": "stream",
       "stream": "stderr",
       "text": [
        "10%\r"
       ]
      },
      {
       "output_type": "stream",
       "stream": "stderr",
       "text": [
        "11%\r"
       ]
      },
      {
       "output_type": "stream",
       "stream": "stderr",
       "text": [
        "12%\r"
       ]
      },
      {
       "output_type": "stream",
       "stream": "stderr",
       "text": [
        "13%\r"
       ]
      },
      {
       "output_type": "stream",
       "stream": "stderr",
       "text": [
        "14%\r"
       ]
      },
      {
       "output_type": "stream",
       "stream": "stderr",
       "text": [
        "15%\r"
       ]
      },
      {
       "output_type": "stream",
       "stream": "stderr",
       "text": [
        "16%\r"
       ]
      },
      {
       "output_type": "stream",
       "stream": "stderr",
       "text": [
        "17%\r"
       ]
      },
      {
       "output_type": "stream",
       "stream": "stderr",
       "text": [
        "18%\r"
       ]
      },
      {
       "output_type": "stream",
       "stream": "stderr",
       "text": [
        "19%\r"
       ]
      },
      {
       "output_type": "stream",
       "stream": "stderr",
       "text": [
        "20%\r"
       ]
      },
      {
       "output_type": "stream",
       "stream": "stderr",
       "text": [
        "21%\r"
       ]
      },
      {
       "output_type": "stream",
       "stream": "stderr",
       "text": [
        "22%\r"
       ]
      },
      {
       "output_type": "stream",
       "stream": "stderr",
       "text": [
        "23%\r"
       ]
      },
      {
       "output_type": "stream",
       "stream": "stderr",
       "text": [
        "24%\r"
       ]
      },
      {
       "output_type": "stream",
       "stream": "stderr",
       "text": [
        "25%\r"
       ]
      },
      {
       "output_type": "stream",
       "stream": "stderr",
       "text": [
        "26%\r"
       ]
      },
      {
       "output_type": "stream",
       "stream": "stderr",
       "text": [
        "27%\r"
       ]
      },
      {
       "output_type": "stream",
       "stream": "stderr",
       "text": [
        "28%\r"
       ]
      },
      {
       "output_type": "stream",
       "stream": "stderr",
       "text": [
        "29%\r"
       ]
      },
      {
       "output_type": "stream",
       "stream": "stderr",
       "text": [
        "30%\r"
       ]
      },
      {
       "output_type": "stream",
       "stream": "stderr",
       "text": [
        "31%\r"
       ]
      },
      {
       "output_type": "stream",
       "stream": "stderr",
       "text": [
        "32%\r"
       ]
      },
      {
       "output_type": "stream",
       "stream": "stderr",
       "text": [
        "33%\r"
       ]
      },
      {
       "output_type": "stream",
       "stream": "stderr",
       "text": [
        "34%\r"
       ]
      },
      {
       "output_type": "stream",
       "stream": "stderr",
       "text": [
        "35%\r"
       ]
      },
      {
       "output_type": "stream",
       "stream": "stderr",
       "text": [
        "36%\r"
       ]
      },
      {
       "output_type": "stream",
       "stream": "stderr",
       "text": [
        "37%\r"
       ]
      },
      {
       "output_type": "stream",
       "stream": "stderr",
       "text": [
        "38%\r"
       ]
      },
      {
       "output_type": "stream",
       "stream": "stderr",
       "text": [
        "39%\r"
       ]
      },
      {
       "output_type": "stream",
       "stream": "stderr",
       "text": [
        "40%\r"
       ]
      },
      {
       "output_type": "stream",
       "stream": "stderr",
       "text": [
        "41%\r"
       ]
      },
      {
       "output_type": "stream",
       "stream": "stderr",
       "text": [
        "42%\r"
       ]
      },
      {
       "output_type": "stream",
       "stream": "stderr",
       "text": [
        "43%\r"
       ]
      },
      {
       "output_type": "stream",
       "stream": "stderr",
       "text": [
        "44%\r"
       ]
      },
      {
       "output_type": "stream",
       "stream": "stderr",
       "text": [
        "45%\r"
       ]
      },
      {
       "output_type": "stream",
       "stream": "stderr",
       "text": [
        "46%\r"
       ]
      },
      {
       "output_type": "stream",
       "stream": "stderr",
       "text": [
        "47%\r"
       ]
      },
      {
       "output_type": "stream",
       "stream": "stderr",
       "text": [
        "48%\r"
       ]
      },
      {
       "output_type": "stream",
       "stream": "stderr",
       "text": [
        "49%\r"
       ]
      },
      {
       "output_type": "stream",
       "stream": "stderr",
       "text": [
        "50%\r"
       ]
      },
      {
       "output_type": "stream",
       "stream": "stderr",
       "text": [
        "51%\r"
       ]
      },
      {
       "output_type": "stream",
       "stream": "stderr",
       "text": [
        "52%\r"
       ]
      },
      {
       "output_type": "stream",
       "stream": "stderr",
       "text": [
        "53%\r"
       ]
      },
      {
       "output_type": "stream",
       "stream": "stderr",
       "text": [
        "54%\r"
       ]
      },
      {
       "output_type": "stream",
       "stream": "stderr",
       "text": [
        "55%\r"
       ]
      },
      {
       "output_type": "stream",
       "stream": "stderr",
       "text": [
        "56%\r"
       ]
      },
      {
       "output_type": "stream",
       "stream": "stderr",
       "text": [
        "57%\r"
       ]
      },
      {
       "output_type": "stream",
       "stream": "stderr",
       "text": [
        "58%\r"
       ]
      },
      {
       "output_type": "stream",
       "stream": "stderr",
       "text": [
        "59%\r"
       ]
      },
      {
       "output_type": "stream",
       "stream": "stderr",
       "text": [
        "60%\r"
       ]
      },
      {
       "output_type": "stream",
       "stream": "stderr",
       "text": [
        "61%\r"
       ]
      },
      {
       "output_type": "stream",
       "stream": "stderr",
       "text": [
        "62%\r"
       ]
      },
      {
       "output_type": "stream",
       "stream": "stderr",
       "text": [
        "63%\r"
       ]
      },
      {
       "output_type": "stream",
       "stream": "stderr",
       "text": [
        "64%\r"
       ]
      },
      {
       "output_type": "stream",
       "stream": "stderr",
       "text": [
        "65%\r"
       ]
      },
      {
       "output_type": "stream",
       "stream": "stderr",
       "text": [
        "66%\r"
       ]
      },
      {
       "output_type": "stream",
       "stream": "stderr",
       "text": [
        "67%\r"
       ]
      },
      {
       "output_type": "stream",
       "stream": "stderr",
       "text": [
        "68%\r"
       ]
      },
      {
       "output_type": "stream",
       "stream": "stderr",
       "text": [
        "69%\r"
       ]
      },
      {
       "output_type": "stream",
       "stream": "stderr",
       "text": [
        "70%\r"
       ]
      },
      {
       "output_type": "stream",
       "stream": "stderr",
       "text": [
        "71%\r"
       ]
      },
      {
       "output_type": "stream",
       "stream": "stderr",
       "text": [
        "72%\r"
       ]
      },
      {
       "output_type": "stream",
       "stream": "stderr",
       "text": [
        "73%\r"
       ]
      },
      {
       "output_type": "stream",
       "stream": "stderr",
       "text": [
        "74%\r"
       ]
      },
      {
       "output_type": "stream",
       "stream": "stderr",
       "text": [
        "75%\r"
       ]
      },
      {
       "output_type": "stream",
       "stream": "stderr",
       "text": [
        "76%\r"
       ]
      },
      {
       "output_type": "stream",
       "stream": "stderr",
       "text": [
        "77%\r"
       ]
      },
      {
       "output_type": "stream",
       "stream": "stderr",
       "text": [
        "78%\r"
       ]
      },
      {
       "output_type": "stream",
       "stream": "stderr",
       "text": [
        "79%\r"
       ]
      },
      {
       "output_type": "stream",
       "stream": "stderr",
       "text": [
        "80%\r"
       ]
      },
      {
       "output_type": "stream",
       "stream": "stderr",
       "text": [
        "81%\r"
       ]
      },
      {
       "output_type": "stream",
       "stream": "stderr",
       "text": [
        "82%\r"
       ]
      },
      {
       "output_type": "stream",
       "stream": "stderr",
       "text": [
        "83%\r"
       ]
      },
      {
       "output_type": "stream",
       "stream": "stderr",
       "text": [
        "84%\r"
       ]
      },
      {
       "output_type": "stream",
       "stream": "stderr",
       "text": [
        "85%\r"
       ]
      },
      {
       "output_type": "stream",
       "stream": "stderr",
       "text": [
        "86%\r"
       ]
      },
      {
       "output_type": "stream",
       "stream": "stderr",
       "text": [
        "87%\r"
       ]
      },
      {
       "output_type": "stream",
       "stream": "stderr",
       "text": [
        "88%\r"
       ]
      },
      {
       "output_type": "stream",
       "stream": "stderr",
       "text": [
        "89%\r"
       ]
      },
      {
       "output_type": "stream",
       "stream": "stderr",
       "text": [
        "90%\r"
       ]
      },
      {
       "output_type": "stream",
       "stream": "stderr",
       "text": [
        "91%\r"
       ]
      },
      {
       "output_type": "stream",
       "stream": "stderr",
       "text": [
        "92%\r"
       ]
      },
      {
       "output_type": "stream",
       "stream": "stderr",
       "text": [
        "93%\r"
       ]
      },
      {
       "output_type": "stream",
       "stream": "stderr",
       "text": [
        "94%\r"
       ]
      },
      {
       "output_type": "stream",
       "stream": "stderr",
       "text": [
        "95%\r"
       ]
      },
      {
       "output_type": "stream",
       "stream": "stderr",
       "text": [
        "96%\r"
       ]
      },
      {
       "output_type": "stream",
       "stream": "stderr",
       "text": [
        "97%\r"
       ]
      },
      {
       "output_type": "stream",
       "stream": "stderr",
       "text": [
        "98%\r"
       ]
      },
      {
       "output_type": "stream",
       "stream": "stderr",
       "text": [
        "99%\r"
       ]
      },
      {
       "output_type": "stream",
       "stream": "stderr",
       "text": [
        "100%\r"
       ]
      },
      {
       "output_type": "stream",
       "stream": "stderr",
       "text": [
        "100%\n"
       ]
      },
      {
       "output_type": "stream",
       "stream": "stdout",
       "text": [
        "\n",
        "  loss 2.10727403561\n",
        "  err  0.690054086538\n",
        "  (0:00:42)\n",
        "Epoch 2:"
       ]
      },
      {
       "output_type": "stream",
       "stream": "stderr",
       "text": [
        "1%\r"
       ]
      },
      {
       "output_type": "stream",
       "stream": "stderr",
       "text": [
        "2%\r"
       ]
      },
      {
       "output_type": "stream",
       "stream": "stderr",
       "text": [
        "3%\r"
       ]
      },
      {
       "output_type": "stream",
       "stream": "stderr",
       "text": [
        "4%\r"
       ]
      },
      {
       "output_type": "stream",
       "stream": "stderr",
       "text": [
        "5%\r"
       ]
      },
      {
       "output_type": "stream",
       "stream": "stderr",
       "text": [
        "6%\r"
       ]
      },
      {
       "output_type": "stream",
       "stream": "stderr",
       "text": [
        "7%\r"
       ]
      },
      {
       "output_type": "stream",
       "stream": "stderr",
       "text": [
        "8%\r"
       ]
      },
      {
       "output_type": "stream",
       "stream": "stderr",
       "text": [
        "9%\r"
       ]
      },
      {
       "output_type": "stream",
       "stream": "stderr",
       "text": [
        "10%\r"
       ]
      },
      {
       "output_type": "stream",
       "stream": "stderr",
       "text": [
        "11%\r"
       ]
      },
      {
       "output_type": "stream",
       "stream": "stderr",
       "text": [
        "12%\r"
       ]
      },
      {
       "output_type": "stream",
       "stream": "stderr",
       "text": [
        "13%\r"
       ]
      },
      {
       "output_type": "stream",
       "stream": "stderr",
       "text": [
        "14%\r"
       ]
      },
      {
       "output_type": "stream",
       "stream": "stderr",
       "text": [
        "15%\r"
       ]
      },
      {
       "output_type": "stream",
       "stream": "stderr",
       "text": [
        "16%\r"
       ]
      },
      {
       "output_type": "stream",
       "stream": "stderr",
       "text": [
        "17%\r"
       ]
      },
      {
       "output_type": "stream",
       "stream": "stderr",
       "text": [
        "18%\r"
       ]
      },
      {
       "output_type": "stream",
       "stream": "stderr",
       "text": [
        "19%\r"
       ]
      },
      {
       "output_type": "stream",
       "stream": "stderr",
       "text": [
        "20%\r"
       ]
      },
      {
       "output_type": "stream",
       "stream": "stderr",
       "text": [
        "21%\r"
       ]
      },
      {
       "output_type": "stream",
       "stream": "stderr",
       "text": [
        "22%\r"
       ]
      },
      {
       "output_type": "stream",
       "stream": "stderr",
       "text": [
        "23%\r"
       ]
      },
      {
       "output_type": "stream",
       "stream": "stderr",
       "text": [
        "24%\r"
       ]
      },
      {
       "output_type": "stream",
       "stream": "stderr",
       "text": [
        "25%\r"
       ]
      },
      {
       "output_type": "stream",
       "stream": "stderr",
       "text": [
        "26%\r"
       ]
      },
      {
       "output_type": "stream",
       "stream": "stderr",
       "text": [
        "27%\r"
       ]
      },
      {
       "output_type": "stream",
       "stream": "stderr",
       "text": [
        "28%\r"
       ]
      },
      {
       "output_type": "stream",
       "stream": "stderr",
       "text": [
        "29%\r"
       ]
      },
      {
       "output_type": "stream",
       "stream": "stderr",
       "text": [
        "30%\r"
       ]
      },
      {
       "output_type": "stream",
       "stream": "stderr",
       "text": [
        "31%\r"
       ]
      },
      {
       "output_type": "stream",
       "stream": "stderr",
       "text": [
        "32%\r"
       ]
      },
      {
       "output_type": "stream",
       "stream": "stderr",
       "text": [
        "33%\r"
       ]
      },
      {
       "output_type": "stream",
       "stream": "stderr",
       "text": [
        "34%\r"
       ]
      },
      {
       "output_type": "stream",
       "stream": "stderr",
       "text": [
        "35%\r"
       ]
      },
      {
       "output_type": "stream",
       "stream": "stderr",
       "text": [
        "36%\r"
       ]
      },
      {
       "output_type": "stream",
       "stream": "stderr",
       "text": [
        "37%\r"
       ]
      },
      {
       "output_type": "stream",
       "stream": "stderr",
       "text": [
        "38%\r"
       ]
      },
      {
       "output_type": "stream",
       "stream": "stderr",
       "text": [
        "39%\r"
       ]
      },
      {
       "output_type": "stream",
       "stream": "stderr",
       "text": [
        "40%\r"
       ]
      },
      {
       "output_type": "stream",
       "stream": "stderr",
       "text": [
        "41%\r"
       ]
      },
      {
       "output_type": "stream",
       "stream": "stderr",
       "text": [
        "42%\r"
       ]
      },
      {
       "output_type": "stream",
       "stream": "stderr",
       "text": [
        "43%\r"
       ]
      },
      {
       "output_type": "stream",
       "stream": "stderr",
       "text": [
        "44%\r"
       ]
      },
      {
       "output_type": "stream",
       "stream": "stderr",
       "text": [
        "45%\r"
       ]
      },
      {
       "output_type": "stream",
       "stream": "stderr",
       "text": [
        "46%\r"
       ]
      },
      {
       "output_type": "stream",
       "stream": "stderr",
       "text": [
        "47%\r"
       ]
      },
      {
       "output_type": "stream",
       "stream": "stderr",
       "text": [
        "48%\r"
       ]
      },
      {
       "output_type": "stream",
       "stream": "stderr",
       "text": [
        "49%\r"
       ]
      },
      {
       "output_type": "stream",
       "stream": "stderr",
       "text": [
        "50%\r"
       ]
      },
      {
       "output_type": "stream",
       "stream": "stderr",
       "text": [
        "51%\r"
       ]
      },
      {
       "output_type": "stream",
       "stream": "stderr",
       "text": [
        "52%\r"
       ]
      },
      {
       "output_type": "stream",
       "stream": "stderr",
       "text": [
        "53%\r"
       ]
      },
      {
       "output_type": "stream",
       "stream": "stderr",
       "text": [
        "54%\r"
       ]
      },
      {
       "output_type": "stream",
       "stream": "stderr",
       "text": [
        "55%\r"
       ]
      },
      {
       "output_type": "stream",
       "stream": "stderr",
       "text": [
        "56%\r"
       ]
      },
      {
       "output_type": "stream",
       "stream": "stderr",
       "text": [
        "57%\r"
       ]
      },
      {
       "output_type": "stream",
       "stream": "stderr",
       "text": [
        "58%\r"
       ]
      },
      {
       "output_type": "stream",
       "stream": "stderr",
       "text": [
        "59%\r"
       ]
      },
      {
       "output_type": "stream",
       "stream": "stderr",
       "text": [
        "60%\r"
       ]
      },
      {
       "output_type": "stream",
       "stream": "stderr",
       "text": [
        "61%\r"
       ]
      },
      {
       "output_type": "stream",
       "stream": "stderr",
       "text": [
        "62%\r"
       ]
      },
      {
       "output_type": "stream",
       "stream": "stderr",
       "text": [
        "63%\r"
       ]
      },
      {
       "output_type": "stream",
       "stream": "stderr",
       "text": [
        "64%\r"
       ]
      },
      {
       "output_type": "stream",
       "stream": "stderr",
       "text": [
        "65%\r"
       ]
      },
      {
       "output_type": "stream",
       "stream": "stderr",
       "text": [
        "66%\r"
       ]
      },
      {
       "output_type": "stream",
       "stream": "stderr",
       "text": [
        "67%\r"
       ]
      },
      {
       "output_type": "stream",
       "stream": "stderr",
       "text": [
        "68%\r"
       ]
      },
      {
       "output_type": "stream",
       "stream": "stderr",
       "text": [
        "69%\r"
       ]
      },
      {
       "output_type": "stream",
       "stream": "stderr",
       "text": [
        "70%\r"
       ]
      },
      {
       "output_type": "stream",
       "stream": "stderr",
       "text": [
        "71%\r"
       ]
      },
      {
       "output_type": "stream",
       "stream": "stderr",
       "text": [
        "72%\r"
       ]
      },
      {
       "output_type": "stream",
       "stream": "stderr",
       "text": [
        "73%\r"
       ]
      },
      {
       "output_type": "stream",
       "stream": "stderr",
       "text": [
        "74%\r"
       ]
      },
      {
       "output_type": "stream",
       "stream": "stderr",
       "text": [
        "75%\r"
       ]
      },
      {
       "output_type": "stream",
       "stream": "stderr",
       "text": [
        "76%\r"
       ]
      },
      {
       "output_type": "stream",
       "stream": "stderr",
       "text": [
        "77%\r"
       ]
      },
      {
       "output_type": "stream",
       "stream": "stderr",
       "text": [
        "78%\r"
       ]
      },
      {
       "output_type": "stream",
       "stream": "stderr",
       "text": [
        "79%\r"
       ]
      },
      {
       "output_type": "stream",
       "stream": "stderr",
       "text": [
        "80%\r"
       ]
      },
      {
       "output_type": "stream",
       "stream": "stderr",
       "text": [
        "81%\r"
       ]
      },
      {
       "output_type": "stream",
       "stream": "stderr",
       "text": [
        "82%\r"
       ]
      },
      {
       "output_type": "stream",
       "stream": "stderr",
       "text": [
        "83%\r"
       ]
      },
      {
       "output_type": "stream",
       "stream": "stderr",
       "text": [
        "84%\r"
       ]
      },
      {
       "output_type": "stream",
       "stream": "stderr",
       "text": [
        "85%\r"
       ]
      },
      {
       "output_type": "stream",
       "stream": "stderr",
       "text": [
        "86%\r"
       ]
      },
      {
       "output_type": "stream",
       "stream": "stderr",
       "text": [
        "87%\r"
       ]
      },
      {
       "output_type": "stream",
       "stream": "stderr",
       "text": [
        "88%\r"
       ]
      },
      {
       "output_type": "stream",
       "stream": "stderr",
       "text": [
        "89%\r"
       ]
      },
      {
       "output_type": "stream",
       "stream": "stderr",
       "text": [
        "90%\r"
       ]
      },
      {
       "output_type": "stream",
       "stream": "stderr",
       "text": [
        "91%\r"
       ]
      },
      {
       "output_type": "stream",
       "stream": "stderr",
       "text": [
        "92%\r"
       ]
      },
      {
       "output_type": "stream",
       "stream": "stderr",
       "text": [
        "93%\r"
       ]
      },
      {
       "output_type": "stream",
       "stream": "stderr",
       "text": [
        "94%\r"
       ]
      },
      {
       "output_type": "stream",
       "stream": "stderr",
       "text": [
        "95%\r"
       ]
      },
      {
       "output_type": "stream",
       "stream": "stderr",
       "text": [
        "96%\r"
       ]
      },
      {
       "output_type": "stream",
       "stream": "stderr",
       "text": [
        "97%\r"
       ]
      },
      {
       "output_type": "stream",
       "stream": "stderr",
       "text": [
        "98%\r"
       ]
      },
      {
       "output_type": "stream",
       "stream": "stderr",
       "text": [
        "99%\r"
       ]
      },
      {
       "output_type": "stream",
       "stream": "stderr",
       "text": [
        "100%\r"
       ]
      },
      {
       "output_type": "stream",
       "stream": "stderr",
       "text": [
        "100%\n"
       ]
      },
      {
       "output_type": "stream",
       "stream": "stdout",
       "text": [
        "\n",
        "  loss 1.76657130512\n",
        "  err  0.631810897436\n",
        "  (0:00:42)\n",
        "Epoch 3:"
       ]
      },
      {
       "output_type": "stream",
       "stream": "stderr",
       "text": [
        "1%\r"
       ]
      },
      {
       "output_type": "stream",
       "stream": "stderr",
       "text": [
        "2%\r"
       ]
      },
      {
       "output_type": "stream",
       "stream": "stderr",
       "text": [
        "3%\r"
       ]
      },
      {
       "output_type": "stream",
       "stream": "stderr",
       "text": [
        "4%\r"
       ]
      },
      {
       "output_type": "stream",
       "stream": "stderr",
       "text": [
        "5%\r"
       ]
      },
      {
       "output_type": "stream",
       "stream": "stderr",
       "text": [
        "6%\r"
       ]
      },
      {
       "output_type": "stream",
       "stream": "stderr",
       "text": [
        "7%\r"
       ]
      },
      {
       "output_type": "stream",
       "stream": "stderr",
       "text": [
        "8%\r"
       ]
      },
      {
       "output_type": "stream",
       "stream": "stderr",
       "text": [
        "9%\r"
       ]
      },
      {
       "output_type": "stream",
       "stream": "stderr",
       "text": [
        "10%\r"
       ]
      },
      {
       "output_type": "stream",
       "stream": "stderr",
       "text": [
        "11%\r"
       ]
      },
      {
       "output_type": "stream",
       "stream": "stderr",
       "text": [
        "12%\r"
       ]
      },
      {
       "output_type": "stream",
       "stream": "stderr",
       "text": [
        "13%\r"
       ]
      },
      {
       "output_type": "stream",
       "stream": "stderr",
       "text": [
        "14%\r"
       ]
      },
      {
       "output_type": "stream",
       "stream": "stderr",
       "text": [
        "15%\r"
       ]
      },
      {
       "output_type": "stream",
       "stream": "stderr",
       "text": [
        "16%\r"
       ]
      },
      {
       "output_type": "stream",
       "stream": "stderr",
       "text": [
        "17%\r"
       ]
      },
      {
       "output_type": "stream",
       "stream": "stderr",
       "text": [
        "18%\r"
       ]
      },
      {
       "output_type": "stream",
       "stream": "stderr",
       "text": [
        "19%\r"
       ]
      },
      {
       "output_type": "stream",
       "stream": "stderr",
       "text": [
        "20%\r"
       ]
      },
      {
       "output_type": "stream",
       "stream": "stderr",
       "text": [
        "21%\r"
       ]
      },
      {
       "output_type": "stream",
       "stream": "stderr",
       "text": [
        "22%\r"
       ]
      },
      {
       "output_type": "stream",
       "stream": "stderr",
       "text": [
        "23%\r"
       ]
      },
      {
       "output_type": "stream",
       "stream": "stderr",
       "text": [
        "24%\r"
       ]
      },
      {
       "output_type": "stream",
       "stream": "stderr",
       "text": [
        "25%\r"
       ]
      },
      {
       "output_type": "stream",
       "stream": "stderr",
       "text": [
        "26%\r"
       ]
      },
      {
       "output_type": "stream",
       "stream": "stderr",
       "text": [
        "27%\r"
       ]
      },
      {
       "output_type": "stream",
       "stream": "stderr",
       "text": [
        "28%\r"
       ]
      },
      {
       "output_type": "stream",
       "stream": "stderr",
       "text": [
        "29%\r"
       ]
      },
      {
       "output_type": "stream",
       "stream": "stderr",
       "text": [
        "30%\r"
       ]
      },
      {
       "output_type": "stream",
       "stream": "stderr",
       "text": [
        "31%\r"
       ]
      },
      {
       "output_type": "stream",
       "stream": "stderr",
       "text": [
        "32%\r"
       ]
      },
      {
       "output_type": "stream",
       "stream": "stderr",
       "text": [
        "33%\r"
       ]
      },
      {
       "output_type": "stream",
       "stream": "stderr",
       "text": [
        "34%\r"
       ]
      },
      {
       "output_type": "stream",
       "stream": "stderr",
       "text": [
        "35%\r"
       ]
      },
      {
       "output_type": "stream",
       "stream": "stderr",
       "text": [
        "36%\r"
       ]
      },
      {
       "output_type": "stream",
       "stream": "stderr",
       "text": [
        "37%\r"
       ]
      },
      {
       "output_type": "stream",
       "stream": "stderr",
       "text": [
        "38%\r"
       ]
      },
      {
       "output_type": "stream",
       "stream": "stderr",
       "text": [
        "39%\r"
       ]
      },
      {
       "output_type": "stream",
       "stream": "stderr",
       "text": [
        "40%\r"
       ]
      },
      {
       "output_type": "stream",
       "stream": "stderr",
       "text": [
        "41%\r"
       ]
      },
      {
       "output_type": "stream",
       "stream": "stderr",
       "text": [
        "42%\r"
       ]
      },
      {
       "output_type": "stream",
       "stream": "stderr",
       "text": [
        "43%\r"
       ]
      },
      {
       "output_type": "stream",
       "stream": "stderr",
       "text": [
        "44%\r"
       ]
      },
      {
       "output_type": "stream",
       "stream": "stderr",
       "text": [
        "45%\r"
       ]
      },
      {
       "output_type": "stream",
       "stream": "stderr",
       "text": [
        "46%\r"
       ]
      },
      {
       "output_type": "stream",
       "stream": "stderr",
       "text": [
        "47%\r"
       ]
      },
      {
       "output_type": "stream",
       "stream": "stderr",
       "text": [
        "48%\r"
       ]
      },
      {
       "output_type": "stream",
       "stream": "stderr",
       "text": [
        "49%\r"
       ]
      },
      {
       "output_type": "stream",
       "stream": "stderr",
       "text": [
        "50%\r"
       ]
      },
      {
       "output_type": "stream",
       "stream": "stderr",
       "text": [
        "51%\r"
       ]
      },
      {
       "output_type": "stream",
       "stream": "stderr",
       "text": [
        "52%\r"
       ]
      },
      {
       "output_type": "stream",
       "stream": "stderr",
       "text": [
        "53%\r"
       ]
      },
      {
       "output_type": "stream",
       "stream": "stderr",
       "text": [
        "54%\r"
       ]
      },
      {
       "output_type": "stream",
       "stream": "stderr",
       "text": [
        "55%\r"
       ]
      },
      {
       "output_type": "stream",
       "stream": "stderr",
       "text": [
        "56%\r"
       ]
      },
      {
       "output_type": "stream",
       "stream": "stderr",
       "text": [
        "57%\r"
       ]
      },
      {
       "output_type": "stream",
       "stream": "stderr",
       "text": [
        "58%\r"
       ]
      },
      {
       "output_type": "stream",
       "stream": "stderr",
       "text": [
        "59%\r"
       ]
      },
      {
       "output_type": "stream",
       "stream": "stderr",
       "text": [
        "60%\r"
       ]
      },
      {
       "output_type": "stream",
       "stream": "stderr",
       "text": [
        "61%\r"
       ]
      },
      {
       "output_type": "stream",
       "stream": "stderr",
       "text": [
        "62%\r"
       ]
      },
      {
       "output_type": "stream",
       "stream": "stderr",
       "text": [
        "63%\r"
       ]
      },
      {
       "output_type": "stream",
       "stream": "stderr",
       "text": [
        "64%\r"
       ]
      },
      {
       "output_type": "stream",
       "stream": "stderr",
       "text": [
        "65%\r"
       ]
      },
      {
       "output_type": "stream",
       "stream": "stderr",
       "text": [
        "66%\r"
       ]
      },
      {
       "output_type": "stream",
       "stream": "stderr",
       "text": [
        "67%\r"
       ]
      },
      {
       "output_type": "stream",
       "stream": "stderr",
       "text": [
        "68%\r"
       ]
      },
      {
       "output_type": "stream",
       "stream": "stderr",
       "text": [
        "69%\r"
       ]
      },
      {
       "output_type": "stream",
       "stream": "stderr",
       "text": [
        "70%\r"
       ]
      },
      {
       "output_type": "stream",
       "stream": "stderr",
       "text": [
        "71%\r"
       ]
      },
      {
       "output_type": "stream",
       "stream": "stderr",
       "text": [
        "72%\r"
       ]
      },
      {
       "output_type": "stream",
       "stream": "stderr",
       "text": [
        "73%\r"
       ]
      },
      {
       "output_type": "stream",
       "stream": "stderr",
       "text": [
        "74%\r"
       ]
      },
      {
       "output_type": "stream",
       "stream": "stderr",
       "text": [
        "75%\r"
       ]
      },
      {
       "output_type": "stream",
       "stream": "stderr",
       "text": [
        "76%\r"
       ]
      },
      {
       "output_type": "stream",
       "stream": "stderr",
       "text": [
        "77%\r"
       ]
      },
      {
       "output_type": "stream",
       "stream": "stderr",
       "text": [
        "78%\r"
       ]
      },
      {
       "output_type": "stream",
       "stream": "stderr",
       "text": [
        "79%\r"
       ]
      },
      {
       "output_type": "stream",
       "stream": "stderr",
       "text": [
        "80%\r"
       ]
      },
      {
       "output_type": "stream",
       "stream": "stderr",
       "text": [
        "81%\r"
       ]
      },
      {
       "output_type": "stream",
       "stream": "stderr",
       "text": [
        "82%\r"
       ]
      },
      {
       "output_type": "stream",
       "stream": "stderr",
       "text": [
        "83%\r"
       ]
      },
      {
       "output_type": "stream",
       "stream": "stderr",
       "text": [
        "84%\r"
       ]
      },
      {
       "output_type": "stream",
       "stream": "stderr",
       "text": [
        "85%\r"
       ]
      },
      {
       "output_type": "stream",
       "stream": "stderr",
       "text": [
        "86%\r"
       ]
      },
      {
       "output_type": "stream",
       "stream": "stderr",
       "text": [
        "87%\r"
       ]
      },
      {
       "output_type": "stream",
       "stream": "stderr",
       "text": [
        "88%\r"
       ]
      },
      {
       "output_type": "stream",
       "stream": "stderr",
       "text": [
        "89%\r"
       ]
      },
      {
       "output_type": "stream",
       "stream": "stderr",
       "text": [
        "90%\r"
       ]
      },
      {
       "output_type": "stream",
       "stream": "stderr",
       "text": [
        "91%\r"
       ]
      },
      {
       "output_type": "stream",
       "stream": "stderr",
       "text": [
        "92%\r"
       ]
      },
      {
       "output_type": "stream",
       "stream": "stderr",
       "text": [
        "93%\r"
       ]
      },
      {
       "output_type": "stream",
       "stream": "stderr",
       "text": [
        "94%\r"
       ]
      },
      {
       "output_type": "stream",
       "stream": "stderr",
       "text": [
        "95%\r"
       ]
      },
      {
       "output_type": "stream",
       "stream": "stderr",
       "text": [
        "96%\r"
       ]
      },
      {
       "output_type": "stream",
       "stream": "stderr",
       "text": [
        "97%\r"
       ]
      },
      {
       "output_type": "stream",
       "stream": "stderr",
       "text": [
        "98%\r"
       ]
      },
      {
       "output_type": "stream",
       "stream": "stderr",
       "text": [
        "99%\r"
       ]
      },
      {
       "output_type": "stream",
       "stream": "stderr",
       "text": [
        "100%\r"
       ]
      },
      {
       "output_type": "stream",
       "stream": "stderr",
       "text": [
        "100%\n"
       ]
      },
      {
       "output_type": "stream",
       "stream": "stdout",
       "text": [
        "\n",
        "  loss 1.71599488839\n",
        "  err  0.616836939103\n",
        "  (0:00:44)\n",
        "Epoch 4:"
       ]
      },
      {
       "output_type": "stream",
       "stream": "stderr",
       "text": [
        "1%\r"
       ]
      },
      {
       "output_type": "stream",
       "stream": "stderr",
       "text": [
        "2%\r"
       ]
      },
      {
       "output_type": "stream",
       "stream": "stderr",
       "text": [
        "3%\r"
       ]
      },
      {
       "output_type": "stream",
       "stream": "stderr",
       "text": [
        "4%\r"
       ]
      },
      {
       "output_type": "stream",
       "stream": "stderr",
       "text": [
        "5%\r"
       ]
      },
      {
       "output_type": "stream",
       "stream": "stderr",
       "text": [
        "6%\r"
       ]
      },
      {
       "output_type": "stream",
       "stream": "stderr",
       "text": [
        "7%\r"
       ]
      },
      {
       "output_type": "stream",
       "stream": "stderr",
       "text": [
        "8%\r"
       ]
      },
      {
       "output_type": "stream",
       "stream": "stderr",
       "text": [
        "9%\r"
       ]
      },
      {
       "output_type": "stream",
       "stream": "stderr",
       "text": [
        "10%\r"
       ]
      },
      {
       "output_type": "stream",
       "stream": "stderr",
       "text": [
        "11%\r"
       ]
      },
      {
       "output_type": "stream",
       "stream": "stderr",
       "text": [
        "12%\r"
       ]
      },
      {
       "output_type": "stream",
       "stream": "stderr",
       "text": [
        "13%\r"
       ]
      },
      {
       "output_type": "stream",
       "stream": "stderr",
       "text": [
        "14%\r"
       ]
      },
      {
       "output_type": "stream",
       "stream": "stderr",
       "text": [
        "15%\r"
       ]
      },
      {
       "output_type": "stream",
       "stream": "stderr",
       "text": [
        "16%\r"
       ]
      },
      {
       "output_type": "stream",
       "stream": "stderr",
       "text": [
        "17%\r"
       ]
      },
      {
       "output_type": "stream",
       "stream": "stderr",
       "text": [
        "18%\r"
       ]
      },
      {
       "output_type": "stream",
       "stream": "stderr",
       "text": [
        "19%\r"
       ]
      },
      {
       "output_type": "stream",
       "stream": "stderr",
       "text": [
        "20%\r"
       ]
      },
      {
       "output_type": "stream",
       "stream": "stderr",
       "text": [
        "21%\r"
       ]
      },
      {
       "output_type": "stream",
       "stream": "stderr",
       "text": [
        "22%\r"
       ]
      },
      {
       "output_type": "stream",
       "stream": "stderr",
       "text": [
        "23%\r"
       ]
      },
      {
       "output_type": "stream",
       "stream": "stderr",
       "text": [
        "24%\r"
       ]
      },
      {
       "output_type": "stream",
       "stream": "stderr",
       "text": [
        "25%\r"
       ]
      },
      {
       "output_type": "stream",
       "stream": "stderr",
       "text": [
        "26%\r"
       ]
      },
      {
       "output_type": "stream",
       "stream": "stderr",
       "text": [
        "27%\r"
       ]
      },
      {
       "output_type": "stream",
       "stream": "stderr",
       "text": [
        "28%\r"
       ]
      },
      {
       "output_type": "stream",
       "stream": "stderr",
       "text": [
        "29%\r"
       ]
      },
      {
       "output_type": "stream",
       "stream": "stderr",
       "text": [
        "30%\r"
       ]
      },
      {
       "output_type": "stream",
       "stream": "stderr",
       "text": [
        "31%\r"
       ]
      },
      {
       "output_type": "stream",
       "stream": "stderr",
       "text": [
        "32%\r"
       ]
      },
      {
       "output_type": "stream",
       "stream": "stderr",
       "text": [
        "33%\r"
       ]
      },
      {
       "output_type": "stream",
       "stream": "stderr",
       "text": [
        "34%\r"
       ]
      },
      {
       "output_type": "stream",
       "stream": "stderr",
       "text": [
        "35%\r"
       ]
      },
      {
       "output_type": "stream",
       "stream": "stderr",
       "text": [
        "36%\r"
       ]
      },
      {
       "output_type": "stream",
       "stream": "stderr",
       "text": [
        "37%\r"
       ]
      },
      {
       "output_type": "stream",
       "stream": "stderr",
       "text": [
        "38%\r"
       ]
      },
      {
       "output_type": "stream",
       "stream": "stderr",
       "text": [
        "39%\r"
       ]
      },
      {
       "output_type": "stream",
       "stream": "stderr",
       "text": [
        "40%\r"
       ]
      },
      {
       "output_type": "stream",
       "stream": "stderr",
       "text": [
        "41%\r"
       ]
      },
      {
       "output_type": "stream",
       "stream": "stderr",
       "text": [
        "42%\r"
       ]
      },
      {
       "output_type": "stream",
       "stream": "stderr",
       "text": [
        "43%\r"
       ]
      },
      {
       "output_type": "stream",
       "stream": "stderr",
       "text": [
        "44%\r"
       ]
      },
      {
       "output_type": "stream",
       "stream": "stderr",
       "text": [
        "45%\r"
       ]
      },
      {
       "output_type": "stream",
       "stream": "stderr",
       "text": [
        "46%\r"
       ]
      },
      {
       "output_type": "stream",
       "stream": "stderr",
       "text": [
        "47%\r"
       ]
      },
      {
       "output_type": "stream",
       "stream": "stderr",
       "text": [
        "48%\r"
       ]
      },
      {
       "output_type": "stream",
       "stream": "stderr",
       "text": [
        "49%\r"
       ]
      },
      {
       "output_type": "stream",
       "stream": "stderr",
       "text": [
        "50%\r"
       ]
      },
      {
       "output_type": "stream",
       "stream": "stderr",
       "text": [
        "51%\r"
       ]
      },
      {
       "output_type": "stream",
       "stream": "stderr",
       "text": [
        "52%\r"
       ]
      },
      {
       "output_type": "stream",
       "stream": "stderr",
       "text": [
        "53%\r"
       ]
      },
      {
       "output_type": "stream",
       "stream": "stderr",
       "text": [
        "54%\r"
       ]
      },
      {
       "output_type": "stream",
       "stream": "stderr",
       "text": [
        "55%\r"
       ]
      },
      {
       "output_type": "stream",
       "stream": "stderr",
       "text": [
        "56%\r"
       ]
      },
      {
       "output_type": "stream",
       "stream": "stderr",
       "text": [
        "57%\r"
       ]
      },
      {
       "output_type": "stream",
       "stream": "stderr",
       "text": [
        "58%\r"
       ]
      },
      {
       "output_type": "stream",
       "stream": "stderr",
       "text": [
        "59%\r"
       ]
      },
      {
       "output_type": "stream",
       "stream": "stderr",
       "text": [
        "60%\r"
       ]
      },
      {
       "output_type": "stream",
       "stream": "stderr",
       "text": [
        "61%\r"
       ]
      },
      {
       "output_type": "stream",
       "stream": "stderr",
       "text": [
        "62%\r"
       ]
      },
      {
       "output_type": "stream",
       "stream": "stderr",
       "text": [
        "63%\r"
       ]
      },
      {
       "output_type": "stream",
       "stream": "stderr",
       "text": [
        "64%\r"
       ]
      },
      {
       "output_type": "stream",
       "stream": "stderr",
       "text": [
        "65%\r"
       ]
      },
      {
       "output_type": "stream",
       "stream": "stderr",
       "text": [
        "66%\r"
       ]
      },
      {
       "output_type": "stream",
       "stream": "stderr",
       "text": [
        "67%\r"
       ]
      },
      {
       "output_type": "stream",
       "stream": "stderr",
       "text": [
        "68%\r"
       ]
      },
      {
       "output_type": "stream",
       "stream": "stderr",
       "text": [
        "69%\r"
       ]
      },
      {
       "output_type": "stream",
       "stream": "stderr",
       "text": [
        "70%\r"
       ]
      },
      {
       "output_type": "stream",
       "stream": "stderr",
       "text": [
        "71%\r"
       ]
      },
      {
       "output_type": "stream",
       "stream": "stderr",
       "text": [
        "72%\r"
       ]
      },
      {
       "output_type": "stream",
       "stream": "stderr",
       "text": [
        "73%\r"
       ]
      },
      {
       "output_type": "stream",
       "stream": "stderr",
       "text": [
        "74%\r"
       ]
      },
      {
       "output_type": "stream",
       "stream": "stderr",
       "text": [
        "75%\r"
       ]
      },
      {
       "output_type": "stream",
       "stream": "stderr",
       "text": [
        "76%\r"
       ]
      },
      {
       "output_type": "stream",
       "stream": "stderr",
       "text": [
        "77%\r"
       ]
      },
      {
       "output_type": "stream",
       "stream": "stderr",
       "text": [
        "78%\r"
       ]
      },
      {
       "output_type": "stream",
       "stream": "stderr",
       "text": [
        "79%\r"
       ]
      },
      {
       "output_type": "stream",
       "stream": "stderr",
       "text": [
        "80%\r"
       ]
      },
      {
       "output_type": "stream",
       "stream": "stderr",
       "text": [
        "81%\r"
       ]
      },
      {
       "output_type": "stream",
       "stream": "stderr",
       "text": [
        "82%\r"
       ]
      },
      {
       "output_type": "stream",
       "stream": "stderr",
       "text": [
        "83%\r"
       ]
      },
      {
       "output_type": "stream",
       "stream": "stderr",
       "text": [
        "84%\r"
       ]
      },
      {
       "output_type": "stream",
       "stream": "stderr",
       "text": [
        "85%\r"
       ]
      },
      {
       "output_type": "stream",
       "stream": "stderr",
       "text": [
        "86%\r"
       ]
      },
      {
       "output_type": "stream",
       "stream": "stderr",
       "text": [
        "87%\r"
       ]
      },
      {
       "output_type": "stream",
       "stream": "stderr",
       "text": [
        "88%\r"
       ]
      },
      {
       "output_type": "stream",
       "stream": "stderr",
       "text": [
        "89%\r"
       ]
      },
      {
       "output_type": "stream",
       "stream": "stderr",
       "text": [
        "90%\r"
       ]
      },
      {
       "output_type": "stream",
       "stream": "stderr",
       "text": [
        "91%\r"
       ]
      },
      {
       "output_type": "stream",
       "stream": "stderr",
       "text": [
        "92%\r"
       ]
      },
      {
       "output_type": "stream",
       "stream": "stderr",
       "text": [
        "93%\r"
       ]
      },
      {
       "output_type": "stream",
       "stream": "stderr",
       "text": [
        "94%\r"
       ]
      },
      {
       "output_type": "stream",
       "stream": "stderr",
       "text": [
        "95%\r"
       ]
      },
      {
       "output_type": "stream",
       "stream": "stderr",
       "text": [
        "96%\r"
       ]
      },
      {
       "output_type": "stream",
       "stream": "stderr",
       "text": [
        "97%\r"
       ]
      },
      {
       "output_type": "stream",
       "stream": "stderr",
       "text": [
        "98%\r"
       ]
      },
      {
       "output_type": "stream",
       "stream": "stderr",
       "text": [
        "99%\r"
       ]
      },
      {
       "output_type": "stream",
       "stream": "stderr",
       "text": [
        "100%\r"
       ]
      },
      {
       "output_type": "stream",
       "stream": "stderr",
       "text": [
        "100%\n"
       ]
      },
      {
       "output_type": "stream",
       "stream": "stdout",
       "text": [
        "\n",
        "  loss 1.65653845095\n",
        "  err  0.596153846154\n",
        "  (0:00:47)\n",
        "Epoch 5:"
       ]
      },
      {
       "output_type": "stream",
       "stream": "stderr",
       "text": [
        "1%\r"
       ]
      },
      {
       "output_type": "stream",
       "stream": "stderr",
       "text": [
        "2%\r"
       ]
      },
      {
       "output_type": "stream",
       "stream": "stderr",
       "text": [
        "3%\r"
       ]
      },
      {
       "output_type": "stream",
       "stream": "stderr",
       "text": [
        "4%\r"
       ]
      },
      {
       "output_type": "stream",
       "stream": "stderr",
       "text": [
        "5%\r"
       ]
      },
      {
       "output_type": "stream",
       "stream": "stderr",
       "text": [
        "6%\r"
       ]
      },
      {
       "output_type": "stream",
       "stream": "stderr",
       "text": [
        "7%\r"
       ]
      },
      {
       "output_type": "stream",
       "stream": "stderr",
       "text": [
        "8%\r"
       ]
      },
      {
       "output_type": "stream",
       "stream": "stderr",
       "text": [
        "9%\r"
       ]
      },
      {
       "output_type": "stream",
       "stream": "stderr",
       "text": [
        "10%\r"
       ]
      },
      {
       "output_type": "stream",
       "stream": "stderr",
       "text": [
        "11%\r"
       ]
      },
      {
       "output_type": "stream",
       "stream": "stderr",
       "text": [
        "12%\r"
       ]
      },
      {
       "output_type": "stream",
       "stream": "stderr",
       "text": [
        "13%\r"
       ]
      },
      {
       "output_type": "stream",
       "stream": "stderr",
       "text": [
        "14%\r"
       ]
      },
      {
       "output_type": "stream",
       "stream": "stderr",
       "text": [
        "15%\r"
       ]
      },
      {
       "output_type": "stream",
       "stream": "stderr",
       "text": [
        "16%\r"
       ]
      },
      {
       "output_type": "stream",
       "stream": "stderr",
       "text": [
        "17%\r"
       ]
      },
      {
       "output_type": "stream",
       "stream": "stderr",
       "text": [
        "18%\r"
       ]
      },
      {
       "output_type": "stream",
       "stream": "stderr",
       "text": [
        "19%\r"
       ]
      },
      {
       "output_type": "stream",
       "stream": "stderr",
       "text": [
        "20%\r"
       ]
      },
      {
       "output_type": "stream",
       "stream": "stderr",
       "text": [
        "21%\r"
       ]
      },
      {
       "output_type": "stream",
       "stream": "stderr",
       "text": [
        "22%\r"
       ]
      },
      {
       "output_type": "stream",
       "stream": "stderr",
       "text": [
        "23%\r"
       ]
      },
      {
       "output_type": "stream",
       "stream": "stderr",
       "text": [
        "24%\r"
       ]
      },
      {
       "output_type": "stream",
       "stream": "stderr",
       "text": [
        "25%\r"
       ]
      },
      {
       "output_type": "stream",
       "stream": "stderr",
       "text": [
        "26%\r"
       ]
      },
      {
       "output_type": "stream",
       "stream": "stderr",
       "text": [
        "27%\r"
       ]
      },
      {
       "output_type": "stream",
       "stream": "stderr",
       "text": [
        "28%\r"
       ]
      },
      {
       "output_type": "stream",
       "stream": "stderr",
       "text": [
        "29%\r"
       ]
      },
      {
       "output_type": "stream",
       "stream": "stderr",
       "text": [
        "30%\r"
       ]
      },
      {
       "output_type": "stream",
       "stream": "stderr",
       "text": [
        "31%\r"
       ]
      },
      {
       "output_type": "stream",
       "stream": "stderr",
       "text": [
        "32%\r"
       ]
      },
      {
       "output_type": "stream",
       "stream": "stderr",
       "text": [
        "33%\r"
       ]
      },
      {
       "output_type": "stream",
       "stream": "stderr",
       "text": [
        "34%\r"
       ]
      },
      {
       "output_type": "stream",
       "stream": "stderr",
       "text": [
        "35%\r"
       ]
      },
      {
       "output_type": "stream",
       "stream": "stderr",
       "text": [
        "36%\r"
       ]
      },
      {
       "output_type": "stream",
       "stream": "stderr",
       "text": [
        "37%\r"
       ]
      },
      {
       "output_type": "stream",
       "stream": "stderr",
       "text": [
        "38%\r"
       ]
      },
      {
       "output_type": "stream",
       "stream": "stderr",
       "text": [
        "39%\r"
       ]
      },
      {
       "output_type": "stream",
       "stream": "stderr",
       "text": [
        "40%\r"
       ]
      },
      {
       "output_type": "stream",
       "stream": "stderr",
       "text": [
        "41%\r"
       ]
      },
      {
       "output_type": "stream",
       "stream": "stderr",
       "text": [
        "42%\r"
       ]
      },
      {
       "output_type": "stream",
       "stream": "stderr",
       "text": [
        "43%\r"
       ]
      },
      {
       "output_type": "stream",
       "stream": "stderr",
       "text": [
        "44%\r"
       ]
      },
      {
       "output_type": "stream",
       "stream": "stderr",
       "text": [
        "45%\r"
       ]
      },
      {
       "output_type": "stream",
       "stream": "stderr",
       "text": [
        "46%\r"
       ]
      },
      {
       "output_type": "stream",
       "stream": "stderr",
       "text": [
        "47%\r"
       ]
      },
      {
       "output_type": "stream",
       "stream": "stderr",
       "text": [
        "48%\r"
       ]
      },
      {
       "output_type": "stream",
       "stream": "stderr",
       "text": [
        "49%\r"
       ]
      },
      {
       "output_type": "stream",
       "stream": "stderr",
       "text": [
        "50%\r"
       ]
      },
      {
       "output_type": "stream",
       "stream": "stderr",
       "text": [
        "51%\r"
       ]
      },
      {
       "output_type": "stream",
       "stream": "stderr",
       "text": [
        "52%\r"
       ]
      },
      {
       "output_type": "stream",
       "stream": "stderr",
       "text": [
        "53%\r"
       ]
      },
      {
       "output_type": "stream",
       "stream": "stderr",
       "text": [
        "54%\r"
       ]
      },
      {
       "output_type": "stream",
       "stream": "stderr",
       "text": [
        "55%\r"
       ]
      },
      {
       "output_type": "stream",
       "stream": "stderr",
       "text": [
        "56%\r"
       ]
      },
      {
       "output_type": "stream",
       "stream": "stderr",
       "text": [
        "57%\r"
       ]
      },
      {
       "output_type": "stream",
       "stream": "stderr",
       "text": [
        "58%\r"
       ]
      },
      {
       "output_type": "stream",
       "stream": "stderr",
       "text": [
        "59%\r"
       ]
      },
      {
       "output_type": "stream",
       "stream": "stderr",
       "text": [
        "60%\r"
       ]
      },
      {
       "output_type": "stream",
       "stream": "stderr",
       "text": [
        "61%\r"
       ]
      },
      {
       "output_type": "stream",
       "stream": "stderr",
       "text": [
        "62%\r"
       ]
      },
      {
       "output_type": "stream",
       "stream": "stderr",
       "text": [
        "63%\r"
       ]
      },
      {
       "output_type": "stream",
       "stream": "stderr",
       "text": [
        "64%\r"
       ]
      },
      {
       "output_type": "stream",
       "stream": "stderr",
       "text": [
        "65%\r"
       ]
      },
      {
       "output_type": "stream",
       "stream": "stderr",
       "text": [
        "66%\r"
       ]
      },
      {
       "output_type": "stream",
       "stream": "stderr",
       "text": [
        "67%\r"
       ]
      },
      {
       "output_type": "stream",
       "stream": "stderr",
       "text": [
        "68%\r"
       ]
      },
      {
       "output_type": "stream",
       "stream": "stderr",
       "text": [
        "69%\r"
       ]
      },
      {
       "output_type": "stream",
       "stream": "stderr",
       "text": [
        "70%\r"
       ]
      },
      {
       "output_type": "stream",
       "stream": "stderr",
       "text": [
        "71%\r"
       ]
      },
      {
       "output_type": "stream",
       "stream": "stderr",
       "text": [
        "72%\r"
       ]
      },
      {
       "output_type": "stream",
       "stream": "stderr",
       "text": [
        "73%\r"
       ]
      },
      {
       "output_type": "stream",
       "stream": "stderr",
       "text": [
        "74%\r"
       ]
      },
      {
       "output_type": "stream",
       "stream": "stderr",
       "text": [
        "75%\r"
       ]
      },
      {
       "output_type": "stream",
       "stream": "stderr",
       "text": [
        "76%\r"
       ]
      },
      {
       "output_type": "stream",
       "stream": "stderr",
       "text": [
        "77%\r"
       ]
      },
      {
       "output_type": "stream",
       "stream": "stderr",
       "text": [
        "78%\r"
       ]
      },
      {
       "output_type": "stream",
       "stream": "stderr",
       "text": [
        "79%\r"
       ]
      },
      {
       "output_type": "stream",
       "stream": "stderr",
       "text": [
        "80%\r"
       ]
      },
      {
       "output_type": "stream",
       "stream": "stderr",
       "text": [
        "81%\r"
       ]
      },
      {
       "output_type": "stream",
       "stream": "stderr",
       "text": [
        "82%\r"
       ]
      },
      {
       "output_type": "stream",
       "stream": "stderr",
       "text": [
        "83%\r"
       ]
      },
      {
       "output_type": "stream",
       "stream": "stderr",
       "text": [
        "84%\r"
       ]
      },
      {
       "output_type": "stream",
       "stream": "stderr",
       "text": [
        "85%\r"
       ]
      },
      {
       "output_type": "stream",
       "stream": "stderr",
       "text": [
        "86%\r"
       ]
      },
      {
       "output_type": "stream",
       "stream": "stderr",
       "text": [
        "87%\r"
       ]
      },
      {
       "output_type": "stream",
       "stream": "stderr",
       "text": [
        "88%\r"
       ]
      },
      {
       "output_type": "stream",
       "stream": "stderr",
       "text": [
        "89%\r"
       ]
      },
      {
       "output_type": "stream",
       "stream": "stderr",
       "text": [
        "90%\r"
       ]
      },
      {
       "output_type": "stream",
       "stream": "stderr",
       "text": [
        "91%\r"
       ]
      },
      {
       "output_type": "stream",
       "stream": "stderr",
       "text": [
        "92%\r"
       ]
      },
      {
       "output_type": "stream",
       "stream": "stderr",
       "text": [
        "93%\r"
       ]
      },
      {
       "output_type": "stream",
       "stream": "stderr",
       "text": [
        "94%\r"
       ]
      },
      {
       "output_type": "stream",
       "stream": "stderr",
       "text": [
        "95%\r"
       ]
      },
      {
       "output_type": "stream",
       "stream": "stderr",
       "text": [
        "96%\r"
       ]
      },
      {
       "output_type": "stream",
       "stream": "stderr",
       "text": [
        "97%\r"
       ]
      },
      {
       "output_type": "stream",
       "stream": "stderr",
       "text": [
        "98%\r"
       ]
      },
      {
       "output_type": "stream",
       "stream": "stderr",
       "text": [
        "99%\r"
       ]
      },
      {
       "output_type": "stream",
       "stream": "stderr",
       "text": [
        "100%\r"
       ]
      },
      {
       "output_type": "stream",
       "stream": "stderr",
       "text": [
        "100%\n"
       ]
      },
      {
       "output_type": "stream",
       "stream": "stdout",
       "text": [
        "\n",
        "  loss 1.63726973572\n",
        "  err  0.586538461538\n",
        "  (0:00:45)\n",
        "Epoch 6:"
       ]
      },
      {
       "output_type": "stream",
       "stream": "stderr",
       "text": [
        "1%\r"
       ]
      },
      {
       "output_type": "stream",
       "stream": "stderr",
       "text": [
        "2%\r"
       ]
      },
      {
       "output_type": "stream",
       "stream": "stderr",
       "text": [
        "3%\r"
       ]
      },
      {
       "output_type": "stream",
       "stream": "stderr",
       "text": [
        "4%\r"
       ]
      },
      {
       "output_type": "stream",
       "stream": "stderr",
       "text": [
        "5%\r"
       ]
      },
      {
       "output_type": "stream",
       "stream": "stderr",
       "text": [
        "6%\r"
       ]
      },
      {
       "output_type": "stream",
       "stream": "stderr",
       "text": [
        "7%\r"
       ]
      },
      {
       "output_type": "stream",
       "stream": "stderr",
       "text": [
        "8%\r"
       ]
      },
      {
       "output_type": "stream",
       "stream": "stderr",
       "text": [
        "9%\r"
       ]
      },
      {
       "output_type": "stream",
       "stream": "stderr",
       "text": [
        "10%\r"
       ]
      },
      {
       "output_type": "stream",
       "stream": "stderr",
       "text": [
        "11%\r"
       ]
      },
      {
       "output_type": "stream",
       "stream": "stderr",
       "text": [
        "12%\r"
       ]
      },
      {
       "output_type": "stream",
       "stream": "stderr",
       "text": [
        "13%\r"
       ]
      },
      {
       "output_type": "stream",
       "stream": "stderr",
       "text": [
        "14%\r"
       ]
      },
      {
       "output_type": "stream",
       "stream": "stderr",
       "text": [
        "15%\r"
       ]
      },
      {
       "output_type": "stream",
       "stream": "stderr",
       "text": [
        "16%\r"
       ]
      },
      {
       "output_type": "stream",
       "stream": "stderr",
       "text": [
        "17%\r"
       ]
      },
      {
       "output_type": "stream",
       "stream": "stderr",
       "text": [
        "18%\r"
       ]
      },
      {
       "output_type": "stream",
       "stream": "stderr",
       "text": [
        "19%\r"
       ]
      },
      {
       "output_type": "stream",
       "stream": "stderr",
       "text": [
        "20%\r"
       ]
      },
      {
       "output_type": "stream",
       "stream": "stderr",
       "text": [
        "21%\r"
       ]
      },
      {
       "output_type": "stream",
       "stream": "stderr",
       "text": [
        "22%\r"
       ]
      },
      {
       "output_type": "stream",
       "stream": "stderr",
       "text": [
        "23%\r"
       ]
      },
      {
       "output_type": "stream",
       "stream": "stderr",
       "text": [
        "24%\r"
       ]
      },
      {
       "output_type": "stream",
       "stream": "stderr",
       "text": [
        "25%\r"
       ]
      },
      {
       "output_type": "stream",
       "stream": "stderr",
       "text": [
        "26%\r"
       ]
      },
      {
       "output_type": "stream",
       "stream": "stderr",
       "text": [
        "27%\r"
       ]
      },
      {
       "output_type": "stream",
       "stream": "stderr",
       "text": [
        "28%\r"
       ]
      },
      {
       "output_type": "stream",
       "stream": "stderr",
       "text": [
        "29%\r"
       ]
      },
      {
       "output_type": "stream",
       "stream": "stderr",
       "text": [
        "30%\r"
       ]
      },
      {
       "output_type": "stream",
       "stream": "stderr",
       "text": [
        "31%\r"
       ]
      },
      {
       "output_type": "stream",
       "stream": "stderr",
       "text": [
        "32%\r"
       ]
      },
      {
       "output_type": "stream",
       "stream": "stderr",
       "text": [
        "33%\r"
       ]
      },
      {
       "output_type": "stream",
       "stream": "stderr",
       "text": [
        "34%\r"
       ]
      },
      {
       "output_type": "stream",
       "stream": "stderr",
       "text": [
        "35%\r"
       ]
      },
      {
       "output_type": "stream",
       "stream": "stderr",
       "text": [
        "36%\r"
       ]
      },
      {
       "output_type": "stream",
       "stream": "stderr",
       "text": [
        "37%\r"
       ]
      },
      {
       "output_type": "stream",
       "stream": "stderr",
       "text": [
        "38%\r"
       ]
      },
      {
       "output_type": "stream",
       "stream": "stderr",
       "text": [
        "39%\r"
       ]
      },
      {
       "output_type": "stream",
       "stream": "stderr",
       "text": [
        "40%\r"
       ]
      },
      {
       "output_type": "stream",
       "stream": "stderr",
       "text": [
        "41%\r"
       ]
      },
      {
       "output_type": "stream",
       "stream": "stderr",
       "text": [
        "42%\r"
       ]
      },
      {
       "output_type": "stream",
       "stream": "stderr",
       "text": [
        "43%\r"
       ]
      },
      {
       "output_type": "stream",
       "stream": "stderr",
       "text": [
        "44%\r"
       ]
      },
      {
       "output_type": "stream",
       "stream": "stderr",
       "text": [
        "45%\r"
       ]
      },
      {
       "output_type": "stream",
       "stream": "stderr",
       "text": [
        "46%\r"
       ]
      },
      {
       "output_type": "stream",
       "stream": "stderr",
       "text": [
        "47%\r"
       ]
      },
      {
       "output_type": "stream",
       "stream": "stderr",
       "text": [
        "48%\r"
       ]
      },
      {
       "output_type": "stream",
       "stream": "stderr",
       "text": [
        "49%\r"
       ]
      },
      {
       "output_type": "stream",
       "stream": "stderr",
       "text": [
        "50%\r"
       ]
      },
      {
       "output_type": "stream",
       "stream": "stderr",
       "text": [
        "51%\r"
       ]
      },
      {
       "output_type": "stream",
       "stream": "stderr",
       "text": [
        "52%\r"
       ]
      },
      {
       "output_type": "stream",
       "stream": "stderr",
       "text": [
        "53%\r"
       ]
      },
      {
       "output_type": "stream",
       "stream": "stderr",
       "text": [
        "54%\r"
       ]
      },
      {
       "output_type": "stream",
       "stream": "stderr",
       "text": [
        "55%\r"
       ]
      },
      {
       "output_type": "stream",
       "stream": "stderr",
       "text": [
        "56%\r"
       ]
      },
      {
       "output_type": "stream",
       "stream": "stderr",
       "text": [
        "57%\r"
       ]
      },
      {
       "output_type": "stream",
       "stream": "stderr",
       "text": [
        "58%\r"
       ]
      },
      {
       "output_type": "stream",
       "stream": "stderr",
       "text": [
        "59%\r"
       ]
      },
      {
       "output_type": "stream",
       "stream": "stderr",
       "text": [
        "60%\r"
       ]
      },
      {
       "output_type": "stream",
       "stream": "stderr",
       "text": [
        "61%\r"
       ]
      },
      {
       "output_type": "stream",
       "stream": "stderr",
       "text": [
        "62%\r"
       ]
      },
      {
       "output_type": "stream",
       "stream": "stderr",
       "text": [
        "63%\r"
       ]
      },
      {
       "output_type": "stream",
       "stream": "stderr",
       "text": [
        "64%\r"
       ]
      },
      {
       "output_type": "stream",
       "stream": "stderr",
       "text": [
        "65%\r"
       ]
      },
      {
       "output_type": "stream",
       "stream": "stderr",
       "text": [
        "66%\r"
       ]
      },
      {
       "output_type": "stream",
       "stream": "stderr",
       "text": [
        "67%\r"
       ]
      },
      {
       "output_type": "stream",
       "stream": "stderr",
       "text": [
        "68%\r"
       ]
      },
      {
       "output_type": "stream",
       "stream": "stderr",
       "text": [
        "69%\r"
       ]
      },
      {
       "output_type": "stream",
       "stream": "stderr",
       "text": [
        "70%\r"
       ]
      },
      {
       "output_type": "stream",
       "stream": "stderr",
       "text": [
        "71%\r"
       ]
      },
      {
       "output_type": "stream",
       "stream": "stderr",
       "text": [
        "72%\r"
       ]
      },
      {
       "output_type": "stream",
       "stream": "stderr",
       "text": [
        "73%\r"
       ]
      },
      {
       "output_type": "stream",
       "stream": "stderr",
       "text": [
        "74%\r"
       ]
      },
      {
       "output_type": "stream",
       "stream": "stderr",
       "text": [
        "75%\r"
       ]
      },
      {
       "output_type": "stream",
       "stream": "stderr",
       "text": [
        "76%\r"
       ]
      },
      {
       "output_type": "stream",
       "stream": "stderr",
       "text": [
        "77%\r"
       ]
      },
      {
       "output_type": "stream",
       "stream": "stderr",
       "text": [
        "78%\r"
       ]
      },
      {
       "output_type": "stream",
       "stream": "stderr",
       "text": [
        "79%\r"
       ]
      },
      {
       "output_type": "stream",
       "stream": "stderr",
       "text": [
        "80%\r"
       ]
      },
      {
       "output_type": "stream",
       "stream": "stderr",
       "text": [
        "81%\r"
       ]
      },
      {
       "output_type": "stream",
       "stream": "stderr",
       "text": [
        "82%\r"
       ]
      },
      {
       "output_type": "stream",
       "stream": "stderr",
       "text": [
        "83%\r"
       ]
      },
      {
       "output_type": "stream",
       "stream": "stderr",
       "text": [
        "84%\r"
       ]
      },
      {
       "output_type": "stream",
       "stream": "stderr",
       "text": [
        "85%\r"
       ]
      },
      {
       "output_type": "stream",
       "stream": "stderr",
       "text": [
        "86%\r"
       ]
      },
      {
       "output_type": "stream",
       "stream": "stderr",
       "text": [
        "87%\r"
       ]
      },
      {
       "output_type": "stream",
       "stream": "stderr",
       "text": [
        "88%\r"
       ]
      },
      {
       "output_type": "stream",
       "stream": "stderr",
       "text": [
        "89%\r"
       ]
      },
      {
       "output_type": "stream",
       "stream": "stderr",
       "text": [
        "90%\r"
       ]
      },
      {
       "output_type": "stream",
       "stream": "stderr",
       "text": [
        "91%\r"
       ]
      },
      {
       "output_type": "stream",
       "stream": "stderr",
       "text": [
        "92%\r"
       ]
      },
      {
       "output_type": "stream",
       "stream": "stderr",
       "text": [
        "93%\r"
       ]
      },
      {
       "output_type": "stream",
       "stream": "stderr",
       "text": [
        "94%\r"
       ]
      },
      {
       "output_type": "stream",
       "stream": "stderr",
       "text": [
        "95%\r"
       ]
      },
      {
       "output_type": "stream",
       "stream": "stderr",
       "text": [
        "96%\r"
       ]
      },
      {
       "output_type": "stream",
       "stream": "stderr",
       "text": [
        "97%\r"
       ]
      },
      {
       "output_type": "stream",
       "stream": "stderr",
       "text": [
        "98%\r"
       ]
      },
      {
       "output_type": "stream",
       "stream": "stderr",
       "text": [
        "99%\r"
       ]
      },
      {
       "output_type": "stream",
       "stream": "stderr",
       "text": [
        "100%\r"
       ]
      },
      {
       "output_type": "stream",
       "stream": "stderr",
       "text": [
        "100%\n"
       ]
      },
      {
       "output_type": "stream",
       "stream": "stdout",
       "text": [
        "\n",
        "  loss 1.61533557337\n",
        "  err  0.577023237179\n",
        "  (0:00:43)\n",
        "Epoch 7:"
       ]
      },
      {
       "output_type": "stream",
       "stream": "stderr",
       "text": [
        "1%\r"
       ]
      },
      {
       "output_type": "stream",
       "stream": "stderr",
       "text": [
        "2%\r"
       ]
      },
      {
       "output_type": "stream",
       "stream": "stderr",
       "text": [
        "3%\r"
       ]
      },
      {
       "output_type": "stream",
       "stream": "stderr",
       "text": [
        "4%\r"
       ]
      },
      {
       "output_type": "stream",
       "stream": "stderr",
       "text": [
        "5%\r"
       ]
      },
      {
       "output_type": "stream",
       "stream": "stderr",
       "text": [
        "6%\r"
       ]
      },
      {
       "output_type": "stream",
       "stream": "stderr",
       "text": [
        "7%\r"
       ]
      },
      {
       "output_type": "stream",
       "stream": "stderr",
       "text": [
        "8%\r"
       ]
      },
      {
       "output_type": "stream",
       "stream": "stderr",
       "text": [
        "9%\r"
       ]
      },
      {
       "output_type": "stream",
       "stream": "stderr",
       "text": [
        "10%\r"
       ]
      },
      {
       "output_type": "stream",
       "stream": "stderr",
       "text": [
        "11%\r"
       ]
      },
      {
       "output_type": "stream",
       "stream": "stderr",
       "text": [
        "12%\r"
       ]
      },
      {
       "output_type": "stream",
       "stream": "stderr",
       "text": [
        "13%\r"
       ]
      },
      {
       "output_type": "stream",
       "stream": "stderr",
       "text": [
        "14%\r"
       ]
      },
      {
       "output_type": "stream",
       "stream": "stderr",
       "text": [
        "15%\r"
       ]
      },
      {
       "output_type": "stream",
       "stream": "stderr",
       "text": [
        "16%\r"
       ]
      },
      {
       "output_type": "stream",
       "stream": "stderr",
       "text": [
        "17%\r"
       ]
      },
      {
       "output_type": "stream",
       "stream": "stderr",
       "text": [
        "18%\r"
       ]
      },
      {
       "output_type": "stream",
       "stream": "stderr",
       "text": [
        "19%\r"
       ]
      },
      {
       "output_type": "stream",
       "stream": "stderr",
       "text": [
        "20%\r"
       ]
      },
      {
       "output_type": "stream",
       "stream": "stderr",
       "text": [
        "21%\r"
       ]
      },
      {
       "output_type": "stream",
       "stream": "stderr",
       "text": [
        "22%\r"
       ]
      },
      {
       "output_type": "stream",
       "stream": "stderr",
       "text": [
        "23%\r"
       ]
      },
      {
       "output_type": "stream",
       "stream": "stderr",
       "text": [
        "24%\r"
       ]
      },
      {
       "output_type": "stream",
       "stream": "stderr",
       "text": [
        "25%\r"
       ]
      },
      {
       "output_type": "stream",
       "stream": "stderr",
       "text": [
        "26%\r"
       ]
      },
      {
       "output_type": "stream",
       "stream": "stderr",
       "text": [
        "27%\r"
       ]
      },
      {
       "output_type": "stream",
       "stream": "stderr",
       "text": [
        "28%\r"
       ]
      },
      {
       "output_type": "stream",
       "stream": "stderr",
       "text": [
        "29%\r"
       ]
      },
      {
       "output_type": "stream",
       "stream": "stderr",
       "text": [
        "30%\r"
       ]
      },
      {
       "output_type": "stream",
       "stream": "stderr",
       "text": [
        "31%\r"
       ]
      },
      {
       "output_type": "stream",
       "stream": "stderr",
       "text": [
        "32%\r"
       ]
      },
      {
       "output_type": "stream",
       "stream": "stderr",
       "text": [
        "33%\r"
       ]
      },
      {
       "output_type": "stream",
       "stream": "stderr",
       "text": [
        "34%\r"
       ]
      },
      {
       "output_type": "stream",
       "stream": "stderr",
       "text": [
        "35%\r"
       ]
      },
      {
       "output_type": "stream",
       "stream": "stderr",
       "text": [
        "36%\r"
       ]
      },
      {
       "output_type": "stream",
       "stream": "stderr",
       "text": [
        "37%\r"
       ]
      },
      {
       "output_type": "stream",
       "stream": "stderr",
       "text": [
        "38%\r"
       ]
      },
      {
       "output_type": "stream",
       "stream": "stderr",
       "text": [
        "39%\r"
       ]
      },
      {
       "output_type": "stream",
       "stream": "stderr",
       "text": [
        "40%\r"
       ]
      },
      {
       "output_type": "stream",
       "stream": "stderr",
       "text": [
        "41%\r"
       ]
      },
      {
       "output_type": "stream",
       "stream": "stderr",
       "text": [
        "42%\r"
       ]
      },
      {
       "output_type": "stream",
       "stream": "stderr",
       "text": [
        "43%\r"
       ]
      },
      {
       "output_type": "stream",
       "stream": "stderr",
       "text": [
        "44%\r"
       ]
      },
      {
       "output_type": "stream",
       "stream": "stderr",
       "text": [
        "45%\r"
       ]
      },
      {
       "output_type": "stream",
       "stream": "stderr",
       "text": [
        "46%\r"
       ]
      },
      {
       "output_type": "stream",
       "stream": "stderr",
       "text": [
        "47%\r"
       ]
      },
      {
       "output_type": "stream",
       "stream": "stderr",
       "text": [
        "48%\r"
       ]
      },
      {
       "output_type": "stream",
       "stream": "stderr",
       "text": [
        "49%\r"
       ]
      },
      {
       "output_type": "stream",
       "stream": "stderr",
       "text": [
        "50%\r"
       ]
      },
      {
       "output_type": "stream",
       "stream": "stderr",
       "text": [
        "51%\r"
       ]
      },
      {
       "output_type": "stream",
       "stream": "stderr",
       "text": [
        "52%\r"
       ]
      },
      {
       "output_type": "stream",
       "stream": "stderr",
       "text": [
        "53%\r"
       ]
      },
      {
       "output_type": "stream",
       "stream": "stderr",
       "text": [
        "54%\r"
       ]
      },
      {
       "output_type": "stream",
       "stream": "stderr",
       "text": [
        "55%\r"
       ]
      },
      {
       "output_type": "stream",
       "stream": "stderr",
       "text": [
        "56%\r"
       ]
      },
      {
       "output_type": "stream",
       "stream": "stderr",
       "text": [
        "57%\r"
       ]
      },
      {
       "output_type": "stream",
       "stream": "stderr",
       "text": [
        "58%\r"
       ]
      },
      {
       "output_type": "stream",
       "stream": "stderr",
       "text": [
        "59%\r"
       ]
      },
      {
       "output_type": "stream",
       "stream": "stderr",
       "text": [
        "60%\r"
       ]
      },
      {
       "output_type": "stream",
       "stream": "stderr",
       "text": [
        "61%\r"
       ]
      },
      {
       "output_type": "stream",
       "stream": "stderr",
       "text": [
        "62%\r"
       ]
      },
      {
       "output_type": "stream",
       "stream": "stderr",
       "text": [
        "63%\r"
       ]
      },
      {
       "output_type": "stream",
       "stream": "stderr",
       "text": [
        "64%\r"
       ]
      },
      {
       "output_type": "stream",
       "stream": "stderr",
       "text": [
        "65%\r"
       ]
      },
      {
       "output_type": "stream",
       "stream": "stderr",
       "text": [
        "66%\r"
       ]
      },
      {
       "output_type": "stream",
       "stream": "stderr",
       "text": [
        "67%\r"
       ]
      },
      {
       "output_type": "stream",
       "stream": "stderr",
       "text": [
        "68%\r"
       ]
      },
      {
       "output_type": "stream",
       "stream": "stderr",
       "text": [
        "69%\r"
       ]
      },
      {
       "output_type": "stream",
       "stream": "stderr",
       "text": [
        "70%\r"
       ]
      },
      {
       "output_type": "stream",
       "stream": "stderr",
       "text": [
        "71%\r"
       ]
      },
      {
       "output_type": "stream",
       "stream": "stderr",
       "text": [
        "72%\r"
       ]
      },
      {
       "output_type": "stream",
       "stream": "stderr",
       "text": [
        "73%\r"
       ]
      },
      {
       "output_type": "stream",
       "stream": "stderr",
       "text": [
        "74%\r"
       ]
      },
      {
       "output_type": "stream",
       "stream": "stderr",
       "text": [
        "75%\r"
       ]
      },
      {
       "output_type": "stream",
       "stream": "stderr",
       "text": [
        "76%\r"
       ]
      },
      {
       "output_type": "stream",
       "stream": "stderr",
       "text": [
        "77%\r"
       ]
      },
      {
       "output_type": "stream",
       "stream": "stderr",
       "text": [
        "78%\r"
       ]
      },
      {
       "output_type": "stream",
       "stream": "stderr",
       "text": [
        "79%\r"
       ]
      },
      {
       "output_type": "stream",
       "stream": "stderr",
       "text": [
        "80%\r"
       ]
      },
      {
       "output_type": "stream",
       "stream": "stderr",
       "text": [
        "81%\r"
       ]
      },
      {
       "output_type": "stream",
       "stream": "stderr",
       "text": [
        "82%\r"
       ]
      },
      {
       "output_type": "stream",
       "stream": "stderr",
       "text": [
        "83%\r"
       ]
      },
      {
       "output_type": "stream",
       "stream": "stderr",
       "text": [
        "84%\r"
       ]
      },
      {
       "output_type": "stream",
       "stream": "stderr",
       "text": [
        "85%\r"
       ]
      },
      {
       "output_type": "stream",
       "stream": "stderr",
       "text": [
        "86%\r"
       ]
      },
      {
       "output_type": "stream",
       "stream": "stderr",
       "text": [
        "87%\r"
       ]
      },
      {
       "output_type": "stream",
       "stream": "stderr",
       "text": [
        "88%\r"
       ]
      },
      {
       "output_type": "stream",
       "stream": "stderr",
       "text": [
        "89%\r"
       ]
      },
      {
       "output_type": "stream",
       "stream": "stderr",
       "text": [
        "90%\r"
       ]
      },
      {
       "output_type": "stream",
       "stream": "stderr",
       "text": [
        "91%\r"
       ]
      },
      {
       "output_type": "stream",
       "stream": "stderr",
       "text": [
        "92%\r"
       ]
      },
      {
       "output_type": "stream",
       "stream": "stderr",
       "text": [
        "93%\r"
       ]
      },
      {
       "output_type": "stream",
       "stream": "stderr",
       "text": [
        "94%\r"
       ]
      },
      {
       "output_type": "stream",
       "stream": "stderr",
       "text": [
        "95%\r"
       ]
      },
      {
       "output_type": "stream",
       "stream": "stderr",
       "text": [
        "96%\r"
       ]
      },
      {
       "output_type": "stream",
       "stream": "stderr",
       "text": [
        "97%\r"
       ]
      },
      {
       "output_type": "stream",
       "stream": "stderr",
       "text": [
        "98%\r"
       ]
      },
      {
       "output_type": "stream",
       "stream": "stderr",
       "text": [
        "99%\r"
       ]
      },
      {
       "output_type": "stream",
       "stream": "stderr",
       "text": [
        "100%\r"
       ]
      },
      {
       "output_type": "stream",
       "stream": "stderr",
       "text": [
        "100%\n"
       ]
      },
      {
       "output_type": "stream",
       "stream": "stdout",
       "text": [
        "\n",
        "  loss 1.58775625626\n",
        "  err  0.569461137821\n",
        "  (0:00:46)\n",
        "Epoch 8:"
       ]
      },
      {
       "output_type": "stream",
       "stream": "stderr",
       "text": [
        "1%\r"
       ]
      },
      {
       "output_type": "stream",
       "stream": "stderr",
       "text": [
        "2%\r"
       ]
      },
      {
       "output_type": "stream",
       "stream": "stderr",
       "text": [
        "3%\r"
       ]
      },
      {
       "output_type": "stream",
       "stream": "stderr",
       "text": [
        "4%\r"
       ]
      },
      {
       "output_type": "stream",
       "stream": "stderr",
       "text": [
        "5%\r"
       ]
      },
      {
       "output_type": "stream",
       "stream": "stderr",
       "text": [
        "6%\r"
       ]
      },
      {
       "output_type": "stream",
       "stream": "stderr",
       "text": [
        "7%\r"
       ]
      },
      {
       "output_type": "stream",
       "stream": "stderr",
       "text": [
        "8%\r"
       ]
      },
      {
       "output_type": "stream",
       "stream": "stderr",
       "text": [
        "9%\r"
       ]
      },
      {
       "output_type": "stream",
       "stream": "stderr",
       "text": [
        "10%\r"
       ]
      },
      {
       "output_type": "stream",
       "stream": "stderr",
       "text": [
        "11%\r"
       ]
      },
      {
       "output_type": "stream",
       "stream": "stderr",
       "text": [
        "12%\r"
       ]
      },
      {
       "output_type": "stream",
       "stream": "stderr",
       "text": [
        "13%\r"
       ]
      },
      {
       "output_type": "stream",
       "stream": "stderr",
       "text": [
        "14%\r"
       ]
      },
      {
       "output_type": "stream",
       "stream": "stderr",
       "text": [
        "15%\r"
       ]
      },
      {
       "output_type": "stream",
       "stream": "stderr",
       "text": [
        "16%\r"
       ]
      },
      {
       "output_type": "stream",
       "stream": "stderr",
       "text": [
        "17%\r"
       ]
      },
      {
       "output_type": "stream",
       "stream": "stderr",
       "text": [
        "18%\r"
       ]
      },
      {
       "output_type": "stream",
       "stream": "stderr",
       "text": [
        "19%\r"
       ]
      },
      {
       "output_type": "stream",
       "stream": "stderr",
       "text": [
        "20%\r"
       ]
      },
      {
       "output_type": "stream",
       "stream": "stderr",
       "text": [
        "21%\r"
       ]
      },
      {
       "output_type": "stream",
       "stream": "stderr",
       "text": [
        "22%\r"
       ]
      },
      {
       "output_type": "stream",
       "stream": "stderr",
       "text": [
        "23%\r"
       ]
      },
      {
       "output_type": "stream",
       "stream": "stderr",
       "text": [
        "24%\r"
       ]
      },
      {
       "output_type": "stream",
       "stream": "stderr",
       "text": [
        "25%\r"
       ]
      },
      {
       "output_type": "stream",
       "stream": "stderr",
       "text": [
        "26%\r"
       ]
      },
      {
       "output_type": "stream",
       "stream": "stderr",
       "text": [
        "27%\r"
       ]
      },
      {
       "output_type": "stream",
       "stream": "stderr",
       "text": [
        "28%\r"
       ]
      },
      {
       "output_type": "stream",
       "stream": "stderr",
       "text": [
        "29%\r"
       ]
      },
      {
       "output_type": "stream",
       "stream": "stderr",
       "text": [
        "30%\r"
       ]
      },
      {
       "output_type": "stream",
       "stream": "stderr",
       "text": [
        "31%\r"
       ]
      },
      {
       "output_type": "stream",
       "stream": "stderr",
       "text": [
        "32%\r"
       ]
      },
      {
       "output_type": "stream",
       "stream": "stderr",
       "text": [
        "33%\r"
       ]
      },
      {
       "output_type": "stream",
       "stream": "stderr",
       "text": [
        "34%\r"
       ]
      },
      {
       "output_type": "stream",
       "stream": "stderr",
       "text": [
        "35%\r"
       ]
      },
      {
       "output_type": "stream",
       "stream": "stderr",
       "text": [
        "36%\r"
       ]
      },
      {
       "output_type": "stream",
       "stream": "stderr",
       "text": [
        "37%\r"
       ]
      },
      {
       "output_type": "stream",
       "stream": "stderr",
       "text": [
        "38%\r"
       ]
      },
      {
       "output_type": "stream",
       "stream": "stderr",
       "text": [
        "39%\r"
       ]
      },
      {
       "output_type": "stream",
       "stream": "stderr",
       "text": [
        "40%\r"
       ]
      },
      {
       "output_type": "stream",
       "stream": "stderr",
       "text": [
        "41%\r"
       ]
      },
      {
       "output_type": "stream",
       "stream": "stderr",
       "text": [
        "42%\r"
       ]
      },
      {
       "output_type": "stream",
       "stream": "stderr",
       "text": [
        "43%\r"
       ]
      },
      {
       "output_type": "stream",
       "stream": "stderr",
       "text": [
        "44%\r"
       ]
      },
      {
       "output_type": "stream",
       "stream": "stderr",
       "text": [
        "45%\r"
       ]
      },
      {
       "output_type": "stream",
       "stream": "stderr",
       "text": [
        "46%\r"
       ]
      },
      {
       "output_type": "stream",
       "stream": "stderr",
       "text": [
        "47%\r"
       ]
      },
      {
       "output_type": "stream",
       "stream": "stderr",
       "text": [
        "48%\r"
       ]
      },
      {
       "output_type": "stream",
       "stream": "stderr",
       "text": [
        "49%\r"
       ]
      },
      {
       "output_type": "stream",
       "stream": "stderr",
       "text": [
        "50%\r"
       ]
      },
      {
       "output_type": "stream",
       "stream": "stderr",
       "text": [
        "51%\r"
       ]
      },
      {
       "output_type": "stream",
       "stream": "stderr",
       "text": [
        "52%\r"
       ]
      },
      {
       "output_type": "stream",
       "stream": "stderr",
       "text": [
        "53%\r"
       ]
      },
      {
       "output_type": "stream",
       "stream": "stderr",
       "text": [
        "54%\r"
       ]
      },
      {
       "output_type": "stream",
       "stream": "stderr",
       "text": [
        "55%\r"
       ]
      },
      {
       "output_type": "stream",
       "stream": "stderr",
       "text": [
        "56%\r"
       ]
      },
      {
       "output_type": "stream",
       "stream": "stderr",
       "text": [
        "57%\r"
       ]
      },
      {
       "output_type": "stream",
       "stream": "stderr",
       "text": [
        "58%\r"
       ]
      },
      {
       "output_type": "stream",
       "stream": "stderr",
       "text": [
        "59%\r"
       ]
      },
      {
       "output_type": "stream",
       "stream": "stderr",
       "text": [
        "60%\r"
       ]
      },
      {
       "output_type": "stream",
       "stream": "stderr",
       "text": [
        "61%\r"
       ]
      },
      {
       "output_type": "stream",
       "stream": "stderr",
       "text": [
        "62%\r"
       ]
      },
      {
       "output_type": "stream",
       "stream": "stderr",
       "text": [
        "63%\r"
       ]
      },
      {
       "output_type": "stream",
       "stream": "stderr",
       "text": [
        "64%\r"
       ]
      },
      {
       "output_type": "stream",
       "stream": "stderr",
       "text": [
        "65%\r"
       ]
      },
      {
       "output_type": "stream",
       "stream": "stderr",
       "text": [
        "66%\r"
       ]
      },
      {
       "output_type": "stream",
       "stream": "stderr",
       "text": [
        "67%\r"
       ]
      },
      {
       "output_type": "stream",
       "stream": "stderr",
       "text": [
        "68%\r"
       ]
      },
      {
       "output_type": "stream",
       "stream": "stderr",
       "text": [
        "69%\r"
       ]
      },
      {
       "output_type": "stream",
       "stream": "stderr",
       "text": [
        "70%\r"
       ]
      },
      {
       "output_type": "stream",
       "stream": "stderr",
       "text": [
        "71%\r"
       ]
      },
      {
       "output_type": "stream",
       "stream": "stderr",
       "text": [
        "72%\r"
       ]
      },
      {
       "output_type": "stream",
       "stream": "stderr",
       "text": [
        "73%\r"
       ]
      },
      {
       "output_type": "stream",
       "stream": "stderr",
       "text": [
        "74%\r"
       ]
      },
      {
       "output_type": "stream",
       "stream": "stderr",
       "text": [
        "75%\r"
       ]
      },
      {
       "output_type": "stream",
       "stream": "stderr",
       "text": [
        "76%\r"
       ]
      },
      {
       "output_type": "stream",
       "stream": "stderr",
       "text": [
        "77%\r"
       ]
      },
      {
       "output_type": "stream",
       "stream": "stderr",
       "text": [
        "78%\r"
       ]
      },
      {
       "output_type": "stream",
       "stream": "stderr",
       "text": [
        "79%\r"
       ]
      },
      {
       "output_type": "stream",
       "stream": "stderr",
       "text": [
        "80%\r"
       ]
      },
      {
       "output_type": "stream",
       "stream": "stderr",
       "text": [
        "81%\r"
       ]
      },
      {
       "output_type": "stream",
       "stream": "stderr",
       "text": [
        "82%\r"
       ]
      },
      {
       "output_type": "stream",
       "stream": "stderr",
       "text": [
        "83%\r"
       ]
      },
      {
       "output_type": "stream",
       "stream": "stderr",
       "text": [
        "84%\r"
       ]
      },
      {
       "output_type": "stream",
       "stream": "stderr",
       "text": [
        "85%\r"
       ]
      },
      {
       "output_type": "stream",
       "stream": "stderr",
       "text": [
        "86%\r"
       ]
      },
      {
       "output_type": "stream",
       "stream": "stderr",
       "text": [
        "87%\r"
       ]
      },
      {
       "output_type": "stream",
       "stream": "stderr",
       "text": [
        "88%\r"
       ]
      },
      {
       "output_type": "stream",
       "stream": "stderr",
       "text": [
        "89%\r"
       ]
      },
      {
       "output_type": "stream",
       "stream": "stderr",
       "text": [
        "90%\r"
       ]
      },
      {
       "output_type": "stream",
       "stream": "stderr",
       "text": [
        "91%\r"
       ]
      },
      {
       "output_type": "stream",
       "stream": "stderr",
       "text": [
        "92%\r"
       ]
      },
      {
       "output_type": "stream",
       "stream": "stderr",
       "text": [
        "93%\r"
       ]
      },
      {
       "output_type": "stream",
       "stream": "stderr",
       "text": [
        "94%\r"
       ]
      },
      {
       "output_type": "stream",
       "stream": "stderr",
       "text": [
        "95%\r"
       ]
      },
      {
       "output_type": "stream",
       "stream": "stderr",
       "text": [
        "96%\r"
       ]
      },
      {
       "output_type": "stream",
       "stream": "stderr",
       "text": [
        "97%\r"
       ]
      },
      {
       "output_type": "stream",
       "stream": "stderr",
       "text": [
        "98%\r"
       ]
      },
      {
       "output_type": "stream",
       "stream": "stderr",
       "text": [
        "99%\r"
       ]
      },
      {
       "output_type": "stream",
       "stream": "stderr",
       "text": [
        "100%\r"
       ]
      },
      {
       "output_type": "stream",
       "stream": "stderr",
       "text": [
        "100%\n"
       ]
      },
      {
       "output_type": "stream",
       "stream": "stdout",
       "text": [
        "\n",
        "  loss 1.59706067007\n",
        "  err  0.572065304487\n",
        "  (0:00:44)\n",
        "Epoch 9:"
       ]
      },
      {
       "output_type": "stream",
       "stream": "stderr",
       "text": [
        "1%\r"
       ]
      },
      {
       "output_type": "stream",
       "stream": "stderr",
       "text": [
        "2%\r"
       ]
      },
      {
       "output_type": "stream",
       "stream": "stderr",
       "text": [
        "3%\r"
       ]
      },
      {
       "output_type": "stream",
       "stream": "stderr",
       "text": [
        "4%\r"
       ]
      },
      {
       "output_type": "stream",
       "stream": "stderr",
       "text": [
        "5%\r"
       ]
      },
      {
       "output_type": "stream",
       "stream": "stderr",
       "text": [
        "6%\r"
       ]
      },
      {
       "output_type": "stream",
       "stream": "stderr",
       "text": [
        "7%\r"
       ]
      },
      {
       "output_type": "stream",
       "stream": "stderr",
       "text": [
        "8%\r"
       ]
      },
      {
       "output_type": "stream",
       "stream": "stderr",
       "text": [
        "9%\r"
       ]
      },
      {
       "output_type": "stream",
       "stream": "stderr",
       "text": [
        "10%\r"
       ]
      },
      {
       "output_type": "stream",
       "stream": "stderr",
       "text": [
        "11%\r"
       ]
      },
      {
       "output_type": "stream",
       "stream": "stderr",
       "text": [
        "12%\r"
       ]
      },
      {
       "output_type": "stream",
       "stream": "stderr",
       "text": [
        "13%\r"
       ]
      },
      {
       "output_type": "stream",
       "stream": "stderr",
       "text": [
        "14%\r"
       ]
      },
      {
       "output_type": "stream",
       "stream": "stderr",
       "text": [
        "15%\r"
       ]
      },
      {
       "output_type": "stream",
       "stream": "stderr",
       "text": [
        "16%\r"
       ]
      },
      {
       "output_type": "stream",
       "stream": "stderr",
       "text": [
        "17%\r"
       ]
      },
      {
       "output_type": "stream",
       "stream": "stderr",
       "text": [
        "18%\r"
       ]
      },
      {
       "output_type": "stream",
       "stream": "stderr",
       "text": [
        "19%\r"
       ]
      },
      {
       "output_type": "stream",
       "stream": "stderr",
       "text": [
        "20%\r"
       ]
      },
      {
       "output_type": "stream",
       "stream": "stderr",
       "text": [
        "21%\r"
       ]
      },
      {
       "output_type": "stream",
       "stream": "stderr",
       "text": [
        "22%\r"
       ]
      },
      {
       "output_type": "stream",
       "stream": "stderr",
       "text": [
        "23%\r"
       ]
      },
      {
       "output_type": "stream",
       "stream": "stderr",
       "text": [
        "24%\r"
       ]
      },
      {
       "output_type": "stream",
       "stream": "stderr",
       "text": [
        "25%\r"
       ]
      },
      {
       "output_type": "stream",
       "stream": "stderr",
       "text": [
        "26%\r"
       ]
      },
      {
       "output_type": "stream",
       "stream": "stderr",
       "text": [
        "27%\r"
       ]
      },
      {
       "output_type": "stream",
       "stream": "stderr",
       "text": [
        "28%\r"
       ]
      },
      {
       "output_type": "stream",
       "stream": "stderr",
       "text": [
        "29%\r"
       ]
      },
      {
       "output_type": "stream",
       "stream": "stderr",
       "text": [
        "30%\r"
       ]
      },
      {
       "output_type": "stream",
       "stream": "stderr",
       "text": [
        "31%\r"
       ]
      },
      {
       "output_type": "stream",
       "stream": "stderr",
       "text": [
        "32%\r"
       ]
      },
      {
       "output_type": "stream",
       "stream": "stderr",
       "text": [
        "33%\r"
       ]
      },
      {
       "output_type": "stream",
       "stream": "stderr",
       "text": [
        "34%\r"
       ]
      },
      {
       "output_type": "stream",
       "stream": "stderr",
       "text": [
        "35%\r"
       ]
      },
      {
       "output_type": "stream",
       "stream": "stderr",
       "text": [
        "36%\r"
       ]
      },
      {
       "output_type": "stream",
       "stream": "stderr",
       "text": [
        "37%\r"
       ]
      },
      {
       "output_type": "stream",
       "stream": "stderr",
       "text": [
        "38%\r"
       ]
      },
      {
       "output_type": "stream",
       "stream": "stderr",
       "text": [
        "39%\r"
       ]
      },
      {
       "output_type": "stream",
       "stream": "stderr",
       "text": [
        "40%\r"
       ]
      },
      {
       "output_type": "stream",
       "stream": "stderr",
       "text": [
        "41%\r"
       ]
      },
      {
       "output_type": "stream",
       "stream": "stderr",
       "text": [
        "42%\r"
       ]
      },
      {
       "output_type": "stream",
       "stream": "stderr",
       "text": [
        "43%\r"
       ]
      },
      {
       "output_type": "stream",
       "stream": "stderr",
       "text": [
        "44%\r"
       ]
      },
      {
       "output_type": "stream",
       "stream": "stderr",
       "text": [
        "45%\r"
       ]
      },
      {
       "output_type": "stream",
       "stream": "stderr",
       "text": [
        "46%\r"
       ]
      },
      {
       "output_type": "stream",
       "stream": "stderr",
       "text": [
        "47%\r"
       ]
      },
      {
       "output_type": "stream",
       "stream": "stderr",
       "text": [
        "48%\r"
       ]
      },
      {
       "output_type": "stream",
       "stream": "stderr",
       "text": [
        "49%\r"
       ]
      },
      {
       "output_type": "stream",
       "stream": "stderr",
       "text": [
        "50%\r"
       ]
      },
      {
       "output_type": "stream",
       "stream": "stderr",
       "text": [
        "51%\r"
       ]
      },
      {
       "output_type": "stream",
       "stream": "stderr",
       "text": [
        "52%\r"
       ]
      },
      {
       "output_type": "stream",
       "stream": "stderr",
       "text": [
        "53%\r"
       ]
      },
      {
       "output_type": "stream",
       "stream": "stderr",
       "text": [
        "54%\r"
       ]
      },
      {
       "output_type": "stream",
       "stream": "stderr",
       "text": [
        "55%\r"
       ]
      },
      {
       "output_type": "stream",
       "stream": "stderr",
       "text": [
        "56%\r"
       ]
      },
      {
       "output_type": "stream",
       "stream": "stderr",
       "text": [
        "57%\r"
       ]
      },
      {
       "output_type": "stream",
       "stream": "stderr",
       "text": [
        "58%\r"
       ]
      },
      {
       "output_type": "stream",
       "stream": "stderr",
       "text": [
        "59%\r"
       ]
      },
      {
       "output_type": "stream",
       "stream": "stderr",
       "text": [
        "60%\r"
       ]
      },
      {
       "output_type": "stream",
       "stream": "stderr",
       "text": [
        "61%\r"
       ]
      },
      {
       "output_type": "stream",
       "stream": "stderr",
       "text": [
        "62%\r"
       ]
      },
      {
       "output_type": "stream",
       "stream": "stderr",
       "text": [
        "63%\r"
       ]
      },
      {
       "output_type": "stream",
       "stream": "stderr",
       "text": [
        "64%\r"
       ]
      },
      {
       "output_type": "stream",
       "stream": "stderr",
       "text": [
        "65%\r"
       ]
      },
      {
       "output_type": "stream",
       "stream": "stderr",
       "text": [
        "66%\r"
       ]
      },
      {
       "output_type": "stream",
       "stream": "stderr",
       "text": [
        "67%\r"
       ]
      },
      {
       "output_type": "stream",
       "stream": "stderr",
       "text": [
        "68%\r"
       ]
      },
      {
       "output_type": "stream",
       "stream": "stderr",
       "text": [
        "69%\r"
       ]
      },
      {
       "output_type": "stream",
       "stream": "stderr",
       "text": [
        "70%\r"
       ]
      },
      {
       "output_type": "stream",
       "stream": "stderr",
       "text": [
        "71%\r"
       ]
      },
      {
       "output_type": "stream",
       "stream": "stderr",
       "text": [
        "72%\r"
       ]
      },
      {
       "output_type": "stream",
       "stream": "stderr",
       "text": [
        "73%\r"
       ]
      },
      {
       "output_type": "stream",
       "stream": "stderr",
       "text": [
        "74%\r"
       ]
      },
      {
       "output_type": "stream",
       "stream": "stderr",
       "text": [
        "75%\r"
       ]
      },
      {
       "output_type": "stream",
       "stream": "stderr",
       "text": [
        "76%\r"
       ]
      },
      {
       "output_type": "stream",
       "stream": "stderr",
       "text": [
        "77%\r"
       ]
      },
      {
       "output_type": "stream",
       "stream": "stderr",
       "text": [
        "78%\r"
       ]
      },
      {
       "output_type": "stream",
       "stream": "stderr",
       "text": [
        "79%\r"
       ]
      },
      {
       "output_type": "stream",
       "stream": "stderr",
       "text": [
        "80%\r"
       ]
      },
      {
       "output_type": "stream",
       "stream": "stderr",
       "text": [
        "81%\r"
       ]
      },
      {
       "output_type": "stream",
       "stream": "stderr",
       "text": [
        "82%\r"
       ]
      },
      {
       "output_type": "stream",
       "stream": "stderr",
       "text": [
        "83%\r"
       ]
      },
      {
       "output_type": "stream",
       "stream": "stderr",
       "text": [
        "84%\r"
       ]
      },
      {
       "output_type": "stream",
       "stream": "stderr",
       "text": [
        "85%\r"
       ]
      },
      {
       "output_type": "stream",
       "stream": "stderr",
       "text": [
        "86%\r"
       ]
      },
      {
       "output_type": "stream",
       "stream": "stderr",
       "text": [
        "87%\r"
       ]
      },
      {
       "output_type": "stream",
       "stream": "stderr",
       "text": [
        "88%\r"
       ]
      },
      {
       "output_type": "stream",
       "stream": "stderr",
       "text": [
        "89%\r"
       ]
      },
      {
       "output_type": "stream",
       "stream": "stderr",
       "text": [
        "90%\r"
       ]
      },
      {
       "output_type": "stream",
       "stream": "stderr",
       "text": [
        "91%\r"
       ]
      },
      {
       "output_type": "stream",
       "stream": "stderr",
       "text": [
        "92%\r"
       ]
      },
      {
       "output_type": "stream",
       "stream": "stderr",
       "text": [
        "93%\r"
       ]
      },
      {
       "output_type": "stream",
       "stream": "stderr",
       "text": [
        "94%\r"
       ]
      },
      {
       "output_type": "stream",
       "stream": "stderr",
       "text": [
        "95%\r"
       ]
      },
      {
       "output_type": "stream",
       "stream": "stderr",
       "text": [
        "96%\r"
       ]
      },
      {
       "output_type": "stream",
       "stream": "stderr",
       "text": [
        "97%\r"
       ]
      },
      {
       "output_type": "stream",
       "stream": "stderr",
       "text": [
        "98%\r"
       ]
      },
      {
       "output_type": "stream",
       "stream": "stderr",
       "text": [
        "99%\r"
       ]
      },
      {
       "output_type": "stream",
       "stream": "stderr",
       "text": [
        "100%\r"
       ]
      },
      {
       "output_type": "stream",
       "stream": "stderr",
       "text": [
        "100%\n"
       ]
      },
      {
       "output_type": "stream",
       "stream": "stdout",
       "text": [
        "\n",
        "  loss 1.55995999162\n",
        "  err  0.559294871795\n",
        "  (0:00:44)\n",
        "Epoch 10:"
       ]
      },
      {
       "output_type": "stream",
       "stream": "stderr",
       "text": [
        "1%\r"
       ]
      },
      {
       "output_type": "stream",
       "stream": "stderr",
       "text": [
        "2%\r"
       ]
      },
      {
       "output_type": "stream",
       "stream": "stderr",
       "text": [
        "3%\r"
       ]
      },
      {
       "output_type": "stream",
       "stream": "stderr",
       "text": [
        "4%\r"
       ]
      },
      {
       "output_type": "stream",
       "stream": "stderr",
       "text": [
        "5%\r"
       ]
      },
      {
       "output_type": "stream",
       "stream": "stderr",
       "text": [
        "6%\r"
       ]
      },
      {
       "output_type": "stream",
       "stream": "stderr",
       "text": [
        "7%\r"
       ]
      },
      {
       "output_type": "stream",
       "stream": "stderr",
       "text": [
        "8%\r"
       ]
      },
      {
       "output_type": "stream",
       "stream": "stderr",
       "text": [
        "9%\r"
       ]
      },
      {
       "output_type": "stream",
       "stream": "stderr",
       "text": [
        "10%\r"
       ]
      },
      {
       "output_type": "stream",
       "stream": "stderr",
       "text": [
        "11%\r"
       ]
      },
      {
       "output_type": "stream",
       "stream": "stderr",
       "text": [
        "12%\r"
       ]
      },
      {
       "output_type": "stream",
       "stream": "stderr",
       "text": [
        "13%\r"
       ]
      },
      {
       "output_type": "stream",
       "stream": "stderr",
       "text": [
        "14%\r"
       ]
      },
      {
       "output_type": "stream",
       "stream": "stderr",
       "text": [
        "15%\r"
       ]
      },
      {
       "output_type": "stream",
       "stream": "stderr",
       "text": [
        "16%\r"
       ]
      },
      {
       "output_type": "stream",
       "stream": "stderr",
       "text": [
        "17%\r"
       ]
      },
      {
       "output_type": "stream",
       "stream": "stderr",
       "text": [
        "18%\r"
       ]
      },
      {
       "output_type": "stream",
       "stream": "stderr",
       "text": [
        "19%\r"
       ]
      },
      {
       "output_type": "stream",
       "stream": "stderr",
       "text": [
        "20%\r"
       ]
      },
      {
       "output_type": "stream",
       "stream": "stderr",
       "text": [
        "21%\r"
       ]
      },
      {
       "output_type": "stream",
       "stream": "stderr",
       "text": [
        "22%\r"
       ]
      },
      {
       "output_type": "stream",
       "stream": "stderr",
       "text": [
        "23%\r"
       ]
      },
      {
       "output_type": "stream",
       "stream": "stderr",
       "text": [
        "24%\r"
       ]
      },
      {
       "output_type": "stream",
       "stream": "stderr",
       "text": [
        "25%\r"
       ]
      },
      {
       "output_type": "stream",
       "stream": "stderr",
       "text": [
        "26%\r"
       ]
      },
      {
       "output_type": "stream",
       "stream": "stderr",
       "text": [
        "27%\r"
       ]
      },
      {
       "output_type": "stream",
       "stream": "stderr",
       "text": [
        "28%\r"
       ]
      },
      {
       "output_type": "stream",
       "stream": "stderr",
       "text": [
        "29%\r"
       ]
      },
      {
       "output_type": "stream",
       "stream": "stderr",
       "text": [
        "30%\r"
       ]
      },
      {
       "output_type": "stream",
       "stream": "stderr",
       "text": [
        "31%\r"
       ]
      },
      {
       "output_type": "stream",
       "stream": "stderr",
       "text": [
        "32%\r"
       ]
      },
      {
       "output_type": "stream",
       "stream": "stderr",
       "text": [
        "33%\r"
       ]
      },
      {
       "output_type": "stream",
       "stream": "stderr",
       "text": [
        "34%\r"
       ]
      },
      {
       "output_type": "stream",
       "stream": "stderr",
       "text": [
        "35%\r"
       ]
      },
      {
       "output_type": "stream",
       "stream": "stderr",
       "text": [
        "36%\r"
       ]
      },
      {
       "output_type": "stream",
       "stream": "stderr",
       "text": [
        "37%\r"
       ]
      },
      {
       "output_type": "stream",
       "stream": "stderr",
       "text": [
        "38%\r"
       ]
      },
      {
       "output_type": "stream",
       "stream": "stderr",
       "text": [
        "39%\r"
       ]
      },
      {
       "output_type": "stream",
       "stream": "stderr",
       "text": [
        "40%\r"
       ]
      },
      {
       "output_type": "stream",
       "stream": "stderr",
       "text": [
        "41%\r"
       ]
      },
      {
       "output_type": "stream",
       "stream": "stderr",
       "text": [
        "42%\r"
       ]
      },
      {
       "output_type": "stream",
       "stream": "stderr",
       "text": [
        "43%\r"
       ]
      },
      {
       "output_type": "stream",
       "stream": "stderr",
       "text": [
        "44%\r"
       ]
      },
      {
       "output_type": "stream",
       "stream": "stderr",
       "text": [
        "45%\r"
       ]
      },
      {
       "output_type": "stream",
       "stream": "stderr",
       "text": [
        "46%\r"
       ]
      },
      {
       "output_type": "stream",
       "stream": "stderr",
       "text": [
        "47%\r"
       ]
      },
      {
       "output_type": "stream",
       "stream": "stderr",
       "text": [
        "48%\r"
       ]
      },
      {
       "output_type": "stream",
       "stream": "stderr",
       "text": [
        "49%\r"
       ]
      },
      {
       "output_type": "stream",
       "stream": "stderr",
       "text": [
        "50%\r"
       ]
      },
      {
       "output_type": "stream",
       "stream": "stderr",
       "text": [
        "51%\r"
       ]
      },
      {
       "output_type": "stream",
       "stream": "stderr",
       "text": [
        "52%\r"
       ]
      },
      {
       "output_type": "stream",
       "stream": "stderr",
       "text": [
        "53%\r"
       ]
      },
      {
       "output_type": "stream",
       "stream": "stderr",
       "text": [
        "54%\r"
       ]
      },
      {
       "output_type": "stream",
       "stream": "stderr",
       "text": [
        "55%\r"
       ]
      },
      {
       "output_type": "stream",
       "stream": "stderr",
       "text": [
        "56%\r"
       ]
      },
      {
       "output_type": "stream",
       "stream": "stderr",
       "text": [
        "57%\r"
       ]
      },
      {
       "output_type": "stream",
       "stream": "stderr",
       "text": [
        "58%\r"
       ]
      },
      {
       "output_type": "stream",
       "stream": "stderr",
       "text": [
        "59%\r"
       ]
      },
      {
       "output_type": "stream",
       "stream": "stderr",
       "text": [
        "60%\r"
       ]
      },
      {
       "output_type": "stream",
       "stream": "stderr",
       "text": [
        "61%\r"
       ]
      },
      {
       "output_type": "stream",
       "stream": "stderr",
       "text": [
        "62%\r"
       ]
      },
      {
       "output_type": "stream",
       "stream": "stderr",
       "text": [
        "63%\r"
       ]
      },
      {
       "output_type": "stream",
       "stream": "stderr",
       "text": [
        "64%\r"
       ]
      },
      {
       "output_type": "stream",
       "stream": "stderr",
       "text": [
        "65%\r"
       ]
      },
      {
       "output_type": "stream",
       "stream": "stderr",
       "text": [
        "66%\r"
       ]
      },
      {
       "output_type": "stream",
       "stream": "stderr",
       "text": [
        "67%\r"
       ]
      },
      {
       "output_type": "stream",
       "stream": "stderr",
       "text": [
        "68%\r"
       ]
      },
      {
       "output_type": "stream",
       "stream": "stderr",
       "text": [
        "69%\r"
       ]
      },
      {
       "output_type": "stream",
       "stream": "stderr",
       "text": [
        "70%\r"
       ]
      },
      {
       "output_type": "stream",
       "stream": "stderr",
       "text": [
        "71%\r"
       ]
      },
      {
       "output_type": "stream",
       "stream": "stderr",
       "text": [
        "72%\r"
       ]
      },
      {
       "output_type": "stream",
       "stream": "stderr",
       "text": [
        "73%\r"
       ]
      },
      {
       "output_type": "stream",
       "stream": "stderr",
       "text": [
        "74%\r"
       ]
      },
      {
       "output_type": "stream",
       "stream": "stderr",
       "text": [
        "75%\r"
       ]
      },
      {
       "output_type": "stream",
       "stream": "stderr",
       "text": [
        "76%\r"
       ]
      },
      {
       "output_type": "stream",
       "stream": "stderr",
       "text": [
        "77%\r"
       ]
      },
      {
       "output_type": "stream",
       "stream": "stderr",
       "text": [
        "78%\r"
       ]
      },
      {
       "output_type": "stream",
       "stream": "stderr",
       "text": [
        "79%\r"
       ]
      },
      {
       "output_type": "stream",
       "stream": "stderr",
       "text": [
        "80%\r"
       ]
      },
      {
       "output_type": "stream",
       "stream": "stderr",
       "text": [
        "81%\r"
       ]
      },
      {
       "output_type": "stream",
       "stream": "stderr",
       "text": [
        "82%\r"
       ]
      },
      {
       "output_type": "stream",
       "stream": "stderr",
       "text": [
        "83%\r"
       ]
      },
      {
       "output_type": "stream",
       "stream": "stderr",
       "text": [
        "84%\r"
       ]
      },
      {
       "output_type": "stream",
       "stream": "stderr",
       "text": [
        "85%\r"
       ]
      },
      {
       "output_type": "stream",
       "stream": "stderr",
       "text": [
        "86%\r"
       ]
      },
      {
       "output_type": "stream",
       "stream": "stderr",
       "text": [
        "87%\r"
       ]
      },
      {
       "output_type": "stream",
       "stream": "stderr",
       "text": [
        "88%\r"
       ]
      },
      {
       "output_type": "stream",
       "stream": "stderr",
       "text": [
        "89%\r"
       ]
      },
      {
       "output_type": "stream",
       "stream": "stderr",
       "text": [
        "90%\r"
       ]
      },
      {
       "output_type": "stream",
       "stream": "stderr",
       "text": [
        "91%\r"
       ]
      },
      {
       "output_type": "stream",
       "stream": "stderr",
       "text": [
        "92%\r"
       ]
      },
      {
       "output_type": "stream",
       "stream": "stderr",
       "text": [
        "93%\r"
       ]
      },
      {
       "output_type": "stream",
       "stream": "stderr",
       "text": [
        "94%\r"
       ]
      },
      {
       "output_type": "stream",
       "stream": "stderr",
       "text": [
        "95%\r"
       ]
      },
      {
       "output_type": "stream",
       "stream": "stderr",
       "text": [
        "96%\r"
       ]
      },
      {
       "output_type": "stream",
       "stream": "stderr",
       "text": [
        "97%\r"
       ]
      },
      {
       "output_type": "stream",
       "stream": "stderr",
       "text": [
        "98%\r"
       ]
      },
      {
       "output_type": "stream",
       "stream": "stderr",
       "text": [
        "99%\r"
       ]
      },
      {
       "output_type": "stream",
       "stream": "stderr",
       "text": [
        "100%\r"
       ]
      },
      {
       "output_type": "stream",
       "stream": "stderr",
       "text": [
        "100%\n"
       ]
      },
      {
       "output_type": "stream",
       "stream": "stdout",
       "text": [
        "\n",
        "  loss 1.53600559708\n",
        "  err  0.549278846154\n",
        "  (0:00:44)\n",
        "Epoch 11:"
       ]
      },
      {
       "output_type": "stream",
       "stream": "stderr",
       "text": [
        "1%\r"
       ]
      },
      {
       "output_type": "stream",
       "stream": "stderr",
       "text": [
        "2%\r"
       ]
      },
      {
       "output_type": "stream",
       "stream": "stderr",
       "text": [
        "3%\r"
       ]
      },
      {
       "output_type": "stream",
       "stream": "stderr",
       "text": [
        "4%\r"
       ]
      },
      {
       "output_type": "stream",
       "stream": "stderr",
       "text": [
        "5%\r"
       ]
      },
      {
       "output_type": "stream",
       "stream": "stderr",
       "text": [
        "6%\r"
       ]
      },
      {
       "output_type": "stream",
       "stream": "stderr",
       "text": [
        "7%\r"
       ]
      },
      {
       "output_type": "stream",
       "stream": "stderr",
       "text": [
        "8%\r"
       ]
      },
      {
       "output_type": "stream",
       "stream": "stderr",
       "text": [
        "9%\r"
       ]
      },
      {
       "output_type": "stream",
       "stream": "stderr",
       "text": [
        "10%\r"
       ]
      },
      {
       "output_type": "stream",
       "stream": "stderr",
       "text": [
        "11%\r"
       ]
      },
      {
       "output_type": "stream",
       "stream": "stderr",
       "text": [
        "12%\r"
       ]
      },
      {
       "output_type": "stream",
       "stream": "stderr",
       "text": [
        "13%\r"
       ]
      },
      {
       "output_type": "stream",
       "stream": "stderr",
       "text": [
        "14%\r"
       ]
      },
      {
       "output_type": "stream",
       "stream": "stderr",
       "text": [
        "15%\r"
       ]
      },
      {
       "output_type": "stream",
       "stream": "stderr",
       "text": [
        "16%\r"
       ]
      },
      {
       "output_type": "stream",
       "stream": "stderr",
       "text": [
        "17%\r"
       ]
      },
      {
       "output_type": "stream",
       "stream": "stderr",
       "text": [
        "18%\r"
       ]
      },
      {
       "output_type": "stream",
       "stream": "stderr",
       "text": [
        "19%\r"
       ]
      },
      {
       "output_type": "stream",
       "stream": "stderr",
       "text": [
        "20%\r"
       ]
      },
      {
       "output_type": "stream",
       "stream": "stderr",
       "text": [
        "21%\r"
       ]
      },
      {
       "output_type": "stream",
       "stream": "stderr",
       "text": [
        "22%\r"
       ]
      },
      {
       "output_type": "stream",
       "stream": "stderr",
       "text": [
        "23%\r"
       ]
      },
      {
       "output_type": "stream",
       "stream": "stderr",
       "text": [
        "24%\r"
       ]
      },
      {
       "output_type": "stream",
       "stream": "stderr",
       "text": [
        "25%\r"
       ]
      },
      {
       "output_type": "stream",
       "stream": "stderr",
       "text": [
        "26%\r"
       ]
      },
      {
       "output_type": "stream",
       "stream": "stderr",
       "text": [
        "27%\r"
       ]
      },
      {
       "output_type": "stream",
       "stream": "stderr",
       "text": [
        "28%\r"
       ]
      },
      {
       "output_type": "stream",
       "stream": "stderr",
       "text": [
        "29%\r"
       ]
      },
      {
       "output_type": "stream",
       "stream": "stderr",
       "text": [
        "30%\r"
       ]
      },
      {
       "output_type": "stream",
       "stream": "stderr",
       "text": [
        "31%\r"
       ]
      },
      {
       "output_type": "stream",
       "stream": "stderr",
       "text": [
        "32%\r"
       ]
      },
      {
       "output_type": "stream",
       "stream": "stderr",
       "text": [
        "33%\r"
       ]
      },
      {
       "output_type": "stream",
       "stream": "stderr",
       "text": [
        "34%\r"
       ]
      },
      {
       "output_type": "stream",
       "stream": "stderr",
       "text": [
        "35%\r"
       ]
      },
      {
       "output_type": "stream",
       "stream": "stderr",
       "text": [
        "36%\r"
       ]
      },
      {
       "output_type": "stream",
       "stream": "stderr",
       "text": [
        "37%\r"
       ]
      },
      {
       "output_type": "stream",
       "stream": "stderr",
       "text": [
        "38%\r"
       ]
      },
      {
       "output_type": "stream",
       "stream": "stderr",
       "text": [
        "39%\r"
       ]
      },
      {
       "output_type": "stream",
       "stream": "stderr",
       "text": [
        "40%\r"
       ]
      },
      {
       "output_type": "stream",
       "stream": "stderr",
       "text": [
        "41%\r"
       ]
      },
      {
       "output_type": "stream",
       "stream": "stderr",
       "text": [
        "42%\r"
       ]
      },
      {
       "output_type": "stream",
       "stream": "stderr",
       "text": [
        "43%\r"
       ]
      },
      {
       "output_type": "stream",
       "stream": "stderr",
       "text": [
        "44%\r"
       ]
      },
      {
       "output_type": "stream",
       "stream": "stderr",
       "text": [
        "45%\r"
       ]
      },
      {
       "output_type": "stream",
       "stream": "stderr",
       "text": [
        "46%\r"
       ]
      },
      {
       "output_type": "stream",
       "stream": "stderr",
       "text": [
        "47%\r"
       ]
      },
      {
       "output_type": "stream",
       "stream": "stderr",
       "text": [
        "48%\r"
       ]
      },
      {
       "output_type": "stream",
       "stream": "stderr",
       "text": [
        "49%\r"
       ]
      },
      {
       "output_type": "stream",
       "stream": "stderr",
       "text": [
        "50%\r"
       ]
      },
      {
       "output_type": "stream",
       "stream": "stderr",
       "text": [
        "51%\r"
       ]
      },
      {
       "output_type": "stream",
       "stream": "stderr",
       "text": [
        "52%\r"
       ]
      },
      {
       "output_type": "stream",
       "stream": "stderr",
       "text": [
        "53%\r"
       ]
      },
      {
       "output_type": "stream",
       "stream": "stderr",
       "text": [
        "54%\r"
       ]
      },
      {
       "output_type": "stream",
       "stream": "stderr",
       "text": [
        "55%\r"
       ]
      },
      {
       "output_type": "stream",
       "stream": "stderr",
       "text": [
        "56%\r"
       ]
      },
      {
       "output_type": "stream",
       "stream": "stderr",
       "text": [
        "57%\r"
       ]
      },
      {
       "output_type": "stream",
       "stream": "stderr",
       "text": [
        "58%\r"
       ]
      },
      {
       "output_type": "stream",
       "stream": "stderr",
       "text": [
        "59%\r"
       ]
      },
      {
       "output_type": "stream",
       "stream": "stderr",
       "text": [
        "60%\r"
       ]
      },
      {
       "output_type": "stream",
       "stream": "stderr",
       "text": [
        "61%\r"
       ]
      },
      {
       "output_type": "stream",
       "stream": "stderr",
       "text": [
        "62%\r"
       ]
      },
      {
       "output_type": "stream",
       "stream": "stderr",
       "text": [
        "63%\r"
       ]
      },
      {
       "output_type": "stream",
       "stream": "stderr",
       "text": [
        "64%\r"
       ]
      },
      {
       "output_type": "stream",
       "stream": "stderr",
       "text": [
        "65%\r"
       ]
      },
      {
       "output_type": "stream",
       "stream": "stderr",
       "text": [
        "66%\r"
       ]
      },
      {
       "output_type": "stream",
       "stream": "stderr",
       "text": [
        "67%\r"
       ]
      },
      {
       "output_type": "stream",
       "stream": "stderr",
       "text": [
        "68%\r"
       ]
      },
      {
       "output_type": "stream",
       "stream": "stderr",
       "text": [
        "69%\r"
       ]
      },
      {
       "output_type": "stream",
       "stream": "stderr",
       "text": [
        "70%\r"
       ]
      },
      {
       "output_type": "stream",
       "stream": "stderr",
       "text": [
        "71%\r"
       ]
      },
      {
       "output_type": "stream",
       "stream": "stderr",
       "text": [
        "72%\r"
       ]
      },
      {
       "output_type": "stream",
       "stream": "stderr",
       "text": [
        "73%\r"
       ]
      },
      {
       "output_type": "stream",
       "stream": "stderr",
       "text": [
        "74%\r"
       ]
      },
      {
       "output_type": "stream",
       "stream": "stderr",
       "text": [
        "75%\r"
       ]
      },
      {
       "output_type": "stream",
       "stream": "stderr",
       "text": [
        "76%\r"
       ]
      },
      {
       "output_type": "stream",
       "stream": "stderr",
       "text": [
        "77%\r"
       ]
      },
      {
       "output_type": "stream",
       "stream": "stderr",
       "text": [
        "78%\r"
       ]
      },
      {
       "output_type": "stream",
       "stream": "stderr",
       "text": [
        "79%\r"
       ]
      },
      {
       "output_type": "stream",
       "stream": "stderr",
       "text": [
        "80%\r"
       ]
      },
      {
       "output_type": "stream",
       "stream": "stderr",
       "text": [
        "81%\r"
       ]
      },
      {
       "output_type": "stream",
       "stream": "stderr",
       "text": [
        "82%\r"
       ]
      },
      {
       "output_type": "stream",
       "stream": "stderr",
       "text": [
        "83%\r"
       ]
      },
      {
       "output_type": "stream",
       "stream": "stderr",
       "text": [
        "84%\r"
       ]
      },
      {
       "output_type": "stream",
       "stream": "stderr",
       "text": [
        "85%\r"
       ]
      },
      {
       "output_type": "stream",
       "stream": "stderr",
       "text": [
        "86%\r"
       ]
      },
      {
       "output_type": "stream",
       "stream": "stderr",
       "text": [
        "87%\r"
       ]
      },
      {
       "output_type": "stream",
       "stream": "stderr",
       "text": [
        "88%\r"
       ]
      },
      {
       "output_type": "stream",
       "stream": "stderr",
       "text": [
        "89%\r"
       ]
      },
      {
       "output_type": "stream",
       "stream": "stderr",
       "text": [
        "90%\r"
       ]
      },
      {
       "output_type": "stream",
       "stream": "stderr",
       "text": [
        "91%\r"
       ]
      },
      {
       "output_type": "stream",
       "stream": "stderr",
       "text": [
        "92%\r"
       ]
      },
      {
       "output_type": "stream",
       "stream": "stderr",
       "text": [
        "93%\r"
       ]
      },
      {
       "output_type": "stream",
       "stream": "stderr",
       "text": [
        "94%\r"
       ]
      },
      {
       "output_type": "stream",
       "stream": "stderr",
       "text": [
        "95%\r"
       ]
      },
      {
       "output_type": "stream",
       "stream": "stderr",
       "text": [
        "96%\r"
       ]
      },
      {
       "output_type": "stream",
       "stream": "stderr",
       "text": [
        "97%\r"
       ]
      },
      {
       "output_type": "stream",
       "stream": "stderr",
       "text": [
        "98%\r"
       ]
      },
      {
       "output_type": "stream",
       "stream": "stderr",
       "text": [
        "99%\r"
       ]
      },
      {
       "output_type": "stream",
       "stream": "stderr",
       "text": [
        "100%\r"
       ]
      },
      {
       "output_type": "stream",
       "stream": "stderr",
       "text": [
        "100%\n"
       ]
      },
      {
       "output_type": "stream",
       "stream": "stdout",
       "text": [
        "\n",
        "  loss 1.50948966925\n",
        "  err  0.539913862179\n",
        "  (0:00:50)\n",
        "Epoch 12:"
       ]
      },
      {
       "output_type": "stream",
       "stream": "stderr",
       "text": [
        "1%\r"
       ]
      },
      {
       "output_type": "stream",
       "stream": "stderr",
       "text": [
        "2%\r"
       ]
      },
      {
       "output_type": "stream",
       "stream": "stderr",
       "text": [
        "3%\r"
       ]
      },
      {
       "output_type": "stream",
       "stream": "stderr",
       "text": [
        "4%\r"
       ]
      },
      {
       "output_type": "stream",
       "stream": "stderr",
       "text": [
        "5%\r"
       ]
      },
      {
       "output_type": "stream",
       "stream": "stderr",
       "text": [
        "6%\r"
       ]
      },
      {
       "output_type": "stream",
       "stream": "stderr",
       "text": [
        "7%\r"
       ]
      },
      {
       "output_type": "stream",
       "stream": "stderr",
       "text": [
        "8%\r"
       ]
      },
      {
       "output_type": "stream",
       "stream": "stderr",
       "text": [
        "9%\r"
       ]
      },
      {
       "output_type": "stream",
       "stream": "stderr",
       "text": [
        "10%\r"
       ]
      },
      {
       "output_type": "stream",
       "stream": "stderr",
       "text": [
        "11%\r"
       ]
      },
      {
       "output_type": "stream",
       "stream": "stderr",
       "text": [
        "12%\r"
       ]
      },
      {
       "output_type": "stream",
       "stream": "stderr",
       "text": [
        "13%\r"
       ]
      },
      {
       "output_type": "stream",
       "stream": "stderr",
       "text": [
        "14%\r"
       ]
      },
      {
       "output_type": "stream",
       "stream": "stderr",
       "text": [
        "15%\r"
       ]
      },
      {
       "output_type": "stream",
       "stream": "stderr",
       "text": [
        "16%\r"
       ]
      },
      {
       "output_type": "stream",
       "stream": "stderr",
       "text": [
        "17%\r"
       ]
      },
      {
       "output_type": "stream",
       "stream": "stderr",
       "text": [
        "18%\r"
       ]
      },
      {
       "output_type": "stream",
       "stream": "stderr",
       "text": [
        "19%\r"
       ]
      },
      {
       "output_type": "stream",
       "stream": "stderr",
       "text": [
        "20%\r"
       ]
      },
      {
       "output_type": "stream",
       "stream": "stderr",
       "text": [
        "21%\r"
       ]
      },
      {
       "output_type": "stream",
       "stream": "stderr",
       "text": [
        "22%\r"
       ]
      },
      {
       "output_type": "stream",
       "stream": "stderr",
       "text": [
        "23%\r"
       ]
      },
      {
       "output_type": "stream",
       "stream": "stderr",
       "text": [
        "24%\r"
       ]
      },
      {
       "output_type": "stream",
       "stream": "stderr",
       "text": [
        "25%\r"
       ]
      },
      {
       "output_type": "stream",
       "stream": "stderr",
       "text": [
        "26%\r"
       ]
      },
      {
       "output_type": "stream",
       "stream": "stderr",
       "text": [
        "27%\r"
       ]
      },
      {
       "output_type": "stream",
       "stream": "stderr",
       "text": [
        "28%\r"
       ]
      },
      {
       "output_type": "stream",
       "stream": "stderr",
       "text": [
        "29%\r"
       ]
      },
      {
       "output_type": "stream",
       "stream": "stderr",
       "text": [
        "30%\r"
       ]
      },
      {
       "output_type": "stream",
       "stream": "stderr",
       "text": [
        "31%\r"
       ]
      },
      {
       "output_type": "stream",
       "stream": "stderr",
       "text": [
        "32%\r"
       ]
      },
      {
       "output_type": "stream",
       "stream": "stderr",
       "text": [
        "33%\r"
       ]
      },
      {
       "output_type": "stream",
       "stream": "stderr",
       "text": [
        "34%\r"
       ]
      },
      {
       "output_type": "stream",
       "stream": "stderr",
       "text": [
        "35%\r"
       ]
      },
      {
       "output_type": "stream",
       "stream": "stderr",
       "text": [
        "36%\r"
       ]
      },
      {
       "output_type": "stream",
       "stream": "stderr",
       "text": [
        "37%\r"
       ]
      },
      {
       "output_type": "stream",
       "stream": "stderr",
       "text": [
        "38%\r"
       ]
      },
      {
       "output_type": "stream",
       "stream": "stderr",
       "text": [
        "39%\r"
       ]
      },
      {
       "output_type": "stream",
       "stream": "stderr",
       "text": [
        "40%\r"
       ]
      },
      {
       "output_type": "stream",
       "stream": "stderr",
       "text": [
        "41%\r"
       ]
      },
      {
       "output_type": "stream",
       "stream": "stderr",
       "text": [
        "42%\r"
       ]
      },
      {
       "output_type": "stream",
       "stream": "stderr",
       "text": [
        "43%\r"
       ]
      },
      {
       "output_type": "stream",
       "stream": "stderr",
       "text": [
        "44%\r"
       ]
      },
      {
       "output_type": "stream",
       "stream": "stderr",
       "text": [
        "45%\r"
       ]
      },
      {
       "output_type": "stream",
       "stream": "stderr",
       "text": [
        "46%\r"
       ]
      },
      {
       "output_type": "stream",
       "stream": "stderr",
       "text": [
        "47%\r"
       ]
      },
      {
       "output_type": "stream",
       "stream": "stderr",
       "text": [
        "48%\r"
       ]
      },
      {
       "output_type": "stream",
       "stream": "stderr",
       "text": [
        "49%\r"
       ]
      },
      {
       "output_type": "stream",
       "stream": "stderr",
       "text": [
        "50%\r"
       ]
      },
      {
       "output_type": "stream",
       "stream": "stderr",
       "text": [
        "51%\r"
       ]
      },
      {
       "output_type": "stream",
       "stream": "stderr",
       "text": [
        "52%\r"
       ]
      },
      {
       "output_type": "stream",
       "stream": "stderr",
       "text": [
        "53%\r"
       ]
      },
      {
       "output_type": "stream",
       "stream": "stderr",
       "text": [
        "54%\r"
       ]
      },
      {
       "output_type": "stream",
       "stream": "stderr",
       "text": [
        "55%\r"
       ]
      },
      {
       "output_type": "stream",
       "stream": "stderr",
       "text": [
        "56%\r"
       ]
      },
      {
       "output_type": "stream",
       "stream": "stderr",
       "text": [
        "57%\r"
       ]
      },
      {
       "output_type": "stream",
       "stream": "stderr",
       "text": [
        "58%\r"
       ]
      },
      {
       "output_type": "stream",
       "stream": "stderr",
       "text": [
        "59%\r"
       ]
      },
      {
       "output_type": "stream",
       "stream": "stderr",
       "text": [
        "60%\r"
       ]
      },
      {
       "output_type": "stream",
       "stream": "stderr",
       "text": [
        "61%\r"
       ]
      },
      {
       "output_type": "stream",
       "stream": "stderr",
       "text": [
        "62%\r"
       ]
      },
      {
       "output_type": "stream",
       "stream": "stderr",
       "text": [
        "63%\r"
       ]
      },
      {
       "output_type": "stream",
       "stream": "stderr",
       "text": [
        "64%\r"
       ]
      },
      {
       "output_type": "stream",
       "stream": "stderr",
       "text": [
        "65%\r"
       ]
      },
      {
       "output_type": "stream",
       "stream": "stderr",
       "text": [
        "66%\r"
       ]
      },
      {
       "output_type": "stream",
       "stream": "stderr",
       "text": [
        "67%\r"
       ]
      },
      {
       "output_type": "stream",
       "stream": "stderr",
       "text": [
        "68%\r"
       ]
      },
      {
       "output_type": "stream",
       "stream": "stderr",
       "text": [
        "69%\r"
       ]
      },
      {
       "output_type": "stream",
       "stream": "stderr",
       "text": [
        "70%\r"
       ]
      },
      {
       "output_type": "stream",
       "stream": "stderr",
       "text": [
        "71%\r"
       ]
      },
      {
       "output_type": "stream",
       "stream": "stderr",
       "text": [
        "72%\r"
       ]
      },
      {
       "output_type": "stream",
       "stream": "stderr",
       "text": [
        "73%\r"
       ]
      },
      {
       "output_type": "stream",
       "stream": "stderr",
       "text": [
        "74%\r"
       ]
      },
      {
       "output_type": "stream",
       "stream": "stderr",
       "text": [
        "75%\r"
       ]
      },
      {
       "output_type": "stream",
       "stream": "stderr",
       "text": [
        "76%\r"
       ]
      },
      {
       "output_type": "stream",
       "stream": "stderr",
       "text": [
        "77%\r"
       ]
      },
      {
       "output_type": "stream",
       "stream": "stderr",
       "text": [
        "78%\r"
       ]
      },
      {
       "output_type": "stream",
       "stream": "stderr",
       "text": [
        "79%\r"
       ]
      },
      {
       "output_type": "stream",
       "stream": "stderr",
       "text": [
        "80%\r"
       ]
      },
      {
       "output_type": "stream",
       "stream": "stderr",
       "text": [
        "81%\r"
       ]
      },
      {
       "output_type": "stream",
       "stream": "stderr",
       "text": [
        "82%\r"
       ]
      },
      {
       "output_type": "stream",
       "stream": "stderr",
       "text": [
        "83%\r"
       ]
      },
      {
       "output_type": "stream",
       "stream": "stderr",
       "text": [
        "84%\r"
       ]
      },
      {
       "output_type": "stream",
       "stream": "stderr",
       "text": [
        "85%\r"
       ]
      },
      {
       "output_type": "stream",
       "stream": "stderr",
       "text": [
        "86%\r"
       ]
      },
      {
       "output_type": "stream",
       "stream": "stderr",
       "text": [
        "87%\r"
       ]
      },
      {
       "output_type": "stream",
       "stream": "stderr",
       "text": [
        "88%\r"
       ]
      },
      {
       "output_type": "stream",
       "stream": "stderr",
       "text": [
        "89%\r"
       ]
      },
      {
       "output_type": "stream",
       "stream": "stderr",
       "text": [
        "90%\r"
       ]
      },
      {
       "output_type": "stream",
       "stream": "stderr",
       "text": [
        "91%\r"
       ]
      },
      {
       "output_type": "stream",
       "stream": "stderr",
       "text": [
        "92%\r"
       ]
      },
      {
       "output_type": "stream",
       "stream": "stderr",
       "text": [
        "93%\r"
       ]
      },
      {
       "output_type": "stream",
       "stream": "stderr",
       "text": [
        "94%\r"
       ]
      },
      {
       "output_type": "stream",
       "stream": "stderr",
       "text": [
        "95%\r"
       ]
      },
      {
       "output_type": "stream",
       "stream": "stderr",
       "text": [
        "96%\r"
       ]
      },
      {
       "output_type": "stream",
       "stream": "stderr",
       "text": [
        "97%\r"
       ]
      },
      {
       "output_type": "stream",
       "stream": "stderr",
       "text": [
        "98%\r"
       ]
      },
      {
       "output_type": "stream",
       "stream": "stderr",
       "text": [
        "99%\r"
       ]
      },
      {
       "output_type": "stream",
       "stream": "stderr",
       "text": [
        "100%\r"
       ]
      },
      {
       "output_type": "stream",
       "stream": "stderr",
       "text": [
        "100%\n"
       ]
      },
      {
       "output_type": "stream",
       "stream": "stdout",
       "text": [
        "\n",
        "  loss 1.49060054735\n",
        "  err  0.533954326923\n",
        "  (0:00:48)\n",
        "Epoch 13:"
       ]
      },
      {
       "output_type": "stream",
       "stream": "stderr",
       "text": [
        "1%\r"
       ]
      },
      {
       "output_type": "stream",
       "stream": "stderr",
       "text": [
        "2%\r"
       ]
      },
      {
       "output_type": "stream",
       "stream": "stderr",
       "text": [
        "3%\r"
       ]
      },
      {
       "output_type": "stream",
       "stream": "stderr",
       "text": [
        "4%\r"
       ]
      },
      {
       "output_type": "stream",
       "stream": "stderr",
       "text": [
        "5%\r"
       ]
      },
      {
       "output_type": "stream",
       "stream": "stderr",
       "text": [
        "6%\r"
       ]
      },
      {
       "output_type": "stream",
       "stream": "stderr",
       "text": [
        "7%\r"
       ]
      },
      {
       "output_type": "stream",
       "stream": "stderr",
       "text": [
        "8%\r"
       ]
      },
      {
       "output_type": "stream",
       "stream": "stderr",
       "text": [
        "9%\r"
       ]
      },
      {
       "output_type": "stream",
       "stream": "stderr",
       "text": [
        "10%\r"
       ]
      },
      {
       "output_type": "stream",
       "stream": "stderr",
       "text": [
        "11%\r"
       ]
      },
      {
       "output_type": "stream",
       "stream": "stderr",
       "text": [
        "12%\r"
       ]
      },
      {
       "output_type": "stream",
       "stream": "stderr",
       "text": [
        "13%\r"
       ]
      },
      {
       "output_type": "stream",
       "stream": "stderr",
       "text": [
        "14%\r"
       ]
      },
      {
       "output_type": "stream",
       "stream": "stderr",
       "text": [
        "15%\r"
       ]
      },
      {
       "output_type": "stream",
       "stream": "stderr",
       "text": [
        "16%\r"
       ]
      },
      {
       "output_type": "stream",
       "stream": "stderr",
       "text": [
        "17%\r"
       ]
      },
      {
       "output_type": "stream",
       "stream": "stderr",
       "text": [
        "18%\r"
       ]
      },
      {
       "output_type": "stream",
       "stream": "stderr",
       "text": [
        "19%\r"
       ]
      },
      {
       "output_type": "stream",
       "stream": "stderr",
       "text": [
        "20%\r"
       ]
      },
      {
       "output_type": "stream",
       "stream": "stderr",
       "text": [
        "21%\r"
       ]
      },
      {
       "output_type": "stream",
       "stream": "stderr",
       "text": [
        "22%\r"
       ]
      },
      {
       "output_type": "stream",
       "stream": "stderr",
       "text": [
        "23%\r"
       ]
      },
      {
       "output_type": "stream",
       "stream": "stderr",
       "text": [
        "24%\r"
       ]
      },
      {
       "output_type": "stream",
       "stream": "stderr",
       "text": [
        "25%\r"
       ]
      },
      {
       "output_type": "stream",
       "stream": "stderr",
       "text": [
        "26%\r"
       ]
      },
      {
       "output_type": "stream",
       "stream": "stderr",
       "text": [
        "27%\r"
       ]
      },
      {
       "output_type": "stream",
       "stream": "stderr",
       "text": [
        "28%\r"
       ]
      },
      {
       "output_type": "stream",
       "stream": "stderr",
       "text": [
        "29%\r"
       ]
      },
      {
       "output_type": "stream",
       "stream": "stderr",
       "text": [
        "30%\r"
       ]
      },
      {
       "output_type": "stream",
       "stream": "stderr",
       "text": [
        "31%\r"
       ]
      },
      {
       "output_type": "stream",
       "stream": "stderr",
       "text": [
        "32%\r"
       ]
      },
      {
       "output_type": "stream",
       "stream": "stderr",
       "text": [
        "33%\r"
       ]
      },
      {
       "output_type": "stream",
       "stream": "stderr",
       "text": [
        "34%\r"
       ]
      },
      {
       "output_type": "stream",
       "stream": "stderr",
       "text": [
        "35%\r"
       ]
      },
      {
       "output_type": "stream",
       "stream": "stderr",
       "text": [
        "36%\r"
       ]
      },
      {
       "output_type": "stream",
       "stream": "stderr",
       "text": [
        "37%\r"
       ]
      },
      {
       "output_type": "stream",
       "stream": "stderr",
       "text": [
        "38%\r"
       ]
      },
      {
       "output_type": "stream",
       "stream": "stderr",
       "text": [
        "39%\r"
       ]
      },
      {
       "output_type": "stream",
       "stream": "stderr",
       "text": [
        "40%\r"
       ]
      },
      {
       "output_type": "stream",
       "stream": "stderr",
       "text": [
        "41%\r"
       ]
      },
      {
       "output_type": "stream",
       "stream": "stderr",
       "text": [
        "42%\r"
       ]
      },
      {
       "output_type": "stream",
       "stream": "stderr",
       "text": [
        "43%\r"
       ]
      },
      {
       "output_type": "stream",
       "stream": "stderr",
       "text": [
        "44%\r"
       ]
      },
      {
       "output_type": "stream",
       "stream": "stderr",
       "text": [
        "45%\r"
       ]
      },
      {
       "output_type": "stream",
       "stream": "stderr",
       "text": [
        "46%\r"
       ]
      },
      {
       "output_type": "stream",
       "stream": "stderr",
       "text": [
        "47%\r"
       ]
      },
      {
       "output_type": "stream",
       "stream": "stderr",
       "text": [
        "48%\r"
       ]
      },
      {
       "output_type": "stream",
       "stream": "stderr",
       "text": [
        "49%\r"
       ]
      },
      {
       "output_type": "stream",
       "stream": "stderr",
       "text": [
        "50%\r"
       ]
      },
      {
       "output_type": "stream",
       "stream": "stderr",
       "text": [
        "51%\r"
       ]
      },
      {
       "output_type": "stream",
       "stream": "stderr",
       "text": [
        "52%\r"
       ]
      },
      {
       "output_type": "stream",
       "stream": "stderr",
       "text": [
        "53%\r"
       ]
      },
      {
       "output_type": "stream",
       "stream": "stderr",
       "text": [
        "54%\r"
       ]
      },
      {
       "output_type": "stream",
       "stream": "stderr",
       "text": [
        "55%\r"
       ]
      },
      {
       "output_type": "stream",
       "stream": "stderr",
       "text": [
        "56%\r"
       ]
      },
      {
       "output_type": "stream",
       "stream": "stderr",
       "text": [
        "57%\r"
       ]
      },
      {
       "output_type": "stream",
       "stream": "stderr",
       "text": [
        "58%\r"
       ]
      },
      {
       "output_type": "stream",
       "stream": "stderr",
       "text": [
        "59%\r"
       ]
      },
      {
       "output_type": "stream",
       "stream": "stderr",
       "text": [
        "60%\r"
       ]
      },
      {
       "output_type": "stream",
       "stream": "stderr",
       "text": [
        "61%\r"
       ]
      },
      {
       "output_type": "stream",
       "stream": "stderr",
       "text": [
        "62%\r"
       ]
      },
      {
       "output_type": "stream",
       "stream": "stderr",
       "text": [
        "63%\r"
       ]
      },
      {
       "output_type": "stream",
       "stream": "stderr",
       "text": [
        "64%\r"
       ]
      },
      {
       "output_type": "stream",
       "stream": "stderr",
       "text": [
        "65%\r"
       ]
      },
      {
       "output_type": "stream",
       "stream": "stderr",
       "text": [
        "66%\r"
       ]
      },
      {
       "output_type": "stream",
       "stream": "stderr",
       "text": [
        "67%\r"
       ]
      },
      {
       "output_type": "stream",
       "stream": "stderr",
       "text": [
        "68%\r"
       ]
      },
      {
       "output_type": "stream",
       "stream": "stderr",
       "text": [
        "69%\r"
       ]
      },
      {
       "output_type": "stream",
       "stream": "stderr",
       "text": [
        "70%\r"
       ]
      },
      {
       "output_type": "stream",
       "stream": "stderr",
       "text": [
        "71%\r"
       ]
      },
      {
       "output_type": "stream",
       "stream": "stderr",
       "text": [
        "72%\r"
       ]
      },
      {
       "output_type": "stream",
       "stream": "stderr",
       "text": [
        "73%\r"
       ]
      },
      {
       "output_type": "stream",
       "stream": "stderr",
       "text": [
        "74%\r"
       ]
      },
      {
       "output_type": "stream",
       "stream": "stderr",
       "text": [
        "75%\r"
       ]
      },
      {
       "output_type": "stream",
       "stream": "stderr",
       "text": [
        "76%\r"
       ]
      },
      {
       "output_type": "stream",
       "stream": "stderr",
       "text": [
        "77%\r"
       ]
      },
      {
       "output_type": "stream",
       "stream": "stderr",
       "text": [
        "78%\r"
       ]
      },
      {
       "output_type": "stream",
       "stream": "stderr",
       "text": [
        "79%\r"
       ]
      },
      {
       "output_type": "stream",
       "stream": "stderr",
       "text": [
        "80%\r"
       ]
      },
      {
       "output_type": "stream",
       "stream": "stderr",
       "text": [
        "81%\r"
       ]
      },
      {
       "output_type": "stream",
       "stream": "stderr",
       "text": [
        "82%\r"
       ]
      },
      {
       "output_type": "stream",
       "stream": "stderr",
       "text": [
        "83%\r"
       ]
      },
      {
       "output_type": "stream",
       "stream": "stderr",
       "text": [
        "84%\r"
       ]
      },
      {
       "output_type": "stream",
       "stream": "stderr",
       "text": [
        "85%\r"
       ]
      },
      {
       "output_type": "stream",
       "stream": "stderr",
       "text": [
        "86%\r"
       ]
      },
      {
       "output_type": "stream",
       "stream": "stderr",
       "text": [
        "87%\r"
       ]
      },
      {
       "output_type": "stream",
       "stream": "stderr",
       "text": [
        "88%\r"
       ]
      },
      {
       "output_type": "stream",
       "stream": "stderr",
       "text": [
        "89%\r"
       ]
      },
      {
       "output_type": "stream",
       "stream": "stderr",
       "text": [
        "90%\r"
       ]
      },
      {
       "output_type": "stream",
       "stream": "stderr",
       "text": [
        "91%\r"
       ]
      },
      {
       "output_type": "stream",
       "stream": "stderr",
       "text": [
        "92%\r"
       ]
      },
      {
       "output_type": "stream",
       "stream": "stderr",
       "text": [
        "93%\r"
       ]
      },
      {
       "output_type": "stream",
       "stream": "stderr",
       "text": [
        "94%\r"
       ]
      },
      {
       "output_type": "stream",
       "stream": "stderr",
       "text": [
        "95%\r"
       ]
      },
      {
       "output_type": "stream",
       "stream": "stderr",
       "text": [
        "96%\r"
       ]
      },
      {
       "output_type": "stream",
       "stream": "stderr",
       "text": [
        "97%\r"
       ]
      },
      {
       "output_type": "stream",
       "stream": "stderr",
       "text": [
        "98%\r"
       ]
      },
      {
       "output_type": "stream",
       "stream": "stderr",
       "text": [
        "99%\r"
       ]
      },
      {
       "output_type": "stream",
       "stream": "stderr",
       "text": [
        "100%\r"
       ]
      },
      {
       "output_type": "stream",
       "stream": "stderr",
       "text": [
        "100%\n"
       ]
      },
      {
       "output_type": "stream",
       "stream": "stdout",
       "text": [
        "\n",
        "  loss 1.47941638185\n",
        "  err  0.52789463141\n",
        "  (0:00:46)\n",
        "Epoch 14:"
       ]
      },
      {
       "output_type": "stream",
       "stream": "stderr",
       "text": [
        "1%\r"
       ]
      },
      {
       "output_type": "stream",
       "stream": "stderr",
       "text": [
        "2%\r"
       ]
      },
      {
       "output_type": "stream",
       "stream": "stderr",
       "text": [
        "3%\r"
       ]
      },
      {
       "output_type": "stream",
       "stream": "stderr",
       "text": [
        "4%\r"
       ]
      },
      {
       "output_type": "stream",
       "stream": "stderr",
       "text": [
        "5%\r"
       ]
      },
      {
       "output_type": "stream",
       "stream": "stderr",
       "text": [
        "6%\r"
       ]
      },
      {
       "output_type": "stream",
       "stream": "stderr",
       "text": [
        "7%\r"
       ]
      },
      {
       "output_type": "stream",
       "stream": "stderr",
       "text": [
        "8%\r"
       ]
      },
      {
       "output_type": "stream",
       "stream": "stderr",
       "text": [
        "9%\r"
       ]
      },
      {
       "output_type": "stream",
       "stream": "stderr",
       "text": [
        "10%\r"
       ]
      },
      {
       "output_type": "stream",
       "stream": "stderr",
       "text": [
        "11%\r"
       ]
      },
      {
       "output_type": "stream",
       "stream": "stderr",
       "text": [
        "12%\r"
       ]
      },
      {
       "output_type": "stream",
       "stream": "stderr",
       "text": [
        "13%\r"
       ]
      },
      {
       "output_type": "stream",
       "stream": "stderr",
       "text": [
        "14%\r"
       ]
      },
      {
       "output_type": "stream",
       "stream": "stderr",
       "text": [
        "15%\r"
       ]
      },
      {
       "output_type": "stream",
       "stream": "stderr",
       "text": [
        "16%\r"
       ]
      },
      {
       "output_type": "stream",
       "stream": "stderr",
       "text": [
        "17%\r"
       ]
      },
      {
       "output_type": "stream",
       "stream": "stderr",
       "text": [
        "18%\r"
       ]
      },
      {
       "output_type": "stream",
       "stream": "stderr",
       "text": [
        "19%\r"
       ]
      },
      {
       "output_type": "stream",
       "stream": "stderr",
       "text": [
        "20%\r"
       ]
      },
      {
       "output_type": "stream",
       "stream": "stderr",
       "text": [
        "21%\r"
       ]
      },
      {
       "output_type": "stream",
       "stream": "stderr",
       "text": [
        "22%\r"
       ]
      },
      {
       "output_type": "stream",
       "stream": "stderr",
       "text": [
        "23%\r"
       ]
      },
      {
       "output_type": "stream",
       "stream": "stderr",
       "text": [
        "24%\r"
       ]
      },
      {
       "output_type": "stream",
       "stream": "stderr",
       "text": [
        "25%\r"
       ]
      },
      {
       "output_type": "stream",
       "stream": "stderr",
       "text": [
        "26%\r"
       ]
      },
      {
       "output_type": "stream",
       "stream": "stderr",
       "text": [
        "27%\r"
       ]
      },
      {
       "output_type": "stream",
       "stream": "stderr",
       "text": [
        "28%\r"
       ]
      },
      {
       "output_type": "stream",
       "stream": "stderr",
       "text": [
        "29%\r"
       ]
      },
      {
       "output_type": "stream",
       "stream": "stderr",
       "text": [
        "30%\r"
       ]
      },
      {
       "output_type": "stream",
       "stream": "stderr",
       "text": [
        "31%\r"
       ]
      },
      {
       "output_type": "stream",
       "stream": "stderr",
       "text": [
        "32%\r"
       ]
      },
      {
       "output_type": "stream",
       "stream": "stderr",
       "text": [
        "33%\r"
       ]
      },
      {
       "output_type": "stream",
       "stream": "stderr",
       "text": [
        "34%\r"
       ]
      },
      {
       "output_type": "stream",
       "stream": "stderr",
       "text": [
        "35%\r"
       ]
      },
      {
       "output_type": "stream",
       "stream": "stderr",
       "text": [
        "36%\r"
       ]
      },
      {
       "output_type": "stream",
       "stream": "stderr",
       "text": [
        "37%\r"
       ]
      },
      {
       "output_type": "stream",
       "stream": "stderr",
       "text": [
        "38%\r"
       ]
      },
      {
       "output_type": "stream",
       "stream": "stderr",
       "text": [
        "39%\r"
       ]
      },
      {
       "output_type": "stream",
       "stream": "stderr",
       "text": [
        "40%\r"
       ]
      },
      {
       "output_type": "stream",
       "stream": "stderr",
       "text": [
        "41%\r"
       ]
      },
      {
       "output_type": "stream",
       "stream": "stderr",
       "text": [
        "42%\r"
       ]
      },
      {
       "output_type": "stream",
       "stream": "stderr",
       "text": [
        "43%\r"
       ]
      },
      {
       "output_type": "stream",
       "stream": "stderr",
       "text": [
        "44%\r"
       ]
      },
      {
       "output_type": "stream",
       "stream": "stderr",
       "text": [
        "45%\r"
       ]
      },
      {
       "output_type": "stream",
       "stream": "stderr",
       "text": [
        "46%\r"
       ]
      },
      {
       "output_type": "stream",
       "stream": "stderr",
       "text": [
        "47%\r"
       ]
      },
      {
       "output_type": "stream",
       "stream": "stderr",
       "text": [
        "48%\r"
       ]
      },
      {
       "output_type": "stream",
       "stream": "stderr",
       "text": [
        "49%\r"
       ]
      },
      {
       "output_type": "stream",
       "stream": "stderr",
       "text": [
        "50%\r"
       ]
      },
      {
       "output_type": "stream",
       "stream": "stderr",
       "text": [
        "51%\r"
       ]
      },
      {
       "output_type": "stream",
       "stream": "stderr",
       "text": [
        "52%\r"
       ]
      },
      {
       "output_type": "stream",
       "stream": "stderr",
       "text": [
        "53%\r"
       ]
      },
      {
       "output_type": "stream",
       "stream": "stderr",
       "text": [
        "54%\r"
       ]
      },
      {
       "output_type": "stream",
       "stream": "stderr",
       "text": [
        "55%\r"
       ]
      },
      {
       "output_type": "stream",
       "stream": "stderr",
       "text": [
        "56%\r"
       ]
      },
      {
       "output_type": "stream",
       "stream": "stderr",
       "text": [
        "57%\r"
       ]
      },
      {
       "output_type": "stream",
       "stream": "stderr",
       "text": [
        "58%\r"
       ]
      },
      {
       "output_type": "stream",
       "stream": "stderr",
       "text": [
        "59%\r"
       ]
      },
      {
       "output_type": "stream",
       "stream": "stderr",
       "text": [
        "60%\r"
       ]
      },
      {
       "output_type": "stream",
       "stream": "stderr",
       "text": [
        "61%\r"
       ]
      },
      {
       "output_type": "stream",
       "stream": "stderr",
       "text": [
        "62%\r"
       ]
      },
      {
       "output_type": "stream",
       "stream": "stderr",
       "text": [
        "63%\r"
       ]
      },
      {
       "output_type": "stream",
       "stream": "stderr",
       "text": [
        "64%\r"
       ]
      },
      {
       "output_type": "stream",
       "stream": "stderr",
       "text": [
        "65%\r"
       ]
      },
      {
       "output_type": "stream",
       "stream": "stderr",
       "text": [
        "66%\r"
       ]
      },
      {
       "output_type": "stream",
       "stream": "stderr",
       "text": [
        "67%\r"
       ]
      },
      {
       "output_type": "stream",
       "stream": "stderr",
       "text": [
        "68%\r"
       ]
      },
      {
       "output_type": "stream",
       "stream": "stderr",
       "text": [
        "69%\r"
       ]
      },
      {
       "output_type": "stream",
       "stream": "stderr",
       "text": [
        "70%\r"
       ]
      },
      {
       "output_type": "stream",
       "stream": "stderr",
       "text": [
        "71%\r"
       ]
      },
      {
       "output_type": "stream",
       "stream": "stderr",
       "text": [
        "72%\r"
       ]
      },
      {
       "output_type": "stream",
       "stream": "stderr",
       "text": [
        "73%\r"
       ]
      },
      {
       "output_type": "stream",
       "stream": "stderr",
       "text": [
        "74%\r"
       ]
      },
      {
       "output_type": "stream",
       "stream": "stderr",
       "text": [
        "75%\r"
       ]
      },
      {
       "output_type": "stream",
       "stream": "stderr",
       "text": [
        "76%\r"
       ]
      },
      {
       "output_type": "stream",
       "stream": "stderr",
       "text": [
        "77%\r"
       ]
      },
      {
       "output_type": "stream",
       "stream": "stderr",
       "text": [
        "78%\r"
       ]
      },
      {
       "output_type": "stream",
       "stream": "stderr",
       "text": [
        "79%\r"
       ]
      },
      {
       "output_type": "stream",
       "stream": "stderr",
       "text": [
        "80%\r"
       ]
      },
      {
       "output_type": "stream",
       "stream": "stderr",
       "text": [
        "81%\r"
       ]
      },
      {
       "output_type": "stream",
       "stream": "stderr",
       "text": [
        "82%\r"
       ]
      },
      {
       "output_type": "stream",
       "stream": "stderr",
       "text": [
        "83%\r"
       ]
      },
      {
       "output_type": "stream",
       "stream": "stderr",
       "text": [
        "84%\r"
       ]
      },
      {
       "output_type": "stream",
       "stream": "stderr",
       "text": [
        "85%\r"
       ]
      },
      {
       "output_type": "stream",
       "stream": "stderr",
       "text": [
        "86%\r"
       ]
      },
      {
       "output_type": "stream",
       "stream": "stderr",
       "text": [
        "87%\r"
       ]
      },
      {
       "output_type": "stream",
       "stream": "stderr",
       "text": [
        "88%\r"
       ]
      },
      {
       "output_type": "stream",
       "stream": "stderr",
       "text": [
        "89%\r"
       ]
      },
      {
       "output_type": "stream",
       "stream": "stderr",
       "text": [
        "90%\r"
       ]
      },
      {
       "output_type": "stream",
       "stream": "stderr",
       "text": [
        "91%\r"
       ]
      },
      {
       "output_type": "stream",
       "stream": "stderr",
       "text": [
        "92%\r"
       ]
      },
      {
       "output_type": "stream",
       "stream": "stderr",
       "text": [
        "93%\r"
       ]
      },
      {
       "output_type": "stream",
       "stream": "stderr",
       "text": [
        "94%\r"
       ]
      },
      {
       "output_type": "stream",
       "stream": "stderr",
       "text": [
        "95%\r"
       ]
      },
      {
       "output_type": "stream",
       "stream": "stderr",
       "text": [
        "96%\r"
       ]
      },
      {
       "output_type": "stream",
       "stream": "stderr",
       "text": [
        "97%\r"
       ]
      },
      {
       "output_type": "stream",
       "stream": "stderr",
       "text": [
        "98%\r"
       ]
      },
      {
       "output_type": "stream",
       "stream": "stderr",
       "text": [
        "99%\r"
       ]
      },
      {
       "output_type": "stream",
       "stream": "stderr",
       "text": [
        "100%\r"
       ]
      },
      {
       "output_type": "stream",
       "stream": "stderr",
       "text": [
        "100%\n"
       ]
      },
      {
       "output_type": "stream",
       "stream": "stdout",
       "text": [
        "\n",
        "  loss 1.46576145578\n",
        "  err  0.517928685897\n",
        "  (0:00:46)\n",
        "Epoch 15:"
       ]
      },
      {
       "output_type": "stream",
       "stream": "stderr",
       "text": [
        "1%\r"
       ]
      },
      {
       "output_type": "stream",
       "stream": "stderr",
       "text": [
        "2%\r"
       ]
      },
      {
       "output_type": "stream",
       "stream": "stderr",
       "text": [
        "3%\r"
       ]
      },
      {
       "output_type": "stream",
       "stream": "stderr",
       "text": [
        "4%\r"
       ]
      },
      {
       "output_type": "stream",
       "stream": "stderr",
       "text": [
        "5%\r"
       ]
      },
      {
       "output_type": "stream",
       "stream": "stderr",
       "text": [
        "6%\r"
       ]
      },
      {
       "output_type": "stream",
       "stream": "stderr",
       "text": [
        "7%\r"
       ]
      },
      {
       "output_type": "stream",
       "stream": "stderr",
       "text": [
        "8%\r"
       ]
      },
      {
       "output_type": "stream",
       "stream": "stderr",
       "text": [
        "9%\r"
       ]
      },
      {
       "output_type": "stream",
       "stream": "stderr",
       "text": [
        "10%\r"
       ]
      },
      {
       "output_type": "stream",
       "stream": "stderr",
       "text": [
        "11%\r"
       ]
      },
      {
       "output_type": "stream",
       "stream": "stderr",
       "text": [
        "12%\r"
       ]
      },
      {
       "output_type": "stream",
       "stream": "stderr",
       "text": [
        "13%\r"
       ]
      },
      {
       "output_type": "stream",
       "stream": "stderr",
       "text": [
        "14%\r"
       ]
      },
      {
       "output_type": "stream",
       "stream": "stderr",
       "text": [
        "15%\r"
       ]
      },
      {
       "output_type": "stream",
       "stream": "stderr",
       "text": [
        "16%\r"
       ]
      },
      {
       "output_type": "stream",
       "stream": "stderr",
       "text": [
        "17%\r"
       ]
      },
      {
       "output_type": "stream",
       "stream": "stderr",
       "text": [
        "18%\r"
       ]
      },
      {
       "output_type": "stream",
       "stream": "stderr",
       "text": [
        "19%\r"
       ]
      },
      {
       "output_type": "stream",
       "stream": "stderr",
       "text": [
        "20%\r"
       ]
      },
      {
       "output_type": "stream",
       "stream": "stderr",
       "text": [
        "21%\r"
       ]
      },
      {
       "output_type": "stream",
       "stream": "stderr",
       "text": [
        "22%\r"
       ]
      },
      {
       "output_type": "stream",
       "stream": "stderr",
       "text": [
        "23%\r"
       ]
      },
      {
       "output_type": "stream",
       "stream": "stderr",
       "text": [
        "24%\r"
       ]
      },
      {
       "output_type": "stream",
       "stream": "stderr",
       "text": [
        "25%\r"
       ]
      },
      {
       "output_type": "stream",
       "stream": "stderr",
       "text": [
        "26%\r"
       ]
      },
      {
       "output_type": "stream",
       "stream": "stderr",
       "text": [
        "27%\r"
       ]
      },
      {
       "output_type": "stream",
       "stream": "stderr",
       "text": [
        "28%\r"
       ]
      },
      {
       "output_type": "stream",
       "stream": "stderr",
       "text": [
        "29%\r"
       ]
      },
      {
       "output_type": "stream",
       "stream": "stderr",
       "text": [
        "30%\r"
       ]
      },
      {
       "output_type": "stream",
       "stream": "stderr",
       "text": [
        "31%\r"
       ]
      },
      {
       "output_type": "stream",
       "stream": "stderr",
       "text": [
        "32%\r"
       ]
      },
      {
       "output_type": "stream",
       "stream": "stderr",
       "text": [
        "33%\r"
       ]
      },
      {
       "output_type": "stream",
       "stream": "stderr",
       "text": [
        "34%\r"
       ]
      },
      {
       "output_type": "stream",
       "stream": "stderr",
       "text": [
        "35%\r"
       ]
      },
      {
       "output_type": "stream",
       "stream": "stderr",
       "text": [
        "36%\r"
       ]
      },
      {
       "output_type": "stream",
       "stream": "stderr",
       "text": [
        "37%\r"
       ]
      },
      {
       "output_type": "stream",
       "stream": "stderr",
       "text": [
        "38%\r"
       ]
      },
      {
       "output_type": "stream",
       "stream": "stderr",
       "text": [
        "39%\r"
       ]
      },
      {
       "output_type": "stream",
       "stream": "stderr",
       "text": [
        "40%\r"
       ]
      },
      {
       "output_type": "stream",
       "stream": "stderr",
       "text": [
        "41%\r"
       ]
      },
      {
       "output_type": "stream",
       "stream": "stderr",
       "text": [
        "42%\r"
       ]
      },
      {
       "output_type": "stream",
       "stream": "stderr",
       "text": [
        "43%\r"
       ]
      },
      {
       "output_type": "stream",
       "stream": "stderr",
       "text": [
        "44%\r"
       ]
      },
      {
       "output_type": "stream",
       "stream": "stderr",
       "text": [
        "45%\r"
       ]
      },
      {
       "output_type": "stream",
       "stream": "stderr",
       "text": [
        "46%\r"
       ]
      },
      {
       "output_type": "stream",
       "stream": "stderr",
       "text": [
        "47%\r"
       ]
      },
      {
       "output_type": "stream",
       "stream": "stderr",
       "text": [
        "48%\r"
       ]
      },
      {
       "output_type": "stream",
       "stream": "stderr",
       "text": [
        "49%\r"
       ]
      },
      {
       "output_type": "stream",
       "stream": "stderr",
       "text": [
        "50%\r"
       ]
      },
      {
       "output_type": "stream",
       "stream": "stderr",
       "text": [
        "51%\r"
       ]
      },
      {
       "output_type": "stream",
       "stream": "stderr",
       "text": [
        "52%\r"
       ]
      },
      {
       "output_type": "stream",
       "stream": "stderr",
       "text": [
        "53%\r"
       ]
      },
      {
       "output_type": "stream",
       "stream": "stderr",
       "text": [
        "54%\r"
       ]
      },
      {
       "output_type": "stream",
       "stream": "stderr",
       "text": [
        "55%\r"
       ]
      },
      {
       "output_type": "stream",
       "stream": "stderr",
       "text": [
        "56%\r"
       ]
      },
      {
       "output_type": "stream",
       "stream": "stderr",
       "text": [
        "57%\r"
       ]
      },
      {
       "output_type": "stream",
       "stream": "stderr",
       "text": [
        "58%\r"
       ]
      },
      {
       "output_type": "stream",
       "stream": "stderr",
       "text": [
        "59%\r"
       ]
      },
      {
       "output_type": "stream",
       "stream": "stderr",
       "text": [
        "60%\r"
       ]
      },
      {
       "output_type": "stream",
       "stream": "stderr",
       "text": [
        "61%\r"
       ]
      },
      {
       "output_type": "stream",
       "stream": "stderr",
       "text": [
        "62%\r"
       ]
      },
      {
       "output_type": "stream",
       "stream": "stderr",
       "text": [
        "63%\r"
       ]
      },
      {
       "output_type": "stream",
       "stream": "stderr",
       "text": [
        "64%\r"
       ]
      },
      {
       "output_type": "stream",
       "stream": "stderr",
       "text": [
        "65%\r"
       ]
      },
      {
       "output_type": "stream",
       "stream": "stderr",
       "text": [
        "66%\r"
       ]
      },
      {
       "output_type": "stream",
       "stream": "stderr",
       "text": [
        "67%\r"
       ]
      },
      {
       "output_type": "stream",
       "stream": "stderr",
       "text": [
        "68%\r"
       ]
      },
      {
       "output_type": "stream",
       "stream": "stderr",
       "text": [
        "69%\r"
       ]
      },
      {
       "output_type": "stream",
       "stream": "stderr",
       "text": [
        "70%\r"
       ]
      },
      {
       "output_type": "stream",
       "stream": "stderr",
       "text": [
        "71%\r"
       ]
      },
      {
       "output_type": "stream",
       "stream": "stderr",
       "text": [
        "72%\r"
       ]
      },
      {
       "output_type": "stream",
       "stream": "stderr",
       "text": [
        "73%\r"
       ]
      },
      {
       "output_type": "stream",
       "stream": "stderr",
       "text": [
        "74%\r"
       ]
      },
      {
       "output_type": "stream",
       "stream": "stderr",
       "text": [
        "75%\r"
       ]
      },
      {
       "output_type": "stream",
       "stream": "stderr",
       "text": [
        "76%\r"
       ]
      },
      {
       "output_type": "stream",
       "stream": "stderr",
       "text": [
        "77%\r"
       ]
      },
      {
       "output_type": "stream",
       "stream": "stderr",
       "text": [
        "78%\r"
       ]
      },
      {
       "output_type": "stream",
       "stream": "stderr",
       "text": [
        "79%\r"
       ]
      },
      {
       "output_type": "stream",
       "stream": "stderr",
       "text": [
        "80%\r"
       ]
      },
      {
       "output_type": "stream",
       "stream": "stderr",
       "text": [
        "81%\r"
       ]
      },
      {
       "output_type": "stream",
       "stream": "stderr",
       "text": [
        "82%\r"
       ]
      },
      {
       "output_type": "stream",
       "stream": "stderr",
       "text": [
        "83%\r"
       ]
      },
      {
       "output_type": "stream",
       "stream": "stderr",
       "text": [
        "84%\r"
       ]
      },
      {
       "output_type": "stream",
       "stream": "stderr",
       "text": [
        "85%\r"
       ]
      },
      {
       "output_type": "stream",
       "stream": "stderr",
       "text": [
        "86%\r"
       ]
      },
      {
       "output_type": "stream",
       "stream": "stderr",
       "text": [
        "87%\r"
       ]
      },
      {
       "output_type": "stream",
       "stream": "stderr",
       "text": [
        "88%\r"
       ]
      },
      {
       "output_type": "stream",
       "stream": "stderr",
       "text": [
        "89%\r"
       ]
      },
      {
       "output_type": "stream",
       "stream": "stderr",
       "text": [
        "90%\r"
       ]
      },
      {
       "output_type": "stream",
       "stream": "stderr",
       "text": [
        "91%\r"
       ]
      },
      {
       "output_type": "stream",
       "stream": "stderr",
       "text": [
        "92%\r"
       ]
      },
      {
       "output_type": "stream",
       "stream": "stderr",
       "text": [
        "93%\r"
       ]
      },
      {
       "output_type": "stream",
       "stream": "stderr",
       "text": [
        "94%\r"
       ]
      },
      {
       "output_type": "stream",
       "stream": "stderr",
       "text": [
        "95%\r"
       ]
      },
      {
       "output_type": "stream",
       "stream": "stderr",
       "text": [
        "96%\r"
       ]
      },
      {
       "output_type": "stream",
       "stream": "stderr",
       "text": [
        "97%\r"
       ]
      },
      {
       "output_type": "stream",
       "stream": "stderr",
       "text": [
        "98%\r"
       ]
      },
      {
       "output_type": "stream",
       "stream": "stderr",
       "text": [
        "99%\r"
       ]
      },
      {
       "output_type": "stream",
       "stream": "stderr",
       "text": [
        "100%\r"
       ]
      },
      {
       "output_type": "stream",
       "stream": "stderr",
       "text": [
        "100%\n"
       ]
      },
      {
       "output_type": "stream",
       "stream": "stdout",
       "text": [
        "\n",
        "  loss 1.4540763868\n",
        "  err  0.520883413462\n",
        "  (0:00:46)\n",
        "Epoch 16:"
       ]
      },
      {
       "output_type": "stream",
       "stream": "stderr",
       "text": [
        "1%\r"
       ]
      },
      {
       "output_type": "stream",
       "stream": "stderr",
       "text": [
        "2%\r"
       ]
      },
      {
       "output_type": "stream",
       "stream": "stderr",
       "text": [
        "3%\r"
       ]
      },
      {
       "output_type": "stream",
       "stream": "stderr",
       "text": [
        "4%\r"
       ]
      },
      {
       "output_type": "stream",
       "stream": "stderr",
       "text": [
        "5%\r"
       ]
      },
      {
       "output_type": "stream",
       "stream": "stderr",
       "text": [
        "6%\r"
       ]
      },
      {
       "output_type": "stream",
       "stream": "stderr",
       "text": [
        "7%\r"
       ]
      },
      {
       "output_type": "stream",
       "stream": "stderr",
       "text": [
        "8%\r"
       ]
      },
      {
       "output_type": "stream",
       "stream": "stderr",
       "text": [
        "9%\r"
       ]
      },
      {
       "output_type": "stream",
       "stream": "stderr",
       "text": [
        "10%\r"
       ]
      },
      {
       "output_type": "stream",
       "stream": "stderr",
       "text": [
        "11%\r"
       ]
      },
      {
       "output_type": "stream",
       "stream": "stderr",
       "text": [
        "12%\r"
       ]
      },
      {
       "output_type": "stream",
       "stream": "stderr",
       "text": [
        "13%\r"
       ]
      },
      {
       "output_type": "stream",
       "stream": "stderr",
       "text": [
        "14%\r"
       ]
      },
      {
       "output_type": "stream",
       "stream": "stderr",
       "text": [
        "15%\r"
       ]
      },
      {
       "output_type": "stream",
       "stream": "stderr",
       "text": [
        "16%\r"
       ]
      },
      {
       "output_type": "stream",
       "stream": "stderr",
       "text": [
        "17%\r"
       ]
      },
      {
       "output_type": "stream",
       "stream": "stderr",
       "text": [
        "18%\r"
       ]
      },
      {
       "output_type": "stream",
       "stream": "stderr",
       "text": [
        "19%\r"
       ]
      },
      {
       "output_type": "stream",
       "stream": "stderr",
       "text": [
        "20%\r"
       ]
      },
      {
       "output_type": "stream",
       "stream": "stderr",
       "text": [
        "21%\r"
       ]
      },
      {
       "output_type": "stream",
       "stream": "stderr",
       "text": [
        "22%\r"
       ]
      },
      {
       "output_type": "stream",
       "stream": "stderr",
       "text": [
        "23%\r"
       ]
      },
      {
       "output_type": "stream",
       "stream": "stderr",
       "text": [
        "24%\r"
       ]
      },
      {
       "output_type": "stream",
       "stream": "stderr",
       "text": [
        "25%\r"
       ]
      },
      {
       "output_type": "stream",
       "stream": "stderr",
       "text": [
        "26%\r"
       ]
      },
      {
       "output_type": "stream",
       "stream": "stderr",
       "text": [
        "27%\r"
       ]
      },
      {
       "output_type": "stream",
       "stream": "stderr",
       "text": [
        "28%\r"
       ]
      },
      {
       "output_type": "stream",
       "stream": "stderr",
       "text": [
        "29%\r"
       ]
      },
      {
       "output_type": "stream",
       "stream": "stderr",
       "text": [
        "30%\r"
       ]
      },
      {
       "output_type": "stream",
       "stream": "stderr",
       "text": [
        "31%\r"
       ]
      },
      {
       "output_type": "stream",
       "stream": "stderr",
       "text": [
        "32%\r"
       ]
      },
      {
       "output_type": "stream",
       "stream": "stderr",
       "text": [
        "33%\r"
       ]
      },
      {
       "output_type": "stream",
       "stream": "stderr",
       "text": [
        "34%\r"
       ]
      },
      {
       "output_type": "stream",
       "stream": "stderr",
       "text": [
        "35%\r"
       ]
      },
      {
       "output_type": "stream",
       "stream": "stderr",
       "text": [
        "36%\r"
       ]
      },
      {
       "output_type": "stream",
       "stream": "stderr",
       "text": [
        "37%\r"
       ]
      },
      {
       "output_type": "stream",
       "stream": "stderr",
       "text": [
        "38%\r"
       ]
      },
      {
       "output_type": "stream",
       "stream": "stderr",
       "text": [
        "39%\r"
       ]
      },
      {
       "output_type": "stream",
       "stream": "stderr",
       "text": [
        "40%\r"
       ]
      },
      {
       "output_type": "stream",
       "stream": "stderr",
       "text": [
        "41%\r"
       ]
      },
      {
       "output_type": "stream",
       "stream": "stderr",
       "text": [
        "42%\r"
       ]
      },
      {
       "output_type": "stream",
       "stream": "stderr",
       "text": [
        "43%\r"
       ]
      },
      {
       "output_type": "stream",
       "stream": "stderr",
       "text": [
        "44%\r"
       ]
      },
      {
       "output_type": "stream",
       "stream": "stderr",
       "text": [
        "45%\r"
       ]
      },
      {
       "output_type": "stream",
       "stream": "stderr",
       "text": [
        "46%\r"
       ]
      },
      {
       "output_type": "stream",
       "stream": "stderr",
       "text": [
        "47%\r"
       ]
      },
      {
       "output_type": "stream",
       "stream": "stderr",
       "text": [
        "48%\r"
       ]
      },
      {
       "output_type": "stream",
       "stream": "stderr",
       "text": [
        "49%\r"
       ]
      },
      {
       "output_type": "stream",
       "stream": "stderr",
       "text": [
        "50%\r"
       ]
      },
      {
       "output_type": "stream",
       "stream": "stderr",
       "text": [
        "51%\r"
       ]
      },
      {
       "output_type": "stream",
       "stream": "stderr",
       "text": [
        "52%\r"
       ]
      },
      {
       "output_type": "stream",
       "stream": "stderr",
       "text": [
        "53%\r"
       ]
      },
      {
       "output_type": "stream",
       "stream": "stderr",
       "text": [
        "54%\r"
       ]
      },
      {
       "output_type": "stream",
       "stream": "stderr",
       "text": [
        "55%\r"
       ]
      },
      {
       "output_type": "stream",
       "stream": "stderr",
       "text": [
        "56%\r"
       ]
      },
      {
       "output_type": "stream",
       "stream": "stderr",
       "text": [
        "57%\r"
       ]
      },
      {
       "output_type": "stream",
       "stream": "stderr",
       "text": [
        "58%\r"
       ]
      },
      {
       "output_type": "stream",
       "stream": "stderr",
       "text": [
        "59%\r"
       ]
      },
      {
       "output_type": "stream",
       "stream": "stderr",
       "text": [
        "60%\r"
       ]
      },
      {
       "output_type": "stream",
       "stream": "stderr",
       "text": [
        "61%\r"
       ]
      },
      {
       "output_type": "stream",
       "stream": "stderr",
       "text": [
        "62%\r"
       ]
      },
      {
       "output_type": "stream",
       "stream": "stderr",
       "text": [
        "63%\r"
       ]
      },
      {
       "output_type": "stream",
       "stream": "stderr",
       "text": [
        "64%\r"
       ]
      },
      {
       "output_type": "stream",
       "stream": "stderr",
       "text": [
        "65%\r"
       ]
      },
      {
       "output_type": "stream",
       "stream": "stderr",
       "text": [
        "66%\r"
       ]
      },
      {
       "output_type": "stream",
       "stream": "stderr",
       "text": [
        "67%\r"
       ]
      },
      {
       "output_type": "stream",
       "stream": "stderr",
       "text": [
        "68%\r"
       ]
      },
      {
       "output_type": "stream",
       "stream": "stderr",
       "text": [
        "69%\r"
       ]
      },
      {
       "output_type": "stream",
       "stream": "stderr",
       "text": [
        "70%\r"
       ]
      },
      {
       "output_type": "stream",
       "stream": "stderr",
       "text": [
        "71%\r"
       ]
      },
      {
       "output_type": "stream",
       "stream": "stderr",
       "text": [
        "72%\r"
       ]
      },
      {
       "output_type": "stream",
       "stream": "stderr",
       "text": [
        "73%\r"
       ]
      },
      {
       "output_type": "stream",
       "stream": "stderr",
       "text": [
        "74%\r"
       ]
      },
      {
       "output_type": "stream",
       "stream": "stderr",
       "text": [
        "75%\r"
       ]
      },
      {
       "output_type": "stream",
       "stream": "stderr",
       "text": [
        "76%\r"
       ]
      },
      {
       "output_type": "stream",
       "stream": "stderr",
       "text": [
        "77%\r"
       ]
      },
      {
       "output_type": "stream",
       "stream": "stderr",
       "text": [
        "78%\r"
       ]
      },
      {
       "output_type": "stream",
       "stream": "stderr",
       "text": [
        "79%\r"
       ]
      },
      {
       "output_type": "stream",
       "stream": "stderr",
       "text": [
        "80%\r"
       ]
      },
      {
       "output_type": "stream",
       "stream": "stderr",
       "text": [
        "81%\r"
       ]
      },
      {
       "output_type": "stream",
       "stream": "stderr",
       "text": [
        "82%\r"
       ]
      },
      {
       "output_type": "stream",
       "stream": "stderr",
       "text": [
        "83%\r"
       ]
      },
      {
       "output_type": "stream",
       "stream": "stderr",
       "text": [
        "84%\r"
       ]
      },
      {
       "output_type": "stream",
       "stream": "stderr",
       "text": [
        "85%\r"
       ]
      },
      {
       "output_type": "stream",
       "stream": "stderr",
       "text": [
        "86%\r"
       ]
      },
      {
       "output_type": "stream",
       "stream": "stderr",
       "text": [
        "87%\r"
       ]
      },
      {
       "output_type": "stream",
       "stream": "stderr",
       "text": [
        "88%\r"
       ]
      },
      {
       "output_type": "stream",
       "stream": "stderr",
       "text": [
        "89%\r"
       ]
      },
      {
       "output_type": "stream",
       "stream": "stderr",
       "text": [
        "90%\r"
       ]
      },
      {
       "output_type": "stream",
       "stream": "stderr",
       "text": [
        "91%\r"
       ]
      },
      {
       "output_type": "stream",
       "stream": "stderr",
       "text": [
        "92%\r"
       ]
      },
      {
       "output_type": "stream",
       "stream": "stderr",
       "text": [
        "93%\r"
       ]
      },
      {
       "output_type": "stream",
       "stream": "stderr",
       "text": [
        "94%\r"
       ]
      },
      {
       "output_type": "stream",
       "stream": "stderr",
       "text": [
        "95%\r"
       ]
      },
      {
       "output_type": "stream",
       "stream": "stderr",
       "text": [
        "96%\r"
       ]
      },
      {
       "output_type": "stream",
       "stream": "stderr",
       "text": [
        "97%\r"
       ]
      },
      {
       "output_type": "stream",
       "stream": "stderr",
       "text": [
        "98%\r"
       ]
      },
      {
       "output_type": "stream",
       "stream": "stderr",
       "text": [
        "99%\r"
       ]
      },
      {
       "output_type": "stream",
       "stream": "stderr",
       "text": [
        "100%\r"
       ]
      },
      {
       "output_type": "stream",
       "stream": "stderr",
       "text": [
        "100%\n"
       ]
      },
      {
       "output_type": "stream",
       "stream": "stdout",
       "text": [
        "\n",
        "  loss 1.44156008309\n",
        "  err  0.514673477564\n",
        "  (0:00:51)\n",
        "Epoch 17:"
       ]
      },
      {
       "output_type": "stream",
       "stream": "stderr",
       "text": [
        "1%\r"
       ]
      },
      {
       "output_type": "stream",
       "stream": "stderr",
       "text": [
        "2%\r"
       ]
      },
      {
       "output_type": "stream",
       "stream": "stderr",
       "text": [
        "3%\r"
       ]
      },
      {
       "output_type": "stream",
       "stream": "stderr",
       "text": [
        "4%\r"
       ]
      },
      {
       "output_type": "stream",
       "stream": "stderr",
       "text": [
        "5%\r"
       ]
      },
      {
       "output_type": "stream",
       "stream": "stderr",
       "text": [
        "6%\r"
       ]
      },
      {
       "output_type": "stream",
       "stream": "stderr",
       "text": [
        "7%\r"
       ]
      },
      {
       "output_type": "stream",
       "stream": "stderr",
       "text": [
        "8%\r"
       ]
      },
      {
       "output_type": "stream",
       "stream": "stderr",
       "text": [
        "9%\r"
       ]
      },
      {
       "output_type": "stream",
       "stream": "stderr",
       "text": [
        "10%\r"
       ]
      },
      {
       "output_type": "stream",
       "stream": "stderr",
       "text": [
        "11%\r"
       ]
      },
      {
       "output_type": "stream",
       "stream": "stderr",
       "text": [
        "12%\r"
       ]
      },
      {
       "output_type": "stream",
       "stream": "stderr",
       "text": [
        "13%\r"
       ]
      },
      {
       "output_type": "stream",
       "stream": "stderr",
       "text": [
        "14%\r"
       ]
      },
      {
       "output_type": "stream",
       "stream": "stderr",
       "text": [
        "15%\r"
       ]
      },
      {
       "output_type": "stream",
       "stream": "stderr",
       "text": [
        "16%\r"
       ]
      },
      {
       "output_type": "stream",
       "stream": "stderr",
       "text": [
        "17%\r"
       ]
      },
      {
       "output_type": "stream",
       "stream": "stderr",
       "text": [
        "18%\r"
       ]
      },
      {
       "output_type": "stream",
       "stream": "stderr",
       "text": [
        "19%\r"
       ]
      },
      {
       "output_type": "stream",
       "stream": "stderr",
       "text": [
        "20%\r"
       ]
      },
      {
       "output_type": "stream",
       "stream": "stderr",
       "text": [
        "21%\r"
       ]
      },
      {
       "output_type": "stream",
       "stream": "stderr",
       "text": [
        "22%\r"
       ]
      },
      {
       "output_type": "stream",
       "stream": "stderr",
       "text": [
        "23%\r"
       ]
      },
      {
       "output_type": "stream",
       "stream": "stderr",
       "text": [
        "24%\r"
       ]
      },
      {
       "output_type": "stream",
       "stream": "stderr",
       "text": [
        "25%\r"
       ]
      },
      {
       "output_type": "stream",
       "stream": "stderr",
       "text": [
        "26%\r"
       ]
      },
      {
       "output_type": "stream",
       "stream": "stderr",
       "text": [
        "27%\r"
       ]
      },
      {
       "output_type": "stream",
       "stream": "stderr",
       "text": [
        "28%\r"
       ]
      },
      {
       "output_type": "stream",
       "stream": "stderr",
       "text": [
        "29%\r"
       ]
      },
      {
       "output_type": "stream",
       "stream": "stderr",
       "text": [
        "30%\r"
       ]
      },
      {
       "output_type": "stream",
       "stream": "stderr",
       "text": [
        "31%\r"
       ]
      },
      {
       "output_type": "stream",
       "stream": "stderr",
       "text": [
        "32%\r"
       ]
      },
      {
       "output_type": "stream",
       "stream": "stderr",
       "text": [
        "33%\r"
       ]
      },
      {
       "output_type": "stream",
       "stream": "stderr",
       "text": [
        "34%\r"
       ]
      },
      {
       "output_type": "stream",
       "stream": "stderr",
       "text": [
        "35%\r"
       ]
      },
      {
       "output_type": "stream",
       "stream": "stderr",
       "text": [
        "36%\r"
       ]
      },
      {
       "output_type": "stream",
       "stream": "stderr",
       "text": [
        "37%\r"
       ]
      },
      {
       "output_type": "stream",
       "stream": "stderr",
       "text": [
        "38%\r"
       ]
      },
      {
       "output_type": "stream",
       "stream": "stderr",
       "text": [
        "39%\r"
       ]
      },
      {
       "output_type": "stream",
       "stream": "stderr",
       "text": [
        "40%\r"
       ]
      },
      {
       "output_type": "stream",
       "stream": "stderr",
       "text": [
        "41%\r"
       ]
      },
      {
       "output_type": "stream",
       "stream": "stderr",
       "text": [
        "42%\r"
       ]
      },
      {
       "output_type": "stream",
       "stream": "stderr",
       "text": [
        "43%\r"
       ]
      },
      {
       "output_type": "stream",
       "stream": "stderr",
       "text": [
        "44%\r"
       ]
      },
      {
       "output_type": "stream",
       "stream": "stderr",
       "text": [
        "45%\r"
       ]
      },
      {
       "output_type": "stream",
       "stream": "stderr",
       "text": [
        "46%\r"
       ]
      },
      {
       "output_type": "stream",
       "stream": "stderr",
       "text": [
        "47%\r"
       ]
      },
      {
       "output_type": "stream",
       "stream": "stderr",
       "text": [
        "48%\r"
       ]
      },
      {
       "output_type": "stream",
       "stream": "stderr",
       "text": [
        "49%\r"
       ]
      },
      {
       "output_type": "stream",
       "stream": "stderr",
       "text": [
        "50%\r"
       ]
      },
      {
       "output_type": "stream",
       "stream": "stderr",
       "text": [
        "51%\r"
       ]
      },
      {
       "output_type": "stream",
       "stream": "stderr",
       "text": [
        "52%\r"
       ]
      },
      {
       "output_type": "stream",
       "stream": "stderr",
       "text": [
        "53%\r"
       ]
      },
      {
       "output_type": "stream",
       "stream": "stderr",
       "text": [
        "54%\r"
       ]
      },
      {
       "output_type": "stream",
       "stream": "stderr",
       "text": [
        "55%\r"
       ]
      },
      {
       "output_type": "stream",
       "stream": "stderr",
       "text": [
        "56%\r"
       ]
      },
      {
       "output_type": "stream",
       "stream": "stderr",
       "text": [
        "57%\r"
       ]
      },
      {
       "output_type": "stream",
       "stream": "stderr",
       "text": [
        "58%\r"
       ]
      },
      {
       "output_type": "stream",
       "stream": "stderr",
       "text": [
        "59%\r"
       ]
      },
      {
       "output_type": "stream",
       "stream": "stderr",
       "text": [
        "60%\r"
       ]
      },
      {
       "output_type": "stream",
       "stream": "stderr",
       "text": [
        "61%\r"
       ]
      },
      {
       "output_type": "stream",
       "stream": "stderr",
       "text": [
        "62%\r"
       ]
      },
      {
       "output_type": "stream",
       "stream": "stderr",
       "text": [
        "63%\r"
       ]
      },
      {
       "output_type": "stream",
       "stream": "stderr",
       "text": [
        "64%\r"
       ]
      },
      {
       "output_type": "stream",
       "stream": "stderr",
       "text": [
        "65%\r"
       ]
      },
      {
       "output_type": "stream",
       "stream": "stderr",
       "text": [
        "66%\r"
       ]
      },
      {
       "output_type": "stream",
       "stream": "stderr",
       "text": [
        "67%\r"
       ]
      },
      {
       "output_type": "stream",
       "stream": "stderr",
       "text": [
        "68%\r"
       ]
      },
      {
       "output_type": "stream",
       "stream": "stderr",
       "text": [
        "69%\r"
       ]
      },
      {
       "output_type": "stream",
       "stream": "stderr",
       "text": [
        "70%\r"
       ]
      },
      {
       "output_type": "stream",
       "stream": "stderr",
       "text": [
        "71%\r"
       ]
      },
      {
       "output_type": "stream",
       "stream": "stderr",
       "text": [
        "72%\r"
       ]
      },
      {
       "output_type": "stream",
       "stream": "stderr",
       "text": [
        "73%\r"
       ]
      },
      {
       "output_type": "stream",
       "stream": "stderr",
       "text": [
        "74%\r"
       ]
      },
      {
       "output_type": "stream",
       "stream": "stderr",
       "text": [
        "75%\r"
       ]
      },
      {
       "output_type": "stream",
       "stream": "stderr",
       "text": [
        "76%\r"
       ]
      },
      {
       "output_type": "stream",
       "stream": "stderr",
       "text": [
        "77%\r"
       ]
      },
      {
       "output_type": "stream",
       "stream": "stderr",
       "text": [
        "78%\r"
       ]
      },
      {
       "output_type": "stream",
       "stream": "stderr",
       "text": [
        "79%\r"
       ]
      },
      {
       "output_type": "stream",
       "stream": "stderr",
       "text": [
        "80%\r"
       ]
      },
      {
       "output_type": "stream",
       "stream": "stderr",
       "text": [
        "81%\r"
       ]
      },
      {
       "output_type": "stream",
       "stream": "stderr",
       "text": [
        "82%\r"
       ]
      },
      {
       "output_type": "stream",
       "stream": "stderr",
       "text": [
        "83%\r"
       ]
      },
      {
       "output_type": "stream",
       "stream": "stderr",
       "text": [
        "84%\r"
       ]
      },
      {
       "output_type": "stream",
       "stream": "stderr",
       "text": [
        "85%\r"
       ]
      },
      {
       "output_type": "stream",
       "stream": "stderr",
       "text": [
        "86%\r"
       ]
      },
      {
       "output_type": "stream",
       "stream": "stderr",
       "text": [
        "87%\r"
       ]
      },
      {
       "output_type": "stream",
       "stream": "stderr",
       "text": [
        "88%\r"
       ]
      },
      {
       "output_type": "stream",
       "stream": "stderr",
       "text": [
        "89%\r"
       ]
      },
      {
       "output_type": "stream",
       "stream": "stderr",
       "text": [
        "90%\r"
       ]
      },
      {
       "output_type": "stream",
       "stream": "stderr",
       "text": [
        "91%\r"
       ]
      },
      {
       "output_type": "stream",
       "stream": "stderr",
       "text": [
        "92%\r"
       ]
      },
      {
       "output_type": "stream",
       "stream": "stderr",
       "text": [
        "93%\r"
       ]
      },
      {
       "output_type": "stream",
       "stream": "stderr",
       "text": [
        "94%\r"
       ]
      },
      {
       "output_type": "stream",
       "stream": "stderr",
       "text": [
        "95%\r"
       ]
      },
      {
       "output_type": "stream",
       "stream": "stderr",
       "text": [
        "96%\r"
       ]
      },
      {
       "output_type": "stream",
       "stream": "stderr",
       "text": [
        "97%\r"
       ]
      },
      {
       "output_type": "stream",
       "stream": "stderr",
       "text": [
        "98%\r"
       ]
      },
      {
       "output_type": "stream",
       "stream": "stderr",
       "text": [
        "99%\r"
       ]
      },
      {
       "output_type": "stream",
       "stream": "stderr",
       "text": [
        "100%\r"
       ]
      },
      {
       "output_type": "stream",
       "stream": "stderr",
       "text": [
        "100%\n"
       ]
      },
      {
       "output_type": "stream",
       "stream": "stdout",
       "text": [
        "\n",
        "  loss 1.425017998\n",
        "  err  0.508213141026\n",
        "  (0:01:00)\n",
        "Epoch 18:"
       ]
      },
      {
       "output_type": "stream",
       "stream": "stderr",
       "text": [
        "1%\r"
       ]
      },
      {
       "output_type": "stream",
       "stream": "stderr",
       "text": [
        "2%\r"
       ]
      },
      {
       "output_type": "stream",
       "stream": "stderr",
       "text": [
        "3%\r"
       ]
      },
      {
       "output_type": "stream",
       "stream": "stderr",
       "text": [
        "4%\r"
       ]
      },
      {
       "output_type": "stream",
       "stream": "stderr",
       "text": [
        "5%\r"
       ]
      },
      {
       "output_type": "stream",
       "stream": "stderr",
       "text": [
        "6%\r"
       ]
      },
      {
       "output_type": "stream",
       "stream": "stderr",
       "text": [
        "7%\r"
       ]
      },
      {
       "output_type": "stream",
       "stream": "stderr",
       "text": [
        "8%\r"
       ]
      },
      {
       "output_type": "stream",
       "stream": "stderr",
       "text": [
        "9%\r"
       ]
      },
      {
       "output_type": "stream",
       "stream": "stderr",
       "text": [
        "10%\r"
       ]
      },
      {
       "output_type": "stream",
       "stream": "stderr",
       "text": [
        "11%\r"
       ]
      },
      {
       "output_type": "stream",
       "stream": "stderr",
       "text": [
        "12%\r"
       ]
      },
      {
       "output_type": "stream",
       "stream": "stderr",
       "text": [
        "13%\r"
       ]
      },
      {
       "output_type": "stream",
       "stream": "stderr",
       "text": [
        "14%\r"
       ]
      },
      {
       "output_type": "stream",
       "stream": "stderr",
       "text": [
        "15%\r"
       ]
      },
      {
       "output_type": "stream",
       "stream": "stderr",
       "text": [
        "16%\r"
       ]
      },
      {
       "output_type": "stream",
       "stream": "stderr",
       "text": [
        "17%\r"
       ]
      },
      {
       "output_type": "stream",
       "stream": "stderr",
       "text": [
        "18%\r"
       ]
      },
      {
       "output_type": "stream",
       "stream": "stderr",
       "text": [
        "19%\r"
       ]
      },
      {
       "output_type": "stream",
       "stream": "stderr",
       "text": [
        "20%\r"
       ]
      },
      {
       "output_type": "stream",
       "stream": "stderr",
       "text": [
        "21%\r"
       ]
      },
      {
       "output_type": "stream",
       "stream": "stderr",
       "text": [
        "22%\r"
       ]
      },
      {
       "output_type": "stream",
       "stream": "stderr",
       "text": [
        "23%\r"
       ]
      },
      {
       "output_type": "stream",
       "stream": "stderr",
       "text": [
        "24%\r"
       ]
      },
      {
       "output_type": "stream",
       "stream": "stderr",
       "text": [
        "25%\r"
       ]
      },
      {
       "output_type": "stream",
       "stream": "stderr",
       "text": [
        "26%\r"
       ]
      },
      {
       "output_type": "stream",
       "stream": "stderr",
       "text": [
        "27%\r"
       ]
      },
      {
       "output_type": "stream",
       "stream": "stderr",
       "text": [
        "28%\r"
       ]
      },
      {
       "output_type": "stream",
       "stream": "stderr",
       "text": [
        "29%\r"
       ]
      },
      {
       "output_type": "stream",
       "stream": "stderr",
       "text": [
        "30%\r"
       ]
      },
      {
       "output_type": "stream",
       "stream": "stderr",
       "text": [
        "31%\r"
       ]
      },
      {
       "output_type": "stream",
       "stream": "stderr",
       "text": [
        "32%\r"
       ]
      },
      {
       "output_type": "stream",
       "stream": "stderr",
       "text": [
        "33%\r"
       ]
      },
      {
       "output_type": "stream",
       "stream": "stderr",
       "text": [
        "34%\r"
       ]
      },
      {
       "output_type": "stream",
       "stream": "stderr",
       "text": [
        "35%\r"
       ]
      },
      {
       "output_type": "stream",
       "stream": "stderr",
       "text": [
        "36%\r"
       ]
      },
      {
       "output_type": "stream",
       "stream": "stderr",
       "text": [
        "37%\r"
       ]
      },
      {
       "output_type": "stream",
       "stream": "stderr",
       "text": [
        "38%\r"
       ]
      },
      {
       "output_type": "stream",
       "stream": "stderr",
       "text": [
        "39%\r"
       ]
      },
      {
       "output_type": "stream",
       "stream": "stderr",
       "text": [
        "40%\r"
       ]
      },
      {
       "output_type": "stream",
       "stream": "stderr",
       "text": [
        "41%\r"
       ]
      },
      {
       "output_type": "stream",
       "stream": "stderr",
       "text": [
        "42%\r"
       ]
      },
      {
       "output_type": "stream",
       "stream": "stderr",
       "text": [
        "43%\r"
       ]
      },
      {
       "output_type": "stream",
       "stream": "stderr",
       "text": [
        "44%\r"
       ]
      },
      {
       "output_type": "stream",
       "stream": "stderr",
       "text": [
        "45%\r"
       ]
      },
      {
       "output_type": "stream",
       "stream": "stderr",
       "text": [
        "46%\r"
       ]
      },
      {
       "output_type": "stream",
       "stream": "stderr",
       "text": [
        "47%\r"
       ]
      },
      {
       "output_type": "stream",
       "stream": "stderr",
       "text": [
        "48%\r"
       ]
      },
      {
       "output_type": "stream",
       "stream": "stderr",
       "text": [
        "49%\r"
       ]
      },
      {
       "output_type": "stream",
       "stream": "stderr",
       "text": [
        "50%\r"
       ]
      },
      {
       "output_type": "stream",
       "stream": "stderr",
       "text": [
        "51%\r"
       ]
      },
      {
       "output_type": "stream",
       "stream": "stderr",
       "text": [
        "52%\r"
       ]
      },
      {
       "output_type": "stream",
       "stream": "stderr",
       "text": [
        "53%\r"
       ]
      },
      {
       "output_type": "stream",
       "stream": "stderr",
       "text": [
        "54%\r"
       ]
      },
      {
       "output_type": "stream",
       "stream": "stderr",
       "text": [
        "55%\r"
       ]
      },
      {
       "output_type": "stream",
       "stream": "stderr",
       "text": [
        "56%\r"
       ]
      },
      {
       "output_type": "stream",
       "stream": "stderr",
       "text": [
        "57%\r"
       ]
      },
      {
       "output_type": "stream",
       "stream": "stderr",
       "text": [
        "58%\r"
       ]
      },
      {
       "output_type": "stream",
       "stream": "stderr",
       "text": [
        "59%\r"
       ]
      },
      {
       "output_type": "stream",
       "stream": "stderr",
       "text": [
        "60%\r"
       ]
      },
      {
       "output_type": "stream",
       "stream": "stderr",
       "text": [
        "61%\r"
       ]
      },
      {
       "output_type": "stream",
       "stream": "stderr",
       "text": [
        "62%\r"
       ]
      },
      {
       "output_type": "stream",
       "stream": "stderr",
       "text": [
        "63%\r"
       ]
      },
      {
       "output_type": "stream",
       "stream": "stderr",
       "text": [
        "64%\r"
       ]
      },
      {
       "output_type": "stream",
       "stream": "stderr",
       "text": [
        "65%\r"
       ]
      },
      {
       "output_type": "stream",
       "stream": "stderr",
       "text": [
        "66%\r"
       ]
      },
      {
       "output_type": "stream",
       "stream": "stderr",
       "text": [
        "67%\r"
       ]
      },
      {
       "output_type": "stream",
       "stream": "stderr",
       "text": [
        "68%\r"
       ]
      },
      {
       "output_type": "stream",
       "stream": "stderr",
       "text": [
        "69%\r"
       ]
      },
      {
       "output_type": "stream",
       "stream": "stderr",
       "text": [
        "70%\r"
       ]
      },
      {
       "output_type": "stream",
       "stream": "stderr",
       "text": [
        "71%\r"
       ]
      },
      {
       "output_type": "stream",
       "stream": "stderr",
       "text": [
        "72%\r"
       ]
      },
      {
       "output_type": "stream",
       "stream": "stderr",
       "text": [
        "73%\r"
       ]
      },
      {
       "output_type": "stream",
       "stream": "stderr",
       "text": [
        "74%\r"
       ]
      },
      {
       "output_type": "stream",
       "stream": "stderr",
       "text": [
        "75%\r"
       ]
      },
      {
       "output_type": "stream",
       "stream": "stderr",
       "text": [
        "76%\r"
       ]
      },
      {
       "output_type": "stream",
       "stream": "stderr",
       "text": [
        "77%\r"
       ]
      },
      {
       "output_type": "stream",
       "stream": "stderr",
       "text": [
        "78%\r"
       ]
      },
      {
       "output_type": "stream",
       "stream": "stderr",
       "text": [
        "79%\r"
       ]
      },
      {
       "output_type": "stream",
       "stream": "stderr",
       "text": [
        "80%\r"
       ]
      },
      {
       "output_type": "stream",
       "stream": "stderr",
       "text": [
        "81%\r"
       ]
      },
      {
       "output_type": "stream",
       "stream": "stderr",
       "text": [
        "82%\r"
       ]
      },
      {
       "output_type": "stream",
       "stream": "stderr",
       "text": [
        "83%\r"
       ]
      },
      {
       "output_type": "stream",
       "stream": "stderr",
       "text": [
        "84%\r"
       ]
      },
      {
       "output_type": "stream",
       "stream": "stderr",
       "text": [
        "85%\r"
       ]
      },
      {
       "output_type": "stream",
       "stream": "stderr",
       "text": [
        "86%\r"
       ]
      },
      {
       "output_type": "stream",
       "stream": "stderr",
       "text": [
        "87%\r"
       ]
      },
      {
       "output_type": "stream",
       "stream": "stderr",
       "text": [
        "88%\r"
       ]
      },
      {
       "output_type": "stream",
       "stream": "stderr",
       "text": [
        "89%\r"
       ]
      },
      {
       "output_type": "stream",
       "stream": "stderr",
       "text": [
        "90%\r"
       ]
      },
      {
       "output_type": "stream",
       "stream": "stderr",
       "text": [
        "91%\r"
       ]
      },
      {
       "output_type": "stream",
       "stream": "stderr",
       "text": [
        "92%\r"
       ]
      },
      {
       "output_type": "stream",
       "stream": "stderr",
       "text": [
        "93%\r"
       ]
      },
      {
       "output_type": "stream",
       "stream": "stderr",
       "text": [
        "94%\r"
       ]
      },
      {
       "output_type": "stream",
       "stream": "stderr",
       "text": [
        "95%\r"
       ]
      },
      {
       "output_type": "stream",
       "stream": "stderr",
       "text": [
        "96%\r"
       ]
      },
      {
       "output_type": "stream",
       "stream": "stderr",
       "text": [
        "97%\r"
       ]
      },
      {
       "output_type": "stream",
       "stream": "stderr",
       "text": [
        "98%\r"
       ]
      },
      {
       "output_type": "stream",
       "stream": "stderr",
       "text": [
        "99%\r"
       ]
      },
      {
       "output_type": "stream",
       "stream": "stderr",
       "text": [
        "100%\r"
       ]
      },
      {
       "output_type": "stream",
       "stream": "stderr",
       "text": [
        "100%\n"
       ]
      },
      {
       "output_type": "stream",
       "stream": "stdout",
       "text": [
        "\n",
        "  loss 1.41485239489\n",
        "  err  0.505809294872\n",
        "  (0:01:39)\n",
        "Epoch 19:"
       ]
      },
      {
       "output_type": "stream",
       "stream": "stderr",
       "text": [
        "1%\r"
       ]
      },
      {
       "output_type": "stream",
       "stream": "stderr",
       "text": [
        "2%\r"
       ]
      },
      {
       "output_type": "stream",
       "stream": "stderr",
       "text": [
        "3%\r"
       ]
      },
      {
       "output_type": "stream",
       "stream": "stderr",
       "text": [
        "4%\r"
       ]
      },
      {
       "output_type": "stream",
       "stream": "stderr",
       "text": [
        "5%\r"
       ]
      },
      {
       "output_type": "stream",
       "stream": "stderr",
       "text": [
        "6%\r"
       ]
      },
      {
       "output_type": "stream",
       "stream": "stderr",
       "text": [
        "7%\r"
       ]
      },
      {
       "output_type": "stream",
       "stream": "stderr",
       "text": [
        "8%\r"
       ]
      },
      {
       "output_type": "stream",
       "stream": "stderr",
       "text": [
        "9%\r"
       ]
      },
      {
       "output_type": "stream",
       "stream": "stderr",
       "text": [
        "10%\r"
       ]
      },
      {
       "output_type": "stream",
       "stream": "stderr",
       "text": [
        "11%\r"
       ]
      },
      {
       "output_type": "stream",
       "stream": "stderr",
       "text": [
        "12%\r"
       ]
      },
      {
       "output_type": "stream",
       "stream": "stderr",
       "text": [
        "13%\r"
       ]
      },
      {
       "output_type": "stream",
       "stream": "stderr",
       "text": [
        "14%\r"
       ]
      },
      {
       "output_type": "stream",
       "stream": "stderr",
       "text": [
        "15%\r"
       ]
      },
      {
       "output_type": "stream",
       "stream": "stderr",
       "text": [
        "16%\r"
       ]
      },
      {
       "output_type": "stream",
       "stream": "stderr",
       "text": [
        "17%\r"
       ]
      },
      {
       "output_type": "stream",
       "stream": "stderr",
       "text": [
        "18%\r"
       ]
      },
      {
       "output_type": "stream",
       "stream": "stderr",
       "text": [
        "19%\r"
       ]
      },
      {
       "output_type": "stream",
       "stream": "stderr",
       "text": [
        "20%\r"
       ]
      },
      {
       "output_type": "stream",
       "stream": "stderr",
       "text": [
        "21%\r"
       ]
      },
      {
       "output_type": "stream",
       "stream": "stderr",
       "text": [
        "22%\r"
       ]
      },
      {
       "output_type": "stream",
       "stream": "stderr",
       "text": [
        "23%\r"
       ]
      },
      {
       "output_type": "stream",
       "stream": "stderr",
       "text": [
        "24%\r"
       ]
      },
      {
       "output_type": "stream",
       "stream": "stderr",
       "text": [
        "25%\r"
       ]
      },
      {
       "output_type": "stream",
       "stream": "stderr",
       "text": [
        "26%\r"
       ]
      },
      {
       "output_type": "stream",
       "stream": "stderr",
       "text": [
        "27%\r"
       ]
      },
      {
       "output_type": "stream",
       "stream": "stderr",
       "text": [
        "28%\r"
       ]
      },
      {
       "output_type": "stream",
       "stream": "stderr",
       "text": [
        "29%\r"
       ]
      },
      {
       "output_type": "stream",
       "stream": "stderr",
       "text": [
        "30%\r"
       ]
      },
      {
       "output_type": "stream",
       "stream": "stderr",
       "text": [
        "31%\r"
       ]
      },
      {
       "output_type": "stream",
       "stream": "stderr",
       "text": [
        "32%\r"
       ]
      },
      {
       "output_type": "stream",
       "stream": "stderr",
       "text": [
        "33%\r"
       ]
      },
      {
       "output_type": "stream",
       "stream": "stderr",
       "text": [
        "34%\r"
       ]
      },
      {
       "output_type": "stream",
       "stream": "stderr",
       "text": [
        "35%\r"
       ]
      },
      {
       "output_type": "stream",
       "stream": "stderr",
       "text": [
        "36%\r"
       ]
      },
      {
       "output_type": "stream",
       "stream": "stderr",
       "text": [
        "37%\r"
       ]
      },
      {
       "output_type": "stream",
       "stream": "stderr",
       "text": [
        "38%\r"
       ]
      },
      {
       "output_type": "stream",
       "stream": "stderr",
       "text": [
        "39%\r"
       ]
      },
      {
       "output_type": "stream",
       "stream": "stderr",
       "text": [
        "40%\r"
       ]
      },
      {
       "output_type": "stream",
       "stream": "stderr",
       "text": [
        "41%\r"
       ]
      },
      {
       "output_type": "stream",
       "stream": "stderr",
       "text": [
        "42%\r"
       ]
      },
      {
       "output_type": "stream",
       "stream": "stderr",
       "text": [
        "43%\r"
       ]
      },
      {
       "output_type": "stream",
       "stream": "stderr",
       "text": [
        "44%\r"
       ]
      },
      {
       "output_type": "stream",
       "stream": "stderr",
       "text": [
        "45%\r"
       ]
      },
      {
       "output_type": "stream",
       "stream": "stderr",
       "text": [
        "46%\r"
       ]
      },
      {
       "output_type": "stream",
       "stream": "stderr",
       "text": [
        "47%\r"
       ]
      },
      {
       "output_type": "stream",
       "stream": "stderr",
       "text": [
        "48%\r"
       ]
      },
      {
       "output_type": "stream",
       "stream": "stderr",
       "text": [
        "49%\r"
       ]
      },
      {
       "output_type": "stream",
       "stream": "stderr",
       "text": [
        "50%\r"
       ]
      },
      {
       "output_type": "stream",
       "stream": "stderr",
       "text": [
        "51%\r"
       ]
      },
      {
       "output_type": "stream",
       "stream": "stderr",
       "text": [
        "52%\r"
       ]
      },
      {
       "output_type": "stream",
       "stream": "stderr",
       "text": [
        "53%\r"
       ]
      },
      {
       "output_type": "stream",
       "stream": "stderr",
       "text": [
        "54%\r"
       ]
      },
      {
       "output_type": "stream",
       "stream": "stderr",
       "text": [
        "55%\r"
       ]
      },
      {
       "output_type": "stream",
       "stream": "stderr",
       "text": [
        "56%\r"
       ]
      },
      {
       "output_type": "stream",
       "stream": "stderr",
       "text": [
        "57%\r"
       ]
      },
      {
       "output_type": "stream",
       "stream": "stderr",
       "text": [
        "58%\r"
       ]
      },
      {
       "output_type": "stream",
       "stream": "stderr",
       "text": [
        "59%\r"
       ]
      },
      {
       "output_type": "stream",
       "stream": "stderr",
       "text": [
        "60%\r"
       ]
      },
      {
       "output_type": "stream",
       "stream": "stderr",
       "text": [
        "61%\r"
       ]
      },
      {
       "output_type": "stream",
       "stream": "stderr",
       "text": [
        "62%\r"
       ]
      },
      {
       "output_type": "stream",
       "stream": "stderr",
       "text": [
        "63%\r"
       ]
      },
      {
       "output_type": "stream",
       "stream": "stderr",
       "text": [
        "64%\r"
       ]
      },
      {
       "output_type": "stream",
       "stream": "stderr",
       "text": [
        "65%\r"
       ]
      },
      {
       "output_type": "stream",
       "stream": "stderr",
       "text": [
        "66%\r"
       ]
      },
      {
       "output_type": "stream",
       "stream": "stderr",
       "text": [
        "67%\r"
       ]
      },
      {
       "output_type": "stream",
       "stream": "stderr",
       "text": [
        "68%\r"
       ]
      },
      {
       "output_type": "stream",
       "stream": "stderr",
       "text": [
        "69%\r"
       ]
      },
      {
       "output_type": "stream",
       "stream": "stderr",
       "text": [
        "70%\r"
       ]
      },
      {
       "output_type": "stream",
       "stream": "stderr",
       "text": [
        "71%\r"
       ]
      },
      {
       "output_type": "stream",
       "stream": "stderr",
       "text": [
        "72%\r"
       ]
      },
      {
       "output_type": "stream",
       "stream": "stderr",
       "text": [
        "73%\r"
       ]
      },
      {
       "output_type": "stream",
       "stream": "stderr",
       "text": [
        "74%\r"
       ]
      },
      {
       "output_type": "stream",
       "stream": "stderr",
       "text": [
        "75%\r"
       ]
      },
      {
       "output_type": "stream",
       "stream": "stderr",
       "text": [
        "76%\r"
       ]
      },
      {
       "output_type": "stream",
       "stream": "stderr",
       "text": [
        "77%\r"
       ]
      },
      {
       "output_type": "stream",
       "stream": "stderr",
       "text": [
        "78%\r"
       ]
      },
      {
       "output_type": "stream",
       "stream": "stderr",
       "text": [
        "79%\r"
       ]
      },
      {
       "output_type": "stream",
       "stream": "stderr",
       "text": [
        "80%\r"
       ]
      },
      {
       "output_type": "stream",
       "stream": "stderr",
       "text": [
        "81%\r"
       ]
      },
      {
       "output_type": "stream",
       "stream": "stderr",
       "text": [
        "82%\r"
       ]
      },
      {
       "output_type": "stream",
       "stream": "stderr",
       "text": [
        "83%\r"
       ]
      },
      {
       "output_type": "stream",
       "stream": "stderr",
       "text": [
        "84%\r"
       ]
      },
      {
       "output_type": "stream",
       "stream": "stderr",
       "text": [
        "85%\r"
       ]
      },
      {
       "output_type": "stream",
       "stream": "stderr",
       "text": [
        "86%\r"
       ]
      },
      {
       "output_type": "stream",
       "stream": "stderr",
       "text": [
        "87%\r"
       ]
      },
      {
       "output_type": "stream",
       "stream": "stderr",
       "text": [
        "88%\r"
       ]
      },
      {
       "output_type": "stream",
       "stream": "stderr",
       "text": [
        "89%\r"
       ]
      },
      {
       "output_type": "stream",
       "stream": "stderr",
       "text": [
        "90%\r"
       ]
      },
      {
       "output_type": "stream",
       "stream": "stderr",
       "text": [
        "91%\r"
       ]
      },
      {
       "output_type": "stream",
       "stream": "stderr",
       "text": [
        "92%\r"
       ]
      },
      {
       "output_type": "stream",
       "stream": "stderr",
       "text": [
        "93%\r"
       ]
      },
      {
       "output_type": "stream",
       "stream": "stderr",
       "text": [
        "94%\r"
       ]
      },
      {
       "output_type": "stream",
       "stream": "stderr",
       "text": [
        "95%\r"
       ]
      },
      {
       "output_type": "stream",
       "stream": "stderr",
       "text": [
        "96%\r"
       ]
      },
      {
       "output_type": "stream",
       "stream": "stderr",
       "text": [
        "97%\r"
       ]
      },
      {
       "output_type": "stream",
       "stream": "stderr",
       "text": [
        "98%\r"
       ]
      },
      {
       "output_type": "stream",
       "stream": "stderr",
       "text": [
        "99%\r"
       ]
      },
      {
       "output_type": "stream",
       "stream": "stderr",
       "text": [
        "100%\r"
       ]
      },
      {
       "output_type": "stream",
       "stream": "stderr",
       "text": [
        "100%\n"
       ]
      },
      {
       "output_type": "stream",
       "stream": "stdout",
       "text": [
        "\n",
        "  loss 1.38753143125\n",
        "  err  0.493088942308\n",
        "  (0:00:51)\n",
        "Epoch 20:"
       ]
      },
      {
       "output_type": "stream",
       "stream": "stderr",
       "text": [
        "1%\r"
       ]
      },
      {
       "output_type": "stream",
       "stream": "stderr",
       "text": [
        "2%\r"
       ]
      },
      {
       "output_type": "stream",
       "stream": "stderr",
       "text": [
        "3%\r"
       ]
      },
      {
       "output_type": "stream",
       "stream": "stderr",
       "text": [
        "4%\r"
       ]
      },
      {
       "output_type": "stream",
       "stream": "stderr",
       "text": [
        "5%\r"
       ]
      },
      {
       "output_type": "stream",
       "stream": "stderr",
       "text": [
        "6%\r"
       ]
      },
      {
       "output_type": "stream",
       "stream": "stderr",
       "text": [
        "7%\r"
       ]
      },
      {
       "output_type": "stream",
       "stream": "stderr",
       "text": [
        "8%\r"
       ]
      },
      {
       "output_type": "stream",
       "stream": "stderr",
       "text": [
        "9%\r"
       ]
      },
      {
       "output_type": "stream",
       "stream": "stderr",
       "text": [
        "10%\r"
       ]
      },
      {
       "output_type": "stream",
       "stream": "stderr",
       "text": [
        "11%\r"
       ]
      },
      {
       "output_type": "stream",
       "stream": "stderr",
       "text": [
        "12%\r"
       ]
      },
      {
       "output_type": "stream",
       "stream": "stderr",
       "text": [
        "13%\r"
       ]
      },
      {
       "output_type": "stream",
       "stream": "stderr",
       "text": [
        "14%\r"
       ]
      },
      {
       "output_type": "stream",
       "stream": "stderr",
       "text": [
        "15%\r"
       ]
      },
      {
       "output_type": "stream",
       "stream": "stderr",
       "text": [
        "16%\r"
       ]
      },
      {
       "output_type": "stream",
       "stream": "stderr",
       "text": [
        "17%\r"
       ]
      },
      {
       "output_type": "stream",
       "stream": "stderr",
       "text": [
        "18%\r"
       ]
      },
      {
       "output_type": "stream",
       "stream": "stderr",
       "text": [
        "19%\r"
       ]
      },
      {
       "output_type": "stream",
       "stream": "stderr",
       "text": [
        "20%\r"
       ]
      },
      {
       "output_type": "stream",
       "stream": "stderr",
       "text": [
        "21%\r"
       ]
      },
      {
       "output_type": "stream",
       "stream": "stderr",
       "text": [
        "22%\r"
       ]
      },
      {
       "output_type": "stream",
       "stream": "stderr",
       "text": [
        "23%\r"
       ]
      },
      {
       "output_type": "stream",
       "stream": "stderr",
       "text": [
        "24%\r"
       ]
      },
      {
       "output_type": "stream",
       "stream": "stderr",
       "text": [
        "25%\r"
       ]
      },
      {
       "output_type": "stream",
       "stream": "stderr",
       "text": [
        "26%\r"
       ]
      },
      {
       "output_type": "stream",
       "stream": "stderr",
       "text": [
        "27%\r"
       ]
      },
      {
       "output_type": "stream",
       "stream": "stderr",
       "text": [
        "28%\r"
       ]
      },
      {
       "output_type": "stream",
       "stream": "stderr",
       "text": [
        "29%\r"
       ]
      },
      {
       "output_type": "stream",
       "stream": "stderr",
       "text": [
        "30%\r"
       ]
      },
      {
       "output_type": "stream",
       "stream": "stderr",
       "text": [
        "31%\r"
       ]
      },
      {
       "output_type": "stream",
       "stream": "stderr",
       "text": [
        "32%\r"
       ]
      },
      {
       "output_type": "stream",
       "stream": "stderr",
       "text": [
        "33%\r"
       ]
      },
      {
       "output_type": "stream",
       "stream": "stderr",
       "text": [
        "34%\r"
       ]
      },
      {
       "output_type": "stream",
       "stream": "stderr",
       "text": [
        "35%\r"
       ]
      },
      {
       "output_type": "stream",
       "stream": "stderr",
       "text": [
        "36%\r"
       ]
      },
      {
       "output_type": "stream",
       "stream": "stderr",
       "text": [
        "37%\r"
       ]
      },
      {
       "output_type": "stream",
       "stream": "stderr",
       "text": [
        "38%\r"
       ]
      },
      {
       "output_type": "stream",
       "stream": "stderr",
       "text": [
        "39%\r"
       ]
      },
      {
       "output_type": "stream",
       "stream": "stderr",
       "text": [
        "40%\r"
       ]
      },
      {
       "output_type": "stream",
       "stream": "stderr",
       "text": [
        "41%\r"
       ]
      },
      {
       "output_type": "stream",
       "stream": "stderr",
       "text": [
        "42%\r"
       ]
      },
      {
       "output_type": "stream",
       "stream": "stderr",
       "text": [
        "43%\r"
       ]
      },
      {
       "output_type": "stream",
       "stream": "stderr",
       "text": [
        "44%\r"
       ]
      },
      {
       "output_type": "stream",
       "stream": "stderr",
       "text": [
        "45%\r"
       ]
      },
      {
       "output_type": "stream",
       "stream": "stderr",
       "text": [
        "46%\r"
       ]
      },
      {
       "output_type": "stream",
       "stream": "stderr",
       "text": [
        "47%\r"
       ]
      },
      {
       "output_type": "stream",
       "stream": "stderr",
       "text": [
        "48%\r"
       ]
      },
      {
       "output_type": "stream",
       "stream": "stderr",
       "text": [
        "49%\r"
       ]
      },
      {
       "output_type": "stream",
       "stream": "stderr",
       "text": [
        "50%\r"
       ]
      },
      {
       "output_type": "stream",
       "stream": "stderr",
       "text": [
        "51%\r"
       ]
      },
      {
       "output_type": "stream",
       "stream": "stderr",
       "text": [
        "52%\r"
       ]
      },
      {
       "output_type": "stream",
       "stream": "stderr",
       "text": [
        "53%\r"
       ]
      },
      {
       "output_type": "stream",
       "stream": "stderr",
       "text": [
        "54%\r"
       ]
      },
      {
       "output_type": "stream",
       "stream": "stderr",
       "text": [
        "55%\r"
       ]
      },
      {
       "output_type": "stream",
       "stream": "stderr",
       "text": [
        "56%\r"
       ]
      },
      {
       "output_type": "stream",
       "stream": "stderr",
       "text": [
        "57%\r"
       ]
      },
      {
       "output_type": "stream",
       "stream": "stderr",
       "text": [
        "58%\r"
       ]
      },
      {
       "output_type": "stream",
       "stream": "stderr",
       "text": [
        "59%\r"
       ]
      },
      {
       "output_type": "stream",
       "stream": "stderr",
       "text": [
        "60%\r"
       ]
      },
      {
       "output_type": "stream",
       "stream": "stderr",
       "text": [
        "61%\r"
       ]
      },
      {
       "output_type": "stream",
       "stream": "stderr",
       "text": [
        "62%\r"
       ]
      },
      {
       "output_type": "stream",
       "stream": "stderr",
       "text": [
        "63%\r"
       ]
      },
      {
       "output_type": "stream",
       "stream": "stderr",
       "text": [
        "64%\r"
       ]
      },
      {
       "output_type": "stream",
       "stream": "stderr",
       "text": [
        "65%\r"
       ]
      },
      {
       "output_type": "stream",
       "stream": "stderr",
       "text": [
        "66%\r"
       ]
      },
      {
       "output_type": "stream",
       "stream": "stderr",
       "text": [
        "67%\r"
       ]
      },
      {
       "output_type": "stream",
       "stream": "stderr",
       "text": [
        "68%\r"
       ]
      },
      {
       "output_type": "stream",
       "stream": "stderr",
       "text": [
        "69%\r"
       ]
      },
      {
       "output_type": "stream",
       "stream": "stderr",
       "text": [
        "70%\r"
       ]
      },
      {
       "output_type": "stream",
       "stream": "stderr",
       "text": [
        "71%\r"
       ]
      },
      {
       "output_type": "stream",
       "stream": "stderr",
       "text": [
        "72%\r"
       ]
      },
      {
       "output_type": "stream",
       "stream": "stderr",
       "text": [
        "73%\r"
       ]
      },
      {
       "output_type": "stream",
       "stream": "stderr",
       "text": [
        "74%\r"
       ]
      },
      {
       "output_type": "stream",
       "stream": "stderr",
       "text": [
        "75%\r"
       ]
      },
      {
       "output_type": "stream",
       "stream": "stderr",
       "text": [
        "76%\r"
       ]
      },
      {
       "output_type": "stream",
       "stream": "stderr",
       "text": [
        "77%\r"
       ]
      },
      {
       "output_type": "stream",
       "stream": "stderr",
       "text": [
        "78%\r"
       ]
      },
      {
       "output_type": "stream",
       "stream": "stderr",
       "text": [
        "79%\r"
       ]
      },
      {
       "output_type": "stream",
       "stream": "stderr",
       "text": [
        "80%\r"
       ]
      },
      {
       "output_type": "stream",
       "stream": "stderr",
       "text": [
        "81%\r"
       ]
      },
      {
       "output_type": "stream",
       "stream": "stderr",
       "text": [
        "82%\r"
       ]
      },
      {
       "output_type": "stream",
       "stream": "stderr",
       "text": [
        "83%\r"
       ]
      },
      {
       "output_type": "stream",
       "stream": "stderr",
       "text": [
        "84%\r"
       ]
      },
      {
       "output_type": "stream",
       "stream": "stderr",
       "text": [
        "85%\r"
       ]
      },
      {
       "output_type": "stream",
       "stream": "stderr",
       "text": [
        "86%\r"
       ]
      },
      {
       "output_type": "stream",
       "stream": "stderr",
       "text": [
        "87%\r"
       ]
      },
      {
       "output_type": "stream",
       "stream": "stderr",
       "text": [
        "88%\r"
       ]
      },
      {
       "output_type": "stream",
       "stream": "stderr",
       "text": [
        "89%\r"
       ]
      },
      {
       "output_type": "stream",
       "stream": "stderr",
       "text": [
        "90%\r"
       ]
      },
      {
       "output_type": "stream",
       "stream": "stderr",
       "text": [
        "91%\r"
       ]
      },
      {
       "output_type": "stream",
       "stream": "stderr",
       "text": [
        "92%\r"
       ]
      },
      {
       "output_type": "stream",
       "stream": "stderr",
       "text": [
        "93%\r"
       ]
      },
      {
       "output_type": "stream",
       "stream": "stderr",
       "text": [
        "94%\r"
       ]
      },
      {
       "output_type": "stream",
       "stream": "stderr",
       "text": [
        "95%\r"
       ]
      },
      {
       "output_type": "stream",
       "stream": "stderr",
       "text": [
        "96%\r"
       ]
      },
      {
       "output_type": "stream",
       "stream": "stderr",
       "text": [
        "97%\r"
       ]
      },
      {
       "output_type": "stream",
       "stream": "stderr",
       "text": [
        "98%\r"
       ]
      },
      {
       "output_type": "stream",
       "stream": "stderr",
       "text": [
        "99%\r"
       ]
      },
      {
       "output_type": "stream",
       "stream": "stderr",
       "text": [
        "100%\r"
       ]
      },
      {
       "output_type": "stream",
       "stream": "stderr",
       "text": [
        "100%\n"
       ]
      },
      {
       "output_type": "stream",
       "stream": "stdout",
       "text": [
        "\n",
        "  loss 1.35394785821\n",
        "  err  0.483022836538\n",
        "  (0:00:47)\n",
        "Epoch 21:"
       ]
      },
      {
       "output_type": "stream",
       "stream": "stderr",
       "text": [
        "1%\r"
       ]
      },
      {
       "output_type": "stream",
       "stream": "stderr",
       "text": [
        "2%\r"
       ]
      },
      {
       "output_type": "stream",
       "stream": "stderr",
       "text": [
        "3%\r"
       ]
      },
      {
       "output_type": "stream",
       "stream": "stderr",
       "text": [
        "4%\r"
       ]
      },
      {
       "output_type": "stream",
       "stream": "stderr",
       "text": [
        "5%\r"
       ]
      },
      {
       "output_type": "stream",
       "stream": "stderr",
       "text": [
        "6%\r"
       ]
      },
      {
       "output_type": "stream",
       "stream": "stderr",
       "text": [
        "7%\r"
       ]
      },
      {
       "output_type": "stream",
       "stream": "stderr",
       "text": [
        "8%\r"
       ]
      },
      {
       "output_type": "stream",
       "stream": "stderr",
       "text": [
        "9%\r"
       ]
      },
      {
       "output_type": "stream",
       "stream": "stderr",
       "text": [
        "10%\r"
       ]
      },
      {
       "output_type": "stream",
       "stream": "stderr",
       "text": [
        "11%\r"
       ]
      },
      {
       "output_type": "stream",
       "stream": "stderr",
       "text": [
        "12%\r"
       ]
      },
      {
       "output_type": "stream",
       "stream": "stderr",
       "text": [
        "13%\r"
       ]
      },
      {
       "output_type": "stream",
       "stream": "stderr",
       "text": [
        "14%\r"
       ]
      },
      {
       "output_type": "stream",
       "stream": "stderr",
       "text": [
        "15%\r"
       ]
      },
      {
       "output_type": "stream",
       "stream": "stderr",
       "text": [
        "16%\r"
       ]
      },
      {
       "output_type": "stream",
       "stream": "stderr",
       "text": [
        "17%\r"
       ]
      },
      {
       "output_type": "stream",
       "stream": "stderr",
       "text": [
        "18%\r"
       ]
      },
      {
       "output_type": "stream",
       "stream": "stderr",
       "text": [
        "19%\r"
       ]
      },
      {
       "output_type": "stream",
       "stream": "stderr",
       "text": [
        "20%\r"
       ]
      },
      {
       "output_type": "stream",
       "stream": "stderr",
       "text": [
        "21%\r"
       ]
      },
      {
       "output_type": "stream",
       "stream": "stderr",
       "text": [
        "22%\r"
       ]
      },
      {
       "output_type": "stream",
       "stream": "stderr",
       "text": [
        "23%\r"
       ]
      },
      {
       "output_type": "stream",
       "stream": "stderr",
       "text": [
        "24%\r"
       ]
      },
      {
       "output_type": "stream",
       "stream": "stderr",
       "text": [
        "25%\r"
       ]
      },
      {
       "output_type": "stream",
       "stream": "stderr",
       "text": [
        "26%\r"
       ]
      },
      {
       "output_type": "stream",
       "stream": "stderr",
       "text": [
        "27%\r"
       ]
      },
      {
       "output_type": "stream",
       "stream": "stderr",
       "text": [
        "28%\r"
       ]
      },
      {
       "output_type": "stream",
       "stream": "stderr",
       "text": [
        "29%\r"
       ]
      },
      {
       "output_type": "stream",
       "stream": "stderr",
       "text": [
        "30%\r"
       ]
      },
      {
       "output_type": "stream",
       "stream": "stderr",
       "text": [
        "31%\r"
       ]
      },
      {
       "output_type": "stream",
       "stream": "stderr",
       "text": [
        "32%\r"
       ]
      },
      {
       "output_type": "stream",
       "stream": "stderr",
       "text": [
        "33%\r"
       ]
      },
      {
       "output_type": "stream",
       "stream": "stderr",
       "text": [
        "34%\r"
       ]
      },
      {
       "output_type": "stream",
       "stream": "stderr",
       "text": [
        "35%\r"
       ]
      },
      {
       "output_type": "stream",
       "stream": "stderr",
       "text": [
        "36%\r"
       ]
      },
      {
       "output_type": "stream",
       "stream": "stderr",
       "text": [
        "37%\r"
       ]
      },
      {
       "output_type": "stream",
       "stream": "stderr",
       "text": [
        "38%\r"
       ]
      },
      {
       "output_type": "stream",
       "stream": "stderr",
       "text": [
        "39%\r"
       ]
      },
      {
       "output_type": "stream",
       "stream": "stderr",
       "text": [
        "40%\r"
       ]
      },
      {
       "output_type": "stream",
       "stream": "stderr",
       "text": [
        "41%\r"
       ]
      },
      {
       "output_type": "stream",
       "stream": "stderr",
       "text": [
        "42%\r"
       ]
      },
      {
       "output_type": "stream",
       "stream": "stderr",
       "text": [
        "43%\r"
       ]
      },
      {
       "output_type": "stream",
       "stream": "stderr",
       "text": [
        "44%\r"
       ]
      },
      {
       "output_type": "stream",
       "stream": "stderr",
       "text": [
        "45%\r"
       ]
      },
      {
       "output_type": "stream",
       "stream": "stderr",
       "text": [
        "46%\r"
       ]
      },
      {
       "output_type": "stream",
       "stream": "stderr",
       "text": [
        "47%\r"
       ]
      },
      {
       "output_type": "stream",
       "stream": "stderr",
       "text": [
        "48%\r"
       ]
      },
      {
       "output_type": "stream",
       "stream": "stderr",
       "text": [
        "49%\r"
       ]
      },
      {
       "output_type": "stream",
       "stream": "stderr",
       "text": [
        "50%\r"
       ]
      },
      {
       "output_type": "stream",
       "stream": "stderr",
       "text": [
        "51%\r"
       ]
      },
      {
       "output_type": "stream",
       "stream": "stderr",
       "text": [
        "52%\r"
       ]
      },
      {
       "output_type": "stream",
       "stream": "stderr",
       "text": [
        "53%\r"
       ]
      },
      {
       "output_type": "stream",
       "stream": "stderr",
       "text": [
        "54%\r"
       ]
      },
      {
       "output_type": "stream",
       "stream": "stderr",
       "text": [
        "55%\r"
       ]
      },
      {
       "output_type": "stream",
       "stream": "stderr",
       "text": [
        "56%\r"
       ]
      },
      {
       "output_type": "stream",
       "stream": "stderr",
       "text": [
        "57%\r"
       ]
      },
      {
       "output_type": "stream",
       "stream": "stderr",
       "text": [
        "58%\r"
       ]
      },
      {
       "output_type": "stream",
       "stream": "stderr",
       "text": [
        "59%\r"
       ]
      },
      {
       "output_type": "stream",
       "stream": "stderr",
       "text": [
        "60%\r"
       ]
      },
      {
       "output_type": "stream",
       "stream": "stderr",
       "text": [
        "61%\r"
       ]
      },
      {
       "output_type": "stream",
       "stream": "stderr",
       "text": [
        "62%\r"
       ]
      },
      {
       "output_type": "stream",
       "stream": "stderr",
       "text": [
        "63%\r"
       ]
      },
      {
       "output_type": "stream",
       "stream": "stderr",
       "text": [
        "64%\r"
       ]
      },
      {
       "output_type": "stream",
       "stream": "stderr",
       "text": [
        "65%\r"
       ]
      },
      {
       "output_type": "stream",
       "stream": "stderr",
       "text": [
        "66%\r"
       ]
      },
      {
       "output_type": "stream",
       "stream": "stderr",
       "text": [
        "67%\r"
       ]
      },
      {
       "output_type": "stream",
       "stream": "stderr",
       "text": [
        "68%\r"
       ]
      },
      {
       "output_type": "stream",
       "stream": "stderr",
       "text": [
        "69%\r"
       ]
      },
      {
       "output_type": "stream",
       "stream": "stderr",
       "text": [
        "70%\r"
       ]
      },
      {
       "output_type": "stream",
       "stream": "stderr",
       "text": [
        "71%\r"
       ]
      },
      {
       "output_type": "stream",
       "stream": "stderr",
       "text": [
        "72%\r"
       ]
      },
      {
       "output_type": "stream",
       "stream": "stderr",
       "text": [
        "73%\r"
       ]
      },
      {
       "output_type": "stream",
       "stream": "stderr",
       "text": [
        "74%\r"
       ]
      },
      {
       "output_type": "stream",
       "stream": "stderr",
       "text": [
        "75%\r"
       ]
      },
      {
       "output_type": "stream",
       "stream": "stderr",
       "text": [
        "76%\r"
       ]
      },
      {
       "output_type": "stream",
       "stream": "stderr",
       "text": [
        "77%\r"
       ]
      },
      {
       "output_type": "stream",
       "stream": "stderr",
       "text": [
        "78%\r"
       ]
      },
      {
       "output_type": "stream",
       "stream": "stderr",
       "text": [
        "79%\r"
       ]
      },
      {
       "output_type": "stream",
       "stream": "stderr",
       "text": [
        "80%\r"
       ]
      },
      {
       "output_type": "stream",
       "stream": "stderr",
       "text": [
        "81%\r"
       ]
      },
      {
       "output_type": "stream",
       "stream": "stderr",
       "text": [
        "82%\r"
       ]
      },
      {
       "output_type": "stream",
       "stream": "stderr",
       "text": [
        "83%\r"
       ]
      },
      {
       "output_type": "stream",
       "stream": "stderr",
       "text": [
        "84%\r"
       ]
      },
      {
       "output_type": "stream",
       "stream": "stderr",
       "text": [
        "85%\r"
       ]
      },
      {
       "output_type": "stream",
       "stream": "stderr",
       "text": [
        "86%\r"
       ]
      },
      {
       "output_type": "stream",
       "stream": "stderr",
       "text": [
        "87%\r"
       ]
      },
      {
       "output_type": "stream",
       "stream": "stderr",
       "text": [
        "88%\r"
       ]
      },
      {
       "output_type": "stream",
       "stream": "stderr",
       "text": [
        "89%\r"
       ]
      },
      {
       "output_type": "stream",
       "stream": "stderr",
       "text": [
        "90%\r"
       ]
      },
      {
       "output_type": "stream",
       "stream": "stderr",
       "text": [
        "91%\r"
       ]
      },
      {
       "output_type": "stream",
       "stream": "stderr",
       "text": [
        "92%\r"
       ]
      },
      {
       "output_type": "stream",
       "stream": "stderr",
       "text": [
        "93%\r"
       ]
      },
      {
       "output_type": "stream",
       "stream": "stderr",
       "text": [
        "94%\r"
       ]
      },
      {
       "output_type": "stream",
       "stream": "stderr",
       "text": [
        "95%\r"
       ]
      },
      {
       "output_type": "stream",
       "stream": "stderr",
       "text": [
        "96%\r"
       ]
      },
      {
       "output_type": "stream",
       "stream": "stderr",
       "text": [
        "97%\r"
       ]
      },
      {
       "output_type": "stream",
       "stream": "stderr",
       "text": [
        "98%\r"
       ]
      },
      {
       "output_type": "stream",
       "stream": "stderr",
       "text": [
        "99%\r"
       ]
      },
      {
       "output_type": "stream",
       "stream": "stderr",
       "text": [
        "100%\r"
       ]
      },
      {
       "output_type": "stream",
       "stream": "stderr",
       "text": [
        "100%\n"
       ]
      },
      {
       "output_type": "stream",
       "stream": "stdout",
       "text": [
        "\n",
        "  loss 1.35542334215\n",
        "  err  0.487630208333\n",
        "  (0:00:50)\n",
        "Epoch 22:"
       ]
      },
      {
       "output_type": "stream",
       "stream": "stderr",
       "text": [
        "1%\r"
       ]
      },
      {
       "output_type": "stream",
       "stream": "stderr",
       "text": [
        "2%\r"
       ]
      },
      {
       "output_type": "stream",
       "stream": "stderr",
       "text": [
        "3%\r"
       ]
      },
      {
       "output_type": "stream",
       "stream": "stderr",
       "text": [
        "4%\r"
       ]
      },
      {
       "output_type": "stream",
       "stream": "stderr",
       "text": [
        "5%\r"
       ]
      },
      {
       "output_type": "stream",
       "stream": "stderr",
       "text": [
        "6%\r"
       ]
      },
      {
       "output_type": "stream",
       "stream": "stderr",
       "text": [
        "7%\r"
       ]
      },
      {
       "output_type": "stream",
       "stream": "stderr",
       "text": [
        "8%\r"
       ]
      },
      {
       "output_type": "stream",
       "stream": "stderr",
       "text": [
        "9%\r"
       ]
      },
      {
       "output_type": "stream",
       "stream": "stderr",
       "text": [
        "10%\r"
       ]
      },
      {
       "output_type": "stream",
       "stream": "stderr",
       "text": [
        "11%\r"
       ]
      },
      {
       "output_type": "stream",
       "stream": "stderr",
       "text": [
        "12%\r"
       ]
      },
      {
       "output_type": "stream",
       "stream": "stderr",
       "text": [
        "13%\r"
       ]
      },
      {
       "output_type": "stream",
       "stream": "stderr",
       "text": [
        "14%\r"
       ]
      },
      {
       "output_type": "stream",
       "stream": "stderr",
       "text": [
        "15%\r"
       ]
      },
      {
       "output_type": "stream",
       "stream": "stderr",
       "text": [
        "16%\r"
       ]
      },
      {
       "output_type": "stream",
       "stream": "stderr",
       "text": [
        "17%\r"
       ]
      },
      {
       "output_type": "stream",
       "stream": "stderr",
       "text": [
        "18%\r"
       ]
      },
      {
       "output_type": "stream",
       "stream": "stderr",
       "text": [
        "19%\r"
       ]
      },
      {
       "output_type": "stream",
       "stream": "stderr",
       "text": [
        "20%\r"
       ]
      },
      {
       "output_type": "stream",
       "stream": "stderr",
       "text": [
        "21%\r"
       ]
      },
      {
       "output_type": "stream",
       "stream": "stderr",
       "text": [
        "22%\r"
       ]
      },
      {
       "output_type": "stream",
       "stream": "stderr",
       "text": [
        "23%\r"
       ]
      },
      {
       "output_type": "stream",
       "stream": "stderr",
       "text": [
        "24%\r"
       ]
      },
      {
       "output_type": "stream",
       "stream": "stderr",
       "text": [
        "25%\r"
       ]
      },
      {
       "output_type": "stream",
       "stream": "stderr",
       "text": [
        "26%\r"
       ]
      },
      {
       "output_type": "stream",
       "stream": "stderr",
       "text": [
        "27%\r"
       ]
      },
      {
       "output_type": "stream",
       "stream": "stderr",
       "text": [
        "28%\r"
       ]
      },
      {
       "output_type": "stream",
       "stream": "stderr",
       "text": [
        "29%\r"
       ]
      },
      {
       "output_type": "stream",
       "stream": "stderr",
       "text": [
        "30%\r"
       ]
      },
      {
       "output_type": "stream",
       "stream": "stderr",
       "text": [
        "31%\r"
       ]
      },
      {
       "output_type": "stream",
       "stream": "stderr",
       "text": [
        "32%\r"
       ]
      },
      {
       "output_type": "stream",
       "stream": "stderr",
       "text": [
        "33%\r"
       ]
      },
      {
       "output_type": "stream",
       "stream": "stderr",
       "text": [
        "34%\r"
       ]
      },
      {
       "output_type": "stream",
       "stream": "stderr",
       "text": [
        "35%\r"
       ]
      },
      {
       "output_type": "stream",
       "stream": "stderr",
       "text": [
        "36%\r"
       ]
      },
      {
       "output_type": "stream",
       "stream": "stderr",
       "text": [
        "37%\r"
       ]
      },
      {
       "output_type": "stream",
       "stream": "stderr",
       "text": [
        "38%\r"
       ]
      },
      {
       "output_type": "stream",
       "stream": "stderr",
       "text": [
        "39%\r"
       ]
      },
      {
       "output_type": "stream",
       "stream": "stderr",
       "text": [
        "40%\r"
       ]
      },
      {
       "output_type": "stream",
       "stream": "stderr",
       "text": [
        "41%\r"
       ]
      },
      {
       "output_type": "stream",
       "stream": "stderr",
       "text": [
        "42%\r"
       ]
      },
      {
       "output_type": "stream",
       "stream": "stderr",
       "text": [
        "43%\r"
       ]
      },
      {
       "output_type": "stream",
       "stream": "stderr",
       "text": [
        "44%\r"
       ]
      },
      {
       "output_type": "stream",
       "stream": "stderr",
       "text": [
        "45%\r"
       ]
      },
      {
       "output_type": "stream",
       "stream": "stderr",
       "text": [
        "46%\r"
       ]
      },
      {
       "output_type": "stream",
       "stream": "stderr",
       "text": [
        "47%\r"
       ]
      },
      {
       "output_type": "stream",
       "stream": "stderr",
       "text": [
        "48%\r"
       ]
      },
      {
       "output_type": "stream",
       "stream": "stderr",
       "text": [
        "49%\r"
       ]
      },
      {
       "output_type": "stream",
       "stream": "stderr",
       "text": [
        "50%\r"
       ]
      },
      {
       "output_type": "stream",
       "stream": "stderr",
       "text": [
        "51%\r"
       ]
      },
      {
       "output_type": "stream",
       "stream": "stderr",
       "text": [
        "52%\r"
       ]
      },
      {
       "output_type": "stream",
       "stream": "stderr",
       "text": [
        "53%\r"
       ]
      },
      {
       "output_type": "stream",
       "stream": "stderr",
       "text": [
        "54%\r"
       ]
      },
      {
       "output_type": "stream",
       "stream": "stderr",
       "text": [
        "55%\r"
       ]
      },
      {
       "output_type": "stream",
       "stream": "stderr",
       "text": [
        "56%\r"
       ]
      },
      {
       "output_type": "stream",
       "stream": "stderr",
       "text": [
        "57%\r"
       ]
      },
      {
       "output_type": "stream",
       "stream": "stderr",
       "text": [
        "58%\r"
       ]
      },
      {
       "output_type": "stream",
       "stream": "stderr",
       "text": [
        "59%\r"
       ]
      },
      {
       "output_type": "stream",
       "stream": "stderr",
       "text": [
        "60%\r"
       ]
      },
      {
       "output_type": "stream",
       "stream": "stderr",
       "text": [
        "61%\r"
       ]
      },
      {
       "output_type": "stream",
       "stream": "stderr",
       "text": [
        "62%\r"
       ]
      },
      {
       "output_type": "stream",
       "stream": "stderr",
       "text": [
        "63%\r"
       ]
      },
      {
       "output_type": "stream",
       "stream": "stderr",
       "text": [
        "64%\r"
       ]
      },
      {
       "output_type": "stream",
       "stream": "stderr",
       "text": [
        "65%\r"
       ]
      },
      {
       "output_type": "stream",
       "stream": "stderr",
       "text": [
        "66%\r"
       ]
      },
      {
       "output_type": "stream",
       "stream": "stderr",
       "text": [
        "67%\r"
       ]
      },
      {
       "output_type": "stream",
       "stream": "stderr",
       "text": [
        "68%\r"
       ]
      },
      {
       "output_type": "stream",
       "stream": "stderr",
       "text": [
        "69%\r"
       ]
      },
      {
       "output_type": "stream",
       "stream": "stderr",
       "text": [
        "70%\r"
       ]
      },
      {
       "output_type": "stream",
       "stream": "stderr",
       "text": [
        "71%\r"
       ]
      },
      {
       "output_type": "stream",
       "stream": "stderr",
       "text": [
        "72%\r"
       ]
      },
      {
       "output_type": "stream",
       "stream": "stderr",
       "text": [
        "73%\r"
       ]
      },
      {
       "output_type": "stream",
       "stream": "stderr",
       "text": [
        "74%\r"
       ]
      },
      {
       "output_type": "stream",
       "stream": "stderr",
       "text": [
        "75%\r"
       ]
      },
      {
       "output_type": "stream",
       "stream": "stderr",
       "text": [
        "76%\r"
       ]
      },
      {
       "output_type": "stream",
       "stream": "stderr",
       "text": [
        "77%\r"
       ]
      },
      {
       "output_type": "stream",
       "stream": "stderr",
       "text": [
        "78%\r"
       ]
      },
      {
       "output_type": "stream",
       "stream": "stderr",
       "text": [
        "79%\r"
       ]
      },
      {
       "output_type": "stream",
       "stream": "stderr",
       "text": [
        "80%\r"
       ]
      },
      {
       "output_type": "stream",
       "stream": "stderr",
       "text": [
        "81%\r"
       ]
      },
      {
       "output_type": "stream",
       "stream": "stderr",
       "text": [
        "82%\r"
       ]
      },
      {
       "output_type": "stream",
       "stream": "stderr",
       "text": [
        "83%\r"
       ]
      },
      {
       "output_type": "stream",
       "stream": "stderr",
       "text": [
        "84%\r"
       ]
      },
      {
       "output_type": "stream",
       "stream": "stderr",
       "text": [
        "85%\r"
       ]
      },
      {
       "output_type": "stream",
       "stream": "stderr",
       "text": [
        "86%\r"
       ]
      },
      {
       "output_type": "stream",
       "stream": "stderr",
       "text": [
        "87%\r"
       ]
      },
      {
       "output_type": "stream",
       "stream": "stderr",
       "text": [
        "88%\r"
       ]
      },
      {
       "output_type": "stream",
       "stream": "stderr",
       "text": [
        "89%\r"
       ]
      },
      {
       "output_type": "stream",
       "stream": "stderr",
       "text": [
        "90%\r"
       ]
      },
      {
       "output_type": "stream",
       "stream": "stderr",
       "text": [
        "91%\r"
       ]
      },
      {
       "output_type": "stream",
       "stream": "stderr",
       "text": [
        "92%\r"
       ]
      },
      {
       "output_type": "stream",
       "stream": "stderr",
       "text": [
        "93%\r"
       ]
      },
      {
       "output_type": "stream",
       "stream": "stderr",
       "text": [
        "94%\r"
       ]
      },
      {
       "output_type": "stream",
       "stream": "stderr",
       "text": [
        "95%\r"
       ]
      },
      {
       "output_type": "stream",
       "stream": "stderr",
       "text": [
        "96%\r"
       ]
      },
      {
       "output_type": "stream",
       "stream": "stderr",
       "text": [
        "97%\r"
       ]
      },
      {
       "output_type": "stream",
       "stream": "stderr",
       "text": [
        "98%\r"
       ]
      },
      {
       "output_type": "stream",
       "stream": "stderr",
       "text": [
        "99%\r"
       ]
      },
      {
       "output_type": "stream",
       "stream": "stderr",
       "text": [
        "100%\r"
       ]
      },
      {
       "output_type": "stream",
       "stream": "stderr",
       "text": [
        "100%\n"
       ]
      },
      {
       "output_type": "stream",
       "stream": "stdout",
       "text": [
        "\n",
        "  loss 1.34763540748\n",
        "  err  0.477313701923\n",
        "  (0:00:44)\n",
        "Epoch 23:"
       ]
      },
      {
       "output_type": "stream",
       "stream": "stderr",
       "text": [
        "1%\r"
       ]
      },
      {
       "output_type": "stream",
       "stream": "stderr",
       "text": [
        "2%\r"
       ]
      },
      {
       "output_type": "stream",
       "stream": "stderr",
       "text": [
        "3%\r"
       ]
      },
      {
       "output_type": "stream",
       "stream": "stderr",
       "text": [
        "4%\r"
       ]
      },
      {
       "output_type": "stream",
       "stream": "stderr",
       "text": [
        "5%\r"
       ]
      },
      {
       "output_type": "stream",
       "stream": "stderr",
       "text": [
        "6%\r"
       ]
      },
      {
       "output_type": "stream",
       "stream": "stderr",
       "text": [
        "7%\r"
       ]
      },
      {
       "output_type": "stream",
       "stream": "stderr",
       "text": [
        "8%\r"
       ]
      },
      {
       "output_type": "stream",
       "stream": "stderr",
       "text": [
        "9%\r"
       ]
      },
      {
       "output_type": "stream",
       "stream": "stderr",
       "text": [
        "10%\r"
       ]
      },
      {
       "output_type": "stream",
       "stream": "stderr",
       "text": [
        "11%\r"
       ]
      },
      {
       "output_type": "stream",
       "stream": "stderr",
       "text": [
        "12%\r"
       ]
      },
      {
       "output_type": "stream",
       "stream": "stderr",
       "text": [
        "13%\r"
       ]
      },
      {
       "output_type": "stream",
       "stream": "stderr",
       "text": [
        "14%\r"
       ]
      },
      {
       "output_type": "stream",
       "stream": "stderr",
       "text": [
        "15%\r"
       ]
      },
      {
       "output_type": "stream",
       "stream": "stderr",
       "text": [
        "16%\r"
       ]
      },
      {
       "output_type": "stream",
       "stream": "stderr",
       "text": [
        "17%\r"
       ]
      },
      {
       "output_type": "stream",
       "stream": "stderr",
       "text": [
        "18%\r"
       ]
      },
      {
       "output_type": "stream",
       "stream": "stderr",
       "text": [
        "19%\r"
       ]
      },
      {
       "output_type": "stream",
       "stream": "stderr",
       "text": [
        "20%\r"
       ]
      },
      {
       "output_type": "stream",
       "stream": "stderr",
       "text": [
        "21%\r"
       ]
      },
      {
       "output_type": "stream",
       "stream": "stderr",
       "text": [
        "22%\r"
       ]
      },
      {
       "output_type": "stream",
       "stream": "stderr",
       "text": [
        "23%\r"
       ]
      },
      {
       "output_type": "stream",
       "stream": "stderr",
       "text": [
        "24%\r"
       ]
      },
      {
       "output_type": "stream",
       "stream": "stderr",
       "text": [
        "25%\r"
       ]
      },
      {
       "output_type": "stream",
       "stream": "stderr",
       "text": [
        "26%\r"
       ]
      },
      {
       "output_type": "stream",
       "stream": "stderr",
       "text": [
        "27%\r"
       ]
      },
      {
       "output_type": "stream",
       "stream": "stderr",
       "text": [
        "28%\r"
       ]
      },
      {
       "output_type": "stream",
       "stream": "stderr",
       "text": [
        "29%\r"
       ]
      },
      {
       "output_type": "stream",
       "stream": "stderr",
       "text": [
        "30%\r"
       ]
      },
      {
       "output_type": "stream",
       "stream": "stderr",
       "text": [
        "31%\r"
       ]
      },
      {
       "output_type": "stream",
       "stream": "stderr",
       "text": [
        "32%\r"
       ]
      },
      {
       "output_type": "stream",
       "stream": "stderr",
       "text": [
        "33%\r"
       ]
      },
      {
       "output_type": "stream",
       "stream": "stderr",
       "text": [
        "34%\r"
       ]
      },
      {
       "output_type": "stream",
       "stream": "stderr",
       "text": [
        "35%\r"
       ]
      },
      {
       "output_type": "stream",
       "stream": "stderr",
       "text": [
        "36%\r"
       ]
      },
      {
       "output_type": "stream",
       "stream": "stderr",
       "text": [
        "37%\r"
       ]
      },
      {
       "output_type": "stream",
       "stream": "stderr",
       "text": [
        "38%\r"
       ]
      },
      {
       "output_type": "stream",
       "stream": "stderr",
       "text": [
        "39%\r"
       ]
      },
      {
       "output_type": "stream",
       "stream": "stderr",
       "text": [
        "40%\r"
       ]
      },
      {
       "output_type": "stream",
       "stream": "stderr",
       "text": [
        "41%\r"
       ]
      },
      {
       "output_type": "stream",
       "stream": "stderr",
       "text": [
        "42%\r"
       ]
      },
      {
       "output_type": "stream",
       "stream": "stderr",
       "text": [
        "43%\r"
       ]
      },
      {
       "output_type": "stream",
       "stream": "stderr",
       "text": [
        "44%\r"
       ]
      },
      {
       "output_type": "stream",
       "stream": "stderr",
       "text": [
        "45%\r"
       ]
      },
      {
       "output_type": "stream",
       "stream": "stderr",
       "text": [
        "46%\r"
       ]
      },
      {
       "output_type": "stream",
       "stream": "stderr",
       "text": [
        "47%\r"
       ]
      },
      {
       "output_type": "stream",
       "stream": "stderr",
       "text": [
        "48%\r"
       ]
      },
      {
       "output_type": "stream",
       "stream": "stderr",
       "text": [
        "49%\r"
       ]
      },
      {
       "output_type": "stream",
       "stream": "stderr",
       "text": [
        "50%\r"
       ]
      },
      {
       "output_type": "stream",
       "stream": "stderr",
       "text": [
        "51%\r"
       ]
      },
      {
       "output_type": "stream",
       "stream": "stderr",
       "text": [
        "52%\r"
       ]
      },
      {
       "output_type": "stream",
       "stream": "stderr",
       "text": [
        "53%\r"
       ]
      },
      {
       "output_type": "stream",
       "stream": "stderr",
       "text": [
        "54%\r"
       ]
      },
      {
       "output_type": "stream",
       "stream": "stderr",
       "text": [
        "55%\r"
       ]
      },
      {
       "output_type": "stream",
       "stream": "stderr",
       "text": [
        "56%\r"
       ]
      },
      {
       "output_type": "stream",
       "stream": "stderr",
       "text": [
        "57%\r"
       ]
      },
      {
       "output_type": "stream",
       "stream": "stderr",
       "text": [
        "58%\r"
       ]
      },
      {
       "output_type": "stream",
       "stream": "stderr",
       "text": [
        "59%\r"
       ]
      },
      {
       "output_type": "stream",
       "stream": "stderr",
       "text": [
        "60%\r"
       ]
      },
      {
       "output_type": "stream",
       "stream": "stderr",
       "text": [
        "61%\r"
       ]
      },
      {
       "output_type": "stream",
       "stream": "stderr",
       "text": [
        "62%\r"
       ]
      },
      {
       "output_type": "stream",
       "stream": "stderr",
       "text": [
        "63%\r"
       ]
      },
      {
       "output_type": "stream",
       "stream": "stderr",
       "text": [
        "64%\r"
       ]
      },
      {
       "output_type": "stream",
       "stream": "stderr",
       "text": [
        "65%\r"
       ]
      },
      {
       "output_type": "stream",
       "stream": "stderr",
       "text": [
        "66%\r"
       ]
      },
      {
       "output_type": "stream",
       "stream": "stderr",
       "text": [
        "67%\r"
       ]
      },
      {
       "output_type": "stream",
       "stream": "stderr",
       "text": [
        "68%\r"
       ]
      },
      {
       "output_type": "stream",
       "stream": "stderr",
       "text": [
        "69%\r"
       ]
      },
      {
       "output_type": "stream",
       "stream": "stderr",
       "text": [
        "70%\r"
       ]
      },
      {
       "output_type": "stream",
       "stream": "stderr",
       "text": [
        "71%\r"
       ]
      },
      {
       "output_type": "stream",
       "stream": "stderr",
       "text": [
        "72%\r"
       ]
      },
      {
       "output_type": "stream",
       "stream": "stderr",
       "text": [
        "73%\r"
       ]
      },
      {
       "output_type": "stream",
       "stream": "stderr",
       "text": [
        "74%\r"
       ]
      },
      {
       "output_type": "stream",
       "stream": "stderr",
       "text": [
        "75%\r"
       ]
      },
      {
       "output_type": "stream",
       "stream": "stderr",
       "text": [
        "76%\r"
       ]
      },
      {
       "output_type": "stream",
       "stream": "stderr",
       "text": [
        "77%\r"
       ]
      },
      {
       "output_type": "stream",
       "stream": "stderr",
       "text": [
        "78%\r"
       ]
      },
      {
       "output_type": "stream",
       "stream": "stderr",
       "text": [
        "79%\r"
       ]
      },
      {
       "output_type": "stream",
       "stream": "stderr",
       "text": [
        "80%\r"
       ]
      },
      {
       "output_type": "stream",
       "stream": "stderr",
       "text": [
        "81%\r"
       ]
      },
      {
       "output_type": "stream",
       "stream": "stderr",
       "text": [
        "82%\r"
       ]
      },
      {
       "output_type": "stream",
       "stream": "stderr",
       "text": [
        "83%\r"
       ]
      },
      {
       "output_type": "stream",
       "stream": "stderr",
       "text": [
        "84%\r"
       ]
      },
      {
       "output_type": "stream",
       "stream": "stderr",
       "text": [
        "85%\r"
       ]
      },
      {
       "output_type": "stream",
       "stream": "stderr",
       "text": [
        "86%\r"
       ]
      },
      {
       "output_type": "stream",
       "stream": "stderr",
       "text": [
        "87%\r"
       ]
      },
      {
       "output_type": "stream",
       "stream": "stderr",
       "text": [
        "88%\r"
       ]
      },
      {
       "output_type": "stream",
       "stream": "stderr",
       "text": [
        "89%\r"
       ]
      },
      {
       "output_type": "stream",
       "stream": "stderr",
       "text": [
        "90%\r"
       ]
      },
      {
       "output_type": "stream",
       "stream": "stderr",
       "text": [
        "91%\r"
       ]
      },
      {
       "output_type": "stream",
       "stream": "stderr",
       "text": [
        "92%\r"
       ]
      },
      {
       "output_type": "stream",
       "stream": "stderr",
       "text": [
        "93%\r"
       ]
      },
      {
       "output_type": "stream",
       "stream": "stderr",
       "text": [
        "94%\r"
       ]
      },
      {
       "output_type": "stream",
       "stream": "stderr",
       "text": [
        "95%\r"
       ]
      },
      {
       "output_type": "stream",
       "stream": "stderr",
       "text": [
        "96%\r"
       ]
      },
      {
       "output_type": "stream",
       "stream": "stderr",
       "text": [
        "97%\r"
       ]
      },
      {
       "output_type": "stream",
       "stream": "stderr",
       "text": [
        "98%\r"
       ]
      },
      {
       "output_type": "stream",
       "stream": "stderr",
       "text": [
        "99%\r"
       ]
      },
      {
       "output_type": "stream",
       "stream": "stderr",
       "text": [
        "100%\r"
       ]
      },
      {
       "output_type": "stream",
       "stream": "stderr",
       "text": [
        "100%\n"
       ]
      },
      {
       "output_type": "stream",
       "stream": "stdout",
       "text": [
        "\n",
        "  loss 1.3335759976\n",
        "  err  0.474659455128\n",
        "  (0:00:48)\n",
        "Epoch 24:"
       ]
      },
      {
       "output_type": "stream",
       "stream": "stderr",
       "text": [
        "1%\r"
       ]
      },
      {
       "output_type": "stream",
       "stream": "stderr",
       "text": [
        "2%\r"
       ]
      },
      {
       "output_type": "stream",
       "stream": "stderr",
       "text": [
        "3%\r"
       ]
      },
      {
       "output_type": "stream",
       "stream": "stderr",
       "text": [
        "4%\r"
       ]
      },
      {
       "output_type": "stream",
       "stream": "stderr",
       "text": [
        "5%\r"
       ]
      },
      {
       "output_type": "stream",
       "stream": "stderr",
       "text": [
        "6%\r"
       ]
      },
      {
       "output_type": "stream",
       "stream": "stderr",
       "text": [
        "7%\r"
       ]
      },
      {
       "output_type": "stream",
       "stream": "stderr",
       "text": [
        "8%\r"
       ]
      },
      {
       "output_type": "stream",
       "stream": "stderr",
       "text": [
        "9%\r"
       ]
      },
      {
       "output_type": "stream",
       "stream": "stderr",
       "text": [
        "10%\r"
       ]
      },
      {
       "output_type": "stream",
       "stream": "stderr",
       "text": [
        "11%\r"
       ]
      },
      {
       "output_type": "stream",
       "stream": "stderr",
       "text": [
        "12%\r"
       ]
      },
      {
       "output_type": "stream",
       "stream": "stderr",
       "text": [
        "13%\r"
       ]
      },
      {
       "output_type": "stream",
       "stream": "stderr",
       "text": [
        "14%\r"
       ]
      },
      {
       "output_type": "stream",
       "stream": "stderr",
       "text": [
        "15%\r"
       ]
      },
      {
       "output_type": "stream",
       "stream": "stderr",
       "text": [
        "16%\r"
       ]
      },
      {
       "output_type": "stream",
       "stream": "stderr",
       "text": [
        "17%\r"
       ]
      },
      {
       "output_type": "stream",
       "stream": "stderr",
       "text": [
        "18%\r"
       ]
      },
      {
       "output_type": "stream",
       "stream": "stderr",
       "text": [
        "19%\r"
       ]
      },
      {
       "output_type": "stream",
       "stream": "stderr",
       "text": [
        "20%\r"
       ]
      },
      {
       "output_type": "stream",
       "stream": "stderr",
       "text": [
        "21%\r"
       ]
      },
      {
       "output_type": "stream",
       "stream": "stderr",
       "text": [
        "22%\r"
       ]
      },
      {
       "output_type": "stream",
       "stream": "stderr",
       "text": [
        "23%\r"
       ]
      },
      {
       "output_type": "stream",
       "stream": "stderr",
       "text": [
        "24%\r"
       ]
      },
      {
       "output_type": "stream",
       "stream": "stderr",
       "text": [
        "25%\r"
       ]
      },
      {
       "output_type": "stream",
       "stream": "stderr",
       "text": [
        "26%\r"
       ]
      },
      {
       "output_type": "stream",
       "stream": "stderr",
       "text": [
        "27%\r"
       ]
      },
      {
       "output_type": "stream",
       "stream": "stderr",
       "text": [
        "28%\r"
       ]
      },
      {
       "output_type": "stream",
       "stream": "stderr",
       "text": [
        "29%\r"
       ]
      },
      {
       "output_type": "stream",
       "stream": "stderr",
       "text": [
        "30%\r"
       ]
      },
      {
       "output_type": "stream",
       "stream": "stderr",
       "text": [
        "31%\r"
       ]
      },
      {
       "output_type": "stream",
       "stream": "stderr",
       "text": [
        "32%\r"
       ]
      },
      {
       "output_type": "stream",
       "stream": "stderr",
       "text": [
        "33%\r"
       ]
      },
      {
       "output_type": "stream",
       "stream": "stderr",
       "text": [
        "34%\r"
       ]
      },
      {
       "output_type": "stream",
       "stream": "stderr",
       "text": [
        "35%\r"
       ]
      },
      {
       "output_type": "stream",
       "stream": "stderr",
       "text": [
        "36%\r"
       ]
      },
      {
       "output_type": "stream",
       "stream": "stderr",
       "text": [
        "37%\r"
       ]
      },
      {
       "output_type": "stream",
       "stream": "stderr",
       "text": [
        "38%\r"
       ]
      },
      {
       "output_type": "stream",
       "stream": "stderr",
       "text": [
        "39%\r"
       ]
      },
      {
       "output_type": "stream",
       "stream": "stderr",
       "text": [
        "40%\r"
       ]
      },
      {
       "output_type": "stream",
       "stream": "stderr",
       "text": [
        "41%\r"
       ]
      },
      {
       "output_type": "stream",
       "stream": "stderr",
       "text": [
        "42%\r"
       ]
      },
      {
       "output_type": "stream",
       "stream": "stderr",
       "text": [
        "43%\r"
       ]
      },
      {
       "output_type": "stream",
       "stream": "stderr",
       "text": [
        "44%\r"
       ]
      },
      {
       "output_type": "stream",
       "stream": "stderr",
       "text": [
        "45%\r"
       ]
      },
      {
       "output_type": "stream",
       "stream": "stderr",
       "text": [
        "46%\r"
       ]
      },
      {
       "output_type": "stream",
       "stream": "stderr",
       "text": [
        "47%\r"
       ]
      },
      {
       "output_type": "stream",
       "stream": "stderr",
       "text": [
        "48%\r"
       ]
      },
      {
       "output_type": "stream",
       "stream": "stderr",
       "text": [
        "49%\r"
       ]
      },
      {
       "output_type": "stream",
       "stream": "stderr",
       "text": [
        "50%\r"
       ]
      },
      {
       "output_type": "stream",
       "stream": "stderr",
       "text": [
        "51%\r"
       ]
      },
      {
       "output_type": "stream",
       "stream": "stderr",
       "text": [
        "52%\r"
       ]
      },
      {
       "output_type": "stream",
       "stream": "stderr",
       "text": [
        "53%\r"
       ]
      },
      {
       "output_type": "stream",
       "stream": "stderr",
       "text": [
        "54%\r"
       ]
      },
      {
       "output_type": "stream",
       "stream": "stderr",
       "text": [
        "55%\r"
       ]
      },
      {
       "output_type": "stream",
       "stream": "stderr",
       "text": [
        "56%\r"
       ]
      },
      {
       "output_type": "stream",
       "stream": "stderr",
       "text": [
        "57%\r"
       ]
      },
      {
       "output_type": "stream",
       "stream": "stderr",
       "text": [
        "58%\r"
       ]
      },
      {
       "output_type": "stream",
       "stream": "stderr",
       "text": [
        "59%\r"
       ]
      },
      {
       "output_type": "stream",
       "stream": "stderr",
       "text": [
        "60%\r"
       ]
      },
      {
       "output_type": "stream",
       "stream": "stderr",
       "text": [
        "61%\r"
       ]
      },
      {
       "output_type": "stream",
       "stream": "stderr",
       "text": [
        "62%\r"
       ]
      },
      {
       "output_type": "stream",
       "stream": "stderr",
       "text": [
        "63%\r"
       ]
      },
      {
       "output_type": "stream",
       "stream": "stderr",
       "text": [
        "64%\r"
       ]
      },
      {
       "output_type": "stream",
       "stream": "stderr",
       "text": [
        "65%\r"
       ]
      },
      {
       "output_type": "stream",
       "stream": "stderr",
       "text": [
        "66%\r"
       ]
      },
      {
       "output_type": "stream",
       "stream": "stderr",
       "text": [
        "67%\r"
       ]
      },
      {
       "output_type": "stream",
       "stream": "stderr",
       "text": [
        "68%\r"
       ]
      },
      {
       "output_type": "stream",
       "stream": "stderr",
       "text": [
        "69%\r"
       ]
      },
      {
       "output_type": "stream",
       "stream": "stderr",
       "text": [
        "70%\r"
       ]
      },
      {
       "output_type": "stream",
       "stream": "stderr",
       "text": [
        "71%\r"
       ]
      },
      {
       "output_type": "stream",
       "stream": "stderr",
       "text": [
        "72%\r"
       ]
      },
      {
       "output_type": "stream",
       "stream": "stderr",
       "text": [
        "73%\r"
       ]
      },
      {
       "output_type": "stream",
       "stream": "stderr",
       "text": [
        "74%\r"
       ]
      },
      {
       "output_type": "stream",
       "stream": "stderr",
       "text": [
        "75%\r"
       ]
      },
      {
       "output_type": "stream",
       "stream": "stderr",
       "text": [
        "76%\r"
       ]
      },
      {
       "output_type": "stream",
       "stream": "stderr",
       "text": [
        "77%\r"
       ]
      },
      {
       "output_type": "stream",
       "stream": "stderr",
       "text": [
        "78%\r"
       ]
      },
      {
       "output_type": "stream",
       "stream": "stderr",
       "text": [
        "79%\r"
       ]
      },
      {
       "output_type": "stream",
       "stream": "stderr",
       "text": [
        "80%\r"
       ]
      },
      {
       "output_type": "stream",
       "stream": "stderr",
       "text": [
        "81%\r"
       ]
      },
      {
       "output_type": "stream",
       "stream": "stderr",
       "text": [
        "82%\r"
       ]
      },
      {
       "output_type": "stream",
       "stream": "stderr",
       "text": [
        "83%\r"
       ]
      },
      {
       "output_type": "stream",
       "stream": "stderr",
       "text": [
        "84%\r"
       ]
      },
      {
       "output_type": "stream",
       "stream": "stderr",
       "text": [
        "85%\r"
       ]
      },
      {
       "output_type": "stream",
       "stream": "stderr",
       "text": [
        "86%\r"
       ]
      },
      {
       "output_type": "stream",
       "stream": "stderr",
       "text": [
        "87%\r"
       ]
      },
      {
       "output_type": "stream",
       "stream": "stderr",
       "text": [
        "88%\r"
       ]
      },
      {
       "output_type": "stream",
       "stream": "stderr",
       "text": [
        "89%\r"
       ]
      },
      {
       "output_type": "stream",
       "stream": "stderr",
       "text": [
        "90%\r"
       ]
      },
      {
       "output_type": "stream",
       "stream": "stderr",
       "text": [
        "91%\r"
       ]
      },
      {
       "output_type": "stream",
       "stream": "stderr",
       "text": [
        "92%\r"
       ]
      },
      {
       "output_type": "stream",
       "stream": "stderr",
       "text": [
        "93%\r"
       ]
      },
      {
       "output_type": "stream",
       "stream": "stderr",
       "text": [
        "94%\r"
       ]
      },
      {
       "output_type": "stream",
       "stream": "stderr",
       "text": [
        "95%\r"
       ]
      },
      {
       "output_type": "stream",
       "stream": "stderr",
       "text": [
        "96%\r"
       ]
      },
      {
       "output_type": "stream",
       "stream": "stderr",
       "text": [
        "97%\r"
       ]
      },
      {
       "output_type": "stream",
       "stream": "stderr",
       "text": [
        "98%\r"
       ]
      },
      {
       "output_type": "stream",
       "stream": "stderr",
       "text": [
        "99%\r"
       ]
      },
      {
       "output_type": "stream",
       "stream": "stderr",
       "text": [
        "100%\r"
       ]
      },
      {
       "output_type": "stream",
       "stream": "stderr",
       "text": [
        "100%\n"
       ]
      },
      {
       "output_type": "stream",
       "stream": "stdout",
       "text": [
        "\n",
        "  loss 1.31168687133\n",
        "  err  0.469801682692\n",
        "  (0:00:46)\n",
        "Epoch 25:"
       ]
      },
      {
       "output_type": "stream",
       "stream": "stderr",
       "text": [
        "1%\r"
       ]
      },
      {
       "output_type": "stream",
       "stream": "stderr",
       "text": [
        "2%\r"
       ]
      },
      {
       "output_type": "stream",
       "stream": "stderr",
       "text": [
        "3%\r"
       ]
      },
      {
       "output_type": "stream",
       "stream": "stderr",
       "text": [
        "4%\r"
       ]
      },
      {
       "output_type": "stream",
       "stream": "stderr",
       "text": [
        "5%\r"
       ]
      },
      {
       "output_type": "stream",
       "stream": "stderr",
       "text": [
        "6%\r"
       ]
      },
      {
       "output_type": "stream",
       "stream": "stderr",
       "text": [
        "7%\r"
       ]
      },
      {
       "output_type": "stream",
       "stream": "stderr",
       "text": [
        "8%\r"
       ]
      },
      {
       "output_type": "stream",
       "stream": "stderr",
       "text": [
        "9%\r"
       ]
      },
      {
       "output_type": "stream",
       "stream": "stderr",
       "text": [
        "10%\r"
       ]
      },
      {
       "output_type": "stream",
       "stream": "stderr",
       "text": [
        "11%\r"
       ]
      },
      {
       "output_type": "stream",
       "stream": "stderr",
       "text": [
        "12%\r"
       ]
      },
      {
       "output_type": "stream",
       "stream": "stderr",
       "text": [
        "13%\r"
       ]
      },
      {
       "output_type": "stream",
       "stream": "stderr",
       "text": [
        "14%\r"
       ]
      },
      {
       "output_type": "stream",
       "stream": "stderr",
       "text": [
        "15%\r"
       ]
      },
      {
       "output_type": "stream",
       "stream": "stderr",
       "text": [
        "16%\r"
       ]
      },
      {
       "output_type": "stream",
       "stream": "stderr",
       "text": [
        "17%\r"
       ]
      },
      {
       "output_type": "stream",
       "stream": "stderr",
       "text": [
        "18%\r"
       ]
      },
      {
       "output_type": "stream",
       "stream": "stderr",
       "text": [
        "19%\r"
       ]
      },
      {
       "output_type": "stream",
       "stream": "stderr",
       "text": [
        "20%\r"
       ]
      },
      {
       "output_type": "stream",
       "stream": "stderr",
       "text": [
        "21%\r"
       ]
      },
      {
       "output_type": "stream",
       "stream": "stderr",
       "text": [
        "22%\r"
       ]
      },
      {
       "output_type": "stream",
       "stream": "stderr",
       "text": [
        "23%\r"
       ]
      },
      {
       "output_type": "stream",
       "stream": "stderr",
       "text": [
        "24%\r"
       ]
      },
      {
       "output_type": "stream",
       "stream": "stderr",
       "text": [
        "25%\r"
       ]
      },
      {
       "output_type": "stream",
       "stream": "stderr",
       "text": [
        "26%\r"
       ]
      },
      {
       "output_type": "stream",
       "stream": "stderr",
       "text": [
        "27%\r"
       ]
      },
      {
       "output_type": "stream",
       "stream": "stderr",
       "text": [
        "28%\r"
       ]
      },
      {
       "output_type": "stream",
       "stream": "stderr",
       "text": [
        "29%\r"
       ]
      },
      {
       "output_type": "stream",
       "stream": "stderr",
       "text": [
        "30%\r"
       ]
      },
      {
       "output_type": "stream",
       "stream": "stderr",
       "text": [
        "31%\r"
       ]
      },
      {
       "output_type": "stream",
       "stream": "stderr",
       "text": [
        "32%\r"
       ]
      },
      {
       "output_type": "stream",
       "stream": "stderr",
       "text": [
        "33%\r"
       ]
      },
      {
       "output_type": "stream",
       "stream": "stderr",
       "text": [
        "34%\r"
       ]
      },
      {
       "output_type": "stream",
       "stream": "stderr",
       "text": [
        "35%\r"
       ]
      },
      {
       "output_type": "stream",
       "stream": "stderr",
       "text": [
        "36%\r"
       ]
      },
      {
       "output_type": "stream",
       "stream": "stderr",
       "text": [
        "37%\r"
       ]
      },
      {
       "output_type": "stream",
       "stream": "stderr",
       "text": [
        "38%\r"
       ]
      },
      {
       "output_type": "stream",
       "stream": "stderr",
       "text": [
        "39%\r"
       ]
      },
      {
       "output_type": "stream",
       "stream": "stderr",
       "text": [
        "40%\r"
       ]
      },
      {
       "output_type": "stream",
       "stream": "stderr",
       "text": [
        "41%\r"
       ]
      },
      {
       "output_type": "stream",
       "stream": "stderr",
       "text": [
        "42%\r"
       ]
      },
      {
       "output_type": "stream",
       "stream": "stderr",
       "text": [
        "43%\r"
       ]
      },
      {
       "output_type": "stream",
       "stream": "stderr",
       "text": [
        "44%\r"
       ]
      },
      {
       "output_type": "stream",
       "stream": "stderr",
       "text": [
        "45%\r"
       ]
      },
      {
       "output_type": "stream",
       "stream": "stderr",
       "text": [
        "46%\r"
       ]
      },
      {
       "output_type": "stream",
       "stream": "stderr",
       "text": [
        "47%\r"
       ]
      },
      {
       "output_type": "stream",
       "stream": "stderr",
       "text": [
        "48%\r"
       ]
      },
      {
       "output_type": "stream",
       "stream": "stderr",
       "text": [
        "49%\r"
       ]
      },
      {
       "output_type": "stream",
       "stream": "stderr",
       "text": [
        "50%\r"
       ]
      },
      {
       "output_type": "stream",
       "stream": "stderr",
       "text": [
        "51%\r"
       ]
      },
      {
       "output_type": "stream",
       "stream": "stderr",
       "text": [
        "52%\r"
       ]
      },
      {
       "output_type": "stream",
       "stream": "stderr",
       "text": [
        "53%\r"
       ]
      },
      {
       "output_type": "stream",
       "stream": "stderr",
       "text": [
        "54%\r"
       ]
      },
      {
       "output_type": "stream",
       "stream": "stderr",
       "text": [
        "55%\r"
       ]
      },
      {
       "output_type": "stream",
       "stream": "stderr",
       "text": [
        "56%\r"
       ]
      },
      {
       "output_type": "stream",
       "stream": "stderr",
       "text": [
        "57%\r"
       ]
      },
      {
       "output_type": "stream",
       "stream": "stderr",
       "text": [
        "58%\r"
       ]
      },
      {
       "output_type": "stream",
       "stream": "stderr",
       "text": [
        "59%\r"
       ]
      },
      {
       "output_type": "stream",
       "stream": "stderr",
       "text": [
        "60%\r"
       ]
      },
      {
       "output_type": "stream",
       "stream": "stderr",
       "text": [
        "61%\r"
       ]
      },
      {
       "output_type": "stream",
       "stream": "stderr",
       "text": [
        "62%\r"
       ]
      },
      {
       "output_type": "stream",
       "stream": "stderr",
       "text": [
        "63%\r"
       ]
      },
      {
       "output_type": "stream",
       "stream": "stderr",
       "text": [
        "64%\r"
       ]
      },
      {
       "output_type": "stream",
       "stream": "stderr",
       "text": [
        "65%\r"
       ]
      },
      {
       "output_type": "stream",
       "stream": "stderr",
       "text": [
        "66%\r"
       ]
      },
      {
       "output_type": "stream",
       "stream": "stderr",
       "text": [
        "67%\r"
       ]
      },
      {
       "output_type": "stream",
       "stream": "stderr",
       "text": [
        "68%\r"
       ]
      },
      {
       "output_type": "stream",
       "stream": "stderr",
       "text": [
        "69%\r"
       ]
      },
      {
       "output_type": "stream",
       "stream": "stderr",
       "text": [
        "70%\r"
       ]
      },
      {
       "output_type": "stream",
       "stream": "stderr",
       "text": [
        "71%\r"
       ]
      },
      {
       "output_type": "stream",
       "stream": "stderr",
       "text": [
        "72%\r"
       ]
      },
      {
       "output_type": "stream",
       "stream": "stderr",
       "text": [
        "73%\r"
       ]
      },
      {
       "output_type": "stream",
       "stream": "stderr",
       "text": [
        "74%\r"
       ]
      },
      {
       "output_type": "stream",
       "stream": "stderr",
       "text": [
        "75%\r"
       ]
      },
      {
       "output_type": "stream",
       "stream": "stderr",
       "text": [
        "76%\r"
       ]
      },
      {
       "output_type": "stream",
       "stream": "stderr",
       "text": [
        "77%\r"
       ]
      },
      {
       "output_type": "stream",
       "stream": "stderr",
       "text": [
        "78%\r"
       ]
      },
      {
       "output_type": "stream",
       "stream": "stderr",
       "text": [
        "79%\r"
       ]
      },
      {
       "output_type": "stream",
       "stream": "stderr",
       "text": [
        "80%\r"
       ]
      },
      {
       "output_type": "stream",
       "stream": "stderr",
       "text": [
        "81%\r"
       ]
      },
      {
       "output_type": "stream",
       "stream": "stderr",
       "text": [
        "82%\r"
       ]
      },
      {
       "output_type": "stream",
       "stream": "stderr",
       "text": [
        "83%\r"
       ]
      },
      {
       "output_type": "stream",
       "stream": "stderr",
       "text": [
        "84%\r"
       ]
      },
      {
       "output_type": "stream",
       "stream": "stderr",
       "text": [
        "85%\r"
       ]
      },
      {
       "output_type": "stream",
       "stream": "stderr",
       "text": [
        "86%\r"
       ]
      },
      {
       "output_type": "stream",
       "stream": "stderr",
       "text": [
        "87%\r"
       ]
      },
      {
       "output_type": "stream",
       "stream": "stderr",
       "text": [
        "88%\r"
       ]
      },
      {
       "output_type": "stream",
       "stream": "stderr",
       "text": [
        "89%\r"
       ]
      },
      {
       "output_type": "stream",
       "stream": "stderr",
       "text": [
        "90%\r"
       ]
      },
      {
       "output_type": "stream",
       "stream": "stderr",
       "text": [
        "91%\r"
       ]
      },
      {
       "output_type": "stream",
       "stream": "stderr",
       "text": [
        "92%\r"
       ]
      },
      {
       "output_type": "stream",
       "stream": "stderr",
       "text": [
        "93%\r"
       ]
      },
      {
       "output_type": "stream",
       "stream": "stderr",
       "text": [
        "94%\r"
       ]
      },
      {
       "output_type": "stream",
       "stream": "stderr",
       "text": [
        "95%\r"
       ]
      },
      {
       "output_type": "stream",
       "stream": "stderr",
       "text": [
        "96%\r"
       ]
      },
      {
       "output_type": "stream",
       "stream": "stderr",
       "text": [
        "97%\r"
       ]
      },
      {
       "output_type": "stream",
       "stream": "stderr",
       "text": [
        "98%\r"
       ]
      },
      {
       "output_type": "stream",
       "stream": "stderr",
       "text": [
        "99%\r"
       ]
      },
      {
       "output_type": "stream",
       "stream": "stderr",
       "text": [
        "100%\r"
       ]
      },
      {
       "output_type": "stream",
       "stream": "stderr",
       "text": [
        "100%\n"
       ]
      },
      {
       "output_type": "stream",
       "stream": "stdout",
       "text": [
        "\n",
        "  loss 1.30975431318\n",
        "  err  0.470903445513\n",
        "  (0:00:41)\n",
        "Epoch 26:"
       ]
      },
      {
       "output_type": "stream",
       "stream": "stderr",
       "text": [
        "1%\r"
       ]
      },
      {
       "output_type": "stream",
       "stream": "stderr",
       "text": [
        "2%\r"
       ]
      },
      {
       "output_type": "stream",
       "stream": "stderr",
       "text": [
        "3%\r"
       ]
      },
      {
       "output_type": "stream",
       "stream": "stderr",
       "text": [
        "4%\r"
       ]
      },
      {
       "output_type": "stream",
       "stream": "stderr",
       "text": [
        "5%\r"
       ]
      },
      {
       "output_type": "stream",
       "stream": "stderr",
       "text": [
        "6%\r"
       ]
      },
      {
       "output_type": "stream",
       "stream": "stderr",
       "text": [
        "7%\r"
       ]
      },
      {
       "output_type": "stream",
       "stream": "stderr",
       "text": [
        "8%\r"
       ]
      },
      {
       "output_type": "stream",
       "stream": "stderr",
       "text": [
        "9%\r"
       ]
      },
      {
       "output_type": "stream",
       "stream": "stderr",
       "text": [
        "10%\r"
       ]
      },
      {
       "output_type": "stream",
       "stream": "stderr",
       "text": [
        "11%\r"
       ]
      },
      {
       "output_type": "stream",
       "stream": "stderr",
       "text": [
        "12%\r"
       ]
      },
      {
       "output_type": "stream",
       "stream": "stderr",
       "text": [
        "13%\r"
       ]
      },
      {
       "output_type": "stream",
       "stream": "stderr",
       "text": [
        "14%\r"
       ]
      },
      {
       "output_type": "stream",
       "stream": "stderr",
       "text": [
        "15%\r"
       ]
      },
      {
       "output_type": "stream",
       "stream": "stderr",
       "text": [
        "16%\r"
       ]
      },
      {
       "output_type": "stream",
       "stream": "stderr",
       "text": [
        "17%\r"
       ]
      },
      {
       "output_type": "stream",
       "stream": "stderr",
       "text": [
        "18%\r"
       ]
      },
      {
       "output_type": "stream",
       "stream": "stderr",
       "text": [
        "19%\r"
       ]
      },
      {
       "output_type": "stream",
       "stream": "stderr",
       "text": [
        "20%\r"
       ]
      },
      {
       "output_type": "stream",
       "stream": "stderr",
       "text": [
        "21%\r"
       ]
      },
      {
       "output_type": "stream",
       "stream": "stderr",
       "text": [
        "22%\r"
       ]
      },
      {
       "output_type": "stream",
       "stream": "stderr",
       "text": [
        "23%\r"
       ]
      },
      {
       "output_type": "stream",
       "stream": "stderr",
       "text": [
        "24%\r"
       ]
      },
      {
       "output_type": "stream",
       "stream": "stderr",
       "text": [
        "25%\r"
       ]
      },
      {
       "output_type": "stream",
       "stream": "stderr",
       "text": [
        "26%\r"
       ]
      },
      {
       "output_type": "stream",
       "stream": "stderr",
       "text": [
        "27%\r"
       ]
      },
      {
       "output_type": "stream",
       "stream": "stderr",
       "text": [
        "28%\r"
       ]
      },
      {
       "output_type": "stream",
       "stream": "stderr",
       "text": [
        "29%\r"
       ]
      },
      {
       "output_type": "stream",
       "stream": "stderr",
       "text": [
        "30%\r"
       ]
      },
      {
       "output_type": "stream",
       "stream": "stderr",
       "text": [
        "31%\r"
       ]
      },
      {
       "output_type": "stream",
       "stream": "stderr",
       "text": [
        "32%\r"
       ]
      },
      {
       "output_type": "stream",
       "stream": "stderr",
       "text": [
        "33%\r"
       ]
      },
      {
       "output_type": "stream",
       "stream": "stderr",
       "text": [
        "34%\r"
       ]
      },
      {
       "output_type": "stream",
       "stream": "stderr",
       "text": [
        "35%\r"
       ]
      },
      {
       "output_type": "stream",
       "stream": "stderr",
       "text": [
        "36%\r"
       ]
      },
      {
       "output_type": "stream",
       "stream": "stderr",
       "text": [
        "37%\r"
       ]
      },
      {
       "output_type": "stream",
       "stream": "stderr",
       "text": [
        "38%\r"
       ]
      },
      {
       "output_type": "stream",
       "stream": "stderr",
       "text": [
        "39%\r"
       ]
      },
      {
       "output_type": "stream",
       "stream": "stderr",
       "text": [
        "40%\r"
       ]
      },
      {
       "output_type": "stream",
       "stream": "stderr",
       "text": [
        "41%\r"
       ]
      },
      {
       "output_type": "stream",
       "stream": "stderr",
       "text": [
        "42%\r"
       ]
      },
      {
       "output_type": "stream",
       "stream": "stderr",
       "text": [
        "43%\r"
       ]
      },
      {
       "output_type": "stream",
       "stream": "stderr",
       "text": [
        "44%\r"
       ]
      },
      {
       "output_type": "stream",
       "stream": "stderr",
       "text": [
        "45%\r"
       ]
      },
      {
       "output_type": "stream",
       "stream": "stderr",
       "text": [
        "46%\r"
       ]
      },
      {
       "output_type": "stream",
       "stream": "stderr",
       "text": [
        "47%\r"
       ]
      },
      {
       "output_type": "stream",
       "stream": "stderr",
       "text": [
        "48%\r"
       ]
      },
      {
       "output_type": "stream",
       "stream": "stderr",
       "text": [
        "49%\r"
       ]
      },
      {
       "output_type": "stream",
       "stream": "stderr",
       "text": [
        "50%\r"
       ]
      },
      {
       "output_type": "stream",
       "stream": "stderr",
       "text": [
        "51%\r"
       ]
      },
      {
       "output_type": "stream",
       "stream": "stderr",
       "text": [
        "52%\r"
       ]
      },
      {
       "output_type": "stream",
       "stream": "stderr",
       "text": [
        "53%\r"
       ]
      },
      {
       "output_type": "stream",
       "stream": "stderr",
       "text": [
        "54%\r"
       ]
      },
      {
       "output_type": "stream",
       "stream": "stderr",
       "text": [
        "55%\r"
       ]
      },
      {
       "output_type": "stream",
       "stream": "stderr",
       "text": [
        "56%\r"
       ]
      },
      {
       "output_type": "stream",
       "stream": "stderr",
       "text": [
        "57%\r"
       ]
      },
      {
       "output_type": "stream",
       "stream": "stderr",
       "text": [
        "58%\r"
       ]
      },
      {
       "output_type": "stream",
       "stream": "stderr",
       "text": [
        "59%\r"
       ]
      },
      {
       "output_type": "stream",
       "stream": "stderr",
       "text": [
        "60%\r"
       ]
      },
      {
       "output_type": "stream",
       "stream": "stderr",
       "text": [
        "61%\r"
       ]
      },
      {
       "output_type": "stream",
       "stream": "stderr",
       "text": [
        "62%\r"
       ]
      },
      {
       "output_type": "stream",
       "stream": "stderr",
       "text": [
        "63%\r"
       ]
      },
      {
       "output_type": "stream",
       "stream": "stderr",
       "text": [
        "64%\r"
       ]
      },
      {
       "output_type": "stream",
       "stream": "stderr",
       "text": [
        "65%\r"
       ]
      },
      {
       "output_type": "stream",
       "stream": "stderr",
       "text": [
        "66%\r"
       ]
      },
      {
       "output_type": "stream",
       "stream": "stderr",
       "text": [
        "67%\r"
       ]
      },
      {
       "output_type": "stream",
       "stream": "stderr",
       "text": [
        "68%\r"
       ]
      },
      {
       "output_type": "stream",
       "stream": "stderr",
       "text": [
        "69%\r"
       ]
      },
      {
       "output_type": "stream",
       "stream": "stderr",
       "text": [
        "70%\r"
       ]
      },
      {
       "output_type": "stream",
       "stream": "stderr",
       "text": [
        "71%\r"
       ]
      },
      {
       "output_type": "stream",
       "stream": "stderr",
       "text": [
        "72%\r"
       ]
      },
      {
       "output_type": "stream",
       "stream": "stderr",
       "text": [
        "73%\r"
       ]
      },
      {
       "output_type": "stream",
       "stream": "stderr",
       "text": [
        "74%\r"
       ]
      },
      {
       "output_type": "stream",
       "stream": "stderr",
       "text": [
        "75%\r"
       ]
      },
      {
       "output_type": "stream",
       "stream": "stderr",
       "text": [
        "76%\r"
       ]
      },
      {
       "output_type": "stream",
       "stream": "stderr",
       "text": [
        "77%\r"
       ]
      },
      {
       "output_type": "stream",
       "stream": "stderr",
       "text": [
        "78%\r"
       ]
      },
      {
       "output_type": "stream",
       "stream": "stderr",
       "text": [
        "79%\r"
       ]
      },
      {
       "output_type": "stream",
       "stream": "stderr",
       "text": [
        "80%\r"
       ]
      },
      {
       "output_type": "stream",
       "stream": "stderr",
       "text": [
        "81%\r"
       ]
      },
      {
       "output_type": "stream",
       "stream": "stderr",
       "text": [
        "82%\r"
       ]
      },
      {
       "output_type": "stream",
       "stream": "stderr",
       "text": [
        "83%\r"
       ]
      },
      {
       "output_type": "stream",
       "stream": "stderr",
       "text": [
        "84%\r"
       ]
      },
      {
       "output_type": "stream",
       "stream": "stderr",
       "text": [
        "85%\r"
       ]
      },
      {
       "output_type": "stream",
       "stream": "stderr",
       "text": [
        "86%\r"
       ]
      },
      {
       "output_type": "stream",
       "stream": "stderr",
       "text": [
        "87%\r"
       ]
      },
      {
       "output_type": "stream",
       "stream": "stderr",
       "text": [
        "88%\r"
       ]
      },
      {
       "output_type": "stream",
       "stream": "stderr",
       "text": [
        "89%\r"
       ]
      },
      {
       "output_type": "stream",
       "stream": "stderr",
       "text": [
        "90%\r"
       ]
      },
      {
       "output_type": "stream",
       "stream": "stderr",
       "text": [
        "91%\r"
       ]
      },
      {
       "output_type": "stream",
       "stream": "stderr",
       "text": [
        "92%\r"
       ]
      },
      {
       "output_type": "stream",
       "stream": "stderr",
       "text": [
        "93%\r"
       ]
      },
      {
       "output_type": "stream",
       "stream": "stderr",
       "text": [
        "94%\r"
       ]
      },
      {
       "output_type": "stream",
       "stream": "stderr",
       "text": [
        "95%\r"
       ]
      },
      {
       "output_type": "stream",
       "stream": "stderr",
       "text": [
        "96%\r"
       ]
      },
      {
       "output_type": "stream",
       "stream": "stderr",
       "text": [
        "97%\r"
       ]
      },
      {
       "output_type": "stream",
       "stream": "stderr",
       "text": [
        "98%\r"
       ]
      },
      {
       "output_type": "stream",
       "stream": "stderr",
       "text": [
        "99%\r"
       ]
      },
      {
       "output_type": "stream",
       "stream": "stderr",
       "text": [
        "100%\r"
       ]
      },
      {
       "output_type": "stream",
       "stream": "stderr",
       "text": [
        "100%\n"
       ]
      },
      {
       "output_type": "stream",
       "stream": "stdout",
       "text": [
        "\n",
        "  loss 1.30527916436\n",
        "  err  0.464443108974\n",
        "  (0:00:42)\n",
        "Epoch 27:"
       ]
      },
      {
       "output_type": "stream",
       "stream": "stderr",
       "text": [
        "1%\r"
       ]
      },
      {
       "output_type": "stream",
       "stream": "stderr",
       "text": [
        "2%\r"
       ]
      },
      {
       "output_type": "stream",
       "stream": "stderr",
       "text": [
        "3%\r"
       ]
      },
      {
       "output_type": "stream",
       "stream": "stderr",
       "text": [
        "4%\r"
       ]
      },
      {
       "output_type": "stream",
       "stream": "stderr",
       "text": [
        "5%\r"
       ]
      },
      {
       "output_type": "stream",
       "stream": "stderr",
       "text": [
        "6%\r"
       ]
      },
      {
       "output_type": "stream",
       "stream": "stderr",
       "text": [
        "7%\r"
       ]
      },
      {
       "output_type": "stream",
       "stream": "stderr",
       "text": [
        "8%\r"
       ]
      },
      {
       "output_type": "stream",
       "stream": "stderr",
       "text": [
        "9%\r"
       ]
      },
      {
       "output_type": "stream",
       "stream": "stderr",
       "text": [
        "10%\r"
       ]
      },
      {
       "output_type": "stream",
       "stream": "stderr",
       "text": [
        "11%\r"
       ]
      },
      {
       "output_type": "stream",
       "stream": "stderr",
       "text": [
        "12%\r"
       ]
      },
      {
       "output_type": "stream",
       "stream": "stderr",
       "text": [
        "13%\r"
       ]
      },
      {
       "output_type": "stream",
       "stream": "stderr",
       "text": [
        "14%\r"
       ]
      },
      {
       "output_type": "stream",
       "stream": "stderr",
       "text": [
        "15%\r"
       ]
      },
      {
       "output_type": "stream",
       "stream": "stderr",
       "text": [
        "16%\r"
       ]
      },
      {
       "output_type": "stream",
       "stream": "stderr",
       "text": [
        "17%\r"
       ]
      },
      {
       "output_type": "stream",
       "stream": "stderr",
       "text": [
        "18%\r"
       ]
      },
      {
       "output_type": "stream",
       "stream": "stderr",
       "text": [
        "19%\r"
       ]
      },
      {
       "output_type": "stream",
       "stream": "stderr",
       "text": [
        "20%\r"
       ]
      },
      {
       "output_type": "stream",
       "stream": "stderr",
       "text": [
        "21%\r"
       ]
      },
      {
       "output_type": "stream",
       "stream": "stderr",
       "text": [
        "22%\r"
       ]
      },
      {
       "output_type": "stream",
       "stream": "stderr",
       "text": [
        "23%\r"
       ]
      },
      {
       "output_type": "stream",
       "stream": "stderr",
       "text": [
        "24%\r"
       ]
      },
      {
       "output_type": "stream",
       "stream": "stderr",
       "text": [
        "25%\r"
       ]
      },
      {
       "output_type": "stream",
       "stream": "stderr",
       "text": [
        "26%\r"
       ]
      },
      {
       "output_type": "stream",
       "stream": "stderr",
       "text": [
        "27%\r"
       ]
      },
      {
       "output_type": "stream",
       "stream": "stderr",
       "text": [
        "28%\r"
       ]
      },
      {
       "output_type": "stream",
       "stream": "stderr",
       "text": [
        "29%\r"
       ]
      },
      {
       "output_type": "stream",
       "stream": "stderr",
       "text": [
        "30%\r"
       ]
      },
      {
       "output_type": "stream",
       "stream": "stderr",
       "text": [
        "31%\r"
       ]
      },
      {
       "output_type": "stream",
       "stream": "stderr",
       "text": [
        "32%\r"
       ]
      },
      {
       "output_type": "stream",
       "stream": "stderr",
       "text": [
        "33%\r"
       ]
      },
      {
       "output_type": "stream",
       "stream": "stderr",
       "text": [
        "34%\r"
       ]
      },
      {
       "output_type": "stream",
       "stream": "stderr",
       "text": [
        "35%\r"
       ]
      },
      {
       "output_type": "stream",
       "stream": "stderr",
       "text": [
        "36%\r"
       ]
      },
      {
       "output_type": "stream",
       "stream": "stderr",
       "text": [
        "37%\r"
       ]
      },
      {
       "output_type": "stream",
       "stream": "stderr",
       "text": [
        "38%\r"
       ]
      },
      {
       "output_type": "stream",
       "stream": "stderr",
       "text": [
        "39%\r"
       ]
      },
      {
       "output_type": "stream",
       "stream": "stderr",
       "text": [
        "40%\r"
       ]
      },
      {
       "output_type": "stream",
       "stream": "stderr",
       "text": [
        "41%\r"
       ]
      },
      {
       "output_type": "stream",
       "stream": "stderr",
       "text": [
        "42%\r"
       ]
      },
      {
       "output_type": "stream",
       "stream": "stderr",
       "text": [
        "43%\r"
       ]
      },
      {
       "output_type": "stream",
       "stream": "stderr",
       "text": [
        "44%\r"
       ]
      },
      {
       "output_type": "stream",
       "stream": "stderr",
       "text": [
        "45%\r"
       ]
      },
      {
       "output_type": "stream",
       "stream": "stderr",
       "text": [
        "46%\r"
       ]
      },
      {
       "output_type": "stream",
       "stream": "stderr",
       "text": [
        "47%\r"
       ]
      },
      {
       "output_type": "stream",
       "stream": "stderr",
       "text": [
        "48%\r"
       ]
      },
      {
       "output_type": "stream",
       "stream": "stderr",
       "text": [
        "49%\r"
       ]
      },
      {
       "output_type": "stream",
       "stream": "stderr",
       "text": [
        "50%\r"
       ]
      },
      {
       "output_type": "stream",
       "stream": "stderr",
       "text": [
        "51%\r"
       ]
      },
      {
       "output_type": "stream",
       "stream": "stderr",
       "text": [
        "52%\r"
       ]
      },
      {
       "output_type": "stream",
       "stream": "stderr",
       "text": [
        "53%\r"
       ]
      },
      {
       "output_type": "stream",
       "stream": "stderr",
       "text": [
        "54%\r"
       ]
      },
      {
       "output_type": "stream",
       "stream": "stderr",
       "text": [
        "55%\r"
       ]
      },
      {
       "output_type": "stream",
       "stream": "stderr",
       "text": [
        "56%\r"
       ]
      },
      {
       "output_type": "stream",
       "stream": "stderr",
       "text": [
        "57%\r"
       ]
      },
      {
       "output_type": "stream",
       "stream": "stderr",
       "text": [
        "58%\r"
       ]
      },
      {
       "output_type": "stream",
       "stream": "stderr",
       "text": [
        "59%\r"
       ]
      },
      {
       "output_type": "stream",
       "stream": "stderr",
       "text": [
        "60%\r"
       ]
      },
      {
       "output_type": "stream",
       "stream": "stderr",
       "text": [
        "61%\r"
       ]
      },
      {
       "output_type": "stream",
       "stream": "stderr",
       "text": [
        "62%\r"
       ]
      },
      {
       "output_type": "stream",
       "stream": "stderr",
       "text": [
        "63%\r"
       ]
      },
      {
       "output_type": "stream",
       "stream": "stderr",
       "text": [
        "64%\r"
       ]
      },
      {
       "output_type": "stream",
       "stream": "stderr",
       "text": [
        "65%\r"
       ]
      },
      {
       "output_type": "stream",
       "stream": "stderr",
       "text": [
        "66%\r"
       ]
      },
      {
       "output_type": "stream",
       "stream": "stderr",
       "text": [
        "67%\r"
       ]
      },
      {
       "output_type": "stream",
       "stream": "stderr",
       "text": [
        "68%\r"
       ]
      },
      {
       "output_type": "stream",
       "stream": "stderr",
       "text": [
        "69%\r"
       ]
      },
      {
       "output_type": "stream",
       "stream": "stderr",
       "text": [
        "70%\r"
       ]
      },
      {
       "output_type": "stream",
       "stream": "stderr",
       "text": [
        "71%\r"
       ]
      },
      {
       "output_type": "stream",
       "stream": "stderr",
       "text": [
        "72%\r"
       ]
      },
      {
       "output_type": "stream",
       "stream": "stderr",
       "text": [
        "73%\r"
       ]
      },
      {
       "output_type": "stream",
       "stream": "stderr",
       "text": [
        "74%\r"
       ]
      },
      {
       "output_type": "stream",
       "stream": "stderr",
       "text": [
        "75%\r"
       ]
      },
      {
       "output_type": "stream",
       "stream": "stderr",
       "text": [
        "76%\r"
       ]
      },
      {
       "output_type": "stream",
       "stream": "stderr",
       "text": [
        "77%\r"
       ]
      },
      {
       "output_type": "stream",
       "stream": "stderr",
       "text": [
        "78%\r"
       ]
      },
      {
       "output_type": "stream",
       "stream": "stderr",
       "text": [
        "79%\r"
       ]
      },
      {
       "output_type": "stream",
       "stream": "stderr",
       "text": [
        "80%\r"
       ]
      },
      {
       "output_type": "stream",
       "stream": "stderr",
       "text": [
        "81%\r"
       ]
      },
      {
       "output_type": "stream",
       "stream": "stderr",
       "text": [
        "82%\r"
       ]
      },
      {
       "output_type": "stream",
       "stream": "stderr",
       "text": [
        "83%\r"
       ]
      },
      {
       "output_type": "stream",
       "stream": "stderr",
       "text": [
        "84%\r"
       ]
      },
      {
       "output_type": "stream",
       "stream": "stderr",
       "text": [
        "85%\r"
       ]
      },
      {
       "output_type": "stream",
       "stream": "stderr",
       "text": [
        "86%\r"
       ]
      },
      {
       "output_type": "stream",
       "stream": "stderr",
       "text": [
        "87%\r"
       ]
      },
      {
       "output_type": "stream",
       "stream": "stderr",
       "text": [
        "88%\r"
       ]
      },
      {
       "output_type": "stream",
       "stream": "stderr",
       "text": [
        "89%\r"
       ]
      },
      {
       "output_type": "stream",
       "stream": "stderr",
       "text": [
        "90%\r"
       ]
      },
      {
       "output_type": "stream",
       "stream": "stderr",
       "text": [
        "91%\r"
       ]
      },
      {
       "output_type": "stream",
       "stream": "stderr",
       "text": [
        "92%\r"
       ]
      },
      {
       "output_type": "stream",
       "stream": "stderr",
       "text": [
        "93%\r"
       ]
      },
      {
       "output_type": "stream",
       "stream": "stderr",
       "text": [
        "94%\r"
       ]
      },
      {
       "output_type": "stream",
       "stream": "stderr",
       "text": [
        "95%\r"
       ]
      },
      {
       "output_type": "stream",
       "stream": "stderr",
       "text": [
        "96%\r"
       ]
      },
      {
       "output_type": "stream",
       "stream": "stderr",
       "text": [
        "97%\r"
       ]
      },
      {
       "output_type": "stream",
       "stream": "stderr",
       "text": [
        "98%\r"
       ]
      },
      {
       "output_type": "stream",
       "stream": "stderr",
       "text": [
        "99%\r"
       ]
      },
      {
       "output_type": "stream",
       "stream": "stderr",
       "text": [
        "100%\r"
       ]
      },
      {
       "output_type": "stream",
       "stream": "stderr",
       "text": [
        "100%\n"
       ]
      },
      {
       "output_type": "stream",
       "stream": "stdout",
       "text": [
        "\n",
        "  loss 1.2678008368\n",
        "  err  0.454226762821\n",
        "  (0:00:42)\n",
        "Epoch 28:"
       ]
      },
      {
       "output_type": "stream",
       "stream": "stderr",
       "text": [
        "1%\r"
       ]
      },
      {
       "output_type": "stream",
       "stream": "stderr",
       "text": [
        "2%\r"
       ]
      },
      {
       "output_type": "stream",
       "stream": "stderr",
       "text": [
        "3%\r"
       ]
      },
      {
       "output_type": "stream",
       "stream": "stderr",
       "text": [
        "4%\r"
       ]
      },
      {
       "output_type": "stream",
       "stream": "stderr",
       "text": [
        "5%\r"
       ]
      },
      {
       "output_type": "stream",
       "stream": "stderr",
       "text": [
        "6%\r"
       ]
      },
      {
       "output_type": "stream",
       "stream": "stderr",
       "text": [
        "7%\r"
       ]
      },
      {
       "output_type": "stream",
       "stream": "stderr",
       "text": [
        "8%\r"
       ]
      },
      {
       "output_type": "stream",
       "stream": "stderr",
       "text": [
        "9%\r"
       ]
      },
      {
       "output_type": "stream",
       "stream": "stderr",
       "text": [
        "10%\r"
       ]
      },
      {
       "output_type": "stream",
       "stream": "stderr",
       "text": [
        "11%\r"
       ]
      },
      {
       "output_type": "stream",
       "stream": "stderr",
       "text": [
        "12%\r"
       ]
      },
      {
       "output_type": "stream",
       "stream": "stderr",
       "text": [
        "13%\r"
       ]
      },
      {
       "output_type": "stream",
       "stream": "stderr",
       "text": [
        "14%\r"
       ]
      },
      {
       "output_type": "stream",
       "stream": "stderr",
       "text": [
        "15%\r"
       ]
      },
      {
       "output_type": "stream",
       "stream": "stderr",
       "text": [
        "16%\r"
       ]
      },
      {
       "output_type": "stream",
       "stream": "stderr",
       "text": [
        "17%\r"
       ]
      },
      {
       "output_type": "stream",
       "stream": "stderr",
       "text": [
        "18%\r"
       ]
      },
      {
       "output_type": "stream",
       "stream": "stderr",
       "text": [
        "19%\r"
       ]
      },
      {
       "output_type": "stream",
       "stream": "stderr",
       "text": [
        "20%\r"
       ]
      },
      {
       "output_type": "stream",
       "stream": "stderr",
       "text": [
        "21%\r"
       ]
      },
      {
       "output_type": "stream",
       "stream": "stderr",
       "text": [
        "22%\r"
       ]
      },
      {
       "output_type": "stream",
       "stream": "stderr",
       "text": [
        "23%\r"
       ]
      },
      {
       "output_type": "stream",
       "stream": "stderr",
       "text": [
        "24%\r"
       ]
      },
      {
       "output_type": "stream",
       "stream": "stderr",
       "text": [
        "25%\r"
       ]
      },
      {
       "output_type": "stream",
       "stream": "stderr",
       "text": [
        "26%\r"
       ]
      },
      {
       "output_type": "stream",
       "stream": "stderr",
       "text": [
        "27%\r"
       ]
      },
      {
       "output_type": "stream",
       "stream": "stderr",
       "text": [
        "28%\r"
       ]
      },
      {
       "output_type": "stream",
       "stream": "stderr",
       "text": [
        "29%\r"
       ]
      },
      {
       "output_type": "stream",
       "stream": "stderr",
       "text": [
        "30%\r"
       ]
      },
      {
       "output_type": "stream",
       "stream": "stderr",
       "text": [
        "31%\r"
       ]
      },
      {
       "output_type": "stream",
       "stream": "stderr",
       "text": [
        "32%\r"
       ]
      },
      {
       "output_type": "stream",
       "stream": "stderr",
       "text": [
        "33%\r"
       ]
      },
      {
       "output_type": "stream",
       "stream": "stderr",
       "text": [
        "34%\r"
       ]
      },
      {
       "output_type": "stream",
       "stream": "stderr",
       "text": [
        "35%\r"
       ]
      },
      {
       "output_type": "stream",
       "stream": "stderr",
       "text": [
        "36%\r"
       ]
      },
      {
       "output_type": "stream",
       "stream": "stderr",
       "text": [
        "37%\r"
       ]
      },
      {
       "output_type": "stream",
       "stream": "stderr",
       "text": [
        "38%\r"
       ]
      },
      {
       "output_type": "stream",
       "stream": "stderr",
       "text": [
        "39%\r"
       ]
      },
      {
       "output_type": "stream",
       "stream": "stderr",
       "text": [
        "40%\r"
       ]
      },
      {
       "output_type": "stream",
       "stream": "stderr",
       "text": [
        "41%\r"
       ]
      },
      {
       "output_type": "stream",
       "stream": "stderr",
       "text": [
        "42%\r"
       ]
      },
      {
       "output_type": "stream",
       "stream": "stderr",
       "text": [
        "43%\r"
       ]
      },
      {
       "output_type": "stream",
       "stream": "stderr",
       "text": [
        "44%\r"
       ]
      },
      {
       "output_type": "stream",
       "stream": "stderr",
       "text": [
        "45%\r"
       ]
      },
      {
       "output_type": "stream",
       "stream": "stderr",
       "text": [
        "46%\r"
       ]
      },
      {
       "output_type": "stream",
       "stream": "stderr",
       "text": [
        "47%\r"
       ]
      },
      {
       "output_type": "stream",
       "stream": "stderr",
       "text": [
        "48%\r"
       ]
      },
      {
       "output_type": "stream",
       "stream": "stderr",
       "text": [
        "49%\r"
       ]
      },
      {
       "output_type": "stream",
       "stream": "stderr",
       "text": [
        "50%\r"
       ]
      },
      {
       "output_type": "stream",
       "stream": "stderr",
       "text": [
        "51%\r"
       ]
      },
      {
       "output_type": "stream",
       "stream": "stderr",
       "text": [
        "52%\r"
       ]
      },
      {
       "output_type": "stream",
       "stream": "stderr",
       "text": [
        "53%\r"
       ]
      },
      {
       "output_type": "stream",
       "stream": "stderr",
       "text": [
        "54%\r"
       ]
      },
      {
       "output_type": "stream",
       "stream": "stderr",
       "text": [
        "55%\r"
       ]
      },
      {
       "output_type": "stream",
       "stream": "stderr",
       "text": [
        "56%\r"
       ]
      },
      {
       "output_type": "stream",
       "stream": "stderr",
       "text": [
        "57%\r"
       ]
      },
      {
       "output_type": "stream",
       "stream": "stderr",
       "text": [
        "58%\r"
       ]
      },
      {
       "output_type": "stream",
       "stream": "stderr",
       "text": [
        "59%\r"
       ]
      },
      {
       "output_type": "stream",
       "stream": "stderr",
       "text": [
        "60%\r"
       ]
      },
      {
       "output_type": "stream",
       "stream": "stderr",
       "text": [
        "61%\r"
       ]
      },
      {
       "output_type": "stream",
       "stream": "stderr",
       "text": [
        "62%\r"
       ]
      },
      {
       "output_type": "stream",
       "stream": "stderr",
       "text": [
        "63%\r"
       ]
      },
      {
       "output_type": "stream",
       "stream": "stderr",
       "text": [
        "64%\r"
       ]
      },
      {
       "output_type": "stream",
       "stream": "stderr",
       "text": [
        "65%\r"
       ]
      },
      {
       "output_type": "stream",
       "stream": "stderr",
       "text": [
        "66%\r"
       ]
      },
      {
       "output_type": "stream",
       "stream": "stderr",
       "text": [
        "67%\r"
       ]
      },
      {
       "output_type": "stream",
       "stream": "stderr",
       "text": [
        "68%\r"
       ]
      },
      {
       "output_type": "stream",
       "stream": "stderr",
       "text": [
        "69%\r"
       ]
      },
      {
       "output_type": "stream",
       "stream": "stderr",
       "text": [
        "70%\r"
       ]
      },
      {
       "output_type": "stream",
       "stream": "stderr",
       "text": [
        "71%\r"
       ]
      },
      {
       "output_type": "stream",
       "stream": "stderr",
       "text": [
        "72%\r"
       ]
      },
      {
       "output_type": "stream",
       "stream": "stderr",
       "text": [
        "73%\r"
       ]
      },
      {
       "output_type": "stream",
       "stream": "stderr",
       "text": [
        "74%\r"
       ]
      },
      {
       "output_type": "stream",
       "stream": "stderr",
       "text": [
        "75%\r"
       ]
      },
      {
       "output_type": "stream",
       "stream": "stderr",
       "text": [
        "76%\r"
       ]
      },
      {
       "output_type": "stream",
       "stream": "stderr",
       "text": [
        "77%\r"
       ]
      },
      {
       "output_type": "stream",
       "stream": "stderr",
       "text": [
        "78%\r"
       ]
      },
      {
       "output_type": "stream",
       "stream": "stderr",
       "text": [
        "79%\r"
       ]
      },
      {
       "output_type": "stream",
       "stream": "stderr",
       "text": [
        "80%\r"
       ]
      },
      {
       "output_type": "stream",
       "stream": "stderr",
       "text": [
        "81%\r"
       ]
      },
      {
       "output_type": "stream",
       "stream": "stderr",
       "text": [
        "82%\r"
       ]
      },
      {
       "output_type": "stream",
       "stream": "stderr",
       "text": [
        "83%\r"
       ]
      },
      {
       "output_type": "stream",
       "stream": "stderr",
       "text": [
        "84%\r"
       ]
      },
      {
       "output_type": "stream",
       "stream": "stderr",
       "text": [
        "85%\r"
       ]
      },
      {
       "output_type": "stream",
       "stream": "stderr",
       "text": [
        "86%\r"
       ]
      },
      {
       "output_type": "stream",
       "stream": "stderr",
       "text": [
        "87%\r"
       ]
      },
      {
       "output_type": "stream",
       "stream": "stderr",
       "text": [
        "88%\r"
       ]
      },
      {
       "output_type": "stream",
       "stream": "stderr",
       "text": [
        "89%\r"
       ]
      },
      {
       "output_type": "stream",
       "stream": "stderr",
       "text": [
        "90%\r"
       ]
      },
      {
       "output_type": "stream",
       "stream": "stderr",
       "text": [
        "91%\r"
       ]
      },
      {
       "output_type": "stream",
       "stream": "stderr",
       "text": [
        "92%\r"
       ]
      },
      {
       "output_type": "stream",
       "stream": "stderr",
       "text": [
        "93%\r"
       ]
      },
      {
       "output_type": "stream",
       "stream": "stderr",
       "text": [
        "94%\r"
       ]
      },
      {
       "output_type": "stream",
       "stream": "stderr",
       "text": [
        "95%\r"
       ]
      },
      {
       "output_type": "stream",
       "stream": "stderr",
       "text": [
        "96%\r"
       ]
      },
      {
       "output_type": "stream",
       "stream": "stderr",
       "text": [
        "97%\r"
       ]
      },
      {
       "output_type": "stream",
       "stream": "stderr",
       "text": [
        "98%\r"
       ]
      },
      {
       "output_type": "stream",
       "stream": "stderr",
       "text": [
        "99%\r"
       ]
      },
      {
       "output_type": "stream",
       "stream": "stderr",
       "text": [
        "100%\r"
       ]
      },
      {
       "output_type": "stream",
       "stream": "stderr",
       "text": [
        "100%\n"
       ]
      },
      {
       "output_type": "stream",
       "stream": "stdout",
       "text": [
        "\n",
        "  loss 1.28139253228\n",
        "  err  0.456079727564\n",
        "  (0:00:45)\n",
        "Epoch 29:"
       ]
      },
      {
       "output_type": "stream",
       "stream": "stderr",
       "text": [
        "1%\r"
       ]
      },
      {
       "output_type": "stream",
       "stream": "stderr",
       "text": [
        "2%\r"
       ]
      },
      {
       "output_type": "stream",
       "stream": "stderr",
       "text": [
        "3%\r"
       ]
      },
      {
       "output_type": "stream",
       "stream": "stderr",
       "text": [
        "4%\r"
       ]
      },
      {
       "output_type": "stream",
       "stream": "stderr",
       "text": [
        "5%\r"
       ]
      },
      {
       "output_type": "stream",
       "stream": "stderr",
       "text": [
        "6%\r"
       ]
      },
      {
       "output_type": "stream",
       "stream": "stderr",
       "text": [
        "7%\r"
       ]
      },
      {
       "output_type": "stream",
       "stream": "stderr",
       "text": [
        "8%\r"
       ]
      },
      {
       "output_type": "stream",
       "stream": "stderr",
       "text": [
        "9%\r"
       ]
      },
      {
       "output_type": "stream",
       "stream": "stderr",
       "text": [
        "10%\r"
       ]
      },
      {
       "output_type": "stream",
       "stream": "stderr",
       "text": [
        "11%\r"
       ]
      },
      {
       "output_type": "stream",
       "stream": "stderr",
       "text": [
        "12%\r"
       ]
      },
      {
       "output_type": "stream",
       "stream": "stderr",
       "text": [
        "13%\r"
       ]
      },
      {
       "output_type": "stream",
       "stream": "stderr",
       "text": [
        "14%\r"
       ]
      },
      {
       "output_type": "stream",
       "stream": "stderr",
       "text": [
        "15%\r"
       ]
      },
      {
       "output_type": "stream",
       "stream": "stderr",
       "text": [
        "16%\r"
       ]
      },
      {
       "output_type": "stream",
       "stream": "stderr",
       "text": [
        "17%\r"
       ]
      },
      {
       "output_type": "stream",
       "stream": "stderr",
       "text": [
        "18%\r"
       ]
      },
      {
       "output_type": "stream",
       "stream": "stderr",
       "text": [
        "19%\r"
       ]
      },
      {
       "output_type": "stream",
       "stream": "stderr",
       "text": [
        "20%\r"
       ]
      },
      {
       "output_type": "stream",
       "stream": "stderr",
       "text": [
        "21%\r"
       ]
      },
      {
       "output_type": "stream",
       "stream": "stderr",
       "text": [
        "22%\r"
       ]
      },
      {
       "output_type": "stream",
       "stream": "stderr",
       "text": [
        "23%\r"
       ]
      },
      {
       "output_type": "stream",
       "stream": "stderr",
       "text": [
        "24%\r"
       ]
      },
      {
       "output_type": "stream",
       "stream": "stderr",
       "text": [
        "25%\r"
       ]
      },
      {
       "output_type": "stream",
       "stream": "stderr",
       "text": [
        "26%\r"
       ]
      },
      {
       "output_type": "stream",
       "stream": "stderr",
       "text": [
        "27%\r"
       ]
      },
      {
       "output_type": "stream",
       "stream": "stderr",
       "text": [
        "28%\r"
       ]
      },
      {
       "output_type": "stream",
       "stream": "stderr",
       "text": [
        "29%\r"
       ]
      },
      {
       "output_type": "stream",
       "stream": "stderr",
       "text": [
        "30%\r"
       ]
      },
      {
       "output_type": "stream",
       "stream": "stderr",
       "text": [
        "31%\r"
       ]
      },
      {
       "output_type": "stream",
       "stream": "stderr",
       "text": [
        "32%\r"
       ]
      },
      {
       "output_type": "stream",
       "stream": "stderr",
       "text": [
        "33%\r"
       ]
      },
      {
       "output_type": "stream",
       "stream": "stderr",
       "text": [
        "34%\r"
       ]
      },
      {
       "output_type": "stream",
       "stream": "stderr",
       "text": [
        "35%\r"
       ]
      },
      {
       "output_type": "stream",
       "stream": "stderr",
       "text": [
        "36%\r"
       ]
      },
      {
       "output_type": "stream",
       "stream": "stderr",
       "text": [
        "37%\r"
       ]
      },
      {
       "output_type": "stream",
       "stream": "stderr",
       "text": [
        "38%\r"
       ]
      },
      {
       "output_type": "stream",
       "stream": "stderr",
       "text": [
        "39%\r"
       ]
      },
      {
       "output_type": "stream",
       "stream": "stderr",
       "text": [
        "40%\r"
       ]
      },
      {
       "output_type": "stream",
       "stream": "stderr",
       "text": [
        "41%\r"
       ]
      },
      {
       "output_type": "stream",
       "stream": "stderr",
       "text": [
        "42%\r"
       ]
      },
      {
       "output_type": "stream",
       "stream": "stderr",
       "text": [
        "43%\r"
       ]
      },
      {
       "output_type": "stream",
       "stream": "stderr",
       "text": [
        "44%\r"
       ]
      },
      {
       "output_type": "stream",
       "stream": "stderr",
       "text": [
        "45%\r"
       ]
      },
      {
       "output_type": "stream",
       "stream": "stderr",
       "text": [
        "46%\r"
       ]
      },
      {
       "output_type": "stream",
       "stream": "stderr",
       "text": [
        "47%\r"
       ]
      },
      {
       "output_type": "stream",
       "stream": "stderr",
       "text": [
        "48%\r"
       ]
      },
      {
       "output_type": "stream",
       "stream": "stderr",
       "text": [
        "49%\r"
       ]
      },
      {
       "output_type": "stream",
       "stream": "stderr",
       "text": [
        "50%\r"
       ]
      },
      {
       "output_type": "stream",
       "stream": "stderr",
       "text": [
        "51%\r"
       ]
      },
      {
       "output_type": "stream",
       "stream": "stderr",
       "text": [
        "52%\r"
       ]
      },
      {
       "output_type": "stream",
       "stream": "stderr",
       "text": [
        "53%\r"
       ]
      },
      {
       "output_type": "stream",
       "stream": "stderr",
       "text": [
        "54%\r"
       ]
      },
      {
       "output_type": "stream",
       "stream": "stderr",
       "text": [
        "55%\r"
       ]
      },
      {
       "output_type": "stream",
       "stream": "stderr",
       "text": [
        "56%\r"
       ]
      },
      {
       "output_type": "stream",
       "stream": "stderr",
       "text": [
        "57%\r"
       ]
      },
      {
       "output_type": "stream",
       "stream": "stderr",
       "text": [
        "58%\r"
       ]
      },
      {
       "output_type": "stream",
       "stream": "stderr",
       "text": [
        "59%\r"
       ]
      },
      {
       "output_type": "stream",
       "stream": "stderr",
       "text": [
        "60%\r"
       ]
      },
      {
       "output_type": "stream",
       "stream": "stderr",
       "text": [
        "61%\r"
       ]
      },
      {
       "output_type": "stream",
       "stream": "stderr",
       "text": [
        "62%\r"
       ]
      },
      {
       "output_type": "stream",
       "stream": "stderr",
       "text": [
        "63%\r"
       ]
      },
      {
       "output_type": "stream",
       "stream": "stderr",
       "text": [
        "64%\r"
       ]
      },
      {
       "output_type": "stream",
       "stream": "stderr",
       "text": [
        "65%\r"
       ]
      },
      {
       "output_type": "stream",
       "stream": "stderr",
       "text": [
        "66%\r"
       ]
      },
      {
       "output_type": "stream",
       "stream": "stderr",
       "text": [
        "67%\r"
       ]
      },
      {
       "output_type": "stream",
       "stream": "stderr",
       "text": [
        "68%\r"
       ]
      },
      {
       "output_type": "stream",
       "stream": "stderr",
       "text": [
        "69%\r"
       ]
      },
      {
       "output_type": "stream",
       "stream": "stderr",
       "text": [
        "70%\r"
       ]
      },
      {
       "output_type": "stream",
       "stream": "stderr",
       "text": [
        "71%\r"
       ]
      },
      {
       "output_type": "stream",
       "stream": "stderr",
       "text": [
        "72%\r"
       ]
      },
      {
       "output_type": "stream",
       "stream": "stderr",
       "text": [
        "73%\r"
       ]
      },
      {
       "output_type": "stream",
       "stream": "stderr",
       "text": [
        "74%\r"
       ]
      },
      {
       "output_type": "stream",
       "stream": "stderr",
       "text": [
        "75%\r"
       ]
      },
      {
       "output_type": "stream",
       "stream": "stderr",
       "text": [
        "76%\r"
       ]
      },
      {
       "output_type": "stream",
       "stream": "stderr",
       "text": [
        "77%\r"
       ]
      },
      {
       "output_type": "stream",
       "stream": "stderr",
       "text": [
        "78%\r"
       ]
      },
      {
       "output_type": "stream",
       "stream": "stderr",
       "text": [
        "79%\r"
       ]
      },
      {
       "output_type": "stream",
       "stream": "stderr",
       "text": [
        "80%\r"
       ]
      },
      {
       "output_type": "stream",
       "stream": "stderr",
       "text": [
        "81%\r"
       ]
      },
      {
       "output_type": "stream",
       "stream": "stderr",
       "text": [
        "82%\r"
       ]
      },
      {
       "output_type": "stream",
       "stream": "stderr",
       "text": [
        "83%\r"
       ]
      },
      {
       "output_type": "stream",
       "stream": "stderr",
       "text": [
        "84%\r"
       ]
      },
      {
       "output_type": "stream",
       "stream": "stderr",
       "text": [
        "85%\r"
       ]
      },
      {
       "output_type": "stream",
       "stream": "stderr",
       "text": [
        "86%\r"
       ]
      },
      {
       "output_type": "stream",
       "stream": "stderr",
       "text": [
        "87%\r"
       ]
      },
      {
       "output_type": "stream",
       "stream": "stderr",
       "text": [
        "88%\r"
       ]
      },
      {
       "output_type": "stream",
       "stream": "stderr",
       "text": [
        "89%\r"
       ]
      },
      {
       "output_type": "stream",
       "stream": "stderr",
       "text": [
        "90%\r"
       ]
      },
      {
       "output_type": "stream",
       "stream": "stderr",
       "text": [
        "91%\r"
       ]
      },
      {
       "output_type": "stream",
       "stream": "stderr",
       "text": [
        "92%\r"
       ]
      },
      {
       "output_type": "stream",
       "stream": "stderr",
       "text": [
        "93%\r"
       ]
      },
      {
       "output_type": "stream",
       "stream": "stderr",
       "text": [
        "94%\r"
       ]
      },
      {
       "output_type": "stream",
       "stream": "stderr",
       "text": [
        "95%\r"
       ]
      },
      {
       "output_type": "stream",
       "stream": "stderr",
       "text": [
        "96%\r"
       ]
      },
      {
       "output_type": "stream",
       "stream": "stderr",
       "text": [
        "97%\r"
       ]
      },
      {
       "output_type": "stream",
       "stream": "stderr",
       "text": [
        "98%\r"
       ]
      },
      {
       "output_type": "stream",
       "stream": "stderr",
       "text": [
        "99%\r"
       ]
      },
      {
       "output_type": "stream",
       "stream": "stderr",
       "text": [
        "100%\r"
       ]
      },
      {
       "output_type": "stream",
       "stream": "stderr",
       "text": [
        "100%\n"
       ]
      },
      {
       "output_type": "stream",
       "stream": "stdout",
       "text": [
        "\n",
        "  loss 1.24969796607\n",
        "  err  0.44781650641\n",
        "  (0:00:47)\n",
        "Epoch 30:"
       ]
      },
      {
       "output_type": "stream",
       "stream": "stderr",
       "text": [
        "1%\r"
       ]
      },
      {
       "output_type": "stream",
       "stream": "stderr",
       "text": [
        "2%\r"
       ]
      },
      {
       "output_type": "stream",
       "stream": "stderr",
       "text": [
        "3%\r"
       ]
      },
      {
       "output_type": "stream",
       "stream": "stderr",
       "text": [
        "4%\r"
       ]
      },
      {
       "output_type": "stream",
       "stream": "stderr",
       "text": [
        "5%\r"
       ]
      },
      {
       "output_type": "stream",
       "stream": "stderr",
       "text": [
        "6%\r"
       ]
      },
      {
       "output_type": "stream",
       "stream": "stderr",
       "text": [
        "7%\r"
       ]
      },
      {
       "output_type": "stream",
       "stream": "stderr",
       "text": [
        "8%\r"
       ]
      },
      {
       "output_type": "stream",
       "stream": "stderr",
       "text": [
        "9%\r"
       ]
      },
      {
       "output_type": "stream",
       "stream": "stderr",
       "text": [
        "10%\r"
       ]
      },
      {
       "output_type": "stream",
       "stream": "stderr",
       "text": [
        "11%\r"
       ]
      },
      {
       "output_type": "stream",
       "stream": "stderr",
       "text": [
        "12%\r"
       ]
      },
      {
       "output_type": "stream",
       "stream": "stderr",
       "text": [
        "13%\r"
       ]
      },
      {
       "output_type": "stream",
       "stream": "stderr",
       "text": [
        "14%\r"
       ]
      },
      {
       "output_type": "stream",
       "stream": "stderr",
       "text": [
        "15%\r"
       ]
      },
      {
       "output_type": "stream",
       "stream": "stderr",
       "text": [
        "16%\r"
       ]
      },
      {
       "output_type": "stream",
       "stream": "stderr",
       "text": [
        "17%\r"
       ]
      },
      {
       "output_type": "stream",
       "stream": "stderr",
       "text": [
        "18%\r"
       ]
      },
      {
       "output_type": "stream",
       "stream": "stderr",
       "text": [
        "19%\r"
       ]
      },
      {
       "output_type": "stream",
       "stream": "stderr",
       "text": [
        "20%\r"
       ]
      },
      {
       "output_type": "stream",
       "stream": "stderr",
       "text": [
        "21%\r"
       ]
      },
      {
       "output_type": "stream",
       "stream": "stderr",
       "text": [
        "22%\r"
       ]
      },
      {
       "output_type": "stream",
       "stream": "stderr",
       "text": [
        "23%\r"
       ]
      },
      {
       "output_type": "stream",
       "stream": "stderr",
       "text": [
        "24%\r"
       ]
      },
      {
       "output_type": "stream",
       "stream": "stderr",
       "text": [
        "25%\r"
       ]
      },
      {
       "output_type": "stream",
       "stream": "stderr",
       "text": [
        "26%\r"
       ]
      },
      {
       "output_type": "stream",
       "stream": "stderr",
       "text": [
        "27%\r"
       ]
      },
      {
       "output_type": "stream",
       "stream": "stderr",
       "text": [
        "28%\r"
       ]
      },
      {
       "output_type": "stream",
       "stream": "stderr",
       "text": [
        "29%\r"
       ]
      },
      {
       "output_type": "stream",
       "stream": "stderr",
       "text": [
        "30%\r"
       ]
      },
      {
       "output_type": "stream",
       "stream": "stderr",
       "text": [
        "31%\r"
       ]
      },
      {
       "output_type": "stream",
       "stream": "stderr",
       "text": [
        "32%\r"
       ]
      },
      {
       "output_type": "stream",
       "stream": "stderr",
       "text": [
        "33%\r"
       ]
      },
      {
       "output_type": "stream",
       "stream": "stderr",
       "text": [
        "34%\r"
       ]
      },
      {
       "output_type": "stream",
       "stream": "stderr",
       "text": [
        "35%\r"
       ]
      },
      {
       "output_type": "stream",
       "stream": "stderr",
       "text": [
        "36%\r"
       ]
      },
      {
       "output_type": "stream",
       "stream": "stderr",
       "text": [
        "37%\r"
       ]
      },
      {
       "output_type": "stream",
       "stream": "stderr",
       "text": [
        "38%\r"
       ]
      },
      {
       "output_type": "stream",
       "stream": "stderr",
       "text": [
        "39%\r"
       ]
      },
      {
       "output_type": "stream",
       "stream": "stderr",
       "text": [
        "40%\r"
       ]
      },
      {
       "output_type": "stream",
       "stream": "stderr",
       "text": [
        "41%\r"
       ]
      },
      {
       "output_type": "stream",
       "stream": "stderr",
       "text": [
        "42%\r"
       ]
      },
      {
       "output_type": "stream",
       "stream": "stderr",
       "text": [
        "43%\r"
       ]
      },
      {
       "output_type": "stream",
       "stream": "stderr",
       "text": [
        "44%\r"
       ]
      },
      {
       "output_type": "stream",
       "stream": "stderr",
       "text": [
        "45%\r"
       ]
      },
      {
       "output_type": "stream",
       "stream": "stderr",
       "text": [
        "46%\r"
       ]
      },
      {
       "output_type": "stream",
       "stream": "stderr",
       "text": [
        "47%\r"
       ]
      },
      {
       "output_type": "stream",
       "stream": "stderr",
       "text": [
        "48%\r"
       ]
      },
      {
       "output_type": "stream",
       "stream": "stderr",
       "text": [
        "49%\r"
       ]
      },
      {
       "output_type": "stream",
       "stream": "stderr",
       "text": [
        "50%\r"
       ]
      },
      {
       "output_type": "stream",
       "stream": "stderr",
       "text": [
        "51%\r"
       ]
      },
      {
       "output_type": "stream",
       "stream": "stderr",
       "text": [
        "52%\r"
       ]
      },
      {
       "output_type": "stream",
       "stream": "stderr",
       "text": [
        "53%\r"
       ]
      },
      {
       "output_type": "stream",
       "stream": "stderr",
       "text": [
        "54%\r"
       ]
      },
      {
       "output_type": "stream",
       "stream": "stderr",
       "text": [
        "55%\r"
       ]
      },
      {
       "output_type": "stream",
       "stream": "stderr",
       "text": [
        "56%\r"
       ]
      },
      {
       "output_type": "stream",
       "stream": "stderr",
       "text": [
        "57%\r"
       ]
      },
      {
       "output_type": "stream",
       "stream": "stderr",
       "text": [
        "58%\r"
       ]
      },
      {
       "output_type": "stream",
       "stream": "stderr",
       "text": [
        "59%\r"
       ]
      },
      {
       "output_type": "stream",
       "stream": "stderr",
       "text": [
        "60%\r"
       ]
      },
      {
       "output_type": "stream",
       "stream": "stderr",
       "text": [
        "61%\r"
       ]
      },
      {
       "output_type": "stream",
       "stream": "stderr",
       "text": [
        "62%\r"
       ]
      },
      {
       "output_type": "stream",
       "stream": "stderr",
       "text": [
        "63%\r"
       ]
      },
      {
       "output_type": "stream",
       "stream": "stderr",
       "text": [
        "64%\r"
       ]
      },
      {
       "output_type": "stream",
       "stream": "stderr",
       "text": [
        "65%\r"
       ]
      },
      {
       "output_type": "stream",
       "stream": "stderr",
       "text": [
        "66%\r"
       ]
      },
      {
       "output_type": "stream",
       "stream": "stderr",
       "text": [
        "67%\r"
       ]
      },
      {
       "output_type": "stream",
       "stream": "stderr",
       "text": [
        "68%\r"
       ]
      },
      {
       "output_type": "stream",
       "stream": "stderr",
       "text": [
        "69%\r"
       ]
      },
      {
       "output_type": "stream",
       "stream": "stderr",
       "text": [
        "70%\r"
       ]
      },
      {
       "output_type": "stream",
       "stream": "stderr",
       "text": [
        "71%\r"
       ]
      },
      {
       "output_type": "stream",
       "stream": "stderr",
       "text": [
        "72%\r"
       ]
      },
      {
       "output_type": "stream",
       "stream": "stderr",
       "text": [
        "73%\r"
       ]
      },
      {
       "output_type": "stream",
       "stream": "stderr",
       "text": [
        "74%\r"
       ]
      },
      {
       "output_type": "stream",
       "stream": "stderr",
       "text": [
        "75%\r"
       ]
      },
      {
       "output_type": "stream",
       "stream": "stderr",
       "text": [
        "76%\r"
       ]
      },
      {
       "output_type": "stream",
       "stream": "stderr",
       "text": [
        "77%\r"
       ]
      },
      {
       "output_type": "stream",
       "stream": "stderr",
       "text": [
        "78%\r"
       ]
      },
      {
       "output_type": "stream",
       "stream": "stderr",
       "text": [
        "79%\r"
       ]
      },
      {
       "output_type": "stream",
       "stream": "stderr",
       "text": [
        "80%\r"
       ]
      },
      {
       "output_type": "stream",
       "stream": "stderr",
       "text": [
        "81%\r"
       ]
      },
      {
       "output_type": "stream",
       "stream": "stderr",
       "text": [
        "82%\r"
       ]
      },
      {
       "output_type": "stream",
       "stream": "stderr",
       "text": [
        "83%\r"
       ]
      },
      {
       "output_type": "stream",
       "stream": "stderr",
       "text": [
        "84%\r"
       ]
      },
      {
       "output_type": "stream",
       "stream": "stderr",
       "text": [
        "85%\r"
       ]
      },
      {
       "output_type": "stream",
       "stream": "stderr",
       "text": [
        "86%\r"
       ]
      },
      {
       "output_type": "stream",
       "stream": "stderr",
       "text": [
        "87%\r"
       ]
      },
      {
       "output_type": "stream",
       "stream": "stderr",
       "text": [
        "88%\r"
       ]
      },
      {
       "output_type": "stream",
       "stream": "stderr",
       "text": [
        "89%\r"
       ]
      },
      {
       "output_type": "stream",
       "stream": "stderr",
       "text": [
        "90%\r"
       ]
      },
      {
       "output_type": "stream",
       "stream": "stderr",
       "text": [
        "91%\r"
       ]
      },
      {
       "output_type": "stream",
       "stream": "stderr",
       "text": [
        "92%\r"
       ]
      },
      {
       "output_type": "stream",
       "stream": "stderr",
       "text": [
        "93%\r"
       ]
      },
      {
       "output_type": "stream",
       "stream": "stderr",
       "text": [
        "94%\r"
       ]
      },
      {
       "output_type": "stream",
       "stream": "stderr",
       "text": [
        "95%\r"
       ]
      },
      {
       "output_type": "stream",
       "stream": "stderr",
       "text": [
        "96%\r"
       ]
      },
      {
       "output_type": "stream",
       "stream": "stderr",
       "text": [
        "97%\r"
       ]
      },
      {
       "output_type": "stream",
       "stream": "stderr",
       "text": [
        "98%\r"
       ]
      },
      {
       "output_type": "stream",
       "stream": "stderr",
       "text": [
        "99%\r"
       ]
      },
      {
       "output_type": "stream",
       "stream": "stderr",
       "text": [
        "100%\r"
       ]
      },
      {
       "output_type": "stream",
       "stream": "stderr",
       "text": [
        "100%\n"
       ]
      },
      {
       "output_type": "stream",
       "stream": "stdout",
       "text": [
        "\n",
        "  loss 1.22988457997\n",
        "  err  0.435246394231\n",
        "  (0:00:48)\n",
        "Epoch 31:"
       ]
      },
      {
       "output_type": "stream",
       "stream": "stderr",
       "text": [
        "1%\r"
       ]
      },
      {
       "output_type": "stream",
       "stream": "stderr",
       "text": [
        "2%\r"
       ]
      },
      {
       "output_type": "stream",
       "stream": "stderr",
       "text": [
        "3%\r"
       ]
      },
      {
       "output_type": "stream",
       "stream": "stderr",
       "text": [
        "4%\r"
       ]
      },
      {
       "output_type": "stream",
       "stream": "stderr",
       "text": [
        "5%\r"
       ]
      },
      {
       "output_type": "stream",
       "stream": "stderr",
       "text": [
        "6%\r"
       ]
      },
      {
       "output_type": "stream",
       "stream": "stderr",
       "text": [
        "7%\r"
       ]
      },
      {
       "output_type": "stream",
       "stream": "stderr",
       "text": [
        "8%\r"
       ]
      },
      {
       "output_type": "stream",
       "stream": "stderr",
       "text": [
        "9%\r"
       ]
      },
      {
       "output_type": "stream",
       "stream": "stderr",
       "text": [
        "10%\r"
       ]
      },
      {
       "output_type": "stream",
       "stream": "stderr",
       "text": [
        "11%\r"
       ]
      },
      {
       "output_type": "stream",
       "stream": "stderr",
       "text": [
        "12%\r"
       ]
      },
      {
       "output_type": "stream",
       "stream": "stderr",
       "text": [
        "13%\r"
       ]
      },
      {
       "output_type": "stream",
       "stream": "stderr",
       "text": [
        "14%\r"
       ]
      },
      {
       "output_type": "stream",
       "stream": "stderr",
       "text": [
        "15%\r"
       ]
      },
      {
       "output_type": "stream",
       "stream": "stderr",
       "text": [
        "16%\r"
       ]
      },
      {
       "output_type": "stream",
       "stream": "stderr",
       "text": [
        "17%\r"
       ]
      },
      {
       "output_type": "stream",
       "stream": "stderr",
       "text": [
        "18%\r"
       ]
      },
      {
       "output_type": "stream",
       "stream": "stderr",
       "text": [
        "19%\r"
       ]
      },
      {
       "output_type": "stream",
       "stream": "stderr",
       "text": [
        "20%\r"
       ]
      },
      {
       "output_type": "stream",
       "stream": "stderr",
       "text": [
        "21%\r"
       ]
      },
      {
       "output_type": "stream",
       "stream": "stderr",
       "text": [
        "22%\r"
       ]
      },
      {
       "output_type": "stream",
       "stream": "stderr",
       "text": [
        "23%\r"
       ]
      },
      {
       "output_type": "stream",
       "stream": "stderr",
       "text": [
        "24%\r"
       ]
      },
      {
       "output_type": "stream",
       "stream": "stderr",
       "text": [
        "25%\r"
       ]
      },
      {
       "output_type": "stream",
       "stream": "stderr",
       "text": [
        "26%\r"
       ]
      },
      {
       "output_type": "stream",
       "stream": "stderr",
       "text": [
        "27%\r"
       ]
      },
      {
       "output_type": "stream",
       "stream": "stderr",
       "text": [
        "28%\r"
       ]
      },
      {
       "output_type": "stream",
       "stream": "stderr",
       "text": [
        "29%\r"
       ]
      },
      {
       "output_type": "stream",
       "stream": "stderr",
       "text": [
        "30%\r"
       ]
      },
      {
       "output_type": "stream",
       "stream": "stderr",
       "text": [
        "31%\r"
       ]
      },
      {
       "output_type": "stream",
       "stream": "stderr",
       "text": [
        "32%\r"
       ]
      },
      {
       "output_type": "stream",
       "stream": "stderr",
       "text": [
        "33%\r"
       ]
      },
      {
       "output_type": "stream",
       "stream": "stderr",
       "text": [
        "34%\r"
       ]
      },
      {
       "output_type": "stream",
       "stream": "stderr",
       "text": [
        "35%\r"
       ]
      },
      {
       "output_type": "stream",
       "stream": "stderr",
       "text": [
        "36%\r"
       ]
      },
      {
       "output_type": "stream",
       "stream": "stderr",
       "text": [
        "37%\r"
       ]
      },
      {
       "output_type": "stream",
       "stream": "stderr",
       "text": [
        "38%\r"
       ]
      },
      {
       "output_type": "stream",
       "stream": "stderr",
       "text": [
        "39%\r"
       ]
      },
      {
       "output_type": "stream",
       "stream": "stderr",
       "text": [
        "40%\r"
       ]
      },
      {
       "output_type": "stream",
       "stream": "stderr",
       "text": [
        "41%\r"
       ]
      },
      {
       "output_type": "stream",
       "stream": "stderr",
       "text": [
        "42%\r"
       ]
      },
      {
       "output_type": "stream",
       "stream": "stderr",
       "text": [
        "43%\r"
       ]
      },
      {
       "output_type": "stream",
       "stream": "stderr",
       "text": [
        "44%\r"
       ]
      },
      {
       "output_type": "stream",
       "stream": "stderr",
       "text": [
        "45%\r"
       ]
      },
      {
       "output_type": "stream",
       "stream": "stderr",
       "text": [
        "46%\r"
       ]
      },
      {
       "output_type": "stream",
       "stream": "stderr",
       "text": [
        "47%\r"
       ]
      },
      {
       "output_type": "stream",
       "stream": "stderr",
       "text": [
        "48%\r"
       ]
      },
      {
       "output_type": "stream",
       "stream": "stderr",
       "text": [
        "49%\r"
       ]
      },
      {
       "output_type": "stream",
       "stream": "stderr",
       "text": [
        "50%\r"
       ]
      },
      {
       "output_type": "stream",
       "stream": "stderr",
       "text": [
        "51%\r"
       ]
      },
      {
       "output_type": "stream",
       "stream": "stderr",
       "text": [
        "52%\r"
       ]
      },
      {
       "output_type": "stream",
       "stream": "stderr",
       "text": [
        "53%\r"
       ]
      },
      {
       "output_type": "stream",
       "stream": "stderr",
       "text": [
        "54%\r"
       ]
      },
      {
       "output_type": "stream",
       "stream": "stderr",
       "text": [
        "55%\r"
       ]
      },
      {
       "output_type": "stream",
       "stream": "stderr",
       "text": [
        "56%\r"
       ]
      },
      {
       "output_type": "stream",
       "stream": "stderr",
       "text": [
        "57%\r"
       ]
      },
      {
       "output_type": "stream",
       "stream": "stderr",
       "text": [
        "58%\r"
       ]
      },
      {
       "output_type": "stream",
       "stream": "stderr",
       "text": [
        "59%\r"
       ]
      },
      {
       "output_type": "stream",
       "stream": "stderr",
       "text": [
        "60%\r"
       ]
      },
      {
       "output_type": "stream",
       "stream": "stderr",
       "text": [
        "61%\r"
       ]
      },
      {
       "output_type": "stream",
       "stream": "stderr",
       "text": [
        "62%\r"
       ]
      },
      {
       "output_type": "stream",
       "stream": "stderr",
       "text": [
        "63%\r"
       ]
      },
      {
       "output_type": "stream",
       "stream": "stderr",
       "text": [
        "64%\r"
       ]
      },
      {
       "output_type": "stream",
       "stream": "stderr",
       "text": [
        "65%\r"
       ]
      },
      {
       "output_type": "stream",
       "stream": "stderr",
       "text": [
        "66%\r"
       ]
      },
      {
       "output_type": "stream",
       "stream": "stderr",
       "text": [
        "67%\r"
       ]
      },
      {
       "output_type": "stream",
       "stream": "stderr",
       "text": [
        "68%\r"
       ]
      },
      {
       "output_type": "stream",
       "stream": "stderr",
       "text": [
        "69%\r"
       ]
      },
      {
       "output_type": "stream",
       "stream": "stderr",
       "text": [
        "70%\r"
       ]
      },
      {
       "output_type": "stream",
       "stream": "stderr",
       "text": [
        "71%\r"
       ]
      },
      {
       "output_type": "stream",
       "stream": "stderr",
       "text": [
        "72%\r"
       ]
      },
      {
       "output_type": "stream",
       "stream": "stderr",
       "text": [
        "73%\r"
       ]
      },
      {
       "output_type": "stream",
       "stream": "stderr",
       "text": [
        "74%\r"
       ]
      },
      {
       "output_type": "stream",
       "stream": "stderr",
       "text": [
        "75%\r"
       ]
      },
      {
       "output_type": "stream",
       "stream": "stderr",
       "text": [
        "76%\r"
       ]
      },
      {
       "output_type": "stream",
       "stream": "stderr",
       "text": [
        "77%\r"
       ]
      },
      {
       "output_type": "stream",
       "stream": "stderr",
       "text": [
        "78%\r"
       ]
      },
      {
       "output_type": "stream",
       "stream": "stderr",
       "text": [
        "79%\r"
       ]
      },
      {
       "output_type": "stream",
       "stream": "stderr",
       "text": [
        "80%\r"
       ]
      },
      {
       "output_type": "stream",
       "stream": "stderr",
       "text": [
        "81%\r"
       ]
      },
      {
       "output_type": "stream",
       "stream": "stderr",
       "text": [
        "82%\r"
       ]
      },
      {
       "output_type": "stream",
       "stream": "stderr",
       "text": [
        "83%\r"
       ]
      },
      {
       "output_type": "stream",
       "stream": "stderr",
       "text": [
        "84%\r"
       ]
      },
      {
       "output_type": "stream",
       "stream": "stderr",
       "text": [
        "85%\r"
       ]
      },
      {
       "output_type": "stream",
       "stream": "stderr",
       "text": [
        "86%\r"
       ]
      },
      {
       "output_type": "stream",
       "stream": "stderr",
       "text": [
        "87%\r"
       ]
      },
      {
       "output_type": "stream",
       "stream": "stderr",
       "text": [
        "88%\r"
       ]
      },
      {
       "output_type": "stream",
       "stream": "stderr",
       "text": [
        "89%\r"
       ]
      },
      {
       "output_type": "stream",
       "stream": "stderr",
       "text": [
        "90%\r"
       ]
      },
      {
       "output_type": "stream",
       "stream": "stderr",
       "text": [
        "91%\r"
       ]
      },
      {
       "output_type": "stream",
       "stream": "stderr",
       "text": [
        "92%\r"
       ]
      },
      {
       "output_type": "stream",
       "stream": "stderr",
       "text": [
        "93%\r"
       ]
      },
      {
       "output_type": "stream",
       "stream": "stderr",
       "text": [
        "94%\r"
       ]
      },
      {
       "output_type": "stream",
       "stream": "stderr",
       "text": [
        "95%\r"
       ]
      },
      {
       "output_type": "stream",
       "stream": "stderr",
       "text": [
        "96%\r"
       ]
      },
      {
       "output_type": "stream",
       "stream": "stderr",
       "text": [
        "97%\r"
       ]
      },
      {
       "output_type": "stream",
       "stream": "stderr",
       "text": [
        "98%\r"
       ]
      },
      {
       "output_type": "stream",
       "stream": "stderr",
       "text": [
        "99%\r"
       ]
      },
      {
       "output_type": "stream",
       "stream": "stderr",
       "text": [
        "100%\r"
       ]
      },
      {
       "output_type": "stream",
       "stream": "stderr",
       "text": [
        "100%\n"
       ]
      },
      {
       "output_type": "stream",
       "stream": "stdout",
       "text": [
        "\n",
        "  loss 1.23668955801\n",
        "  err  0.438401442308\n",
        "  (0:00:42)\n",
        "Epoch 32:"
       ]
      },
      {
       "output_type": "stream",
       "stream": "stderr",
       "text": [
        "1%\r"
       ]
      },
      {
       "output_type": "stream",
       "stream": "stderr",
       "text": [
        "2%\r"
       ]
      },
      {
       "output_type": "stream",
       "stream": "stderr",
       "text": [
        "3%\r"
       ]
      },
      {
       "output_type": "stream",
       "stream": "stderr",
       "text": [
        "4%\r"
       ]
      },
      {
       "output_type": "stream",
       "stream": "stderr",
       "text": [
        "5%\r"
       ]
      },
      {
       "output_type": "stream",
       "stream": "stderr",
       "text": [
        "6%\r"
       ]
      },
      {
       "output_type": "stream",
       "stream": "stderr",
       "text": [
        "7%\r"
       ]
      },
      {
       "output_type": "stream",
       "stream": "stderr",
       "text": [
        "8%\r"
       ]
      },
      {
       "output_type": "stream",
       "stream": "stderr",
       "text": [
        "9%\r"
       ]
      },
      {
       "output_type": "stream",
       "stream": "stderr",
       "text": [
        "10%\r"
       ]
      },
      {
       "output_type": "stream",
       "stream": "stderr",
       "text": [
        "11%\r"
       ]
      },
      {
       "output_type": "stream",
       "stream": "stderr",
       "text": [
        "12%\r"
       ]
      },
      {
       "output_type": "stream",
       "stream": "stderr",
       "text": [
        "13%\r"
       ]
      },
      {
       "output_type": "stream",
       "stream": "stderr",
       "text": [
        "14%\r"
       ]
      },
      {
       "output_type": "stream",
       "stream": "stderr",
       "text": [
        "15%\r"
       ]
      },
      {
       "output_type": "stream",
       "stream": "stderr",
       "text": [
        "16%\r"
       ]
      },
      {
       "output_type": "stream",
       "stream": "stderr",
       "text": [
        "17%\r"
       ]
      },
      {
       "output_type": "stream",
       "stream": "stderr",
       "text": [
        "18%\r"
       ]
      },
      {
       "output_type": "stream",
       "stream": "stderr",
       "text": [
        "19%\r"
       ]
      },
      {
       "output_type": "stream",
       "stream": "stderr",
       "text": [
        "20%\r"
       ]
      },
      {
       "output_type": "stream",
       "stream": "stderr",
       "text": [
        "21%\r"
       ]
      },
      {
       "output_type": "stream",
       "stream": "stderr",
       "text": [
        "22%\r"
       ]
      },
      {
       "output_type": "stream",
       "stream": "stderr",
       "text": [
        "23%\r"
       ]
      },
      {
       "output_type": "stream",
       "stream": "stderr",
       "text": [
        "24%\r"
       ]
      },
      {
       "output_type": "stream",
       "stream": "stderr",
       "text": [
        "25%\r"
       ]
      },
      {
       "output_type": "stream",
       "stream": "stderr",
       "text": [
        "26%\r"
       ]
      },
      {
       "output_type": "stream",
       "stream": "stderr",
       "text": [
        "27%\r"
       ]
      },
      {
       "output_type": "stream",
       "stream": "stderr",
       "text": [
        "28%\r"
       ]
      },
      {
       "output_type": "stream",
       "stream": "stderr",
       "text": [
        "29%\r"
       ]
      },
      {
       "output_type": "stream",
       "stream": "stderr",
       "text": [
        "30%\r"
       ]
      },
      {
       "output_type": "stream",
       "stream": "stderr",
       "text": [
        "31%\r"
       ]
      },
      {
       "output_type": "stream",
       "stream": "stderr",
       "text": [
        "32%\r"
       ]
      },
      {
       "output_type": "stream",
       "stream": "stderr",
       "text": [
        "33%\r"
       ]
      },
      {
       "output_type": "stream",
       "stream": "stderr",
       "text": [
        "34%\r"
       ]
      },
      {
       "output_type": "stream",
       "stream": "stderr",
       "text": [
        "35%\r"
       ]
      },
      {
       "output_type": "stream",
       "stream": "stderr",
       "text": [
        "36%\r"
       ]
      },
      {
       "output_type": "stream",
       "stream": "stderr",
       "text": [
        "37%\r"
       ]
      },
      {
       "output_type": "stream",
       "stream": "stderr",
       "text": [
        "38%\r"
       ]
      },
      {
       "output_type": "stream",
       "stream": "stderr",
       "text": [
        "39%\r"
       ]
      },
      {
       "output_type": "stream",
       "stream": "stderr",
       "text": [
        "40%\r"
       ]
      },
      {
       "output_type": "stream",
       "stream": "stderr",
       "text": [
        "41%\r"
       ]
      },
      {
       "output_type": "stream",
       "stream": "stderr",
       "text": [
        "42%\r"
       ]
      },
      {
       "output_type": "stream",
       "stream": "stderr",
       "text": [
        "43%\r"
       ]
      },
      {
       "output_type": "stream",
       "stream": "stderr",
       "text": [
        "44%\r"
       ]
      },
      {
       "output_type": "stream",
       "stream": "stderr",
       "text": [
        "45%\r"
       ]
      },
      {
       "output_type": "stream",
       "stream": "stderr",
       "text": [
        "46%\r"
       ]
      },
      {
       "output_type": "stream",
       "stream": "stderr",
       "text": [
        "47%\r"
       ]
      },
      {
       "output_type": "stream",
       "stream": "stderr",
       "text": [
        "48%\r"
       ]
      },
      {
       "output_type": "stream",
       "stream": "stderr",
       "text": [
        "49%\r"
       ]
      },
      {
       "output_type": "stream",
       "stream": "stderr",
       "text": [
        "50%\r"
       ]
      },
      {
       "output_type": "stream",
       "stream": "stderr",
       "text": [
        "51%\r"
       ]
      },
      {
       "output_type": "stream",
       "stream": "stderr",
       "text": [
        "52%\r"
       ]
      },
      {
       "output_type": "stream",
       "stream": "stderr",
       "text": [
        "53%\r"
       ]
      },
      {
       "output_type": "stream",
       "stream": "stderr",
       "text": [
        "54%\r"
       ]
      },
      {
       "output_type": "stream",
       "stream": "stderr",
       "text": [
        "55%\r"
       ]
      },
      {
       "output_type": "stream",
       "stream": "stderr",
       "text": [
        "56%\r"
       ]
      },
      {
       "output_type": "stream",
       "stream": "stderr",
       "text": [
        "57%\r"
       ]
      },
      {
       "output_type": "stream",
       "stream": "stderr",
       "text": [
        "58%\r"
       ]
      },
      {
       "output_type": "stream",
       "stream": "stderr",
       "text": [
        "59%\r"
       ]
      },
      {
       "output_type": "stream",
       "stream": "stderr",
       "text": [
        "60%\r"
       ]
      },
      {
       "output_type": "stream",
       "stream": "stderr",
       "text": [
        "61%\r"
       ]
      },
      {
       "output_type": "stream",
       "stream": "stderr",
       "text": [
        "62%\r"
       ]
      },
      {
       "output_type": "stream",
       "stream": "stderr",
       "text": [
        "63%\r"
       ]
      },
      {
       "output_type": "stream",
       "stream": "stderr",
       "text": [
        "64%\r"
       ]
      },
      {
       "output_type": "stream",
       "stream": "stderr",
       "text": [
        "65%\r"
       ]
      },
      {
       "output_type": "stream",
       "stream": "stderr",
       "text": [
        "66%\r"
       ]
      },
      {
       "output_type": "stream",
       "stream": "stderr",
       "text": [
        "67%\r"
       ]
      },
      {
       "output_type": "stream",
       "stream": "stderr",
       "text": [
        "68%\r"
       ]
      },
      {
       "output_type": "stream",
       "stream": "stderr",
       "text": [
        "69%\r"
       ]
      },
      {
       "output_type": "stream",
       "stream": "stderr",
       "text": [
        "70%\r"
       ]
      },
      {
       "output_type": "stream",
       "stream": "stderr",
       "text": [
        "71%\r"
       ]
      },
      {
       "output_type": "stream",
       "stream": "stderr",
       "text": [
        "72%\r"
       ]
      },
      {
       "output_type": "stream",
       "stream": "stderr",
       "text": [
        "73%\r"
       ]
      },
      {
       "output_type": "stream",
       "stream": "stderr",
       "text": [
        "74%\r"
       ]
      },
      {
       "output_type": "stream",
       "stream": "stderr",
       "text": [
        "75%\r"
       ]
      },
      {
       "output_type": "stream",
       "stream": "stderr",
       "text": [
        "76%\r"
       ]
      },
      {
       "output_type": "stream",
       "stream": "stderr",
       "text": [
        "77%\r"
       ]
      },
      {
       "output_type": "stream",
       "stream": "stderr",
       "text": [
        "78%\r"
       ]
      },
      {
       "output_type": "stream",
       "stream": "stderr",
       "text": [
        "79%\r"
       ]
      },
      {
       "output_type": "stream",
       "stream": "stderr",
       "text": [
        "80%\r"
       ]
      },
      {
       "output_type": "stream",
       "stream": "stderr",
       "text": [
        "81%\r"
       ]
      },
      {
       "output_type": "stream",
       "stream": "stderr",
       "text": [
        "82%\r"
       ]
      },
      {
       "output_type": "stream",
       "stream": "stderr",
       "text": [
        "83%\r"
       ]
      },
      {
       "output_type": "stream",
       "stream": "stderr",
       "text": [
        "84%\r"
       ]
      },
      {
       "output_type": "stream",
       "stream": "stderr",
       "text": [
        "85%\r"
       ]
      },
      {
       "output_type": "stream",
       "stream": "stderr",
       "text": [
        "86%\r"
       ]
      },
      {
       "output_type": "stream",
       "stream": "stderr",
       "text": [
        "87%\r"
       ]
      },
      {
       "output_type": "stream",
       "stream": "stderr",
       "text": [
        "88%\r"
       ]
      },
      {
       "output_type": "stream",
       "stream": "stderr",
       "text": [
        "89%\r"
       ]
      },
      {
       "output_type": "stream",
       "stream": "stderr",
       "text": [
        "90%\r"
       ]
      },
      {
       "output_type": "stream",
       "stream": "stderr",
       "text": [
        "91%\r"
       ]
      },
      {
       "output_type": "stream",
       "stream": "stderr",
       "text": [
        "92%\r"
       ]
      },
      {
       "output_type": "stream",
       "stream": "stderr",
       "text": [
        "93%\r"
       ]
      },
      {
       "output_type": "stream",
       "stream": "stderr",
       "text": [
        "94%\r"
       ]
      },
      {
       "output_type": "stream",
       "stream": "stderr",
       "text": [
        "95%\r"
       ]
      },
      {
       "output_type": "stream",
       "stream": "stderr",
       "text": [
        "96%\r"
       ]
      },
      {
       "output_type": "stream",
       "stream": "stderr",
       "text": [
        "97%\r"
       ]
      },
      {
       "output_type": "stream",
       "stream": "stderr",
       "text": [
        "98%\r"
       ]
      },
      {
       "output_type": "stream",
       "stream": "stderr",
       "text": [
        "99%\r"
       ]
      },
      {
       "output_type": "stream",
       "stream": "stderr",
       "text": [
        "100%\r"
       ]
      },
      {
       "output_type": "stream",
       "stream": "stderr",
       "text": [
        "100%\n"
       ]
      },
      {
       "output_type": "stream",
       "stream": "stdout",
       "text": [
        "\n",
        "  loss 1.22106355543\n",
        "  err  0.434895833333\n",
        "  (0:00:42)\n",
        "Epoch 33:"
       ]
      },
      {
       "output_type": "stream",
       "stream": "stderr",
       "text": [
        "1%\r"
       ]
      },
      {
       "output_type": "stream",
       "stream": "stderr",
       "text": [
        "2%\r"
       ]
      },
      {
       "output_type": "stream",
       "stream": "stderr",
       "text": [
        "3%\r"
       ]
      },
      {
       "output_type": "stream",
       "stream": "stderr",
       "text": [
        "4%\r"
       ]
      },
      {
       "output_type": "stream",
       "stream": "stderr",
       "text": [
        "5%\r"
       ]
      },
      {
       "output_type": "stream",
       "stream": "stderr",
       "text": [
        "6%\r"
       ]
      },
      {
       "output_type": "stream",
       "stream": "stderr",
       "text": [
        "7%\r"
       ]
      },
      {
       "output_type": "stream",
       "stream": "stderr",
       "text": [
        "8%\r"
       ]
      },
      {
       "output_type": "stream",
       "stream": "stderr",
       "text": [
        "9%\r"
       ]
      },
      {
       "output_type": "stream",
       "stream": "stderr",
       "text": [
        "10%\r"
       ]
      },
      {
       "output_type": "stream",
       "stream": "stderr",
       "text": [
        "11%\r"
       ]
      },
      {
       "output_type": "stream",
       "stream": "stderr",
       "text": [
        "12%\r"
       ]
      },
      {
       "output_type": "stream",
       "stream": "stderr",
       "text": [
        "13%\r"
       ]
      },
      {
       "output_type": "stream",
       "stream": "stderr",
       "text": [
        "14%\r"
       ]
      },
      {
       "output_type": "stream",
       "stream": "stderr",
       "text": [
        "15%\r"
       ]
      },
      {
       "output_type": "stream",
       "stream": "stderr",
       "text": [
        "16%\r"
       ]
      },
      {
       "output_type": "stream",
       "stream": "stderr",
       "text": [
        "17%\r"
       ]
      },
      {
       "output_type": "stream",
       "stream": "stderr",
       "text": [
        "18%\r"
       ]
      },
      {
       "output_type": "stream",
       "stream": "stderr",
       "text": [
        "19%\r"
       ]
      },
      {
       "output_type": "stream",
       "stream": "stderr",
       "text": [
        "20%\r"
       ]
      },
      {
       "output_type": "stream",
       "stream": "stderr",
       "text": [
        "21%\r"
       ]
      },
      {
       "output_type": "stream",
       "stream": "stderr",
       "text": [
        "22%\r"
       ]
      },
      {
       "output_type": "stream",
       "stream": "stderr",
       "text": [
        "23%\r"
       ]
      },
      {
       "output_type": "stream",
       "stream": "stderr",
       "text": [
        "24%\r"
       ]
      },
      {
       "output_type": "stream",
       "stream": "stderr",
       "text": [
        "25%\r"
       ]
      },
      {
       "output_type": "stream",
       "stream": "stderr",
       "text": [
        "26%\r"
       ]
      },
      {
       "output_type": "stream",
       "stream": "stderr",
       "text": [
        "27%\r"
       ]
      },
      {
       "output_type": "stream",
       "stream": "stderr",
       "text": [
        "28%\r"
       ]
      },
      {
       "output_type": "stream",
       "stream": "stderr",
       "text": [
        "29%\r"
       ]
      },
      {
       "output_type": "stream",
       "stream": "stderr",
       "text": [
        "30%\r"
       ]
      },
      {
       "output_type": "stream",
       "stream": "stderr",
       "text": [
        "31%\r"
       ]
      },
      {
       "output_type": "stream",
       "stream": "stderr",
       "text": [
        "32%\r"
       ]
      },
      {
       "output_type": "stream",
       "stream": "stderr",
       "text": [
        "33%\r"
       ]
      },
      {
       "output_type": "stream",
       "stream": "stderr",
       "text": [
        "34%\r"
       ]
      },
      {
       "output_type": "stream",
       "stream": "stderr",
       "text": [
        "35%\r"
       ]
      },
      {
       "output_type": "stream",
       "stream": "stderr",
       "text": [
        "36%\r"
       ]
      },
      {
       "output_type": "stream",
       "stream": "stderr",
       "text": [
        "37%\r"
       ]
      },
      {
       "output_type": "stream",
       "stream": "stderr",
       "text": [
        "38%\r"
       ]
      },
      {
       "output_type": "stream",
       "stream": "stderr",
       "text": [
        "39%\r"
       ]
      },
      {
       "output_type": "stream",
       "stream": "stderr",
       "text": [
        "40%\r"
       ]
      },
      {
       "output_type": "stream",
       "stream": "stderr",
       "text": [
        "41%\r"
       ]
      },
      {
       "output_type": "stream",
       "stream": "stderr",
       "text": [
        "42%\r"
       ]
      },
      {
       "output_type": "stream",
       "stream": "stderr",
       "text": [
        "43%\r"
       ]
      },
      {
       "output_type": "stream",
       "stream": "stderr",
       "text": [
        "44%\r"
       ]
      },
      {
       "output_type": "stream",
       "stream": "stderr",
       "text": [
        "45%\r"
       ]
      },
      {
       "output_type": "stream",
       "stream": "stderr",
       "text": [
        "46%\r"
       ]
      },
      {
       "output_type": "stream",
       "stream": "stderr",
       "text": [
        "47%\r"
       ]
      },
      {
       "output_type": "stream",
       "stream": "stderr",
       "text": [
        "48%\r"
       ]
      },
      {
       "output_type": "stream",
       "stream": "stderr",
       "text": [
        "49%\r"
       ]
      },
      {
       "output_type": "stream",
       "stream": "stderr",
       "text": [
        "50%\r"
       ]
      },
      {
       "output_type": "stream",
       "stream": "stderr",
       "text": [
        "51%\r"
       ]
      },
      {
       "output_type": "stream",
       "stream": "stderr",
       "text": [
        "52%\r"
       ]
      },
      {
       "output_type": "stream",
       "stream": "stderr",
       "text": [
        "53%\r"
       ]
      },
      {
       "output_type": "stream",
       "stream": "stderr",
       "text": [
        "54%\r"
       ]
      },
      {
       "output_type": "stream",
       "stream": "stderr",
       "text": [
        "55%\r"
       ]
      },
      {
       "output_type": "stream",
       "stream": "stderr",
       "text": [
        "56%\r"
       ]
      },
      {
       "output_type": "stream",
       "stream": "stderr",
       "text": [
        "57%\r"
       ]
      },
      {
       "output_type": "stream",
       "stream": "stderr",
       "text": [
        "58%\r"
       ]
      },
      {
       "output_type": "stream",
       "stream": "stderr",
       "text": [
        "59%\r"
       ]
      },
      {
       "output_type": "stream",
       "stream": "stderr",
       "text": [
        "60%\r"
       ]
      },
      {
       "output_type": "stream",
       "stream": "stderr",
       "text": [
        "61%\r"
       ]
      },
      {
       "output_type": "stream",
       "stream": "stderr",
       "text": [
        "62%\r"
       ]
      },
      {
       "output_type": "stream",
       "stream": "stderr",
       "text": [
        "63%\r"
       ]
      },
      {
       "output_type": "stream",
       "stream": "stderr",
       "text": [
        "64%\r"
       ]
      },
      {
       "output_type": "stream",
       "stream": "stderr",
       "text": [
        "65%\r"
       ]
      },
      {
       "output_type": "stream",
       "stream": "stderr",
       "text": [
        "66%\r"
       ]
      },
      {
       "output_type": "stream",
       "stream": "stderr",
       "text": [
        "67%\r"
       ]
      },
      {
       "output_type": "stream",
       "stream": "stderr",
       "text": [
        "68%\r"
       ]
      },
      {
       "output_type": "stream",
       "stream": "stderr",
       "text": [
        "69%\r"
       ]
      },
      {
       "output_type": "stream",
       "stream": "stderr",
       "text": [
        "70%\r"
       ]
      },
      {
       "output_type": "stream",
       "stream": "stderr",
       "text": [
        "71%\r"
       ]
      },
      {
       "output_type": "stream",
       "stream": "stderr",
       "text": [
        "72%\r"
       ]
      },
      {
       "output_type": "stream",
       "stream": "stderr",
       "text": [
        "73%\r"
       ]
      },
      {
       "output_type": "stream",
       "stream": "stderr",
       "text": [
        "74%\r"
       ]
      },
      {
       "output_type": "stream",
       "stream": "stderr",
       "text": [
        "75%\r"
       ]
      },
      {
       "output_type": "stream",
       "stream": "stderr",
       "text": [
        "76%\r"
       ]
      },
      {
       "output_type": "stream",
       "stream": "stderr",
       "text": [
        "77%\r"
       ]
      },
      {
       "output_type": "stream",
       "stream": "stderr",
       "text": [
        "78%\r"
       ]
      },
      {
       "output_type": "stream",
       "stream": "stderr",
       "text": [
        "79%\r"
       ]
      },
      {
       "output_type": "stream",
       "stream": "stderr",
       "text": [
        "80%\r"
       ]
      },
      {
       "output_type": "stream",
       "stream": "stderr",
       "text": [
        "81%\r"
       ]
      },
      {
       "output_type": "stream",
       "stream": "stderr",
       "text": [
        "82%\r"
       ]
      },
      {
       "output_type": "stream",
       "stream": "stderr",
       "text": [
        "83%\r"
       ]
      },
      {
       "output_type": "stream",
       "stream": "stderr",
       "text": [
        "84%\r"
       ]
      },
      {
       "output_type": "stream",
       "stream": "stderr",
       "text": [
        "85%\r"
       ]
      },
      {
       "output_type": "stream",
       "stream": "stderr",
       "text": [
        "86%\r"
       ]
      },
      {
       "output_type": "stream",
       "stream": "stderr",
       "text": [
        "87%\r"
       ]
      },
      {
       "output_type": "stream",
       "stream": "stderr",
       "text": [
        "88%\r"
       ]
      },
      {
       "output_type": "stream",
       "stream": "stderr",
       "text": [
        "89%\r"
       ]
      },
      {
       "output_type": "stream",
       "stream": "stderr",
       "text": [
        "90%\r"
       ]
      },
      {
       "output_type": "stream",
       "stream": "stderr",
       "text": [
        "91%\r"
       ]
      },
      {
       "output_type": "stream",
       "stream": "stderr",
       "text": [
        "92%\r"
       ]
      },
      {
       "output_type": "stream",
       "stream": "stderr",
       "text": [
        "93%\r"
       ]
      },
      {
       "output_type": "stream",
       "stream": "stderr",
       "text": [
        "94%\r"
       ]
      },
      {
       "output_type": "stream",
       "stream": "stderr",
       "text": [
        "95%\r"
       ]
      },
      {
       "output_type": "stream",
       "stream": "stderr",
       "text": [
        "96%\r"
       ]
      },
      {
       "output_type": "stream",
       "stream": "stderr",
       "text": [
        "97%\r"
       ]
      },
      {
       "output_type": "stream",
       "stream": "stderr",
       "text": [
        "98%\r"
       ]
      },
      {
       "output_type": "stream",
       "stream": "stderr",
       "text": [
        "99%\r"
       ]
      },
      {
       "output_type": "stream",
       "stream": "stderr",
       "text": [
        "100%\r"
       ]
      },
      {
       "output_type": "stream",
       "stream": "stderr",
       "text": [
        "100%\n"
       ]
      },
      {
       "output_type": "stream",
       "stream": "stdout",
       "text": [
        "\n",
        "  loss 1.20131995414\n",
        "  err  0.429036458333\n",
        "  (0:00:43)\n",
        "Epoch 34:"
       ]
      },
      {
       "output_type": "stream",
       "stream": "stderr",
       "text": [
        "1%\r"
       ]
      },
      {
       "output_type": "stream",
       "stream": "stderr",
       "text": [
        "2%\r"
       ]
      },
      {
       "output_type": "stream",
       "stream": "stderr",
       "text": [
        "3%\r"
       ]
      },
      {
       "output_type": "stream",
       "stream": "stderr",
       "text": [
        "4%\r"
       ]
      },
      {
       "output_type": "stream",
       "stream": "stderr",
       "text": [
        "5%\r"
       ]
      },
      {
       "output_type": "stream",
       "stream": "stderr",
       "text": [
        "6%\r"
       ]
      },
      {
       "output_type": "stream",
       "stream": "stderr",
       "text": [
        "7%\r"
       ]
      },
      {
       "output_type": "stream",
       "stream": "stderr",
       "text": [
        "8%\r"
       ]
      },
      {
       "output_type": "stream",
       "stream": "stderr",
       "text": [
        "9%\r"
       ]
      },
      {
       "output_type": "stream",
       "stream": "stderr",
       "text": [
        "10%\r"
       ]
      },
      {
       "output_type": "stream",
       "stream": "stderr",
       "text": [
        "11%\r"
       ]
      },
      {
       "output_type": "stream",
       "stream": "stderr",
       "text": [
        "12%\r"
       ]
      },
      {
       "output_type": "stream",
       "stream": "stderr",
       "text": [
        "13%\r"
       ]
      },
      {
       "output_type": "stream",
       "stream": "stderr",
       "text": [
        "14%\r"
       ]
      },
      {
       "output_type": "stream",
       "stream": "stderr",
       "text": [
        "15%\r"
       ]
      },
      {
       "output_type": "stream",
       "stream": "stderr",
       "text": [
        "16%\r"
       ]
      },
      {
       "output_type": "stream",
       "stream": "stderr",
       "text": [
        "17%\r"
       ]
      },
      {
       "output_type": "stream",
       "stream": "stderr",
       "text": [
        "18%\r"
       ]
      },
      {
       "output_type": "stream",
       "stream": "stderr",
       "text": [
        "19%\r"
       ]
      },
      {
       "output_type": "stream",
       "stream": "stderr",
       "text": [
        "20%\r"
       ]
      },
      {
       "output_type": "stream",
       "stream": "stderr",
       "text": [
        "21%\r"
       ]
      },
      {
       "output_type": "stream",
       "stream": "stderr",
       "text": [
        "22%\r"
       ]
      },
      {
       "output_type": "stream",
       "stream": "stderr",
       "text": [
        "23%\r"
       ]
      },
      {
       "output_type": "stream",
       "stream": "stderr",
       "text": [
        "24%\r"
       ]
      },
      {
       "output_type": "stream",
       "stream": "stderr",
       "text": [
        "25%\r"
       ]
      },
      {
       "output_type": "stream",
       "stream": "stderr",
       "text": [
        "26%\r"
       ]
      },
      {
       "output_type": "stream",
       "stream": "stderr",
       "text": [
        "27%\r"
       ]
      },
      {
       "output_type": "stream",
       "stream": "stderr",
       "text": [
        "28%\r"
       ]
      },
      {
       "output_type": "stream",
       "stream": "stderr",
       "text": [
        "29%\r"
       ]
      },
      {
       "output_type": "stream",
       "stream": "stderr",
       "text": [
        "30%\r"
       ]
      },
      {
       "output_type": "stream",
       "stream": "stderr",
       "text": [
        "31%\r"
       ]
      },
      {
       "output_type": "stream",
       "stream": "stderr",
       "text": [
        "32%\r"
       ]
      },
      {
       "output_type": "stream",
       "stream": "stderr",
       "text": [
        "33%\r"
       ]
      },
      {
       "output_type": "stream",
       "stream": "stderr",
       "text": [
        "34%\r"
       ]
      },
      {
       "output_type": "stream",
       "stream": "stderr",
       "text": [
        "35%\r"
       ]
      },
      {
       "output_type": "stream",
       "stream": "stderr",
       "text": [
        "36%\r"
       ]
      },
      {
       "output_type": "stream",
       "stream": "stderr",
       "text": [
        "37%\r"
       ]
      },
      {
       "output_type": "stream",
       "stream": "stderr",
       "text": [
        "38%\r"
       ]
      },
      {
       "output_type": "stream",
       "stream": "stderr",
       "text": [
        "39%\r"
       ]
      },
      {
       "output_type": "stream",
       "stream": "stderr",
       "text": [
        "40%\r"
       ]
      },
      {
       "output_type": "stream",
       "stream": "stderr",
       "text": [
        "41%\r"
       ]
      },
      {
       "output_type": "stream",
       "stream": "stderr",
       "text": [
        "42%\r"
       ]
      },
      {
       "output_type": "stream",
       "stream": "stderr",
       "text": [
        "43%\r"
       ]
      },
      {
       "output_type": "stream",
       "stream": "stderr",
       "text": [
        "44%\r"
       ]
      },
      {
       "output_type": "stream",
       "stream": "stderr",
       "text": [
        "45%\r"
       ]
      },
      {
       "output_type": "stream",
       "stream": "stderr",
       "text": [
        "46%\r"
       ]
      },
      {
       "output_type": "stream",
       "stream": "stderr",
       "text": [
        "47%\r"
       ]
      },
      {
       "output_type": "stream",
       "stream": "stderr",
       "text": [
        "48%\r"
       ]
      },
      {
       "output_type": "stream",
       "stream": "stderr",
       "text": [
        "49%\r"
       ]
      },
      {
       "output_type": "stream",
       "stream": "stderr",
       "text": [
        "50%\r"
       ]
      },
      {
       "output_type": "stream",
       "stream": "stderr",
       "text": [
        "51%\r"
       ]
      },
      {
       "output_type": "stream",
       "stream": "stderr",
       "text": [
        "52%\r"
       ]
      },
      {
       "output_type": "stream",
       "stream": "stderr",
       "text": [
        "53%\r"
       ]
      },
      {
       "output_type": "stream",
       "stream": "stderr",
       "text": [
        "54%\r"
       ]
      },
      {
       "output_type": "stream",
       "stream": "stderr",
       "text": [
        "55%\r"
       ]
      },
      {
       "output_type": "stream",
       "stream": "stderr",
       "text": [
        "56%\r"
       ]
      },
      {
       "output_type": "stream",
       "stream": "stderr",
       "text": [
        "57%\r"
       ]
      },
      {
       "output_type": "stream",
       "stream": "stderr",
       "text": [
        "58%\r"
       ]
      },
      {
       "output_type": "stream",
       "stream": "stderr",
       "text": [
        "59%\r"
       ]
      },
      {
       "output_type": "stream",
       "stream": "stderr",
       "text": [
        "60%\r"
       ]
      },
      {
       "output_type": "stream",
       "stream": "stderr",
       "text": [
        "61%\r"
       ]
      },
      {
       "output_type": "stream",
       "stream": "stderr",
       "text": [
        "62%\r"
       ]
      },
      {
       "output_type": "stream",
       "stream": "stderr",
       "text": [
        "63%\r"
       ]
      },
      {
       "output_type": "stream",
       "stream": "stderr",
       "text": [
        "64%\r"
       ]
      },
      {
       "output_type": "stream",
       "stream": "stderr",
       "text": [
        "65%\r"
       ]
      },
      {
       "output_type": "stream",
       "stream": "stderr",
       "text": [
        "66%\r"
       ]
      },
      {
       "output_type": "stream",
       "stream": "stderr",
       "text": [
        "67%\r"
       ]
      },
      {
       "output_type": "stream",
       "stream": "stderr",
       "text": [
        "68%\r"
       ]
      },
      {
       "output_type": "stream",
       "stream": "stderr",
       "text": [
        "69%\r"
       ]
      },
      {
       "output_type": "stream",
       "stream": "stderr",
       "text": [
        "70%\r"
       ]
      },
      {
       "output_type": "stream",
       "stream": "stderr",
       "text": [
        "71%\r"
       ]
      },
      {
       "output_type": "stream",
       "stream": "stderr",
       "text": [
        "72%\r"
       ]
      },
      {
       "output_type": "stream",
       "stream": "stderr",
       "text": [
        "73%\r"
       ]
      },
      {
       "output_type": "stream",
       "stream": "stderr",
       "text": [
        "74%\r"
       ]
      },
      {
       "output_type": "stream",
       "stream": "stderr",
       "text": [
        "75%\r"
       ]
      },
      {
       "output_type": "stream",
       "stream": "stderr",
       "text": [
        "76%\r"
       ]
      },
      {
       "output_type": "stream",
       "stream": "stderr",
       "text": [
        "77%\r"
       ]
      },
      {
       "output_type": "stream",
       "stream": "stderr",
       "text": [
        "78%\r"
       ]
      },
      {
       "output_type": "stream",
       "stream": "stderr",
       "text": [
        "79%\r"
       ]
      },
      {
       "output_type": "stream",
       "stream": "stderr",
       "text": [
        "80%\r"
       ]
      },
      {
       "output_type": "stream",
       "stream": "stderr",
       "text": [
        "81%\r"
       ]
      },
      {
       "output_type": "stream",
       "stream": "stderr",
       "text": [
        "82%\r"
       ]
      },
      {
       "output_type": "stream",
       "stream": "stderr",
       "text": [
        "83%\r"
       ]
      },
      {
       "output_type": "stream",
       "stream": "stderr",
       "text": [
        "84%\r"
       ]
      },
      {
       "output_type": "stream",
       "stream": "stderr",
       "text": [
        "85%\r"
       ]
      },
      {
       "output_type": "stream",
       "stream": "stderr",
       "text": [
        "86%\r"
       ]
      },
      {
       "output_type": "stream",
       "stream": "stderr",
       "text": [
        "87%\r"
       ]
      },
      {
       "output_type": "stream",
       "stream": "stderr",
       "text": [
        "88%\r"
       ]
      },
      {
       "output_type": "stream",
       "stream": "stderr",
       "text": [
        "89%\r"
       ]
      },
      {
       "output_type": "stream",
       "stream": "stderr",
       "text": [
        "90%\r"
       ]
      },
      {
       "output_type": "stream",
       "stream": "stderr",
       "text": [
        "91%\r"
       ]
      },
      {
       "output_type": "stream",
       "stream": "stderr",
       "text": [
        "92%\r"
       ]
      },
      {
       "output_type": "stream",
       "stream": "stderr",
       "text": [
        "93%\r"
       ]
      },
      {
       "output_type": "stream",
       "stream": "stderr",
       "text": [
        "94%\r"
       ]
      },
      {
       "output_type": "stream",
       "stream": "stderr",
       "text": [
        "95%\r"
       ]
      },
      {
       "output_type": "stream",
       "stream": "stderr",
       "text": [
        "96%\r"
       ]
      },
      {
       "output_type": "stream",
       "stream": "stderr",
       "text": [
        "97%\r"
       ]
      },
      {
       "output_type": "stream",
       "stream": "stderr",
       "text": [
        "98%\r"
       ]
      },
      {
       "output_type": "stream",
       "stream": "stderr",
       "text": [
        "99%\r"
       ]
      },
      {
       "output_type": "stream",
       "stream": "stderr",
       "text": [
        "100%\r"
       ]
      },
      {
       "output_type": "stream",
       "stream": "stderr",
       "text": [
        "100%\n"
       ]
      },
      {
       "output_type": "stream",
       "stream": "stdout",
       "text": [
        "\n",
        "  loss 1.19260304975\n",
        "  err  0.422576121795\n",
        "  (0:00:45)\n",
        "Epoch 35:"
       ]
      },
      {
       "output_type": "stream",
       "stream": "stderr",
       "text": [
        "1%\r"
       ]
      },
      {
       "output_type": "stream",
       "stream": "stderr",
       "text": [
        "2%\r"
       ]
      },
      {
       "output_type": "stream",
       "stream": "stderr",
       "text": [
        "3%\r"
       ]
      },
      {
       "output_type": "stream",
       "stream": "stderr",
       "text": [
        "4%\r"
       ]
      },
      {
       "output_type": "stream",
       "stream": "stderr",
       "text": [
        "5%\r"
       ]
      },
      {
       "output_type": "stream",
       "stream": "stderr",
       "text": [
        "6%\r"
       ]
      },
      {
       "output_type": "stream",
       "stream": "stderr",
       "text": [
        "7%\r"
       ]
      },
      {
       "output_type": "stream",
       "stream": "stderr",
       "text": [
        "8%\r"
       ]
      },
      {
       "output_type": "stream",
       "stream": "stderr",
       "text": [
        "9%\r"
       ]
      },
      {
       "output_type": "stream",
       "stream": "stderr",
       "text": [
        "10%\r"
       ]
      },
      {
       "output_type": "stream",
       "stream": "stderr",
       "text": [
        "11%\r"
       ]
      },
      {
       "output_type": "stream",
       "stream": "stderr",
       "text": [
        "12%\r"
       ]
      },
      {
       "output_type": "stream",
       "stream": "stderr",
       "text": [
        "13%\r"
       ]
      },
      {
       "output_type": "stream",
       "stream": "stderr",
       "text": [
        "14%\r"
       ]
      },
      {
       "output_type": "stream",
       "stream": "stderr",
       "text": [
        "15%\r"
       ]
      },
      {
       "output_type": "stream",
       "stream": "stderr",
       "text": [
        "16%\r"
       ]
      },
      {
       "output_type": "stream",
       "stream": "stderr",
       "text": [
        "17%\r"
       ]
      },
      {
       "output_type": "stream",
       "stream": "stderr",
       "text": [
        "18%\r"
       ]
      },
      {
       "output_type": "stream",
       "stream": "stderr",
       "text": [
        "19%\r"
       ]
      },
      {
       "output_type": "stream",
       "stream": "stderr",
       "text": [
        "20%\r"
       ]
      },
      {
       "output_type": "stream",
       "stream": "stderr",
       "text": [
        "21%\r"
       ]
      },
      {
       "output_type": "stream",
       "stream": "stderr",
       "text": [
        "22%\r"
       ]
      },
      {
       "output_type": "stream",
       "stream": "stderr",
       "text": [
        "23%\r"
       ]
      },
      {
       "output_type": "stream",
       "stream": "stderr",
       "text": [
        "24%\r"
       ]
      },
      {
       "output_type": "stream",
       "stream": "stderr",
       "text": [
        "25%\r"
       ]
      },
      {
       "output_type": "stream",
       "stream": "stderr",
       "text": [
        "26%\r"
       ]
      },
      {
       "output_type": "stream",
       "stream": "stderr",
       "text": [
        "27%\r"
       ]
      },
      {
       "output_type": "stream",
       "stream": "stderr",
       "text": [
        "28%\r"
       ]
      },
      {
       "output_type": "stream",
       "stream": "stderr",
       "text": [
        "29%\r"
       ]
      },
      {
       "output_type": "stream",
       "stream": "stderr",
       "text": [
        "30%\r"
       ]
      },
      {
       "output_type": "stream",
       "stream": "stderr",
       "text": [
        "31%\r"
       ]
      },
      {
       "output_type": "stream",
       "stream": "stderr",
       "text": [
        "32%\r"
       ]
      },
      {
       "output_type": "stream",
       "stream": "stderr",
       "text": [
        "33%\r"
       ]
      },
      {
       "output_type": "stream",
       "stream": "stderr",
       "text": [
        "34%\r"
       ]
      },
      {
       "output_type": "stream",
       "stream": "stderr",
       "text": [
        "35%\r"
       ]
      },
      {
       "output_type": "stream",
       "stream": "stderr",
       "text": [
        "36%\r"
       ]
      },
      {
       "output_type": "stream",
       "stream": "stderr",
       "text": [
        "37%\r"
       ]
      },
      {
       "output_type": "stream",
       "stream": "stderr",
       "text": [
        "38%\r"
       ]
      },
      {
       "output_type": "stream",
       "stream": "stderr",
       "text": [
        "39%\r"
       ]
      },
      {
       "output_type": "stream",
       "stream": "stderr",
       "text": [
        "40%\r"
       ]
      },
      {
       "output_type": "stream",
       "stream": "stderr",
       "text": [
        "41%\r"
       ]
      },
      {
       "output_type": "stream",
       "stream": "stderr",
       "text": [
        "42%\r"
       ]
      },
      {
       "output_type": "stream",
       "stream": "stderr",
       "text": [
        "43%\r"
       ]
      },
      {
       "output_type": "stream",
       "stream": "stderr",
       "text": [
        "44%\r"
       ]
      },
      {
       "output_type": "stream",
       "stream": "stderr",
       "text": [
        "45%\r"
       ]
      },
      {
       "output_type": "stream",
       "stream": "stderr",
       "text": [
        "46%\r"
       ]
      },
      {
       "output_type": "stream",
       "stream": "stderr",
       "text": [
        "47%\r"
       ]
      },
      {
       "output_type": "stream",
       "stream": "stderr",
       "text": [
        "48%\r"
       ]
      },
      {
       "output_type": "stream",
       "stream": "stderr",
       "text": [
        "49%\r"
       ]
      },
      {
       "output_type": "stream",
       "stream": "stderr",
       "text": [
        "50%\r"
       ]
      },
      {
       "output_type": "stream",
       "stream": "stderr",
       "text": [
        "51%\r"
       ]
      },
      {
       "output_type": "stream",
       "stream": "stderr",
       "text": [
        "52%\r"
       ]
      },
      {
       "output_type": "stream",
       "stream": "stderr",
       "text": [
        "53%\r"
       ]
      },
      {
       "output_type": "stream",
       "stream": "stderr",
       "text": [
        "54%\r"
       ]
      },
      {
       "output_type": "stream",
       "stream": "stderr",
       "text": [
        "55%\r"
       ]
      },
      {
       "output_type": "stream",
       "stream": "stderr",
       "text": [
        "56%\r"
       ]
      },
      {
       "output_type": "stream",
       "stream": "stderr",
       "text": [
        "57%\r"
       ]
      },
      {
       "output_type": "stream",
       "stream": "stderr",
       "text": [
        "58%\r"
       ]
      },
      {
       "output_type": "stream",
       "stream": "stderr",
       "text": [
        "59%\r"
       ]
      },
      {
       "output_type": "stream",
       "stream": "stderr",
       "text": [
        "60%\r"
       ]
      },
      {
       "output_type": "stream",
       "stream": "stderr",
       "text": [
        "61%\r"
       ]
      },
      {
       "output_type": "stream",
       "stream": "stderr",
       "text": [
        "62%\r"
       ]
      },
      {
       "output_type": "stream",
       "stream": "stderr",
       "text": [
        "63%\r"
       ]
      },
      {
       "output_type": "stream",
       "stream": "stderr",
       "text": [
        "64%\r"
       ]
      },
      {
       "output_type": "stream",
       "stream": "stderr",
       "text": [
        "65%\r"
       ]
      },
      {
       "output_type": "stream",
       "stream": "stderr",
       "text": [
        "66%\r"
       ]
      },
      {
       "output_type": "stream",
       "stream": "stderr",
       "text": [
        "67%\r"
       ]
      },
      {
       "output_type": "stream",
       "stream": "stderr",
       "text": [
        "68%\r"
       ]
      },
      {
       "output_type": "stream",
       "stream": "stderr",
       "text": [
        "69%\r"
       ]
      },
      {
       "output_type": "stream",
       "stream": "stderr",
       "text": [
        "70%\r"
       ]
      },
      {
       "output_type": "stream",
       "stream": "stderr",
       "text": [
        "71%\r"
       ]
      },
      {
       "output_type": "stream",
       "stream": "stderr",
       "text": [
        "72%\r"
       ]
      },
      {
       "output_type": "stream",
       "stream": "stderr",
       "text": [
        "73%\r"
       ]
      },
      {
       "output_type": "stream",
       "stream": "stderr",
       "text": [
        "74%\r"
       ]
      },
      {
       "output_type": "stream",
       "stream": "stderr",
       "text": [
        "75%\r"
       ]
      },
      {
       "output_type": "stream",
       "stream": "stderr",
       "text": [
        "76%\r"
       ]
      },
      {
       "output_type": "stream",
       "stream": "stderr",
       "text": [
        "77%\r"
       ]
      },
      {
       "output_type": "stream",
       "stream": "stderr",
       "text": [
        "78%\r"
       ]
      },
      {
       "output_type": "stream",
       "stream": "stderr",
       "text": [
        "79%\r"
       ]
      },
      {
       "output_type": "stream",
       "stream": "stderr",
       "text": [
        "80%\r"
       ]
      },
      {
       "output_type": "stream",
       "stream": "stderr",
       "text": [
        "81%\r"
       ]
      },
      {
       "output_type": "stream",
       "stream": "stderr",
       "text": [
        "82%\r"
       ]
      },
      {
       "output_type": "stream",
       "stream": "stderr",
       "text": [
        "83%\r"
       ]
      },
      {
       "output_type": "stream",
       "stream": "stderr",
       "text": [
        "84%\r"
       ]
      },
      {
       "output_type": "stream",
       "stream": "stderr",
       "text": [
        "85%\r"
       ]
      },
      {
       "output_type": "stream",
       "stream": "stderr",
       "text": [
        "86%\r"
       ]
      },
      {
       "output_type": "stream",
       "stream": "stderr",
       "text": [
        "87%\r"
       ]
      },
      {
       "output_type": "stream",
       "stream": "stderr",
       "text": [
        "88%\r"
       ]
      },
      {
       "output_type": "stream",
       "stream": "stderr",
       "text": [
        "89%\r"
       ]
      },
      {
       "output_type": "stream",
       "stream": "stderr",
       "text": [
        "90%\r"
       ]
      },
      {
       "output_type": "stream",
       "stream": "stderr",
       "text": [
        "91%\r"
       ]
      },
      {
       "output_type": "stream",
       "stream": "stderr",
       "text": [
        "92%\r"
       ]
      },
      {
       "output_type": "stream",
       "stream": "stderr",
       "text": [
        "93%\r"
       ]
      },
      {
       "output_type": "stream",
       "stream": "stderr",
       "text": [
        "94%\r"
       ]
      },
      {
       "output_type": "stream",
       "stream": "stderr",
       "text": [
        "95%\r"
       ]
      },
      {
       "output_type": "stream",
       "stream": "stderr",
       "text": [
        "96%\r"
       ]
      },
      {
       "output_type": "stream",
       "stream": "stderr",
       "text": [
        "97%\r"
       ]
      },
      {
       "output_type": "stream",
       "stream": "stderr",
       "text": [
        "98%\r"
       ]
      },
      {
       "output_type": "stream",
       "stream": "stderr",
       "text": [
        "99%\r"
       ]
      },
      {
       "output_type": "stream",
       "stream": "stderr",
       "text": [
        "100%\r"
       ]
      },
      {
       "output_type": "stream",
       "stream": "stderr",
       "text": [
        "100%\n"
       ]
      },
      {
       "output_type": "stream",
       "stream": "stdout",
       "text": [
        "\n",
        "  loss 1.19137460223\n",
        "  err  0.429987980769\n",
        "  (0:00:44)\n",
        "Epoch 36:"
       ]
      },
      {
       "output_type": "stream",
       "stream": "stderr",
       "text": [
        "1%\r"
       ]
      },
      {
       "output_type": "stream",
       "stream": "stderr",
       "text": [
        "2%\r"
       ]
      },
      {
       "output_type": "stream",
       "stream": "stderr",
       "text": [
        "3%\r"
       ]
      },
      {
       "output_type": "stream",
       "stream": "stderr",
       "text": [
        "4%\r"
       ]
      },
      {
       "output_type": "stream",
       "stream": "stderr",
       "text": [
        "5%\r"
       ]
      },
      {
       "output_type": "stream",
       "stream": "stderr",
       "text": [
        "6%\r"
       ]
      },
      {
       "output_type": "stream",
       "stream": "stderr",
       "text": [
        "7%\r"
       ]
      },
      {
       "output_type": "stream",
       "stream": "stderr",
       "text": [
        "8%\r"
       ]
      },
      {
       "output_type": "stream",
       "stream": "stderr",
       "text": [
        "9%\r"
       ]
      },
      {
       "output_type": "stream",
       "stream": "stderr",
       "text": [
        "10%\r"
       ]
      },
      {
       "output_type": "stream",
       "stream": "stderr",
       "text": [
        "11%\r"
       ]
      },
      {
       "output_type": "stream",
       "stream": "stderr",
       "text": [
        "12%\r"
       ]
      },
      {
       "output_type": "stream",
       "stream": "stderr",
       "text": [
        "13%\r"
       ]
      },
      {
       "output_type": "stream",
       "stream": "stderr",
       "text": [
        "14%\r"
       ]
      },
      {
       "output_type": "stream",
       "stream": "stderr",
       "text": [
        "15%\r"
       ]
      },
      {
       "output_type": "stream",
       "stream": "stderr",
       "text": [
        "16%\r"
       ]
      },
      {
       "output_type": "stream",
       "stream": "stderr",
       "text": [
        "17%\r"
       ]
      },
      {
       "output_type": "stream",
       "stream": "stderr",
       "text": [
        "18%\r"
       ]
      },
      {
       "output_type": "stream",
       "stream": "stderr",
       "text": [
        "19%\r"
       ]
      },
      {
       "output_type": "stream",
       "stream": "stderr",
       "text": [
        "20%\r"
       ]
      },
      {
       "output_type": "stream",
       "stream": "stderr",
       "text": [
        "21%\r"
       ]
      },
      {
       "output_type": "stream",
       "stream": "stderr",
       "text": [
        "22%\r"
       ]
      },
      {
       "output_type": "stream",
       "stream": "stderr",
       "text": [
        "23%\r"
       ]
      },
      {
       "output_type": "stream",
       "stream": "stderr",
       "text": [
        "24%\r"
       ]
      },
      {
       "output_type": "stream",
       "stream": "stderr",
       "text": [
        "25%\r"
       ]
      },
      {
       "output_type": "stream",
       "stream": "stderr",
       "text": [
        "26%\r"
       ]
      },
      {
       "output_type": "stream",
       "stream": "stderr",
       "text": [
        "27%\r"
       ]
      },
      {
       "output_type": "stream",
       "stream": "stderr",
       "text": [
        "28%\r"
       ]
      },
      {
       "output_type": "stream",
       "stream": "stderr",
       "text": [
        "29%\r"
       ]
      },
      {
       "output_type": "stream",
       "stream": "stderr",
       "text": [
        "30%\r"
       ]
      },
      {
       "output_type": "stream",
       "stream": "stderr",
       "text": [
        "31%\r"
       ]
      },
      {
       "output_type": "stream",
       "stream": "stderr",
       "text": [
        "32%\r"
       ]
      },
      {
       "output_type": "stream",
       "stream": "stderr",
       "text": [
        "33%\r"
       ]
      },
      {
       "output_type": "stream",
       "stream": "stderr",
       "text": [
        "34%\r"
       ]
      },
      {
       "output_type": "stream",
       "stream": "stderr",
       "text": [
        "35%\r"
       ]
      },
      {
       "output_type": "stream",
       "stream": "stderr",
       "text": [
        "36%\r"
       ]
      },
      {
       "output_type": "stream",
       "stream": "stderr",
       "text": [
        "37%\r"
       ]
      },
      {
       "output_type": "stream",
       "stream": "stderr",
       "text": [
        "38%\r"
       ]
      },
      {
       "output_type": "stream",
       "stream": "stderr",
       "text": [
        "39%\r"
       ]
      },
      {
       "output_type": "stream",
       "stream": "stderr",
       "text": [
        "40%\r"
       ]
      },
      {
       "output_type": "stream",
       "stream": "stderr",
       "text": [
        "41%\r"
       ]
      },
      {
       "output_type": "stream",
       "stream": "stderr",
       "text": [
        "42%\r"
       ]
      },
      {
       "output_type": "stream",
       "stream": "stderr",
       "text": [
        "43%\r"
       ]
      },
      {
       "output_type": "stream",
       "stream": "stderr",
       "text": [
        "44%\r"
       ]
      },
      {
       "output_type": "stream",
       "stream": "stderr",
       "text": [
        "45%\r"
       ]
      },
      {
       "output_type": "stream",
       "stream": "stderr",
       "text": [
        "46%\r"
       ]
      },
      {
       "output_type": "stream",
       "stream": "stderr",
       "text": [
        "47%\r"
       ]
      },
      {
       "output_type": "stream",
       "stream": "stderr",
       "text": [
        "48%\r"
       ]
      },
      {
       "output_type": "stream",
       "stream": "stderr",
       "text": [
        "49%\r"
       ]
      },
      {
       "output_type": "stream",
       "stream": "stderr",
       "text": [
        "50%\r"
       ]
      },
      {
       "output_type": "stream",
       "stream": "stderr",
       "text": [
        "51%\r"
       ]
      },
      {
       "output_type": "stream",
       "stream": "stderr",
       "text": [
        "52%\r"
       ]
      },
      {
       "output_type": "stream",
       "stream": "stderr",
       "text": [
        "53%\r"
       ]
      },
      {
       "output_type": "stream",
       "stream": "stderr",
       "text": [
        "54%\r"
       ]
      },
      {
       "output_type": "stream",
       "stream": "stderr",
       "text": [
        "55%\r"
       ]
      },
      {
       "output_type": "stream",
       "stream": "stderr",
       "text": [
        "56%\r"
       ]
      },
      {
       "output_type": "stream",
       "stream": "stderr",
       "text": [
        "57%\r"
       ]
      },
      {
       "output_type": "stream",
       "stream": "stderr",
       "text": [
        "58%\r"
       ]
      },
      {
       "output_type": "stream",
       "stream": "stderr",
       "text": [
        "59%\r"
       ]
      },
      {
       "output_type": "stream",
       "stream": "stderr",
       "text": [
        "60%\r"
       ]
      },
      {
       "output_type": "stream",
       "stream": "stderr",
       "text": [
        "61%\r"
       ]
      },
      {
       "output_type": "stream",
       "stream": "stderr",
       "text": [
        "62%\r"
       ]
      },
      {
       "output_type": "stream",
       "stream": "stderr",
       "text": [
        "63%\r"
       ]
      },
      {
       "output_type": "stream",
       "stream": "stderr",
       "text": [
        "64%\r"
       ]
      },
      {
       "output_type": "stream",
       "stream": "stderr",
       "text": [
        "65%\r"
       ]
      },
      {
       "output_type": "stream",
       "stream": "stderr",
       "text": [
        "66%\r"
       ]
      },
      {
       "output_type": "stream",
       "stream": "stderr",
       "text": [
        "67%\r"
       ]
      },
      {
       "output_type": "stream",
       "stream": "stderr",
       "text": [
        "68%\r"
       ]
      },
      {
       "output_type": "stream",
       "stream": "stderr",
       "text": [
        "69%\r"
       ]
      },
      {
       "output_type": "stream",
       "stream": "stderr",
       "text": [
        "70%\r"
       ]
      },
      {
       "output_type": "stream",
       "stream": "stderr",
       "text": [
        "71%\r"
       ]
      },
      {
       "output_type": "stream",
       "stream": "stderr",
       "text": [
        "72%\r"
       ]
      },
      {
       "output_type": "stream",
       "stream": "stderr",
       "text": [
        "73%\r"
       ]
      },
      {
       "output_type": "stream",
       "stream": "stderr",
       "text": [
        "74%\r"
       ]
      },
      {
       "output_type": "stream",
       "stream": "stderr",
       "text": [
        "75%\r"
       ]
      },
      {
       "output_type": "stream",
       "stream": "stderr",
       "text": [
        "76%\r"
       ]
      },
      {
       "output_type": "stream",
       "stream": "stderr",
       "text": [
        "77%\r"
       ]
      },
      {
       "output_type": "stream",
       "stream": "stderr",
       "text": [
        "78%\r"
       ]
      },
      {
       "output_type": "stream",
       "stream": "stderr",
       "text": [
        "79%\r"
       ]
      },
      {
       "output_type": "stream",
       "stream": "stderr",
       "text": [
        "80%\r"
       ]
      },
      {
       "output_type": "stream",
       "stream": "stderr",
       "text": [
        "81%\r"
       ]
      },
      {
       "output_type": "stream",
       "stream": "stderr",
       "text": [
        "82%\r"
       ]
      },
      {
       "output_type": "stream",
       "stream": "stderr",
       "text": [
        "83%\r"
       ]
      },
      {
       "output_type": "stream",
       "stream": "stderr",
       "text": [
        "84%\r"
       ]
      },
      {
       "output_type": "stream",
       "stream": "stderr",
       "text": [
        "85%\r"
       ]
      },
      {
       "output_type": "stream",
       "stream": "stderr",
       "text": [
        "86%\r"
       ]
      },
      {
       "output_type": "stream",
       "stream": "stderr",
       "text": [
        "87%\r"
       ]
      },
      {
       "output_type": "stream",
       "stream": "stderr",
       "text": [
        "88%\r"
       ]
      },
      {
       "output_type": "stream",
       "stream": "stderr",
       "text": [
        "89%\r"
       ]
      },
      {
       "output_type": "stream",
       "stream": "stderr",
       "text": [
        "90%\r"
       ]
      },
      {
       "output_type": "stream",
       "stream": "stderr",
       "text": [
        "91%\r"
       ]
      },
      {
       "output_type": "stream",
       "stream": "stderr",
       "text": [
        "92%\r"
       ]
      },
      {
       "output_type": "stream",
       "stream": "stderr",
       "text": [
        "93%\r"
       ]
      },
      {
       "output_type": "stream",
       "stream": "stderr",
       "text": [
        "94%\r"
       ]
      },
      {
       "output_type": "stream",
       "stream": "stderr",
       "text": [
        "95%\r"
       ]
      },
      {
       "output_type": "stream",
       "stream": "stderr",
       "text": [
        "96%\r"
       ]
      },
      {
       "output_type": "stream",
       "stream": "stderr",
       "text": [
        "97%\r"
       ]
      },
      {
       "output_type": "stream",
       "stream": "stderr",
       "text": [
        "98%\r"
       ]
      },
      {
       "output_type": "stream",
       "stream": "stderr",
       "text": [
        "99%\r"
       ]
      },
      {
       "output_type": "stream",
       "stream": "stderr",
       "text": [
        "100%\r"
       ]
      },
      {
       "output_type": "stream",
       "stream": "stderr",
       "text": [
        "100%\n"
       ]
      },
      {
       "output_type": "stream",
       "stream": "stdout",
       "text": [
        "\n",
        "  loss 1.15683416812\n",
        "  err  0.412009214744\n",
        "  (0:00:47)\n",
        "Epoch 37:"
       ]
      },
      {
       "output_type": "stream",
       "stream": "stderr",
       "text": [
        "1%\r"
       ]
      },
      {
       "output_type": "stream",
       "stream": "stderr",
       "text": [
        "2%\r"
       ]
      },
      {
       "output_type": "stream",
       "stream": "stderr",
       "text": [
        "3%\r"
       ]
      },
      {
       "output_type": "stream",
       "stream": "stderr",
       "text": [
        "4%\r"
       ]
      },
      {
       "output_type": "stream",
       "stream": "stderr",
       "text": [
        "5%\r"
       ]
      },
      {
       "output_type": "stream",
       "stream": "stderr",
       "text": [
        "6%\r"
       ]
      },
      {
       "output_type": "stream",
       "stream": "stderr",
       "text": [
        "7%\r"
       ]
      },
      {
       "output_type": "stream",
       "stream": "stderr",
       "text": [
        "8%\r"
       ]
      },
      {
       "output_type": "stream",
       "stream": "stderr",
       "text": [
        "9%\r"
       ]
      },
      {
       "output_type": "stream",
       "stream": "stderr",
       "text": [
        "10%\r"
       ]
      },
      {
       "output_type": "stream",
       "stream": "stderr",
       "text": [
        "11%\r"
       ]
      },
      {
       "output_type": "stream",
       "stream": "stderr",
       "text": [
        "12%\r"
       ]
      },
      {
       "output_type": "stream",
       "stream": "stderr",
       "text": [
        "13%\r"
       ]
      },
      {
       "output_type": "stream",
       "stream": "stderr",
       "text": [
        "14%\r"
       ]
      },
      {
       "output_type": "stream",
       "stream": "stderr",
       "text": [
        "15%\r"
       ]
      },
      {
       "output_type": "stream",
       "stream": "stderr",
       "text": [
        "16%\r"
       ]
      },
      {
       "output_type": "stream",
       "stream": "stderr",
       "text": [
        "17%\r"
       ]
      },
      {
       "output_type": "stream",
       "stream": "stderr",
       "text": [
        "18%\r"
       ]
      },
      {
       "output_type": "stream",
       "stream": "stderr",
       "text": [
        "19%\r"
       ]
      },
      {
       "output_type": "stream",
       "stream": "stderr",
       "text": [
        "20%\r"
       ]
      },
      {
       "output_type": "stream",
       "stream": "stderr",
       "text": [
        "21%\r"
       ]
      },
      {
       "output_type": "stream",
       "stream": "stderr",
       "text": [
        "22%\r"
       ]
      },
      {
       "output_type": "stream",
       "stream": "stderr",
       "text": [
        "23%\r"
       ]
      },
      {
       "output_type": "stream",
       "stream": "stderr",
       "text": [
        "24%\r"
       ]
      },
      {
       "output_type": "stream",
       "stream": "stderr",
       "text": [
        "25%\r"
       ]
      },
      {
       "output_type": "stream",
       "stream": "stderr",
       "text": [
        "26%\r"
       ]
      },
      {
       "output_type": "stream",
       "stream": "stderr",
       "text": [
        "27%\r"
       ]
      },
      {
       "output_type": "stream",
       "stream": "stderr",
       "text": [
        "28%\r"
       ]
      },
      {
       "output_type": "stream",
       "stream": "stderr",
       "text": [
        "29%\r"
       ]
      },
      {
       "output_type": "stream",
       "stream": "stderr",
       "text": [
        "30%\r"
       ]
      },
      {
       "output_type": "stream",
       "stream": "stderr",
       "text": [
        "31%\r"
       ]
      },
      {
       "output_type": "stream",
       "stream": "stderr",
       "text": [
        "32%\r"
       ]
      },
      {
       "output_type": "stream",
       "stream": "stderr",
       "text": [
        "33%\r"
       ]
      },
      {
       "output_type": "stream",
       "stream": "stderr",
       "text": [
        "34%\r"
       ]
      },
      {
       "output_type": "stream",
       "stream": "stderr",
       "text": [
        "35%\r"
       ]
      },
      {
       "output_type": "stream",
       "stream": "stderr",
       "text": [
        "36%\r"
       ]
      },
      {
       "output_type": "stream",
       "stream": "stderr",
       "text": [
        "37%\r"
       ]
      },
      {
       "output_type": "stream",
       "stream": "stderr",
       "text": [
        "38%\r"
       ]
      },
      {
       "output_type": "stream",
       "stream": "stderr",
       "text": [
        "39%\r"
       ]
      },
      {
       "output_type": "stream",
       "stream": "stderr",
       "text": [
        "40%\r"
       ]
      },
      {
       "output_type": "stream",
       "stream": "stderr",
       "text": [
        "41%\r"
       ]
      },
      {
       "output_type": "stream",
       "stream": "stderr",
       "text": [
        "42%\r"
       ]
      },
      {
       "output_type": "stream",
       "stream": "stderr",
       "text": [
        "43%\r"
       ]
      },
      {
       "output_type": "stream",
       "stream": "stderr",
       "text": [
        "44%\r"
       ]
      },
      {
       "output_type": "stream",
       "stream": "stderr",
       "text": [
        "45%\r"
       ]
      },
      {
       "output_type": "stream",
       "stream": "stderr",
       "text": [
        "46%\r"
       ]
      },
      {
       "output_type": "stream",
       "stream": "stderr",
       "text": [
        "47%\r"
       ]
      },
      {
       "output_type": "stream",
       "stream": "stderr",
       "text": [
        "48%\r"
       ]
      },
      {
       "output_type": "stream",
       "stream": "stderr",
       "text": [
        "49%\r"
       ]
      },
      {
       "output_type": "stream",
       "stream": "stderr",
       "text": [
        "50%\r"
       ]
      },
      {
       "output_type": "stream",
       "stream": "stderr",
       "text": [
        "51%\r"
       ]
      },
      {
       "output_type": "stream",
       "stream": "stderr",
       "text": [
        "52%\r"
       ]
      },
      {
       "output_type": "stream",
       "stream": "stderr",
       "text": [
        "53%\r"
       ]
      },
      {
       "output_type": "stream",
       "stream": "stderr",
       "text": [
        "54%\r"
       ]
      },
      {
       "output_type": "stream",
       "stream": "stderr",
       "text": [
        "55%\r"
       ]
      },
      {
       "output_type": "stream",
       "stream": "stderr",
       "text": [
        "56%\r"
       ]
      },
      {
       "output_type": "stream",
       "stream": "stderr",
       "text": [
        "57%\r"
       ]
      },
      {
       "output_type": "stream",
       "stream": "stderr",
       "text": [
        "58%\r"
       ]
      },
      {
       "output_type": "stream",
       "stream": "stderr",
       "text": [
        "59%\r"
       ]
      },
      {
       "output_type": "stream",
       "stream": "stderr",
       "text": [
        "60%\r"
       ]
      },
      {
       "output_type": "stream",
       "stream": "stderr",
       "text": [
        "61%\r"
       ]
      },
      {
       "output_type": "stream",
       "stream": "stderr",
       "text": [
        "62%\r"
       ]
      },
      {
       "output_type": "stream",
       "stream": "stderr",
       "text": [
        "63%\r"
       ]
      },
      {
       "output_type": "stream",
       "stream": "stderr",
       "text": [
        "64%\r"
       ]
      },
      {
       "output_type": "stream",
       "stream": "stderr",
       "text": [
        "65%\r"
       ]
      },
      {
       "output_type": "stream",
       "stream": "stderr",
       "text": [
        "66%\r"
       ]
      },
      {
       "output_type": "stream",
       "stream": "stderr",
       "text": [
        "67%\r"
       ]
      },
      {
       "output_type": "stream",
       "stream": "stderr",
       "text": [
        "68%\r"
       ]
      },
      {
       "output_type": "stream",
       "stream": "stderr",
       "text": [
        "69%\r"
       ]
      },
      {
       "output_type": "stream",
       "stream": "stderr",
       "text": [
        "70%\r"
       ]
      },
      {
       "output_type": "stream",
       "stream": "stderr",
       "text": [
        "71%\r"
       ]
      },
      {
       "output_type": "stream",
       "stream": "stderr",
       "text": [
        "72%\r"
       ]
      },
      {
       "output_type": "stream",
       "stream": "stderr",
       "text": [
        "73%\r"
       ]
      },
      {
       "output_type": "stream",
       "stream": "stderr",
       "text": [
        "74%\r"
       ]
      },
      {
       "output_type": "stream",
       "stream": "stderr",
       "text": [
        "75%\r"
       ]
      },
      {
       "output_type": "stream",
       "stream": "stderr",
       "text": [
        "76%\r"
       ]
      },
      {
       "output_type": "stream",
       "stream": "stderr",
       "text": [
        "77%\r"
       ]
      },
      {
       "output_type": "stream",
       "stream": "stderr",
       "text": [
        "78%\r"
       ]
      },
      {
       "output_type": "stream",
       "stream": "stderr",
       "text": [
        "79%\r"
       ]
      },
      {
       "output_type": "stream",
       "stream": "stderr",
       "text": [
        "80%\r"
       ]
      },
      {
       "output_type": "stream",
       "stream": "stderr",
       "text": [
        "81%\r"
       ]
      },
      {
       "output_type": "stream",
       "stream": "stderr",
       "text": [
        "82%\r"
       ]
      },
      {
       "output_type": "stream",
       "stream": "stderr",
       "text": [
        "83%\r"
       ]
      },
      {
       "output_type": "stream",
       "stream": "stderr",
       "text": [
        "84%\r"
       ]
      },
      {
       "output_type": "stream",
       "stream": "stderr",
       "text": [
        "85%\r"
       ]
      },
      {
       "output_type": "stream",
       "stream": "stderr",
       "text": [
        "86%\r"
       ]
      },
      {
       "output_type": "stream",
       "stream": "stderr",
       "text": [
        "87%\r"
       ]
      },
      {
       "output_type": "stream",
       "stream": "stderr",
       "text": [
        "88%\r"
       ]
      },
      {
       "output_type": "stream",
       "stream": "stderr",
       "text": [
        "89%\r"
       ]
      },
      {
       "output_type": "stream",
       "stream": "stderr",
       "text": [
        "90%\r"
       ]
      },
      {
       "output_type": "stream",
       "stream": "stderr",
       "text": [
        "91%\r"
       ]
      },
      {
       "output_type": "stream",
       "stream": "stderr",
       "text": [
        "92%\r"
       ]
      },
      {
       "output_type": "stream",
       "stream": "stderr",
       "text": [
        "93%\r"
       ]
      },
      {
       "output_type": "stream",
       "stream": "stderr",
       "text": [
        "94%\r"
       ]
      },
      {
       "output_type": "stream",
       "stream": "stderr",
       "text": [
        "95%\r"
       ]
      },
      {
       "output_type": "stream",
       "stream": "stderr",
       "text": [
        "96%\r"
       ]
      },
      {
       "output_type": "stream",
       "stream": "stderr",
       "text": [
        "97%\r"
       ]
      },
      {
       "output_type": "stream",
       "stream": "stderr",
       "text": [
        "98%\r"
       ]
      },
      {
       "output_type": "stream",
       "stream": "stderr",
       "text": [
        "99%\r"
       ]
      },
      {
       "output_type": "stream",
       "stream": "stderr",
       "text": [
        "100%\r"
       ]
      },
      {
       "output_type": "stream",
       "stream": "stderr",
       "text": [
        "100%\n"
       ]
      },
      {
       "output_type": "stream",
       "stream": "stdout",
       "text": [
        "\n",
        "  loss 1.1557051463\n",
        "  err  0.412409855769\n",
        "  (0:00:44)\n",
        "Epoch 38:"
       ]
      },
      {
       "output_type": "stream",
       "stream": "stderr",
       "text": [
        "1%\r"
       ]
      },
      {
       "output_type": "stream",
       "stream": "stderr",
       "text": [
        "2%\r"
       ]
      },
      {
       "output_type": "stream",
       "stream": "stderr",
       "text": [
        "3%\r"
       ]
      },
      {
       "output_type": "stream",
       "stream": "stderr",
       "text": [
        "4%\r"
       ]
      },
      {
       "output_type": "stream",
       "stream": "stderr",
       "text": [
        "5%\r"
       ]
      },
      {
       "output_type": "stream",
       "stream": "stderr",
       "text": [
        "6%\r"
       ]
      },
      {
       "output_type": "stream",
       "stream": "stderr",
       "text": [
        "7%\r"
       ]
      },
      {
       "output_type": "stream",
       "stream": "stderr",
       "text": [
        "8%\r"
       ]
      },
      {
       "output_type": "stream",
       "stream": "stderr",
       "text": [
        "9%\r"
       ]
      },
      {
       "output_type": "stream",
       "stream": "stderr",
       "text": [
        "10%\r"
       ]
      },
      {
       "output_type": "stream",
       "stream": "stderr",
       "text": [
        "11%\r"
       ]
      },
      {
       "output_type": "stream",
       "stream": "stderr",
       "text": [
        "12%\r"
       ]
      },
      {
       "output_type": "stream",
       "stream": "stderr",
       "text": [
        "13%\r"
       ]
      },
      {
       "output_type": "stream",
       "stream": "stderr",
       "text": [
        "14%\r"
       ]
      },
      {
       "output_type": "stream",
       "stream": "stderr",
       "text": [
        "15%\r"
       ]
      },
      {
       "output_type": "stream",
       "stream": "stderr",
       "text": [
        "16%\r"
       ]
      },
      {
       "output_type": "stream",
       "stream": "stderr",
       "text": [
        "17%\r"
       ]
      },
      {
       "output_type": "stream",
       "stream": "stderr",
       "text": [
        "18%\r"
       ]
      },
      {
       "output_type": "stream",
       "stream": "stderr",
       "text": [
        "19%\r"
       ]
      },
      {
       "output_type": "stream",
       "stream": "stderr",
       "text": [
        "20%\r"
       ]
      },
      {
       "output_type": "stream",
       "stream": "stderr",
       "text": [
        "21%\r"
       ]
      },
      {
       "output_type": "stream",
       "stream": "stderr",
       "text": [
        "22%\r"
       ]
      },
      {
       "output_type": "stream",
       "stream": "stderr",
       "text": [
        "23%\r"
       ]
      },
      {
       "output_type": "stream",
       "stream": "stderr",
       "text": [
        "24%\r"
       ]
      },
      {
       "output_type": "stream",
       "stream": "stderr",
       "text": [
        "25%\r"
       ]
      },
      {
       "output_type": "stream",
       "stream": "stderr",
       "text": [
        "26%\r"
       ]
      },
      {
       "output_type": "stream",
       "stream": "stderr",
       "text": [
        "27%\r"
       ]
      },
      {
       "output_type": "stream",
       "stream": "stderr",
       "text": [
        "28%\r"
       ]
      },
      {
       "output_type": "stream",
       "stream": "stderr",
       "text": [
        "29%\r"
       ]
      },
      {
       "output_type": "stream",
       "stream": "stderr",
       "text": [
        "30%\r"
       ]
      },
      {
       "output_type": "stream",
       "stream": "stderr",
       "text": [
        "31%\r"
       ]
      },
      {
       "output_type": "stream",
       "stream": "stderr",
       "text": [
        "32%\r"
       ]
      },
      {
       "output_type": "stream",
       "stream": "stderr",
       "text": [
        "33%\r"
       ]
      },
      {
       "output_type": "stream",
       "stream": "stderr",
       "text": [
        "34%\r"
       ]
      },
      {
       "output_type": "stream",
       "stream": "stderr",
       "text": [
        "35%\r"
       ]
      },
      {
       "output_type": "stream",
       "stream": "stderr",
       "text": [
        "36%\r"
       ]
      },
      {
       "output_type": "stream",
       "stream": "stderr",
       "text": [
        "37%\r"
       ]
      },
      {
       "output_type": "stream",
       "stream": "stderr",
       "text": [
        "38%\r"
       ]
      },
      {
       "output_type": "stream",
       "stream": "stderr",
       "text": [
        "39%\r"
       ]
      },
      {
       "output_type": "stream",
       "stream": "stderr",
       "text": [
        "40%\r"
       ]
      },
      {
       "output_type": "stream",
       "stream": "stderr",
       "text": [
        "41%\r"
       ]
      },
      {
       "output_type": "stream",
       "stream": "stderr",
       "text": [
        "42%\r"
       ]
      },
      {
       "output_type": "stream",
       "stream": "stderr",
       "text": [
        "43%\r"
       ]
      },
      {
       "output_type": "stream",
       "stream": "stderr",
       "text": [
        "44%\r"
       ]
      },
      {
       "output_type": "stream",
       "stream": "stderr",
       "text": [
        "45%\r"
       ]
      },
      {
       "output_type": "stream",
       "stream": "stderr",
       "text": [
        "46%\r"
       ]
      },
      {
       "output_type": "stream",
       "stream": "stderr",
       "text": [
        "47%\r"
       ]
      },
      {
       "output_type": "stream",
       "stream": "stderr",
       "text": [
        "48%\r"
       ]
      },
      {
       "output_type": "stream",
       "stream": "stderr",
       "text": [
        "49%\r"
       ]
      },
      {
       "output_type": "stream",
       "stream": "stderr",
       "text": [
        "50%\r"
       ]
      },
      {
       "output_type": "stream",
       "stream": "stderr",
       "text": [
        "51%\r"
       ]
      },
      {
       "output_type": "stream",
       "stream": "stderr",
       "text": [
        "52%\r"
       ]
      },
      {
       "output_type": "stream",
       "stream": "stderr",
       "text": [
        "53%\r"
       ]
      },
      {
       "output_type": "stream",
       "stream": "stderr",
       "text": [
        "54%\r"
       ]
      },
      {
       "output_type": "stream",
       "stream": "stderr",
       "text": [
        "55%\r"
       ]
      },
      {
       "output_type": "stream",
       "stream": "stderr",
       "text": [
        "56%\r"
       ]
      },
      {
       "output_type": "stream",
       "stream": "stderr",
       "text": [
        "57%\r"
       ]
      },
      {
       "output_type": "stream",
       "stream": "stderr",
       "text": [
        "58%\r"
       ]
      },
      {
       "output_type": "stream",
       "stream": "stderr",
       "text": [
        "59%\r"
       ]
      },
      {
       "output_type": "stream",
       "stream": "stderr",
       "text": [
        "60%\r"
       ]
      },
      {
       "output_type": "stream",
       "stream": "stderr",
       "text": [
        "61%\r"
       ]
      },
      {
       "output_type": "stream",
       "stream": "stderr",
       "text": [
        "62%\r"
       ]
      },
      {
       "output_type": "stream",
       "stream": "stderr",
       "text": [
        "63%\r"
       ]
      },
      {
       "output_type": "stream",
       "stream": "stderr",
       "text": [
        "64%\r"
       ]
      },
      {
       "output_type": "stream",
       "stream": "stderr",
       "text": [
        "65%\r"
       ]
      },
      {
       "output_type": "stream",
       "stream": "stderr",
       "text": [
        "66%\r"
       ]
      },
      {
       "output_type": "stream",
       "stream": "stderr",
       "text": [
        "67%\r"
       ]
      },
      {
       "output_type": "stream",
       "stream": "stderr",
       "text": [
        "68%\r"
       ]
      },
      {
       "output_type": "stream",
       "stream": "stderr",
       "text": [
        "69%\r"
       ]
      },
      {
       "output_type": "stream",
       "stream": "stderr",
       "text": [
        "70%\r"
       ]
      },
      {
       "output_type": "stream",
       "stream": "stderr",
       "text": [
        "71%\r"
       ]
      },
      {
       "output_type": "stream",
       "stream": "stderr",
       "text": [
        "72%\r"
       ]
      },
      {
       "output_type": "stream",
       "stream": "stderr",
       "text": [
        "73%\r"
       ]
      },
      {
       "output_type": "stream",
       "stream": "stderr",
       "text": [
        "74%\r"
       ]
      },
      {
       "output_type": "stream",
       "stream": "stderr",
       "text": [
        "75%\r"
       ]
      },
      {
       "output_type": "stream",
       "stream": "stderr",
       "text": [
        "76%\r"
       ]
      },
      {
       "output_type": "stream",
       "stream": "stderr",
       "text": [
        "77%\r"
       ]
      },
      {
       "output_type": "stream",
       "stream": "stderr",
       "text": [
        "78%\r"
       ]
      },
      {
       "output_type": "stream",
       "stream": "stderr",
       "text": [
        "79%\r"
       ]
      },
      {
       "output_type": "stream",
       "stream": "stderr",
       "text": [
        "80%\r"
       ]
      },
      {
       "output_type": "stream",
       "stream": "stderr",
       "text": [
        "81%\r"
       ]
      },
      {
       "output_type": "stream",
       "stream": "stderr",
       "text": [
        "82%\r"
       ]
      },
      {
       "output_type": "stream",
       "stream": "stderr",
       "text": [
        "83%\r"
       ]
      },
      {
       "output_type": "stream",
       "stream": "stderr",
       "text": [
        "84%\r"
       ]
      },
      {
       "output_type": "stream",
       "stream": "stderr",
       "text": [
        "85%\r"
       ]
      },
      {
       "output_type": "stream",
       "stream": "stderr",
       "text": [
        "86%\r"
       ]
      },
      {
       "output_type": "stream",
       "stream": "stderr",
       "text": [
        "87%\r"
       ]
      },
      {
       "output_type": "stream",
       "stream": "stderr",
       "text": [
        "88%\r"
       ]
      },
      {
       "output_type": "stream",
       "stream": "stderr",
       "text": [
        "89%\r"
       ]
      },
      {
       "output_type": "stream",
       "stream": "stderr",
       "text": [
        "90%\r"
       ]
      },
      {
       "output_type": "stream",
       "stream": "stderr",
       "text": [
        "91%\r"
       ]
      },
      {
       "output_type": "stream",
       "stream": "stderr",
       "text": [
        "92%\r"
       ]
      },
      {
       "output_type": "stream",
       "stream": "stderr",
       "text": [
        "93%\r"
       ]
      },
      {
       "output_type": "stream",
       "stream": "stderr",
       "text": [
        "94%\r"
       ]
      },
      {
       "output_type": "stream",
       "stream": "stderr",
       "text": [
        "95%\r"
       ]
      },
      {
       "output_type": "stream",
       "stream": "stderr",
       "text": [
        "96%\r"
       ]
      },
      {
       "output_type": "stream",
       "stream": "stderr",
       "text": [
        "97%\r"
       ]
      },
      {
       "output_type": "stream",
       "stream": "stderr",
       "text": [
        "98%\r"
       ]
      },
      {
       "output_type": "stream",
       "stream": "stderr",
       "text": [
        "99%\r"
       ]
      },
      {
       "output_type": "stream",
       "stream": "stderr",
       "text": [
        "100%\r"
       ]
      },
      {
       "output_type": "stream",
       "stream": "stderr",
       "text": [
        "100%\n"
       ]
      },
      {
       "output_type": "stream",
       "stream": "stdout",
       "text": [
        "\n",
        "  loss 1.1278260014\n",
        "  err  0.399038461538\n",
        "  (0:00:42)\n",
        "Epoch 39:"
       ]
      },
      {
       "output_type": "stream",
       "stream": "stderr",
       "text": [
        "1%\r"
       ]
      },
      {
       "output_type": "stream",
       "stream": "stderr",
       "text": [
        "2%\r"
       ]
      },
      {
       "output_type": "stream",
       "stream": "stderr",
       "text": [
        "3%\r"
       ]
      },
      {
       "output_type": "stream",
       "stream": "stderr",
       "text": [
        "4%\r"
       ]
      },
      {
       "output_type": "stream",
       "stream": "stderr",
       "text": [
        "5%\r"
       ]
      },
      {
       "output_type": "stream",
       "stream": "stderr",
       "text": [
        "6%\r"
       ]
      },
      {
       "output_type": "stream",
       "stream": "stderr",
       "text": [
        "7%\r"
       ]
      },
      {
       "output_type": "stream",
       "stream": "stderr",
       "text": [
        "8%\r"
       ]
      },
      {
       "output_type": "stream",
       "stream": "stderr",
       "text": [
        "9%\r"
       ]
      },
      {
       "output_type": "stream",
       "stream": "stderr",
       "text": [
        "10%\r"
       ]
      },
      {
       "output_type": "stream",
       "stream": "stderr",
       "text": [
        "11%\r"
       ]
      },
      {
       "output_type": "stream",
       "stream": "stderr",
       "text": [
        "12%\r"
       ]
      },
      {
       "output_type": "stream",
       "stream": "stderr",
       "text": [
        "13%\r"
       ]
      },
      {
       "output_type": "stream",
       "stream": "stderr",
       "text": [
        "14%\r"
       ]
      },
      {
       "output_type": "stream",
       "stream": "stderr",
       "text": [
        "15%\r"
       ]
      },
      {
       "output_type": "stream",
       "stream": "stderr",
       "text": [
        "16%\r"
       ]
      },
      {
       "output_type": "stream",
       "stream": "stderr",
       "text": [
        "17%\r"
       ]
      },
      {
       "output_type": "stream",
       "stream": "stderr",
       "text": [
        "18%\r"
       ]
      },
      {
       "output_type": "stream",
       "stream": "stderr",
       "text": [
        "19%\r"
       ]
      },
      {
       "output_type": "stream",
       "stream": "stderr",
       "text": [
        "20%\r"
       ]
      },
      {
       "output_type": "stream",
       "stream": "stderr",
       "text": [
        "21%\r"
       ]
      },
      {
       "output_type": "stream",
       "stream": "stderr",
       "text": [
        "22%\r"
       ]
      },
      {
       "output_type": "stream",
       "stream": "stderr",
       "text": [
        "23%\r"
       ]
      },
      {
       "output_type": "stream",
       "stream": "stderr",
       "text": [
        "24%\r"
       ]
      },
      {
       "output_type": "stream",
       "stream": "stderr",
       "text": [
        "25%\r"
       ]
      },
      {
       "output_type": "stream",
       "stream": "stderr",
       "text": [
        "26%\r"
       ]
      },
      {
       "output_type": "stream",
       "stream": "stderr",
       "text": [
        "27%\r"
       ]
      },
      {
       "output_type": "stream",
       "stream": "stderr",
       "text": [
        "28%\r"
       ]
      },
      {
       "output_type": "stream",
       "stream": "stderr",
       "text": [
        "29%\r"
       ]
      },
      {
       "output_type": "stream",
       "stream": "stderr",
       "text": [
        "30%\r"
       ]
      },
      {
       "output_type": "stream",
       "stream": "stderr",
       "text": [
        "31%\r"
       ]
      },
      {
       "output_type": "stream",
       "stream": "stderr",
       "text": [
        "32%\r"
       ]
      },
      {
       "output_type": "stream",
       "stream": "stderr",
       "text": [
        "33%\r"
       ]
      },
      {
       "output_type": "stream",
       "stream": "stderr",
       "text": [
        "34%\r"
       ]
      },
      {
       "output_type": "stream",
       "stream": "stderr",
       "text": [
        "35%\r"
       ]
      },
      {
       "output_type": "stream",
       "stream": "stderr",
       "text": [
        "36%\r"
       ]
      },
      {
       "output_type": "stream",
       "stream": "stderr",
       "text": [
        "37%\r"
       ]
      },
      {
       "output_type": "stream",
       "stream": "stderr",
       "text": [
        "38%\r"
       ]
      },
      {
       "output_type": "stream",
       "stream": "stderr",
       "text": [
        "39%\r"
       ]
      },
      {
       "output_type": "stream",
       "stream": "stderr",
       "text": [
        "40%\r"
       ]
      },
      {
       "output_type": "stream",
       "stream": "stderr",
       "text": [
        "41%\r"
       ]
      },
      {
       "output_type": "stream",
       "stream": "stderr",
       "text": [
        "42%\r"
       ]
      },
      {
       "output_type": "stream",
       "stream": "stderr",
       "text": [
        "43%\r"
       ]
      },
      {
       "output_type": "stream",
       "stream": "stderr",
       "text": [
        "44%\r"
       ]
      },
      {
       "output_type": "stream",
       "stream": "stderr",
       "text": [
        "45%\r"
       ]
      },
      {
       "output_type": "stream",
       "stream": "stderr",
       "text": [
        "46%\r"
       ]
      },
      {
       "output_type": "stream",
       "stream": "stderr",
       "text": [
        "47%\r"
       ]
      },
      {
       "output_type": "stream",
       "stream": "stderr",
       "text": [
        "48%\r"
       ]
      },
      {
       "output_type": "stream",
       "stream": "stderr",
       "text": [
        "49%\r"
       ]
      },
      {
       "output_type": "stream",
       "stream": "stderr",
       "text": [
        "50%\r"
       ]
      },
      {
       "output_type": "stream",
       "stream": "stderr",
       "text": [
        "51%\r"
       ]
      },
      {
       "output_type": "stream",
       "stream": "stderr",
       "text": [
        "52%\r"
       ]
      },
      {
       "output_type": "stream",
       "stream": "stderr",
       "text": [
        "53%\r"
       ]
      },
      {
       "output_type": "stream",
       "stream": "stderr",
       "text": [
        "54%\r"
       ]
      },
      {
       "output_type": "stream",
       "stream": "stderr",
       "text": [
        "55%\r"
       ]
      },
      {
       "output_type": "stream",
       "stream": "stderr",
       "text": [
        "56%\r"
       ]
      },
      {
       "output_type": "stream",
       "stream": "stderr",
       "text": [
        "57%\r"
       ]
      },
      {
       "output_type": "stream",
       "stream": "stderr",
       "text": [
        "58%\r"
       ]
      },
      {
       "output_type": "stream",
       "stream": "stderr",
       "text": [
        "59%\r"
       ]
      },
      {
       "output_type": "stream",
       "stream": "stderr",
       "text": [
        "60%\r"
       ]
      },
      {
       "output_type": "stream",
       "stream": "stderr",
       "text": [
        "61%\r"
       ]
      },
      {
       "output_type": "stream",
       "stream": "stderr",
       "text": [
        "62%\r"
       ]
      },
      {
       "output_type": "stream",
       "stream": "stderr",
       "text": [
        "63%\r"
       ]
      },
      {
       "output_type": "stream",
       "stream": "stderr",
       "text": [
        "64%\r"
       ]
      },
      {
       "output_type": "stream",
       "stream": "stderr",
       "text": [
        "65%\r"
       ]
      },
      {
       "output_type": "stream",
       "stream": "stderr",
       "text": [
        "66%\r"
       ]
      },
      {
       "output_type": "stream",
       "stream": "stderr",
       "text": [
        "67%\r"
       ]
      },
      {
       "output_type": "stream",
       "stream": "stderr",
       "text": [
        "68%\r"
       ]
      },
      {
       "output_type": "stream",
       "stream": "stderr",
       "text": [
        "69%\r"
       ]
      },
      {
       "output_type": "stream",
       "stream": "stderr",
       "text": [
        "70%\r"
       ]
      },
      {
       "output_type": "stream",
       "stream": "stderr",
       "text": [
        "71%\r"
       ]
      },
      {
       "output_type": "stream",
       "stream": "stderr",
       "text": [
        "72%\r"
       ]
      },
      {
       "output_type": "stream",
       "stream": "stderr",
       "text": [
        "73%\r"
       ]
      },
      {
       "output_type": "stream",
       "stream": "stderr",
       "text": [
        "74%\r"
       ]
      },
      {
       "output_type": "stream",
       "stream": "stderr",
       "text": [
        "75%\r"
       ]
      },
      {
       "output_type": "stream",
       "stream": "stderr",
       "text": [
        "76%\r"
       ]
      },
      {
       "output_type": "stream",
       "stream": "stderr",
       "text": [
        "77%\r"
       ]
      },
      {
       "output_type": "stream",
       "stream": "stderr",
       "text": [
        "78%\r"
       ]
      },
      {
       "output_type": "stream",
       "stream": "stderr",
       "text": [
        "79%\r"
       ]
      },
      {
       "output_type": "stream",
       "stream": "stderr",
       "text": [
        "80%\r"
       ]
      },
      {
       "output_type": "stream",
       "stream": "stderr",
       "text": [
        "81%\r"
       ]
      },
      {
       "output_type": "stream",
       "stream": "stderr",
       "text": [
        "82%\r"
       ]
      },
      {
       "output_type": "stream",
       "stream": "stderr",
       "text": [
        "83%\r"
       ]
      },
      {
       "output_type": "stream",
       "stream": "stderr",
       "text": [
        "84%\r"
       ]
      },
      {
       "output_type": "stream",
       "stream": "stderr",
       "text": [
        "85%\r"
       ]
      },
      {
       "output_type": "stream",
       "stream": "stderr",
       "text": [
        "86%\r"
       ]
      },
      {
       "output_type": "stream",
       "stream": "stderr",
       "text": [
        "87%\r"
       ]
      },
      {
       "output_type": "stream",
       "stream": "stderr",
       "text": [
        "88%\r"
       ]
      },
      {
       "output_type": "stream",
       "stream": "stderr",
       "text": [
        "89%\r"
       ]
      },
      {
       "output_type": "stream",
       "stream": "stderr",
       "text": [
        "90%\r"
       ]
      },
      {
       "output_type": "stream",
       "stream": "stderr",
       "text": [
        "91%\r"
       ]
      },
      {
       "output_type": "stream",
       "stream": "stderr",
       "text": [
        "92%\r"
       ]
      },
      {
       "output_type": "stream",
       "stream": "stderr",
       "text": [
        "93%\r"
       ]
      },
      {
       "output_type": "stream",
       "stream": "stderr",
       "text": [
        "94%\r"
       ]
      },
      {
       "output_type": "stream",
       "stream": "stderr",
       "text": [
        "95%\r"
       ]
      },
      {
       "output_type": "stream",
       "stream": "stderr",
       "text": [
        "96%\r"
       ]
      },
      {
       "output_type": "stream",
       "stream": "stderr",
       "text": [
        "97%\r"
       ]
      },
      {
       "output_type": "stream",
       "stream": "stderr",
       "text": [
        "98%\r"
       ]
      },
      {
       "output_type": "stream",
       "stream": "stderr",
       "text": [
        "99%\r"
       ]
      },
      {
       "output_type": "stream",
       "stream": "stderr",
       "text": [
        "100%\r"
       ]
      },
      {
       "output_type": "stream",
       "stream": "stderr",
       "text": [
        "100%\n"
       ]
      },
      {
       "output_type": "stream",
       "stream": "stdout",
       "text": [
        "\n",
        "  loss 1.14189103551\n",
        "  err  0.407051282051\n",
        "  (0:00:43)\n",
        "Epoch 40:"
       ]
      },
      {
       "output_type": "stream",
       "stream": "stderr",
       "text": [
        "1%\r"
       ]
      },
      {
       "output_type": "stream",
       "stream": "stderr",
       "text": [
        "2%\r"
       ]
      },
      {
       "output_type": "stream",
       "stream": "stderr",
       "text": [
        "3%\r"
       ]
      },
      {
       "output_type": "stream",
       "stream": "stderr",
       "text": [
        "4%\r"
       ]
      },
      {
       "output_type": "stream",
       "stream": "stderr",
       "text": [
        "5%\r"
       ]
      },
      {
       "output_type": "stream",
       "stream": "stderr",
       "text": [
        "6%\r"
       ]
      },
      {
       "output_type": "stream",
       "stream": "stderr",
       "text": [
        "7%\r"
       ]
      },
      {
       "output_type": "stream",
       "stream": "stderr",
       "text": [
        "8%\r"
       ]
      },
      {
       "output_type": "stream",
       "stream": "stderr",
       "text": [
        "9%\r"
       ]
      },
      {
       "output_type": "stream",
       "stream": "stderr",
       "text": [
        "10%\r"
       ]
      },
      {
       "output_type": "stream",
       "stream": "stderr",
       "text": [
        "11%\r"
       ]
      },
      {
       "output_type": "stream",
       "stream": "stderr",
       "text": [
        "12%\r"
       ]
      },
      {
       "output_type": "stream",
       "stream": "stderr",
       "text": [
        "13%\r"
       ]
      },
      {
       "output_type": "stream",
       "stream": "stderr",
       "text": [
        "14%\r"
       ]
      },
      {
       "output_type": "stream",
       "stream": "stderr",
       "text": [
        "15%\r"
       ]
      },
      {
       "output_type": "stream",
       "stream": "stderr",
       "text": [
        "16%\r"
       ]
      },
      {
       "output_type": "stream",
       "stream": "stderr",
       "text": [
        "17%\r"
       ]
      },
      {
       "output_type": "stream",
       "stream": "stderr",
       "text": [
        "18%\r"
       ]
      },
      {
       "output_type": "stream",
       "stream": "stderr",
       "text": [
        "19%\r"
       ]
      },
      {
       "output_type": "stream",
       "stream": "stderr",
       "text": [
        "20%\r"
       ]
      },
      {
       "output_type": "stream",
       "stream": "stderr",
       "text": [
        "21%\r"
       ]
      },
      {
       "output_type": "stream",
       "stream": "stderr",
       "text": [
        "22%\r"
       ]
      },
      {
       "output_type": "stream",
       "stream": "stderr",
       "text": [
        "23%\r"
       ]
      },
      {
       "output_type": "stream",
       "stream": "stderr",
       "text": [
        "24%\r"
       ]
      },
      {
       "output_type": "stream",
       "stream": "stderr",
       "text": [
        "25%\r"
       ]
      },
      {
       "output_type": "stream",
       "stream": "stderr",
       "text": [
        "26%\r"
       ]
      },
      {
       "output_type": "stream",
       "stream": "stderr",
       "text": [
        "27%\r"
       ]
      },
      {
       "output_type": "stream",
       "stream": "stderr",
       "text": [
        "28%\r"
       ]
      },
      {
       "output_type": "stream",
       "stream": "stderr",
       "text": [
        "29%\r"
       ]
      },
      {
       "output_type": "stream",
       "stream": "stderr",
       "text": [
        "30%\r"
       ]
      },
      {
       "output_type": "stream",
       "stream": "stderr",
       "text": [
        "31%\r"
       ]
      },
      {
       "output_type": "stream",
       "stream": "stderr",
       "text": [
        "32%\r"
       ]
      },
      {
       "output_type": "stream",
       "stream": "stderr",
       "text": [
        "33%\r"
       ]
      },
      {
       "output_type": "stream",
       "stream": "stderr",
       "text": [
        "34%\r"
       ]
      },
      {
       "output_type": "stream",
       "stream": "stderr",
       "text": [
        "35%\r"
       ]
      },
      {
       "output_type": "stream",
       "stream": "stderr",
       "text": [
        "36%\r"
       ]
      },
      {
       "output_type": "stream",
       "stream": "stderr",
       "text": [
        "37%\r"
       ]
      },
      {
       "output_type": "stream",
       "stream": "stderr",
       "text": [
        "38%\r"
       ]
      },
      {
       "output_type": "stream",
       "stream": "stderr",
       "text": [
        "39%\r"
       ]
      },
      {
       "output_type": "stream",
       "stream": "stderr",
       "text": [
        "40%\r"
       ]
      },
      {
       "output_type": "stream",
       "stream": "stderr",
       "text": [
        "41%\r"
       ]
      },
      {
       "output_type": "stream",
       "stream": "stderr",
       "text": [
        "42%\r"
       ]
      },
      {
       "output_type": "stream",
       "stream": "stderr",
       "text": [
        "43%\r"
       ]
      },
      {
       "output_type": "stream",
       "stream": "stderr",
       "text": [
        "44%\r"
       ]
      },
      {
       "output_type": "stream",
       "stream": "stderr",
       "text": [
        "45%\r"
       ]
      },
      {
       "output_type": "stream",
       "stream": "stderr",
       "text": [
        "46%\r"
       ]
      },
      {
       "output_type": "stream",
       "stream": "stderr",
       "text": [
        "47%\r"
       ]
      },
      {
       "output_type": "stream",
       "stream": "stderr",
       "text": [
        "48%\r"
       ]
      },
      {
       "output_type": "stream",
       "stream": "stderr",
       "text": [
        "49%\r"
       ]
      },
      {
       "output_type": "stream",
       "stream": "stderr",
       "text": [
        "50%\r"
       ]
      },
      {
       "output_type": "stream",
       "stream": "stderr",
       "text": [
        "51%\r"
       ]
      },
      {
       "output_type": "stream",
       "stream": "stderr",
       "text": [
        "52%\r"
       ]
      },
      {
       "output_type": "stream",
       "stream": "stderr",
       "text": [
        "53%\r"
       ]
      },
      {
       "output_type": "stream",
       "stream": "stderr",
       "text": [
        "54%\r"
       ]
      },
      {
       "output_type": "stream",
       "stream": "stderr",
       "text": [
        "55%\r"
       ]
      },
      {
       "output_type": "stream",
       "stream": "stderr",
       "text": [
        "56%\r"
       ]
      },
      {
       "output_type": "stream",
       "stream": "stderr",
       "text": [
        "57%\r"
       ]
      },
      {
       "output_type": "stream",
       "stream": "stderr",
       "text": [
        "58%\r"
       ]
      },
      {
       "output_type": "stream",
       "stream": "stderr",
       "text": [
        "59%\r"
       ]
      },
      {
       "output_type": "stream",
       "stream": "stderr",
       "text": [
        "60%\r"
       ]
      },
      {
       "output_type": "stream",
       "stream": "stderr",
       "text": [
        "61%\r"
       ]
      },
      {
       "output_type": "stream",
       "stream": "stderr",
       "text": [
        "62%\r"
       ]
      },
      {
       "output_type": "stream",
       "stream": "stderr",
       "text": [
        "63%\r"
       ]
      },
      {
       "output_type": "stream",
       "stream": "stderr",
       "text": [
        "64%\r"
       ]
      },
      {
       "output_type": "stream",
       "stream": "stderr",
       "text": [
        "65%\r"
       ]
      },
      {
       "output_type": "stream",
       "stream": "stderr",
       "text": [
        "66%\r"
       ]
      },
      {
       "output_type": "stream",
       "stream": "stderr",
       "text": [
        "67%\r"
       ]
      },
      {
       "output_type": "stream",
       "stream": "stderr",
       "text": [
        "68%\r"
       ]
      },
      {
       "output_type": "stream",
       "stream": "stderr",
       "text": [
        "69%\r"
       ]
      },
      {
       "output_type": "stream",
       "stream": "stderr",
       "text": [
        "70%\r"
       ]
      },
      {
       "output_type": "stream",
       "stream": "stderr",
       "text": [
        "71%\r"
       ]
      },
      {
       "output_type": "stream",
       "stream": "stderr",
       "text": [
        "72%\r"
       ]
      },
      {
       "output_type": "stream",
       "stream": "stderr",
       "text": [
        "73%\r"
       ]
      },
      {
       "output_type": "stream",
       "stream": "stderr",
       "text": [
        "74%\r"
       ]
      },
      {
       "output_type": "stream",
       "stream": "stderr",
       "text": [
        "75%\r"
       ]
      },
      {
       "output_type": "stream",
       "stream": "stderr",
       "text": [
        "76%\r"
       ]
      },
      {
       "output_type": "stream",
       "stream": "stderr",
       "text": [
        "77%\r"
       ]
      },
      {
       "output_type": "stream",
       "stream": "stderr",
       "text": [
        "78%\r"
       ]
      },
      {
       "output_type": "stream",
       "stream": "stderr",
       "text": [
        "79%\r"
       ]
      },
      {
       "output_type": "stream",
       "stream": "stderr",
       "text": [
        "80%\r"
       ]
      },
      {
       "output_type": "stream",
       "stream": "stderr",
       "text": [
        "81%\r"
       ]
      },
      {
       "output_type": "stream",
       "stream": "stderr",
       "text": [
        "82%\r"
       ]
      },
      {
       "output_type": "stream",
       "stream": "stderr",
       "text": [
        "83%\r"
       ]
      },
      {
       "output_type": "stream",
       "stream": "stderr",
       "text": [
        "84%\r"
       ]
      },
      {
       "output_type": "stream",
       "stream": "stderr",
       "text": [
        "85%\r"
       ]
      },
      {
       "output_type": "stream",
       "stream": "stderr",
       "text": [
        "86%\r"
       ]
      },
      {
       "output_type": "stream",
       "stream": "stderr",
       "text": [
        "87%\r"
       ]
      },
      {
       "output_type": "stream",
       "stream": "stderr",
       "text": [
        "88%\r"
       ]
      },
      {
       "output_type": "stream",
       "stream": "stderr",
       "text": [
        "89%\r"
       ]
      },
      {
       "output_type": "stream",
       "stream": "stderr",
       "text": [
        "90%\r"
       ]
      },
      {
       "output_type": "stream",
       "stream": "stderr",
       "text": [
        "91%\r"
       ]
      },
      {
       "output_type": "stream",
       "stream": "stderr",
       "text": [
        "92%\r"
       ]
      },
      {
       "output_type": "stream",
       "stream": "stderr",
       "text": [
        "93%\r"
       ]
      },
      {
       "output_type": "stream",
       "stream": "stderr",
       "text": [
        "94%\r"
       ]
      },
      {
       "output_type": "stream",
       "stream": "stderr",
       "text": [
        "95%\r"
       ]
      },
      {
       "output_type": "stream",
       "stream": "stderr",
       "text": [
        "96%\r"
       ]
      },
      {
       "output_type": "stream",
       "stream": "stderr",
       "text": [
        "97%\r"
       ]
      },
      {
       "output_type": "stream",
       "stream": "stderr",
       "text": [
        "98%\r"
       ]
      },
      {
       "output_type": "stream",
       "stream": "stderr",
       "text": [
        "99%\r"
       ]
      },
      {
       "output_type": "stream",
       "stream": "stderr",
       "text": [
        "100%\r"
       ]
      },
      {
       "output_type": "stream",
       "stream": "stderr",
       "text": [
        "100%\n"
       ]
      },
      {
       "output_type": "stream",
       "stream": "stdout",
       "text": [
        "\n",
        "  loss 1.13571775342\n",
        "  err  0.405448717949\n",
        "  (0:00:43)\n",
        "Epoch 41:"
       ]
      },
      {
       "output_type": "stream",
       "stream": "stderr",
       "text": [
        "1%\r"
       ]
      },
      {
       "output_type": "stream",
       "stream": "stderr",
       "text": [
        "2%\r"
       ]
      },
      {
       "output_type": "stream",
       "stream": "stderr",
       "text": [
        "3%\r"
       ]
      },
      {
       "output_type": "stream",
       "stream": "stderr",
       "text": [
        "4%\r"
       ]
      },
      {
       "output_type": "stream",
       "stream": "stderr",
       "text": [
        "5%\r"
       ]
      },
      {
       "output_type": "stream",
       "stream": "stderr",
       "text": [
        "6%\r"
       ]
      },
      {
       "output_type": "stream",
       "stream": "stderr",
       "text": [
        "7%\r"
       ]
      },
      {
       "output_type": "stream",
       "stream": "stderr",
       "text": [
        "8%\r"
       ]
      },
      {
       "output_type": "stream",
       "stream": "stderr",
       "text": [
        "9%\r"
       ]
      },
      {
       "output_type": "stream",
       "stream": "stderr",
       "text": [
        "10%\r"
       ]
      },
      {
       "output_type": "stream",
       "stream": "stderr",
       "text": [
        "11%\r"
       ]
      },
      {
       "output_type": "stream",
       "stream": "stderr",
       "text": [
        "12%\r"
       ]
      },
      {
       "output_type": "stream",
       "stream": "stderr",
       "text": [
        "13%\r"
       ]
      },
      {
       "output_type": "stream",
       "stream": "stderr",
       "text": [
        "14%\r"
       ]
      },
      {
       "output_type": "stream",
       "stream": "stderr",
       "text": [
        "15%\r"
       ]
      },
      {
       "output_type": "stream",
       "stream": "stderr",
       "text": [
        "16%\r"
       ]
      },
      {
       "output_type": "stream",
       "stream": "stderr",
       "text": [
        "17%\r"
       ]
      },
      {
       "output_type": "stream",
       "stream": "stderr",
       "text": [
        "18%\r"
       ]
      },
      {
       "output_type": "stream",
       "stream": "stderr",
       "text": [
        "19%\r"
       ]
      },
      {
       "output_type": "stream",
       "stream": "stderr",
       "text": [
        "20%\r"
       ]
      },
      {
       "output_type": "stream",
       "stream": "stderr",
       "text": [
        "21%\r"
       ]
      },
      {
       "output_type": "stream",
       "stream": "stderr",
       "text": [
        "22%\r"
       ]
      },
      {
       "output_type": "stream",
       "stream": "stderr",
       "text": [
        "23%\r"
       ]
      },
      {
       "output_type": "stream",
       "stream": "stderr",
       "text": [
        "24%\r"
       ]
      },
      {
       "output_type": "stream",
       "stream": "stderr",
       "text": [
        "25%\r"
       ]
      },
      {
       "output_type": "stream",
       "stream": "stderr",
       "text": [
        "26%\r"
       ]
      },
      {
       "output_type": "stream",
       "stream": "stderr",
       "text": [
        "27%\r"
       ]
      },
      {
       "output_type": "stream",
       "stream": "stderr",
       "text": [
        "28%\r"
       ]
      },
      {
       "output_type": "stream",
       "stream": "stderr",
       "text": [
        "29%\r"
       ]
      },
      {
       "output_type": "stream",
       "stream": "stderr",
       "text": [
        "30%\r"
       ]
      },
      {
       "output_type": "stream",
       "stream": "stderr",
       "text": [
        "31%\r"
       ]
      },
      {
       "output_type": "stream",
       "stream": "stderr",
       "text": [
        "32%\r"
       ]
      },
      {
       "output_type": "stream",
       "stream": "stderr",
       "text": [
        "33%\r"
       ]
      },
      {
       "output_type": "stream",
       "stream": "stderr",
       "text": [
        "34%\r"
       ]
      },
      {
       "output_type": "stream",
       "stream": "stderr",
       "text": [
        "35%\r"
       ]
      },
      {
       "output_type": "stream",
       "stream": "stderr",
       "text": [
        "36%\r"
       ]
      },
      {
       "output_type": "stream",
       "stream": "stderr",
       "text": [
        "37%\r"
       ]
      },
      {
       "output_type": "stream",
       "stream": "stderr",
       "text": [
        "38%\r"
       ]
      },
      {
       "output_type": "stream",
       "stream": "stderr",
       "text": [
        "39%\r"
       ]
      },
      {
       "output_type": "stream",
       "stream": "stderr",
       "text": [
        "40%\r"
       ]
      },
      {
       "output_type": "stream",
       "stream": "stderr",
       "text": [
        "41%\r"
       ]
      },
      {
       "output_type": "stream",
       "stream": "stderr",
       "text": [
        "42%\r"
       ]
      },
      {
       "output_type": "stream",
       "stream": "stderr",
       "text": [
        "43%\r"
       ]
      },
      {
       "output_type": "stream",
       "stream": "stderr",
       "text": [
        "44%\r"
       ]
      },
      {
       "output_type": "stream",
       "stream": "stderr",
       "text": [
        "45%\r"
       ]
      },
      {
       "output_type": "stream",
       "stream": "stderr",
       "text": [
        "46%\r"
       ]
      },
      {
       "output_type": "stream",
       "stream": "stderr",
       "text": [
        "47%\r"
       ]
      },
      {
       "output_type": "stream",
       "stream": "stderr",
       "text": [
        "48%\r"
       ]
      },
      {
       "output_type": "stream",
       "stream": "stderr",
       "text": [
        "49%\r"
       ]
      },
      {
       "output_type": "stream",
       "stream": "stderr",
       "text": [
        "50%\r"
       ]
      },
      {
       "output_type": "stream",
       "stream": "stderr",
       "text": [
        "51%\r"
       ]
      },
      {
       "output_type": "stream",
       "stream": "stderr",
       "text": [
        "52%\r"
       ]
      },
      {
       "output_type": "stream",
       "stream": "stderr",
       "text": [
        "53%\r"
       ]
      },
      {
       "output_type": "stream",
       "stream": "stderr",
       "text": [
        "54%\r"
       ]
      },
      {
       "output_type": "stream",
       "stream": "stderr",
       "text": [
        "55%\r"
       ]
      },
      {
       "output_type": "stream",
       "stream": "stderr",
       "text": [
        "56%\r"
       ]
      },
      {
       "output_type": "stream",
       "stream": "stderr",
       "text": [
        "57%\r"
       ]
      },
      {
       "output_type": "stream",
       "stream": "stderr",
       "text": [
        "58%\r"
       ]
      },
      {
       "output_type": "stream",
       "stream": "stderr",
       "text": [
        "59%\r"
       ]
      },
      {
       "output_type": "stream",
       "stream": "stderr",
       "text": [
        "60%\r"
       ]
      },
      {
       "output_type": "stream",
       "stream": "stderr",
       "text": [
        "61%\r"
       ]
      },
      {
       "output_type": "stream",
       "stream": "stderr",
       "text": [
        "62%\r"
       ]
      },
      {
       "output_type": "stream",
       "stream": "stderr",
       "text": [
        "63%\r"
       ]
      },
      {
       "output_type": "stream",
       "stream": "stderr",
       "text": [
        "64%\r"
       ]
      },
      {
       "output_type": "stream",
       "stream": "stderr",
       "text": [
        "65%\r"
       ]
      },
      {
       "output_type": "stream",
       "stream": "stderr",
       "text": [
        "66%\r"
       ]
      },
      {
       "output_type": "stream",
       "stream": "stderr",
       "text": [
        "67%\r"
       ]
      },
      {
       "output_type": "stream",
       "stream": "stderr",
       "text": [
        "68%\r"
       ]
      },
      {
       "output_type": "stream",
       "stream": "stderr",
       "text": [
        "69%\r"
       ]
      },
      {
       "output_type": "stream",
       "stream": "stderr",
       "text": [
        "70%\r"
       ]
      },
      {
       "output_type": "stream",
       "stream": "stderr",
       "text": [
        "71%\r"
       ]
      },
      {
       "output_type": "stream",
       "stream": "stderr",
       "text": [
        "72%\r"
       ]
      },
      {
       "output_type": "stream",
       "stream": "stderr",
       "text": [
        "73%\r"
       ]
      },
      {
       "output_type": "stream",
       "stream": "stderr",
       "text": [
        "74%\r"
       ]
      },
      {
       "output_type": "stream",
       "stream": "stderr",
       "text": [
        "75%\r"
       ]
      },
      {
       "output_type": "stream",
       "stream": "stderr",
       "text": [
        "76%\r"
       ]
      },
      {
       "output_type": "stream",
       "stream": "stderr",
       "text": [
        "77%\r"
       ]
      },
      {
       "output_type": "stream",
       "stream": "stderr",
       "text": [
        "78%\r"
       ]
      },
      {
       "output_type": "stream",
       "stream": "stderr",
       "text": [
        "79%\r"
       ]
      },
      {
       "output_type": "stream",
       "stream": "stderr",
       "text": [
        "80%\r"
       ]
      },
      {
       "output_type": "stream",
       "stream": "stderr",
       "text": [
        "81%\r"
       ]
      },
      {
       "output_type": "stream",
       "stream": "stderr",
       "text": [
        "82%\r"
       ]
      },
      {
       "output_type": "stream",
       "stream": "stderr",
       "text": [
        "83%\r"
       ]
      },
      {
       "output_type": "stream",
       "stream": "stderr",
       "text": [
        "84%\r"
       ]
      },
      {
       "output_type": "stream",
       "stream": "stderr",
       "text": [
        "85%\r"
       ]
      },
      {
       "output_type": "stream",
       "stream": "stderr",
       "text": [
        "86%\r"
       ]
      },
      {
       "output_type": "stream",
       "stream": "stderr",
       "text": [
        "87%\r"
       ]
      },
      {
       "output_type": "stream",
       "stream": "stderr",
       "text": [
        "88%\r"
       ]
      },
      {
       "output_type": "stream",
       "stream": "stderr",
       "text": [
        "89%\r"
       ]
      },
      {
       "output_type": "stream",
       "stream": "stderr",
       "text": [
        "90%\r"
       ]
      },
      {
       "output_type": "stream",
       "stream": "stderr",
       "text": [
        "91%\r"
       ]
      },
      {
       "output_type": "stream",
       "stream": "stderr",
       "text": [
        "92%\r"
       ]
      },
      {
       "output_type": "stream",
       "stream": "stderr",
       "text": [
        "93%\r"
       ]
      },
      {
       "output_type": "stream",
       "stream": "stderr",
       "text": [
        "94%\r"
       ]
      },
      {
       "output_type": "stream",
       "stream": "stderr",
       "text": [
        "95%\r"
       ]
      },
      {
       "output_type": "stream",
       "stream": "stderr",
       "text": [
        "96%\r"
       ]
      },
      {
       "output_type": "stream",
       "stream": "stderr",
       "text": [
        "97%\r"
       ]
      },
      {
       "output_type": "stream",
       "stream": "stderr",
       "text": [
        "98%\r"
       ]
      },
      {
       "output_type": "stream",
       "stream": "stderr",
       "text": [
        "99%\r"
       ]
      },
      {
       "output_type": "stream",
       "stream": "stderr",
       "text": [
        "100%\r"
       ]
      },
      {
       "output_type": "stream",
       "stream": "stderr",
       "text": [
        "100%\n"
       ]
      },
      {
       "output_type": "stream",
       "stream": "stdout",
       "text": [
        "\n",
        "  loss 1.13100605057\n",
        "  err  0.402994791667\n",
        "  (0:00:42)\n",
        "Epoch 42:"
       ]
      },
      {
       "output_type": "stream",
       "stream": "stderr",
       "text": [
        "1%\r"
       ]
      },
      {
       "output_type": "stream",
       "stream": "stderr",
       "text": [
        "2%\r"
       ]
      },
      {
       "output_type": "stream",
       "stream": "stderr",
       "text": [
        "3%\r"
       ]
      },
      {
       "output_type": "stream",
       "stream": "stderr",
       "text": [
        "4%\r"
       ]
      },
      {
       "output_type": "stream",
       "stream": "stderr",
       "text": [
        "5%\r"
       ]
      },
      {
       "output_type": "stream",
       "stream": "stderr",
       "text": [
        "6%\r"
       ]
      },
      {
       "output_type": "stream",
       "stream": "stderr",
       "text": [
        "7%\r"
       ]
      },
      {
       "output_type": "stream",
       "stream": "stderr",
       "text": [
        "8%\r"
       ]
      },
      {
       "output_type": "stream",
       "stream": "stderr",
       "text": [
        "9%\r"
       ]
      },
      {
       "output_type": "stream",
       "stream": "stderr",
       "text": [
        "10%\r"
       ]
      },
      {
       "output_type": "stream",
       "stream": "stderr",
       "text": [
        "11%\r"
       ]
      },
      {
       "output_type": "stream",
       "stream": "stderr",
       "text": [
        "12%\r"
       ]
      },
      {
       "output_type": "stream",
       "stream": "stderr",
       "text": [
        "13%\r"
       ]
      },
      {
       "output_type": "stream",
       "stream": "stderr",
       "text": [
        "14%\r"
       ]
      },
      {
       "output_type": "stream",
       "stream": "stderr",
       "text": [
        "15%\r"
       ]
      },
      {
       "output_type": "stream",
       "stream": "stderr",
       "text": [
        "16%\r"
       ]
      },
      {
       "output_type": "stream",
       "stream": "stderr",
       "text": [
        "17%\r"
       ]
      },
      {
       "output_type": "stream",
       "stream": "stderr",
       "text": [
        "18%\r"
       ]
      },
      {
       "output_type": "stream",
       "stream": "stderr",
       "text": [
        "19%\r"
       ]
      },
      {
       "output_type": "stream",
       "stream": "stderr",
       "text": [
        "20%\r"
       ]
      },
      {
       "output_type": "stream",
       "stream": "stderr",
       "text": [
        "21%\r"
       ]
      },
      {
       "output_type": "stream",
       "stream": "stderr",
       "text": [
        "22%\r"
       ]
      },
      {
       "output_type": "stream",
       "stream": "stderr",
       "text": [
        "23%\r"
       ]
      },
      {
       "output_type": "stream",
       "stream": "stderr",
       "text": [
        "24%\r"
       ]
      },
      {
       "output_type": "stream",
       "stream": "stderr",
       "text": [
        "25%\r"
       ]
      },
      {
       "output_type": "stream",
       "stream": "stderr",
       "text": [
        "26%\r"
       ]
      },
      {
       "output_type": "stream",
       "stream": "stderr",
       "text": [
        "27%\r"
       ]
      },
      {
       "output_type": "stream",
       "stream": "stderr",
       "text": [
        "28%\r"
       ]
      },
      {
       "output_type": "stream",
       "stream": "stderr",
       "text": [
        "29%\r"
       ]
      },
      {
       "output_type": "stream",
       "stream": "stderr",
       "text": [
        "30%\r"
       ]
      },
      {
       "output_type": "stream",
       "stream": "stderr",
       "text": [
        "31%\r"
       ]
      },
      {
       "output_type": "stream",
       "stream": "stderr",
       "text": [
        "32%\r"
       ]
      },
      {
       "output_type": "stream",
       "stream": "stderr",
       "text": [
        "33%\r"
       ]
      },
      {
       "output_type": "stream",
       "stream": "stderr",
       "text": [
        "34%\r"
       ]
      },
      {
       "output_type": "stream",
       "stream": "stderr",
       "text": [
        "35%\r"
       ]
      },
      {
       "output_type": "stream",
       "stream": "stderr",
       "text": [
        "36%\r"
       ]
      },
      {
       "output_type": "stream",
       "stream": "stderr",
       "text": [
        "37%\r"
       ]
      },
      {
       "output_type": "stream",
       "stream": "stderr",
       "text": [
        "38%\r"
       ]
      },
      {
       "output_type": "stream",
       "stream": "stderr",
       "text": [
        "39%\r"
       ]
      },
      {
       "output_type": "stream",
       "stream": "stderr",
       "text": [
        "40%\r"
       ]
      },
      {
       "output_type": "stream",
       "stream": "stderr",
       "text": [
        "41%\r"
       ]
      },
      {
       "output_type": "stream",
       "stream": "stderr",
       "text": [
        "42%\r"
       ]
      },
      {
       "output_type": "stream",
       "stream": "stderr",
       "text": [
        "43%\r"
       ]
      },
      {
       "output_type": "stream",
       "stream": "stderr",
       "text": [
        "44%\r"
       ]
      },
      {
       "output_type": "stream",
       "stream": "stderr",
       "text": [
        "45%\r"
       ]
      },
      {
       "output_type": "stream",
       "stream": "stderr",
       "text": [
        "46%\r"
       ]
      },
      {
       "output_type": "stream",
       "stream": "stderr",
       "text": [
        "47%\r"
       ]
      },
      {
       "output_type": "stream",
       "stream": "stderr",
       "text": [
        "48%\r"
       ]
      },
      {
       "output_type": "stream",
       "stream": "stderr",
       "text": [
        "49%\r"
       ]
      },
      {
       "output_type": "stream",
       "stream": "stderr",
       "text": [
        "50%\r"
       ]
      },
      {
       "output_type": "stream",
       "stream": "stderr",
       "text": [
        "51%\r"
       ]
      },
      {
       "output_type": "stream",
       "stream": "stderr",
       "text": [
        "52%\r"
       ]
      },
      {
       "output_type": "stream",
       "stream": "stderr",
       "text": [
        "53%\r"
       ]
      },
      {
       "output_type": "stream",
       "stream": "stderr",
       "text": [
        "54%\r"
       ]
      },
      {
       "output_type": "stream",
       "stream": "stderr",
       "text": [
        "55%\r"
       ]
      },
      {
       "output_type": "stream",
       "stream": "stderr",
       "text": [
        "56%\r"
       ]
      },
      {
       "output_type": "stream",
       "stream": "stderr",
       "text": [
        "57%\r"
       ]
      },
      {
       "output_type": "stream",
       "stream": "stderr",
       "text": [
        "58%\r"
       ]
      },
      {
       "output_type": "stream",
       "stream": "stderr",
       "text": [
        "59%\r"
       ]
      },
      {
       "output_type": "stream",
       "stream": "stderr",
       "text": [
        "60%\r"
       ]
      },
      {
       "output_type": "stream",
       "stream": "stderr",
       "text": [
        "61%\r"
       ]
      },
      {
       "output_type": "stream",
       "stream": "stderr",
       "text": [
        "62%\r"
       ]
      },
      {
       "output_type": "stream",
       "stream": "stderr",
       "text": [
        "63%\r"
       ]
      },
      {
       "output_type": "stream",
       "stream": "stderr",
       "text": [
        "64%\r"
       ]
      },
      {
       "output_type": "stream",
       "stream": "stderr",
       "text": [
        "65%\r"
       ]
      },
      {
       "output_type": "stream",
       "stream": "stderr",
       "text": [
        "66%\r"
       ]
      },
      {
       "output_type": "stream",
       "stream": "stderr",
       "text": [
        "67%\r"
       ]
      },
      {
       "output_type": "stream",
       "stream": "stderr",
       "text": [
        "68%\r"
       ]
      },
      {
       "output_type": "stream",
       "stream": "stderr",
       "text": [
        "69%\r"
       ]
      },
      {
       "output_type": "stream",
       "stream": "stderr",
       "text": [
        "70%\r"
       ]
      },
      {
       "output_type": "stream",
       "stream": "stderr",
       "text": [
        "71%\r"
       ]
      },
      {
       "output_type": "stream",
       "stream": "stderr",
       "text": [
        "72%\r"
       ]
      },
      {
       "output_type": "stream",
       "stream": "stderr",
       "text": [
        "73%\r"
       ]
      },
      {
       "output_type": "stream",
       "stream": "stderr",
       "text": [
        "74%\r"
       ]
      },
      {
       "output_type": "stream",
       "stream": "stderr",
       "text": [
        "75%\r"
       ]
      },
      {
       "output_type": "stream",
       "stream": "stderr",
       "text": [
        "76%\r"
       ]
      },
      {
       "output_type": "stream",
       "stream": "stderr",
       "text": [
        "77%\r"
       ]
      },
      {
       "output_type": "stream",
       "stream": "stderr",
       "text": [
        "78%\r"
       ]
      },
      {
       "output_type": "stream",
       "stream": "stderr",
       "text": [
        "79%\r"
       ]
      },
      {
       "output_type": "stream",
       "stream": "stderr",
       "text": [
        "80%\r"
       ]
      },
      {
       "output_type": "stream",
       "stream": "stderr",
       "text": [
        "81%\r"
       ]
      },
      {
       "output_type": "stream",
       "stream": "stderr",
       "text": [
        "82%\r"
       ]
      },
      {
       "output_type": "stream",
       "stream": "stderr",
       "text": [
        "83%\r"
       ]
      },
      {
       "output_type": "stream",
       "stream": "stderr",
       "text": [
        "84%\r"
       ]
      },
      {
       "output_type": "stream",
       "stream": "stderr",
       "text": [
        "85%\r"
       ]
      },
      {
       "output_type": "stream",
       "stream": "stderr",
       "text": [
        "86%\r"
       ]
      },
      {
       "output_type": "stream",
       "stream": "stderr",
       "text": [
        "87%\r"
       ]
      },
      {
       "output_type": "stream",
       "stream": "stderr",
       "text": [
        "88%\r"
       ]
      },
      {
       "output_type": "stream",
       "stream": "stderr",
       "text": [
        "89%\r"
       ]
      },
      {
       "output_type": "stream",
       "stream": "stderr",
       "text": [
        "90%\r"
       ]
      },
      {
       "output_type": "stream",
       "stream": "stderr",
       "text": [
        "91%\r"
       ]
      },
      {
       "output_type": "stream",
       "stream": "stderr",
       "text": [
        "92%\r"
       ]
      },
      {
       "output_type": "stream",
       "stream": "stderr",
       "text": [
        "93%\r"
       ]
      },
      {
       "output_type": "stream",
       "stream": "stderr",
       "text": [
        "94%\r"
       ]
      },
      {
       "output_type": "stream",
       "stream": "stderr",
       "text": [
        "95%\r"
       ]
      },
      {
       "output_type": "stream",
       "stream": "stderr",
       "text": [
        "96%\r"
       ]
      },
      {
       "output_type": "stream",
       "stream": "stderr",
       "text": [
        "97%\r"
       ]
      },
      {
       "output_type": "stream",
       "stream": "stderr",
       "text": [
        "98%\r"
       ]
      },
      {
       "output_type": "stream",
       "stream": "stderr",
       "text": [
        "99%\r"
       ]
      },
      {
       "output_type": "stream",
       "stream": "stderr",
       "text": [
        "100%\r"
       ]
      },
      {
       "output_type": "stream",
       "stream": "stderr",
       "text": [
        "100%\n"
       ]
      },
      {
       "output_type": "stream",
       "stream": "stdout",
       "text": [
        "\n",
        "  loss 1.12207472458\n",
        "  err  0.39788661859\n",
        "  (0:00:47)\n",
        "Epoch 43:"
       ]
      },
      {
       "output_type": "stream",
       "stream": "stderr",
       "text": [
        "1%\r"
       ]
      },
      {
       "output_type": "stream",
       "stream": "stderr",
       "text": [
        "2%\r"
       ]
      },
      {
       "output_type": "stream",
       "stream": "stderr",
       "text": [
        "3%\r"
       ]
      },
      {
       "output_type": "stream",
       "stream": "stderr",
       "text": [
        "4%\r"
       ]
      },
      {
       "output_type": "stream",
       "stream": "stderr",
       "text": [
        "5%\r"
       ]
      },
      {
       "output_type": "stream",
       "stream": "stderr",
       "text": [
        "6%\r"
       ]
      },
      {
       "output_type": "stream",
       "stream": "stderr",
       "text": [
        "7%\r"
       ]
      },
      {
       "output_type": "stream",
       "stream": "stderr",
       "text": [
        "8%\r"
       ]
      },
      {
       "output_type": "stream",
       "stream": "stderr",
       "text": [
        "9%\r"
       ]
      },
      {
       "output_type": "stream",
       "stream": "stderr",
       "text": [
        "10%\r"
       ]
      },
      {
       "output_type": "stream",
       "stream": "stderr",
       "text": [
        "11%\r"
       ]
      },
      {
       "output_type": "stream",
       "stream": "stderr",
       "text": [
        "12%\r"
       ]
      },
      {
       "output_type": "stream",
       "stream": "stderr",
       "text": [
        "13%\r"
       ]
      },
      {
       "output_type": "stream",
       "stream": "stderr",
       "text": [
        "14%\r"
       ]
      },
      {
       "output_type": "stream",
       "stream": "stderr",
       "text": [
        "15%\r"
       ]
      },
      {
       "output_type": "stream",
       "stream": "stderr",
       "text": [
        "16%\r"
       ]
      },
      {
       "output_type": "stream",
       "stream": "stderr",
       "text": [
        "17%\r"
       ]
      },
      {
       "output_type": "stream",
       "stream": "stderr",
       "text": [
        "18%\r"
       ]
      },
      {
       "output_type": "stream",
       "stream": "stderr",
       "text": [
        "19%\r"
       ]
      },
      {
       "output_type": "stream",
       "stream": "stderr",
       "text": [
        "20%\r"
       ]
      },
      {
       "output_type": "stream",
       "stream": "stderr",
       "text": [
        "21%\r"
       ]
      },
      {
       "output_type": "stream",
       "stream": "stderr",
       "text": [
        "22%\r"
       ]
      },
      {
       "output_type": "stream",
       "stream": "stderr",
       "text": [
        "23%\r"
       ]
      },
      {
       "output_type": "stream",
       "stream": "stderr",
       "text": [
        "24%\r"
       ]
      },
      {
       "output_type": "stream",
       "stream": "stderr",
       "text": [
        "25%\r"
       ]
      },
      {
       "output_type": "stream",
       "stream": "stderr",
       "text": [
        "26%\r"
       ]
      },
      {
       "output_type": "stream",
       "stream": "stderr",
       "text": [
        "27%\r"
       ]
      },
      {
       "output_type": "stream",
       "stream": "stderr",
       "text": [
        "28%\r"
       ]
      },
      {
       "output_type": "stream",
       "stream": "stderr",
       "text": [
        "29%\r"
       ]
      },
      {
       "output_type": "stream",
       "stream": "stderr",
       "text": [
        "30%\r"
       ]
      },
      {
       "output_type": "stream",
       "stream": "stderr",
       "text": [
        "31%\r"
       ]
      },
      {
       "output_type": "stream",
       "stream": "stderr",
       "text": [
        "32%\r"
       ]
      },
      {
       "output_type": "stream",
       "stream": "stderr",
       "text": [
        "33%\r"
       ]
      },
      {
       "output_type": "stream",
       "stream": "stderr",
       "text": [
        "34%\r"
       ]
      },
      {
       "output_type": "stream",
       "stream": "stderr",
       "text": [
        "35%\r"
       ]
      },
      {
       "output_type": "stream",
       "stream": "stderr",
       "text": [
        "36%\r"
       ]
      },
      {
       "output_type": "stream",
       "stream": "stderr",
       "text": [
        "37%\r"
       ]
      },
      {
       "output_type": "stream",
       "stream": "stderr",
       "text": [
        "38%\r"
       ]
      },
      {
       "output_type": "stream",
       "stream": "stderr",
       "text": [
        "39%\r"
       ]
      },
      {
       "output_type": "stream",
       "stream": "stderr",
       "text": [
        "40%\r"
       ]
      },
      {
       "output_type": "stream",
       "stream": "stderr",
       "text": [
        "41%\r"
       ]
      },
      {
       "output_type": "stream",
       "stream": "stderr",
       "text": [
        "42%\r"
       ]
      },
      {
       "output_type": "stream",
       "stream": "stderr",
       "text": [
        "43%\r"
       ]
      },
      {
       "output_type": "stream",
       "stream": "stderr",
       "text": [
        "44%\r"
       ]
      },
      {
       "output_type": "stream",
       "stream": "stderr",
       "text": [
        "45%\r"
       ]
      },
      {
       "output_type": "stream",
       "stream": "stderr",
       "text": [
        "46%\r"
       ]
      },
      {
       "output_type": "stream",
       "stream": "stderr",
       "text": [
        "47%\r"
       ]
      },
      {
       "output_type": "stream",
       "stream": "stderr",
       "text": [
        "48%\r"
       ]
      },
      {
       "output_type": "stream",
       "stream": "stderr",
       "text": [
        "49%\r"
       ]
      },
      {
       "output_type": "stream",
       "stream": "stderr",
       "text": [
        "50%\r"
       ]
      },
      {
       "output_type": "stream",
       "stream": "stderr",
       "text": [
        "51%\r"
       ]
      },
      {
       "output_type": "stream",
       "stream": "stderr",
       "text": [
        "52%\r"
       ]
      },
      {
       "output_type": "stream",
       "stream": "stderr",
       "text": [
        "53%\r"
       ]
      },
      {
       "output_type": "stream",
       "stream": "stderr",
       "text": [
        "54%\r"
       ]
      },
      {
       "output_type": "stream",
       "stream": "stderr",
       "text": [
        "55%\r"
       ]
      },
      {
       "output_type": "stream",
       "stream": "stderr",
       "text": [
        "56%\r"
       ]
      },
      {
       "output_type": "stream",
       "stream": "stderr",
       "text": [
        "57%\r"
       ]
      },
      {
       "output_type": "stream",
       "stream": "stderr",
       "text": [
        "58%\r"
       ]
      },
      {
       "output_type": "stream",
       "stream": "stderr",
       "text": [
        "59%\r"
       ]
      },
      {
       "output_type": "stream",
       "stream": "stderr",
       "text": [
        "60%\r"
       ]
      },
      {
       "output_type": "stream",
       "stream": "stderr",
       "text": [
        "61%\r"
       ]
      },
      {
       "output_type": "stream",
       "stream": "stderr",
       "text": [
        "62%\r"
       ]
      },
      {
       "output_type": "stream",
       "stream": "stderr",
       "text": [
        "63%\r"
       ]
      },
      {
       "output_type": "stream",
       "stream": "stderr",
       "text": [
        "64%\r"
       ]
      },
      {
       "output_type": "stream",
       "stream": "stderr",
       "text": [
        "65%\r"
       ]
      },
      {
       "output_type": "stream",
       "stream": "stderr",
       "text": [
        "66%\r"
       ]
      },
      {
       "output_type": "stream",
       "stream": "stderr",
       "text": [
        "67%\r"
       ]
      },
      {
       "output_type": "stream",
       "stream": "stderr",
       "text": [
        "68%\r"
       ]
      },
      {
       "output_type": "stream",
       "stream": "stderr",
       "text": [
        "69%\r"
       ]
      },
      {
       "output_type": "stream",
       "stream": "stderr",
       "text": [
        "70%\r"
       ]
      },
      {
       "output_type": "stream",
       "stream": "stderr",
       "text": [
        "71%\r"
       ]
      },
      {
       "output_type": "stream",
       "stream": "stderr",
       "text": [
        "72%\r"
       ]
      },
      {
       "output_type": "stream",
       "stream": "stderr",
       "text": [
        "73%\r"
       ]
      },
      {
       "output_type": "stream",
       "stream": "stderr",
       "text": [
        "74%\r"
       ]
      },
      {
       "output_type": "stream",
       "stream": "stderr",
       "text": [
        "75%\r"
       ]
      },
      {
       "output_type": "stream",
       "stream": "stderr",
       "text": [
        "76%\r"
       ]
      },
      {
       "output_type": "stream",
       "stream": "stderr",
       "text": [
        "77%\r"
       ]
      },
      {
       "output_type": "stream",
       "stream": "stderr",
       "text": [
        "78%\r"
       ]
      },
      {
       "output_type": "stream",
       "stream": "stderr",
       "text": [
        "79%\r"
       ]
      },
      {
       "output_type": "stream",
       "stream": "stderr",
       "text": [
        "80%\r"
       ]
      },
      {
       "output_type": "stream",
       "stream": "stderr",
       "text": [
        "81%\r"
       ]
      },
      {
       "output_type": "stream",
       "stream": "stderr",
       "text": [
        "82%\r"
       ]
      },
      {
       "output_type": "stream",
       "stream": "stderr",
       "text": [
        "83%\r"
       ]
      },
      {
       "output_type": "stream",
       "stream": "stderr",
       "text": [
        "84%\r"
       ]
      },
      {
       "output_type": "stream",
       "stream": "stderr",
       "text": [
        "85%\r"
       ]
      },
      {
       "output_type": "stream",
       "stream": "stderr",
       "text": [
        "86%\r"
       ]
      },
      {
       "output_type": "stream",
       "stream": "stderr",
       "text": [
        "87%\r"
       ]
      },
      {
       "output_type": "stream",
       "stream": "stderr",
       "text": [
        "88%\r"
       ]
      },
      {
       "output_type": "stream",
       "stream": "stderr",
       "text": [
        "89%\r"
       ]
      },
      {
       "output_type": "stream",
       "stream": "stderr",
       "text": [
        "90%\r"
       ]
      },
      {
       "output_type": "stream",
       "stream": "stderr",
       "text": [
        "91%\r"
       ]
      },
      {
       "output_type": "stream",
       "stream": "stderr",
       "text": [
        "92%\r"
       ]
      },
      {
       "output_type": "stream",
       "stream": "stderr",
       "text": [
        "93%\r"
       ]
      },
      {
       "output_type": "stream",
       "stream": "stderr",
       "text": [
        "94%\r"
       ]
      },
      {
       "output_type": "stream",
       "stream": "stderr",
       "text": [
        "95%\r"
       ]
      },
      {
       "output_type": "stream",
       "stream": "stderr",
       "text": [
        "96%\r"
       ]
      },
      {
       "output_type": "stream",
       "stream": "stderr",
       "text": [
        "97%\r"
       ]
      },
      {
       "output_type": "stream",
       "stream": "stderr",
       "text": [
        "98%\r"
       ]
      },
      {
       "output_type": "stream",
       "stream": "stderr",
       "text": [
        "99%\r"
       ]
      },
      {
       "output_type": "stream",
       "stream": "stderr",
       "text": [
        "100%\r"
       ]
      },
      {
       "output_type": "stream",
       "stream": "stderr",
       "text": [
        "100%\n"
       ]
      },
      {
       "output_type": "stream",
       "stream": "stdout",
       "text": [
        "\n",
        "  loss 1.09736228753\n",
        "  err  0.392077323718\n",
        "  (0:00:45)\n",
        "Epoch 44:"
       ]
      },
      {
       "output_type": "stream",
       "stream": "stderr",
       "text": [
        "1%\r"
       ]
      },
      {
       "output_type": "stream",
       "stream": "stderr",
       "text": [
        "2%\r"
       ]
      },
      {
       "output_type": "stream",
       "stream": "stderr",
       "text": [
        "3%\r"
       ]
      },
      {
       "output_type": "stream",
       "stream": "stderr",
       "text": [
        "4%\r"
       ]
      },
      {
       "output_type": "stream",
       "stream": "stderr",
       "text": [
        "5%\r"
       ]
      },
      {
       "output_type": "stream",
       "stream": "stderr",
       "text": [
        "6%\r"
       ]
      },
      {
       "output_type": "stream",
       "stream": "stderr",
       "text": [
        "7%\r"
       ]
      },
      {
       "output_type": "stream",
       "stream": "stderr",
       "text": [
        "8%\r"
       ]
      },
      {
       "output_type": "stream",
       "stream": "stderr",
       "text": [
        "9%\r"
       ]
      },
      {
       "output_type": "stream",
       "stream": "stderr",
       "text": [
        "10%\r"
       ]
      },
      {
       "output_type": "stream",
       "stream": "stderr",
       "text": [
        "11%\r"
       ]
      },
      {
       "output_type": "stream",
       "stream": "stderr",
       "text": [
        "12%\r"
       ]
      },
      {
       "output_type": "stream",
       "stream": "stderr",
       "text": [
        "13%\r"
       ]
      },
      {
       "output_type": "stream",
       "stream": "stderr",
       "text": [
        "14%\r"
       ]
      },
      {
       "output_type": "stream",
       "stream": "stderr",
       "text": [
        "15%\r"
       ]
      },
      {
       "output_type": "stream",
       "stream": "stderr",
       "text": [
        "16%\r"
       ]
      },
      {
       "output_type": "stream",
       "stream": "stderr",
       "text": [
        "17%\r"
       ]
      },
      {
       "output_type": "stream",
       "stream": "stderr",
       "text": [
        "18%\r"
       ]
      },
      {
       "output_type": "stream",
       "stream": "stderr",
       "text": [
        "19%\r"
       ]
      },
      {
       "output_type": "stream",
       "stream": "stderr",
       "text": [
        "20%\r"
       ]
      },
      {
       "output_type": "stream",
       "stream": "stderr",
       "text": [
        "21%\r"
       ]
      },
      {
       "output_type": "stream",
       "stream": "stderr",
       "text": [
        "22%\r"
       ]
      },
      {
       "output_type": "stream",
       "stream": "stderr",
       "text": [
        "23%\r"
       ]
      },
      {
       "output_type": "stream",
       "stream": "stderr",
       "text": [
        "24%\r"
       ]
      },
      {
       "output_type": "stream",
       "stream": "stderr",
       "text": [
        "25%\r"
       ]
      },
      {
       "output_type": "stream",
       "stream": "stderr",
       "text": [
        "26%\r"
       ]
      },
      {
       "output_type": "stream",
       "stream": "stderr",
       "text": [
        "27%\r"
       ]
      },
      {
       "output_type": "stream",
       "stream": "stderr",
       "text": [
        "28%\r"
       ]
      },
      {
       "output_type": "stream",
       "stream": "stderr",
       "text": [
        "29%\r"
       ]
      },
      {
       "output_type": "stream",
       "stream": "stderr",
       "text": [
        "30%\r"
       ]
      },
      {
       "output_type": "stream",
       "stream": "stderr",
       "text": [
        "31%\r"
       ]
      },
      {
       "output_type": "stream",
       "stream": "stderr",
       "text": [
        "32%\r"
       ]
      },
      {
       "output_type": "stream",
       "stream": "stderr",
       "text": [
        "33%\r"
       ]
      },
      {
       "output_type": "stream",
       "stream": "stderr",
       "text": [
        "34%\r"
       ]
      },
      {
       "output_type": "stream",
       "stream": "stderr",
       "text": [
        "35%\r"
       ]
      },
      {
       "output_type": "stream",
       "stream": "stderr",
       "text": [
        "36%\r"
       ]
      },
      {
       "output_type": "stream",
       "stream": "stderr",
       "text": [
        "37%\r"
       ]
      },
      {
       "output_type": "stream",
       "stream": "stderr",
       "text": [
        "38%\r"
       ]
      },
      {
       "output_type": "stream",
       "stream": "stderr",
       "text": [
        "39%\r"
       ]
      },
      {
       "output_type": "stream",
       "stream": "stderr",
       "text": [
        "40%\r"
       ]
      },
      {
       "output_type": "stream",
       "stream": "stderr",
       "text": [
        "41%\r"
       ]
      },
      {
       "output_type": "stream",
       "stream": "stderr",
       "text": [
        "42%\r"
       ]
      },
      {
       "output_type": "stream",
       "stream": "stderr",
       "text": [
        "43%\r"
       ]
      },
      {
       "output_type": "stream",
       "stream": "stderr",
       "text": [
        "44%\r"
       ]
      },
      {
       "output_type": "stream",
       "stream": "stderr",
       "text": [
        "45%\r"
       ]
      },
      {
       "output_type": "stream",
       "stream": "stderr",
       "text": [
        "46%\r"
       ]
      },
      {
       "output_type": "stream",
       "stream": "stderr",
       "text": [
        "47%\r"
       ]
      },
      {
       "output_type": "stream",
       "stream": "stderr",
       "text": [
        "48%\r"
       ]
      },
      {
       "output_type": "stream",
       "stream": "stderr",
       "text": [
        "49%\r"
       ]
      },
      {
       "output_type": "stream",
       "stream": "stderr",
       "text": [
        "50%\r"
       ]
      },
      {
       "output_type": "stream",
       "stream": "stderr",
       "text": [
        "51%\r"
       ]
      },
      {
       "output_type": "stream",
       "stream": "stderr",
       "text": [
        "52%\r"
       ]
      },
      {
       "output_type": "stream",
       "stream": "stderr",
       "text": [
        "53%\r"
       ]
      },
      {
       "output_type": "stream",
       "stream": "stderr",
       "text": [
        "54%\r"
       ]
      },
      {
       "output_type": "stream",
       "stream": "stderr",
       "text": [
        "55%\r"
       ]
      },
      {
       "output_type": "stream",
       "stream": "stderr",
       "text": [
        "56%\r"
       ]
      },
      {
       "output_type": "stream",
       "stream": "stderr",
       "text": [
        "57%\r"
       ]
      },
      {
       "output_type": "stream",
       "stream": "stderr",
       "text": [
        "58%\r"
       ]
      },
      {
       "output_type": "stream",
       "stream": "stderr",
       "text": [
        "59%\r"
       ]
      },
      {
       "output_type": "stream",
       "stream": "stderr",
       "text": [
        "60%\r"
       ]
      },
      {
       "output_type": "stream",
       "stream": "stderr",
       "text": [
        "61%\r"
       ]
      },
      {
       "output_type": "stream",
       "stream": "stderr",
       "text": [
        "62%\r"
       ]
      },
      {
       "output_type": "stream",
       "stream": "stderr",
       "text": [
        "63%\r"
       ]
      },
      {
       "output_type": "stream",
       "stream": "stderr",
       "text": [
        "64%\r"
       ]
      },
      {
       "output_type": "stream",
       "stream": "stderr",
       "text": [
        "65%\r"
       ]
      },
      {
       "output_type": "stream",
       "stream": "stderr",
       "text": [
        "66%\r"
       ]
      },
      {
       "output_type": "stream",
       "stream": "stderr",
       "text": [
        "67%\r"
       ]
      },
      {
       "output_type": "stream",
       "stream": "stderr",
       "text": [
        "68%\r"
       ]
      },
      {
       "output_type": "stream",
       "stream": "stderr",
       "text": [
        "69%\r"
       ]
      },
      {
       "output_type": "stream",
       "stream": "stderr",
       "text": [
        "70%\r"
       ]
      },
      {
       "output_type": "stream",
       "stream": "stderr",
       "text": [
        "71%\r"
       ]
      },
      {
       "output_type": "stream",
       "stream": "stderr",
       "text": [
        "72%\r"
       ]
      },
      {
       "output_type": "stream",
       "stream": "stderr",
       "text": [
        "73%\r"
       ]
      },
      {
       "output_type": "stream",
       "stream": "stderr",
       "text": [
        "74%\r"
       ]
      },
      {
       "output_type": "stream",
       "stream": "stderr",
       "text": [
        "75%\r"
       ]
      },
      {
       "output_type": "stream",
       "stream": "stderr",
       "text": [
        "76%\r"
       ]
      },
      {
       "output_type": "stream",
       "stream": "stderr",
       "text": [
        "77%\r"
       ]
      },
      {
       "output_type": "stream",
       "stream": "stderr",
       "text": [
        "78%\r"
       ]
      },
      {
       "output_type": "stream",
       "stream": "stderr",
       "text": [
        "79%\r"
       ]
      },
      {
       "output_type": "stream",
       "stream": "stderr",
       "text": [
        "80%\r"
       ]
      },
      {
       "output_type": "stream",
       "stream": "stderr",
       "text": [
        "81%\r"
       ]
      },
      {
       "output_type": "stream",
       "stream": "stderr",
       "text": [
        "82%\r"
       ]
      },
      {
       "output_type": "stream",
       "stream": "stderr",
       "text": [
        "83%\r"
       ]
      },
      {
       "output_type": "stream",
       "stream": "stderr",
       "text": [
        "84%\r"
       ]
      },
      {
       "output_type": "stream",
       "stream": "stderr",
       "text": [
        "85%\r"
       ]
      },
      {
       "output_type": "stream",
       "stream": "stderr",
       "text": [
        "86%\r"
       ]
      },
      {
       "output_type": "stream",
       "stream": "stderr",
       "text": [
        "87%\r"
       ]
      },
      {
       "output_type": "stream",
       "stream": "stderr",
       "text": [
        "88%\r"
       ]
      },
      {
       "output_type": "stream",
       "stream": "stderr",
       "text": [
        "89%\r"
       ]
      },
      {
       "output_type": "stream",
       "stream": "stderr",
       "text": [
        "90%\r"
       ]
      },
      {
       "output_type": "stream",
       "stream": "stderr",
       "text": [
        "91%\r"
       ]
      },
      {
       "output_type": "stream",
       "stream": "stderr",
       "text": [
        "92%\r"
       ]
      },
      {
       "output_type": "stream",
       "stream": "stderr",
       "text": [
        "93%\r"
       ]
      },
      {
       "output_type": "stream",
       "stream": "stderr",
       "text": [
        "94%\r"
       ]
      },
      {
       "output_type": "stream",
       "stream": "stderr",
       "text": [
        "95%\r"
       ]
      },
      {
       "output_type": "stream",
       "stream": "stderr",
       "text": [
        "96%\r"
       ]
      },
      {
       "output_type": "stream",
       "stream": "stderr",
       "text": [
        "97%\r"
       ]
      },
      {
       "output_type": "stream",
       "stream": "stderr",
       "text": [
        "98%\r"
       ]
      },
      {
       "output_type": "stream",
       "stream": "stderr",
       "text": [
        "99%\r"
       ]
      },
      {
       "output_type": "stream",
       "stream": "stderr",
       "text": [
        "100%\r"
       ]
      },
      {
       "output_type": "stream",
       "stream": "stderr",
       "text": [
        "100%\n"
       ]
      },
      {
       "output_type": "stream",
       "stream": "stdout",
       "text": [
        "\n",
        "  loss 1.08001131622\n",
        "  err  0.388020833333\n",
        "  (0:00:47)\n",
        "Epoch 45:"
       ]
      },
      {
       "output_type": "stream",
       "stream": "stderr",
       "text": [
        "1%\r"
       ]
      },
      {
       "output_type": "stream",
       "stream": "stderr",
       "text": [
        "2%\r"
       ]
      },
      {
       "output_type": "stream",
       "stream": "stderr",
       "text": [
        "3%\r"
       ]
      },
      {
       "output_type": "stream",
       "stream": "stderr",
       "text": [
        "4%\r"
       ]
      },
      {
       "output_type": "stream",
       "stream": "stderr",
       "text": [
        "5%\r"
       ]
      },
      {
       "output_type": "stream",
       "stream": "stderr",
       "text": [
        "6%\r"
       ]
      },
      {
       "output_type": "stream",
       "stream": "stderr",
       "text": [
        "7%\r"
       ]
      },
      {
       "output_type": "stream",
       "stream": "stderr",
       "text": [
        "8%\r"
       ]
      },
      {
       "output_type": "stream",
       "stream": "stderr",
       "text": [
        "9%\r"
       ]
      },
      {
       "output_type": "stream",
       "stream": "stderr",
       "text": [
        "10%\r"
       ]
      },
      {
       "output_type": "stream",
       "stream": "stderr",
       "text": [
        "11%\r"
       ]
      },
      {
       "output_type": "stream",
       "stream": "stderr",
       "text": [
        "12%\r"
       ]
      },
      {
       "output_type": "stream",
       "stream": "stderr",
       "text": [
        "13%\r"
       ]
      },
      {
       "output_type": "stream",
       "stream": "stderr",
       "text": [
        "14%\r"
       ]
      },
      {
       "output_type": "stream",
       "stream": "stderr",
       "text": [
        "15%\r"
       ]
      },
      {
       "output_type": "stream",
       "stream": "stderr",
       "text": [
        "16%\r"
       ]
      },
      {
       "output_type": "stream",
       "stream": "stderr",
       "text": [
        "17%\r"
       ]
      },
      {
       "output_type": "stream",
       "stream": "stderr",
       "text": [
        "18%\r"
       ]
      },
      {
       "output_type": "stream",
       "stream": "stderr",
       "text": [
        "19%\r"
       ]
      },
      {
       "output_type": "stream",
       "stream": "stderr",
       "text": [
        "20%\r"
       ]
      },
      {
       "output_type": "stream",
       "stream": "stderr",
       "text": [
        "21%\r"
       ]
      },
      {
       "output_type": "stream",
       "stream": "stderr",
       "text": [
        "22%\r"
       ]
      },
      {
       "output_type": "stream",
       "stream": "stderr",
       "text": [
        "23%\r"
       ]
      },
      {
       "output_type": "stream",
       "stream": "stderr",
       "text": [
        "24%\r"
       ]
      },
      {
       "output_type": "stream",
       "stream": "stderr",
       "text": [
        "25%\r"
       ]
      },
      {
       "output_type": "stream",
       "stream": "stderr",
       "text": [
        "26%\r"
       ]
      },
      {
       "output_type": "stream",
       "stream": "stderr",
       "text": [
        "27%\r"
       ]
      },
      {
       "output_type": "stream",
       "stream": "stderr",
       "text": [
        "28%\r"
       ]
      },
      {
       "output_type": "stream",
       "stream": "stderr",
       "text": [
        "29%\r"
       ]
      },
      {
       "output_type": "stream",
       "stream": "stderr",
       "text": [
        "30%\r"
       ]
      },
      {
       "output_type": "stream",
       "stream": "stderr",
       "text": [
        "31%\r"
       ]
      },
      {
       "output_type": "stream",
       "stream": "stderr",
       "text": [
        "32%\r"
       ]
      },
      {
       "output_type": "stream",
       "stream": "stderr",
       "text": [
        "33%\r"
       ]
      },
      {
       "output_type": "stream",
       "stream": "stderr",
       "text": [
        "34%\r"
       ]
      },
      {
       "output_type": "stream",
       "stream": "stderr",
       "text": [
        "35%\r"
       ]
      },
      {
       "output_type": "stream",
       "stream": "stderr",
       "text": [
        "36%\r"
       ]
      },
      {
       "output_type": "stream",
       "stream": "stderr",
       "text": [
        "37%\r"
       ]
      },
      {
       "output_type": "stream",
       "stream": "stderr",
       "text": [
        "38%\r"
       ]
      },
      {
       "output_type": "stream",
       "stream": "stderr",
       "text": [
        "39%\r"
       ]
      },
      {
       "output_type": "stream",
       "stream": "stderr",
       "text": [
        "40%\r"
       ]
      },
      {
       "output_type": "stream",
       "stream": "stderr",
       "text": [
        "41%\r"
       ]
      },
      {
       "output_type": "stream",
       "stream": "stderr",
       "text": [
        "42%\r"
       ]
      },
      {
       "output_type": "stream",
       "stream": "stderr",
       "text": [
        "43%\r"
       ]
      },
      {
       "output_type": "stream",
       "stream": "stderr",
       "text": [
        "44%\r"
       ]
      },
      {
       "output_type": "stream",
       "stream": "stderr",
       "text": [
        "45%\r"
       ]
      },
      {
       "output_type": "stream",
       "stream": "stderr",
       "text": [
        "46%\r"
       ]
      },
      {
       "output_type": "stream",
       "stream": "stderr",
       "text": [
        "47%\r"
       ]
      },
      {
       "output_type": "stream",
       "stream": "stderr",
       "text": [
        "48%\r"
       ]
      },
      {
       "output_type": "stream",
       "stream": "stderr",
       "text": [
        "49%\r"
       ]
      },
      {
       "output_type": "stream",
       "stream": "stderr",
       "text": [
        "50%\r"
       ]
      },
      {
       "output_type": "stream",
       "stream": "stderr",
       "text": [
        "51%\r"
       ]
      },
      {
       "output_type": "stream",
       "stream": "stderr",
       "text": [
        "52%\r"
       ]
      },
      {
       "output_type": "stream",
       "stream": "stderr",
       "text": [
        "53%\r"
       ]
      },
      {
       "output_type": "stream",
       "stream": "stderr",
       "text": [
        "54%\r"
       ]
      },
      {
       "output_type": "stream",
       "stream": "stderr",
       "text": [
        "55%\r"
       ]
      },
      {
       "output_type": "stream",
       "stream": "stderr",
       "text": [
        "56%\r"
       ]
      },
      {
       "output_type": "stream",
       "stream": "stderr",
       "text": [
        "57%\r"
       ]
      },
      {
       "output_type": "stream",
       "stream": "stderr",
       "text": [
        "58%\r"
       ]
      },
      {
       "output_type": "stream",
       "stream": "stderr",
       "text": [
        "59%\r"
       ]
      },
      {
       "output_type": "stream",
       "stream": "stderr",
       "text": [
        "60%\r"
       ]
      },
      {
       "output_type": "stream",
       "stream": "stderr",
       "text": [
        "61%\r"
       ]
      },
      {
       "output_type": "stream",
       "stream": "stderr",
       "text": [
        "62%\r"
       ]
      },
      {
       "output_type": "stream",
       "stream": "stderr",
       "text": [
        "63%\r"
       ]
      },
      {
       "output_type": "stream",
       "stream": "stderr",
       "text": [
        "64%\r"
       ]
      },
      {
       "output_type": "stream",
       "stream": "stderr",
       "text": [
        "65%\r"
       ]
      },
      {
       "output_type": "stream",
       "stream": "stderr",
       "text": [
        "66%\r"
       ]
      },
      {
       "output_type": "stream",
       "stream": "stderr",
       "text": [
        "67%\r"
       ]
      },
      {
       "output_type": "stream",
       "stream": "stderr",
       "text": [
        "68%\r"
       ]
      },
      {
       "output_type": "stream",
       "stream": "stderr",
       "text": [
        "69%\r"
       ]
      },
      {
       "output_type": "stream",
       "stream": "stderr",
       "text": [
        "70%\r"
       ]
      },
      {
       "output_type": "stream",
       "stream": "stderr",
       "text": [
        "71%\r"
       ]
      },
      {
       "output_type": "stream",
       "stream": "stderr",
       "text": [
        "72%\r"
       ]
      },
      {
       "output_type": "stream",
       "stream": "stderr",
       "text": [
        "73%\r"
       ]
      },
      {
       "output_type": "stream",
       "stream": "stderr",
       "text": [
        "74%\r"
       ]
      },
      {
       "output_type": "stream",
       "stream": "stderr",
       "text": [
        "75%\r"
       ]
      },
      {
       "output_type": "stream",
       "stream": "stderr",
       "text": [
        "76%\r"
       ]
      },
      {
       "output_type": "stream",
       "stream": "stderr",
       "text": [
        "77%\r"
       ]
      },
      {
       "output_type": "stream",
       "stream": "stderr",
       "text": [
        "78%\r"
       ]
      },
      {
       "output_type": "stream",
       "stream": "stderr",
       "text": [
        "79%\r"
       ]
      },
      {
       "output_type": "stream",
       "stream": "stderr",
       "text": [
        "80%\r"
       ]
      },
      {
       "output_type": "stream",
       "stream": "stderr",
       "text": [
        "81%\r"
       ]
      },
      {
       "output_type": "stream",
       "stream": "stderr",
       "text": [
        "82%\r"
       ]
      },
      {
       "output_type": "stream",
       "stream": "stderr",
       "text": [
        "83%\r"
       ]
      },
      {
       "output_type": "stream",
       "stream": "stderr",
       "text": [
        "84%\r"
       ]
      },
      {
       "output_type": "stream",
       "stream": "stderr",
       "text": [
        "85%\r"
       ]
      },
      {
       "output_type": "stream",
       "stream": "stderr",
       "text": [
        "86%\r"
       ]
      },
      {
       "output_type": "stream",
       "stream": "stderr",
       "text": [
        "87%\r"
       ]
      },
      {
       "output_type": "stream",
       "stream": "stderr",
       "text": [
        "88%\r"
       ]
      },
      {
       "output_type": "stream",
       "stream": "stderr",
       "text": [
        "89%\r"
       ]
      },
      {
       "output_type": "stream",
       "stream": "stderr",
       "text": [
        "90%\r"
       ]
      },
      {
       "output_type": "stream",
       "stream": "stderr",
       "text": [
        "91%\r"
       ]
      },
      {
       "output_type": "stream",
       "stream": "stderr",
       "text": [
        "92%\r"
       ]
      },
      {
       "output_type": "stream",
       "stream": "stderr",
       "text": [
        "93%\r"
       ]
      },
      {
       "output_type": "stream",
       "stream": "stderr",
       "text": [
        "94%\r"
       ]
      },
      {
       "output_type": "stream",
       "stream": "stderr",
       "text": [
        "95%\r"
       ]
      },
      {
       "output_type": "stream",
       "stream": "stderr",
       "text": [
        "96%\r"
       ]
      },
      {
       "output_type": "stream",
       "stream": "stderr",
       "text": [
        "97%\r"
       ]
      },
      {
       "output_type": "stream",
       "stream": "stderr",
       "text": [
        "98%\r"
       ]
      },
      {
       "output_type": "stream",
       "stream": "stderr",
       "text": [
        "99%\r"
       ]
      },
      {
       "output_type": "stream",
       "stream": "stderr",
       "text": [
        "100%\r"
       ]
      },
      {
       "output_type": "stream",
       "stream": "stderr",
       "text": [
        "100%\n"
       ]
      },
      {
       "output_type": "stream",
       "stream": "stdout",
       "text": [
        "\n",
        "  loss 1.07026482221\n",
        "  err  0.385166266026\n",
        "  (0:00:49)\n",
        "Epoch 46:"
       ]
      },
      {
       "output_type": "stream",
       "stream": "stderr",
       "text": [
        "1%\r"
       ]
      },
      {
       "output_type": "stream",
       "stream": "stderr",
       "text": [
        "2%\r"
       ]
      },
      {
       "output_type": "stream",
       "stream": "stderr",
       "text": [
        "3%\r"
       ]
      },
      {
       "output_type": "stream",
       "stream": "stderr",
       "text": [
        "4%\r"
       ]
      },
      {
       "output_type": "stream",
       "stream": "stderr",
       "text": [
        "5%\r"
       ]
      },
      {
       "output_type": "stream",
       "stream": "stderr",
       "text": [
        "6%\r"
       ]
      },
      {
       "output_type": "stream",
       "stream": "stderr",
       "text": [
        "7%\r"
       ]
      },
      {
       "output_type": "stream",
       "stream": "stderr",
       "text": [
        "8%\r"
       ]
      },
      {
       "output_type": "stream",
       "stream": "stderr",
       "text": [
        "9%\r"
       ]
      },
      {
       "output_type": "stream",
       "stream": "stderr",
       "text": [
        "10%\r"
       ]
      },
      {
       "output_type": "stream",
       "stream": "stderr",
       "text": [
        "11%\r"
       ]
      },
      {
       "output_type": "stream",
       "stream": "stderr",
       "text": [
        "12%\r"
       ]
      },
      {
       "output_type": "stream",
       "stream": "stderr",
       "text": [
        "13%\r"
       ]
      },
      {
       "output_type": "stream",
       "stream": "stderr",
       "text": [
        "14%\r"
       ]
      },
      {
       "output_type": "stream",
       "stream": "stderr",
       "text": [
        "15%\r"
       ]
      },
      {
       "output_type": "stream",
       "stream": "stderr",
       "text": [
        "16%\r"
       ]
      },
      {
       "output_type": "stream",
       "stream": "stderr",
       "text": [
        "17%\r"
       ]
      },
      {
       "output_type": "stream",
       "stream": "stderr",
       "text": [
        "18%\r"
       ]
      },
      {
       "output_type": "stream",
       "stream": "stderr",
       "text": [
        "19%\r"
       ]
      },
      {
       "output_type": "stream",
       "stream": "stderr",
       "text": [
        "20%\r"
       ]
      },
      {
       "output_type": "stream",
       "stream": "stderr",
       "text": [
        "21%\r"
       ]
      },
      {
       "output_type": "stream",
       "stream": "stderr",
       "text": [
        "22%\r"
       ]
      },
      {
       "output_type": "stream",
       "stream": "stderr",
       "text": [
        "23%\r"
       ]
      },
      {
       "output_type": "stream",
       "stream": "stderr",
       "text": [
        "24%\r"
       ]
      },
      {
       "output_type": "stream",
       "stream": "stderr",
       "text": [
        "25%\r"
       ]
      },
      {
       "output_type": "stream",
       "stream": "stderr",
       "text": [
        "26%\r"
       ]
      },
      {
       "output_type": "stream",
       "stream": "stderr",
       "text": [
        "27%\r"
       ]
      },
      {
       "output_type": "stream",
       "stream": "stderr",
       "text": [
        "28%\r"
       ]
      },
      {
       "output_type": "stream",
       "stream": "stderr",
       "text": [
        "29%\r"
       ]
      },
      {
       "output_type": "stream",
       "stream": "stderr",
       "text": [
        "30%\r"
       ]
      },
      {
       "output_type": "stream",
       "stream": "stderr",
       "text": [
        "31%\r"
       ]
      },
      {
       "output_type": "stream",
       "stream": "stderr",
       "text": [
        "32%\r"
       ]
      },
      {
       "output_type": "stream",
       "stream": "stderr",
       "text": [
        "33%\r"
       ]
      },
      {
       "output_type": "stream",
       "stream": "stderr",
       "text": [
        "34%\r"
       ]
      },
      {
       "output_type": "stream",
       "stream": "stderr",
       "text": [
        "35%\r"
       ]
      },
      {
       "output_type": "stream",
       "stream": "stderr",
       "text": [
        "36%\r"
       ]
      },
      {
       "output_type": "stream",
       "stream": "stderr",
       "text": [
        "37%\r"
       ]
      },
      {
       "output_type": "stream",
       "stream": "stderr",
       "text": [
        "38%\r"
       ]
      },
      {
       "output_type": "stream",
       "stream": "stderr",
       "text": [
        "39%\r"
       ]
      },
      {
       "output_type": "stream",
       "stream": "stderr",
       "text": [
        "40%\r"
       ]
      },
      {
       "output_type": "stream",
       "stream": "stderr",
       "text": [
        "41%\r"
       ]
      },
      {
       "output_type": "stream",
       "stream": "stderr",
       "text": [
        "42%\r"
       ]
      },
      {
       "output_type": "stream",
       "stream": "stderr",
       "text": [
        "43%\r"
       ]
      },
      {
       "output_type": "stream",
       "stream": "stderr",
       "text": [
        "44%\r"
       ]
      },
      {
       "output_type": "stream",
       "stream": "stderr",
       "text": [
        "45%\r"
       ]
      },
      {
       "output_type": "stream",
       "stream": "stderr",
       "text": [
        "46%\r"
       ]
      },
      {
       "output_type": "stream",
       "stream": "stderr",
       "text": [
        "47%\r"
       ]
      },
      {
       "output_type": "stream",
       "stream": "stderr",
       "text": [
        "48%\r"
       ]
      },
      {
       "output_type": "stream",
       "stream": "stderr",
       "text": [
        "49%\r"
       ]
      },
      {
       "output_type": "stream",
       "stream": "stderr",
       "text": [
        "50%\r"
       ]
      },
      {
       "output_type": "stream",
       "stream": "stderr",
       "text": [
        "51%\r"
       ]
      },
      {
       "output_type": "stream",
       "stream": "stderr",
       "text": [
        "52%\r"
       ]
      },
      {
       "output_type": "stream",
       "stream": "stderr",
       "text": [
        "53%\r"
       ]
      },
      {
       "output_type": "stream",
       "stream": "stderr",
       "text": [
        "54%\r"
       ]
      },
      {
       "output_type": "stream",
       "stream": "stderr",
       "text": [
        "55%\r"
       ]
      },
      {
       "output_type": "stream",
       "stream": "stderr",
       "text": [
        "56%\r"
       ]
      },
      {
       "output_type": "stream",
       "stream": "stderr",
       "text": [
        "57%\r"
       ]
      },
      {
       "output_type": "stream",
       "stream": "stderr",
       "text": [
        "58%\r"
       ]
      },
      {
       "output_type": "stream",
       "stream": "stderr",
       "text": [
        "59%\r"
       ]
      },
      {
       "output_type": "stream",
       "stream": "stderr",
       "text": [
        "60%\r"
       ]
      },
      {
       "output_type": "stream",
       "stream": "stderr",
       "text": [
        "61%\r"
       ]
      },
      {
       "output_type": "stream",
       "stream": "stderr",
       "text": [
        "62%\r"
       ]
      },
      {
       "output_type": "stream",
       "stream": "stderr",
       "text": [
        "63%\r"
       ]
      },
      {
       "output_type": "stream",
       "stream": "stderr",
       "text": [
        "64%\r"
       ]
      },
      {
       "output_type": "stream",
       "stream": "stderr",
       "text": [
        "65%\r"
       ]
      },
      {
       "output_type": "stream",
       "stream": "stderr",
       "text": [
        "66%\r"
       ]
      },
      {
       "output_type": "stream",
       "stream": "stderr",
       "text": [
        "67%\r"
       ]
      },
      {
       "output_type": "stream",
       "stream": "stderr",
       "text": [
        "68%\r"
       ]
      },
      {
       "output_type": "stream",
       "stream": "stderr",
       "text": [
        "69%\r"
       ]
      },
      {
       "output_type": "stream",
       "stream": "stderr",
       "text": [
        "70%\r"
       ]
      },
      {
       "output_type": "stream",
       "stream": "stderr",
       "text": [
        "71%\r"
       ]
      },
      {
       "output_type": "stream",
       "stream": "stderr",
       "text": [
        "72%\r"
       ]
      },
      {
       "output_type": "stream",
       "stream": "stderr",
       "text": [
        "73%\r"
       ]
      },
      {
       "output_type": "stream",
       "stream": "stderr",
       "text": [
        "74%\r"
       ]
      },
      {
       "output_type": "stream",
       "stream": "stderr",
       "text": [
        "75%\r"
       ]
      },
      {
       "output_type": "stream",
       "stream": "stderr",
       "text": [
        "76%\r"
       ]
      },
      {
       "output_type": "stream",
       "stream": "stderr",
       "text": [
        "77%\r"
       ]
      },
      {
       "output_type": "stream",
       "stream": "stderr",
       "text": [
        "78%\r"
       ]
      },
      {
       "output_type": "stream",
       "stream": "stderr",
       "text": [
        "79%\r"
       ]
      },
      {
       "output_type": "stream",
       "stream": "stderr",
       "text": [
        "80%\r"
       ]
      },
      {
       "output_type": "stream",
       "stream": "stderr",
       "text": [
        "81%\r"
       ]
      },
      {
       "output_type": "stream",
       "stream": "stderr",
       "text": [
        "82%\r"
       ]
      },
      {
       "output_type": "stream",
       "stream": "stderr",
       "text": [
        "83%\r"
       ]
      },
      {
       "output_type": "stream",
       "stream": "stderr",
       "text": [
        "84%\r"
       ]
      },
      {
       "output_type": "stream",
       "stream": "stderr",
       "text": [
        "85%\r"
       ]
      },
      {
       "output_type": "stream",
       "stream": "stderr",
       "text": [
        "86%\r"
       ]
      },
      {
       "output_type": "stream",
       "stream": "stderr",
       "text": [
        "87%\r"
       ]
      },
      {
       "output_type": "stream",
       "stream": "stderr",
       "text": [
        "88%\r"
       ]
      },
      {
       "output_type": "stream",
       "stream": "stderr",
       "text": [
        "89%\r"
       ]
      },
      {
       "output_type": "stream",
       "stream": "stderr",
       "text": [
        "90%\r"
       ]
      },
      {
       "output_type": "stream",
       "stream": "stderr",
       "text": [
        "91%\r"
       ]
      },
      {
       "output_type": "stream",
       "stream": "stderr",
       "text": [
        "92%\r"
       ]
      },
      {
       "output_type": "stream",
       "stream": "stderr",
       "text": [
        "93%\r"
       ]
      },
      {
       "output_type": "stream",
       "stream": "stderr",
       "text": [
        "94%\r"
       ]
      },
      {
       "output_type": "stream",
       "stream": "stderr",
       "text": [
        "95%\r"
       ]
      },
      {
       "output_type": "stream",
       "stream": "stderr",
       "text": [
        "96%\r"
       ]
      },
      {
       "output_type": "stream",
       "stream": "stderr",
       "text": [
        "97%\r"
       ]
      },
      {
       "output_type": "stream",
       "stream": "stderr",
       "text": [
        "98%\r"
       ]
      },
      {
       "output_type": "stream",
       "stream": "stderr",
       "text": [
        "99%\r"
       ]
      },
      {
       "output_type": "stream",
       "stream": "stderr",
       "text": [
        "100%\r"
       ]
      },
      {
       "output_type": "stream",
       "stream": "stderr",
       "text": [
        "100%\n"
       ]
      },
      {
       "output_type": "stream",
       "stream": "stdout",
       "text": [
        "\n",
        "  loss 1.05796693418\n",
        "  err  0.377754407051\n",
        "  (0:00:45)\n",
        "Epoch 47:"
       ]
      },
      {
       "output_type": "stream",
       "stream": "stderr",
       "text": [
        "1%\r"
       ]
      },
      {
       "output_type": "stream",
       "stream": "stderr",
       "text": [
        "2%\r"
       ]
      },
      {
       "output_type": "stream",
       "stream": "stderr",
       "text": [
        "3%\r"
       ]
      },
      {
       "output_type": "stream",
       "stream": "stderr",
       "text": [
        "4%\r"
       ]
      },
      {
       "output_type": "stream",
       "stream": "stderr",
       "text": [
        "5%\r"
       ]
      },
      {
       "output_type": "stream",
       "stream": "stderr",
       "text": [
        "6%\r"
       ]
      },
      {
       "output_type": "stream",
       "stream": "stderr",
       "text": [
        "7%\r"
       ]
      },
      {
       "output_type": "stream",
       "stream": "stderr",
       "text": [
        "8%\r"
       ]
      },
      {
       "output_type": "stream",
       "stream": "stderr",
       "text": [
        "9%\r"
       ]
      },
      {
       "output_type": "stream",
       "stream": "stderr",
       "text": [
        "10%\r"
       ]
      },
      {
       "output_type": "stream",
       "stream": "stderr",
       "text": [
        "11%\r"
       ]
      },
      {
       "output_type": "stream",
       "stream": "stderr",
       "text": [
        "12%\r"
       ]
      },
      {
       "output_type": "stream",
       "stream": "stderr",
       "text": [
        "13%\r"
       ]
      },
      {
       "output_type": "stream",
       "stream": "stderr",
       "text": [
        "14%\r"
       ]
      },
      {
       "output_type": "stream",
       "stream": "stderr",
       "text": [
        "15%\r"
       ]
      },
      {
       "output_type": "stream",
       "stream": "stderr",
       "text": [
        "16%\r"
       ]
      },
      {
       "output_type": "stream",
       "stream": "stderr",
       "text": [
        "17%\r"
       ]
      },
      {
       "output_type": "stream",
       "stream": "stderr",
       "text": [
        "18%\r"
       ]
      },
      {
       "output_type": "stream",
       "stream": "stderr",
       "text": [
        "19%\r"
       ]
      },
      {
       "output_type": "stream",
       "stream": "stderr",
       "text": [
        "20%\r"
       ]
      },
      {
       "output_type": "stream",
       "stream": "stderr",
       "text": [
        "21%\r"
       ]
      },
      {
       "output_type": "stream",
       "stream": "stderr",
       "text": [
        "22%\r"
       ]
      },
      {
       "output_type": "stream",
       "stream": "stderr",
       "text": [
        "23%\r"
       ]
      },
      {
       "output_type": "stream",
       "stream": "stderr",
       "text": [
        "24%\r"
       ]
      },
      {
       "output_type": "stream",
       "stream": "stderr",
       "text": [
        "25%\r"
       ]
      },
      {
       "output_type": "stream",
       "stream": "stderr",
       "text": [
        "26%\r"
       ]
      },
      {
       "output_type": "stream",
       "stream": "stderr",
       "text": [
        "27%\r"
       ]
      },
      {
       "output_type": "stream",
       "stream": "stderr",
       "text": [
        "28%\r"
       ]
      },
      {
       "output_type": "stream",
       "stream": "stderr",
       "text": [
        "29%\r"
       ]
      },
      {
       "output_type": "stream",
       "stream": "stderr",
       "text": [
        "30%\r"
       ]
      },
      {
       "output_type": "stream",
       "stream": "stderr",
       "text": [
        "31%\r"
       ]
      },
      {
       "output_type": "stream",
       "stream": "stderr",
       "text": [
        "32%\r"
       ]
      },
      {
       "output_type": "stream",
       "stream": "stderr",
       "text": [
        "33%\r"
       ]
      },
      {
       "output_type": "stream",
       "stream": "stderr",
       "text": [
        "34%\r"
       ]
      },
      {
       "output_type": "stream",
       "stream": "stderr",
       "text": [
        "35%\r"
       ]
      },
      {
       "output_type": "stream",
       "stream": "stderr",
       "text": [
        "36%\r"
       ]
      },
      {
       "output_type": "stream",
       "stream": "stderr",
       "text": [
        "37%\r"
       ]
      },
      {
       "output_type": "stream",
       "stream": "stderr",
       "text": [
        "38%\r"
       ]
      },
      {
       "output_type": "stream",
       "stream": "stderr",
       "text": [
        "39%\r"
       ]
      },
      {
       "output_type": "stream",
       "stream": "stderr",
       "text": [
        "40%\r"
       ]
      },
      {
       "output_type": "stream",
       "stream": "stderr",
       "text": [
        "41%\r"
       ]
      },
      {
       "output_type": "stream",
       "stream": "stderr",
       "text": [
        "42%\r"
       ]
      },
      {
       "output_type": "stream",
       "stream": "stderr",
       "text": [
        "43%\r"
       ]
      },
      {
       "output_type": "stream",
       "stream": "stderr",
       "text": [
        "44%\r"
       ]
      },
      {
       "output_type": "stream",
       "stream": "stderr",
       "text": [
        "45%\r"
       ]
      },
      {
       "output_type": "stream",
       "stream": "stderr",
       "text": [
        "46%\r"
       ]
      },
      {
       "output_type": "stream",
       "stream": "stderr",
       "text": [
        "47%\r"
       ]
      },
      {
       "output_type": "stream",
       "stream": "stderr",
       "text": [
        "48%\r"
       ]
      },
      {
       "output_type": "stream",
       "stream": "stderr",
       "text": [
        "49%\r"
       ]
      },
      {
       "output_type": "stream",
       "stream": "stderr",
       "text": [
        "50%\r"
       ]
      },
      {
       "output_type": "stream",
       "stream": "stderr",
       "text": [
        "51%\r"
       ]
      },
      {
       "output_type": "stream",
       "stream": "stderr",
       "text": [
        "52%\r"
       ]
      },
      {
       "output_type": "stream",
       "stream": "stderr",
       "text": [
        "53%\r"
       ]
      },
      {
       "output_type": "stream",
       "stream": "stderr",
       "text": [
        "54%\r"
       ]
      },
      {
       "output_type": "stream",
       "stream": "stderr",
       "text": [
        "55%\r"
       ]
      },
      {
       "output_type": "stream",
       "stream": "stderr",
       "text": [
        "56%\r"
       ]
      },
      {
       "output_type": "stream",
       "stream": "stderr",
       "text": [
        "57%\r"
       ]
      },
      {
       "output_type": "stream",
       "stream": "stderr",
       "text": [
        "58%\r"
       ]
      },
      {
       "output_type": "stream",
       "stream": "stderr",
       "text": [
        "59%\r"
       ]
      },
      {
       "output_type": "stream",
       "stream": "stderr",
       "text": [
        "60%\r"
       ]
      },
      {
       "output_type": "stream",
       "stream": "stderr",
       "text": [
        "61%\r"
       ]
      },
      {
       "output_type": "stream",
       "stream": "stderr",
       "text": [
        "62%\r"
       ]
      },
      {
       "output_type": "stream",
       "stream": "stderr",
       "text": [
        "63%\r"
       ]
      },
      {
       "output_type": "stream",
       "stream": "stderr",
       "text": [
        "64%\r"
       ]
      },
      {
       "output_type": "stream",
       "stream": "stderr",
       "text": [
        "65%\r"
       ]
      },
      {
       "output_type": "stream",
       "stream": "stderr",
       "text": [
        "66%\r"
       ]
      },
      {
       "output_type": "stream",
       "stream": "stderr",
       "text": [
        "67%\r"
       ]
      },
      {
       "output_type": "stream",
       "stream": "stderr",
       "text": [
        "68%\r"
       ]
      },
      {
       "output_type": "stream",
       "stream": "stderr",
       "text": [
        "69%\r"
       ]
      },
      {
       "output_type": "stream",
       "stream": "stderr",
       "text": [
        "70%\r"
       ]
      },
      {
       "output_type": "stream",
       "stream": "stderr",
       "text": [
        "71%\r"
       ]
      },
      {
       "output_type": "stream",
       "stream": "stderr",
       "text": [
        "72%\r"
       ]
      },
      {
       "output_type": "stream",
       "stream": "stderr",
       "text": [
        "73%\r"
       ]
      },
      {
       "output_type": "stream",
       "stream": "stderr",
       "text": [
        "74%\r"
       ]
      },
      {
       "output_type": "stream",
       "stream": "stderr",
       "text": [
        "75%\r"
       ]
      },
      {
       "output_type": "stream",
       "stream": "stderr",
       "text": [
        "76%\r"
       ]
      },
      {
       "output_type": "stream",
       "stream": "stderr",
       "text": [
        "77%\r"
       ]
      },
      {
       "output_type": "stream",
       "stream": "stderr",
       "text": [
        "78%\r"
       ]
      },
      {
       "output_type": "stream",
       "stream": "stderr",
       "text": [
        "79%\r"
       ]
      },
      {
       "output_type": "stream",
       "stream": "stderr",
       "text": [
        "80%\r"
       ]
      },
      {
       "output_type": "stream",
       "stream": "stderr",
       "text": [
        "81%\r"
       ]
      },
      {
       "output_type": "stream",
       "stream": "stderr",
       "text": [
        "82%\r"
       ]
      },
      {
       "output_type": "stream",
       "stream": "stderr",
       "text": [
        "83%\r"
       ]
      },
      {
       "output_type": "stream",
       "stream": "stderr",
       "text": [
        "84%\r"
       ]
      },
      {
       "output_type": "stream",
       "stream": "stderr",
       "text": [
        "85%\r"
       ]
      },
      {
       "output_type": "stream",
       "stream": "stderr",
       "text": [
        "86%\r"
       ]
      },
      {
       "output_type": "stream",
       "stream": "stderr",
       "text": [
        "87%\r"
       ]
      },
      {
       "output_type": "stream",
       "stream": "stderr",
       "text": [
        "88%\r"
       ]
      },
      {
       "output_type": "stream",
       "stream": "stderr",
       "text": [
        "89%\r"
       ]
      },
      {
       "output_type": "stream",
       "stream": "stderr",
       "text": [
        "90%\r"
       ]
      },
      {
       "output_type": "stream",
       "stream": "stderr",
       "text": [
        "91%\r"
       ]
      },
      {
       "output_type": "stream",
       "stream": "stderr",
       "text": [
        "92%\r"
       ]
      },
      {
       "output_type": "stream",
       "stream": "stderr",
       "text": [
        "93%\r"
       ]
      },
      {
       "output_type": "stream",
       "stream": "stderr",
       "text": [
        "94%\r"
       ]
      },
      {
       "output_type": "stream",
       "stream": "stderr",
       "text": [
        "95%\r"
       ]
      },
      {
       "output_type": "stream",
       "stream": "stderr",
       "text": [
        "96%\r"
       ]
      },
      {
       "output_type": "stream",
       "stream": "stderr",
       "text": [
        "97%\r"
       ]
      },
      {
       "output_type": "stream",
       "stream": "stderr",
       "text": [
        "98%\r"
       ]
      },
      {
       "output_type": "stream",
       "stream": "stderr",
       "text": [
        "99%\r"
       ]
      },
      {
       "output_type": "stream",
       "stream": "stderr",
       "text": [
        "100%\r"
       ]
      },
      {
       "output_type": "stream",
       "stream": "stderr",
       "text": [
        "100%\n"
       ]
      },
      {
       "output_type": "stream",
       "stream": "stdout",
       "text": [
        "\n",
        "  loss 1.06408269398\n",
        "  err  0.37750400641\n",
        "  (0:00:45)\n",
        "Epoch 48:"
       ]
      },
      {
       "output_type": "stream",
       "stream": "stderr",
       "text": [
        "1%\r"
       ]
      },
      {
       "output_type": "stream",
       "stream": "stderr",
       "text": [
        "2%\r"
       ]
      },
      {
       "output_type": "stream",
       "stream": "stderr",
       "text": [
        "3%\r"
       ]
      },
      {
       "output_type": "stream",
       "stream": "stderr",
       "text": [
        "4%\r"
       ]
      },
      {
       "output_type": "stream",
       "stream": "stderr",
       "text": [
        "5%\r"
       ]
      },
      {
       "output_type": "stream",
       "stream": "stderr",
       "text": [
        "6%\r"
       ]
      },
      {
       "output_type": "stream",
       "stream": "stderr",
       "text": [
        "7%\r"
       ]
      },
      {
       "output_type": "stream",
       "stream": "stderr",
       "text": [
        "8%\r"
       ]
      },
      {
       "output_type": "stream",
       "stream": "stderr",
       "text": [
        "9%\r"
       ]
      },
      {
       "output_type": "stream",
       "stream": "stderr",
       "text": [
        "10%\r"
       ]
      },
      {
       "output_type": "stream",
       "stream": "stderr",
       "text": [
        "11%\r"
       ]
      },
      {
       "output_type": "stream",
       "stream": "stderr",
       "text": [
        "12%\r"
       ]
      },
      {
       "output_type": "stream",
       "stream": "stderr",
       "text": [
        "13%\r"
       ]
      },
      {
       "output_type": "stream",
       "stream": "stderr",
       "text": [
        "14%\r"
       ]
      },
      {
       "output_type": "stream",
       "stream": "stderr",
       "text": [
        "15%\r"
       ]
      },
      {
       "output_type": "stream",
       "stream": "stderr",
       "text": [
        "16%\r"
       ]
      },
      {
       "output_type": "stream",
       "stream": "stderr",
       "text": [
        "17%\r"
       ]
      },
      {
       "output_type": "stream",
       "stream": "stderr",
       "text": [
        "18%\r"
       ]
      },
      {
       "output_type": "stream",
       "stream": "stderr",
       "text": [
        "19%\r"
       ]
      },
      {
       "output_type": "stream",
       "stream": "stderr",
       "text": [
        "20%\r"
       ]
      },
      {
       "output_type": "stream",
       "stream": "stderr",
       "text": [
        "21%\r"
       ]
      },
      {
       "output_type": "stream",
       "stream": "stderr",
       "text": [
        "22%\r"
       ]
      },
      {
       "output_type": "stream",
       "stream": "stderr",
       "text": [
        "23%\r"
       ]
      },
      {
       "output_type": "stream",
       "stream": "stderr",
       "text": [
        "24%\r"
       ]
      },
      {
       "output_type": "stream",
       "stream": "stderr",
       "text": [
        "25%\r"
       ]
      },
      {
       "output_type": "stream",
       "stream": "stderr",
       "text": [
        "26%\r"
       ]
      },
      {
       "output_type": "stream",
       "stream": "stderr",
       "text": [
        "27%\r"
       ]
      },
      {
       "output_type": "stream",
       "stream": "stderr",
       "text": [
        "28%\r"
       ]
      },
      {
       "output_type": "stream",
       "stream": "stderr",
       "text": [
        "29%\r"
       ]
      },
      {
       "output_type": "stream",
       "stream": "stderr",
       "text": [
        "30%\r"
       ]
      },
      {
       "output_type": "stream",
       "stream": "stderr",
       "text": [
        "31%\r"
       ]
      },
      {
       "output_type": "stream",
       "stream": "stderr",
       "text": [
        "32%\r"
       ]
      },
      {
       "output_type": "stream",
       "stream": "stderr",
       "text": [
        "33%\r"
       ]
      },
      {
       "output_type": "stream",
       "stream": "stderr",
       "text": [
        "34%\r"
       ]
      },
      {
       "output_type": "stream",
       "stream": "stderr",
       "text": [
        "35%\r"
       ]
      },
      {
       "output_type": "stream",
       "stream": "stderr",
       "text": [
        "36%\r"
       ]
      },
      {
       "output_type": "stream",
       "stream": "stderr",
       "text": [
        "37%\r"
       ]
      },
      {
       "output_type": "stream",
       "stream": "stderr",
       "text": [
        "38%\r"
       ]
      },
      {
       "output_type": "stream",
       "stream": "stderr",
       "text": [
        "39%\r"
       ]
      },
      {
       "output_type": "stream",
       "stream": "stderr",
       "text": [
        "40%\r"
       ]
      },
      {
       "output_type": "stream",
       "stream": "stderr",
       "text": [
        "41%\r"
       ]
      },
      {
       "output_type": "stream",
       "stream": "stderr",
       "text": [
        "42%\r"
       ]
      },
      {
       "output_type": "stream",
       "stream": "stderr",
       "text": [
        "43%\r"
       ]
      },
      {
       "output_type": "stream",
       "stream": "stderr",
       "text": [
        "44%\r"
       ]
      },
      {
       "output_type": "stream",
       "stream": "stderr",
       "text": [
        "45%\r"
       ]
      },
      {
       "output_type": "stream",
       "stream": "stderr",
       "text": [
        "46%\r"
       ]
      },
      {
       "output_type": "stream",
       "stream": "stderr",
       "text": [
        "47%\r"
       ]
      },
      {
       "output_type": "stream",
       "stream": "stderr",
       "text": [
        "48%\r"
       ]
      },
      {
       "output_type": "stream",
       "stream": "stderr",
       "text": [
        "49%\r"
       ]
      },
      {
       "output_type": "stream",
       "stream": "stderr",
       "text": [
        "50%\r"
       ]
      },
      {
       "output_type": "stream",
       "stream": "stderr",
       "text": [
        "51%\r"
       ]
      },
      {
       "output_type": "stream",
       "stream": "stderr",
       "text": [
        "52%\r"
       ]
      },
      {
       "output_type": "stream",
       "stream": "stderr",
       "text": [
        "53%\r"
       ]
      },
      {
       "output_type": "stream",
       "stream": "stderr",
       "text": [
        "54%\r"
       ]
      },
      {
       "output_type": "stream",
       "stream": "stderr",
       "text": [
        "55%\r"
       ]
      },
      {
       "output_type": "stream",
       "stream": "stderr",
       "text": [
        "56%\r"
       ]
      },
      {
       "output_type": "stream",
       "stream": "stderr",
       "text": [
        "57%\r"
       ]
      },
      {
       "output_type": "stream",
       "stream": "stderr",
       "text": [
        "58%\r"
       ]
      },
      {
       "output_type": "stream",
       "stream": "stderr",
       "text": [
        "59%\r"
       ]
      },
      {
       "output_type": "stream",
       "stream": "stderr",
       "text": [
        "60%\r"
       ]
      },
      {
       "output_type": "stream",
       "stream": "stderr",
       "text": [
        "61%\r"
       ]
      },
      {
       "output_type": "stream",
       "stream": "stderr",
       "text": [
        "62%\r"
       ]
      },
      {
       "output_type": "stream",
       "stream": "stderr",
       "text": [
        "63%\r"
       ]
      },
      {
       "output_type": "stream",
       "stream": "stderr",
       "text": [
        "64%\r"
       ]
      },
      {
       "output_type": "stream",
       "stream": "stderr",
       "text": [
        "65%\r"
       ]
      },
      {
       "output_type": "stream",
       "stream": "stderr",
       "text": [
        "66%\r"
       ]
      },
      {
       "output_type": "stream",
       "stream": "stderr",
       "text": [
        "67%\r"
       ]
      },
      {
       "output_type": "stream",
       "stream": "stderr",
       "text": [
        "68%\r"
       ]
      },
      {
       "output_type": "stream",
       "stream": "stderr",
       "text": [
        "69%\r"
       ]
      },
      {
       "output_type": "stream",
       "stream": "stderr",
       "text": [
        "70%\r"
       ]
      },
      {
       "output_type": "stream",
       "stream": "stderr",
       "text": [
        "71%\r"
       ]
      },
      {
       "output_type": "stream",
       "stream": "stderr",
       "text": [
        "72%\r"
       ]
      },
      {
       "output_type": "stream",
       "stream": "stderr",
       "text": [
        "73%\r"
       ]
      },
      {
       "output_type": "stream",
       "stream": "stderr",
       "text": [
        "74%\r"
       ]
      },
      {
       "output_type": "stream",
       "stream": "stderr",
       "text": [
        "75%\r"
       ]
      },
      {
       "output_type": "stream",
       "stream": "stderr",
       "text": [
        "76%\r"
       ]
      },
      {
       "output_type": "stream",
       "stream": "stderr",
       "text": [
        "77%\r"
       ]
      },
      {
       "output_type": "stream",
       "stream": "stderr",
       "text": [
        "78%\r"
       ]
      },
      {
       "output_type": "stream",
       "stream": "stderr",
       "text": [
        "79%\r"
       ]
      },
      {
       "output_type": "stream",
       "stream": "stderr",
       "text": [
        "80%\r"
       ]
      },
      {
       "output_type": "stream",
       "stream": "stderr",
       "text": [
        "81%\r"
       ]
      },
      {
       "output_type": "stream",
       "stream": "stderr",
       "text": [
        "82%\r"
       ]
      },
      {
       "output_type": "stream",
       "stream": "stderr",
       "text": [
        "83%\r"
       ]
      },
      {
       "output_type": "stream",
       "stream": "stderr",
       "text": [
        "84%\r"
       ]
      },
      {
       "output_type": "stream",
       "stream": "stderr",
       "text": [
        "85%\r"
       ]
      },
      {
       "output_type": "stream",
       "stream": "stderr",
       "text": [
        "86%\r"
       ]
      },
      {
       "output_type": "stream",
       "stream": "stderr",
       "text": [
        "87%\r"
       ]
      },
      {
       "output_type": "stream",
       "stream": "stderr",
       "text": [
        "88%\r"
       ]
      },
      {
       "output_type": "stream",
       "stream": "stderr",
       "text": [
        "89%\r"
       ]
      },
      {
       "output_type": "stream",
       "stream": "stderr",
       "text": [
        "90%\r"
       ]
      },
      {
       "output_type": "stream",
       "stream": "stderr",
       "text": [
        "91%\r"
       ]
      },
      {
       "output_type": "stream",
       "stream": "stderr",
       "text": [
        "92%\r"
       ]
      },
      {
       "output_type": "stream",
       "stream": "stderr",
       "text": [
        "93%\r"
       ]
      },
      {
       "output_type": "stream",
       "stream": "stderr",
       "text": [
        "94%\r"
       ]
      },
      {
       "output_type": "stream",
       "stream": "stderr",
       "text": [
        "95%\r"
       ]
      },
      {
       "output_type": "stream",
       "stream": "stderr",
       "text": [
        "96%\r"
       ]
      },
      {
       "output_type": "stream",
       "stream": "stderr",
       "text": [
        "97%\r"
       ]
      },
      {
       "output_type": "stream",
       "stream": "stderr",
       "text": [
        "98%\r"
       ]
      },
      {
       "output_type": "stream",
       "stream": "stderr",
       "text": [
        "99%\r"
       ]
      },
      {
       "output_type": "stream",
       "stream": "stderr",
       "text": [
        "100%\r"
       ]
      },
      {
       "output_type": "stream",
       "stream": "stderr",
       "text": [
        "100%\n"
       ]
      },
      {
       "output_type": "stream",
       "stream": "stdout",
       "text": [
        "\n",
        "  loss 1.04811353905\n",
        "  err  0.377654246795\n",
        "  (0:00:47)\n",
        "Epoch 49:"
       ]
      },
      {
       "output_type": "stream",
       "stream": "stderr",
       "text": [
        "1%\r"
       ]
      },
      {
       "output_type": "stream",
       "stream": "stderr",
       "text": [
        "2%\r"
       ]
      },
      {
       "output_type": "stream",
       "stream": "stderr",
       "text": [
        "3%\r"
       ]
      },
      {
       "output_type": "stream",
       "stream": "stderr",
       "text": [
        "4%\r"
       ]
      },
      {
       "output_type": "stream",
       "stream": "stderr",
       "text": [
        "5%\r"
       ]
      },
      {
       "output_type": "stream",
       "stream": "stderr",
       "text": [
        "6%\r"
       ]
      },
      {
       "output_type": "stream",
       "stream": "stderr",
       "text": [
        "7%\r"
       ]
      },
      {
       "output_type": "stream",
       "stream": "stderr",
       "text": [
        "8%\r"
       ]
      },
      {
       "output_type": "stream",
       "stream": "stderr",
       "text": [
        "9%\r"
       ]
      },
      {
       "output_type": "stream",
       "stream": "stderr",
       "text": [
        "10%\r"
       ]
      },
      {
       "output_type": "stream",
       "stream": "stderr",
       "text": [
        "11%\r"
       ]
      },
      {
       "output_type": "stream",
       "stream": "stderr",
       "text": [
        "12%\r"
       ]
      },
      {
       "output_type": "stream",
       "stream": "stderr",
       "text": [
        "13%\r"
       ]
      },
      {
       "output_type": "stream",
       "stream": "stderr",
       "text": [
        "14%\r"
       ]
      },
      {
       "output_type": "stream",
       "stream": "stderr",
       "text": [
        "15%\r"
       ]
      },
      {
       "output_type": "stream",
       "stream": "stderr",
       "text": [
        "16%\r"
       ]
      },
      {
       "output_type": "stream",
       "stream": "stderr",
       "text": [
        "17%\r"
       ]
      },
      {
       "output_type": "stream",
       "stream": "stderr",
       "text": [
        "18%\r"
       ]
      },
      {
       "output_type": "stream",
       "stream": "stderr",
       "text": [
        "19%\r"
       ]
      },
      {
       "output_type": "stream",
       "stream": "stderr",
       "text": [
        "20%\r"
       ]
      },
      {
       "output_type": "stream",
       "stream": "stderr",
       "text": [
        "21%\r"
       ]
      },
      {
       "output_type": "stream",
       "stream": "stderr",
       "text": [
        "22%\r"
       ]
      },
      {
       "output_type": "stream",
       "stream": "stderr",
       "text": [
        "23%\r"
       ]
      },
      {
       "output_type": "stream",
       "stream": "stderr",
       "text": [
        "24%\r"
       ]
      },
      {
       "output_type": "stream",
       "stream": "stderr",
       "text": [
        "25%\r"
       ]
      },
      {
       "output_type": "stream",
       "stream": "stderr",
       "text": [
        "26%\r"
       ]
      },
      {
       "output_type": "stream",
       "stream": "stderr",
       "text": [
        "27%\r"
       ]
      },
      {
       "output_type": "stream",
       "stream": "stderr",
       "text": [
        "28%\r"
       ]
      },
      {
       "output_type": "stream",
       "stream": "stderr",
       "text": [
        "29%\r"
       ]
      },
      {
       "output_type": "stream",
       "stream": "stderr",
       "text": [
        "30%\r"
       ]
      },
      {
       "output_type": "stream",
       "stream": "stderr",
       "text": [
        "31%\r"
       ]
      },
      {
       "output_type": "stream",
       "stream": "stderr",
       "text": [
        "32%\r"
       ]
      },
      {
       "output_type": "stream",
       "stream": "stderr",
       "text": [
        "33%\r"
       ]
      },
      {
       "output_type": "stream",
       "stream": "stderr",
       "text": [
        "34%\r"
       ]
      },
      {
       "output_type": "stream",
       "stream": "stderr",
       "text": [
        "35%\r"
       ]
      },
      {
       "output_type": "stream",
       "stream": "stderr",
       "text": [
        "36%\r"
       ]
      },
      {
       "output_type": "stream",
       "stream": "stderr",
       "text": [
        "37%\r"
       ]
      },
      {
       "output_type": "stream",
       "stream": "stderr",
       "text": [
        "38%\r"
       ]
      },
      {
       "output_type": "stream",
       "stream": "stderr",
       "text": [
        "39%\r"
       ]
      },
      {
       "output_type": "stream",
       "stream": "stderr",
       "text": [
        "40%\r"
       ]
      },
      {
       "output_type": "stream",
       "stream": "stderr",
       "text": [
        "41%\r"
       ]
      },
      {
       "output_type": "stream",
       "stream": "stderr",
       "text": [
        "42%\r"
       ]
      },
      {
       "output_type": "stream",
       "stream": "stderr",
       "text": [
        "43%\r"
       ]
      },
      {
       "output_type": "stream",
       "stream": "stderr",
       "text": [
        "44%\r"
       ]
      },
      {
       "output_type": "stream",
       "stream": "stderr",
       "text": [
        "45%\r"
       ]
      },
      {
       "output_type": "stream",
       "stream": "stderr",
       "text": [
        "46%\r"
       ]
      },
      {
       "output_type": "stream",
       "stream": "stderr",
       "text": [
        "47%\r"
       ]
      },
      {
       "output_type": "stream",
       "stream": "stderr",
       "text": [
        "48%\r"
       ]
      },
      {
       "output_type": "stream",
       "stream": "stderr",
       "text": [
        "49%\r"
       ]
      },
      {
       "output_type": "stream",
       "stream": "stderr",
       "text": [
        "50%\r"
       ]
      },
      {
       "output_type": "stream",
       "stream": "stderr",
       "text": [
        "51%\r"
       ]
      },
      {
       "output_type": "stream",
       "stream": "stderr",
       "text": [
        "52%\r"
       ]
      },
      {
       "output_type": "stream",
       "stream": "stderr",
       "text": [
        "53%\r"
       ]
      },
      {
       "output_type": "stream",
       "stream": "stderr",
       "text": [
        "54%\r"
       ]
      },
      {
       "output_type": "stream",
       "stream": "stderr",
       "text": [
        "55%\r"
       ]
      },
      {
       "output_type": "stream",
       "stream": "stderr",
       "text": [
        "56%\r"
       ]
      },
      {
       "output_type": "stream",
       "stream": "stderr",
       "text": [
        "57%\r"
       ]
      },
      {
       "output_type": "stream",
       "stream": "stderr",
       "text": [
        "58%\r"
       ]
      },
      {
       "output_type": "stream",
       "stream": "stderr",
       "text": [
        "59%\r"
       ]
      },
      {
       "output_type": "stream",
       "stream": "stderr",
       "text": [
        "60%\r"
       ]
      },
      {
       "output_type": "stream",
       "stream": "stderr",
       "text": [
        "61%\r"
       ]
      },
      {
       "output_type": "stream",
       "stream": "stderr",
       "text": [
        "62%\r"
       ]
      },
      {
       "output_type": "stream",
       "stream": "stderr",
       "text": [
        "63%\r"
       ]
      },
      {
       "output_type": "stream",
       "stream": "stderr",
       "text": [
        "64%\r"
       ]
      },
      {
       "output_type": "stream",
       "stream": "stderr",
       "text": [
        "65%\r"
       ]
      },
      {
       "output_type": "stream",
       "stream": "stderr",
       "text": [
        "66%\r"
       ]
      },
      {
       "output_type": "stream",
       "stream": "stderr",
       "text": [
        "67%\r"
       ]
      },
      {
       "output_type": "stream",
       "stream": "stderr",
       "text": [
        "68%\r"
       ]
      },
      {
       "output_type": "stream",
       "stream": "stderr",
       "text": [
        "69%\r"
       ]
      },
      {
       "output_type": "stream",
       "stream": "stderr",
       "text": [
        "70%\r"
       ]
      },
      {
       "output_type": "stream",
       "stream": "stderr",
       "text": [
        "71%\r"
       ]
      },
      {
       "output_type": "stream",
       "stream": "stderr",
       "text": [
        "72%\r"
       ]
      },
      {
       "output_type": "stream",
       "stream": "stderr",
       "text": [
        "73%\r"
       ]
      },
      {
       "output_type": "stream",
       "stream": "stderr",
       "text": [
        "74%\r"
       ]
      },
      {
       "output_type": "stream",
       "stream": "stderr",
       "text": [
        "75%\r"
       ]
      },
      {
       "output_type": "stream",
       "stream": "stderr",
       "text": [
        "76%\r"
       ]
      },
      {
       "output_type": "stream",
       "stream": "stderr",
       "text": [
        "77%\r"
       ]
      },
      {
       "output_type": "stream",
       "stream": "stderr",
       "text": [
        "78%\r"
       ]
      },
      {
       "output_type": "stream",
       "stream": "stderr",
       "text": [
        "79%\r"
       ]
      },
      {
       "output_type": "stream",
       "stream": "stderr",
       "text": [
        "80%\r"
       ]
      },
      {
       "output_type": "stream",
       "stream": "stderr",
       "text": [
        "81%\r"
       ]
      },
      {
       "output_type": "stream",
       "stream": "stderr",
       "text": [
        "82%\r"
       ]
      },
      {
       "output_type": "stream",
       "stream": "stderr",
       "text": [
        "83%\r"
       ]
      },
      {
       "output_type": "stream",
       "stream": "stderr",
       "text": [
        "84%\r"
       ]
      },
      {
       "output_type": "stream",
       "stream": "stderr",
       "text": [
        "85%\r"
       ]
      },
      {
       "output_type": "stream",
       "stream": "stderr",
       "text": [
        "86%\r"
       ]
      },
      {
       "output_type": "stream",
       "stream": "stderr",
       "text": [
        "87%\r"
       ]
      },
      {
       "output_type": "stream",
       "stream": "stderr",
       "text": [
        "88%\r"
       ]
      },
      {
       "output_type": "stream",
       "stream": "stderr",
       "text": [
        "89%\r"
       ]
      },
      {
       "output_type": "stream",
       "stream": "stderr",
       "text": [
        "90%\r"
       ]
      },
      {
       "output_type": "stream",
       "stream": "stderr",
       "text": [
        "91%\r"
       ]
      },
      {
       "output_type": "stream",
       "stream": "stderr",
       "text": [
        "92%\r"
       ]
      },
      {
       "output_type": "stream",
       "stream": "stderr",
       "text": [
        "93%\r"
       ]
      },
      {
       "output_type": "stream",
       "stream": "stderr",
       "text": [
        "94%\r"
       ]
      },
      {
       "output_type": "stream",
       "stream": "stderr",
       "text": [
        "95%\r"
       ]
      },
      {
       "output_type": "stream",
       "stream": "stderr",
       "text": [
        "96%\r"
       ]
      },
      {
       "output_type": "stream",
       "stream": "stderr",
       "text": [
        "97%\r"
       ]
      },
      {
       "output_type": "stream",
       "stream": "stderr",
       "text": [
        "98%\r"
       ]
      },
      {
       "output_type": "stream",
       "stream": "stderr",
       "text": [
        "99%\r"
       ]
      },
      {
       "output_type": "stream",
       "stream": "stderr",
       "text": [
        "100%\r"
       ]
      },
      {
       "output_type": "stream",
       "stream": "stderr",
       "text": [
        "100%\n"
       ]
      },
      {
       "output_type": "stream",
       "stream": "stdout",
       "text": [
        "\n",
        "  loss 1.0436546281\n",
        "  err  0.37164463141\n",
        "  (0:00:51)\n",
        "Epoch 50:"
       ]
      },
      {
       "output_type": "stream",
       "stream": "stdout",
       "text": [
        "\n",
        "  loss 1.03415585004\n",
        "  err  0.369841746795\n",
        "  (0:00:50)\n"
       ]
      }
     ],
     "prompt_number": 11
    },
    {
     "cell_type": "heading",
     "level": 6,
     "metadata": {},
     "source": [
      "Print our report and the confusion matrix (I could not figure out how to get the labels on the confusion matrix!)"
     ]
    },
    {
     "cell_type": "code",
     "collapsed": false,
     "input": [
      "expected = labels_test\n",
      "predicted = net.predict(data_test)\n",
      "print \"Classification report for classifier %s:\\n%s\\n\" % (\n",
      "    net, classification_report(expected, predicted))\n",
      "print \"Confusion matrix:\\n%s\" % confusion_matrix(expected, predicted)"
     ],
     "language": "python",
     "metadata": {},
     "outputs": [
      {
       "output_type": "stream",
       "stream": "stdout",
       "text": [
        "Classification report for classifier DBN(dropouts=0, epochs=50, epochs_pretrain=0, fan_outs=None,\n",
        "  fine_tune_callback=None, l2_costs=0.0001, l2_costs_pretrain=None,\n",
        "  layer_sizes=[3072, 1024, 10], learn_rate_decays=1.0,\n",
        "  learn_rate_minimums=0.0, learn_rates=0.03, learn_rates_pretrain=None,\n",
        "  loss_funct=None, minibatch_size=64, minibatches_per_epoch=None,\n",
        "  momentum=0.9, momentum_pretrain=None, nest_compare=True,\n",
        "  nest_compare_pretrain=None, nesterov=True,\n",
        "  output_act_funct=<gdbn.activationFunctions.Softmax object at 0x7fa0a6c50b10>,\n",
        "  pretrain_callback=None, real_valued_vis=True, rms_lims=None, scales=0.05,\n",
        "  uniforms=False, use_re_lu=True, verbose=1):\n",
        "             precision    recall  f1-score   support\n",
        "\n",
        "          0       0.57      0.50      0.53       994\n",
        "          1       0.58      0.51      0.54      1042\n",
        "          2       0.33      0.29      0.31       965\n",
        "          3       0.33      0.28      0.31       997\n",
        "          4       0.32      0.45      0.38       990\n",
        "          5       0.36      0.36      0.36      1029\n",
        "          6       0.48      0.48      0.48       978\n",
        "          7       0.55      0.47      0.50      1015\n",
        "          8       0.52      0.68      0.59       961\n",
        "          9       0.53      0.49      0.51      1029\n",
        "\n",
        "avg / total       0.46      0.45      0.45     10000\n",
        "\n",
        "\n",
        "Confusion matrix:\n",
        "[[494  47  43  26  86  21  20  38 175  44]\n",
        " [ 48 536  20  32  29  26  26  18 119 188]\n",
        " [ 67  16 281  63 228 104  92  56  39  19]\n",
        " [ 22  26  76 284 123 222  97  60  52  35]\n",
        " [ 40  17 167  56 449  49 101  62  28  21]\n",
        " [ 23  29  76 182 108 374 101  71  34  31]\n",
        " [  8  20  98  84 151  79 474  24  24  16]\n",
        " [ 32  18  64  55 145 115  32 472  33  49]\n",
        " [ 93  50   6  37  40  16  10   6 653  50]\n",
        " [ 45 168  27  41  27  33  26  48 105 509]]\n"
       ]
      }
     ],
     "prompt_number": 12
    },
    {
     "cell_type": "code",
     "collapsed": false,
     "input": [],
     "language": "python",
     "metadata": {},
     "outputs": []
    }
   ],
   "metadata": {}
  }
 ]
}