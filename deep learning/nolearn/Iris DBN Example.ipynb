{
 "metadata": {
  "name": "",
  "signature": "sha256:3b99c9be911a8263cb9cdcd4e1996b7caeb0f358d37da4cf83c7cd6299ad0950"
 },
 "nbformat": 3,
 "nbformat_minor": 0,
 "worksheets": [
  {
   "cells": [
    {
     "cell_type": "heading",
     "level": 6,
     "metadata": {},
     "source": [
      "This is an example of how to build a Deep Belief Network using the nolearn python package in combination with sklearn. Make sure to install nolearn and sklearn prior to running this script."
     ]
    },
    {
     "cell_type": "code",
     "collapsed": false,
     "input": [
      "from sklearn.cross_validation import cross_val_score\n",
      "from sklearn.datasets import load_iris\n",
      "from sklearn.preprocessing import scale\n",
      "from nolearn.dbn import DBN"
     ],
     "language": "python",
     "metadata": {},
     "outputs": [
      {
       "output_type": "stream",
       "stream": "stdout",
       "text": [
        "gnumpy: failed to import cudamat. Using npmat instead. No GPU will be used.\n"
       ]
      }
     ],
     "prompt_number": 2
    },
    {
     "cell_type": "heading",
     "level": 6,
     "metadata": {},
     "source": [
      "Load the iris dataset. This is a commonly used dataset in machine learning. You can read more about it here: http://en.wikipedia.org/wiki/Iris_flower_data_set"
     ]
    },
    {
     "cell_type": "code",
     "collapsed": false,
     "input": [
      "iris = load_iris()"
     ],
     "language": "python",
     "metadata": {},
     "outputs": [],
     "prompt_number": 3
    },
    {
     "cell_type": "heading",
     "level": 6,
     "metadata": {},
     "source": [
      "Create the Deep Belief Network classifier class. The first argument is a list of hyper parameters for the model. \n",
      "\n",
      "[# of inputs (features), # of hidden layers, # of classes]. You can read more about this class here: https://pythonhosted.org/nolearn/dbn.html"
     ]
    },
    {
     "cell_type": "code",
     "collapsed": false,
     "input": [
      "clf = DBN(\n",
      "    [4, 4, 3],\n",
      "    learn_rates=0.3,\n",
      "    epochs=50,\n",
      "    )"
     ],
     "language": "python",
     "metadata": {},
     "outputs": [],
     "prompt_number": 34
    },
    {
     "cell_type": "heading",
     "level": 6,
     "metadata": {},
     "source": [
      "Lets run the model..."
     ]
    },
    {
     "cell_type": "code",
     "collapsed": false,
     "input": [
      "scores = cross_val_score(clf, scale(iris.data), iris.target, cv=10)\n",
      "print \"Accuracy: %0.2f (+/- %0.2f)\" % (scores.mean(), scores.std() / 2)"
     ],
     "language": "python",
     "metadata": {},
     "outputs": [
      {
       "output_type": "stream",
       "stream": "stdout",
       "text": [
        "Accuracy: 0.94 (+/- 0.04)\n"
       ]
      }
     ],
     "prompt_number": 35
    },
    {
     "cell_type": "heading",
     "level": 6,
     "metadata": {},
     "source": [
      "You can see that our model is 94% accurate with 4% standard deviation. Lets raise the number of epochs to see if the model's accuracy will get any better..."
     ]
    },
    {
     "cell_type": "code",
     "collapsed": false,
     "input": [
      "clf = DBN(\n",
      "    [4, 4, 3],\n",
      "    learn_rates=0.3,\n",
      "    epochs=100,\n",
      "    )\n",
      "scores = cross_val_score(clf, scale(iris.data), iris.target, cv=10)\n",
      "print \"Accuracy: %0.2f (+/- %0.2f)\" % (scores.mean(), scores.std() / 2)"
     ],
     "language": "python",
     "metadata": {},
     "outputs": [
      {
       "output_type": "stream",
       "stream": "stdout",
       "text": [
        "Accuracy: 0.95 (+/- 0.03)\n"
       ]
      }
     ],
     "prompt_number": 36
    },
    {
     "cell_type": "heading",
     "level": 6,
     "metadata": {},
     "source": [
      "You can see, if we train the model longer, the accuracy increases. Lets try one more time..."
     ]
    },
    {
     "cell_type": "code",
     "collapsed": false,
     "input": [
      "clf = DBN(\n",
      "    [4, 4, 3],\n",
      "    learn_rates=0.3,\n",
      "    epochs=200,\n",
      "    )\n",
      "scores = cross_val_score(clf, scale(iris.data), iris.target, cv=10)\n",
      "print \"Accuracy: %0.2f (+/- %0.2f)\" % (scores.mean(), scores.std() / 2)"
     ],
     "language": "python",
     "metadata": {},
     "outputs": [
      {
       "output_type": "stream",
       "stream": "stdout",
       "text": [
        "Accuracy: 0.96 (+/- 0.03)\n"
       ]
      }
     ],
     "prompt_number": 39
    },
    {
     "cell_type": "heading",
     "level": 6,
     "metadata": {},
     "source": [
      "Again, the longer we trained this model, the more accurate it got."
     ]
    },
    {
     "cell_type": "code",
     "collapsed": false,
     "input": [],
     "language": "python",
     "metadata": {},
     "outputs": []
    }
   ],
   "metadata": {}
  }
 ]
}