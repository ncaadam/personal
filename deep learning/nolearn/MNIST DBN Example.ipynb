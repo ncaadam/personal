{
 "metadata": {
  "name": "",
  "signature": "sha256:acbfb4817ba10d345e7ef4233806c3c3efede5f4731ce40c14d5fd1bc71d58dd"
 },
 "nbformat": 3,
 "nbformat_minor": 0,
 "worksheets": [
  {
   "cells": [
    {
     "cell_type": "heading",
     "level": 6,
     "metadata": {},
     "source": [
      "This is an example of how to build a Deep Belief Network using the nolearn python package in combination with sklearn. Make sure to install nolearn and sklearn prior to running this script."
     ]
    },
    {
     "cell_type": "code",
     "collapsed": false,
     "input": [
      "from sklearn.cross_validation import train_test_split\n",
      "from sklearn.datasets import fetch_mldata\n",
      "from nolearn.dbn import DBN\n",
      "from sklearn.metrics import classification_report, zero_one_loss"
     ],
     "language": "python",
     "metadata": {},
     "outputs": [
      {
       "output_type": "stream",
       "stream": "stdout",
       "text": [
        "gnumpy: failed to import cudamat. Using npmat instead. No GPU will be used.\n"
       ]
      }
     ],
     "prompt_number": 2
    },
    {
     "cell_type": "heading",
     "level": 6,
     "metadata": {},
     "source": [
      "Download our data...This may take a few minutes depending on connection..."
     ]
    },
    {
     "cell_type": "code",
     "collapsed": false,
     "input": [
      "mnist = fetch_mldata('MNIST original')"
     ],
     "language": "python",
     "metadata": {},
     "outputs": [],
     "prompt_number": 3
    },
    {
     "cell_type": "heading",
     "level": 6,
     "metadata": {},
     "source": [
      "Randomly split our X and Y data into train and test data. The built in train_test_split function in sklearn is very useful. At the same time, we're normalizing our X data by ensuring every value in the array is between 0 and 1."
     ]
    },
    {
     "cell_type": "code",
     "collapsed": false,
     "input": [
      "X_train, X_test, y_train, y_test = train_test_split(\n",
      "    mnist.data / 255.0, mnist.target)"
     ],
     "language": "python",
     "metadata": {},
     "outputs": [],
     "prompt_number": 17
    },
    {
     "cell_type": "heading",
     "level": 6,
     "metadata": {},
     "source": [
      "Create the Deep Belief Network classifier class. The first argument is a list of hyper parameters for the model. [# of inputs (features), # of hidden layers, # of classes]. You can read more about this class here: https://pythonhosted.org/nolearn/dbn.html"
     ]
    },
    {
     "cell_type": "code",
     "collapsed": false,
     "input": [
      "clf = DBN(\n",
      "    [X_train.shape[1], 300, 10],\n",
      "    learn_rates=0.3,\n",
      "    learn_rate_decays=0.9,\n",
      "    epochs=10,\n",
      "    verbose=1,\n",
      "    )"
     ],
     "language": "python",
     "metadata": {},
     "outputs": [],
     "prompt_number": 18
    },
    {
     "cell_type": "heading",
     "level": 6,
     "metadata": {},
     "source": [
      "Train the model...This will take some time (1-2 minutes) Side note: You likely see the error above (when importing your packages) that reads \"gnumpy: failed to import cudamat. Using npmat instead. No GPU will be used.\" This is an important point - a large upside to deep learning algorithms is the ability to use the system's GPUs. The cudamat python package provides us with that functionality. However, you must have a CUDA-enabled GPU on your system. Find the graphics card on your system and see if it is on the CUDA GPU list, here: https://developer.nvidia.com/cuda-gpus. My assumption is that training our model with the GPUs would be significatly faster, but I haven't tested it."
     ]
    },
    {
     "cell_type": "code",
     "collapsed": false,
     "input": [
      "clf.fit(X_train, y_train)"
     ],
     "language": "python",
     "metadata": {},
     "outputs": [
      {
       "output_type": "stream",
       "stream": "stdout",
       "text": [
        "[DBN] fitting X.shape=(52500, 784)\n",
        "[DBN] layers [784, 300, 10]"
       ]
      },
      {
       "output_type": "stream",
       "stream": "stdout",
       "text": [
        "\n",
        "[DBN] Fine-tune..."
       ]
      },
      {
       "output_type": "stream",
       "stream": "stderr",
       "text": [
        "1%\r"
       ]
      },
      {
       "output_type": "stream",
       "stream": "stderr",
       "text": [
        "2%\r"
       ]
      },
      {
       "output_type": "stream",
       "stream": "stderr",
       "text": [
        "3%\r"
       ]
      },
      {
       "output_type": "stream",
       "stream": "stderr",
       "text": [
        "4%\r"
       ]
      },
      {
       "output_type": "stream",
       "stream": "stderr",
       "text": [
        "5%\r"
       ]
      },
      {
       "output_type": "stream",
       "stream": "stderr",
       "text": [
        "6%\r"
       ]
      },
      {
       "output_type": "stream",
       "stream": "stderr",
       "text": [
        "7%\r"
       ]
      },
      {
       "output_type": "stream",
       "stream": "stderr",
       "text": [
        "8%\r"
       ]
      },
      {
       "output_type": "stream",
       "stream": "stderr",
       "text": [
        "9%\r"
       ]
      },
      {
       "output_type": "stream",
       "stream": "stderr",
       "text": [
        "10%\r"
       ]
      },
      {
       "output_type": "stream",
       "stream": "stderr",
       "text": [
        "11%\r"
       ]
      },
      {
       "output_type": "stream",
       "stream": "stderr",
       "text": [
        "12%\r"
       ]
      },
      {
       "output_type": "stream",
       "stream": "stderr",
       "text": [
        "13%\r"
       ]
      },
      {
       "output_type": "stream",
       "stream": "stderr",
       "text": [
        "14%\r"
       ]
      },
      {
       "output_type": "stream",
       "stream": "stderr",
       "text": [
        "15%\r"
       ]
      },
      {
       "output_type": "stream",
       "stream": "stderr",
       "text": [
        "16%\r"
       ]
      },
      {
       "output_type": "stream",
       "stream": "stderr",
       "text": [
        "17%\r"
       ]
      },
      {
       "output_type": "stream",
       "stream": "stderr",
       "text": [
        "18%\r"
       ]
      },
      {
       "output_type": "stream",
       "stream": "stderr",
       "text": [
        "19%\r"
       ]
      },
      {
       "output_type": "stream",
       "stream": "stderr",
       "text": [
        "20%\r"
       ]
      },
      {
       "output_type": "stream",
       "stream": "stderr",
       "text": [
        "21%\r"
       ]
      },
      {
       "output_type": "stream",
       "stream": "stderr",
       "text": [
        "22%\r"
       ]
      },
      {
       "output_type": "stream",
       "stream": "stderr",
       "text": [
        "23%\r"
       ]
      },
      {
       "output_type": "stream",
       "stream": "stderr",
       "text": [
        "24%\r"
       ]
      },
      {
       "output_type": "stream",
       "stream": "stderr",
       "text": [
        "25%\r"
       ]
      },
      {
       "output_type": "stream",
       "stream": "stderr",
       "text": [
        "26%\r"
       ]
      },
      {
       "output_type": "stream",
       "stream": "stderr",
       "text": [
        "27%\r"
       ]
      },
      {
       "output_type": "stream",
       "stream": "stderr",
       "text": [
        "28%\r"
       ]
      },
      {
       "output_type": "stream",
       "stream": "stderr",
       "text": [
        "29%\r"
       ]
      },
      {
       "output_type": "stream",
       "stream": "stderr",
       "text": [
        "30%\r"
       ]
      },
      {
       "output_type": "stream",
       "stream": "stderr",
       "text": [
        "31%\r"
       ]
      },
      {
       "output_type": "stream",
       "stream": "stderr",
       "text": [
        "32%\r"
       ]
      },
      {
       "output_type": "stream",
       "stream": "stderr",
       "text": [
        "33%\r"
       ]
      },
      {
       "output_type": "stream",
       "stream": "stderr",
       "text": [
        "34%\r"
       ]
      },
      {
       "output_type": "stream",
       "stream": "stderr",
       "text": [
        "35%\r"
       ]
      },
      {
       "output_type": "stream",
       "stream": "stderr",
       "text": [
        "36%\r"
       ]
      },
      {
       "output_type": "stream",
       "stream": "stderr",
       "text": [
        "37%\r"
       ]
      },
      {
       "output_type": "stream",
       "stream": "stderr",
       "text": [
        "38%\r"
       ]
      },
      {
       "output_type": "stream",
       "stream": "stderr",
       "text": [
        "39%\r"
       ]
      },
      {
       "output_type": "stream",
       "stream": "stderr",
       "text": [
        "40%\r"
       ]
      },
      {
       "output_type": "stream",
       "stream": "stderr",
       "text": [
        "41%\r"
       ]
      },
      {
       "output_type": "stream",
       "stream": "stderr",
       "text": [
        "42%\r"
       ]
      },
      {
       "output_type": "stream",
       "stream": "stderr",
       "text": [
        "43%\r"
       ]
      },
      {
       "output_type": "stream",
       "stream": "stderr",
       "text": [
        "44%\r"
       ]
      },
      {
       "output_type": "stream",
       "stream": "stderr",
       "text": [
        "45%\r"
       ]
      },
      {
       "output_type": "stream",
       "stream": "stderr",
       "text": [
        "46%\r"
       ]
      },
      {
       "output_type": "stream",
       "stream": "stderr",
       "text": [
        "47%\r"
       ]
      },
      {
       "output_type": "stream",
       "stream": "stderr",
       "text": [
        "48%\r"
       ]
      },
      {
       "output_type": "stream",
       "stream": "stderr",
       "text": [
        "49%\r"
       ]
      },
      {
       "output_type": "stream",
       "stream": "stderr",
       "text": [
        "50%\r"
       ]
      },
      {
       "output_type": "stream",
       "stream": "stderr",
       "text": [
        "51%\r"
       ]
      },
      {
       "output_type": "stream",
       "stream": "stderr",
       "text": [
        "52%\r"
       ]
      },
      {
       "output_type": "stream",
       "stream": "stderr",
       "text": [
        "53%\r"
       ]
      },
      {
       "output_type": "stream",
       "stream": "stderr",
       "text": [
        "54%\r"
       ]
      },
      {
       "output_type": "stream",
       "stream": "stderr",
       "text": [
        "55%\r"
       ]
      },
      {
       "output_type": "stream",
       "stream": "stderr",
       "text": [
        "56%\r"
       ]
      },
      {
       "output_type": "stream",
       "stream": "stderr",
       "text": [
        "57%\r"
       ]
      },
      {
       "output_type": "stream",
       "stream": "stderr",
       "text": [
        "58%\r"
       ]
      },
      {
       "output_type": "stream",
       "stream": "stderr",
       "text": [
        "59%\r"
       ]
      },
      {
       "output_type": "stream",
       "stream": "stderr",
       "text": [
        "60%\r"
       ]
      },
      {
       "output_type": "stream",
       "stream": "stderr",
       "text": [
        "61%\r"
       ]
      },
      {
       "output_type": "stream",
       "stream": "stderr",
       "text": [
        "62%\r"
       ]
      },
      {
       "output_type": "stream",
       "stream": "stderr",
       "text": [
        "63%\r"
       ]
      },
      {
       "output_type": "stream",
       "stream": "stderr",
       "text": [
        "64%\r"
       ]
      },
      {
       "output_type": "stream",
       "stream": "stderr",
       "text": [
        "65%\r"
       ]
      },
      {
       "output_type": "stream",
       "stream": "stderr",
       "text": [
        "66%\r"
       ]
      },
      {
       "output_type": "stream",
       "stream": "stderr",
       "text": [
        "67%\r"
       ]
      },
      {
       "output_type": "stream",
       "stream": "stderr",
       "text": [
        "68%\r"
       ]
      },
      {
       "output_type": "stream",
       "stream": "stderr",
       "text": [
        "69%\r"
       ]
      },
      {
       "output_type": "stream",
       "stream": "stderr",
       "text": [
        "70%\r"
       ]
      },
      {
       "output_type": "stream",
       "stream": "stderr",
       "text": [
        "71%\r"
       ]
      },
      {
       "output_type": "stream",
       "stream": "stderr",
       "text": [
        "72%\r"
       ]
      },
      {
       "output_type": "stream",
       "stream": "stderr",
       "text": [
        "73%\r"
       ]
      },
      {
       "output_type": "stream",
       "stream": "stderr",
       "text": [
        "74%\r"
       ]
      },
      {
       "output_type": "stream",
       "stream": "stderr",
       "text": [
        "75%\r"
       ]
      },
      {
       "output_type": "stream",
       "stream": "stderr",
       "text": [
        "76%\r"
       ]
      },
      {
       "output_type": "stream",
       "stream": "stderr",
       "text": [
        "77%\r"
       ]
      },
      {
       "output_type": "stream",
       "stream": "stderr",
       "text": [
        "78%\r"
       ]
      },
      {
       "output_type": "stream",
       "stream": "stderr",
       "text": [
        "79%\r"
       ]
      },
      {
       "output_type": "stream",
       "stream": "stderr",
       "text": [
        "80%\r"
       ]
      },
      {
       "output_type": "stream",
       "stream": "stderr",
       "text": [
        "81%\r"
       ]
      },
      {
       "output_type": "stream",
       "stream": "stderr",
       "text": [
        "82%\r"
       ]
      },
      {
       "output_type": "stream",
       "stream": "stderr",
       "text": [
        "83%\r"
       ]
      },
      {
       "output_type": "stream",
       "stream": "stderr",
       "text": [
        "84%\r"
       ]
      },
      {
       "output_type": "stream",
       "stream": "stderr",
       "text": [
        "85%\r"
       ]
      },
      {
       "output_type": "stream",
       "stream": "stderr",
       "text": [
        "86%\r"
       ]
      },
      {
       "output_type": "stream",
       "stream": "stderr",
       "text": [
        "87%\r"
       ]
      },
      {
       "output_type": "stream",
       "stream": "stderr",
       "text": [
        "88%\r"
       ]
      },
      {
       "output_type": "stream",
       "stream": "stderr",
       "text": [
        "89%\r"
       ]
      },
      {
       "output_type": "stream",
       "stream": "stderr",
       "text": [
        "90%\r"
       ]
      },
      {
       "output_type": "stream",
       "stream": "stderr",
       "text": [
        "91%\r"
       ]
      },
      {
       "output_type": "stream",
       "stream": "stderr",
       "text": [
        "92%\r"
       ]
      },
      {
       "output_type": "stream",
       "stream": "stderr",
       "text": [
        "93%\r"
       ]
      },
      {
       "output_type": "stream",
       "stream": "stderr",
       "text": [
        "94%\r"
       ]
      },
      {
       "output_type": "stream",
       "stream": "stderr",
       "text": [
        "95%\r"
       ]
      },
      {
       "output_type": "stream",
       "stream": "stderr",
       "text": [
        "96%\r"
       ]
      },
      {
       "output_type": "stream",
       "stream": "stderr",
       "text": [
        "97%\r"
       ]
      },
      {
       "output_type": "stream",
       "stream": "stderr",
       "text": [
        "98%\r"
       ]
      },
      {
       "output_type": "stream",
       "stream": "stderr",
       "text": [
        "99%\r"
       ]
      },
      {
       "output_type": "stream",
       "stream": "stderr",
       "text": [
        "100%\r"
       ]
      },
      {
       "output_type": "stream",
       "stream": "stderr",
       "text": [
        "100%\n"
       ]
      },
      {
       "output_type": "stream",
       "stream": "stdout",
       "text": [
        "\n",
        "Epoch 1:"
       ]
      },
      {
       "output_type": "stream",
       "stream": "stderr",
       "text": [
        "1%\r"
       ]
      },
      {
       "output_type": "stream",
       "stream": "stderr",
       "text": [
        "2%\r"
       ]
      },
      {
       "output_type": "stream",
       "stream": "stderr",
       "text": [
        "3%\r"
       ]
      },
      {
       "output_type": "stream",
       "stream": "stderr",
       "text": [
        "4%\r"
       ]
      },
      {
       "output_type": "stream",
       "stream": "stderr",
       "text": [
        "5%\r"
       ]
      },
      {
       "output_type": "stream",
       "stream": "stderr",
       "text": [
        "6%\r"
       ]
      },
      {
       "output_type": "stream",
       "stream": "stderr",
       "text": [
        "7%\r"
       ]
      },
      {
       "output_type": "stream",
       "stream": "stderr",
       "text": [
        "8%\r"
       ]
      },
      {
       "output_type": "stream",
       "stream": "stderr",
       "text": [
        "9%\r"
       ]
      },
      {
       "output_type": "stream",
       "stream": "stderr",
       "text": [
        "10%\r"
       ]
      },
      {
       "output_type": "stream",
       "stream": "stderr",
       "text": [
        "11%\r"
       ]
      },
      {
       "output_type": "stream",
       "stream": "stderr",
       "text": [
        "12%\r"
       ]
      },
      {
       "output_type": "stream",
       "stream": "stderr",
       "text": [
        "13%\r"
       ]
      },
      {
       "output_type": "stream",
       "stream": "stderr",
       "text": [
        "14%\r"
       ]
      },
      {
       "output_type": "stream",
       "stream": "stderr",
       "text": [
        "15%\r"
       ]
      },
      {
       "output_type": "stream",
       "stream": "stderr",
       "text": [
        "16%\r"
       ]
      },
      {
       "output_type": "stream",
       "stream": "stderr",
       "text": [
        "17%\r"
       ]
      },
      {
       "output_type": "stream",
       "stream": "stderr",
       "text": [
        "18%\r"
       ]
      },
      {
       "output_type": "stream",
       "stream": "stderr",
       "text": [
        "19%\r"
       ]
      },
      {
       "output_type": "stream",
       "stream": "stderr",
       "text": [
        "20%\r"
       ]
      },
      {
       "output_type": "stream",
       "stream": "stderr",
       "text": [
        "21%\r"
       ]
      },
      {
       "output_type": "stream",
       "stream": "stderr",
       "text": [
        "22%\r"
       ]
      },
      {
       "output_type": "stream",
       "stream": "stderr",
       "text": [
        "23%\r"
       ]
      },
      {
       "output_type": "stream",
       "stream": "stderr",
       "text": [
        "24%\r"
       ]
      },
      {
       "output_type": "stream",
       "stream": "stderr",
       "text": [
        "25%\r"
       ]
      },
      {
       "output_type": "stream",
       "stream": "stderr",
       "text": [
        "26%\r"
       ]
      },
      {
       "output_type": "stream",
       "stream": "stderr",
       "text": [
        "27%\r"
       ]
      },
      {
       "output_type": "stream",
       "stream": "stderr",
       "text": [
        "28%\r"
       ]
      },
      {
       "output_type": "stream",
       "stream": "stderr",
       "text": [
        "29%\r"
       ]
      },
      {
       "output_type": "stream",
       "stream": "stderr",
       "text": [
        "30%\r"
       ]
      },
      {
       "output_type": "stream",
       "stream": "stderr",
       "text": [
        "31%\r"
       ]
      },
      {
       "output_type": "stream",
       "stream": "stderr",
       "text": [
        "32%\r"
       ]
      },
      {
       "output_type": "stream",
       "stream": "stderr",
       "text": [
        "33%\r"
       ]
      },
      {
       "output_type": "stream",
       "stream": "stderr",
       "text": [
        "34%\r"
       ]
      },
      {
       "output_type": "stream",
       "stream": "stderr",
       "text": [
        "35%\r"
       ]
      },
      {
       "output_type": "stream",
       "stream": "stderr",
       "text": [
        "36%\r"
       ]
      },
      {
       "output_type": "stream",
       "stream": "stderr",
       "text": [
        "37%\r"
       ]
      },
      {
       "output_type": "stream",
       "stream": "stderr",
       "text": [
        "38%\r"
       ]
      },
      {
       "output_type": "stream",
       "stream": "stderr",
       "text": [
        "39%\r"
       ]
      },
      {
       "output_type": "stream",
       "stream": "stderr",
       "text": [
        "40%\r"
       ]
      },
      {
       "output_type": "stream",
       "stream": "stderr",
       "text": [
        "41%\r"
       ]
      },
      {
       "output_type": "stream",
       "stream": "stderr",
       "text": [
        "42%\r"
       ]
      },
      {
       "output_type": "stream",
       "stream": "stderr",
       "text": [
        "43%\r"
       ]
      },
      {
       "output_type": "stream",
       "stream": "stderr",
       "text": [
        "44%\r"
       ]
      },
      {
       "output_type": "stream",
       "stream": "stderr",
       "text": [
        "45%\r"
       ]
      },
      {
       "output_type": "stream",
       "stream": "stderr",
       "text": [
        "46%\r"
       ]
      },
      {
       "output_type": "stream",
       "stream": "stderr",
       "text": [
        "47%\r"
       ]
      },
      {
       "output_type": "stream",
       "stream": "stderr",
       "text": [
        "48%\r"
       ]
      },
      {
       "output_type": "stream",
       "stream": "stderr",
       "text": [
        "49%\r"
       ]
      },
      {
       "output_type": "stream",
       "stream": "stderr",
       "text": [
        "50%\r"
       ]
      },
      {
       "output_type": "stream",
       "stream": "stderr",
       "text": [
        "51%\r"
       ]
      },
      {
       "output_type": "stream",
       "stream": "stderr",
       "text": [
        "52%\r"
       ]
      },
      {
       "output_type": "stream",
       "stream": "stderr",
       "text": [
        "53%\r"
       ]
      },
      {
       "output_type": "stream",
       "stream": "stderr",
       "text": [
        "54%\r"
       ]
      },
      {
       "output_type": "stream",
       "stream": "stderr",
       "text": [
        "55%\r"
       ]
      },
      {
       "output_type": "stream",
       "stream": "stderr",
       "text": [
        "56%\r"
       ]
      },
      {
       "output_type": "stream",
       "stream": "stderr",
       "text": [
        "57%\r"
       ]
      },
      {
       "output_type": "stream",
       "stream": "stderr",
       "text": [
        "58%\r"
       ]
      },
      {
       "output_type": "stream",
       "stream": "stderr",
       "text": [
        "59%\r"
       ]
      },
      {
       "output_type": "stream",
       "stream": "stderr",
       "text": [
        "60%\r"
       ]
      },
      {
       "output_type": "stream",
       "stream": "stderr",
       "text": [
        "61%\r"
       ]
      },
      {
       "output_type": "stream",
       "stream": "stderr",
       "text": [
        "62%\r"
       ]
      },
      {
       "output_type": "stream",
       "stream": "stderr",
       "text": [
        "63%\r"
       ]
      },
      {
       "output_type": "stream",
       "stream": "stderr",
       "text": [
        "64%\r"
       ]
      },
      {
       "output_type": "stream",
       "stream": "stderr",
       "text": [
        "65%\r"
       ]
      },
      {
       "output_type": "stream",
       "stream": "stderr",
       "text": [
        "66%\r"
       ]
      },
      {
       "output_type": "stream",
       "stream": "stderr",
       "text": [
        "67%\r"
       ]
      },
      {
       "output_type": "stream",
       "stream": "stderr",
       "text": [
        "68%\r"
       ]
      },
      {
       "output_type": "stream",
       "stream": "stderr",
       "text": [
        "69%\r"
       ]
      },
      {
       "output_type": "stream",
       "stream": "stderr",
       "text": [
        "70%\r"
       ]
      },
      {
       "output_type": "stream",
       "stream": "stderr",
       "text": [
        "71%\r"
       ]
      },
      {
       "output_type": "stream",
       "stream": "stderr",
       "text": [
        "72%\r"
       ]
      },
      {
       "output_type": "stream",
       "stream": "stderr",
       "text": [
        "73%\r"
       ]
      },
      {
       "output_type": "stream",
       "stream": "stderr",
       "text": [
        "74%\r"
       ]
      },
      {
       "output_type": "stream",
       "stream": "stderr",
       "text": [
        "75%\r"
       ]
      },
      {
       "output_type": "stream",
       "stream": "stderr",
       "text": [
        "76%\r"
       ]
      },
      {
       "output_type": "stream",
       "stream": "stderr",
       "text": [
        "77%\r"
       ]
      },
      {
       "output_type": "stream",
       "stream": "stderr",
       "text": [
        "78%\r"
       ]
      },
      {
       "output_type": "stream",
       "stream": "stderr",
       "text": [
        "79%\r"
       ]
      },
      {
       "output_type": "stream",
       "stream": "stderr",
       "text": [
        "80%\r"
       ]
      },
      {
       "output_type": "stream",
       "stream": "stderr",
       "text": [
        "81%\r"
       ]
      },
      {
       "output_type": "stream",
       "stream": "stderr",
       "text": [
        "82%\r"
       ]
      },
      {
       "output_type": "stream",
       "stream": "stderr",
       "text": [
        "83%\r"
       ]
      },
      {
       "output_type": "stream",
       "stream": "stderr",
       "text": [
        "84%\r"
       ]
      },
      {
       "output_type": "stream",
       "stream": "stderr",
       "text": [
        "85%\r"
       ]
      },
      {
       "output_type": "stream",
       "stream": "stderr",
       "text": [
        "86%\r"
       ]
      },
      {
       "output_type": "stream",
       "stream": "stderr",
       "text": [
        "87%\r"
       ]
      },
      {
       "output_type": "stream",
       "stream": "stderr",
       "text": [
        "88%\r"
       ]
      },
      {
       "output_type": "stream",
       "stream": "stderr",
       "text": [
        "89%\r"
       ]
      },
      {
       "output_type": "stream",
       "stream": "stderr",
       "text": [
        "90%\r"
       ]
      },
      {
       "output_type": "stream",
       "stream": "stderr",
       "text": [
        "91%\r"
       ]
      },
      {
       "output_type": "stream",
       "stream": "stderr",
       "text": [
        "92%\r"
       ]
      },
      {
       "output_type": "stream",
       "stream": "stderr",
       "text": [
        "93%\r"
       ]
      },
      {
       "output_type": "stream",
       "stream": "stderr",
       "text": [
        "94%\r"
       ]
      },
      {
       "output_type": "stream",
       "stream": "stderr",
       "text": [
        "95%\r"
       ]
      },
      {
       "output_type": "stream",
       "stream": "stderr",
       "text": [
        "96%\r"
       ]
      },
      {
       "output_type": "stream",
       "stream": "stderr",
       "text": [
        "97%\r"
       ]
      },
      {
       "output_type": "stream",
       "stream": "stderr",
       "text": [
        "98%\r"
       ]
      },
      {
       "output_type": "stream",
       "stream": "stderr",
       "text": [
        "99%\r"
       ]
      },
      {
       "output_type": "stream",
       "stream": "stderr",
       "text": [
        "100%\r"
       ]
      },
      {
       "output_type": "stream",
       "stream": "stderr",
       "text": [
        "100%\n"
       ]
      },
      {
       "output_type": "stream",
       "stream": "stdout",
       "text": [
        "\n",
        "  loss 0.265516034364\n",
        "  err  0.076943597561\n",
        "  (0:00:12)\n",
        "Epoch 2:"
       ]
      },
      {
       "output_type": "stream",
       "stream": "stderr",
       "text": [
        "1%\r"
       ]
      },
      {
       "output_type": "stream",
       "stream": "stderr",
       "text": [
        "2%\r"
       ]
      },
      {
       "output_type": "stream",
       "stream": "stderr",
       "text": [
        "3%\r"
       ]
      },
      {
       "output_type": "stream",
       "stream": "stderr",
       "text": [
        "4%\r"
       ]
      },
      {
       "output_type": "stream",
       "stream": "stderr",
       "text": [
        "5%\r"
       ]
      },
      {
       "output_type": "stream",
       "stream": "stderr",
       "text": [
        "6%\r"
       ]
      },
      {
       "output_type": "stream",
       "stream": "stderr",
       "text": [
        "7%\r"
       ]
      },
      {
       "output_type": "stream",
       "stream": "stderr",
       "text": [
        "8%\r"
       ]
      },
      {
       "output_type": "stream",
       "stream": "stderr",
       "text": [
        "9%\r"
       ]
      },
      {
       "output_type": "stream",
       "stream": "stderr",
       "text": [
        "10%\r"
       ]
      },
      {
       "output_type": "stream",
       "stream": "stderr",
       "text": [
        "11%\r"
       ]
      },
      {
       "output_type": "stream",
       "stream": "stderr",
       "text": [
        "12%\r"
       ]
      },
      {
       "output_type": "stream",
       "stream": "stderr",
       "text": [
        "13%\r"
       ]
      },
      {
       "output_type": "stream",
       "stream": "stderr",
       "text": [
        "14%\r"
       ]
      },
      {
       "output_type": "stream",
       "stream": "stderr",
       "text": [
        "15%\r"
       ]
      },
      {
       "output_type": "stream",
       "stream": "stderr",
       "text": [
        "16%\r"
       ]
      },
      {
       "output_type": "stream",
       "stream": "stderr",
       "text": [
        "17%\r"
       ]
      },
      {
       "output_type": "stream",
       "stream": "stderr",
       "text": [
        "18%\r"
       ]
      },
      {
       "output_type": "stream",
       "stream": "stderr",
       "text": [
        "19%\r"
       ]
      },
      {
       "output_type": "stream",
       "stream": "stderr",
       "text": [
        "20%\r"
       ]
      },
      {
       "output_type": "stream",
       "stream": "stderr",
       "text": [
        "21%\r"
       ]
      },
      {
       "output_type": "stream",
       "stream": "stderr",
       "text": [
        "22%\r"
       ]
      },
      {
       "output_type": "stream",
       "stream": "stderr",
       "text": [
        "23%\r"
       ]
      },
      {
       "output_type": "stream",
       "stream": "stderr",
       "text": [
        "24%\r"
       ]
      },
      {
       "output_type": "stream",
       "stream": "stderr",
       "text": [
        "25%\r"
       ]
      },
      {
       "output_type": "stream",
       "stream": "stderr",
       "text": [
        "26%\r"
       ]
      },
      {
       "output_type": "stream",
       "stream": "stderr",
       "text": [
        "27%\r"
       ]
      },
      {
       "output_type": "stream",
       "stream": "stderr",
       "text": [
        "28%\r"
       ]
      },
      {
       "output_type": "stream",
       "stream": "stderr",
       "text": [
        "29%\r"
       ]
      },
      {
       "output_type": "stream",
       "stream": "stderr",
       "text": [
        "30%\r"
       ]
      },
      {
       "output_type": "stream",
       "stream": "stderr",
       "text": [
        "31%\r"
       ]
      },
      {
       "output_type": "stream",
       "stream": "stderr",
       "text": [
        "32%\r"
       ]
      },
      {
       "output_type": "stream",
       "stream": "stderr",
       "text": [
        "33%\r"
       ]
      },
      {
       "output_type": "stream",
       "stream": "stderr",
       "text": [
        "34%\r"
       ]
      },
      {
       "output_type": "stream",
       "stream": "stderr",
       "text": [
        "35%\r"
       ]
      },
      {
       "output_type": "stream",
       "stream": "stderr",
       "text": [
        "36%\r"
       ]
      },
      {
       "output_type": "stream",
       "stream": "stderr",
       "text": [
        "37%\r"
       ]
      },
      {
       "output_type": "stream",
       "stream": "stderr",
       "text": [
        "38%\r"
       ]
      },
      {
       "output_type": "stream",
       "stream": "stderr",
       "text": [
        "39%\r"
       ]
      },
      {
       "output_type": "stream",
       "stream": "stderr",
       "text": [
        "40%\r"
       ]
      },
      {
       "output_type": "stream",
       "stream": "stderr",
       "text": [
        "41%\r"
       ]
      },
      {
       "output_type": "stream",
       "stream": "stderr",
       "text": [
        "42%\r"
       ]
      },
      {
       "output_type": "stream",
       "stream": "stderr",
       "text": [
        "43%\r"
       ]
      },
      {
       "output_type": "stream",
       "stream": "stderr",
       "text": [
        "44%\r"
       ]
      },
      {
       "output_type": "stream",
       "stream": "stderr",
       "text": [
        "45%\r"
       ]
      },
      {
       "output_type": "stream",
       "stream": "stderr",
       "text": [
        "46%\r"
       ]
      },
      {
       "output_type": "stream",
       "stream": "stderr",
       "text": [
        "47%\r"
       ]
      },
      {
       "output_type": "stream",
       "stream": "stderr",
       "text": [
        "48%\r"
       ]
      },
      {
       "output_type": "stream",
       "stream": "stderr",
       "text": [
        "49%\r"
       ]
      },
      {
       "output_type": "stream",
       "stream": "stderr",
       "text": [
        "50%\r"
       ]
      },
      {
       "output_type": "stream",
       "stream": "stderr",
       "text": [
        "51%\r"
       ]
      },
      {
       "output_type": "stream",
       "stream": "stderr",
       "text": [
        "52%\r"
       ]
      },
      {
       "output_type": "stream",
       "stream": "stderr",
       "text": [
        "53%\r"
       ]
      },
      {
       "output_type": "stream",
       "stream": "stderr",
       "text": [
        "54%\r"
       ]
      },
      {
       "output_type": "stream",
       "stream": "stderr",
       "text": [
        "55%\r"
       ]
      },
      {
       "output_type": "stream",
       "stream": "stderr",
       "text": [
        "56%\r"
       ]
      },
      {
       "output_type": "stream",
       "stream": "stderr",
       "text": [
        "57%\r"
       ]
      },
      {
       "output_type": "stream",
       "stream": "stderr",
       "text": [
        "58%\r"
       ]
      },
      {
       "output_type": "stream",
       "stream": "stderr",
       "text": [
        "59%\r"
       ]
      },
      {
       "output_type": "stream",
       "stream": "stderr",
       "text": [
        "60%\r"
       ]
      },
      {
       "output_type": "stream",
       "stream": "stderr",
       "text": [
        "61%\r"
       ]
      },
      {
       "output_type": "stream",
       "stream": "stderr",
       "text": [
        "62%\r"
       ]
      },
      {
       "output_type": "stream",
       "stream": "stderr",
       "text": [
        "63%\r"
       ]
      },
      {
       "output_type": "stream",
       "stream": "stderr",
       "text": [
        "64%\r"
       ]
      },
      {
       "output_type": "stream",
       "stream": "stderr",
       "text": [
        "65%\r"
       ]
      },
      {
       "output_type": "stream",
       "stream": "stderr",
       "text": [
        "66%\r"
       ]
      },
      {
       "output_type": "stream",
       "stream": "stderr",
       "text": [
        "67%\r"
       ]
      },
      {
       "output_type": "stream",
       "stream": "stderr",
       "text": [
        "68%\r"
       ]
      },
      {
       "output_type": "stream",
       "stream": "stderr",
       "text": [
        "69%\r"
       ]
      },
      {
       "output_type": "stream",
       "stream": "stderr",
       "text": [
        "70%\r"
       ]
      },
      {
       "output_type": "stream",
       "stream": "stderr",
       "text": [
        "71%\r"
       ]
      },
      {
       "output_type": "stream",
       "stream": "stderr",
       "text": [
        "72%\r"
       ]
      },
      {
       "output_type": "stream",
       "stream": "stderr",
       "text": [
        "73%\r"
       ]
      },
      {
       "output_type": "stream",
       "stream": "stderr",
       "text": [
        "74%\r"
       ]
      },
      {
       "output_type": "stream",
       "stream": "stderr",
       "text": [
        "75%\r"
       ]
      },
      {
       "output_type": "stream",
       "stream": "stderr",
       "text": [
        "76%\r"
       ]
      },
      {
       "output_type": "stream",
       "stream": "stderr",
       "text": [
        "77%\r"
       ]
      },
      {
       "output_type": "stream",
       "stream": "stderr",
       "text": [
        "78%\r"
       ]
      },
      {
       "output_type": "stream",
       "stream": "stderr",
       "text": [
        "79%\r"
       ]
      },
      {
       "output_type": "stream",
       "stream": "stderr",
       "text": [
        "80%\r"
       ]
      },
      {
       "output_type": "stream",
       "stream": "stderr",
       "text": [
        "81%\r"
       ]
      },
      {
       "output_type": "stream",
       "stream": "stderr",
       "text": [
        "82%\r"
       ]
      },
      {
       "output_type": "stream",
       "stream": "stderr",
       "text": [
        "83%\r"
       ]
      },
      {
       "output_type": "stream",
       "stream": "stderr",
       "text": [
        "84%\r"
       ]
      },
      {
       "output_type": "stream",
       "stream": "stderr",
       "text": [
        "85%\r"
       ]
      },
      {
       "output_type": "stream",
       "stream": "stderr",
       "text": [
        "86%\r"
       ]
      },
      {
       "output_type": "stream",
       "stream": "stderr",
       "text": [
        "87%\r"
       ]
      },
      {
       "output_type": "stream",
       "stream": "stderr",
       "text": [
        "88%\r"
       ]
      },
      {
       "output_type": "stream",
       "stream": "stderr",
       "text": [
        "89%\r"
       ]
      },
      {
       "output_type": "stream",
       "stream": "stderr",
       "text": [
        "90%\r"
       ]
      },
      {
       "output_type": "stream",
       "stream": "stderr",
       "text": [
        "91%\r"
       ]
      },
      {
       "output_type": "stream",
       "stream": "stderr",
       "text": [
        "92%\r"
       ]
      },
      {
       "output_type": "stream",
       "stream": "stderr",
       "text": [
        "93%\r"
       ]
      },
      {
       "output_type": "stream",
       "stream": "stderr",
       "text": [
        "94%\r"
       ]
      },
      {
       "output_type": "stream",
       "stream": "stderr",
       "text": [
        "95%\r"
       ]
      },
      {
       "output_type": "stream",
       "stream": "stderr",
       "text": [
        "96%\r"
       ]
      },
      {
       "output_type": "stream",
       "stream": "stderr",
       "text": [
        "97%\r"
       ]
      },
      {
       "output_type": "stream",
       "stream": "stderr",
       "text": [
        "98%\r"
       ]
      },
      {
       "output_type": "stream",
       "stream": "stderr",
       "text": [
        "99%\r"
       ]
      },
      {
       "output_type": "stream",
       "stream": "stderr",
       "text": [
        "100%\r"
       ]
      },
      {
       "output_type": "stream",
       "stream": "stderr",
       "text": [
        "100%\n"
       ]
      },
      {
       "output_type": "stream",
       "stream": "stdout",
       "text": [
        "\n",
        "  loss 0.165574903431\n",
        "  err  0.0471227134146\n",
        "  (0:00:10)\n",
        "Epoch 3:"
       ]
      },
      {
       "output_type": "stream",
       "stream": "stderr",
       "text": [
        "1%\r"
       ]
      },
      {
       "output_type": "stream",
       "stream": "stderr",
       "text": [
        "2%\r"
       ]
      },
      {
       "output_type": "stream",
       "stream": "stderr",
       "text": [
        "3%\r"
       ]
      },
      {
       "output_type": "stream",
       "stream": "stderr",
       "text": [
        "4%\r"
       ]
      },
      {
       "output_type": "stream",
       "stream": "stderr",
       "text": [
        "5%\r"
       ]
      },
      {
       "output_type": "stream",
       "stream": "stderr",
       "text": [
        "6%\r"
       ]
      },
      {
       "output_type": "stream",
       "stream": "stderr",
       "text": [
        "7%\r"
       ]
      },
      {
       "output_type": "stream",
       "stream": "stderr",
       "text": [
        "8%\r"
       ]
      },
      {
       "output_type": "stream",
       "stream": "stderr",
       "text": [
        "9%\r"
       ]
      },
      {
       "output_type": "stream",
       "stream": "stderr",
       "text": [
        "10%\r"
       ]
      },
      {
       "output_type": "stream",
       "stream": "stderr",
       "text": [
        "11%\r"
       ]
      },
      {
       "output_type": "stream",
       "stream": "stderr",
       "text": [
        "12%\r"
       ]
      },
      {
       "output_type": "stream",
       "stream": "stderr",
       "text": [
        "13%\r"
       ]
      },
      {
       "output_type": "stream",
       "stream": "stderr",
       "text": [
        "14%\r"
       ]
      },
      {
       "output_type": "stream",
       "stream": "stderr",
       "text": [
        "15%\r"
       ]
      },
      {
       "output_type": "stream",
       "stream": "stderr",
       "text": [
        "16%\r"
       ]
      },
      {
       "output_type": "stream",
       "stream": "stderr",
       "text": [
        "17%\r"
       ]
      },
      {
       "output_type": "stream",
       "stream": "stderr",
       "text": [
        "18%\r"
       ]
      },
      {
       "output_type": "stream",
       "stream": "stderr",
       "text": [
        "19%\r"
       ]
      },
      {
       "output_type": "stream",
       "stream": "stderr",
       "text": [
        "20%\r"
       ]
      },
      {
       "output_type": "stream",
       "stream": "stderr",
       "text": [
        "21%\r"
       ]
      },
      {
       "output_type": "stream",
       "stream": "stderr",
       "text": [
        "22%\r"
       ]
      },
      {
       "output_type": "stream",
       "stream": "stderr",
       "text": [
        "23%\r"
       ]
      },
      {
       "output_type": "stream",
       "stream": "stderr",
       "text": [
        "24%\r"
       ]
      },
      {
       "output_type": "stream",
       "stream": "stderr",
       "text": [
        "25%\r"
       ]
      },
      {
       "output_type": "stream",
       "stream": "stderr",
       "text": [
        "26%\r"
       ]
      },
      {
       "output_type": "stream",
       "stream": "stderr",
       "text": [
        "27%\r"
       ]
      },
      {
       "output_type": "stream",
       "stream": "stderr",
       "text": [
        "28%\r"
       ]
      },
      {
       "output_type": "stream",
       "stream": "stderr",
       "text": [
        "29%\r"
       ]
      },
      {
       "output_type": "stream",
       "stream": "stderr",
       "text": [
        "30%\r"
       ]
      },
      {
       "output_type": "stream",
       "stream": "stderr",
       "text": [
        "31%\r"
       ]
      },
      {
       "output_type": "stream",
       "stream": "stderr",
       "text": [
        "32%\r"
       ]
      },
      {
       "output_type": "stream",
       "stream": "stderr",
       "text": [
        "33%\r"
       ]
      },
      {
       "output_type": "stream",
       "stream": "stderr",
       "text": [
        "34%\r"
       ]
      },
      {
       "output_type": "stream",
       "stream": "stderr",
       "text": [
        "35%\r"
       ]
      },
      {
       "output_type": "stream",
       "stream": "stderr",
       "text": [
        "36%\r"
       ]
      },
      {
       "output_type": "stream",
       "stream": "stderr",
       "text": [
        "37%\r"
       ]
      },
      {
       "output_type": "stream",
       "stream": "stderr",
       "text": [
        "38%\r"
       ]
      },
      {
       "output_type": "stream",
       "stream": "stderr",
       "text": [
        "39%\r"
       ]
      },
      {
       "output_type": "stream",
       "stream": "stderr",
       "text": [
        "40%\r"
       ]
      },
      {
       "output_type": "stream",
       "stream": "stderr",
       "text": [
        "41%\r"
       ]
      },
      {
       "output_type": "stream",
       "stream": "stderr",
       "text": [
        "42%\r"
       ]
      },
      {
       "output_type": "stream",
       "stream": "stderr",
       "text": [
        "43%\r"
       ]
      },
      {
       "output_type": "stream",
       "stream": "stderr",
       "text": [
        "44%\r"
       ]
      },
      {
       "output_type": "stream",
       "stream": "stderr",
       "text": [
        "45%\r"
       ]
      },
      {
       "output_type": "stream",
       "stream": "stderr",
       "text": [
        "46%\r"
       ]
      },
      {
       "output_type": "stream",
       "stream": "stderr",
       "text": [
        "47%\r"
       ]
      },
      {
       "output_type": "stream",
       "stream": "stderr",
       "text": [
        "48%\r"
       ]
      },
      {
       "output_type": "stream",
       "stream": "stderr",
       "text": [
        "49%\r"
       ]
      },
      {
       "output_type": "stream",
       "stream": "stderr",
       "text": [
        "50%\r"
       ]
      },
      {
       "output_type": "stream",
       "stream": "stderr",
       "text": [
        "51%\r"
       ]
      },
      {
       "output_type": "stream",
       "stream": "stderr",
       "text": [
        "52%\r"
       ]
      },
      {
       "output_type": "stream",
       "stream": "stderr",
       "text": [
        "53%\r"
       ]
      },
      {
       "output_type": "stream",
       "stream": "stderr",
       "text": [
        "54%\r"
       ]
      },
      {
       "output_type": "stream",
       "stream": "stderr",
       "text": [
        "55%\r"
       ]
      },
      {
       "output_type": "stream",
       "stream": "stderr",
       "text": [
        "56%\r"
       ]
      },
      {
       "output_type": "stream",
       "stream": "stderr",
       "text": [
        "57%\r"
       ]
      },
      {
       "output_type": "stream",
       "stream": "stderr",
       "text": [
        "58%\r"
       ]
      },
      {
       "output_type": "stream",
       "stream": "stderr",
       "text": [
        "59%\r"
       ]
      },
      {
       "output_type": "stream",
       "stream": "stderr",
       "text": [
        "60%\r"
       ]
      },
      {
       "output_type": "stream",
       "stream": "stderr",
       "text": [
        "61%\r"
       ]
      },
      {
       "output_type": "stream",
       "stream": "stderr",
       "text": [
        "62%\r"
       ]
      },
      {
       "output_type": "stream",
       "stream": "stderr",
       "text": [
        "63%\r"
       ]
      },
      {
       "output_type": "stream",
       "stream": "stderr",
       "text": [
        "64%\r"
       ]
      },
      {
       "output_type": "stream",
       "stream": "stderr",
       "text": [
        "65%\r"
       ]
      },
      {
       "output_type": "stream",
       "stream": "stderr",
       "text": [
        "66%\r"
       ]
      },
      {
       "output_type": "stream",
       "stream": "stderr",
       "text": [
        "67%\r"
       ]
      },
      {
       "output_type": "stream",
       "stream": "stderr",
       "text": [
        "68%\r"
       ]
      },
      {
       "output_type": "stream",
       "stream": "stderr",
       "text": [
        "69%\r"
       ]
      },
      {
       "output_type": "stream",
       "stream": "stderr",
       "text": [
        "70%\r"
       ]
      },
      {
       "output_type": "stream",
       "stream": "stderr",
       "text": [
        "71%\r"
       ]
      },
      {
       "output_type": "stream",
       "stream": "stderr",
       "text": [
        "72%\r"
       ]
      },
      {
       "output_type": "stream",
       "stream": "stderr",
       "text": [
        "73%\r"
       ]
      },
      {
       "output_type": "stream",
       "stream": "stderr",
       "text": [
        "74%\r"
       ]
      },
      {
       "output_type": "stream",
       "stream": "stderr",
       "text": [
        "75%\r"
       ]
      },
      {
       "output_type": "stream",
       "stream": "stderr",
       "text": [
        "76%\r"
       ]
      },
      {
       "output_type": "stream",
       "stream": "stderr",
       "text": [
        "77%\r"
       ]
      },
      {
       "output_type": "stream",
       "stream": "stderr",
       "text": [
        "78%\r"
       ]
      },
      {
       "output_type": "stream",
       "stream": "stderr",
       "text": [
        "79%\r"
       ]
      },
      {
       "output_type": "stream",
       "stream": "stderr",
       "text": [
        "80%\r"
       ]
      },
      {
       "output_type": "stream",
       "stream": "stderr",
       "text": [
        "81%\r"
       ]
      },
      {
       "output_type": "stream",
       "stream": "stderr",
       "text": [
        "82%\r"
       ]
      },
      {
       "output_type": "stream",
       "stream": "stderr",
       "text": [
        "83%\r"
       ]
      },
      {
       "output_type": "stream",
       "stream": "stderr",
       "text": [
        "84%\r"
       ]
      },
      {
       "output_type": "stream",
       "stream": "stderr",
       "text": [
        "85%\r"
       ]
      },
      {
       "output_type": "stream",
       "stream": "stderr",
       "text": [
        "86%\r"
       ]
      },
      {
       "output_type": "stream",
       "stream": "stderr",
       "text": [
        "87%\r"
       ]
      },
      {
       "output_type": "stream",
       "stream": "stderr",
       "text": [
        "88%\r"
       ]
      },
      {
       "output_type": "stream",
       "stream": "stderr",
       "text": [
        "89%\r"
       ]
      },
      {
       "output_type": "stream",
       "stream": "stderr",
       "text": [
        "90%\r"
       ]
      },
      {
       "output_type": "stream",
       "stream": "stderr",
       "text": [
        "91%\r"
       ]
      },
      {
       "output_type": "stream",
       "stream": "stderr",
       "text": [
        "92%\r"
       ]
      },
      {
       "output_type": "stream",
       "stream": "stderr",
       "text": [
        "93%\r"
       ]
      },
      {
       "output_type": "stream",
       "stream": "stderr",
       "text": [
        "94%\r"
       ]
      },
      {
       "output_type": "stream",
       "stream": "stderr",
       "text": [
        "95%\r"
       ]
      },
      {
       "output_type": "stream",
       "stream": "stderr",
       "text": [
        "96%\r"
       ]
      },
      {
       "output_type": "stream",
       "stream": "stderr",
       "text": [
        "97%\r"
       ]
      },
      {
       "output_type": "stream",
       "stream": "stderr",
       "text": [
        "98%\r"
       ]
      },
      {
       "output_type": "stream",
       "stream": "stderr",
       "text": [
        "99%\r"
       ]
      },
      {
       "output_type": "stream",
       "stream": "stderr",
       "text": [
        "100%\r"
       ]
      },
      {
       "output_type": "stream",
       "stream": "stderr",
       "text": [
        "100%\n"
       ]
      },
      {
       "output_type": "stream",
       "stream": "stdout",
       "text": [
        "\n",
        "  loss 0.122678413504\n",
        "  err  0.0354039634146\n",
        "  (0:00:11)\n",
        "Epoch 4:"
       ]
      },
      {
       "output_type": "stream",
       "stream": "stderr",
       "text": [
        "1%\r"
       ]
      },
      {
       "output_type": "stream",
       "stream": "stderr",
       "text": [
        "2%\r"
       ]
      },
      {
       "output_type": "stream",
       "stream": "stderr",
       "text": [
        "3%\r"
       ]
      },
      {
       "output_type": "stream",
       "stream": "stderr",
       "text": [
        "4%\r"
       ]
      },
      {
       "output_type": "stream",
       "stream": "stderr",
       "text": [
        "5%\r"
       ]
      },
      {
       "output_type": "stream",
       "stream": "stderr",
       "text": [
        "6%\r"
       ]
      },
      {
       "output_type": "stream",
       "stream": "stderr",
       "text": [
        "7%\r"
       ]
      },
      {
       "output_type": "stream",
       "stream": "stderr",
       "text": [
        "8%\r"
       ]
      },
      {
       "output_type": "stream",
       "stream": "stderr",
       "text": [
        "9%\r"
       ]
      },
      {
       "output_type": "stream",
       "stream": "stderr",
       "text": [
        "10%\r"
       ]
      },
      {
       "output_type": "stream",
       "stream": "stderr",
       "text": [
        "11%\r"
       ]
      },
      {
       "output_type": "stream",
       "stream": "stderr",
       "text": [
        "12%\r"
       ]
      },
      {
       "output_type": "stream",
       "stream": "stderr",
       "text": [
        "13%\r"
       ]
      },
      {
       "output_type": "stream",
       "stream": "stderr",
       "text": [
        "14%\r"
       ]
      },
      {
       "output_type": "stream",
       "stream": "stderr",
       "text": [
        "15%\r"
       ]
      },
      {
       "output_type": "stream",
       "stream": "stderr",
       "text": [
        "16%\r"
       ]
      },
      {
       "output_type": "stream",
       "stream": "stderr",
       "text": [
        "17%\r"
       ]
      },
      {
       "output_type": "stream",
       "stream": "stderr",
       "text": [
        "18%\r"
       ]
      },
      {
       "output_type": "stream",
       "stream": "stderr",
       "text": [
        "19%\r"
       ]
      },
      {
       "output_type": "stream",
       "stream": "stderr",
       "text": [
        "20%\r"
       ]
      },
      {
       "output_type": "stream",
       "stream": "stderr",
       "text": [
        "21%\r"
       ]
      },
      {
       "output_type": "stream",
       "stream": "stderr",
       "text": [
        "22%\r"
       ]
      },
      {
       "output_type": "stream",
       "stream": "stderr",
       "text": [
        "23%\r"
       ]
      },
      {
       "output_type": "stream",
       "stream": "stderr",
       "text": [
        "24%\r"
       ]
      },
      {
       "output_type": "stream",
       "stream": "stderr",
       "text": [
        "25%\r"
       ]
      },
      {
       "output_type": "stream",
       "stream": "stderr",
       "text": [
        "26%\r"
       ]
      },
      {
       "output_type": "stream",
       "stream": "stderr",
       "text": [
        "27%\r"
       ]
      },
      {
       "output_type": "stream",
       "stream": "stderr",
       "text": [
        "28%\r"
       ]
      },
      {
       "output_type": "stream",
       "stream": "stderr",
       "text": [
        "29%\r"
       ]
      },
      {
       "output_type": "stream",
       "stream": "stderr",
       "text": [
        "30%\r"
       ]
      },
      {
       "output_type": "stream",
       "stream": "stderr",
       "text": [
        "31%\r"
       ]
      },
      {
       "output_type": "stream",
       "stream": "stderr",
       "text": [
        "32%\r"
       ]
      },
      {
       "output_type": "stream",
       "stream": "stderr",
       "text": [
        "33%\r"
       ]
      },
      {
       "output_type": "stream",
       "stream": "stderr",
       "text": [
        "34%\r"
       ]
      },
      {
       "output_type": "stream",
       "stream": "stderr",
       "text": [
        "35%\r"
       ]
      },
      {
       "output_type": "stream",
       "stream": "stderr",
       "text": [
        "36%\r"
       ]
      },
      {
       "output_type": "stream",
       "stream": "stderr",
       "text": [
        "37%\r"
       ]
      },
      {
       "output_type": "stream",
       "stream": "stderr",
       "text": [
        "38%\r"
       ]
      },
      {
       "output_type": "stream",
       "stream": "stderr",
       "text": [
        "39%\r"
       ]
      },
      {
       "output_type": "stream",
       "stream": "stderr",
       "text": [
        "40%\r"
       ]
      },
      {
       "output_type": "stream",
       "stream": "stderr",
       "text": [
        "41%\r"
       ]
      },
      {
       "output_type": "stream",
       "stream": "stderr",
       "text": [
        "42%\r"
       ]
      },
      {
       "output_type": "stream",
       "stream": "stderr",
       "text": [
        "43%\r"
       ]
      },
      {
       "output_type": "stream",
       "stream": "stderr",
       "text": [
        "44%\r"
       ]
      },
      {
       "output_type": "stream",
       "stream": "stderr",
       "text": [
        "45%\r"
       ]
      },
      {
       "output_type": "stream",
       "stream": "stderr",
       "text": [
        "46%\r"
       ]
      },
      {
       "output_type": "stream",
       "stream": "stderr",
       "text": [
        "47%\r"
       ]
      },
      {
       "output_type": "stream",
       "stream": "stderr",
       "text": [
        "48%\r"
       ]
      },
      {
       "output_type": "stream",
       "stream": "stderr",
       "text": [
        "49%\r"
       ]
      },
      {
       "output_type": "stream",
       "stream": "stderr",
       "text": [
        "50%\r"
       ]
      },
      {
       "output_type": "stream",
       "stream": "stderr",
       "text": [
        "51%\r"
       ]
      },
      {
       "output_type": "stream",
       "stream": "stderr",
       "text": [
        "52%\r"
       ]
      },
      {
       "output_type": "stream",
       "stream": "stderr",
       "text": [
        "53%\r"
       ]
      },
      {
       "output_type": "stream",
       "stream": "stderr",
       "text": [
        "54%\r"
       ]
      },
      {
       "output_type": "stream",
       "stream": "stderr",
       "text": [
        "55%\r"
       ]
      },
      {
       "output_type": "stream",
       "stream": "stderr",
       "text": [
        "56%\r"
       ]
      },
      {
       "output_type": "stream",
       "stream": "stderr",
       "text": [
        "57%\r"
       ]
      },
      {
       "output_type": "stream",
       "stream": "stderr",
       "text": [
        "58%\r"
       ]
      },
      {
       "output_type": "stream",
       "stream": "stderr",
       "text": [
        "59%\r"
       ]
      },
      {
       "output_type": "stream",
       "stream": "stderr",
       "text": [
        "60%\r"
       ]
      },
      {
       "output_type": "stream",
       "stream": "stderr",
       "text": [
        "61%\r"
       ]
      },
      {
       "output_type": "stream",
       "stream": "stderr",
       "text": [
        "62%\r"
       ]
      },
      {
       "output_type": "stream",
       "stream": "stderr",
       "text": [
        "63%\r"
       ]
      },
      {
       "output_type": "stream",
       "stream": "stderr",
       "text": [
        "64%\r"
       ]
      },
      {
       "output_type": "stream",
       "stream": "stderr",
       "text": [
        "65%\r"
       ]
      },
      {
       "output_type": "stream",
       "stream": "stderr",
       "text": [
        "66%\r"
       ]
      },
      {
       "output_type": "stream",
       "stream": "stderr",
       "text": [
        "67%\r"
       ]
      },
      {
       "output_type": "stream",
       "stream": "stderr",
       "text": [
        "68%\r"
       ]
      },
      {
       "output_type": "stream",
       "stream": "stderr",
       "text": [
        "69%\r"
       ]
      },
      {
       "output_type": "stream",
       "stream": "stderr",
       "text": [
        "70%\r"
       ]
      },
      {
       "output_type": "stream",
       "stream": "stderr",
       "text": [
        "71%\r"
       ]
      },
      {
       "output_type": "stream",
       "stream": "stderr",
       "text": [
        "72%\r"
       ]
      },
      {
       "output_type": "stream",
       "stream": "stderr",
       "text": [
        "73%\r"
       ]
      },
      {
       "output_type": "stream",
       "stream": "stderr",
       "text": [
        "74%\r"
       ]
      },
      {
       "output_type": "stream",
       "stream": "stderr",
       "text": [
        "75%\r"
       ]
      },
      {
       "output_type": "stream",
       "stream": "stderr",
       "text": [
        "76%\r"
       ]
      },
      {
       "output_type": "stream",
       "stream": "stderr",
       "text": [
        "77%\r"
       ]
      },
      {
       "output_type": "stream",
       "stream": "stderr",
       "text": [
        "78%\r"
       ]
      },
      {
       "output_type": "stream",
       "stream": "stderr",
       "text": [
        "79%\r"
       ]
      },
      {
       "output_type": "stream",
       "stream": "stderr",
       "text": [
        "80%\r"
       ]
      },
      {
       "output_type": "stream",
       "stream": "stderr",
       "text": [
        "81%\r"
       ]
      },
      {
       "output_type": "stream",
       "stream": "stderr",
       "text": [
        "82%\r"
       ]
      },
      {
       "output_type": "stream",
       "stream": "stderr",
       "text": [
        "83%\r"
       ]
      },
      {
       "output_type": "stream",
       "stream": "stderr",
       "text": [
        "84%\r"
       ]
      },
      {
       "output_type": "stream",
       "stream": "stderr",
       "text": [
        "85%\r"
       ]
      },
      {
       "output_type": "stream",
       "stream": "stderr",
       "text": [
        "86%\r"
       ]
      },
      {
       "output_type": "stream",
       "stream": "stderr",
       "text": [
        "87%\r"
       ]
      },
      {
       "output_type": "stream",
       "stream": "stderr",
       "text": [
        "88%\r"
       ]
      },
      {
       "output_type": "stream",
       "stream": "stderr",
       "text": [
        "89%\r"
       ]
      },
      {
       "output_type": "stream",
       "stream": "stderr",
       "text": [
        "90%\r"
       ]
      },
      {
       "output_type": "stream",
       "stream": "stderr",
       "text": [
        "91%\r"
       ]
      },
      {
       "output_type": "stream",
       "stream": "stderr",
       "text": [
        "92%\r"
       ]
      },
      {
       "output_type": "stream",
       "stream": "stderr",
       "text": [
        "93%\r"
       ]
      },
      {
       "output_type": "stream",
       "stream": "stderr",
       "text": [
        "94%\r"
       ]
      },
      {
       "output_type": "stream",
       "stream": "stderr",
       "text": [
        "95%\r"
       ]
      },
      {
       "output_type": "stream",
       "stream": "stderr",
       "text": [
        "96%\r"
       ]
      },
      {
       "output_type": "stream",
       "stream": "stderr",
       "text": [
        "97%\r"
       ]
      },
      {
       "output_type": "stream",
       "stream": "stderr",
       "text": [
        "98%\r"
       ]
      },
      {
       "output_type": "stream",
       "stream": "stderr",
       "text": [
        "99%\r"
       ]
      },
      {
       "output_type": "stream",
       "stream": "stderr",
       "text": [
        "100%\r"
       ]
      },
      {
       "output_type": "stream",
       "stream": "stderr",
       "text": [
        "100%\n"
       ]
      },
      {
       "output_type": "stream",
       "stream": "stdout",
       "text": [
        "\n",
        "  loss 0.0909700468391\n",
        "  err  0.0272675304878\n",
        "  (0:00:10)\n",
        "Epoch 5:"
       ]
      },
      {
       "output_type": "stream",
       "stream": "stderr",
       "text": [
        "1%\r"
       ]
      },
      {
       "output_type": "stream",
       "stream": "stderr",
       "text": [
        "2%\r"
       ]
      },
      {
       "output_type": "stream",
       "stream": "stderr",
       "text": [
        "3%\r"
       ]
      },
      {
       "output_type": "stream",
       "stream": "stderr",
       "text": [
        "4%\r"
       ]
      },
      {
       "output_type": "stream",
       "stream": "stderr",
       "text": [
        "5%\r"
       ]
      },
      {
       "output_type": "stream",
       "stream": "stderr",
       "text": [
        "6%\r"
       ]
      },
      {
       "output_type": "stream",
       "stream": "stderr",
       "text": [
        "7%\r"
       ]
      },
      {
       "output_type": "stream",
       "stream": "stderr",
       "text": [
        "8%\r"
       ]
      },
      {
       "output_type": "stream",
       "stream": "stderr",
       "text": [
        "9%\r"
       ]
      },
      {
       "output_type": "stream",
       "stream": "stderr",
       "text": [
        "10%\r"
       ]
      },
      {
       "output_type": "stream",
       "stream": "stderr",
       "text": [
        "11%\r"
       ]
      },
      {
       "output_type": "stream",
       "stream": "stderr",
       "text": [
        "12%\r"
       ]
      },
      {
       "output_type": "stream",
       "stream": "stderr",
       "text": [
        "13%\r"
       ]
      },
      {
       "output_type": "stream",
       "stream": "stderr",
       "text": [
        "14%\r"
       ]
      },
      {
       "output_type": "stream",
       "stream": "stderr",
       "text": [
        "15%\r"
       ]
      },
      {
       "output_type": "stream",
       "stream": "stderr",
       "text": [
        "16%\r"
       ]
      },
      {
       "output_type": "stream",
       "stream": "stderr",
       "text": [
        "17%\r"
       ]
      },
      {
       "output_type": "stream",
       "stream": "stderr",
       "text": [
        "18%\r"
       ]
      },
      {
       "output_type": "stream",
       "stream": "stderr",
       "text": [
        "19%\r"
       ]
      },
      {
       "output_type": "stream",
       "stream": "stderr",
       "text": [
        "20%\r"
       ]
      },
      {
       "output_type": "stream",
       "stream": "stderr",
       "text": [
        "21%\r"
       ]
      },
      {
       "output_type": "stream",
       "stream": "stderr",
       "text": [
        "22%\r"
       ]
      },
      {
       "output_type": "stream",
       "stream": "stderr",
       "text": [
        "23%\r"
       ]
      },
      {
       "output_type": "stream",
       "stream": "stderr",
       "text": [
        "24%\r"
       ]
      },
      {
       "output_type": "stream",
       "stream": "stderr",
       "text": [
        "25%\r"
       ]
      },
      {
       "output_type": "stream",
       "stream": "stderr",
       "text": [
        "26%\r"
       ]
      },
      {
       "output_type": "stream",
       "stream": "stderr",
       "text": [
        "27%\r"
       ]
      },
      {
       "output_type": "stream",
       "stream": "stderr",
       "text": [
        "28%\r"
       ]
      },
      {
       "output_type": "stream",
       "stream": "stderr",
       "text": [
        "29%\r"
       ]
      },
      {
       "output_type": "stream",
       "stream": "stderr",
       "text": [
        "30%\r"
       ]
      },
      {
       "output_type": "stream",
       "stream": "stderr",
       "text": [
        "31%\r"
       ]
      },
      {
       "output_type": "stream",
       "stream": "stderr",
       "text": [
        "32%\r"
       ]
      },
      {
       "output_type": "stream",
       "stream": "stderr",
       "text": [
        "33%\r"
       ]
      },
      {
       "output_type": "stream",
       "stream": "stderr",
       "text": [
        "34%\r"
       ]
      },
      {
       "output_type": "stream",
       "stream": "stderr",
       "text": [
        "35%\r"
       ]
      },
      {
       "output_type": "stream",
       "stream": "stderr",
       "text": [
        "36%\r"
       ]
      },
      {
       "output_type": "stream",
       "stream": "stderr",
       "text": [
        "37%\r"
       ]
      },
      {
       "output_type": "stream",
       "stream": "stderr",
       "text": [
        "38%\r"
       ]
      },
      {
       "output_type": "stream",
       "stream": "stderr",
       "text": [
        "39%\r"
       ]
      },
      {
       "output_type": "stream",
       "stream": "stderr",
       "text": [
        "40%\r"
       ]
      },
      {
       "output_type": "stream",
       "stream": "stderr",
       "text": [
        "41%\r"
       ]
      },
      {
       "output_type": "stream",
       "stream": "stderr",
       "text": [
        "42%\r"
       ]
      },
      {
       "output_type": "stream",
       "stream": "stderr",
       "text": [
        "43%\r"
       ]
      },
      {
       "output_type": "stream",
       "stream": "stderr",
       "text": [
        "44%\r"
       ]
      },
      {
       "output_type": "stream",
       "stream": "stderr",
       "text": [
        "45%\r"
       ]
      },
      {
       "output_type": "stream",
       "stream": "stderr",
       "text": [
        "46%\r"
       ]
      },
      {
       "output_type": "stream",
       "stream": "stderr",
       "text": [
        "47%\r"
       ]
      },
      {
       "output_type": "stream",
       "stream": "stderr",
       "text": [
        "48%\r"
       ]
      },
      {
       "output_type": "stream",
       "stream": "stderr",
       "text": [
        "49%\r"
       ]
      },
      {
       "output_type": "stream",
       "stream": "stderr",
       "text": [
        "50%\r"
       ]
      },
      {
       "output_type": "stream",
       "stream": "stderr",
       "text": [
        "51%\r"
       ]
      },
      {
       "output_type": "stream",
       "stream": "stderr",
       "text": [
        "52%\r"
       ]
      },
      {
       "output_type": "stream",
       "stream": "stderr",
       "text": [
        "53%\r"
       ]
      },
      {
       "output_type": "stream",
       "stream": "stderr",
       "text": [
        "54%\r"
       ]
      },
      {
       "output_type": "stream",
       "stream": "stderr",
       "text": [
        "55%\r"
       ]
      },
      {
       "output_type": "stream",
       "stream": "stderr",
       "text": [
        "56%\r"
       ]
      },
      {
       "output_type": "stream",
       "stream": "stderr",
       "text": [
        "57%\r"
       ]
      },
      {
       "output_type": "stream",
       "stream": "stderr",
       "text": [
        "58%\r"
       ]
      },
      {
       "output_type": "stream",
       "stream": "stderr",
       "text": [
        "59%\r"
       ]
      },
      {
       "output_type": "stream",
       "stream": "stderr",
       "text": [
        "60%\r"
       ]
      },
      {
       "output_type": "stream",
       "stream": "stderr",
       "text": [
        "61%\r"
       ]
      },
      {
       "output_type": "stream",
       "stream": "stderr",
       "text": [
        "62%\r"
       ]
      },
      {
       "output_type": "stream",
       "stream": "stderr",
       "text": [
        "63%\r"
       ]
      },
      {
       "output_type": "stream",
       "stream": "stderr",
       "text": [
        "64%\r"
       ]
      },
      {
       "output_type": "stream",
       "stream": "stderr",
       "text": [
        "65%\r"
       ]
      },
      {
       "output_type": "stream",
       "stream": "stderr",
       "text": [
        "66%\r"
       ]
      },
      {
       "output_type": "stream",
       "stream": "stderr",
       "text": [
        "67%\r"
       ]
      },
      {
       "output_type": "stream",
       "stream": "stderr",
       "text": [
        "68%\r"
       ]
      },
      {
       "output_type": "stream",
       "stream": "stderr",
       "text": [
        "69%\r"
       ]
      },
      {
       "output_type": "stream",
       "stream": "stderr",
       "text": [
        "70%\r"
       ]
      },
      {
       "output_type": "stream",
       "stream": "stderr",
       "text": [
        "71%\r"
       ]
      },
      {
       "output_type": "stream",
       "stream": "stderr",
       "text": [
        "72%\r"
       ]
      },
      {
       "output_type": "stream",
       "stream": "stderr",
       "text": [
        "73%\r"
       ]
      },
      {
       "output_type": "stream",
       "stream": "stderr",
       "text": [
        "74%\r"
       ]
      },
      {
       "output_type": "stream",
       "stream": "stderr",
       "text": [
        "75%\r"
       ]
      },
      {
       "output_type": "stream",
       "stream": "stderr",
       "text": [
        "76%\r"
       ]
      },
      {
       "output_type": "stream",
       "stream": "stderr",
       "text": [
        "77%\r"
       ]
      },
      {
       "output_type": "stream",
       "stream": "stderr",
       "text": [
        "78%\r"
       ]
      },
      {
       "output_type": "stream",
       "stream": "stderr",
       "text": [
        "79%\r"
       ]
      },
      {
       "output_type": "stream",
       "stream": "stderr",
       "text": [
        "80%\r"
       ]
      },
      {
       "output_type": "stream",
       "stream": "stderr",
       "text": [
        "81%\r"
       ]
      },
      {
       "output_type": "stream",
       "stream": "stderr",
       "text": [
        "82%\r"
       ]
      },
      {
       "output_type": "stream",
       "stream": "stderr",
       "text": [
        "83%\r"
       ]
      },
      {
       "output_type": "stream",
       "stream": "stderr",
       "text": [
        "84%\r"
       ]
      },
      {
       "output_type": "stream",
       "stream": "stderr",
       "text": [
        "85%\r"
       ]
      },
      {
       "output_type": "stream",
       "stream": "stderr",
       "text": [
        "86%\r"
       ]
      },
      {
       "output_type": "stream",
       "stream": "stderr",
       "text": [
        "87%\r"
       ]
      },
      {
       "output_type": "stream",
       "stream": "stderr",
       "text": [
        "88%\r"
       ]
      },
      {
       "output_type": "stream",
       "stream": "stderr",
       "text": [
        "89%\r"
       ]
      },
      {
       "output_type": "stream",
       "stream": "stderr",
       "text": [
        "90%\r"
       ]
      },
      {
       "output_type": "stream",
       "stream": "stderr",
       "text": [
        "91%\r"
       ]
      },
      {
       "output_type": "stream",
       "stream": "stderr",
       "text": [
        "92%\r"
       ]
      },
      {
       "output_type": "stream",
       "stream": "stderr",
       "text": [
        "93%\r"
       ]
      },
      {
       "output_type": "stream",
       "stream": "stderr",
       "text": [
        "94%\r"
       ]
      },
      {
       "output_type": "stream",
       "stream": "stderr",
       "text": [
        "95%\r"
       ]
      },
      {
       "output_type": "stream",
       "stream": "stderr",
       "text": [
        "96%\r"
       ]
      },
      {
       "output_type": "stream",
       "stream": "stderr",
       "text": [
        "97%\r"
       ]
      },
      {
       "output_type": "stream",
       "stream": "stderr",
       "text": [
        "98%\r"
       ]
      },
      {
       "output_type": "stream",
       "stream": "stderr",
       "text": [
        "99%\r"
       ]
      },
      {
       "output_type": "stream",
       "stream": "stderr",
       "text": [
        "100%\r"
       ]
      },
      {
       "output_type": "stream",
       "stream": "stderr",
       "text": [
        "100%\n"
       ]
      },
      {
       "output_type": "stream",
       "stream": "stdout",
       "text": [
        "\n",
        "  loss 0.0676726883196\n",
        "  err  0.0201219512195\n",
        "  (0:00:12)\n",
        "Epoch 6:"
       ]
      },
      {
       "output_type": "stream",
       "stream": "stderr",
       "text": [
        "1%\r"
       ]
      },
      {
       "output_type": "stream",
       "stream": "stderr",
       "text": [
        "2%\r"
       ]
      },
      {
       "output_type": "stream",
       "stream": "stderr",
       "text": [
        "3%\r"
       ]
      },
      {
       "output_type": "stream",
       "stream": "stderr",
       "text": [
        "4%\r"
       ]
      },
      {
       "output_type": "stream",
       "stream": "stderr",
       "text": [
        "5%\r"
       ]
      },
      {
       "output_type": "stream",
       "stream": "stderr",
       "text": [
        "6%\r"
       ]
      },
      {
       "output_type": "stream",
       "stream": "stderr",
       "text": [
        "7%\r"
       ]
      },
      {
       "output_type": "stream",
       "stream": "stderr",
       "text": [
        "8%\r"
       ]
      },
      {
       "output_type": "stream",
       "stream": "stderr",
       "text": [
        "9%\r"
       ]
      },
      {
       "output_type": "stream",
       "stream": "stderr",
       "text": [
        "10%\r"
       ]
      },
      {
       "output_type": "stream",
       "stream": "stderr",
       "text": [
        "11%\r"
       ]
      },
      {
       "output_type": "stream",
       "stream": "stderr",
       "text": [
        "12%\r"
       ]
      },
      {
       "output_type": "stream",
       "stream": "stderr",
       "text": [
        "13%\r"
       ]
      },
      {
       "output_type": "stream",
       "stream": "stderr",
       "text": [
        "14%\r"
       ]
      },
      {
       "output_type": "stream",
       "stream": "stderr",
       "text": [
        "15%\r"
       ]
      },
      {
       "output_type": "stream",
       "stream": "stderr",
       "text": [
        "16%\r"
       ]
      },
      {
       "output_type": "stream",
       "stream": "stderr",
       "text": [
        "17%\r"
       ]
      },
      {
       "output_type": "stream",
       "stream": "stderr",
       "text": [
        "18%\r"
       ]
      },
      {
       "output_type": "stream",
       "stream": "stderr",
       "text": [
        "19%\r"
       ]
      },
      {
       "output_type": "stream",
       "stream": "stderr",
       "text": [
        "20%\r"
       ]
      },
      {
       "output_type": "stream",
       "stream": "stderr",
       "text": [
        "21%\r"
       ]
      },
      {
       "output_type": "stream",
       "stream": "stderr",
       "text": [
        "22%\r"
       ]
      },
      {
       "output_type": "stream",
       "stream": "stderr",
       "text": [
        "23%\r"
       ]
      },
      {
       "output_type": "stream",
       "stream": "stderr",
       "text": [
        "24%\r"
       ]
      },
      {
       "output_type": "stream",
       "stream": "stderr",
       "text": [
        "25%\r"
       ]
      },
      {
       "output_type": "stream",
       "stream": "stderr",
       "text": [
        "26%\r"
       ]
      },
      {
       "output_type": "stream",
       "stream": "stderr",
       "text": [
        "27%\r"
       ]
      },
      {
       "output_type": "stream",
       "stream": "stderr",
       "text": [
        "28%\r"
       ]
      },
      {
       "output_type": "stream",
       "stream": "stderr",
       "text": [
        "29%\r"
       ]
      },
      {
       "output_type": "stream",
       "stream": "stderr",
       "text": [
        "30%\r"
       ]
      },
      {
       "output_type": "stream",
       "stream": "stderr",
       "text": [
        "31%\r"
       ]
      },
      {
       "output_type": "stream",
       "stream": "stderr",
       "text": [
        "32%\r"
       ]
      },
      {
       "output_type": "stream",
       "stream": "stderr",
       "text": [
        "33%\r"
       ]
      },
      {
       "output_type": "stream",
       "stream": "stderr",
       "text": [
        "34%\r"
       ]
      },
      {
       "output_type": "stream",
       "stream": "stderr",
       "text": [
        "35%\r"
       ]
      },
      {
       "output_type": "stream",
       "stream": "stderr",
       "text": [
        "36%\r"
       ]
      },
      {
       "output_type": "stream",
       "stream": "stderr",
       "text": [
        "37%\r"
       ]
      },
      {
       "output_type": "stream",
       "stream": "stderr",
       "text": [
        "38%\r"
       ]
      },
      {
       "output_type": "stream",
       "stream": "stderr",
       "text": [
        "39%\r"
       ]
      },
      {
       "output_type": "stream",
       "stream": "stderr",
       "text": [
        "40%\r"
       ]
      },
      {
       "output_type": "stream",
       "stream": "stderr",
       "text": [
        "41%\r"
       ]
      },
      {
       "output_type": "stream",
       "stream": "stderr",
       "text": [
        "42%\r"
       ]
      },
      {
       "output_type": "stream",
       "stream": "stderr",
       "text": [
        "43%\r"
       ]
      },
      {
       "output_type": "stream",
       "stream": "stderr",
       "text": [
        "44%\r"
       ]
      },
      {
       "output_type": "stream",
       "stream": "stderr",
       "text": [
        "45%\r"
       ]
      },
      {
       "output_type": "stream",
       "stream": "stderr",
       "text": [
        "46%\r"
       ]
      },
      {
       "output_type": "stream",
       "stream": "stderr",
       "text": [
        "47%\r"
       ]
      },
      {
       "output_type": "stream",
       "stream": "stderr",
       "text": [
        "48%\r"
       ]
      },
      {
       "output_type": "stream",
       "stream": "stderr",
       "text": [
        "49%\r"
       ]
      },
      {
       "output_type": "stream",
       "stream": "stderr",
       "text": [
        "50%\r"
       ]
      },
      {
       "output_type": "stream",
       "stream": "stderr",
       "text": [
        "51%\r"
       ]
      },
      {
       "output_type": "stream",
       "stream": "stderr",
       "text": [
        "52%\r"
       ]
      },
      {
       "output_type": "stream",
       "stream": "stderr",
       "text": [
        "53%\r"
       ]
      },
      {
       "output_type": "stream",
       "stream": "stderr",
       "text": [
        "54%\r"
       ]
      },
      {
       "output_type": "stream",
       "stream": "stderr",
       "text": [
        "55%\r"
       ]
      },
      {
       "output_type": "stream",
       "stream": "stderr",
       "text": [
        "56%\r"
       ]
      },
      {
       "output_type": "stream",
       "stream": "stderr",
       "text": [
        "57%\r"
       ]
      },
      {
       "output_type": "stream",
       "stream": "stderr",
       "text": [
        "58%\r"
       ]
      },
      {
       "output_type": "stream",
       "stream": "stderr",
       "text": [
        "59%\r"
       ]
      },
      {
       "output_type": "stream",
       "stream": "stderr",
       "text": [
        "60%\r"
       ]
      },
      {
       "output_type": "stream",
       "stream": "stderr",
       "text": [
        "61%\r"
       ]
      },
      {
       "output_type": "stream",
       "stream": "stderr",
       "text": [
        "62%\r"
       ]
      },
      {
       "output_type": "stream",
       "stream": "stderr",
       "text": [
        "63%\r"
       ]
      },
      {
       "output_type": "stream",
       "stream": "stderr",
       "text": [
        "64%\r"
       ]
      },
      {
       "output_type": "stream",
       "stream": "stderr",
       "text": [
        "65%\r"
       ]
      },
      {
       "output_type": "stream",
       "stream": "stderr",
       "text": [
        "66%\r"
       ]
      },
      {
       "output_type": "stream",
       "stream": "stderr",
       "text": [
        "67%\r"
       ]
      },
      {
       "output_type": "stream",
       "stream": "stderr",
       "text": [
        "68%\r"
       ]
      },
      {
       "output_type": "stream",
       "stream": "stderr",
       "text": [
        "69%\r"
       ]
      },
      {
       "output_type": "stream",
       "stream": "stderr",
       "text": [
        "70%\r"
       ]
      },
      {
       "output_type": "stream",
       "stream": "stderr",
       "text": [
        "71%\r"
       ]
      },
      {
       "output_type": "stream",
       "stream": "stderr",
       "text": [
        "72%\r"
       ]
      },
      {
       "output_type": "stream",
       "stream": "stderr",
       "text": [
        "73%\r"
       ]
      },
      {
       "output_type": "stream",
       "stream": "stderr",
       "text": [
        "74%\r"
       ]
      },
      {
       "output_type": "stream",
       "stream": "stderr",
       "text": [
        "75%\r"
       ]
      },
      {
       "output_type": "stream",
       "stream": "stderr",
       "text": [
        "76%\r"
       ]
      },
      {
       "output_type": "stream",
       "stream": "stderr",
       "text": [
        "77%\r"
       ]
      },
      {
       "output_type": "stream",
       "stream": "stderr",
       "text": [
        "78%\r"
       ]
      },
      {
       "output_type": "stream",
       "stream": "stderr",
       "text": [
        "79%\r"
       ]
      },
      {
       "output_type": "stream",
       "stream": "stderr",
       "text": [
        "80%\r"
       ]
      },
      {
       "output_type": "stream",
       "stream": "stderr",
       "text": [
        "81%\r"
       ]
      },
      {
       "output_type": "stream",
       "stream": "stderr",
       "text": [
        "82%\r"
       ]
      },
      {
       "output_type": "stream",
       "stream": "stderr",
       "text": [
        "83%\r"
       ]
      },
      {
       "output_type": "stream",
       "stream": "stderr",
       "text": [
        "84%\r"
       ]
      },
      {
       "output_type": "stream",
       "stream": "stderr",
       "text": [
        "85%\r"
       ]
      },
      {
       "output_type": "stream",
       "stream": "stderr",
       "text": [
        "86%\r"
       ]
      },
      {
       "output_type": "stream",
       "stream": "stderr",
       "text": [
        "87%\r"
       ]
      },
      {
       "output_type": "stream",
       "stream": "stderr",
       "text": [
        "88%\r"
       ]
      },
      {
       "output_type": "stream",
       "stream": "stderr",
       "text": [
        "89%\r"
       ]
      },
      {
       "output_type": "stream",
       "stream": "stderr",
       "text": [
        "90%\r"
       ]
      },
      {
       "output_type": "stream",
       "stream": "stderr",
       "text": [
        "91%\r"
       ]
      },
      {
       "output_type": "stream",
       "stream": "stderr",
       "text": [
        "92%\r"
       ]
      },
      {
       "output_type": "stream",
       "stream": "stderr",
       "text": [
        "93%\r"
       ]
      },
      {
       "output_type": "stream",
       "stream": "stderr",
       "text": [
        "94%\r"
       ]
      },
      {
       "output_type": "stream",
       "stream": "stderr",
       "text": [
        "95%\r"
       ]
      },
      {
       "output_type": "stream",
       "stream": "stderr",
       "text": [
        "96%\r"
       ]
      },
      {
       "output_type": "stream",
       "stream": "stderr",
       "text": [
        "97%\r"
       ]
      },
      {
       "output_type": "stream",
       "stream": "stderr",
       "text": [
        "98%\r"
       ]
      },
      {
       "output_type": "stream",
       "stream": "stderr",
       "text": [
        "99%\r"
       ]
      },
      {
       "output_type": "stream",
       "stream": "stderr",
       "text": [
        "100%\r"
       ]
      },
      {
       "output_type": "stream",
       "stream": "stderr",
       "text": [
        "100%\n"
       ]
      },
      {
       "output_type": "stream",
       "stream": "stdout",
       "text": [
        "\n",
        "  loss 0.0512853926283\n",
        "  err  0.0158346036585\n",
        "  (0:00:11)\n",
        "Epoch 7:"
       ]
      },
      {
       "output_type": "stream",
       "stream": "stderr",
       "text": [
        "1%\r"
       ]
      },
      {
       "output_type": "stream",
       "stream": "stderr",
       "text": [
        "2%\r"
       ]
      },
      {
       "output_type": "stream",
       "stream": "stderr",
       "text": [
        "3%\r"
       ]
      },
      {
       "output_type": "stream",
       "stream": "stderr",
       "text": [
        "4%\r"
       ]
      },
      {
       "output_type": "stream",
       "stream": "stderr",
       "text": [
        "5%\r"
       ]
      },
      {
       "output_type": "stream",
       "stream": "stderr",
       "text": [
        "6%\r"
       ]
      },
      {
       "output_type": "stream",
       "stream": "stderr",
       "text": [
        "7%\r"
       ]
      },
      {
       "output_type": "stream",
       "stream": "stderr",
       "text": [
        "8%\r"
       ]
      },
      {
       "output_type": "stream",
       "stream": "stderr",
       "text": [
        "9%\r"
       ]
      },
      {
       "output_type": "stream",
       "stream": "stderr",
       "text": [
        "10%\r"
       ]
      },
      {
       "output_type": "stream",
       "stream": "stderr",
       "text": [
        "11%\r"
       ]
      },
      {
       "output_type": "stream",
       "stream": "stderr",
       "text": [
        "12%\r"
       ]
      },
      {
       "output_type": "stream",
       "stream": "stderr",
       "text": [
        "13%\r"
       ]
      },
      {
       "output_type": "stream",
       "stream": "stderr",
       "text": [
        "14%\r"
       ]
      },
      {
       "output_type": "stream",
       "stream": "stderr",
       "text": [
        "15%\r"
       ]
      },
      {
       "output_type": "stream",
       "stream": "stderr",
       "text": [
        "16%\r"
       ]
      },
      {
       "output_type": "stream",
       "stream": "stderr",
       "text": [
        "17%\r"
       ]
      },
      {
       "output_type": "stream",
       "stream": "stderr",
       "text": [
        "18%\r"
       ]
      },
      {
       "output_type": "stream",
       "stream": "stderr",
       "text": [
        "19%\r"
       ]
      },
      {
       "output_type": "stream",
       "stream": "stderr",
       "text": [
        "20%\r"
       ]
      },
      {
       "output_type": "stream",
       "stream": "stderr",
       "text": [
        "21%\r"
       ]
      },
      {
       "output_type": "stream",
       "stream": "stderr",
       "text": [
        "22%\r"
       ]
      },
      {
       "output_type": "stream",
       "stream": "stderr",
       "text": [
        "23%\r"
       ]
      },
      {
       "output_type": "stream",
       "stream": "stderr",
       "text": [
        "24%\r"
       ]
      },
      {
       "output_type": "stream",
       "stream": "stderr",
       "text": [
        "25%\r"
       ]
      },
      {
       "output_type": "stream",
       "stream": "stderr",
       "text": [
        "26%\r"
       ]
      },
      {
       "output_type": "stream",
       "stream": "stderr",
       "text": [
        "27%\r"
       ]
      },
      {
       "output_type": "stream",
       "stream": "stderr",
       "text": [
        "28%\r"
       ]
      },
      {
       "output_type": "stream",
       "stream": "stderr",
       "text": [
        "29%\r"
       ]
      },
      {
       "output_type": "stream",
       "stream": "stderr",
       "text": [
        "30%\r"
       ]
      },
      {
       "output_type": "stream",
       "stream": "stderr",
       "text": [
        "31%\r"
       ]
      },
      {
       "output_type": "stream",
       "stream": "stderr",
       "text": [
        "32%\r"
       ]
      },
      {
       "output_type": "stream",
       "stream": "stderr",
       "text": [
        "33%\r"
       ]
      },
      {
       "output_type": "stream",
       "stream": "stderr",
       "text": [
        "34%\r"
       ]
      },
      {
       "output_type": "stream",
       "stream": "stderr",
       "text": [
        "35%\r"
       ]
      },
      {
       "output_type": "stream",
       "stream": "stderr",
       "text": [
        "36%\r"
       ]
      },
      {
       "output_type": "stream",
       "stream": "stderr",
       "text": [
        "37%\r"
       ]
      },
      {
       "output_type": "stream",
       "stream": "stderr",
       "text": [
        "38%\r"
       ]
      },
      {
       "output_type": "stream",
       "stream": "stderr",
       "text": [
        "39%\r"
       ]
      },
      {
       "output_type": "stream",
       "stream": "stderr",
       "text": [
        "40%\r"
       ]
      },
      {
       "output_type": "stream",
       "stream": "stderr",
       "text": [
        "41%\r"
       ]
      },
      {
       "output_type": "stream",
       "stream": "stderr",
       "text": [
        "42%\r"
       ]
      },
      {
       "output_type": "stream",
       "stream": "stderr",
       "text": [
        "43%\r"
       ]
      },
      {
       "output_type": "stream",
       "stream": "stderr",
       "text": [
        "44%\r"
       ]
      },
      {
       "output_type": "stream",
       "stream": "stderr",
       "text": [
        "45%\r"
       ]
      },
      {
       "output_type": "stream",
       "stream": "stderr",
       "text": [
        "46%\r"
       ]
      },
      {
       "output_type": "stream",
       "stream": "stderr",
       "text": [
        "47%\r"
       ]
      },
      {
       "output_type": "stream",
       "stream": "stderr",
       "text": [
        "48%\r"
       ]
      },
      {
       "output_type": "stream",
       "stream": "stderr",
       "text": [
        "49%\r"
       ]
      },
      {
       "output_type": "stream",
       "stream": "stderr",
       "text": [
        "50%\r"
       ]
      },
      {
       "output_type": "stream",
       "stream": "stderr",
       "text": [
        "51%\r"
       ]
      },
      {
       "output_type": "stream",
       "stream": "stderr",
       "text": [
        "52%\r"
       ]
      },
      {
       "output_type": "stream",
       "stream": "stderr",
       "text": [
        "53%\r"
       ]
      },
      {
       "output_type": "stream",
       "stream": "stderr",
       "text": [
        "54%\r"
       ]
      },
      {
       "output_type": "stream",
       "stream": "stderr",
       "text": [
        "55%\r"
       ]
      },
      {
       "output_type": "stream",
       "stream": "stderr",
       "text": [
        "56%\r"
       ]
      },
      {
       "output_type": "stream",
       "stream": "stderr",
       "text": [
        "57%\r"
       ]
      },
      {
       "output_type": "stream",
       "stream": "stderr",
       "text": [
        "58%\r"
       ]
      },
      {
       "output_type": "stream",
       "stream": "stderr",
       "text": [
        "59%\r"
       ]
      },
      {
       "output_type": "stream",
       "stream": "stderr",
       "text": [
        "60%\r"
       ]
      },
      {
       "output_type": "stream",
       "stream": "stderr",
       "text": [
        "61%\r"
       ]
      },
      {
       "output_type": "stream",
       "stream": "stderr",
       "text": [
        "62%\r"
       ]
      },
      {
       "output_type": "stream",
       "stream": "stderr",
       "text": [
        "63%\r"
       ]
      },
      {
       "output_type": "stream",
       "stream": "stderr",
       "text": [
        "64%\r"
       ]
      },
      {
       "output_type": "stream",
       "stream": "stderr",
       "text": [
        "65%\r"
       ]
      },
      {
       "output_type": "stream",
       "stream": "stderr",
       "text": [
        "66%\r"
       ]
      },
      {
       "output_type": "stream",
       "stream": "stderr",
       "text": [
        "67%\r"
       ]
      },
      {
       "output_type": "stream",
       "stream": "stderr",
       "text": [
        "68%\r"
       ]
      },
      {
       "output_type": "stream",
       "stream": "stderr",
       "text": [
        "69%\r"
       ]
      },
      {
       "output_type": "stream",
       "stream": "stderr",
       "text": [
        "70%\r"
       ]
      },
      {
       "output_type": "stream",
       "stream": "stderr",
       "text": [
        "71%\r"
       ]
      },
      {
       "output_type": "stream",
       "stream": "stderr",
       "text": [
        "72%\r"
       ]
      },
      {
       "output_type": "stream",
       "stream": "stderr",
       "text": [
        "73%\r"
       ]
      },
      {
       "output_type": "stream",
       "stream": "stderr",
       "text": [
        "74%\r"
       ]
      },
      {
       "output_type": "stream",
       "stream": "stderr",
       "text": [
        "75%\r"
       ]
      },
      {
       "output_type": "stream",
       "stream": "stderr",
       "text": [
        "76%\r"
       ]
      },
      {
       "output_type": "stream",
       "stream": "stderr",
       "text": [
        "77%\r"
       ]
      },
      {
       "output_type": "stream",
       "stream": "stderr",
       "text": [
        "78%\r"
       ]
      },
      {
       "output_type": "stream",
       "stream": "stderr",
       "text": [
        "79%\r"
       ]
      },
      {
       "output_type": "stream",
       "stream": "stderr",
       "text": [
        "80%\r"
       ]
      },
      {
       "output_type": "stream",
       "stream": "stderr",
       "text": [
        "81%\r"
       ]
      },
      {
       "output_type": "stream",
       "stream": "stderr",
       "text": [
        "82%\r"
       ]
      },
      {
       "output_type": "stream",
       "stream": "stderr",
       "text": [
        "83%\r"
       ]
      },
      {
       "output_type": "stream",
       "stream": "stderr",
       "text": [
        "84%\r"
       ]
      },
      {
       "output_type": "stream",
       "stream": "stderr",
       "text": [
        "85%\r"
       ]
      },
      {
       "output_type": "stream",
       "stream": "stderr",
       "text": [
        "86%\r"
       ]
      },
      {
       "output_type": "stream",
       "stream": "stderr",
       "text": [
        "87%\r"
       ]
      },
      {
       "output_type": "stream",
       "stream": "stderr",
       "text": [
        "88%\r"
       ]
      },
      {
       "output_type": "stream",
       "stream": "stderr",
       "text": [
        "89%\r"
       ]
      },
      {
       "output_type": "stream",
       "stream": "stderr",
       "text": [
        "90%\r"
       ]
      },
      {
       "output_type": "stream",
       "stream": "stderr",
       "text": [
        "91%\r"
       ]
      },
      {
       "output_type": "stream",
       "stream": "stderr",
       "text": [
        "92%\r"
       ]
      },
      {
       "output_type": "stream",
       "stream": "stderr",
       "text": [
        "93%\r"
       ]
      },
      {
       "output_type": "stream",
       "stream": "stderr",
       "text": [
        "94%\r"
       ]
      },
      {
       "output_type": "stream",
       "stream": "stderr",
       "text": [
        "95%\r"
       ]
      },
      {
       "output_type": "stream",
       "stream": "stderr",
       "text": [
        "96%\r"
       ]
      },
      {
       "output_type": "stream",
       "stream": "stderr",
       "text": [
        "97%\r"
       ]
      },
      {
       "output_type": "stream",
       "stream": "stderr",
       "text": [
        "98%\r"
       ]
      },
      {
       "output_type": "stream",
       "stream": "stderr",
       "text": [
        "99%\r"
       ]
      },
      {
       "output_type": "stream",
       "stream": "stderr",
       "text": [
        "100%\r"
       ]
      },
      {
       "output_type": "stream",
       "stream": "stderr",
       "text": [
        "100%\n"
       ]
      },
      {
       "output_type": "stream",
       "stream": "stdout",
       "text": [
        "\n",
        "  loss 0.0432260628337\n",
        "  err  0.0135670731707\n",
        "  (0:00:12)\n",
        "Epoch 8:"
       ]
      },
      {
       "output_type": "stream",
       "stream": "stderr",
       "text": [
        "1%\r"
       ]
      },
      {
       "output_type": "stream",
       "stream": "stderr",
       "text": [
        "2%\r"
       ]
      },
      {
       "output_type": "stream",
       "stream": "stderr",
       "text": [
        "3%\r"
       ]
      },
      {
       "output_type": "stream",
       "stream": "stderr",
       "text": [
        "4%\r"
       ]
      },
      {
       "output_type": "stream",
       "stream": "stderr",
       "text": [
        "5%\r"
       ]
      },
      {
       "output_type": "stream",
       "stream": "stderr",
       "text": [
        "6%\r"
       ]
      },
      {
       "output_type": "stream",
       "stream": "stderr",
       "text": [
        "7%\r"
       ]
      },
      {
       "output_type": "stream",
       "stream": "stderr",
       "text": [
        "8%\r"
       ]
      },
      {
       "output_type": "stream",
       "stream": "stderr",
       "text": [
        "9%\r"
       ]
      },
      {
       "output_type": "stream",
       "stream": "stderr",
       "text": [
        "10%\r"
       ]
      },
      {
       "output_type": "stream",
       "stream": "stderr",
       "text": [
        "11%\r"
       ]
      },
      {
       "output_type": "stream",
       "stream": "stderr",
       "text": [
        "12%\r"
       ]
      },
      {
       "output_type": "stream",
       "stream": "stderr",
       "text": [
        "13%\r"
       ]
      },
      {
       "output_type": "stream",
       "stream": "stderr",
       "text": [
        "14%\r"
       ]
      },
      {
       "output_type": "stream",
       "stream": "stderr",
       "text": [
        "15%\r"
       ]
      },
      {
       "output_type": "stream",
       "stream": "stderr",
       "text": [
        "16%\r"
       ]
      },
      {
       "output_type": "stream",
       "stream": "stderr",
       "text": [
        "17%\r"
       ]
      },
      {
       "output_type": "stream",
       "stream": "stderr",
       "text": [
        "18%\r"
       ]
      },
      {
       "output_type": "stream",
       "stream": "stderr",
       "text": [
        "19%\r"
       ]
      },
      {
       "output_type": "stream",
       "stream": "stderr",
       "text": [
        "20%\r"
       ]
      },
      {
       "output_type": "stream",
       "stream": "stderr",
       "text": [
        "21%\r"
       ]
      },
      {
       "output_type": "stream",
       "stream": "stderr",
       "text": [
        "22%\r"
       ]
      },
      {
       "output_type": "stream",
       "stream": "stderr",
       "text": [
        "23%\r"
       ]
      },
      {
       "output_type": "stream",
       "stream": "stderr",
       "text": [
        "24%\r"
       ]
      },
      {
       "output_type": "stream",
       "stream": "stderr",
       "text": [
        "25%\r"
       ]
      },
      {
       "output_type": "stream",
       "stream": "stderr",
       "text": [
        "26%\r"
       ]
      },
      {
       "output_type": "stream",
       "stream": "stderr",
       "text": [
        "27%\r"
       ]
      },
      {
       "output_type": "stream",
       "stream": "stderr",
       "text": [
        "28%\r"
       ]
      },
      {
       "output_type": "stream",
       "stream": "stderr",
       "text": [
        "29%\r"
       ]
      },
      {
       "output_type": "stream",
       "stream": "stderr",
       "text": [
        "30%\r"
       ]
      },
      {
       "output_type": "stream",
       "stream": "stderr",
       "text": [
        "31%\r"
       ]
      },
      {
       "output_type": "stream",
       "stream": "stderr",
       "text": [
        "32%\r"
       ]
      },
      {
       "output_type": "stream",
       "stream": "stderr",
       "text": [
        "33%\r"
       ]
      },
      {
       "output_type": "stream",
       "stream": "stderr",
       "text": [
        "34%\r"
       ]
      },
      {
       "output_type": "stream",
       "stream": "stderr",
       "text": [
        "35%\r"
       ]
      },
      {
       "output_type": "stream",
       "stream": "stderr",
       "text": [
        "36%\r"
       ]
      },
      {
       "output_type": "stream",
       "stream": "stderr",
       "text": [
        "37%\r"
       ]
      },
      {
       "output_type": "stream",
       "stream": "stderr",
       "text": [
        "38%\r"
       ]
      },
      {
       "output_type": "stream",
       "stream": "stderr",
       "text": [
        "39%\r"
       ]
      },
      {
       "output_type": "stream",
       "stream": "stderr",
       "text": [
        "40%\r"
       ]
      },
      {
       "output_type": "stream",
       "stream": "stderr",
       "text": [
        "41%\r"
       ]
      },
      {
       "output_type": "stream",
       "stream": "stderr",
       "text": [
        "42%\r"
       ]
      },
      {
       "output_type": "stream",
       "stream": "stderr",
       "text": [
        "43%\r"
       ]
      },
      {
       "output_type": "stream",
       "stream": "stderr",
       "text": [
        "44%\r"
       ]
      },
      {
       "output_type": "stream",
       "stream": "stderr",
       "text": [
        "45%\r"
       ]
      },
      {
       "output_type": "stream",
       "stream": "stderr",
       "text": [
        "46%\r"
       ]
      },
      {
       "output_type": "stream",
       "stream": "stderr",
       "text": [
        "47%\r"
       ]
      },
      {
       "output_type": "stream",
       "stream": "stderr",
       "text": [
        "48%\r"
       ]
      },
      {
       "output_type": "stream",
       "stream": "stderr",
       "text": [
        "49%\r"
       ]
      },
      {
       "output_type": "stream",
       "stream": "stderr",
       "text": [
        "50%\r"
       ]
      },
      {
       "output_type": "stream",
       "stream": "stderr",
       "text": [
        "51%\r"
       ]
      },
      {
       "output_type": "stream",
       "stream": "stderr",
       "text": [
        "52%\r"
       ]
      },
      {
       "output_type": "stream",
       "stream": "stderr",
       "text": [
        "53%\r"
       ]
      },
      {
       "output_type": "stream",
       "stream": "stderr",
       "text": [
        "54%\r"
       ]
      },
      {
       "output_type": "stream",
       "stream": "stderr",
       "text": [
        "55%\r"
       ]
      },
      {
       "output_type": "stream",
       "stream": "stderr",
       "text": [
        "56%\r"
       ]
      },
      {
       "output_type": "stream",
       "stream": "stderr",
       "text": [
        "57%\r"
       ]
      },
      {
       "output_type": "stream",
       "stream": "stderr",
       "text": [
        "58%\r"
       ]
      },
      {
       "output_type": "stream",
       "stream": "stderr",
       "text": [
        "59%\r"
       ]
      },
      {
       "output_type": "stream",
       "stream": "stderr",
       "text": [
        "60%\r"
       ]
      },
      {
       "output_type": "stream",
       "stream": "stderr",
       "text": [
        "61%\r"
       ]
      },
      {
       "output_type": "stream",
       "stream": "stderr",
       "text": [
        "62%\r"
       ]
      },
      {
       "output_type": "stream",
       "stream": "stderr",
       "text": [
        "63%\r"
       ]
      },
      {
       "output_type": "stream",
       "stream": "stderr",
       "text": [
        "64%\r"
       ]
      },
      {
       "output_type": "stream",
       "stream": "stderr",
       "text": [
        "65%\r"
       ]
      },
      {
       "output_type": "stream",
       "stream": "stderr",
       "text": [
        "66%\r"
       ]
      },
      {
       "output_type": "stream",
       "stream": "stderr",
       "text": [
        "67%\r"
       ]
      },
      {
       "output_type": "stream",
       "stream": "stderr",
       "text": [
        "68%\r"
       ]
      },
      {
       "output_type": "stream",
       "stream": "stderr",
       "text": [
        "69%\r"
       ]
      },
      {
       "output_type": "stream",
       "stream": "stderr",
       "text": [
        "70%\r"
       ]
      },
      {
       "output_type": "stream",
       "stream": "stderr",
       "text": [
        "71%\r"
       ]
      },
      {
       "output_type": "stream",
       "stream": "stderr",
       "text": [
        "72%\r"
       ]
      },
      {
       "output_type": "stream",
       "stream": "stderr",
       "text": [
        "73%\r"
       ]
      },
      {
       "output_type": "stream",
       "stream": "stderr",
       "text": [
        "74%\r"
       ]
      },
      {
       "output_type": "stream",
       "stream": "stderr",
       "text": [
        "75%\r"
       ]
      },
      {
       "output_type": "stream",
       "stream": "stderr",
       "text": [
        "76%\r"
       ]
      },
      {
       "output_type": "stream",
       "stream": "stderr",
       "text": [
        "77%\r"
       ]
      },
      {
       "output_type": "stream",
       "stream": "stderr",
       "text": [
        "78%\r"
       ]
      },
      {
       "output_type": "stream",
       "stream": "stderr",
       "text": [
        "79%\r"
       ]
      },
      {
       "output_type": "stream",
       "stream": "stderr",
       "text": [
        "80%\r"
       ]
      },
      {
       "output_type": "stream",
       "stream": "stderr",
       "text": [
        "81%\r"
       ]
      },
      {
       "output_type": "stream",
       "stream": "stderr",
       "text": [
        "82%\r"
       ]
      },
      {
       "output_type": "stream",
       "stream": "stderr",
       "text": [
        "83%\r"
       ]
      },
      {
       "output_type": "stream",
       "stream": "stderr",
       "text": [
        "84%\r"
       ]
      },
      {
       "output_type": "stream",
       "stream": "stderr",
       "text": [
        "85%\r"
       ]
      },
      {
       "output_type": "stream",
       "stream": "stderr",
       "text": [
        "86%\r"
       ]
      },
      {
       "output_type": "stream",
       "stream": "stderr",
       "text": [
        "87%\r"
       ]
      },
      {
       "output_type": "stream",
       "stream": "stderr",
       "text": [
        "88%\r"
       ]
      },
      {
       "output_type": "stream",
       "stream": "stderr",
       "text": [
        "89%\r"
       ]
      },
      {
       "output_type": "stream",
       "stream": "stderr",
       "text": [
        "90%\r"
       ]
      },
      {
       "output_type": "stream",
       "stream": "stderr",
       "text": [
        "91%\r"
       ]
      },
      {
       "output_type": "stream",
       "stream": "stderr",
       "text": [
        "92%\r"
       ]
      },
      {
       "output_type": "stream",
       "stream": "stderr",
       "text": [
        "93%\r"
       ]
      },
      {
       "output_type": "stream",
       "stream": "stderr",
       "text": [
        "94%\r"
       ]
      },
      {
       "output_type": "stream",
       "stream": "stderr",
       "text": [
        "95%\r"
       ]
      },
      {
       "output_type": "stream",
       "stream": "stderr",
       "text": [
        "96%\r"
       ]
      },
      {
       "output_type": "stream",
       "stream": "stderr",
       "text": [
        "97%\r"
       ]
      },
      {
       "output_type": "stream",
       "stream": "stderr",
       "text": [
        "98%\r"
       ]
      },
      {
       "output_type": "stream",
       "stream": "stderr",
       "text": [
        "99%\r"
       ]
      },
      {
       "output_type": "stream",
       "stream": "stderr",
       "text": [
        "100%\r"
       ]
      },
      {
       "output_type": "stream",
       "stream": "stderr",
       "text": [
        "100%\n"
       ]
      },
      {
       "output_type": "stream",
       "stream": "stdout",
       "text": [
        "\n",
        "  loss 0.0319811218181\n",
        "  err  0.00975609756098\n",
        "  (0:00:10)\n",
        "Epoch 9:"
       ]
      },
      {
       "output_type": "stream",
       "stream": "stderr",
       "text": [
        "1%\r"
       ]
      },
      {
       "output_type": "stream",
       "stream": "stderr",
       "text": [
        "2%\r"
       ]
      },
      {
       "output_type": "stream",
       "stream": "stderr",
       "text": [
        "3%\r"
       ]
      },
      {
       "output_type": "stream",
       "stream": "stderr",
       "text": [
        "4%\r"
       ]
      },
      {
       "output_type": "stream",
       "stream": "stderr",
       "text": [
        "5%\r"
       ]
      },
      {
       "output_type": "stream",
       "stream": "stderr",
       "text": [
        "6%\r"
       ]
      },
      {
       "output_type": "stream",
       "stream": "stderr",
       "text": [
        "7%\r"
       ]
      },
      {
       "output_type": "stream",
       "stream": "stderr",
       "text": [
        "8%\r"
       ]
      },
      {
       "output_type": "stream",
       "stream": "stderr",
       "text": [
        "9%\r"
       ]
      },
      {
       "output_type": "stream",
       "stream": "stderr",
       "text": [
        "10%\r"
       ]
      },
      {
       "output_type": "stream",
       "stream": "stderr",
       "text": [
        "11%\r"
       ]
      },
      {
       "output_type": "stream",
       "stream": "stderr",
       "text": [
        "12%\r"
       ]
      },
      {
       "output_type": "stream",
       "stream": "stderr",
       "text": [
        "13%\r"
       ]
      },
      {
       "output_type": "stream",
       "stream": "stderr",
       "text": [
        "14%\r"
       ]
      },
      {
       "output_type": "stream",
       "stream": "stderr",
       "text": [
        "15%\r"
       ]
      },
      {
       "output_type": "stream",
       "stream": "stderr",
       "text": [
        "16%\r"
       ]
      },
      {
       "output_type": "stream",
       "stream": "stderr",
       "text": [
        "17%\r"
       ]
      },
      {
       "output_type": "stream",
       "stream": "stderr",
       "text": [
        "18%\r"
       ]
      },
      {
       "output_type": "stream",
       "stream": "stderr",
       "text": [
        "19%\r"
       ]
      },
      {
       "output_type": "stream",
       "stream": "stderr",
       "text": [
        "20%\r"
       ]
      },
      {
       "output_type": "stream",
       "stream": "stderr",
       "text": [
        "21%\r"
       ]
      },
      {
       "output_type": "stream",
       "stream": "stderr",
       "text": [
        "22%\r"
       ]
      },
      {
       "output_type": "stream",
       "stream": "stderr",
       "text": [
        "23%\r"
       ]
      },
      {
       "output_type": "stream",
       "stream": "stderr",
       "text": [
        "24%\r"
       ]
      },
      {
       "output_type": "stream",
       "stream": "stderr",
       "text": [
        "25%\r"
       ]
      },
      {
       "output_type": "stream",
       "stream": "stderr",
       "text": [
        "26%\r"
       ]
      },
      {
       "output_type": "stream",
       "stream": "stderr",
       "text": [
        "27%\r"
       ]
      },
      {
       "output_type": "stream",
       "stream": "stderr",
       "text": [
        "28%\r"
       ]
      },
      {
       "output_type": "stream",
       "stream": "stderr",
       "text": [
        "29%\r"
       ]
      },
      {
       "output_type": "stream",
       "stream": "stderr",
       "text": [
        "30%\r"
       ]
      },
      {
       "output_type": "stream",
       "stream": "stderr",
       "text": [
        "31%\r"
       ]
      },
      {
       "output_type": "stream",
       "stream": "stderr",
       "text": [
        "32%\r"
       ]
      },
      {
       "output_type": "stream",
       "stream": "stderr",
       "text": [
        "33%\r"
       ]
      },
      {
       "output_type": "stream",
       "stream": "stderr",
       "text": [
        "34%\r"
       ]
      },
      {
       "output_type": "stream",
       "stream": "stderr",
       "text": [
        "35%\r"
       ]
      },
      {
       "output_type": "stream",
       "stream": "stderr",
       "text": [
        "36%\r"
       ]
      },
      {
       "output_type": "stream",
       "stream": "stderr",
       "text": [
        "37%\r"
       ]
      },
      {
       "output_type": "stream",
       "stream": "stderr",
       "text": [
        "38%\r"
       ]
      },
      {
       "output_type": "stream",
       "stream": "stderr",
       "text": [
        "39%\r"
       ]
      },
      {
       "output_type": "stream",
       "stream": "stderr",
       "text": [
        "40%\r"
       ]
      },
      {
       "output_type": "stream",
       "stream": "stderr",
       "text": [
        "41%\r"
       ]
      },
      {
       "output_type": "stream",
       "stream": "stderr",
       "text": [
        "42%\r"
       ]
      },
      {
       "output_type": "stream",
       "stream": "stderr",
       "text": [
        "43%\r"
       ]
      },
      {
       "output_type": "stream",
       "stream": "stderr",
       "text": [
        "44%\r"
       ]
      },
      {
       "output_type": "stream",
       "stream": "stderr",
       "text": [
        "45%\r"
       ]
      },
      {
       "output_type": "stream",
       "stream": "stderr",
       "text": [
        "46%\r"
       ]
      },
      {
       "output_type": "stream",
       "stream": "stderr",
       "text": [
        "47%\r"
       ]
      },
      {
       "output_type": "stream",
       "stream": "stderr",
       "text": [
        "48%\r"
       ]
      },
      {
       "output_type": "stream",
       "stream": "stderr",
       "text": [
        "49%\r"
       ]
      },
      {
       "output_type": "stream",
       "stream": "stderr",
       "text": [
        "50%\r"
       ]
      },
      {
       "output_type": "stream",
       "stream": "stderr",
       "text": [
        "51%\r"
       ]
      },
      {
       "output_type": "stream",
       "stream": "stderr",
       "text": [
        "52%\r"
       ]
      },
      {
       "output_type": "stream",
       "stream": "stderr",
       "text": [
        "53%\r"
       ]
      },
      {
       "output_type": "stream",
       "stream": "stderr",
       "text": [
        "54%\r"
       ]
      },
      {
       "output_type": "stream",
       "stream": "stderr",
       "text": [
        "55%\r"
       ]
      },
      {
       "output_type": "stream",
       "stream": "stderr",
       "text": [
        "56%\r"
       ]
      },
      {
       "output_type": "stream",
       "stream": "stderr",
       "text": [
        "57%\r"
       ]
      },
      {
       "output_type": "stream",
       "stream": "stderr",
       "text": [
        "58%\r"
       ]
      },
      {
       "output_type": "stream",
       "stream": "stderr",
       "text": [
        "59%\r"
       ]
      },
      {
       "output_type": "stream",
       "stream": "stderr",
       "text": [
        "60%\r"
       ]
      },
      {
       "output_type": "stream",
       "stream": "stderr",
       "text": [
        "61%\r"
       ]
      },
      {
       "output_type": "stream",
       "stream": "stderr",
       "text": [
        "62%\r"
       ]
      },
      {
       "output_type": "stream",
       "stream": "stderr",
       "text": [
        "63%\r"
       ]
      },
      {
       "output_type": "stream",
       "stream": "stderr",
       "text": [
        "64%\r"
       ]
      },
      {
       "output_type": "stream",
       "stream": "stderr",
       "text": [
        "65%\r"
       ]
      },
      {
       "output_type": "stream",
       "stream": "stderr",
       "text": [
        "66%\r"
       ]
      },
      {
       "output_type": "stream",
       "stream": "stderr",
       "text": [
        "67%\r"
       ]
      },
      {
       "output_type": "stream",
       "stream": "stderr",
       "text": [
        "68%\r"
       ]
      },
      {
       "output_type": "stream",
       "stream": "stderr",
       "text": [
        "69%\r"
       ]
      },
      {
       "output_type": "stream",
       "stream": "stderr",
       "text": [
        "70%\r"
       ]
      },
      {
       "output_type": "stream",
       "stream": "stderr",
       "text": [
        "71%\r"
       ]
      },
      {
       "output_type": "stream",
       "stream": "stderr",
       "text": [
        "72%\r"
       ]
      },
      {
       "output_type": "stream",
       "stream": "stderr",
       "text": [
        "73%\r"
       ]
      },
      {
       "output_type": "stream",
       "stream": "stderr",
       "text": [
        "74%\r"
       ]
      },
      {
       "output_type": "stream",
       "stream": "stderr",
       "text": [
        "75%\r"
       ]
      },
      {
       "output_type": "stream",
       "stream": "stderr",
       "text": [
        "76%\r"
       ]
      },
      {
       "output_type": "stream",
       "stream": "stderr",
       "text": [
        "77%\r"
       ]
      },
      {
       "output_type": "stream",
       "stream": "stderr",
       "text": [
        "78%\r"
       ]
      },
      {
       "output_type": "stream",
       "stream": "stderr",
       "text": [
        "79%\r"
       ]
      },
      {
       "output_type": "stream",
       "stream": "stderr",
       "text": [
        "80%\r"
       ]
      },
      {
       "output_type": "stream",
       "stream": "stderr",
       "text": [
        "81%\r"
       ]
      },
      {
       "output_type": "stream",
       "stream": "stderr",
       "text": [
        "82%\r"
       ]
      },
      {
       "output_type": "stream",
       "stream": "stderr",
       "text": [
        "83%\r"
       ]
      },
      {
       "output_type": "stream",
       "stream": "stderr",
       "text": [
        "84%\r"
       ]
      },
      {
       "output_type": "stream",
       "stream": "stderr",
       "text": [
        "85%\r"
       ]
      },
      {
       "output_type": "stream",
       "stream": "stderr",
       "text": [
        "86%\r"
       ]
      },
      {
       "output_type": "stream",
       "stream": "stderr",
       "text": [
        "87%\r"
       ]
      },
      {
       "output_type": "stream",
       "stream": "stderr",
       "text": [
        "88%\r"
       ]
      },
      {
       "output_type": "stream",
       "stream": "stderr",
       "text": [
        "89%\r"
       ]
      },
      {
       "output_type": "stream",
       "stream": "stderr",
       "text": [
        "90%\r"
       ]
      },
      {
       "output_type": "stream",
       "stream": "stderr",
       "text": [
        "91%\r"
       ]
      },
      {
       "output_type": "stream",
       "stream": "stderr",
       "text": [
        "92%\r"
       ]
      },
      {
       "output_type": "stream",
       "stream": "stderr",
       "text": [
        "93%\r"
       ]
      },
      {
       "output_type": "stream",
       "stream": "stderr",
       "text": [
        "94%\r"
       ]
      },
      {
       "output_type": "stream",
       "stream": "stderr",
       "text": [
        "95%\r"
       ]
      },
      {
       "output_type": "stream",
       "stream": "stderr",
       "text": [
        "96%\r"
       ]
      },
      {
       "output_type": "stream",
       "stream": "stderr",
       "text": [
        "97%\r"
       ]
      },
      {
       "output_type": "stream",
       "stream": "stderr",
       "text": [
        "98%\r"
       ]
      },
      {
       "output_type": "stream",
       "stream": "stderr",
       "text": [
        "99%\r"
       ]
      },
      {
       "output_type": "stream",
       "stream": "stderr",
       "text": [
        "100%\r"
       ]
      },
      {
       "output_type": "stream",
       "stream": "stderr",
       "text": [
        "100%\n"
       ]
      },
      {
       "output_type": "stream",
       "stream": "stdout",
       "text": [
        "\n",
        "  loss 0.0245469610056\n",
        "  err  0.00733612804878\n",
        "  (0:00:10)\n",
        "Epoch 10:"
       ]
      },
      {
       "output_type": "stream",
       "stream": "stdout",
       "text": [
        "\n",
        "  loss 0.0193411867888\n",
        "  err  0.00544969512195\n",
        "  (0:00:10)\n"
       ]
      }
     ],
     "prompt_number": 19
    },
    {
     "cell_type": "heading",
     "level": 6,
     "metadata": {},
     "source": [
      "Predict against our test dataset..."
     ]
    },
    {
     "cell_type": "code",
     "collapsed": false,
     "input": [
      "y_pred = clf.predict(X_test)\n",
      "print \"Accuracy:\", zero_one_loss(y_test, y_pred)\n",
      "print \"Classification report:\"\n",
      "print classification_report(y_test, y_pred)"
     ],
     "language": "python",
     "metadata": {},
     "outputs": [
      {
       "output_type": "stream",
       "stream": "stdout",
       "text": [
        " Accuracy: 0.0222285714286\n",
        "Classification report:\n",
        "             precision    recall  f1-score   support\n",
        "\n",
        "        0.0       0.98      0.99      0.98      1700\n",
        "        1.0       0.98      0.99      0.99      1998\n",
        "        2.0       0.98      0.96      0.97      1762\n",
        "        3.0       0.98      0.97      0.97      1762\n",
        "        4.0       0.99      0.98      0.98      1780\n",
        "        5.0       0.98      0.97      0.98      1584\n",
        "        6.0       0.99      0.99      0.99      1737\n",
        "        7.0       0.98      0.97      0.98      1730\n",
        "        8.0       0.97      0.97      0.97      1755\n",
        "        9.0       0.95      0.98      0.96      1692\n",
        "\n",
        "avg / total       0.98      0.98      0.98     17500\n",
        "\n"
       ]
      }
     ],
     "prompt_number": 26
    },
    {
     "cell_type": "heading",
     "level": 6,
     "metadata": {},
     "source": [
      "As you can see, we have about 98% accuracy using this model..."
     ]
    },
    {
     "cell_type": "code",
     "collapsed": false,
     "input": [],
     "language": "python",
     "metadata": {},
     "outputs": []
    }
   ],
   "metadata": {}
  }
 ]
}