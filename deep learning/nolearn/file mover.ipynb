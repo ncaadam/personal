{
 "metadata": {
  "name": "",
  "signature": "sha256:fc4dd1e0d16241e66451731248e7fa664d38ff3ce1caba642f59778a2c3b7f3b"
 },
 "nbformat": 3,
 "nbformat_minor": 0,
 "worksheets": [
  {
   "cells": [
    {
     "cell_type": "code",
     "collapsed": false,
     "input": [
      "import os, shutil"
     ],
     "language": "python",
     "metadata": {},
     "outputs": [],
     "prompt_number": 4
    },
    {
     "cell_type": "code",
     "collapsed": false,
     "input": [
      "directory = \"../data/cat_dog_train/\"\n",
      "for line in os.listdir(directory):\n",
      "    if line[:3] == 'cat':\n",
      "        shutil.move(directory+line,directory+'cat/')\n",
      "    elif line[:3] == 'dog':\n",
      "        shutil.move(directory+line,directory+'dog/')"
     ],
     "language": "python",
     "metadata": {},
     "outputs": [],
     "prompt_number": 8
    },
    {
     "cell_type": "code",
     "collapsed": false,
     "input": [],
     "language": "python",
     "metadata": {},
     "outputs": []
    }
   ],
   "metadata": {}
  }
 ]
}