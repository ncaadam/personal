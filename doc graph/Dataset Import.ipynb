{
 "metadata": {
  "name": "",
  "signature": "sha256:9f3e1a3190ab55d45467b3830aa919a1fe5c94e1a6da5aab27a7fe902bf53f1c"
 },
 "nbformat": 3,
 "nbformat_minor": 0,
 "worksheets": [
  {
   "cells": [
    {
     "cell_type": "code",
     "collapsed": false,
     "input": [
      "import urllib2 as u\n",
      "import requests as r\n",
      "import graphlab as gl\n",
      "from pyspark import SparkConf,SparkContext\n",
      "\n",
      "# Configure Spark Settings\n",
      "conf=SparkConf()\n",
      "conf.set(\"spark.executor.memory\", \"1g\")\n",
      "conf.set(\"spark.cores.max\", \"4\")\n",
      "conf.setAppName(\"My App\")\n",
      "\n",
      "## Initialize SparkContext\n",
      "sc = SparkContext('local[*]', conf=conf)"
     ],
     "language": "python",
     "metadata": {},
     "outputs": [
      {
       "output_type": "stream",
       "stream": "stderr",
       "text": [
        "[INFO] Start server at: ipc:///tmp/graphlab_server-24778 - Server binary: /Users/hdwall002/anaconda/lib/python2.7/site-packages/graphlab/unity_server - Server log: /tmp/graphlab_server_1423492263.log\n"
       ]
      },
      {
       "output_type": "stream",
       "stream": "stderr",
       "text": [
        "[INFO] GraphLab Server Version: 1.2.1\n"
       ]
      }
     ],
     "prompt_number": 1
    },
    {
     "cell_type": "code",
     "collapsed": false,
     "input": [
      "#test = u.urlopen('http://www.bloomapi.com/api/search/npi?key1=npi&op1=eq&value1=1346488400')"
     ],
     "language": "python",
     "metadata": {},
     "outputs": []
    },
    {
     "cell_type": "code",
     "collapsed": false,
     "input": [
      "#test2 = r.get('http://www.bloomapi.com/api/search/npi?key1=npi&op1=eq&value1=1346488400')"
     ],
     "language": "python",
     "metadata": {},
     "outputs": []
    },
    {
     "cell_type": "code",
     "collapsed": false,
     "input": [
      "#test2.json()"
     ],
     "language": "python",
     "metadata": {},
     "outputs": []
    },
    {
     "cell_type": "code",
     "collapsed": false,
     "input": [
      "#gl.SFrame('../../../data/docgraph/NPPES_Data_Dissemination_January_2015/npidata_20050523-20150111.csv')"
     ],
     "language": "python",
     "metadata": {},
     "outputs": []
    },
    {
     "cell_type": "code",
     "collapsed": false,
     "input": [
      "raw_data = sc.textFile('../../../../data/docgraph/NPPES_Data_Dissemination_January_2015/npidata_20050523-20150111.csv').map(lambda x: x.split(','))"
     ],
     "language": "python",
     "metadata": {},
     "outputs": [],
     "prompt_number": 2
    },
    {
     "cell_type": "code",
     "collapsed": false,
     "input": [
      "header = raw_data.first()"
     ],
     "language": "python",
     "metadata": {},
     "outputs": [],
     "prompt_number": 47
    },
    {
     "cell_type": "code",
     "collapsed": false,
     "input": [
      "def safe_cast(val, to_type, default=0):\n",
      "    try:\n",
      "        return to_type(val)\n",
      "    except ValueError:\n",
      "        return default"
     ],
     "language": "python",
     "metadata": {},
     "outputs": [],
     "prompt_number": 12
    },
    {
     "cell_type": "code",
     "collapsed": false,
     "input": [
      "def clean(line):\n",
      "    new_line=[]\n",
      "    for i in line:\n",
      "        i=i.replace('\\\"','')\n",
      "        new_line.append(i)\n",
      "    return new_line"
     ],
     "language": "python",
     "metadata": {},
     "outputs": [],
     "prompt_number": 19
    },
    {
     "cell_type": "code",
     "collapsed": false,
     "input": [
      "def filter_npis(line):\n",
      "    npi = safe_cast(clean(line)[0],int)\n",
      "    rep_npi = safe_cast(clean(line)[2],int)\n",
      "    \n",
      "    if (npi in npi_dict) or (rep_npi in npi_dict):\n",
      "        return True\n",
      "    else:\n",
      "        return False"
     ],
     "language": "python",
     "metadata": {},
     "outputs": [],
     "prompt_number": 13
    },
    {
     "cell_type": "code",
     "collapsed": false,
     "input": [
      "with open('../../../../data/docgraph/npi_list.csv') as f:\n",
      "     npi_list = f.readlines()"
     ],
     "language": "python",
     "metadata": {},
     "outputs": [],
     "prompt_number": 33
    },
    {
     "cell_type": "code",
     "collapsed": false,
     "input": [
      "safe_cast(npi_list[1].replace('\\n','').replace(\"\\\"\",\"\"),int)"
     ],
     "language": "python",
     "metadata": {},
     "outputs": [
      {
       "metadata": {},
       "output_type": "pyout",
       "prompt_number": 38,
       "text": [
        "1366459794"
       ]
      }
     ],
     "prompt_number": 38
    },
    {
     "cell_type": "code",
     "collapsed": false,
     "input": [
      "npi_dict = {}\n",
      "for line in npi_list:\n",
      "    npi = safe_cast(line.replace('\\n','').replace(\"\\\"\",\"\"),int)\n",
      "    npi_dict[npi] = 0\n",
      "\n",
      "del npi_dict[0]"
     ],
     "language": "python",
     "metadata": {},
     "outputs": [],
     "prompt_number": 43
    },
    {
     "cell_type": "code",
     "collapsed": false,
     "input": [
      "filtered_data = raw_data.filter(lambda line: filter_npis(line))"
     ],
     "language": "python",
     "metadata": {},
     "outputs": [],
     "prompt_number": 45
    },
    {
     "cell_type": "code",
     "collapsed": false,
     "input": [
      "#test2 = test.filter(lambda line: clean(line))"
     ],
     "language": "python",
     "metadata": {},
     "outputs": []
    },
    {
     "cell_type": "code",
     "collapsed": false,
     "input": [
      "filtered_data.saveAsTextFile('../../../../data/docgraph/NPPES_filtered_data.csv')"
     ],
     "language": "python",
     "metadata": {},
     "outputs": [],
     "prompt_number": 46
    },
    {
     "cell_type": "code",
     "collapsed": false,
     "input": [
      "import os\n",
      "rootdir ='../../../../data/docgraph/NPPES_filtered_data/'\n",
      "\n",
      "f_out=open('../../../../data/docgraph/NPPES_filtered.csv','a')\n",
      "\n",
      "f_out.write(str(header))\n",
      "\n",
      "for subdir, dirs, files in os.walk(rootdir):\n",
      "    for file in files:\n",
      "        f=open(str(rootdir+file),'r')\n",
      "        for line in f:\n",
      "            f_out.write(line)\n",
      "        f.close()\n",
      "        \n",
      "f_out.close()"
     ],
     "language": "python",
     "metadata": {},
     "outputs": [],
     "prompt_number": 53
    },
    {
     "cell_type": "code",
     "collapsed": false,
     "input": [],
     "language": "python",
     "metadata": {},
     "outputs": []
    }
   ],
   "metadata": {}
  }
 ]
}