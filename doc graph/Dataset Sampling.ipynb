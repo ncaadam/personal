{
 "metadata": {
  "name": "",
  "signature": "sha256:cdec4113a3536e6bab9fc85fafb137eed2cd0ba49db3683925b8c1f82a3b7841"
 },
 "nbformat": 3,
 "nbformat_minor": 0,
 "worksheets": [
  {
   "cells": [
    {
     "cell_type": "code",
     "collapsed": false,
     "input": [
      "import graphlab as gl"
     ],
     "language": "python",
     "metadata": {},
     "outputs": [],
     "prompt_number": 1
    },
    {
     "cell_type": "code",
     "collapsed": false,
     "input": [
      "nodes = gl.SFrame.read_csv('../../../data/docgraph/chicago_data_clean.csv', delimiter=',',\n",
      "                                        column_type_hints={'line_srvc_cnt':int, \n",
      "                                                          'bene_unique_cnt':int, \n",
      "                                                          'bene_day_srvc_cnt':int,\n",
      "                                                          'average_Medicare_allowed_amt':float,\n",
      "                                                          'stdev_Medicare_allowed_amt':float,\n",
      "                                                          'average_submitted_chrg_amt':float,\n",
      "                                                          'stdev_submitted_chrg_amt':float,\n",
      "                                                          'average_Medicare_payment_amt':float,\n",
      "                                                          'stdev_Medicare_payment_amt':float})"
     ],
     "language": "python",
     "metadata": {},
     "outputs": [
      {
       "output_type": "stream",
       "stream": "stderr",
       "text": [
        "[INFO] Start server at: ipc:///tmp/graphlab_server-32212 - Server binary: /Users/hdwall002/anaconda/lib/python2.7/site-packages/graphlab/unity_server - Server log: /tmp/graphlab_server_1421946898.log\n"
       ]
      },
      {
       "output_type": "stream",
       "stream": "stderr",
       "text": [
        "[INFO] GraphLab Server Version: 1.2.1\n"
       ]
      },
      {
       "html": [
        "<pre>PROGRESS: Unable to parse line \"1003892985,SPINDEL,DAVID,,M.D.,M,I,800 AUSTIN ST.,#360,EAST TOWER,,EVANSTON,60202,IL,US,Ophthalmology,Y,O,65855,75,29,74,370.3436,23.616458873,1000,0,291.67506667,28.488589406\"</pre>"
       ],
       "metadata": {},
       "output_type": "display_data",
       "text": [
        "PROGRESS: Unable to parse line \"1003892985,SPINDEL,DAVID,,M.D.,M,I,800 AUSTIN ST.,#360,EAST TOWER,,EVANSTON,60202,IL,US,Ophthalmology,Y,O,65855,75,29,74,370.3436,23.616458873,1000,0,291.67506667,28.488589406\""
       ]
      },
      {
       "html": [
        "<pre>PROGRESS: Unable to parse line \"1881715282,STREJCEK,KATHRYN,M,APN,CNP,F,I,676 N SAINT CLAIR ST,SUITE 1920,CHICAGO,606112927,IL,US,Nurse Practitioner,Y,O,36415,28,23,28,3,0,16.714285714,5.5152848836,3,0\"</pre>"
       ],
       "metadata": {},
       "output_type": "display_data",
       "text": [
        "PROGRESS: Unable to parse line \"1881715282,STREJCEK,KATHRYN,M,APN,CNP,F,I,676 N SAINT CLAIR ST,SUITE 1920,CHICAGO,606112927,IL,US,Nurse Practitioner,Y,O,36415,28,23,28,3,0,16.714285714,5.5152848836,3,0\""
       ]
      },
      {
       "html": [
        "<pre>PROGRESS: Unable to parse line \"1003892985,SPINDEL,DAVID,,M.D.,M,I,800 AUSTIN ST.,#360,EAST TOWER,,EVANSTON,60202,IL,US,Ophthalmology,Y,F,66984,32,25,32,849.64,0,2400,0,669.5275,31.692625227\"</pre>"
       ],
       "metadata": {},
       "output_type": "display_data",
       "text": [
        "PROGRESS: Unable to parse line \"1003892985,SPINDEL,DAVID,,M.D.,M,I,800 AUSTIN ST.,#360,EAST TOWER,,EVANSTON,60202,IL,US,Ophthalmology,Y,F,66984,32,25,32,849.64,0,2400,0,669.5275,31.692625227\""
       ]
      },
      {
       "html": [
        "<pre>PROGRESS: Unable to parse line \"1083657159,KAY,DANIEL,J,M.D.,M,I,1901 W HARRISON ST,JOHN H. STROGER,JR. HOSPITAL OF COOK COUNTY,CHICAGO,606123714,IL,US,Interventional Radiology,Y,F,36558,13,13,13,320.39,0,2205,0,256.31,0\"</pre>"
       ],
       "metadata": {},
       "output_type": "display_data",
       "text": [
        "PROGRESS: Unable to parse line \"1083657159,KAY,DANIEL,J,M.D.,M,I,1901 W HARRISON ST,JOHN H. STROGER,JR. HOSPITAL OF COOK COUNTY,CHICAGO,606123714,IL,US,Interventional Radiology,Y,F,36558,13,13,13,320.39,0,2205,0,256.31,0\""
       ]
      },
      {
       "html": [
        "<pre>PROGRESS: Unable to parse line \"1881715282,STREJCEK,KATHRYN,M,APN,CNP,F,I,676 N SAINT CLAIR ST,SUITE 1920,CHICAGO,606112927,IL,US,Nurse Practitioner,Y,O,80053,35,25,35,9.7717142857,4.3155277682,61.285714286,20.133229715,9.7717142857,4.3155277682\"</pre>"
       ],
       "metadata": {},
       "output_type": "display_data",
       "text": [
        "PROGRESS: Unable to parse line \"1881715282,STREJCEK,KATHRYN,M,APN,CNP,F,I,676 N SAINT CLAIR ST,SUITE 1920,CHICAGO,606112927,IL,US,Nurse Practitioner,Y,O,80053,35,25,35,9.7717142857,4.3155277682,61.285714286,20.133229715,9.7717142857,4.3155277682\""
       ]
      },
      {
       "html": [
        "<pre>PROGRESS: Unable to parse line \"1003892985,SPINDEL,DAVID,,M.D.,M,I,800 AUSTIN ST.,#360,EAST TOWER,,EVANSTON,60202,IL,US,Ophthalmology,Y,O,67228,19,12,18,1128.0036842,129.34248377,1226.3157895,44.034738239,894.00684211,104.9083858\"</pre>"
       ],
       "metadata": {},
       "output_type": "display_data",
       "text": [
        "PROGRESS: Unable to parse line \"1003892985,SPINDEL,DAVID,,M.D.,M,I,800 AUSTIN ST.,#360,EAST TOWER,,EVANSTON,60202,IL,US,Ophthalmology,Y,O,67228,19,12,18,1128.0036842,129.34248377,1226.3157895,44.034738239,894.00684211,104.9083858\""
       ]
      },
      {
       "html": [
        "<pre>PROGRESS: Unable to parse line \"1083657159,KAY,DANIEL,J,M.D.,M,I,1901 W HARRISON ST,JOHN H. STROGER,JR. HOSPITAL OF COOK COUNTY,CHICAGO,606123714,IL,US,Interventional Radiology,Y,F,77001,17,16,17,20.45,0,53,0,16.36,0\"</pre>"
       ],
       "metadata": {},
       "output_type": "display_data",
       "text": [
        "PROGRESS: Unable to parse line \"1083657159,KAY,DANIEL,J,M.D.,M,I,1901 W HARRISON ST,JOHN H. STROGER,JR. HOSPITAL OF COOK COUNTY,CHICAGO,606123714,IL,US,Interventional Radiology,Y,F,77001,17,16,17,20.45,0,53,0,16.36,0\""
       ]
      },
      {
       "html": [
        "<pre>PROGRESS: Unable to parse line \"1881715282,STREJCEK,KATHRYN,M,APN,CNP,F,I,676 N SAINT CLAIR ST,SUITE 1920,CHICAGO,606112927,IL,US,Nurse Practitioner,Y,O,83615,20,11,20,3.524,0.019078784,44,0,3.524,0.019078784\"</pre>"
       ],
       "metadata": {},
       "output_type": "display_data",
       "text": [
        "PROGRESS: Unable to parse line \"1881715282,STREJCEK,KATHRYN,M,APN,CNP,F,I,676 N SAINT CLAIR ST,SUITE 1920,CHICAGO,606112927,IL,US,Nurse Practitioner,Y,O,83615,20,11,20,3.524,0.019078784,44,0,3.524,0.019078784\""
       ]
      },
      {
       "html": [
        "<pre>PROGRESS: Unable to parse line \"1003892985,SPINDEL,DAVID,,M.D.,M,I,800 AUSTIN ST.,#360,EAST TOWER,,EVANSTON,60202,IL,US,Ophthalmology,Y,O,92004,23,23,23,154.93,0,200,0,109.33130435,37.71948998\"</pre>"
       ],
       "metadata": {},
       "output_type": "display_data",
       "text": [
        "PROGRESS: Unable to parse line \"1003892985,SPINDEL,DAVID,,M.D.,M,I,800 AUSTIN ST.,#360,EAST TOWER,,EVANSTON,60202,IL,US,Ophthalmology,Y,O,92004,23,23,23,154.93,0,200,0,109.33130435,37.71948998\""
       ]
      },
      {
       "html": [
        "<pre>PROGRESS: Unable to parse line \"1881715282,STREJCEK,KATHRYN,M,APN,CNP,F,I,676 N SAINT CLAIR ST,SUITE 1920,CHICAGO,606112927,IL,US,Nurse Practitioner,Y,O,83735,33,19,33,9.49,0,45.696969697,9.0469644951,9.49,0\"</pre>"
       ],
       "metadata": {},
       "output_type": "display_data",
       "text": [
        "PROGRESS: Unable to parse line \"1881715282,STREJCEK,KATHRYN,M,APN,CNP,F,I,676 N SAINT CLAIR ST,SUITE 1920,CHICAGO,606112927,IL,US,Nurse Practitioner,Y,O,83735,33,19,33,9.49,0,45.696969697,9.0469644951,9.49,0\""
       ]
      },
      {
       "html": [
        "<pre>PROGRESS: Unable to parse line \"1083662050,DI IORIO,DANIEL,R,D.C.,M.D.,M,I,500 W IL ROUTE 22,,BARRINGTON,600102313,IL,US,Family Practice,Y,O,36415,88,64,88,3,0,15,0,3,0\"</pre>"
       ],
       "metadata": {},
       "output_type": "display_data",
       "text": [
        "PROGRESS: Unable to parse line \"1083662050,DI IORIO,DANIEL,R,D.C.,M.D.,M,I,500 W IL ROUTE 22,,BARRINGTON,600102313,IL,US,Family Practice,Y,O,36415,88,64,88,3,0,15,0,3,0\""
       ]
      },
      {
       "html": [
        "<pre>PROGRESS: Unable to parse line \"1003892985,SPINDEL,DAVID,,M.D.,M,I,800 AUSTIN ST.,#360,EAST TOWER,,EVANSTON,60202,IL,US,Ophthalmology,Y,O,92012,363,167,363,88.72,0,125.8953168,7.009246557,67.032727273,14.464091092\"</pre>"
       ],
       "metadata": {},
       "output_type": "display_data",
       "text": [
        "PROGRESS: Unable to parse line \"1003892985,SPINDEL,DAVID,,M.D.,M,I,800 AUSTIN ST.,#360,EAST TOWER,,EVANSTON,60202,IL,US,Ophthalmology,Y,O,92012,363,167,363,88.72,0,125.8953168,7.009246557,67.032727273,14.464091092\""
       ]
      },
      {
       "html": [
        "<pre>PROGRESS: Read 283695 lines. Lines per second: 139362</pre>"
       ],
       "metadata": {},
       "output_type": "display_data",
       "text": [
        "PROGRESS: Read 283695 lines. Lines per second: 139362"
       ]
      },
      {
       "html": [
        "<pre>PROGRESS: 39836 lines failed to parse correctly</pre>"
       ],
       "metadata": {},
       "output_type": "display_data",
       "text": [
        "PROGRESS: 39836 lines failed to parse correctly"
       ]
      },
      {
       "html": [
        "<pre>PROGRESS: Finished parsing file /Users/hdwall002/Desktop/adamstuckey/data/docgraph/chicago_data_clean.csv</pre>"
       ],
       "metadata": {},
       "output_type": "display_data",
       "text": [
        "PROGRESS: Finished parsing file /Users/hdwall002/Desktop/adamstuckey/data/docgraph/chicago_data_clean.csv"
       ]
      },
      {
       "html": [
        "<pre>PROGRESS: Parsing completed. Parsed 498971 lines in 3.12562 secs.</pre>"
       ],
       "metadata": {},
       "output_type": "display_data",
       "text": [
        "PROGRESS: Parsing completed. Parsed 498971 lines in 3.12562 secs."
       ]
      }
     ],
     "prompt_number": 2
    },
    {
     "cell_type": "code",
     "collapsed": false,
     "input": [
      "nodes_sample = nodes.sample(.05, .25)"
     ],
     "language": "python",
     "metadata": {},
     "outputs": [],
     "prompt_number": 7
    },
    {
     "cell_type": "code",
     "collapsed": false,
     "input": [
      "nodes_sample.save(\"../../../data/docgraph/chicago_node_sample.csv\",format='csv')"
     ],
     "language": "python",
     "metadata": {},
     "outputs": [],
     "prompt_number": 10
    },
    {
     "cell_type": "code",
     "collapsed": false,
     "input": [
      "edges = gl.SFrame.read_csv('../../../data/docgraph/chicago_edge.csv',delimiter=',',\n",
      "                                        column_type_hints={'SharedTransactionCount':int\n",
      "                                                           ,'PatientTotal':int, 'SameDayTotal':int})"
     ],
     "language": "python",
     "metadata": {},
     "outputs": [
      {
       "html": [
        "<pre>PROGRESS: These column type hints were not used: PatientTotal SameDayTotal SharedTransactionCount</pre>"
       ],
       "metadata": {},
       "output_type": "display_data",
       "text": [
        "PROGRESS: These column type hints were not used: PatientTotal SameDayTotal SharedTransactionCount"
       ]
      },
      {
       "html": [
        "<pre>PROGRESS: Read 804898 lines. Lines per second: 529167</pre>"
       ],
       "metadata": {},
       "output_type": "display_data",
       "text": [
        "PROGRESS: Read 804898 lines. Lines per second: 529167"
       ]
      },
      {
       "html": [
        "<pre>PROGRESS: Finished parsing file /Users/hdwall002/Desktop/adamstuckey/data/docgraph/chicago_edge.csv</pre>"
       ],
       "metadata": {},
       "output_type": "display_data",
       "text": [
        "PROGRESS: Finished parsing file /Users/hdwall002/Desktop/adamstuckey/data/docgraph/chicago_edge.csv"
       ]
      },
      {
       "html": [
        "<pre>PROGRESS: Parsing completed. Parsed 2881909 lines in 3.52694 secs.</pre>"
       ],
       "metadata": {},
       "output_type": "display_data",
       "text": [
        "PROGRESS: Parsing completed. Parsed 2881909 lines in 3.52694 secs."
       ]
      }
     ],
     "prompt_number": 41
    },
    {
     "cell_type": "code",
     "collapsed": false,
     "input": [
      "test = [['FirstNPI','SecondNPI','SharedTransactionCount','PatientTotal','SameDayTotal']]\n",
      "for line in edges:\n",
      "    l = [-1,-1,-1,-1,-1]\n",
      "    for k,v in line.iteritems():\n",
      "        k = k.replace('\\'','')\n",
      "        if k == 'FirstNPI':\n",
      "            l[0] = int(v.replace('\\'','').replace('u',''))\n",
      "        elif k == 'SecondNPI':\n",
      "            l[1] = int(v.replace('\\'','').replace('u',''))\n",
      "        elif k == 'SharedTransactionCount':\n",
      "            l[2] = int(v.replace('\\'','').replace('u',''))\n",
      "        elif k == 'PatientTotal':\n",
      "            l[3] = int(v.replace('\\'','').replace('u',''))\n",
      "        elif k == 'SameDayTotal':\n",
      "            l[4] = int(v.replace('\\'','').replace('u',''))\n",
      "    test.append(l)"
     ],
     "language": "python",
     "metadata": {},
     "outputs": [],
     "prompt_number": 104
    },
    {
     "cell_type": "code",
     "collapsed": false,
     "input": [
      "for k,v in edges[1].iteritems():\n",
      "    #print k.replace('\\'','').strip(), len(k.replace('\\'',''))\n",
      "    if k.replace('\\'','').strip() == 'SharedTransactionCount':\n",
      "        print v"
     ],
     "language": "python",
     "metadata": {},
     "outputs": [
      {
       "output_type": "stream",
       "stream": "stdout",
       "text": [
        "u'197       '\n"
       ]
      }
     ],
     "prompt_number": 103
    },
    {
     "cell_type": "code",
     "collapsed": false,
     "input": [],
     "language": "python",
     "metadata": {},
     "outputs": [],
     "prompt_number": 105
    },
    {
     "cell_type": "code",
     "collapsed": false,
     "input": [
      "with open('../../../data/docgraph/chicago_edge_clean.csv','w') as f:\n",
      "    for line in test:\n",
      "        for value in line:\n",
      "            f.write(str(value)+',')\n",
      "        f.write(\"\\n\")"
     ],
     "language": "python",
     "metadata": {},
     "outputs": [],
     "prompt_number": 111
    },
    {
     "cell_type": "code",
     "collapsed": false,
     "input": [
      "edges_clean = gl.SFrame.read_csv('../../../data/docgraph/chicago_edge_clean.csv',delimiter=',',\n",
      "                                        column_type_hints={'SharedTransactionCount':int\n",
      "                                                           ,'PatientTotal':int, 'SameDayTotal':int})"
     ],
     "language": "python",
     "metadata": {},
     "outputs": [
      {
       "html": [
        "<pre>PROGRESS: Read 1646634 lines. Lines per second: 627768</pre>"
       ],
       "metadata": {},
       "output_type": "display_data",
       "text": [
        "PROGRESS: Read 1646634 lines. Lines per second: 627768"
       ]
      },
      {
       "html": [
        "<pre>PROGRESS: Finished parsing file /Users/hdwall002/Desktop/adamstuckey/data/docgraph/chicago_edge_clean.csv</pre>"
       ],
       "metadata": {},
       "output_type": "display_data",
       "text": [
        "PROGRESS: Finished parsing file /Users/hdwall002/Desktop/adamstuckey/data/docgraph/chicago_edge_clean.csv"
       ]
      },
      {
       "html": [
        "<pre>PROGRESS: Parsing completed. Parsed 2881909 lines in 3.51122 secs.</pre>"
       ],
       "metadata": {},
       "output_type": "display_data",
       "text": [
        "PROGRESS: Parsing completed. Parsed 2881909 lines in 3.51122 secs."
       ]
      }
     ],
     "prompt_number": 112
    },
    {
     "cell_type": "code",
     "collapsed": false,
     "input": [
      "edges_clean = edges_clean.remove_column('X6')"
     ],
     "language": "python",
     "metadata": {},
     "outputs": [],
     "prompt_number": 114
    },
    {
     "cell_type": "code",
     "collapsed": false,
     "input": [
      "edges_clean_sample = edges_clean.sample(.05,.25)"
     ],
     "language": "python",
     "metadata": {},
     "outputs": [],
     "prompt_number": 115
    },
    {
     "cell_type": "code",
     "collapsed": false,
     "input": [
      "edges_clean_sample.save(\"../../../data/docgraph/chicago_edge_sample.csv\",format='csv')"
     ],
     "language": "python",
     "metadata": {},
     "outputs": [],
     "prompt_number": 116
    },
    {
     "cell_type": "code",
     "collapsed": false,
     "input": [],
     "language": "python",
     "metadata": {},
     "outputs": []
    }
   ],
   "metadata": {}
  }
 ]
}