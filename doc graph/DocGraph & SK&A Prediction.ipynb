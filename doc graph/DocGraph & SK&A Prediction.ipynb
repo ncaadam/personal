{
 "metadata": {
  "name": "",
  "signature": "sha256:f094268e9058faf3db89584b31b2cee5adf5928f6a7f8438b13dc3a26cd9627d"
 },
 "nbformat": 3,
 "nbformat_minor": 0,
 "worksheets": [
  {
   "cells": [
    {
     "cell_type": "code",
     "collapsed": false,
     "input": [
      "import graphlab as gl"
     ],
     "language": "python",
     "metadata": {},
     "outputs": [],
     "prompt_number": 98
    },
    {
     "cell_type": "code",
     "collapsed": false,
     "input": [
      "ska = gl.SFrame.read_csv('../../../Analytics/DocGraph/Data/Provider Extract - Chicago NPIs.csv')"
     ],
     "language": "python",
     "metadata": {},
     "outputs": [
      {
       "html": [
        "<pre>PROGRESS: Finished parsing file /Users/astuckey002/Documents/Analytics/DocGraph/Data/Provider Extract - Chicago NPIs.csv</pre>"
       ],
       "metadata": {},
       "output_type": "display_data",
       "text": [
        "PROGRESS: Finished parsing file /Users/astuckey002/Documents/Analytics/DocGraph/Data/Provider Extract - Chicago NPIs.csv"
       ]
      },
      {
       "html": [
        "<pre>PROGRESS: Parsing completed. Parsed 100 lines in 0.08 secs.</pre>"
       ],
       "metadata": {},
       "output_type": "display_data",
       "text": [
        "PROGRESS: Parsing completed. Parsed 100 lines in 0.08 secs."
       ]
      },
      {
       "html": [
        "<pre>PROGRESS: Finished parsing file /Users/astuckey002/Documents/Analytics/DocGraph/Data/Provider Extract - Chicago NPIs.csv</pre>"
       ],
       "metadata": {},
       "output_type": "display_data",
       "text": [
        "PROGRESS: Finished parsing file /Users/astuckey002/Documents/Analytics/DocGraph/Data/Provider Extract - Chicago NPIs.csv"
       ]
      },
      {
       "html": [
        "<pre>PROGRESS: Parsing completed. Parsed 21020 lines in 0.29 secs.</pre>"
       ],
       "metadata": {},
       "output_type": "display_data",
       "text": [
        "PROGRESS: Parsing completed. Parsed 21020 lines in 0.29 secs."
       ]
      },
      {
       "output_type": "stream",
       "stream": "stdout",
       "text": [
        "------------------------------------------------------\n",
        "Inferred types from first line of file as \n",
        "column_type_hints=[str,str,str,str,str,str,str,str,str,str,str,str,str,str,str,str,str,str,str,str,str,str,str,int,int,str,int,int,int,str,str,int,int,int,str,str,str,str,str,str,str,int,str,str,str,str,str,str,str,str,str,str,float,float,int,str,int,str,str,str,str,str]\n",
        "If parsing fails due to incorrect types, you can correct\n",
        "the inferred type list above and pass it to read_csv in\n",
        "the column_type_hints argument\n",
        "------------------------------------------------------\n"
       ]
      }
     ],
     "prompt_number": 99
    },
    {
     "cell_type": "code",
     "collapsed": false,
     "input": [
      "ska_uni = ska['NPI'].unique()"
     ],
     "language": "python",
     "metadata": {},
     "outputs": [],
     "prompt_number": 100
    },
    {
     "cell_type": "code",
     "collapsed": false,
     "input": [
      "dg = gl.SFrame.read_csv('../../../Analytics/DocGraph/Data/chicago_nodes.csv')"
     ],
     "language": "python",
     "metadata": {},
     "outputs": [
      {
       "html": [
        "<pre>PROGRESS: Finished parsing file /Users/astuckey002/Documents/Analytics/DocGraph/Data/chicago_nodes.csv</pre>"
       ],
       "metadata": {},
       "output_type": "display_data",
       "text": [
        "PROGRESS: Finished parsing file /Users/astuckey002/Documents/Analytics/DocGraph/Data/chicago_nodes.csv"
       ]
      },
      {
       "html": [
        "<pre>PROGRESS: Parsing completed. Parsed 100 lines in 0.30 secs.</pre>"
       ],
       "metadata": {},
       "output_type": "display_data",
       "text": [
        "PROGRESS: Parsing completed. Parsed 100 lines in 0.30 secs."
       ]
      },
      {
       "html": [
        "<pre>PROGRESS: Unable to parse line \"1770717423,BRICKNER,SHAWN,E,M.D.,,F,I,676 N ST CLAIR,SUITE 2300,CHICAGO,606112922,IL,US,Internal Medicine,Y,O,36415,13,12,13,3,0,30,0,3,0\"</pre>"
       ],
       "metadata": {},
       "output_type": "display_data",
       "text": [
        "PROGRESS: Unable to parse line \"1770717423,BRICKNER,SHAWN,E,M.D.,,F,I,676 N ST CLAIR,SUITE 2300,CHICAGO,606112922,IL,US,Internal Medicine,Y,O,36415,13,12,13,3,0,30,0,3,0\""
       ]
      },
      {
       "html": [
        "<pre>PROGRESS: Unable to parse line \"1285627166,ABI-MANSOUR,PIERRE,S,MD,FACC,M,I,4400 W 95TH ST,SUITE 409,OAK LAWN,604532654,IL,US,Cardiology,Y,F,33208,16,16,16,608.73375,34.931963492,2020.125,695.68463356,466.474375,82.339271612\"</pre>"
       ],
       "metadata": {},
       "output_type": "display_data",
       "text": [
        "PROGRESS: Unable to parse line \"1285627166,ABI-MANSOUR,PIERRE,S,MD,FACC,M,I,4400 W 95TH ST,SUITE 409,OAK LAWN,604532654,IL,US,Cardiology,Y,F,33208,16,16,16,608.73375,34.931963492,2020.125,695.68463356,466.474375,82.339271612\""
       ]
      },
      {
       "html": [
        "<pre>PROGRESS: Unable to parse line \"1629364252,EXCELLENT DIAGNOSTIC IMAGING CENTER,LLC,,,,,O,14489 JOHN HUMPHREY DR,SUITE 1-SC,ORLAND PARK,604622637,IL,US,Independent Diagnostic Testing Facility,Y,O,76536,12,12,12,130.5,0,500,0,98.55,19.402255024\"</pre>"
       ],
       "metadata": {},
       "output_type": "display_data",
       "text": [
        "PROGRESS: Unable to parse line \"1629364252,EXCELLENT DIAGNOSTIC IMAGING CENTER,LLC,,,,,O,14489 JOHN HUMPHREY DR,SUITE 1-SC,ORLAND PARK,604622637,IL,US,Independent Diagnostic Testing Facility,Y,O,76536,12,12,12,130.5,0,500,0,98.55,19.402255024\""
       ]
      },
      {
       "html": [
        "<pre>PROGRESS: Unable to parse line \"1083657159,KAY,DANIEL,J,M.D.,M,I,1901 W HARRISON ST,JOHN H. STROGER,JR. HOSPITAL OF COOK COUNTY,CHICAGO,606123714,IL,US,Interventional Radiology,Y,F,36558,13,13,13,320.39,0,2205,0,256.31,0\"</pre>"
       ],
       "metadata": {},
       "output_type": "display_data",
       "text": [
        "PROGRESS: Unable to parse line \"1083657159,KAY,DANIEL,J,M.D.,M,I,1901 W HARRISON ST,JOHN H. STROGER,JR. HOSPITAL OF COOK COUNTY,CHICAGO,606123714,IL,US,Interventional Radiology,Y,F,36558,13,13,13,320.39,0,2205,0,256.31,0\""
       ]
      },
      {
       "html": [
        "<pre>PROGRESS: Unable to parse line \"1770717423,BRICKNER,SHAWN,E,M.D.,,F,I,676 N ST CLAIR,SUITE 2300,CHICAGO,606112922,IL,US,Internal Medicine,Y,O,99213,13,13,13,75.8,0,200,0,60.64,0\"</pre>"
       ],
       "metadata": {},
       "output_type": "display_data",
       "text": [
        "PROGRESS: Unable to parse line \"1770717423,BRICKNER,SHAWN,E,M.D.,,F,I,676 N ST CLAIR,SUITE 2300,CHICAGO,606112922,IL,US,Internal Medicine,Y,O,99213,13,13,13,75.8,0,200,0,60.64,0\""
       ]
      },
      {
       "html": [
        "<pre>PROGRESS: Unable to parse line \"1396777611,HIGDON,LAURA,J,PH.D.,F,I,8170 MCCORMICK BLVD,DAVKEN ASSOCIATES,P.C.,SKOKIE,600762920,IL,US,Clinical Psychologist,Y,F,90801,133,129,133,127.76,0,246.55639098,8.1981233263,100.8356391,9.1493775912\"</pre>"
       ],
       "metadata": {},
       "output_type": "display_data",
       "text": [
        "PROGRESS: Unable to parse line \"1396777611,HIGDON,LAURA,J,PH.D.,F,I,8170 MCCORMICK BLVD,DAVKEN ASSOCIATES,P.C.,SKOKIE,600762920,IL,US,Clinical Psychologist,Y,F,90801,133,129,133,127.76,0,246.55639098,8.1981233263,100.8356391,9.1493775912\""
       ]
      },
      {
       "html": [
        "<pre>PROGRESS: Unable to parse line \"1487694279,FILS,KENNETH,A,PH.D.,M,I,8170 MCCORMICK BLVD,DAVKEN ASSOCIATES,P.C.,SKOKIE,600762920,IL,US,Clinical Psychologist,Y,F,90801,30,30,30,127.76,0,200,0,98.178666667,18.538381399\"</pre>"
       ],
       "metadata": {},
       "output_type": "display_data",
       "text": [
        "PROGRESS: Unable to parse line \"1487694279,FILS,KENNETH,A,PH.D.,M,I,8170 MCCORMICK BLVD,DAVKEN ASSOCIATES,P.C.,SKOKIE,600762920,IL,US,Clinical Psychologist,Y,F,90801,30,30,30,127.76,0,200,0,98.178666667,18.538381399\""
       ]
      },
      {
       "html": [
        "<pre>PROGRESS: Unable to parse line \"1285627166,ABI-MANSOUR,PIERRE,S,MD,FACC,M,I,4400 W 95TH ST,SUITE 409,OAK LAWN,604532654,IL,US,Cardiology,Y,O,80061,22,21,22,13.898181818,0.7927147622,61.090909091,22.609147567,13.898181818,0.7927147622\"</pre>"
       ],
       "metadata": {},
       "output_type": "display_data",
       "text": [
        "PROGRESS: Unable to parse line \"1285627166,ABI-MANSOUR,PIERRE,S,MD,FACC,M,I,4400 W 95TH ST,SUITE 409,OAK LAWN,604532654,IL,US,Cardiology,Y,O,80061,22,21,22,13.898181818,0.7927147622,61.090909091,22.609147567,13.898181818,0.7927147622\""
       ]
      },
      {
       "html": [
        "<pre>PROGRESS: Unable to parse line \"1629364252,EXCELLENT DIAGNOSTIC IMAGING CENTER,LLC,,,,,O,14489 JOHN HUMPHREY DR,SUITE 1-SC,ORLAND PARK,604622637,IL,US,Independent Diagnostic Testing Facility,Y,O,76700,62,60,62,143.9,0,950,0,115.12,0\"</pre>"
       ],
       "metadata": {},
       "output_type": "display_data",
       "text": [
        "PROGRESS: Unable to parse line \"1629364252,EXCELLENT DIAGNOSTIC IMAGING CENTER,LLC,,,,,O,14489 JOHN HUMPHREY DR,SUITE 1-SC,ORLAND PARK,604622637,IL,US,Independent Diagnostic Testing Facility,Y,O,76700,62,60,62,143.9,0,950,0,115.12,0\""
       ]
      },
      {
       "html": [
        "<pre>PROGRESS: Unable to parse line \"1083657159,KAY,DANIEL,J,M.D.,M,I,1901 W HARRISON ST,JOHN H. STROGER,JR. HOSPITAL OF COOK COUNTY,CHICAGO,606123714,IL,US,Interventional Radiology,Y,F,77001,17,16,17,20.45,0,53,0,16.36,0\"</pre>"
       ],
       "metadata": {},
       "output_type": "display_data",
       "text": [
        "PROGRESS: Unable to parse line \"1083657159,KAY,DANIEL,J,M.D.,M,I,1901 W HARRISON ST,JOHN H. STROGER,JR. HOSPITAL OF COOK COUNTY,CHICAGO,606123714,IL,US,Interventional Radiology,Y,F,77001,17,16,17,20.45,0,53,0,16.36,0\""
       ]
      },
      {
       "html": [
        "<pre>PROGRESS: Unable to parse line \"1144253980,ROCHESTER,DAVID,,MD,M,I,2650 RIDGE AVE,DEPARTMENT OF RADIOLOGY,G507,EVANSTON,602011718,IL,US,Diagnostic Radiology,Y,F,71010,789,718,773,9.4753865653,0.0540103625,29,0,7.5278833967,0.6070560652\"</pre>"
       ],
       "metadata": {},
       "output_type": "display_data",
       "text": [
        "PROGRESS: Unable to parse line \"1144253980,ROCHESTER,DAVID,,MD,M,I,2650 RIDGE AVE,DEPARTMENT OF RADIOLOGY,G507,EVANSTON,602011718,IL,US,Diagnostic Radiology,Y,F,71010,789,718,773,9.4753865653,0.0540103625,29,0,7.5278833967,0.6070560652\""
       ]
      },
      {
       "html": [
        "<pre>PROGRESS: Unable to parse line \"1770717423,BRICKNER,SHAWN,E,M.D.,,F,I,676 N ST CLAIR,SUITE 2300,CHICAGO,606112922,IL,US,Internal Medicine,Y,F,99223,42,42,42,212.71,0,600,0,170.17,0\"</pre>"
       ],
       "metadata": {},
       "output_type": "display_data",
       "text": [
        "PROGRESS: Unable to parse line \"1770717423,BRICKNER,SHAWN,E,M.D.,,F,I,676 N ST CLAIR,SUITE 2300,CHICAGO,606112922,IL,US,Internal Medicine,Y,F,99223,42,42,42,212.71,0,600,0,170.17,0\""
       ]
      },
      {
       "html": [
        "<pre>PROGRESS: Unable to parse line \"1396777611,HIGDON,LAURA,J,PH.D.,F,I,8170 MCCORMICK BLVD,DAVKEN ASSOCIATES,P.C.,SKOKIE,600762920,IL,US,Clinical Psychologist,Y,F,90804,16,11,16,52.375,0.8598691761,75,0,31.425,0.5159215057\"</pre>"
       ],
       "metadata": {},
       "output_type": "display_data",
       "text": [
        "PROGRESS: Unable to parse line \"1396777611,HIGDON,LAURA,J,PH.D.,F,I,8170 MCCORMICK BLVD,DAVKEN ASSOCIATES,P.C.,SKOKIE,600762920,IL,US,Clinical Psychologist,Y,F,90804,16,11,16,52.375,0.8598691761,75,0,31.425,0.5159215057\""
       ]
      },
      {
       "html": [
        "<pre>PROGRESS: Unable to parse line \"1487694279,FILS,KENNETH,A,PH.D.,M,I,8170 MCCORMICK BLVD,DAVKEN ASSOCIATES,P.C.,SKOKIE,600762920,IL,US,Clinical Psychologist,Y,F,90816,639,51,639,57.409107981,0.9678506522,75,0,34.432128326,0.7030389049\"</pre>"
       ],
       "metadata": {},
       "output_type": "display_data",
       "text": [
        "PROGRESS: Unable to parse line \"1487694279,FILS,KENNETH,A,PH.D.,M,I,8170 MCCORMICK BLVD,DAVKEN ASSOCIATES,P.C.,SKOKIE,600762920,IL,US,Clinical Psychologist,Y,F,90816,639,51,639,57.409107981,0.9678506522,75,0,34.432128326,0.7030389049\""
       ]
      },
      {
       "html": [
        "<pre>PROGRESS: Unable to parse line \"1285627166,ABI-MANSOUR,PIERRE,S,MD,FACC,M,I,4400 W 95TH ST,SUITE 409,OAK LAWN,604532654,IL,US,Cardiology,Y,O,84450,22,21,22,4.0072727273,0.2286359118,17.727272727,6.253594008,4.0072727273,0.2286359118\"</pre>"
       ],
       "metadata": {},
       "output_type": "display_data",
       "text": [
        "PROGRESS: Unable to parse line \"1285627166,ABI-MANSOUR,PIERRE,S,MD,FACC,M,I,4400 W 95TH ST,SUITE 409,OAK LAWN,604532654,IL,US,Cardiology,Y,O,84450,22,21,22,4.0072727273,0.2286359118,17.727272727,6.253594008,4.0072727273,0.2286359118\""
       ]
      },
      {
       "html": [
        "<pre>PROGRESS: Unable to parse line \"1629364252,EXCELLENT DIAGNOSTIC IMAGING CENTER,LLC,,,,,O,14489 JOHN HUMPHREY DR,SUITE 1-SC,ORLAND PARK,604622637,IL,US,Independent Diagnostic Testing Facility,Y,O,76770,77,74,77,98.58,26.436641239,950,0,78.864285714,21.146602467\"</pre>"
       ],
       "metadata": {},
       "output_type": "display_data",
       "text": [
        "PROGRESS: Unable to parse line \"1629364252,EXCELLENT DIAGNOSTIC IMAGING CENTER,LLC,,,,,O,14489 JOHN HUMPHREY DR,SUITE 1-SC,ORLAND PARK,604622637,IL,US,Independent Diagnostic Testing Facility,Y,O,76770,77,74,77,98.58,26.436641239,950,0,78.864285714,21.146602467\""
       ]
      },
      {
       "html": [
        "<pre>PROGRESS: Read 283682 lines. Lines per second: 188759.42</pre>"
       ],
       "metadata": {},
       "output_type": "display_data",
       "text": [
        "PROGRESS: Read 283682 lines. Lines per second: 188759.42"
       ]
      },
      {
       "html": [
        "<pre>PROGRESS: 59783 lines failed to parse correctly</pre>"
       ],
       "metadata": {},
       "output_type": "display_data",
       "text": [
        "PROGRESS: 59783 lines failed to parse correctly"
       ]
      },
      {
       "html": [
        "<pre>PROGRESS: Finished parsing file /Users/astuckey002/Documents/Analytics/DocGraph/Data/chicago_nodes.csv</pre>"
       ],
       "metadata": {},
       "output_type": "display_data",
       "text": [
        "PROGRESS: Finished parsing file /Users/astuckey002/Documents/Analytics/DocGraph/Data/chicago_nodes.csv"
       ]
      },
      {
       "html": [
        "<pre>PROGRESS: Parsing completed. Parsed 748438 lines in 3.16 secs.</pre>"
       ],
       "metadata": {},
       "output_type": "display_data",
       "text": [
        "PROGRESS: Parsing completed. Parsed 748438 lines in 3.16 secs."
       ]
      },
      {
       "output_type": "stream",
       "stream": "stdout",
       "text": [
        "------------------------------------------------------\n",
        "Inferred types from first line of file as \n",
        "column_type_hints=[int,str,str,str,str,str,str,str,str,str,int,str,str,str,str,str,str,int,int,int,float,float,float,float,float,float]\n",
        "If parsing fails due to incorrect types, you can correct\n",
        "the inferred type list above and pass it to read_csv in\n",
        "the column_type_hints argument\n",
        "------------------------------------------------------\n"
       ]
      }
     ],
     "prompt_number": 101
    },
    {
     "cell_type": "code",
     "collapsed": false,
     "input": [
      "ska_dict = {}\n",
      "for npi in ska_uni:\n",
      "    ska_dict[npi] = 0"
     ],
     "language": "python",
     "metadata": {},
     "outputs": [],
     "prompt_number": 102
    },
    {
     "cell_type": "code",
     "collapsed": false,
     "input": [
      "dg.add_column(gl.SArray([-1 for x in range(0,len(dg))]),'in_both')"
     ],
     "language": "python",
     "metadata": {},
     "outputs": [
      {
       "html": [
        "<div style=\"max-height:1000px;max-width:1500px;overflow:auto;\"><table frame=\"box\" rules=\"cols\">\n",
        "    <tr>\n",
        "        <th style=\"padding-left: 1em; padding-right: 1em; text-align: center\">npi</th>\n",
        "        <th style=\"padding-left: 1em; padding-right: 1em; text-align: center\">nppes_provider_last_org_n<br>ame</th>\n",
        "        <th style=\"padding-left: 1em; padding-right: 1em; text-align: center\">nppes_provider_first_name</th>\n",
        "        <th style=\"padding-left: 1em; padding-right: 1em; text-align: center\">nppes_provider_mi</th>\n",
        "        <th style=\"padding-left: 1em; padding-right: 1em; text-align: center\">nppes_credentials</th>\n",
        "        <th style=\"padding-left: 1em; padding-right: 1em; text-align: center\">nppes_provider_gender</th>\n",
        "    </tr>\n",
        "    <tr>\n",
        "        <td style=\"padding-left: 1em; padding-right: 1em; text-align: center; vertical-align: top\">1083646103</td>\n",
        "        <td style=\"padding-left: 1em; padding-right: 1em; text-align: center; vertical-align: top\">NARVASA</td>\n",
        "        <td style=\"padding-left: 1em; padding-right: 1em; text-align: center; vertical-align: top\">MARIA ERNA</td>\n",
        "        <td style=\"padding-left: 1em; padding-right: 1em; text-align: center; vertical-align: top\">N</td>\n",
        "        <td style=\"padding-left: 1em; padding-right: 1em; text-align: center; vertical-align: top\">MD</td>\n",
        "        <td style=\"padding-left: 1em; padding-right: 1em; text-align: center; vertical-align: top\">F</td>\n",
        "    </tr>\n",
        "    <tr>\n",
        "        <td style=\"padding-left: 1em; padding-right: 1em; text-align: center; vertical-align: top\">1083646103</td>\n",
        "        <td style=\"padding-left: 1em; padding-right: 1em; text-align: center; vertical-align: top\">NARVASA</td>\n",
        "        <td style=\"padding-left: 1em; padding-right: 1em; text-align: center; vertical-align: top\">MARIA ERNA</td>\n",
        "        <td style=\"padding-left: 1em; padding-right: 1em; text-align: center; vertical-align: top\">N</td>\n",
        "        <td style=\"padding-left: 1em; padding-right: 1em; text-align: center; vertical-align: top\">MD</td>\n",
        "        <td style=\"padding-left: 1em; padding-right: 1em; text-align: center; vertical-align: top\">F</td>\n",
        "    </tr>\n",
        "    <tr>\n",
        "        <td style=\"padding-left: 1em; padding-right: 1em; text-align: center; vertical-align: top\">1083647978</td>\n",
        "        <td style=\"padding-left: 1em; padding-right: 1em; text-align: center; vertical-align: top\">SHENEMAN</td>\n",
        "        <td style=\"padding-left: 1em; padding-right: 1em; text-align: center; vertical-align: top\">SUSAN</td>\n",
        "        <td style=\"padding-left: 1em; padding-right: 1em; text-align: center; vertical-align: top\"></td>\n",
        "        <td style=\"padding-left: 1em; padding-right: 1em; text-align: center; vertical-align: top\">M.D.</td>\n",
        "        <td style=\"padding-left: 1em; padding-right: 1em; text-align: center; vertical-align: top\">F</td>\n",
        "    </tr>\n",
        "    <tr>\n",
        "        <td style=\"padding-left: 1em; padding-right: 1em; text-align: center; vertical-align: top\">1083647978</td>\n",
        "        <td style=\"padding-left: 1em; padding-right: 1em; text-align: center; vertical-align: top\">SHENEMAN</td>\n",
        "        <td style=\"padding-left: 1em; padding-right: 1em; text-align: center; vertical-align: top\">SUSAN</td>\n",
        "        <td style=\"padding-left: 1em; padding-right: 1em; text-align: center; vertical-align: top\"></td>\n",
        "        <td style=\"padding-left: 1em; padding-right: 1em; text-align: center; vertical-align: top\">M.D.</td>\n",
        "        <td style=\"padding-left: 1em; padding-right: 1em; text-align: center; vertical-align: top\">F</td>\n",
        "    </tr>\n",
        "    <tr>\n",
        "        <td style=\"padding-left: 1em; padding-right: 1em; text-align: center; vertical-align: top\">1083647978</td>\n",
        "        <td style=\"padding-left: 1em; padding-right: 1em; text-align: center; vertical-align: top\">SHENEMAN</td>\n",
        "        <td style=\"padding-left: 1em; padding-right: 1em; text-align: center; vertical-align: top\">SUSAN</td>\n",
        "        <td style=\"padding-left: 1em; padding-right: 1em; text-align: center; vertical-align: top\"></td>\n",
        "        <td style=\"padding-left: 1em; padding-right: 1em; text-align: center; vertical-align: top\">M.D.</td>\n",
        "        <td style=\"padding-left: 1em; padding-right: 1em; text-align: center; vertical-align: top\">F</td>\n",
        "    </tr>\n",
        "    <tr>\n",
        "        <td style=\"padding-left: 1em; padding-right: 1em; text-align: center; vertical-align: top\">1083647978</td>\n",
        "        <td style=\"padding-left: 1em; padding-right: 1em; text-align: center; vertical-align: top\">SHENEMAN</td>\n",
        "        <td style=\"padding-left: 1em; padding-right: 1em; text-align: center; vertical-align: top\">SUSAN</td>\n",
        "        <td style=\"padding-left: 1em; padding-right: 1em; text-align: center; vertical-align: top\"></td>\n",
        "        <td style=\"padding-left: 1em; padding-right: 1em; text-align: center; vertical-align: top\">M.D.</td>\n",
        "        <td style=\"padding-left: 1em; padding-right: 1em; text-align: center; vertical-align: top\">F</td>\n",
        "    </tr>\n",
        "    <tr>\n",
        "        <td style=\"padding-left: 1em; padding-right: 1em; text-align: center; vertical-align: top\">1083647978</td>\n",
        "        <td style=\"padding-left: 1em; padding-right: 1em; text-align: center; vertical-align: top\">SHENEMAN</td>\n",
        "        <td style=\"padding-left: 1em; padding-right: 1em; text-align: center; vertical-align: top\">SUSAN</td>\n",
        "        <td style=\"padding-left: 1em; padding-right: 1em; text-align: center; vertical-align: top\"></td>\n",
        "        <td style=\"padding-left: 1em; padding-right: 1em; text-align: center; vertical-align: top\">M.D.</td>\n",
        "        <td style=\"padding-left: 1em; padding-right: 1em; text-align: center; vertical-align: top\">F</td>\n",
        "    </tr>\n",
        "    <tr>\n",
        "        <td style=\"padding-left: 1em; padding-right: 1em; text-align: center; vertical-align: top\">1083647978</td>\n",
        "        <td style=\"padding-left: 1em; padding-right: 1em; text-align: center; vertical-align: top\">SHENEMAN</td>\n",
        "        <td style=\"padding-left: 1em; padding-right: 1em; text-align: center; vertical-align: top\">SUSAN</td>\n",
        "        <td style=\"padding-left: 1em; padding-right: 1em; text-align: center; vertical-align: top\"></td>\n",
        "        <td style=\"padding-left: 1em; padding-right: 1em; text-align: center; vertical-align: top\">M.D.</td>\n",
        "        <td style=\"padding-left: 1em; padding-right: 1em; text-align: center; vertical-align: top\">F</td>\n",
        "    </tr>\n",
        "    <tr>\n",
        "        <td style=\"padding-left: 1em; padding-right: 1em; text-align: center; vertical-align: top\">1083648992</td>\n",
        "        <td style=\"padding-left: 1em; padding-right: 1em; text-align: center; vertical-align: top\">VAJARIA</td>\n",
        "        <td style=\"padding-left: 1em; padding-right: 1em; text-align: center; vertical-align: top\">PUNIT</td>\n",
        "        <td style=\"padding-left: 1em; padding-right: 1em; text-align: center; vertical-align: top\"></td>\n",
        "        <td style=\"padding-left: 1em; padding-right: 1em; text-align: center; vertical-align: top\">M.D.</td>\n",
        "        <td style=\"padding-left: 1em; padding-right: 1em; text-align: center; vertical-align: top\">M</td>\n",
        "    </tr>\n",
        "    <tr>\n",
        "        <td style=\"padding-left: 1em; padding-right: 1em; text-align: center; vertical-align: top\">1083648992</td>\n",
        "        <td style=\"padding-left: 1em; padding-right: 1em; text-align: center; vertical-align: top\">VAJARIA</td>\n",
        "        <td style=\"padding-left: 1em; padding-right: 1em; text-align: center; vertical-align: top\">PUNIT</td>\n",
        "        <td style=\"padding-left: 1em; padding-right: 1em; text-align: center; vertical-align: top\"></td>\n",
        "        <td style=\"padding-left: 1em; padding-right: 1em; text-align: center; vertical-align: top\">M.D.</td>\n",
        "        <td style=\"padding-left: 1em; padding-right: 1em; text-align: center; vertical-align: top\">M</td>\n",
        "    </tr>\n",
        "</table>\n",
        "<table frame=\"box\" rules=\"cols\">\n",
        "    <tr>\n",
        "        <th style=\"padding-left: 1em; padding-right: 1em; text-align: center\">nppes_entity_code</th>\n",
        "        <th style=\"padding-left: 1em; padding-right: 1em; text-align: center\">nppes_provider_street1</th>\n",
        "        <th style=\"padding-left: 1em; padding-right: 1em; text-align: center\">nppes_provider_street2</th>\n",
        "        <th style=\"padding-left: 1em; padding-right: 1em; text-align: center\">nppes_provider_city</th>\n",
        "        <th style=\"padding-left: 1em; padding-right: 1em; text-align: center\">nppes_provider_zip</th>\n",
        "        <th style=\"padding-left: 1em; padding-right: 1em; text-align: center\">nppes_provider_state</th>\n",
        "    </tr>\n",
        "    <tr>\n",
        "        <td style=\"padding-left: 1em; padding-right: 1em; text-align: center; vertical-align: top\">I</td>\n",
        "        <td style=\"padding-left: 1em; padding-right: 1em; text-align: center; vertical-align: top\">1786 MOON LAKE BLVD</td>\n",
        "        <td style=\"padding-left: 1em; padding-right: 1em; text-align: center; vertical-align: top\">SUITE 104</td>\n",
        "        <td style=\"padding-left: 1em; padding-right: 1em; text-align: center; vertical-align: top\">HOFFMAN ESTATES</td>\n",
        "        <td style=\"padding-left: 1em; padding-right: 1em; text-align: center; vertical-align: top\">601945029</td>\n",
        "        <td style=\"padding-left: 1em; padding-right: 1em; text-align: center; vertical-align: top\">IL</td>\n",
        "    </tr>\n",
        "    <tr>\n",
        "        <td style=\"padding-left: 1em; padding-right: 1em; text-align: center; vertical-align: top\">I</td>\n",
        "        <td style=\"padding-left: 1em; padding-right: 1em; text-align: center; vertical-align: top\">1786 MOON LAKE BLVD</td>\n",
        "        <td style=\"padding-left: 1em; padding-right: 1em; text-align: center; vertical-align: top\">SUITE 104</td>\n",
        "        <td style=\"padding-left: 1em; padding-right: 1em; text-align: center; vertical-align: top\">HOFFMAN ESTATES</td>\n",
        "        <td style=\"padding-left: 1em; padding-right: 1em; text-align: center; vertical-align: top\">601945029</td>\n",
        "        <td style=\"padding-left: 1em; padding-right: 1em; text-align: center; vertical-align: top\">IL</td>\n",
        "    </tr>\n",
        "    <tr>\n",
        "        <td style=\"padding-left: 1em; padding-right: 1em; text-align: center; vertical-align: top\">I</td>\n",
        "        <td style=\"padding-left: 1em; padding-right: 1em; text-align: center; vertical-align: top\">20 S CLARK ST</td>\n",
        "        <td style=\"padding-left: 1em; padding-right: 1em; text-align: center; vertical-align: top\">SUITE 1100</td>\n",
        "        <td style=\"padding-left: 1em; padding-right: 1em; text-align: center; vertical-align: top\">CHICAGO</td>\n",
        "        <td style=\"padding-left: 1em; padding-right: 1em; text-align: center; vertical-align: top\">606031802</td>\n",
        "        <td style=\"padding-left: 1em; padding-right: 1em; text-align: center; vertical-align: top\">IL</td>\n",
        "    </tr>\n",
        "    <tr>\n",
        "        <td style=\"padding-left: 1em; padding-right: 1em; text-align: center; vertical-align: top\">I</td>\n",
        "        <td style=\"padding-left: 1em; padding-right: 1em; text-align: center; vertical-align: top\">20 S CLARK ST</td>\n",
        "        <td style=\"padding-left: 1em; padding-right: 1em; text-align: center; vertical-align: top\">SUITE 1100</td>\n",
        "        <td style=\"padding-left: 1em; padding-right: 1em; text-align: center; vertical-align: top\">CHICAGO</td>\n",
        "        <td style=\"padding-left: 1em; padding-right: 1em; text-align: center; vertical-align: top\">606031802</td>\n",
        "        <td style=\"padding-left: 1em; padding-right: 1em; text-align: center; vertical-align: top\">IL</td>\n",
        "    </tr>\n",
        "    <tr>\n",
        "        <td style=\"padding-left: 1em; padding-right: 1em; text-align: center; vertical-align: top\">I</td>\n",
        "        <td style=\"padding-left: 1em; padding-right: 1em; text-align: center; vertical-align: top\">20 S CLARK ST</td>\n",
        "        <td style=\"padding-left: 1em; padding-right: 1em; text-align: center; vertical-align: top\">SUITE 1100</td>\n",
        "        <td style=\"padding-left: 1em; padding-right: 1em; text-align: center; vertical-align: top\">CHICAGO</td>\n",
        "        <td style=\"padding-left: 1em; padding-right: 1em; text-align: center; vertical-align: top\">606031802</td>\n",
        "        <td style=\"padding-left: 1em; padding-right: 1em; text-align: center; vertical-align: top\">IL</td>\n",
        "    </tr>\n",
        "    <tr>\n",
        "        <td style=\"padding-left: 1em; padding-right: 1em; text-align: center; vertical-align: top\">I</td>\n",
        "        <td style=\"padding-left: 1em; padding-right: 1em; text-align: center; vertical-align: top\">20 S CLARK ST</td>\n",
        "        <td style=\"padding-left: 1em; padding-right: 1em; text-align: center; vertical-align: top\">SUITE 1100</td>\n",
        "        <td style=\"padding-left: 1em; padding-right: 1em; text-align: center; vertical-align: top\">CHICAGO</td>\n",
        "        <td style=\"padding-left: 1em; padding-right: 1em; text-align: center; vertical-align: top\">606031802</td>\n",
        "        <td style=\"padding-left: 1em; padding-right: 1em; text-align: center; vertical-align: top\">IL</td>\n",
        "    </tr>\n",
        "    <tr>\n",
        "        <td style=\"padding-left: 1em; padding-right: 1em; text-align: center; vertical-align: top\">I</td>\n",
        "        <td style=\"padding-left: 1em; padding-right: 1em; text-align: center; vertical-align: top\">20 S CLARK ST</td>\n",
        "        <td style=\"padding-left: 1em; padding-right: 1em; text-align: center; vertical-align: top\">SUITE 1100</td>\n",
        "        <td style=\"padding-left: 1em; padding-right: 1em; text-align: center; vertical-align: top\">CHICAGO</td>\n",
        "        <td style=\"padding-left: 1em; padding-right: 1em; text-align: center; vertical-align: top\">606031802</td>\n",
        "        <td style=\"padding-left: 1em; padding-right: 1em; text-align: center; vertical-align: top\">IL</td>\n",
        "    </tr>\n",
        "    <tr>\n",
        "        <td style=\"padding-left: 1em; padding-right: 1em; text-align: center; vertical-align: top\">I</td>\n",
        "        <td style=\"padding-left: 1em; padding-right: 1em; text-align: center; vertical-align: top\">20 S CLARK ST</td>\n",
        "        <td style=\"padding-left: 1em; padding-right: 1em; text-align: center; vertical-align: top\">SUITE 1100</td>\n",
        "        <td style=\"padding-left: 1em; padding-right: 1em; text-align: center; vertical-align: top\">CHICAGO</td>\n",
        "        <td style=\"padding-left: 1em; padding-right: 1em; text-align: center; vertical-align: top\">606031802</td>\n",
        "        <td style=\"padding-left: 1em; padding-right: 1em; text-align: center; vertical-align: top\">IL</td>\n",
        "    </tr>\n",
        "    <tr>\n",
        "        <td style=\"padding-left: 1em; padding-right: 1em; text-align: center; vertical-align: top\">I</td>\n",
        "        <td style=\"padding-left: 1em; padding-right: 1em; text-align: center; vertical-align: top\">2100 GLENWOOD AVE</td>\n",
        "        <td style=\"padding-left: 1em; padding-right: 1em; text-align: center; vertical-align: top\"></td>\n",
        "        <td style=\"padding-left: 1em; padding-right: 1em; text-align: center; vertical-align: top\">JOLIET</td>\n",
        "        <td style=\"padding-left: 1em; padding-right: 1em; text-align: center; vertical-align: top\">604355487</td>\n",
        "        <td style=\"padding-left: 1em; padding-right: 1em; text-align: center; vertical-align: top\">IL</td>\n",
        "    </tr>\n",
        "    <tr>\n",
        "        <td style=\"padding-left: 1em; padding-right: 1em; text-align: center; vertical-align: top\">I</td>\n",
        "        <td style=\"padding-left: 1em; padding-right: 1em; text-align: center; vertical-align: top\">2100 GLENWOOD AVE</td>\n",
        "        <td style=\"padding-left: 1em; padding-right: 1em; text-align: center; vertical-align: top\"></td>\n",
        "        <td style=\"padding-left: 1em; padding-right: 1em; text-align: center; vertical-align: top\">JOLIET</td>\n",
        "        <td style=\"padding-left: 1em; padding-right: 1em; text-align: center; vertical-align: top\">604355487</td>\n",
        "        <td style=\"padding-left: 1em; padding-right: 1em; text-align: center; vertical-align: top\">IL</td>\n",
        "    </tr>\n",
        "</table>\n",
        "<table frame=\"box\" rules=\"cols\">\n",
        "    <tr>\n",
        "        <th style=\"padding-left: 1em; padding-right: 1em; text-align: center\">nppes_provider_country</th>\n",
        "        <th style=\"padding-left: 1em; padding-right: 1em; text-align: center\">provider_type</th>\n",
        "        <th style=\"padding-left: 1em; padding-right: 1em; text-align: center\">medicare_participation_in<br>dicator</th>\n",
        "        <th style=\"padding-left: 1em; padding-right: 1em; text-align: center\">place_of_service</th>\n",
        "        <th style=\"padding-left: 1em; padding-right: 1em; text-align: center\">hcpcs_code</th>\n",
        "        <th style=\"padding-left: 1em; padding-right: 1em; text-align: center\">line_srvc_cnt</th>\n",
        "    </tr>\n",
        "    <tr>\n",
        "        <td style=\"padding-left: 1em; padding-right: 1em; text-align: center; vertical-align: top\">US</td>\n",
        "        <td style=\"padding-left: 1em; padding-right: 1em; text-align: center; vertical-align: top\">Psychiatry</td>\n",
        "        <td style=\"padding-left: 1em; padding-right: 1em; text-align: center; vertical-align: top\">Y</td>\n",
        "        <td style=\"padding-left: 1em; padding-right: 1em; text-align: center; vertical-align: top\">O</td>\n",
        "        <td style=\"padding-left: 1em; padding-right: 1em; text-align: center; vertical-align: top\">90805</td>\n",
        "        <td style=\"padding-left: 1em; padding-right: 1em; text-align: center; vertical-align: top\">66</td>\n",
        "    </tr>\n",
        "    <tr>\n",
        "        <td style=\"padding-left: 1em; padding-right: 1em; text-align: center; vertical-align: top\">US</td>\n",
        "        <td style=\"padding-left: 1em; padding-right: 1em; text-align: center; vertical-align: top\">Psychiatry</td>\n",
        "        <td style=\"padding-left: 1em; padding-right: 1em; text-align: center; vertical-align: top\">Y</td>\n",
        "        <td style=\"padding-left: 1em; padding-right: 1em; text-align: center; vertical-align: top\">O</td>\n",
        "        <td style=\"padding-left: 1em; padding-right: 1em; text-align: center; vertical-align: top\">90862</td>\n",
        "        <td style=\"padding-left: 1em; padding-right: 1em; text-align: center; vertical-align: top\">236</td>\n",
        "    </tr>\n",
        "    <tr>\n",
        "        <td style=\"padding-left: 1em; padding-right: 1em; text-align: center; vertical-align: top\">US</td>\n",
        "        <td style=\"padding-left: 1em; padding-right: 1em; text-align: center; vertical-align: top\">Internal Medicine</td>\n",
        "        <td style=\"padding-left: 1em; padding-right: 1em; text-align: center; vertical-align: top\">Y</td>\n",
        "        <td style=\"padding-left: 1em; padding-right: 1em; text-align: center; vertical-align: top\">O</td>\n",
        "        <td style=\"padding-left: 1em; padding-right: 1em; text-align: center; vertical-align: top\">36415</td>\n",
        "        <td style=\"padding-left: 1em; padding-right: 1em; text-align: center; vertical-align: top\">189</td>\n",
        "    </tr>\n",
        "    <tr>\n",
        "        <td style=\"padding-left: 1em; padding-right: 1em; text-align: center; vertical-align: top\">US</td>\n",
        "        <td style=\"padding-left: 1em; padding-right: 1em; text-align: center; vertical-align: top\">Internal Medicine</td>\n",
        "        <td style=\"padding-left: 1em; padding-right: 1em; text-align: center; vertical-align: top\">Y</td>\n",
        "        <td style=\"padding-left: 1em; padding-right: 1em; text-align: center; vertical-align: top\">O</td>\n",
        "        <td style=\"padding-left: 1em; padding-right: 1em; text-align: center; vertical-align: top\">90662</td>\n",
        "        <td style=\"padding-left: 1em; padding-right: 1em; text-align: center; vertical-align: top\">26</td>\n",
        "    </tr>\n",
        "    <tr>\n",
        "        <td style=\"padding-left: 1em; padding-right: 1em; text-align: center; vertical-align: top\">US</td>\n",
        "        <td style=\"padding-left: 1em; padding-right: 1em; text-align: center; vertical-align: top\">Internal Medicine</td>\n",
        "        <td style=\"padding-left: 1em; padding-right: 1em; text-align: center; vertical-align: top\">Y</td>\n",
        "        <td style=\"padding-left: 1em; padding-right: 1em; text-align: center; vertical-align: top\">O</td>\n",
        "        <td style=\"padding-left: 1em; padding-right: 1em; text-align: center; vertical-align: top\">93000</td>\n",
        "        <td style=\"padding-left: 1em; padding-right: 1em; text-align: center; vertical-align: top\">21</td>\n",
        "    </tr>\n",
        "    <tr>\n",
        "        <td style=\"padding-left: 1em; padding-right: 1em; text-align: center; vertical-align: top\">US</td>\n",
        "        <td style=\"padding-left: 1em; padding-right: 1em; text-align: center; vertical-align: top\">Internal Medicine</td>\n",
        "        <td style=\"padding-left: 1em; padding-right: 1em; text-align: center; vertical-align: top\">Y</td>\n",
        "        <td style=\"padding-left: 1em; padding-right: 1em; text-align: center; vertical-align: top\">O</td>\n",
        "        <td style=\"padding-left: 1em; padding-right: 1em; text-align: center; vertical-align: top\">99213</td>\n",
        "        <td style=\"padding-left: 1em; padding-right: 1em; text-align: center; vertical-align: top\">132</td>\n",
        "    </tr>\n",
        "    <tr>\n",
        "        <td style=\"padding-left: 1em; padding-right: 1em; text-align: center; vertical-align: top\">US</td>\n",
        "        <td style=\"padding-left: 1em; padding-right: 1em; text-align: center; vertical-align: top\">Internal Medicine</td>\n",
        "        <td style=\"padding-left: 1em; padding-right: 1em; text-align: center; vertical-align: top\">Y</td>\n",
        "        <td style=\"padding-left: 1em; padding-right: 1em; text-align: center; vertical-align: top\">O</td>\n",
        "        <td style=\"padding-left: 1em; padding-right: 1em; text-align: center; vertical-align: top\">99214</td>\n",
        "        <td style=\"padding-left: 1em; padding-right: 1em; text-align: center; vertical-align: top\">165</td>\n",
        "    </tr>\n",
        "    <tr>\n",
        "        <td style=\"padding-left: 1em; padding-right: 1em; text-align: center; vertical-align: top\">US</td>\n",
        "        <td style=\"padding-left: 1em; padding-right: 1em; text-align: center; vertical-align: top\">Internal Medicine</td>\n",
        "        <td style=\"padding-left: 1em; padding-right: 1em; text-align: center; vertical-align: top\">Y</td>\n",
        "        <td style=\"padding-left: 1em; padding-right: 1em; text-align: center; vertical-align: top\">O</td>\n",
        "        <td style=\"padding-left: 1em; padding-right: 1em; text-align: center; vertical-align: top\">G0008</td>\n",
        "        <td style=\"padding-left: 1em; padding-right: 1em; text-align: center; vertical-align: top\">31</td>\n",
        "    </tr>\n",
        "    <tr>\n",
        "        <td style=\"padding-left: 1em; padding-right: 1em; text-align: center; vertical-align: top\">US</td>\n",
        "        <td style=\"padding-left: 1em; padding-right: 1em; text-align: center; vertical-align: top\">Internal Medicine</td>\n",
        "        <td style=\"padding-left: 1em; padding-right: 1em; text-align: center; vertical-align: top\">Y</td>\n",
        "        <td style=\"padding-left: 1em; padding-right: 1em; text-align: center; vertical-align: top\">O</td>\n",
        "        <td style=\"padding-left: 1em; padding-right: 1em; text-align: center; vertical-align: top\">36415</td>\n",
        "        <td style=\"padding-left: 1em; padding-right: 1em; text-align: center; vertical-align: top\">1072</td>\n",
        "    </tr>\n",
        "    <tr>\n",
        "        <td style=\"padding-left: 1em; padding-right: 1em; text-align: center; vertical-align: top\">US</td>\n",
        "        <td style=\"padding-left: 1em; padding-right: 1em; text-align: center; vertical-align: top\">Internal Medicine</td>\n",
        "        <td style=\"padding-left: 1em; padding-right: 1em; text-align: center; vertical-align: top\">Y</td>\n",
        "        <td style=\"padding-left: 1em; padding-right: 1em; text-align: center; vertical-align: top\">O</td>\n",
        "        <td style=\"padding-left: 1em; padding-right: 1em; text-align: center; vertical-align: top\">69210</td>\n",
        "        <td style=\"padding-left: 1em; padding-right: 1em; text-align: center; vertical-align: top\">77</td>\n",
        "    </tr>\n",
        "</table>\n",
        "<table frame=\"box\" rules=\"cols\">\n",
        "    <tr>\n",
        "        <th style=\"padding-left: 1em; padding-right: 1em; text-align: center\">bene_unique_cnt</th>\n",
        "        <th style=\"padding-left: 1em; padding-right: 1em; text-align: center\">bene_day_srvc_cnt</th>\n",
        "        <th style=\"padding-left: 1em; padding-right: 1em; text-align: center\">average_Medicare_allowed_<br>amt</th>\n",
        "        <th style=\"padding-left: 1em; padding-right: 1em; text-align: center\">stdev_Medicare_allowed_am<br>t</th>\n",
        "        <th style=\"padding-left: 1em; padding-right: 1em; text-align: center\">average_submitted_chrg_am<br>t</th>\n",
        "    </tr>\n",
        "    <tr>\n",
        "        <td style=\"padding-left: 1em; padding-right: 1em; text-align: center; vertical-align: top\">39</td>\n",
        "        <td style=\"padding-left: 1em; padding-right: 1em; text-align: center; vertical-align: top\">66</td>\n",
        "        <td style=\"padding-left: 1em; padding-right: 1em; text-align: center; vertical-align: top\">69.988333333</td>\n",
        "        <td style=\"padding-left: 1em; padding-right: 1em; text-align: center; vertical-align: top\">1.293192647</td>\n",
        "        <td style=\"padding-left: 1em; padding-right: 1em; text-align: center; vertical-align: top\">179.72727273</td>\n",
        "    </tr>\n",
        "    <tr>\n",
        "        <td style=\"padding-left: 1em; padding-right: 1em; text-align: center; vertical-align: top\">83</td>\n",
        "        <td style=\"padding-left: 1em; padding-right: 1em; text-align: center; vertical-align: top\">236</td>\n",
        "        <td style=\"padding-left: 1em; padding-right: 1em; text-align: center; vertical-align: top\">56.36</td>\n",
        "        <td style=\"padding-left: 1em; padding-right: 1em; text-align: center; vertical-align: top\">0.0</td>\n",
        "        <td style=\"padding-left: 1em; padding-right: 1em; text-align: center; vertical-align: top\">148.11864407</td>\n",
        "    </tr>\n",
        "    <tr>\n",
        "        <td style=\"padding-left: 1em; padding-right: 1em; text-align: center; vertical-align: top\">97</td>\n",
        "        <td style=\"padding-left: 1em; padding-right: 1em; text-align: center; vertical-align: top\">189</td>\n",
        "        <td style=\"padding-left: 1em; padding-right: 1em; text-align: center; vertical-align: top\">3.0</td>\n",
        "        <td style=\"padding-left: 1em; padding-right: 1em; text-align: center; vertical-align: top\">0.0</td>\n",
        "        <td style=\"padding-left: 1em; padding-right: 1em; text-align: center; vertical-align: top\">19.984126984</td>\n",
        "    </tr>\n",
        "    <tr>\n",
        "        <td style=\"padding-left: 1em; padding-right: 1em; text-align: center; vertical-align: top\">26</td>\n",
        "        <td style=\"padding-left: 1em; padding-right: 1em; text-align: center; vertical-align: top\">26</td>\n",
        "        <td style=\"padding-left: 1em; padding-right: 1em; text-align: center; vertical-align: top\">30.92</td>\n",
        "        <td style=\"padding-left: 1em; padding-right: 1em; text-align: center; vertical-align: top\">0.0</td>\n",
        "        <td style=\"padding-left: 1em; padding-right: 1em; text-align: center; vertical-align: top\">43.0</td>\n",
        "    </tr>\n",
        "    <tr>\n",
        "        <td style=\"padding-left: 1em; padding-right: 1em; text-align: center; vertical-align: top\">20</td>\n",
        "        <td style=\"padding-left: 1em; padding-right: 1em; text-align: center; vertical-align: top\">21</td>\n",
        "        <td style=\"padding-left: 1em; padding-right: 1em; text-align: center; vertical-align: top\">20.61</td>\n",
        "        <td style=\"padding-left: 1em; padding-right: 1em; text-align: center; vertical-align: top\">0.0</td>\n",
        "        <td style=\"padding-left: 1em; padding-right: 1em; text-align: center; vertical-align: top\">95.0</td>\n",
        "    </tr>\n",
        "    <tr>\n",
        "        <td style=\"padding-left: 1em; padding-right: 1em; text-align: center; vertical-align: top\">76</td>\n",
        "        <td style=\"padding-left: 1em; padding-right: 1em; text-align: center; vertical-align: top\">132</td>\n",
        "        <td style=\"padding-left: 1em; padding-right: 1em; text-align: center; vertical-align: top\">75.8</td>\n",
        "        <td style=\"padding-left: 1em; padding-right: 1em; text-align: center; vertical-align: top\">0.0</td>\n",
        "        <td style=\"padding-left: 1em; padding-right: 1em; text-align: center; vertical-align: top\">120.0</td>\n",
        "    </tr>\n",
        "    <tr>\n",
        "        <td style=\"padding-left: 1em; padding-right: 1em; text-align: center; vertical-align: top\">104</td>\n",
        "        <td style=\"padding-left: 1em; padding-right: 1em; text-align: center; vertical-align: top\">165</td>\n",
        "        <td style=\"padding-left: 1em; padding-right: 1em; text-align: center; vertical-align: top\">111.71218182</td>\n",
        "        <td style=\"padding-left: 1em; padding-right: 1em; text-align: center; vertical-align: top\">2.2771838197</td>\n",
        "        <td style=\"padding-left: 1em; padding-right: 1em; text-align: center; vertical-align: top\">173.23030303</td>\n",
        "    </tr>\n",
        "    <tr>\n",
        "        <td style=\"padding-left: 1em; padding-right: 1em; text-align: center; vertical-align: top\">31</td>\n",
        "        <td style=\"padding-left: 1em; padding-right: 1em; text-align: center; vertical-align: top\">31</td>\n",
        "        <td style=\"padding-left: 1em; padding-right: 1em; text-align: center; vertical-align: top\">25.0</td>\n",
        "        <td style=\"padding-left: 1em; padding-right: 1em; text-align: center; vertical-align: top\">0.0</td>\n",
        "        <td style=\"padding-left: 1em; padding-right: 1em; text-align: center; vertical-align: top\">25.0</td>\n",
        "    </tr>\n",
        "    <tr>\n",
        "        <td style=\"padding-left: 1em; padding-right: 1em; text-align: center; vertical-align: top\">448</td>\n",
        "        <td style=\"padding-left: 1em; padding-right: 1em; text-align: center; vertical-align: top\">1072</td>\n",
        "        <td style=\"padding-left: 1em; padding-right: 1em; text-align: center; vertical-align: top\">3.0</td>\n",
        "        <td style=\"padding-left: 1em; padding-right: 1em; text-align: center; vertical-align: top\">0.0</td>\n",
        "        <td style=\"padding-left: 1em; padding-right: 1em; text-align: center; vertical-align: top\">3.3731343284</td>\n",
        "    </tr>\n",
        "    <tr>\n",
        "        <td style=\"padding-left: 1em; padding-right: 1em; text-align: center; vertical-align: top\">72</td>\n",
        "        <td style=\"padding-left: 1em; padding-right: 1em; text-align: center; vertical-align: top\">77</td>\n",
        "        <td style=\"padding-left: 1em; padding-right: 1em; text-align: center; vertical-align: top\">55.63</td>\n",
        "        <td style=\"padding-left: 1em; padding-right: 1em; text-align: center; vertical-align: top\">0.0</td>\n",
        "        <td style=\"padding-left: 1em; padding-right: 1em; text-align: center; vertical-align: top\">106.0</td>\n",
        "    </tr>\n",
        "</table>\n",
        "<table frame=\"box\" rules=\"cols\">\n",
        "    <tr>\n",
        "        <th style=\"padding-left: 1em; padding-right: 1em; text-align: center\">stdev_submitted_chrg_amt</th>\n",
        "        <th style=\"padding-left: 1em; padding-right: 1em; text-align: center\">average_Medicare_payment_<br>amt</th>\n",
        "        <th style=\"padding-left: 1em; padding-right: 1em; text-align: center\">stdev_Medicare_payment_am<br>t</th>\n",
        "        <th style=\"padding-left: 1em; padding-right: 1em; text-align: center\">in_both</th>\n",
        "    </tr>\n",
        "    <tr>\n",
        "        <td style=\"padding-left: 1em; padding-right: 1em; text-align: center; vertical-align: top\">2.9875775864</td>\n",
        "        <td style=\"padding-left: 1em; padding-right: 1em; text-align: center; vertical-align: top\">35.85469697</td>\n",
        "        <td style=\"padding-left: 1em; padding-right: 1em; text-align: center; vertical-align: top\">14.079631884</td>\n",
        "        <td style=\"padding-left: 1em; padding-right: 1em; text-align: center; vertical-align: top\">-1</td>\n",
        "    </tr>\n",
        "    <tr>\n",
        "        <td style=\"padding-left: 1em; padding-right: 1em; text-align: center; vertical-align: top\">2.4707423283</td>\n",
        "        <td style=\"padding-left: 1em; padding-right: 1em; text-align: center; vertical-align: top\">28.853347458</td>\n",
        "        <td style=\"padding-left: 1em; padding-right: 1em; text-align: center; vertical-align: top\">11.754020851</td>\n",
        "        <td style=\"padding-left: 1em; padding-right: 1em; text-align: center; vertical-align: top\">-1</td>\n",
        "    </tr>\n",
        "    <tr>\n",
        "        <td style=\"padding-left: 1em; padding-right: 1em; text-align: center; vertical-align: top\">0.2176398286</td>\n",
        "        <td style=\"padding-left: 1em; padding-right: 1em; text-align: center; vertical-align: top\">3.0</td>\n",
        "        <td style=\"padding-left: 1em; padding-right: 1em; text-align: center; vertical-align: top\">0.0</td>\n",
        "        <td style=\"padding-left: 1em; padding-right: 1em; text-align: center; vertical-align: top\">-1</td>\n",
        "    </tr>\n",
        "    <tr>\n",
        "        <td style=\"padding-left: 1em; padding-right: 1em; text-align: center; vertical-align: top\">0.0</td>\n",
        "        <td style=\"padding-left: 1em; padding-right: 1em; text-align: center; vertical-align: top\">30.92</td>\n",
        "        <td style=\"padding-left: 1em; padding-right: 1em; text-align: center; vertical-align: top\">0.0</td>\n",
        "        <td style=\"padding-left: 1em; padding-right: 1em; text-align: center; vertical-align: top\">-1</td>\n",
        "    </tr>\n",
        "    <tr>\n",
        "        <td style=\"padding-left: 1em; padding-right: 1em; text-align: center; vertical-align: top\">0.0</td>\n",
        "        <td style=\"padding-left: 1em; padding-right: 1em; text-align: center; vertical-align: top\">12.121904762</td>\n",
        "        <td style=\"padding-left: 1em; padding-right: 1em; text-align: center; vertical-align: top\">7.0543249949</td>\n",
        "        <td style=\"padding-left: 1em; padding-right: 1em; text-align: center; vertical-align: top\">-1</td>\n",
        "    </tr>\n",
        "    <tr>\n",
        "        <td style=\"padding-left: 1em; padding-right: 1em; text-align: center; vertical-align: top\">0.0</td>\n",
        "        <td style=\"padding-left: 1em; padding-right: 1em; text-align: center; vertical-align: top\">53.869242424</td>\n",
        "        <td style=\"padding-left: 1em; padding-right: 1em; text-align: center; vertical-align: top\">18.659705112</td>\n",
        "        <td style=\"padding-left: 1em; padding-right: 1em; text-align: center; vertical-align: top\">-1</td>\n",
        "    </tr>\n",
        "    <tr>\n",
        "        <td style=\"padding-left: 1em; padding-right: 1em; text-align: center; vertical-align: top\">15.755566305</td>\n",
        "        <td style=\"padding-left: 1em; padding-right: 1em; text-align: center; vertical-align: top\">75.822363636</td>\n",
        "        <td style=\"padding-left: 1em; padding-right: 1em; text-align: center; vertical-align: top\">29.46051965</td>\n",
        "        <td style=\"padding-left: 1em; padding-right: 1em; text-align: center; vertical-align: top\">-1</td>\n",
        "    </tr>\n",
        "    <tr>\n",
        "        <td style=\"padding-left: 1em; padding-right: 1em; text-align: center; vertical-align: top\">0.0</td>\n",
        "        <td style=\"padding-left: 1em; padding-right: 1em; text-align: center; vertical-align: top\">25.0</td>\n",
        "        <td style=\"padding-left: 1em; padding-right: 1em; text-align: center; vertical-align: top\">0.0</td>\n",
        "        <td style=\"padding-left: 1em; padding-right: 1em; text-align: center; vertical-align: top\">-1</td>\n",
        "    </tr>\n",
        "    <tr>\n",
        "        <td style=\"padding-left: 1em; padding-right: 1em; text-align: center; vertical-align: top\">2.4147298041</td>\n",
        "        <td style=\"padding-left: 1em; padding-right: 1em; text-align: center; vertical-align: top\">2.9953358209</td>\n",
        "        <td style=\"padding-left: 1em; padding-right: 1em; text-align: center; vertical-align: top\">0.088923281</td>\n",
        "        <td style=\"padding-left: 1em; padding-right: 1em; text-align: center; vertical-align: top\">-1</td>\n",
        "    </tr>\n",
        "    <tr>\n",
        "        <td style=\"padding-left: 1em; padding-right: 1em; text-align: center; vertical-align: top\">0.0</td>\n",
        "        <td style=\"padding-left: 1em; padding-right: 1em; text-align: center; vertical-align: top\">40.073376623</td>\n",
        "        <td style=\"padding-left: 1em; padding-right: 1em; text-align: center; vertical-align: top\">10.895952973</td>\n",
        "        <td style=\"padding-left: 1em; padding-right: 1em; text-align: center; vertical-align: top\">-1</td>\n",
        "    </tr>\n",
        "    <tr>\n",
        "        <td style=\"padding-left: 1em; padding-right: 1em; text-align: center; vertical-align: top\">...</td>\n",
        "        <td style=\"padding-left: 1em; padding-right: 1em; text-align: center; vertical-align: top\">...</td>\n",
        "        <td style=\"padding-left: 1em; padding-right: 1em; text-align: center; vertical-align: top\">...</td>\n",
        "        <td style=\"padding-left: 1em; padding-right: 1em; text-align: center; vertical-align: top\">...</td>\n",
        "    </tr>\n",
        "</table>\n",
        "[748438 rows x 27 columns]<br/>Note: Only the head of the SFrame is printed.<br/>You can use print_rows(num_rows=m, num_columns=n) to print more rows and columns.\n",
        "</div>"
       ],
       "metadata": {},
       "output_type": "pyout",
       "prompt_number": 103,
       "text": [
        "Columns:\n",
        "\tnpi\tint\n",
        "\tnppes_provider_last_org_name\tstr\n",
        "\tnppes_provider_first_name\tstr\n",
        "\tnppes_provider_mi\tstr\n",
        "\tnppes_credentials\tstr\n",
        "\tnppes_provider_gender\tstr\n",
        "\tnppes_entity_code\tstr\n",
        "\tnppes_provider_street1\tstr\n",
        "\tnppes_provider_street2\tstr\n",
        "\tnppes_provider_city\tstr\n",
        "\tnppes_provider_zip\tint\n",
        "\tnppes_provider_state\tstr\n",
        "\tnppes_provider_country\tstr\n",
        "\tprovider_type\tstr\n",
        "\tmedicare_participation_indicator\tstr\n",
        "\tplace_of_service\tstr\n",
        "\thcpcs_code\tstr\n",
        "\tline_srvc_cnt\tint\n",
        "\tbene_unique_cnt\tint\n",
        "\tbene_day_srvc_cnt\tint\n",
        "\taverage_Medicare_allowed_amt\tfloat\n",
        "\tstdev_Medicare_allowed_amt\tfloat\n",
        "\taverage_submitted_chrg_amt\tfloat\n",
        "\tstdev_submitted_chrg_amt\tfloat\n",
        "\taverage_Medicare_payment_amt\tfloat\n",
        "\tstdev_Medicare_payment_amt\tfloat\n",
        "\tin_both\tint\n",
        "\n",
        "Rows: 748438\n",
        "\n",
        "Data:\n",
        "+------------+------------------------------+---------------------------+-------------------+\n",
        "|    npi     | nppes_provider_last_org_name | nppes_provider_first_name | nppes_provider_mi |\n",
        "+------------+------------------------------+---------------------------+-------------------+\n",
        "| 1083646103 |           NARVASA            |         MARIA ERNA        |         N         |\n",
        "| 1083646103 |           NARVASA            |         MARIA ERNA        |         N         |\n",
        "| 1083647978 |           SHENEMAN           |           SUSAN           |                   |\n",
        "| 1083647978 |           SHENEMAN           |           SUSAN           |                   |\n",
        "| 1083647978 |           SHENEMAN           |           SUSAN           |                   |\n",
        "| 1083647978 |           SHENEMAN           |           SUSAN           |                   |\n",
        "| 1083647978 |           SHENEMAN           |           SUSAN           |                   |\n",
        "| 1083647978 |           SHENEMAN           |           SUSAN           |                   |\n",
        "| 1083648992 |           VAJARIA            |           PUNIT           |                   |\n",
        "| 1083648992 |           VAJARIA            |           PUNIT           |                   |\n",
        "+------------+------------------------------+---------------------------+-------------------+\n",
        "+-------------------+-----------------------+-------------------+\n",
        "| nppes_credentials | nppes_provider_gender | nppes_entity_code |\n",
        "+-------------------+-----------------------+-------------------+\n",
        "|         MD        |           F           |         I         |\n",
        "|         MD        |           F           |         I         |\n",
        "|        M.D.       |           F           |         I         |\n",
        "|        M.D.       |           F           |         I         |\n",
        "|        M.D.       |           F           |         I         |\n",
        "|        M.D.       |           F           |         I         |\n",
        "|        M.D.       |           F           |         I         |\n",
        "|        M.D.       |           F           |         I         |\n",
        "|        M.D.       |           M           |         I         |\n",
        "|        M.D.       |           M           |         I         |\n",
        "+-------------------+-----------------------+-------------------+\n",
        "+------------------------+------------------------+---------------------+\n",
        "| nppes_provider_street1 | nppes_provider_street2 | nppes_provider_city |\n",
        "+------------------------+------------------------+---------------------+\n",
        "|  1786 MOON LAKE BLVD   |       SUITE 104        |   HOFFMAN ESTATES   |\n",
        "|  1786 MOON LAKE BLVD   |       SUITE 104        |   HOFFMAN ESTATES   |\n",
        "|     20 S CLARK ST      |       SUITE 1100       |       CHICAGO       |\n",
        "|     20 S CLARK ST      |       SUITE 1100       |       CHICAGO       |\n",
        "|     20 S CLARK ST      |       SUITE 1100       |       CHICAGO       |\n",
        "|     20 S CLARK ST      |       SUITE 1100       |       CHICAGO       |\n",
        "|     20 S CLARK ST      |       SUITE 1100       |       CHICAGO       |\n",
        "|     20 S CLARK ST      |       SUITE 1100       |       CHICAGO       |\n",
        "|   2100 GLENWOOD AVE    |                        |        JOLIET       |\n",
        "|   2100 GLENWOOD AVE    |                        |        JOLIET       |\n",
        "+------------------------+------------------------+---------------------+\n",
        "+--------------------+----------------------+------------------------+\n",
        "| nppes_provider_zip | nppes_provider_state | nppes_provider_country |\n",
        "+--------------------+----------------------+------------------------+\n",
        "|     601945029      |          IL          |           US           |\n",
        "|     601945029      |          IL          |           US           |\n",
        "|     606031802      |          IL          |           US           |\n",
        "|     606031802      |          IL          |           US           |\n",
        "|     606031802      |          IL          |           US           |\n",
        "|     606031802      |          IL          |           US           |\n",
        "|     606031802      |          IL          |           US           |\n",
        "|     606031802      |          IL          |           US           |\n",
        "|     604355487      |          IL          |           US           |\n",
        "|     604355487      |          IL          |           US           |\n",
        "+--------------------+----------------------+------------------------+\n",
        "+-------------------+--------------------------------+------------------+------------+\n",
        "|   provider_type   | medicare_participation_ind ... | place_of_service | hcpcs_code |\n",
        "+-------------------+--------------------------------+------------------+------------+\n",
        "|     Psychiatry    |               Y                |        O         |   90805    |\n",
        "|     Psychiatry    |               Y                |        O         |   90862    |\n",
        "| Internal Medicine |               Y                |        O         |   36415    |\n",
        "| Internal Medicine |               Y                |        O         |   90662    |\n",
        "| Internal Medicine |               Y                |        O         |   93000    |\n",
        "| Internal Medicine |               Y                |        O         |   99213    |\n",
        "| Internal Medicine |               Y                |        O         |   99214    |\n",
        "| Internal Medicine |               Y                |        O         |   G0008    |\n",
        "| Internal Medicine |               Y                |        O         |   36415    |\n",
        "| Internal Medicine |               Y                |        O         |   69210    |\n",
        "+-------------------+--------------------------------+------------------+------------+\n",
        "+---------------+-----------------+-------------------+-----+\n",
        "| line_srvc_cnt | bene_unique_cnt | bene_day_srvc_cnt | ... |\n",
        "+---------------+-----------------+-------------------+-----+\n",
        "|       66      |        39       |         66        | ... |\n",
        "|      236      |        83       |        236        | ... |\n",
        "|      189      |        97       |        189        | ... |\n",
        "|       26      |        26       |         26        | ... |\n",
        "|       21      |        20       |         21        | ... |\n",
        "|      132      |        76       |        132        | ... |\n",
        "|      165      |       104       |        165        | ... |\n",
        "|       31      |        31       |         31        | ... |\n",
        "|      1072     |       448       |        1072       | ... |\n",
        "|       77      |        72       |         77        | ... |\n",
        "|      ...      |       ...       |        ...        | ... |\n",
        "+---------------+-----------------+-------------------+-----+\n",
        "[748438 rows x 27 columns]\n",
        "Note: Only the head of the SFrame is printed.\n",
        "You can use print_rows(num_rows=m, num_columns=n) to print more rows and columns."
       ]
      }
     ],
     "prompt_number": 103
    },
    {
     "cell_type": "code",
     "collapsed": false,
     "input": [
      "dg_class = dg"
     ],
     "language": "python",
     "metadata": {},
     "outputs": [],
     "prompt_number": 104
    },
    {
     "cell_type": "code",
     "collapsed": false,
     "input": [
      "def in_both(row):\n",
      "    if row['npi'] in ska_dict:\n",
      "        row['in_both'] = 1\n",
      "    else:\n",
      "        row['in_both'] = 0\n",
      "\n",
      "    return row"
     ],
     "language": "python",
     "metadata": {},
     "outputs": [],
     "prompt_number": 105
    },
    {
     "cell_type": "code",
     "collapsed": false,
     "input": [
      "dg_class_n = dg_class.apply(lambda x: in_both(x))"
     ],
     "language": "python",
     "metadata": {},
     "outputs": [],
     "prompt_number": 106
    },
    {
     "cell_type": "code",
     "collapsed": false,
     "input": [
      "dg_class_df = dg_class_n.unpack(column_name_prefix=\"\")"
     ],
     "language": "python",
     "metadata": {},
     "outputs": [],
     "prompt_number": 107
    },
    {
     "cell_type": "code",
     "collapsed": false,
     "input": [
      "temp = dg_class_df.filter_by(0,'in_both')"
     ],
     "language": "python",
     "metadata": {},
     "outputs": [],
     "prompt_number": 122
    },
    {
     "cell_type": "code",
     "collapsed": false,
     "input": [
      "temp.groupby(['npi','nppes_entity_code'],gl.aggregate.COUNT()).show()"
     ],
     "language": "python",
     "metadata": {},
     "outputs": [],
     "prompt_number": 126
    },
    {
     "cell_type": "code",
     "collapsed": false,
     "input": [
      "temp.show()"
     ],
     "language": "python",
     "metadata": {},
     "outputs": [],
     "prompt_number": 123
    },
    {
     "cell_type": "heading",
     "level": 1,
     "metadata": {},
     "source": [
      "Model Building"
     ]
    },
    {
     "cell_type": "code",
     "collapsed": false,
     "input": [
      "dg_class_df.column_names"
     ],
     "language": "python",
     "metadata": {},
     "outputs": [
      {
       "metadata": {},
       "output_type": "pyout",
       "prompt_number": 51,
       "text": [
        "<bound method SFrame.column_names of Columns:\n",
        "\taverage_Medicare_allowed_amt\tfloat\n",
        "\taverage_Medicare_payment_amt\tfloat\n",
        "\taverage_submitted_chrg_amt\tfloat\n",
        "\tbene_day_srvc_cnt\tint\n",
        "\tbene_unique_cnt\tint\n",
        "\thcpcs_code\tstr\n",
        "\tin_both\tint\n",
        "\tline_srvc_cnt\tint\n",
        "\tmedicare_participation_indicator\tstr\n",
        "\tnpi\tint\n",
        "\tnppes_credentials\tstr\n",
        "\tnppes_entity_code\tstr\n",
        "\tnppes_provider_city\tstr\n",
        "\tnppes_provider_country\tstr\n",
        "\tnppes_provider_first_name\tstr\n",
        "\tnppes_provider_gender\tstr\n",
        "\tnppes_provider_last_org_name\tstr\n",
        "\tnppes_provider_mi\tstr\n",
        "\tnppes_provider_state\tstr\n",
        "\tnppes_provider_street1\tstr\n",
        "\tnppes_provider_street2\tstr\n",
        "\tnppes_provider_zip\tint\n",
        "\tplace_of_service\tstr\n",
        "\tprovider_type\tstr\n",
        "\tstdev_Medicare_allowed_amt\tfloat\n",
        "\tstdev_Medicare_payment_amt\tfloat\n",
        "\tstdev_submitted_chrg_amt\tfloat\n",
        "\n",
        "Rows: 748438\n",
        "\n",
        "Data:\n",
        "+------------------------------+------------------------------+----------------------------+\n",
        "| average_Medicare_allowed_amt | average_Medicare_payment_amt | average_submitted_chrg_amt |\n",
        "+------------------------------+------------------------------+----------------------------+\n",
        "|         69.988333333         |         35.85469697          |        179.72727273        |\n",
        "|            56.36             |         28.853347458         |        148.11864407        |\n",
        "|             3.0              |             3.0              |        19.984126984        |\n",
        "|            30.92             |            30.92             |            43.0            |\n",
        "|            20.61             |         12.121904762         |            95.0            |\n",
        "|             75.8             |         53.869242424         |           120.0            |\n",
        "|         111.71218182         |         75.822363636         |        173.23030303        |\n",
        "|             25.0             |             25.0             |            25.0            |\n",
        "|             3.0              |         2.9953358209         |        3.3731343284        |\n",
        "|            55.63             |         40.073376623         |           106.0            |\n",
        "+------------------------------+------------------------------+----------------------------+\n",
        "+-------------------+-----------------+------------+---------+---------------+--------------------------------+\n",
        "| bene_day_srvc_cnt | bene_unique_cnt | hcpcs_code | in_both | line_srvc_cnt | medicare_participation_ind ... |\n",
        "+-------------------+-----------------+------------+---------+---------------+--------------------------------+\n",
        "|         66        |        39       |   90805    |    1    |       66      |               Y                |\n",
        "|        236        |        83       |   90862    |    1    |      236      |               Y                |\n",
        "|        189        |        97       |   36415    |    1    |      189      |               Y                |\n",
        "|         26        |        26       |   90662    |    1    |       26      |               Y                |\n",
        "|         21        |        20       |   93000    |    1    |       21      |               Y                |\n",
        "|        132        |        76       |   99213    |    1    |      132      |               Y                |\n",
        "|        165        |       104       |   99214    |    1    |      165      |               Y                |\n",
        "|         31        |        31       |   G0008    |    1    |       31      |               Y                |\n",
        "|        1072       |       448       |   36415    |    1    |      1072     |               Y                |\n",
        "|         77        |        72       |   69210    |    1    |       77      |               Y                |\n",
        "+-------------------+-----------------+------------+---------+---------------+--------------------------------+\n",
        "+------------+-------------------+-------------------+---------------------+------------------------+\n",
        "|    npi     | nppes_credentials | nppes_entity_code | nppes_provider_city | nppes_provider_country |\n",
        "+------------+-------------------+-------------------+---------------------+------------------------+\n",
        "| 1083646103 |         MD        |         I         |   HOFFMAN ESTATES   |           US           |\n",
        "| 1083646103 |         MD        |         I         |   HOFFMAN ESTATES   |           US           |\n",
        "| 1083647978 |        M.D.       |         I         |       CHICAGO       |           US           |\n",
        "| 1083647978 |        M.D.       |         I         |       CHICAGO       |           US           |\n",
        "| 1083647978 |        M.D.       |         I         |       CHICAGO       |           US           |\n",
        "| 1083647978 |        M.D.       |         I         |       CHICAGO       |           US           |\n",
        "| 1083647978 |        M.D.       |         I         |       CHICAGO       |           US           |\n",
        "| 1083647978 |        M.D.       |         I         |       CHICAGO       |           US           |\n",
        "| 1083648992 |        M.D.       |         I         |        JOLIET       |           US           |\n",
        "| 1083648992 |        M.D.       |         I         |        JOLIET       |           US           |\n",
        "+------------+-------------------+-------------------+---------------------+------------------------+\n",
        "+---------------------------+-----------------------+------------------------------+\n",
        "| nppes_provider_first_name | nppes_provider_gender | nppes_provider_last_org_name |\n",
        "+---------------------------+-----------------------+------------------------------+\n",
        "|         MARIA ERNA        |           F           |           NARVASA            |\n",
        "|         MARIA ERNA        |           F           |           NARVASA            |\n",
        "|           SUSAN           |           F           |           SHENEMAN           |\n",
        "|           SUSAN           |           F           |           SHENEMAN           |\n",
        "|           SUSAN           |           F           |           SHENEMAN           |\n",
        "|           SUSAN           |           F           |           SHENEMAN           |\n",
        "|           SUSAN           |           F           |           SHENEMAN           |\n",
        "|           SUSAN           |           F           |           SHENEMAN           |\n",
        "|           PUNIT           |           M           |           VAJARIA            |\n",
        "|           PUNIT           |           M           |           VAJARIA            |\n",
        "+---------------------------+-----------------------+------------------------------+\n",
        "+-------------------+----------------------+------------------------+-----+\n",
        "| nppes_provider_mi | nppes_provider_state | nppes_provider_street1 | ... |\n",
        "+-------------------+----------------------+------------------------+-----+\n",
        "|         N         |          IL          |  1786 MOON LAKE BLVD   | ... |\n",
        "|         N         |          IL          |  1786 MOON LAKE BLVD   | ... |\n",
        "|                   |          IL          |     20 S CLARK ST      | ... |\n",
        "|                   |          IL          |     20 S CLARK ST      | ... |\n",
        "|                   |          IL          |     20 S CLARK ST      | ... |\n",
        "|                   |          IL          |     20 S CLARK ST      | ... |\n",
        "|                   |          IL          |     20 S CLARK ST      | ... |\n",
        "|                   |          IL          |     20 S CLARK ST      | ... |\n",
        "|                   |          IL          |   2100 GLENWOOD AVE    | ... |\n",
        "|                   |          IL          |   2100 GLENWOOD AVE    | ... |\n",
        "|        ...        |         ...          |          ...           | ... |\n",
        "+-------------------+----------------------+------------------------+-----+\n",
        "[748438 rows x 27 columns]\n",
        "Note: Only the head of the SFrame is printed.\n",
        "You can use print_rows(num_rows=m, num_columns=n) to print more rows and columns.>"
       ]
      }
     ],
     "prompt_number": 51
    },
    {
     "cell_type": "code",
     "collapsed": false,
     "input": [
      "svm = gl.svm_classifier.create(dg_class_df.select_columns(['nppes_entity_code',\n",
      "                                                           'place_of_service',                                                        \n",
      "                                                           'in_both']),'in_both')\n",
      "\n",
      "#'nppes_provider_last_org_name','npi','nppes_provider_city','hcpcs_code','nppes_provider_zip','provider_type'"
     ],
     "language": "python",
     "metadata": {},
     "outputs": [
      {
       "html": [
        "<pre>PROGRESS: SVM:</pre>"
       ],
       "metadata": {},
       "output_type": "display_data",
       "text": [
        "PROGRESS: SVM:"
       ]
      },
      {
       "html": [
        "<pre>PROGRESS: --------------------------------------------------------</pre>"
       ],
       "metadata": {},
       "output_type": "display_data",
       "text": [
        "PROGRESS: --------------------------------------------------------"
       ]
      },
      {
       "html": [
        "<pre>PROGRESS: Number of examples          : 748438</pre>"
       ],
       "metadata": {},
       "output_type": "display_data",
       "text": [
        "PROGRESS: Number of examples          : 748438"
       ]
      },
      {
       "html": [
        "<pre>PROGRESS: Number of classes           : 2</pre>"
       ],
       "metadata": {},
       "output_type": "display_data",
       "text": [
        "PROGRESS: Number of classes           : 2"
       ]
      },
      {
       "html": [
        "<pre>PROGRESS: Number of feature columns   : 2</pre>"
       ],
       "metadata": {},
       "output_type": "display_data",
       "text": [
        "PROGRESS: Number of feature columns   : 2"
       ]
      },
      {
       "html": [
        "<pre>PROGRESS: Number of unpacked features : 2</pre>"
       ],
       "metadata": {},
       "output_type": "display_data",
       "text": [
        "PROGRESS: Number of unpacked features : 2"
       ]
      },
      {
       "html": [
        "<pre>PROGRESS: Number of coefficients    : 3</pre>"
       ],
       "metadata": {},
       "output_type": "display_data",
       "text": [
        "PROGRESS: Number of coefficients    : 3"
       ]
      },
      {
       "html": [
        "<pre>PROGRESS: Starting L-BFGS \n",
        "--------------------------------------------------------</pre>"
       ],
       "metadata": {},
       "output_type": "display_data",
       "text": [
        "PROGRESS: Starting L-BFGS \n",
        "--------------------------------------------------------"
       ]
      },
      {
       "html": [
        "<pre>PROGRESS:   Iter   Grad-Norm        Loss   Step size Elapsed time</pre>"
       ],
       "metadata": {},
       "output_type": "display_data",
       "text": [
        "PROGRESS:   Iter   Grad-Norm        Loss   Step size Elapsed time"
       ]
      },
      {
       "html": [
        "<pre>PROGRESS:      0   3.829e+05   7.484e+05   1.000e-06        0.09s</pre>"
       ],
       "metadata": {},
       "output_type": "display_data",
       "text": [
        "PROGRESS:      0   3.829e+05   7.484e+05   1.000e-06        0.09s"
       ]
      },
      {
       "html": [
        "<pre>PROGRESS:      1   1.628e+05   6.133e+05   1.000e+00        0.31s</pre>"
       ],
       "metadata": {},
       "output_type": "display_data",
       "text": [
        "PROGRESS:      1   1.628e+05   6.133e+05   1.000e+00        0.31s"
       ]
      },
      {
       "html": [
        "<pre>PROGRESS:      2   1.648e+05   3.765e+05   2.000e+00        1.08s</pre>"
       ],
       "metadata": {},
       "output_type": "display_data",
       "text": [
        "PROGRESS:      2   1.648e+05   3.765e+05   2.000e+00        1.08s"
       ]
      },
      {
       "html": [
        "<pre>PROGRESS:      3   2.238e+05   5.025e+05   2.000e+00        1.29s</pre>"
       ],
       "metadata": {},
       "output_type": "display_data",
       "text": [
        "PROGRESS:      3   2.238e+05   5.025e+05   2.000e+00        1.29s"
       ]
      },
      {
       "html": [
        "<pre>PROGRESS:      4   1.451e+05   3.575e+05   1.000e+00        1.68s</pre>"
       ],
       "metadata": {},
       "output_type": "display_data",
       "text": [
        "PROGRESS:      4   1.451e+05   3.575e+05   1.000e+00        1.68s"
       ]
      },
      {
       "html": [
        "<pre>PROGRESS:      5   2.238e+05   3.952e+05   1.000e+00        1.88s</pre>"
       ],
       "metadata": {},
       "output_type": "display_data",
       "text": [
        "PROGRESS:      5   2.238e+05   3.952e+05   1.000e+00        1.88s"
       ]
      },
      {
       "html": [
        "<pre>PROGRESS:      6   5.432e+04   3.488e+05   1.482e+00        3.07s</pre>"
       ],
       "metadata": {},
       "output_type": "display_data",
       "text": [
        "PROGRESS:      6   5.432e+04   3.488e+05   1.482e+00        3.07s"
       ]
      },
      {
       "html": [
        "<pre>PROGRESS:      7   5.844e+04   3.409e+05   1.482e+00        3.29s</pre>"
       ],
       "metadata": {},
       "output_type": "display_data",
       "text": [
        "PROGRESS:      7   5.844e+04   3.409e+05   1.482e+00        3.29s"
       ]
      },
      {
       "html": [
        "<pre>PROGRESS:      8   4.490e+05   2.393e+07   1.482e+00        3.49s</pre>"
       ],
       "metadata": {},
       "output_type": "display_data",
       "text": [
        "PROGRESS:      8   4.490e+05   2.393e+07   1.482e+00        3.49s"
       ]
      },
      {
       "html": [
        "<pre>PROGRESS:      9   1.585e+05   1.508e+07   5.000e+00        4.02s</pre>"
       ],
       "metadata": {},
       "output_type": "display_data",
       "text": [
        "PROGRESS:      9   1.585e+05   1.508e+07   5.000e+00        4.02s"
       ]
      },
      {
       "html": [
        "<pre>PROGRESS:     10   3.619e+05   5.072e+08   5.000e+00        4.21s</pre>"
       ],
       "metadata": {},
       "output_type": "display_data",
       "text": [
        "PROGRESS:     10   3.619e+05   5.072e+08   5.000e+00        4.21s"
       ]
      }
     ],
     "prompt_number": 108
    },
    {
     "cell_type": "code",
     "collapsed": false,
     "input": [
      "svm.get('unpacked_features')"
     ],
     "language": "python",
     "metadata": {},
     "outputs": [
      {
       "metadata": {},
       "output_type": "pyout",
       "prompt_number": 114,
       "text": [
        "['nppes_entity_code', 'place_of_service']"
       ]
      }
     ],
     "prompt_number": 114
    },
    {
     "cell_type": "code",
     "collapsed": false,
     "input": [
      "svm.get('coefficients').sort('value', ascending = False)"
     ],
     "language": "python",
     "metadata": {},
     "outputs": [
      {
       "html": [
        "<div style=\"max-height:1000px;max-width:1500px;overflow:auto;\"><table frame=\"box\" rules=\"cols\">\n",
        "    <tr>\n",
        "        <th style=\"padding-left: 1em; padding-right: 1em; text-align: center\">name</th>\n",
        "        <th style=\"padding-left: 1em; padding-right: 1em; text-align: center\">index</th>\n",
        "        <th style=\"padding-left: 1em; padding-right: 1em; text-align: center\">value</th>\n",
        "    </tr>\n",
        "    <tr>\n",
        "        <td style=\"padding-left: 1em; padding-right: 1em; text-align: center; vertical-align: top\">(intercept)</td>\n",
        "        <td style=\"padding-left: 1em; padding-right: 1em; text-align: center; vertical-align: top\">None</td>\n",
        "        <td style=\"padding-left: 1em; padding-right: 1em; text-align: center; vertical-align: top\">469.678871973</td>\n",
        "    </tr>\n",
        "    <tr>\n",
        "        <td style=\"padding-left: 1em; padding-right: 1em; text-align: center; vertical-align: top\">place_of_service</td>\n",
        "        <td style=\"padding-left: 1em; padding-right: 1em; text-align: center; vertical-align: top\">F</td>\n",
        "        <td style=\"padding-left: 1em; padding-right: 1em; text-align: center; vertical-align: top\">-2432.7281791</td>\n",
        "    </tr>\n",
        "    <tr>\n",
        "        <td style=\"padding-left: 1em; padding-right: 1em; text-align: center; vertical-align: top\">nppes_entity_code</td>\n",
        "        <td style=\"padding-left: 1em; padding-right: 1em; text-align: center; vertical-align: top\">O</td>\n",
        "        <td style=\"padding-left: 1em; padding-right: 1em; text-align: center; vertical-align: top\">-11821.4334265</td>\n",
        "    </tr>\n",
        "</table>\n",
        "[3 rows x 3 columns]<br/>\n",
        "</div>"
       ],
       "metadata": {},
       "output_type": "pyout",
       "prompt_number": 109,
       "text": [
        "Columns:\n",
        "\tname\tstr\n",
        "\tindex\tstr\n",
        "\tvalue\tfloat\n",
        "\n",
        "Rows: 3\n",
        "\n",
        "Data:\n",
        "+-------------------+-------+----------------+\n",
        "|        name       | index |     value      |\n",
        "+-------------------+-------+----------------+\n",
        "|    (intercept)    |  None | 469.678871973  |\n",
        "|  place_of_service |   F   | -2432.7281791  |\n",
        "| nppes_entity_code |   O   | -11821.4334265 |\n",
        "+-------------------+-------+----------------+\n",
        "[3 rows x 3 columns]"
       ]
      }
     ],
     "prompt_number": 109
    },
    {
     "cell_type": "code",
     "collapsed": false,
     "input": [
      "reg = gl.regression.create(dg_class_df.select_columns(['nppes_entity_code',\n",
      "                                                      'place_of_service',\n",
      "                                                      'in_both']),'in_both')"
     ],
     "language": "python",
     "metadata": {},
     "outputs": [
      {
       "html": [
        "<pre>PROGRESS: Boosted trees regression:</pre>"
       ],
       "metadata": {},
       "output_type": "display_data",
       "text": [
        "PROGRESS: Boosted trees regression:"
       ]
      },
      {
       "html": [
        "<pre>PROGRESS: --------------------------------------------------------</pre>"
       ],
       "metadata": {},
       "output_type": "display_data",
       "text": [
        "PROGRESS: --------------------------------------------------------"
       ]
      },
      {
       "html": [
        "<pre>PROGRESS: Number of examples          : 748438</pre>"
       ],
       "metadata": {},
       "output_type": "display_data",
       "text": [
        "PROGRESS: Number of examples          : 748438"
       ]
      },
      {
       "html": [
        "<pre>PROGRESS: Number of features          : 2</pre>"
       ],
       "metadata": {},
       "output_type": "display_data",
       "text": [
        "PROGRESS: Number of features          : 2"
       ]
      },
      {
       "html": [
        "<pre>PROGRESS: Number of unpacked features : 2</pre>"
       ],
       "metadata": {},
       "output_type": "display_data",
       "text": [
        "PROGRESS: Number of unpacked features : 2"
       ]
      },
      {
       "html": [
        "<pre>PROGRESS: Starting Boosted Trees</pre>"
       ],
       "metadata": {},
       "output_type": "display_data",
       "text": [
        "PROGRESS: Starting Boosted Trees"
       ]
      },
      {
       "html": [
        "<pre>PROGRESS: --------------------------------------------------------</pre>"
       ],
       "metadata": {},
       "output_type": "display_data",
       "text": [
        "PROGRESS: --------------------------------------------------------"
       ]
      },
      {
       "html": [
        "<pre>PROGRESS:   Iter        RMSE Elapsed time</pre>"
       ],
       "metadata": {},
       "output_type": "display_data",
       "text": [
        "PROGRESS:   Iter        RMSE Elapsed time"
       ]
      },
      {
       "html": [
        "<pre>PROGRESS:      0   4.534e-01        0.68s</pre>"
       ],
       "metadata": {},
       "output_type": "display_data",
       "text": [
        "PROGRESS:      0   4.534e-01        0.68s"
       ]
      },
      {
       "html": [
        "<pre>PROGRESS:      1   4.287e-01        1.03s</pre>"
       ],
       "metadata": {},
       "output_type": "display_data",
       "text": [
        "PROGRESS:      1   4.287e-01        1.03s"
       ]
      },
      {
       "html": [
        "<pre>PROGRESS:      2   4.160e-01        1.35s</pre>"
       ],
       "metadata": {},
       "output_type": "display_data",
       "text": [
        "PROGRESS:      2   4.160e-01        1.35s"
       ]
      },
      {
       "html": [
        "<pre>PROGRESS:      3   4.097e-01        1.69s</pre>"
       ],
       "metadata": {},
       "output_type": "display_data",
       "text": [
        "PROGRESS:      3   4.097e-01        1.69s"
       ]
      },
      {
       "html": [
        "<pre>PROGRESS:      4   4.065e-01        2.03s</pre>"
       ],
       "metadata": {},
       "output_type": "display_data",
       "text": [
        "PROGRESS:      4   4.065e-01        2.03s"
       ]
      },
      {
       "html": [
        "<pre>PROGRESS:      5   4.050e-01        2.37s</pre>"
       ],
       "metadata": {},
       "output_type": "display_data",
       "text": [
        "PROGRESS:      5   4.050e-01        2.37s"
       ]
      },
      {
       "html": [
        "<pre>PROGRESS:      6   4.042e-01        2.71s</pre>"
       ],
       "metadata": {},
       "output_type": "display_data",
       "text": [
        "PROGRESS:      6   4.042e-01        2.71s"
       ]
      },
      {
       "html": [
        "<pre>PROGRESS:      7   4.039e-01        3.06s</pre>"
       ],
       "metadata": {},
       "output_type": "display_data",
       "text": [
        "PROGRESS:      7   4.039e-01        3.06s"
       ]
      },
      {
       "html": [
        "<pre>PROGRESS:      8   4.037e-01        3.41s</pre>"
       ],
       "metadata": {},
       "output_type": "display_data",
       "text": [
        "PROGRESS:      8   4.037e-01        3.41s"
       ]
      },
      {
       "html": [
        "<pre>PROGRESS:      9   4.036e-01        3.74s</pre>"
       ],
       "metadata": {},
       "output_type": "display_data",
       "text": [
        "PROGRESS:      9   4.036e-01        3.74s"
       ]
      }
     ],
     "prompt_number": 117
    },
    {
     "cell_type": "code",
     "collapsed": false,
     "input": [
      "reg.list_fields()"
     ],
     "language": "python",
     "metadata": {},
     "outputs": [
      {
       "metadata": {},
       "output_type": "pyout",
       "prompt_number": 118,
       "text": [
        "['column_subsample',\n",
        " 'features',\n",
        " 'max_depth',\n",
        " 'max_iterations',\n",
        " 'min_child_weight',\n",
        " 'min_loss_reduction',\n",
        " 'num_examples',\n",
        " 'num_features',\n",
        " 'num_trees',\n",
        " 'num_unpacked_features',\n",
        " 'num_validation_examples',\n",
        " 'row_subsample',\n",
        " 'step_size',\n",
        " 'target',\n",
        " 'training_rmse',\n",
        " 'training_time',\n",
        " 'trees_json',\n",
        " 'unpacked_features',\n",
        " 'validation_rmse']"
       ]
      }
     ],
     "prompt_number": 118
    },
    {
     "cell_type": "code",
     "collapsed": false,
     "input": [
      "reg.get('coefficients').sort('value', ascending = False)"
     ],
     "language": "python",
     "metadata": {},
     "outputs": [
      {
       "output_type": "stream",
       "stream": "stderr",
       "text": [
        "[ERROR] Toolkit error: Field 'coefficients' does not exist. Use list_fields() for a list of fields that can be queried.\n",
        "\n"
       ]
      },
      {
       "ename": "ToolkitError",
       "evalue": "Field 'coefficients' does not exist. Use list_fields() for a list of fields that can be queried.\n",
       "output_type": "pyerr",
       "traceback": [
        "\u001b[0;31m---------------------------------------------------------------------------\u001b[0m\n\u001b[0;31mToolkitError\u001b[0m                              Traceback (most recent call last)",
        "\u001b[0;32m<ipython-input-119-bb5c8f9c6891>\u001b[0m in \u001b[0;36m<module>\u001b[0;34m()\u001b[0m\n\u001b[0;32m----> 1\u001b[0;31m \u001b[0mreg\u001b[0m\u001b[0;34m.\u001b[0m\u001b[0mget\u001b[0m\u001b[0;34m(\u001b[0m\u001b[0;34m'coefficients'\u001b[0m\u001b[0;34m)\u001b[0m\u001b[0;34m.\u001b[0m\u001b[0msort\u001b[0m\u001b[0;34m(\u001b[0m\u001b[0;34m'value'\u001b[0m\u001b[0;34m,\u001b[0m \u001b[0mascending\u001b[0m \u001b[0;34m=\u001b[0m \u001b[0mFalse\u001b[0m\u001b[0;34m)\u001b[0m\u001b[0;34m\u001b[0m\u001b[0m\n\u001b[0m",
        "\u001b[0;32m/Users/astuckey002/anaconda/lib/python2.7/site-packages/graphlab/toolkits/regression/boosted_trees_regression.pyc\u001b[0m in \u001b[0;36mget\u001b[0;34m(self, field)\u001b[0m\n\u001b[1;32m    188\u001b[0m         \"\"\"\n\u001b[1;32m    189\u001b[0m         \u001b[0m_mt\u001b[0m\u001b[0;34m.\u001b[0m\u001b[0m_get_metric_tracker\u001b[0m\u001b[0;34m(\u001b[0m\u001b[0;34m)\u001b[0m\u001b[0;34m.\u001b[0m\u001b[0mtrack\u001b[0m\u001b[0;34m(\u001b[0m\u001b[0;34m'toolkit.regression.boosted_trees_regression.get'\u001b[0m\u001b[0;34m)\u001b[0m\u001b[0;34m\u001b[0m\u001b[0m\n\u001b[0;32m--> 190\u001b[0;31m         \u001b[0;32mreturn\u001b[0m \u001b[0msuper\u001b[0m\u001b[0;34m(\u001b[0m\u001b[0mBoostedTreesRegression\u001b[0m\u001b[0;34m,\u001b[0m \u001b[0mself\u001b[0m\u001b[0;34m)\u001b[0m\u001b[0;34m.\u001b[0m\u001b[0mget\u001b[0m\u001b[0;34m(\u001b[0m\u001b[0mfield\u001b[0m\u001b[0;34m)\u001b[0m\u001b[0;34m\u001b[0m\u001b[0m\n\u001b[0m\u001b[1;32m    191\u001b[0m \u001b[0;34m\u001b[0m\u001b[0m\n\u001b[1;32m    192\u001b[0m     \u001b[0;32mdef\u001b[0m \u001b[0mshow\u001b[0m\u001b[0;34m(\u001b[0m\u001b[0mself\u001b[0m\u001b[0;34m,\u001b[0m \u001b[0mtree_id\u001b[0m\u001b[0;34m=\u001b[0m\u001b[0;36m0\u001b[0m\u001b[0;34m,\u001b[0m \u001b[0mvlabel_hover\u001b[0m\u001b[0;34m=\u001b[0m\u001b[0mFalse\u001b[0m\u001b[0;34m)\u001b[0m\u001b[0;34m:\u001b[0m\u001b[0;34m\u001b[0m\u001b[0m\n",
        "\u001b[0;32m/Users/astuckey002/anaconda/lib/python2.7/site-packages/graphlab/toolkits/_supervised_learning.pyc\u001b[0m in \u001b[0;36mget\u001b[0;34m(self, field)\u001b[0m\n\u001b[1;32m    217\u001b[0m                 'field': field}\n\u001b[1;32m    218\u001b[0m         response = _graphlab.toolkits._main.run('supervised_learning_get_value',\n\u001b[0;32m--> 219\u001b[0;31m                                                opts)\n\u001b[0m\u001b[1;32m    220\u001b[0m         \u001b[0;32mreturn\u001b[0m \u001b[0m_map_unity_proxy_to_object\u001b[0m\u001b[0;34m(\u001b[0m\u001b[0mresponse\u001b[0m\u001b[0;34m[\u001b[0m\u001b[0;34m'value'\u001b[0m\u001b[0;34m]\u001b[0m\u001b[0;34m)\u001b[0m\u001b[0;34m\u001b[0m\u001b[0m\n\u001b[1;32m    221\u001b[0m \u001b[0;34m\u001b[0m\u001b[0m\n",
        "\u001b[0;32m/Users/astuckey002/anaconda/lib/python2.7/site-packages/graphlab/toolkits/_main.pyc\u001b[0m in \u001b[0;36mrun\u001b[0;34m(toolkit_name, options, verbose, show_progress)\u001b[0m\n\u001b[1;32m     81\u001b[0m         \u001b[0;32mreturn\u001b[0m \u001b[0mparams\u001b[0m\u001b[0;34m\u001b[0m\u001b[0m\n\u001b[1;32m     82\u001b[0m     \u001b[0;32melse\u001b[0m\u001b[0;34m:\u001b[0m\u001b[0;34m\u001b[0m\u001b[0m\n\u001b[0;32m---> 83\u001b[0;31m         \u001b[0;32mraise\u001b[0m \u001b[0mToolkitError\u001b[0m\u001b[0;34m(\u001b[0m\u001b[0mstr\u001b[0m\u001b[0;34m(\u001b[0m\u001b[0mmessage\u001b[0m\u001b[0;34m)\u001b[0m\u001b[0;34m)\u001b[0m\u001b[0;34m\u001b[0m\u001b[0m\n\u001b[0m",
        "\u001b[0;31mToolkitError\u001b[0m: Field 'coefficients' does not exist. Use list_fields() for a list of fields that can be queried.\n"
       ]
      }
     ],
     "prompt_number": 119
    },
    {
     "cell_type": "code",
     "collapsed": false,
     "input": [],
     "language": "python",
     "metadata": {},
     "outputs": []
    }
   ],
   "metadata": {}
  }
 ]
}