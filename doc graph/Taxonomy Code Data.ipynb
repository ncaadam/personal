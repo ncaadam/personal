{
 "metadata": {
  "name": "",
  "signature": "sha256:26dab9e1253cb22fa4f20bcc99afafc29586d9ddaec588b5081a88cf25e03777"
 },
 "nbformat": 3,
 "nbformat_minor": 0,
 "worksheets": [
  {
   "cells": [
    {
     "cell_type": "code",
     "collapsed": false,
     "input": [
      "import graphlab as gl"
     ],
     "language": "python",
     "metadata": {},
     "outputs": [],
     "prompt_number": 1
    },
    {
     "cell_type": "code",
     "collapsed": false,
     "input": [
      "raw = gl.SFrame.read_csv(\"../../../../data/docgraph/nucc_taxonomy_150.csv\")"
     ],
     "language": "python",
     "metadata": {},
     "outputs": [
      {
       "html": [
        "<pre>PROGRESS: Finished parsing file /Users/hdwall002/Desktop/adamstuckey/data/docgraph/nucc_taxonomy_150.csv</pre>"
       ],
       "metadata": {},
       "output_type": "display_data",
       "text": [
        "PROGRESS: Finished parsing file /Users/hdwall002/Desktop/adamstuckey/data/docgraph/nucc_taxonomy_150.csv"
       ]
      },
      {
       "html": [
        "<pre>PROGRESS: Parsing completed. Parsed 100 lines in 0.008973 secs.</pre>"
       ],
       "metadata": {},
       "output_type": "display_data",
       "text": [
        "PROGRESS: Parsing completed. Parsed 100 lines in 0.008973 secs."
       ]
      },
      {
       "html": [
        "<pre>PROGRESS: Finished parsing file /Users/hdwall002/Desktop/adamstuckey/data/docgraph/nucc_taxonomy_150.csv</pre>"
       ],
       "metadata": {},
       "output_type": "display_data",
       "text": [
        "PROGRESS: Finished parsing file /Users/hdwall002/Desktop/adamstuckey/data/docgraph/nucc_taxonomy_150.csv"
       ]
      },
      {
       "html": [
        "<pre>PROGRESS: Parsing completed. Parsed 834 lines in 0.017912 secs.</pre>"
       ],
       "metadata": {},
       "output_type": "display_data",
       "text": [
        "PROGRESS: Parsing completed. Parsed 834 lines in 0.017912 secs."
       ]
      },
      {
       "output_type": "stream",
       "stream": "stdout",
       "text": [
        "Could not detect types. Using str for each column.\n"
       ]
      }
     ],
     "prompt_number": 3
    },
    {
     "cell_type": "code",
     "collapsed": false,
     "input": [
      "raw.column_names()"
     ],
     "language": "python",
     "metadata": {},
     "outputs": [
      {
       "metadata": {},
       "output_type": "pyout",
       "prompt_number": 4,
       "text": [
        "['Code', 'Type', 'Classification', 'Specialization', 'Definition', 'Notes']"
       ]
      }
     ],
     "prompt_number": 4
    },
    {
     "cell_type": "code",
     "collapsed": false,
     "input": [
      "raw.head()"
     ],
     "language": "python",
     "metadata": {},
     "outputs": [
      {
       "html": [
        "<div style=\"max-height:1000px;max-width:1500px;overflow:auto;\"><table frame=\"box\" rules=\"cols\">\n",
        "    <tr>\n",
        "        <th style=\"padding-left: 1em; padding-right: 1em; text-align: center\">Code</th>\n",
        "        <th style=\"padding-left: 1em; padding-right: 1em; text-align: center\">Type</th>\n",
        "        <th style=\"padding-left: 1em; padding-right: 1em; text-align: center\">Classification</th>\n",
        "        <th style=\"padding-left: 1em; padding-right: 1em; text-align: center\">Specialization</th>\n",
        "        <th style=\"padding-left: 1em; padding-right: 1em; text-align: center\">Definition</th>\n",
        "    </tr>\n",
        "    <tr>\n",
        "        <td style=\"padding-left: 1em; padding-right: 1em; text-align: center; vertical-align: top\">101Y00000X</td>\n",
        "        <td style=\"padding-left: 1em; padding-right: 1em; text-align: center; vertical-align: top\">Behavioral Health &amp;<br>Social Service Providers</td>\n",
        "        <td style=\"padding-left: 1em; padding-right: 1em; text-align: center; vertical-align: top\">Counselor</td>\n",
        "        <td style=\"padding-left: 1em; padding-right: 1em; text-align: center; vertical-align: top\"></td>\n",
        "        <td style=\"padding-left: 1em; padding-right: 1em; text-align: center; vertical-align: top\">A provider who is trained<br>and educated in the ...</td>\n",
        "    </tr>\n",
        "    <tr>\n",
        "        <td style=\"padding-left: 1em; padding-right: 1em; text-align: center; vertical-align: top\">101YA0400X</td>\n",
        "        <td style=\"padding-left: 1em; padding-right: 1em; text-align: center; vertical-align: top\">Behavioral Health &amp;<br>Social Service Providers</td>\n",
        "        <td style=\"padding-left: 1em; padding-right: 1em; text-align: center; vertical-align: top\">Counselor</td>\n",
        "        <td style=\"padding-left: 1em; padding-right: 1em; text-align: center; vertical-align: top\">Addiction (Substance Use<br>Disorder)</td>\n",
        "        <td style=\"padding-left: 1em; padding-right: 1em; text-align: center; vertical-align: top\">Definition to come...</td>\n",
        "    </tr>\n",
        "    <tr>\n",
        "        <td style=\"padding-left: 1em; padding-right: 1em; text-align: center; vertical-align: top\">101YM0800X</td>\n",
        "        <td style=\"padding-left: 1em; padding-right: 1em; text-align: center; vertical-align: top\">Behavioral Health &amp;<br>Social Service Providers</td>\n",
        "        <td style=\"padding-left: 1em; padding-right: 1em; text-align: center; vertical-align: top\">Counselor</td>\n",
        "        <td style=\"padding-left: 1em; padding-right: 1em; text-align: center; vertical-align: top\">Mental Health</td>\n",
        "        <td style=\"padding-left: 1em; padding-right: 1em; text-align: center; vertical-align: top\">Definition to come...</td>\n",
        "    </tr>\n",
        "    <tr>\n",
        "        <td style=\"padding-left: 1em; padding-right: 1em; text-align: center; vertical-align: top\">101YP1600X</td>\n",
        "        <td style=\"padding-left: 1em; padding-right: 1em; text-align: center; vertical-align: top\">Behavioral Health &amp;<br>Social Service Providers</td>\n",
        "        <td style=\"padding-left: 1em; padding-right: 1em; text-align: center; vertical-align: top\">Counselor</td>\n",
        "        <td style=\"padding-left: 1em; padding-right: 1em; text-align: center; vertical-align: top\">Pastoral</td>\n",
        "        <td style=\"padding-left: 1em; padding-right: 1em; text-align: center; vertical-align: top\">Definition to come...</td>\n",
        "    </tr>\n",
        "    <tr>\n",
        "        <td style=\"padding-left: 1em; padding-right: 1em; text-align: center; vertical-align: top\">101YP2500X</td>\n",
        "        <td style=\"padding-left: 1em; padding-right: 1em; text-align: center; vertical-align: top\">Behavioral Health &amp;<br>Social Service Providers</td>\n",
        "        <td style=\"padding-left: 1em; padding-right: 1em; text-align: center; vertical-align: top\">Counselor</td>\n",
        "        <td style=\"padding-left: 1em; padding-right: 1em; text-align: center; vertical-align: top\">Professional</td>\n",
        "        <td style=\"padding-left: 1em; padding-right: 1em; text-align: center; vertical-align: top\">Definition to come...</td>\n",
        "    </tr>\n",
        "    <tr>\n",
        "        <td style=\"padding-left: 1em; padding-right: 1em; text-align: center; vertical-align: top\">101YS0200X</td>\n",
        "        <td style=\"padding-left: 1em; padding-right: 1em; text-align: center; vertical-align: top\">Behavioral Health &amp;<br>Social Service Providers</td>\n",
        "        <td style=\"padding-left: 1em; padding-right: 1em; text-align: center; vertical-align: top\">Counselor</td>\n",
        "        <td style=\"padding-left: 1em; padding-right: 1em; text-align: center; vertical-align: top\">School</td>\n",
        "        <td style=\"padding-left: 1em; padding-right: 1em; text-align: center; vertical-align: top\">Definition to come...</td>\n",
        "    </tr>\n",
        "    <tr>\n",
        "        <td style=\"padding-left: 1em; padding-right: 1em; text-align: center; vertical-align: top\">102L00000X</td>\n",
        "        <td style=\"padding-left: 1em; padding-right: 1em; text-align: center; vertical-align: top\">Behavioral Health &amp;<br>Social Service Providers</td>\n",
        "        <td style=\"padding-left: 1em; padding-right: 1em; text-align: center; vertical-align: top\">Psychoanalyst</td>\n",
        "        <td style=\"padding-left: 1em; padding-right: 1em; text-align: center; vertical-align: top\"></td>\n",
        "        <td style=\"padding-left: 1em; padding-right: 1em; text-align: center; vertical-align: top\">Psychoanalysis is a<br>comprehensive, ...</td>\n",
        "    </tr>\n",
        "    <tr>\n",
        "        <td style=\"padding-left: 1em; padding-right: 1em; text-align: center; vertical-align: top\">102X00000X</td>\n",
        "        <td style=\"padding-left: 1em; padding-right: 1em; text-align: center; vertical-align: top\">Behavioral Health &amp;<br>Social Service Providers</td>\n",
        "        <td style=\"padding-left: 1em; padding-right: 1em; text-align: center; vertical-align: top\">Poetry Therapist</td>\n",
        "        <td style=\"padding-left: 1em; padding-right: 1em; text-align: center; vertical-align: top\"></td>\n",
        "        <td style=\"padding-left: 1em; padding-right: 1em; text-align: center; vertical-align: top\">A medical or mental<br>health professional w ...</td>\n",
        "    </tr>\n",
        "    <tr>\n",
        "        <td style=\"padding-left: 1em; padding-right: 1em; text-align: center; vertical-align: top\">103G00000X</td>\n",
        "        <td style=\"padding-left: 1em; padding-right: 1em; text-align: center; vertical-align: top\">Behavioral Health &amp;<br>Social Service Providers</td>\n",
        "        <td style=\"padding-left: 1em; padding-right: 1em; text-align: center; vertical-align: top\">Clinical<br>Neuropsychologist</td>\n",
        "        <td style=\"padding-left: 1em; padding-right: 1em; text-align: center; vertical-align: top\"></td>\n",
        "        <td style=\"padding-left: 1em; padding-right: 1em; text-align: center; vertical-align: top\">An individual with a<br>doctorate degree, ...</td>\n",
        "    </tr>\n",
        "    <tr>\n",
        "        <td style=\"padding-left: 1em; padding-right: 1em; text-align: center; vertical-align: top\">103GC0700X</td>\n",
        "        <td style=\"padding-left: 1em; padding-right: 1em; text-align: center; vertical-align: top\">Behavioral Health &amp;<br>Social Service Providers</td>\n",
        "        <td style=\"padding-left: 1em; padding-right: 1em; text-align: center; vertical-align: top\">Clinical<br>Neuropsychologist</td>\n",
        "        <td style=\"padding-left: 1em; padding-right: 1em; text-align: center; vertical-align: top\">Clinical</td>\n",
        "        <td style=\"padding-left: 1em; padding-right: 1em; text-align: center; vertical-align: top\"></td>\n",
        "    </tr>\n",
        "</table>\n",
        "<table frame=\"box\" rules=\"cols\">\n",
        "    <tr>\n",
        "        <th style=\"padding-left: 1em; padding-right: 1em; text-align: center\">Notes</th>\n",
        "    </tr>\n",
        "    <tr>\n",
        "        <td style=\"padding-left: 1em; padding-right: 1em; text-align: center; vertical-align: top\">Sources: Abridged from<br>definitions provided  ...</td>\n",
        "    </tr>\n",
        "    <tr>\n",
        "        <td style=\"padding-left: 1em; padding-right: 1em; text-align: center; vertical-align: top\"></td>\n",
        "    </tr>\n",
        "    <tr>\n",
        "        <td style=\"padding-left: 1em; padding-right: 1em; text-align: center; vertical-align: top\"></td>\n",
        "    </tr>\n",
        "    <tr>\n",
        "        <td style=\"padding-left: 1em; padding-right: 1em; text-align: center; vertical-align: top\"></td>\n",
        "    </tr>\n",
        "    <tr>\n",
        "        <td style=\"padding-left: 1em; padding-right: 1em; text-align: center; vertical-align: top\"></td>\n",
        "    </tr>\n",
        "    <tr>\n",
        "        <td style=\"padding-left: 1em; padding-right: 1em; text-align: center; vertical-align: top\"></td>\n",
        "    </tr>\n",
        "    <tr>\n",
        "        <td style=\"padding-left: 1em; padding-right: 1em; text-align: center; vertical-align: top\">Source:  Registry of<br>Psychoanalysts publis ...</td>\n",
        "    </tr>\n",
        "    <tr>\n",
        "        <td style=\"padding-left: 1em; padding-right: 1em; text-align: center; vertical-align: top\">Source: The National<br>Federation for ...</td>\n",
        "    </tr>\n",
        "    <tr>\n",
        "        <td style=\"padding-left: 1em; padding-right: 1em; text-align: center; vertical-align: top\">Source: American<br>Psychological ...</td>\n",
        "    </tr>\n",
        "    <tr>\n",
        "        <td style=\"padding-left: 1em; padding-right: 1em; text-align: center; vertical-align: top\">[1/1/2007: marked<br>inactive, use ...</td>\n",
        "    </tr>\n",
        "</table>\n",
        "[10 rows x 6 columns]<br/>\n",
        "</div>"
       ],
       "metadata": {},
       "output_type": "pyout",
       "prompt_number": 5,
       "text": [
        "Columns:\n",
        "\tCode\tstr\n",
        "\tType\tstr\n",
        "\tClassification\tstr\n",
        "\tSpecialization\tstr\n",
        "\tDefinition\tstr\n",
        "\tNotes\tstr\n",
        "\n",
        "Rows: 10\n",
        "\n",
        "Data:\n",
        "+------------+--------------------------------+----------------------------+\n",
        "|    Code    |              Type              |       Classification       |\n",
        "+------------+--------------------------------+----------------------------+\n",
        "| 101Y00000X | Behavioral Health & Social ... |         Counselor          |\n",
        "| 101YA0400X | Behavioral Health & Social ... |         Counselor          |\n",
        "| 101YM0800X | Behavioral Health & Social ... |         Counselor          |\n",
        "| 101YP1600X | Behavioral Health & Social ... |         Counselor          |\n",
        "| 101YP2500X | Behavioral Health & Social ... |         Counselor          |\n",
        "| 101YS0200X | Behavioral Health & Social ... |         Counselor          |\n",
        "| 102L00000X | Behavioral Health & Social ... |       Psychoanalyst        |\n",
        "| 102X00000X | Behavioral Health & Social ... |      Poetry Therapist      |\n",
        "| 103G00000X | Behavioral Health & Social ... | Clinical Neuropsychologist |\n",
        "| 103GC0700X | Behavioral Health & Social ... | Clinical Neuropsychologist |\n",
        "+------------+--------------------------------+----------------------------+\n",
        "+--------------------------------+--------------------------------+\n",
        "|         Specialization         |           Definition           |\n",
        "+--------------------------------+--------------------------------+\n",
        "|                                | A provider who is trained  ... |\n",
        "| Addiction (Substance Use D ... |     Definition to come...      |\n",
        "|         Mental Health          |     Definition to come...      |\n",
        "|            Pastoral            |     Definition to come...      |\n",
        "|          Professional          |     Definition to come...      |\n",
        "|             School             |     Definition to come...      |\n",
        "|                                | Psychoanalysis is a compre ... |\n",
        "|                                | A medical or mental health ... |\n",
        "|                                | An individual with a docto ... |\n",
        "|            Clinical            |                                |\n",
        "+--------------------------------+--------------------------------+\n",
        "+--------------------------------+\n",
        "|             Notes              |\n",
        "+--------------------------------+\n",
        "| Sources: Abridged from def ... |\n",
        "|                                |\n",
        "|                                |\n",
        "|                                |\n",
        "|                                |\n",
        "|                                |\n",
        "| Source:  Registry of Psych ... |\n",
        "| Source: The National Feder ... |\n",
        "| Source: American Psycholog ... |\n",
        "| [1/1/2007: marked inactive ... |\n",
        "+--------------------------------+\n",
        "[10 rows x 6 columns]"
       ]
      }
     ],
     "prompt_number": 5
    },
    {
     "cell_type": "code",
     "collapsed": false,
     "input": [],
     "language": "python",
     "metadata": {},
     "outputs": []
    }
   ],
   "metadata": {}
  }
 ]
}