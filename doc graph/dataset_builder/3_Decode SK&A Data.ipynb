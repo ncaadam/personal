{
 "cells": [
  {
   "cell_type": "markdown",
   "metadata": {},
   "source": [
    "# Decode the SK&A Data"
   ]
  },
  {
   "cell_type": "markdown",
   "metadata": {},
   "source": [
    "### Imports"
   ]
  },
  {
   "cell_type": "code",
   "execution_count": 2,
   "metadata": {
    "collapsed": false
   },
   "outputs": [
    {
     "name": "stderr",
     "output_type": "stream",
     "text": [
      "A newer version of GraphLab Create (v1.4.0) is available! Your current version is v1.3.0.\n",
      "You can use pip to upgrade the graphlab-create package. For more information see https://dato.com/products/create/upgrade."
     ]
    }
   ],
   "source": [
    "import graphlab as gl"
   ]
  },
  {
   "cell_type": "markdown",
   "metadata": {},
   "source": [
    "## Load in the SK&A Data"
   ]
  },
  {
   "cell_type": "code",
   "execution_count": 3,
   "metadata": {
    "collapsed": false
   },
   "outputs": [
    {
     "name": "stderr",
     "output_type": "stream",
     "text": [
      "[INFO] Start server at: ipc:///tmp/graphlab_server-62972 - Server binary: /Users/astuckey002/anaconda/lib/python2.7/site-packages/graphlab/unity_server - Server log: /tmp/graphlab_server_1431705562.log\n",
      "[INFO] GraphLab Server Version: 1.3.0\n"
     ]
    },
    {
     "name": "stdout",
     "output_type": "stream",
     "text": [
      "------------------------------------------------------\n",
      "Inferred types from first line of file as \n",
      "column_type_hints=[str,str,str,str,str,str,str,str,str,str,str,str,str,str,str,str,str,str,str,str,str,str,str,int,int,str,int,int,int,str,str,int,int,int,str,str,str,str,str,str,str,int,str,str,str,str,str,str,str,str,str,str,float,float,int,str,int,str,str,str,str,str]\n",
      "If parsing fails due to incorrect types, you can correct\n",
      "the inferred type list above and pass it to read_csv in\n",
      "the column_type_hints argument\n",
      "------------------------------------------------------\n",
      "PROGRESS: Finished parsing file /Users/astuckey002/Documents/Analytics/DocGraph/Dataset Builder/data/Provider Extract - Chicago NPIs.csv\n",
      "PROGRESS: Parsing completed. Parsed 21020 lines in 0.25742 secs.\n"
     ]
    }
   ],
   "source": [
    "# load the SK&A data into GL\n",
    "ska_data_raw = gl.SFrame.read_csv('data/Provider Extract - Chicago NPIs.csv', verbose=False)"
   ]
  },
  {
   "cell_type": "code",
   "execution_count": 4,
   "metadata": {
    "collapsed": false
   },
   "outputs": [],
   "source": [
    "# rename the unique ID to what we're used to\n",
    "ska_data_raw = ska_data_raw.rename({'NPI':'npi'})"
   ]
  },
  {
   "cell_type": "markdown",
   "metadata": {},
   "source": [
    "## Decode SK&A Data"
   ]
  },
  {
   "cell_type": "markdown",
   "metadata": {},
   "source": [
    "#### The code does the same thing for each column needing decoding. Therefore I didn't comment the code below\n",
    "- brings in the data\n",
    "- renames the columns to something more meaningful\n",
    "- sometimes gets rid of blank values\n",
    "- joins those columns to the larger data"
   ]
  },
  {
   "cell_type": "markdown",
   "metadata": {},
   "source": [
    "### CODE 2"
   ]
  },
  {
   "cell_type": "code",
   "execution_count": 5,
   "metadata": {
    "collapsed": false
   },
   "outputs": [
    {
     "name": "stdout",
     "output_type": "stream",
     "text": [
      "------------------------------------------------------\n",
      "Inferred types from first line of file as \n",
      "column_type_hints=[str,str]\n",
      "If parsing fails due to incorrect types, you can correct\n",
      "the inferred type list above and pass it to read_csv in\n",
      "the column_type_hints argument\n",
      "------------------------------------------------------\n",
      "PROGRESS: Finished parsing file /Users/astuckey002/Documents/Analytics/DocGraph/Dataset Builder/data/SK&A Codes/CODE2.csv\n",
      "PROGRESS: Parsing completed. Parsed 59 lines in 0.009733 secs.\n"
     ]
    }
   ],
   "source": [
    "c2 = gl.SFrame.read_csv('data/SK&A Codes/CODE2.csv',verbose = False)"
   ]
  },
  {
   "cell_type": "code",
   "execution_count": 6,
   "metadata": {
    "collapsed": false
   },
   "outputs": [],
   "source": [
    "c2 = c2.rename({'Code2':'CODE2','Practice Specialty':'Practice Specialty Value'})"
   ]
  },
  {
   "cell_type": "code",
   "execution_count": 7,
   "metadata": {
    "collapsed": false
   },
   "outputs": [],
   "source": [
    "ska_data_c2 = ska_data_raw.join(c2,'CODE2').rename({'CODE2':'Practice Specialty Code'})"
   ]
  },
  {
   "cell_type": "markdown",
   "metadata": {},
   "source": [
    "### CODE 3"
   ]
  },
  {
   "cell_type": "code",
   "execution_count": 8,
   "metadata": {
    "collapsed": false
   },
   "outputs": [
    {
     "name": "stdout",
     "output_type": "stream",
     "text": [
      "------------------------------------------------------\n",
      "Inferred types from first line of file as \n",
      "column_type_hints=[str,str,str,str]\n",
      "If parsing fails due to incorrect types, you can correct\n",
      "the inferred type list above and pass it to read_csv in\n",
      "the column_type_hints argument\n",
      "------------------------------------------------------\n",
      "PROGRESS: Finished parsing file /Users/astuckey002/Documents/Analytics/DocGraph/Dataset Builder/data/SK&A Codes/CODE3.csv\n",
      "PROGRESS: Parsing completed. Parsed 49801 lines in 0.06304 secs.\n"
     ]
    }
   ],
   "source": [
    "c3 = gl.SFrame.read_csv('data/SK&A Codes/CODE3.csv', verbose = False)"
   ]
  },
  {
   "cell_type": "code",
   "execution_count": 9,
   "metadata": {
    "collapsed": false
   },
   "outputs": [],
   "source": [
    "c3 = c3.rename({'EXPL3':'PGP Value','STATE':'PGP State'}).remove_column('X4')"
   ]
  },
  {
   "cell_type": "code",
   "execution_count": 10,
   "metadata": {
    "collapsed": false
   },
   "outputs": [],
   "source": [
    "c3 = c3.filter_by('','CODE3',exclude = True)"
   ]
  },
  {
   "cell_type": "code",
   "execution_count": 11,
   "metadata": {
    "collapsed": false
   },
   "outputs": [],
   "source": [
    "c3 = c3.append(gl.SFrame({'CODE3':[\"\"],'PGP Value':[\"\"],'PGP State':[\"\"]}))"
   ]
  },
  {
   "cell_type": "code",
   "execution_count": 12,
   "metadata": {
    "collapsed": false
   },
   "outputs": [],
   "source": [
    "ska_data_c2c3 = ska_data_c2.join(c3,'CODE3','left').rename({'CODE3':'PGP Code'})"
   ]
  },
  {
   "cell_type": "markdown",
   "metadata": {},
   "source": [
    "#### CODE 4"
   ]
  },
  {
   "cell_type": "code",
   "execution_count": 13,
   "metadata": {
    "collapsed": false
   },
   "outputs": [
    {
     "name": "stdout",
     "output_type": "stream",
     "text": [
      "------------------------------------------------------\n",
      "Inferred types from first line of file as \n",
      "column_type_hints=[str,str,str]\n",
      "If parsing fails due to incorrect types, you can correct\n",
      "the inferred type list above and pass it to read_csv in\n",
      "the column_type_hints argument\n",
      "------------------------------------------------------\n",
      "PROGRESS: Finished parsing file /Users/astuckey002/Documents/Analytics/DocGraph/Dataset Builder/data/SK&A Codes/CODE4.csv\n",
      "PROGRESS: Parsing completed. Parsed 33622 lines in 0.029757 secs.\n"
     ]
    }
   ],
   "source": [
    "c4 = gl.SFrame.read_csv('data/SK&A Codes/CODE4.csv', verbose = False)"
   ]
  },
  {
   "cell_type": "code",
   "execution_count": 14,
   "metadata": {
    "collapsed": false
   },
   "outputs": [],
   "source": [
    "c4 = c4.rename({'Code4':'CODE4','STATE':'Health System State','Health System Code':'Health System Value'})"
   ]
  },
  {
   "cell_type": "code",
   "execution_count": 15,
   "metadata": {
    "collapsed": false
   },
   "outputs": [],
   "source": [
    "c4 = c4.filter_by('','CODE4',exclude = True)"
   ]
  },
  {
   "cell_type": "code",
   "execution_count": 16,
   "metadata": {
    "collapsed": false
   },
   "outputs": [],
   "source": [
    "c4 = c4.append(gl.SFrame({'CODE4':[\"\"],'Health System Value':[\"\"],'Health System State':[\"\"]}))"
   ]
  },
  {
   "cell_type": "code",
   "execution_count": 17,
   "metadata": {
    "collapsed": false
   },
   "outputs": [],
   "source": [
    "ska_data_c2c3c4 = ska_data_c2c3.join(c4,'CODE4','left').rename({'CODE4':'Health System Code'})"
   ]
  },
  {
   "cell_type": "markdown",
   "metadata": {},
   "source": [
    "## Code 5"
   ]
  },
  {
   "cell_type": "code",
   "execution_count": 18,
   "metadata": {
    "collapsed": false
   },
   "outputs": [
    {
     "name": "stdout",
     "output_type": "stream",
     "text": [
      "------------------------------------------------------\n",
      "Inferred types from first line of file as \n",
      "column_type_hints=[str,str,str]\n",
      "If parsing fails due to incorrect types, you can correct\n",
      "the inferred type list above and pass it to read_csv in\n",
      "the column_type_hints argument\n",
      "------------------------------------------------------\n",
      "PROGRESS: Finished parsing file /Users/astuckey002/Documents/Analytics/DocGraph/Dataset Builder/data/SK&A Codes/CODE5.csv\n",
      "PROGRESS: Parsing completed. Parsed 7005 lines in 0.016002 secs.\n"
     ]
    }
   ],
   "source": [
    "c5 = gl.SFrame.read_csv('data/SK&A Codes/CODE5.csv', verbose = False)"
   ]
  },
  {
   "cell_type": "code",
   "execution_count": 19,
   "metadata": {
    "collapsed": false
   },
   "outputs": [],
   "source": [
    "c5 = c5.rename({\"Code5\":\"CODE5\",'Hospital Code':'Hospital Value','STATE':'Hospital State'})"
   ]
  },
  {
   "cell_type": "code",
   "execution_count": 20,
   "metadata": {
    "collapsed": false
   },
   "outputs": [],
   "source": [
    "c5 = c5.append(gl.SFrame({'CODE5':[\"\"],'Hospital Value':[\"\"],'Hospital State':[\"\"]}))"
   ]
  },
  {
   "cell_type": "code",
   "execution_count": 21,
   "metadata": {
    "collapsed": false
   },
   "outputs": [],
   "source": [
    "ska_data_c2c3c4c5 = ska_data_c2c3c4.join(c5,'CODE5','left').rename({'CODE5':'Hospital Code'})"
   ]
  },
  {
   "cell_type": "markdown",
   "metadata": {},
   "source": [
    "## Code 6"
   ]
  },
  {
   "cell_type": "code",
   "execution_count": 22,
   "metadata": {
    "collapsed": false
   },
   "outputs": [
    {
     "name": "stdout",
     "output_type": "stream",
     "text": [
      "------------------------------------------------------\n",
      "Inferred types from first line of file as \n",
      "column_type_hints=[str,str,str]\n",
      "If parsing fails due to incorrect types, you can correct\n",
      "the inferred type list above and pass it to read_csv in\n",
      "the column_type_hints argument\n",
      "------------------------------------------------------\n",
      "PROGRESS: Finished parsing file /Users/astuckey002/Documents/Analytics/DocGraph/Dataset Builder/data/SK&A Codes/CODE6.csv\n",
      "PROGRESS: Parsing completed. Parsed 117 lines in 0.013929 secs.\n"
     ]
    }
   ],
   "source": [
    "c6 = gl.SFrame.read_csv('data/SK&A Codes/CODE6.csv', verbose = False)"
   ]
  },
  {
   "cell_type": "code",
   "execution_count": 23,
   "metadata": {
    "collapsed": false
   },
   "outputs": [],
   "source": [
    "c6 = c6.rename({'Code6':'CODE6','IPA Code':'IPA Value','STATE':'IPA State'})"
   ]
  },
  {
   "cell_type": "code",
   "execution_count": 24,
   "metadata": {
    "collapsed": false
   },
   "outputs": [],
   "source": [
    "c6 = c6.append(gl.SFrame({'CODE6':[\"\"],'IPA Value':[\"\"],'IPA State':[\"\"]}))"
   ]
  },
  {
   "cell_type": "code",
   "execution_count": 25,
   "metadata": {
    "collapsed": false
   },
   "outputs": [],
   "source": [
    "ska_data_c2c3c4c5c6 = ska_data_c2c3c4c5.join(c6,'CODE6','left').rename({'CODE6':'IPA Code'})"
   ]
  },
  {
   "cell_type": "markdown",
   "metadata": {},
   "source": [
    "## Code 7"
   ]
  },
  {
   "cell_type": "code",
   "execution_count": 26,
   "metadata": {
    "collapsed": false
   },
   "outputs": [
    {
     "name": "stdout",
     "output_type": "stream",
     "text": [
      "------------------------------------------------------\n",
      "Inferred types from first line of file as \n",
      "column_type_hints=[str,str,str]\n",
      "If parsing fails due to incorrect types, you can correct\n",
      "the inferred type list above and pass it to read_csv in\n",
      "the column_type_hints argument\n",
      "------------------------------------------------------\n",
      "PROGRESS: Finished parsing file /Users/astuckey002/Documents/Analytics/DocGraph/Dataset Builder/data/SK&A Codes/CODE7.csv\n",
      "PROGRESS: Parsing completed. Parsed 7005 lines in 0.017967 secs.\n"
     ]
    }
   ],
   "source": [
    "c7 = gl.SFrame.read_csv('data/SK&A Codes/CODE7.csv', verbose = False)"
   ]
  },
  {
   "cell_type": "code",
   "execution_count": 27,
   "metadata": {
    "collapsed": false
   },
   "outputs": [],
   "source": [
    "c7 = c7.rename({'Code7':'CODE7','Affiliation Code':'Affiliation Value','STATE':'Affiliation State'})"
   ]
  },
  {
   "cell_type": "code",
   "execution_count": 28,
   "metadata": {
    "collapsed": false
   },
   "outputs": [],
   "source": [
    "c7 = c7.append(gl.SFrame({'CODE7':[\"\"],'Affiliation Value':[\"\"],'Affiliation State':[\"\"]}))"
   ]
  },
  {
   "cell_type": "code",
   "execution_count": 29,
   "metadata": {
    "collapsed": false
   },
   "outputs": [],
   "source": [
    "ska_data_c2c3c4c5c6c7 = ska_data_c2c3c4c5c6.join(c7,'CODE7','left').rename({'CODE7':'Affiliation Code'})"
   ]
  },
  {
   "cell_type": "markdown",
   "metadata": {},
   "source": [
    "## SPEC"
   ]
  },
  {
   "cell_type": "code",
   "execution_count": 30,
   "metadata": {
    "collapsed": false
   },
   "outputs": [
    {
     "name": "stdout",
     "output_type": "stream",
     "text": [
      "------------------------------------------------------\n",
      "Inferred types from first line of file as \n",
      "column_type_hints=[str,str]\n",
      "If parsing fails due to incorrect types, you can correct\n",
      "the inferred type list above and pass it to read_csv in\n",
      "the column_type_hints argument\n",
      "------------------------------------------------------\n",
      "PROGRESS: Finished parsing file /Users/astuckey002/Documents/Analytics/DocGraph/Dataset Builder/data/SK&A Codes/SPEC.csv\n",
      "PROGRESS: Parsing completed. Parsed 102 lines in 0.013476 secs.\n"
     ]
    }
   ],
   "source": [
    "spec = gl.SFrame.read_csv('data/SK&A Codes/SPEC.csv', verbose = False)"
   ]
  },
  {
   "cell_type": "code",
   "execution_count": 31,
   "metadata": {
    "collapsed": false
   },
   "outputs": [],
   "source": [
    "spec = spec.rename({'Spec':'SPEC','Physician Specialty':'Physician Specialty Value'})"
   ]
  },
  {
   "cell_type": "code",
   "execution_count": 32,
   "metadata": {
    "collapsed": true
   },
   "outputs": [],
   "source": [
    "ska_data_c2c3c4c5c6c7S = ska_data_c2c3c4c5c6c7.join(spec,'SPEC','left').rename({'SPEC':'Physician Specialty Code'})"
   ]
  },
  {
   "cell_type": "markdown",
   "metadata": {},
   "source": [
    "### Save the final output"
   ]
  },
  {
   "cell_type": "code",
   "execution_count": 33,
   "metadata": {
    "collapsed": false
   },
   "outputs": [],
   "source": [
    "ska_data_c2c3c4c5c6c7S.save('data/SK&A Data Decoded.csv')"
   ]
  },
  {
   "cell_type": "code",
   "execution_count": null,
   "metadata": {
    "collapsed": true
   },
   "outputs": [],
   "source": []
  }
 ],
 "metadata": {
  "kernelspec": {
   "display_name": "Python 2",
   "language": "python",
   "name": "python2"
  },
  "language_info": {
   "codemirror_mode": {
    "name": "ipython",
    "version": 2
   },
   "file_extension": ".py",
   "mimetype": "text/x-python",
   "name": "python",
   "nbconvert_exporter": "python",
   "pygments_lexer": "ipython2",
   "version": "2.7.9"
  }
 },
 "nbformat": 4,
 "nbformat_minor": 0
}
