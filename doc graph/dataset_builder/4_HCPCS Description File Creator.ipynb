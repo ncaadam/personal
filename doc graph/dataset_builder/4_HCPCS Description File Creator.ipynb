{
 "cells": [
  {
   "cell_type": "markdown",
   "metadata": {},
   "source": [
    "# HCPCS Description Grabber "
   ]
  },
  {
   "cell_type": "markdown",
   "metadata": {},
   "source": [
    "### Imports"
   ]
  },
  {
   "cell_type": "code",
   "execution_count": 7,
   "metadata": {
    "collapsed": false
   },
   "outputs": [],
   "source": [
    "import graphlab as gl"
   ]
  },
  {
   "cell_type": "markdown",
   "metadata": {},
   "source": [
    "### Data Ingest"
   ]
  },
  {
   "cell_type": "code",
   "execution_count": 8,
   "metadata": {
    "collapsed": false
   },
   "outputs": [
    {
     "name": "stdout",
     "output_type": "stream",
     "text": [
      "------------------------------------------------------\n",
      "Inferred types from first line of file as \n",
      "column_type_hints=[int,str,str,str,str,str,str,str,str,str,int,str,str,str,str,str,str,str,int,int,int,float,float,float,float,float,float]\n",
      "If parsing fails due to incorrect types, you can correct\n",
      "the inferred type list above and pass it to read_csv in\n",
      "the column_type_hints argument\n",
      "------------------------------------------------------\n",
      "PROGRESS: Unable to parse line \"1043299381\tKAMENS\tCATHY\tA\tMD\tF\tI\t84 HILLSIDE DRIVE\t\tTORONTO\tM4K 2M6\tZZ\tCA\tFamily Practice\tY\tO\t99213\tOffice/outpatient visit est\t110\t68\t110\t74.91\t0\t105\t0\t40.114181818\t26.946002415\"\n",
      "PROGRESS: Unable to parse line \"1043299381\tKAMENS\tCATHY\tA\tMD\tF\tI\t84 HILLSIDE DRIVE\t\tTORONTO\tM4K 2M6\tZZ\tCA\tFamily Practice\tY\tO\tG0438\tPPPS, initial visit\t21\t21\t21\t176.37\t0\t200\t0\t176.37\t0\"\n",
      "PROGRESS: Read 268594 lines. Lines per second: 171489\n",
      "PROGRESS: Unable to parse line \"1154648467\tPAZO\tVALERIA\tC\tM.D.,\tF\tI\t450 GASCON\t\tBUENOS AIRES\tC1181ACH\tZZ\tAR\tInternal Medicine\tY\tF\t99217\tObservation care discharge\t18\t18\t18\t73.71\t0\t251\t4\t58.150555556\t3.3786559988\"\n",
      "PROGRESS: Unable to parse line \"1154648467\tPAZO\tVALERIA\tC\tM.D.,\tF\tI\t450 GASCON\t\tBUENOS AIRES\tC1181ACH\tZZ\tAR\tInternal Medicine\tY\tF\t99222\tInitial hospital care\t89\t87\t89\t138.24\t0\t463.33707865\t2.2231863975\t110.59\t0\"\n",
      "PROGRESS: Unable to parse line \"1154648467\tPAZO\tVALERIA\tC\tM.D.,\tF\tI\t450 GASCON\t\tBUENOS AIRES\tC1181ACH\tZZ\tAR\tInternal Medicine\tY\tF\t99223\tInitial hospital care\t46\t46\t46\t203.21\t0\t688.17391304\t10.31314979\t162.57\t0\"\n",
      "PROGRESS: Unable to parse line \"1154648467\tPAZO\tVALERIA\tC\tM.D.,\tF\tI\t450 GASCON\t\tBUENOS AIRES\tC1181ACH\tZZ\tAR\tInternal Medicine\tY\tF\t99231\tSubsequent hospital care\t92\t61\t79\t39.7\t0\t138.30434783\t0.7752358634\t31.76\t0\"\n",
      "PROGRESS: Unable to parse line \"1154648467\tPAZO\tVALERIA\tC\tM.D.,\tF\tI\t450 GASCON\t\tBUENOS AIRES\tC1181ACH\tZZ\tAR\tInternal Medicine\tY\tF\t99232\tSubsequent hospital care\t267\t150\t247\t72.81\t0\t248.79400749\t1.6588255101\t58.24988764\t0.0006254689\"\n",
      "PROGRESS: Unable to parse line \"1154648467\tPAZO\tVALERIA\tC\tM.D.,\tF\tI\t450 GASCON\t\tBUENOS AIRES\tC1181ACH\tZZ\tAR\tInternal Medicine\tY\tF\t99233\tSubsequent hospital care\t57\t36\t55\t104.32\t0\t356.84210526\t3.1379754544\t83.459649123\t0.0013002269\"\n",
      "PROGRESS: Unable to parse line \"1154648467\tPAZO\tVALERIA\tC\tM.D.,\tF\tI\t450 GASCON\t\tBUENOS AIRES\tC1181ACH\tZZ\tAR\tInternal Medicine\tY\tF\t99238\tHospital discharge day\t96\t93\t96\t73.44\t0\t247.51041667\t1.8199976629\t58.75\t0\"\n",
      "PROGRESS: Unable to parse line \"1154648467\tPAZO\tVALERIA\tC\tM.D.,\tF\tI\t450 GASCON\t\tBUENOS AIRES\tC1181ACH\tZZ\tAR\tInternal Medicine\tY\tF\t99239\tHospital discharge day\t27\t27\t27\t108.43\t0\t365.33333333\t5.96284794\t86.74\t0\"\n",
      "PROGRESS: Read 1609132 lines. Lines per second: 207984\n",
      "PROGRESS: Read 2682017 lines. Lines per second: 198404\n",
      "PROGRESS: Read 3755517 lines. Lines per second: 200825\n",
      "PROGRESS: Read 4829429 lines. Lines per second: 199554\n",
      "PROGRESS: Read 5901571 lines. Lines per second: 199068\n",
      "PROGRESS: Read 6973766 lines. Lines per second: 198719\n",
      "PROGRESS: Read 8047729 lines. Lines per second: 197229\n",
      "PROGRESS: Read 9120143 lines. Lines per second: 196698\n",
      "PROGRESS: 70 lines failed to parse correctly\n",
      "PROGRESS: Finished parsing file /Users/astuckey002/Documents/Analytics/DocGraph/Dataset Builder/data/Medicare-Physician-and-Other-Supplier-PUF-CY2012.txt\n",
      "PROGRESS: Parsing completed. Parsed 9153203 lines in 46.4905 secs.\n"
     ]
    }
   ],
   "source": [
    "# grab the file with all the HCPCS descriptions\n",
    "big_data = gl.SFrame.read_csv('data/Medicare-Physician-and-Other-Supplier-PUF-CY2012.txt',\n",
    "                              delimiter = '\\t', verbose = False)"
   ]
  },
  {
   "cell_type": "markdown",
   "metadata": {},
   "source": [
    "### Data Filter"
   ]
  },
  {
   "cell_type": "code",
   "execution_count": 9,
   "metadata": {
    "collapsed": false
   },
   "outputs": [],
   "source": [
    "# select the two columns we care about and exclude any blanks\n",
    "hcpcs = big_data.select_columns(['hcpcs_code','hcpcs_description']).filter_by('','hcpcs_code',exclude=True)"
   ]
  },
  {
   "cell_type": "code",
   "execution_count": 10,
   "metadata": {
    "collapsed": false
   },
   "outputs": [],
   "source": [
    "# get the unique pairs\n",
    "hcpcs_u = hcpcs.unique()"
   ]
  },
  {
   "cell_type": "code",
   "execution_count": 11,
   "metadata": {
    "collapsed": false
   },
   "outputs": [],
   "source": [
    "# sort the data by the HCPCS code\n",
    "final = hcpcs_u.sort('hcpcs_code')"
   ]
  },
  {
   "cell_type": "markdown",
   "metadata": {},
   "source": [
    "### Save the resulting dataset"
   ]
  },
  {
   "cell_type": "code",
   "execution_count": 12,
   "metadata": {
    "collapsed": false
   },
   "outputs": [],
   "source": [
    "# save the output\n",
    "final.save('data/hcpcs_descriptions.csv')"
   ]
  },
  {
   "cell_type": "code",
   "execution_count": null,
   "metadata": {
    "collapsed": true
   },
   "outputs": [],
   "source": []
  }
 ],
 "metadata": {
  "kernelspec": {
   "display_name": "Python 2",
   "language": "python",
   "name": "python2"
  },
  "language_info": {
   "codemirror_mode": {
    "name": "ipython",
    "version": 2
   },
   "file_extension": ".py",
   "mimetype": "text/x-python",
   "name": "python",
   "nbconvert_exporter": "python",
   "pygments_lexer": "ipython2",
   "version": "2.7.9"
  }
 },
 "nbformat": 4,
 "nbformat_minor": 0
}
