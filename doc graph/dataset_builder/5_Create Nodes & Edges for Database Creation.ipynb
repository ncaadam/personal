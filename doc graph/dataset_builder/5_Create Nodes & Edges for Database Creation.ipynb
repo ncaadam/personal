{
 "cells": [
  {
   "cell_type": "markdown",
   "metadata": {},
   "source": [
    "# Create the Nodes & Rels Files for neo4j Import "
   ]
  },
  {
   "cell_type": "markdown",
   "metadata": {},
   "source": [
    "### Imports"
   ]
  },
  {
   "cell_type": "code",
   "execution_count": 5,
   "metadata": {
    "collapsed": false
   },
   "outputs": [],
   "source": [
    "import graphlab as gl\n",
    "from __future__ import division"
   ]
  },
  {
   "cell_type": "markdown",
   "metadata": {},
   "source": [
    "# DocGraph Nodes & Rels"
   ]
  },
  {
   "cell_type": "markdown",
   "metadata": {},
   "source": [
    "### Import the data"
   ]
  },
  {
   "cell_type": "code",
   "execution_count": 6,
   "metadata": {
    "collapsed": false
   },
   "outputs": [],
   "source": [
    "# import the joined dg data\n",
    "docgraph_node_raw = gl.SFrame.read_csv('data/dg_nppes_chicago_joined.csv', delimiter=',',\n",
    "                                        column_type_hints={'line_srvc_cnt':int, \n",
    "                                                          'bene_unique_cnt':int, \n",
    "                                                          'bene_day_srvc_cnt':int,\n",
    "                                                          'average_Medicare_allowed_amt':float,\n",
    "                                                          'stdev_Medicare_allowed_amt':float,\n",
    "                                                          'average_submitted_chrg_amt':float,\n",
    "                                                          'stdev_submitted_chrg_amt':float,\n",
    "                                                          'average_Medicare_payment_amt':float,\n",
    "                                                          'stdev_Medicare_payment_amt':float},verbose=False)"
   ]
  },
  {
   "cell_type": "code",
   "execution_count": 7,
   "metadata": {
    "collapsed": true
   },
   "outputs": [],
   "source": [
    "# select columns wanted\n",
    "df = docgraph_node_raw.select_columns(['npi','nppes_provider_last_org_name','nppes_provider_first_name',\n",
    "                                       'nppes_provider_mi','nppes_credentials','nppes_provider_gender',\n",
    "                                       'nppes_entity_code','nppes_provider_street1','nppes_provider_street2',\n",
    "                                       'nppes_provider_city','nppes_provider_zip','nppes_provider_state',\n",
    "                                       'nppes_provider_country','Is Sole Proprietor'])"
   ]
  },
  {
   "cell_type": "markdown",
   "metadata": {},
   "source": [
    "### Create DG Nodes and Provider Type Relationships"
   ]
  },
  {
   "cell_type": "code",
   "execution_count": 8,
   "metadata": {
    "collapsed": false
   },
   "outputs": [],
   "source": [
    "# create DG nodes\n",
    "df = df.unique()\n",
    "df.rename({'npi':'providerID:ID'})\n",
    "df[':LABEL'] = 'Provider'\n",
    "df.save('data/graph/providers.csv', format='csv')"
   ]
  },
  {
   "cell_type": "code",
   "execution_count": 9,
   "metadata": {
    "collapsed": false
   },
   "outputs": [],
   "source": [
    "#create provider type relationships\n",
    "df3 = docgraph_node_raw.select_columns(['npi','provider_type'])\n",
    "df3.rename({'npi':':START_ID','provider_type':':END_ID'})\n",
    "df3[':TYPE']='Is_Provider_Type'\n",
    "df3[':END_ID'] = df3[':END_ID'].apply(lambda x: \"spec_\" + x.lower().lstrip().rstrip().replace(' ','_'))\n",
    "df3 = df3.unique()\n",
    "df3.save('data/graph/pt_rels.csv', format='csv')"
   ]
  },
  {
   "cell_type": "markdown",
   "metadata": {},
   "source": [
    "## Create HCPCS Nodes and Rels"
   ]
  },
  {
   "cell_type": "code",
   "execution_count": 10,
   "metadata": {
    "collapsed": false
   },
   "outputs": [
    {
     "name": "stdout",
     "output_type": "stream",
     "text": [
      "------------------------------------------------------\n",
      "Inferred types from first line of file as \n",
      "column_type_hints=[str,str]\n",
      "If parsing fails due to incorrect types, you can correct\n",
      "the inferred type list above and pass it to read_csv in\n",
      "the column_type_hints argument\n",
      "------------------------------------------------------\n",
      "PROGRESS: Finished parsing file /Users/astuckey002/Documents/Analytics/DocGraph/Dataset Builder/data/hcpcs_descriptions.csv\n",
      "PROGRESS: Parsing completed. Parsed 5949 lines in 0.012478 secs.\n"
     ]
    }
   ],
   "source": [
    "# import hcpcs data created previously\n",
    "hcpcs_desc = gl.SFrame.read_csv('data/hcpcs_descriptions.csv',verbose=False)"
   ]
  },
  {
   "cell_type": "code",
   "execution_count": 11,
   "metadata": {
    "collapsed": false
   },
   "outputs": [],
   "source": [
    "# create hcpcs nodes\n",
    "df1 = docgraph_node_raw[['hcpcs_code']]\n",
    "df1.num_rows()\n",
    "df1 = df1.join(hcpcs_desc,'hcpcs_code')\n",
    "df1.rename({'hcpcs_code':'hcpcs_codeID:ID'})\n",
    "df1[':LABEL']='HCPCS_Code'\n",
    "df1 = df1.unique()\n",
    "df1.save('data/graph/hcpcs_codes.csv', format='csv')"
   ]
  },
  {
   "cell_type": "code",
   "execution_count": 12,
   "metadata": {
    "collapsed": false
   },
   "outputs": [],
   "source": [
    "#create hcpcs relationships\n",
    "df2 = docgraph_node_raw.select_columns(['npi','place_of_Service','line_srvc_cnt','bene_unique_cnt','bene_day_srvc_cnt',\n",
    "                                        'average_Medicare_allowed_amt','stdev_Medicare_allowed_amt',\n",
    "                                        'average_submitted_chrg_amt','stdev_submitted_chrg_amt',\n",
    "                                        'average_Medicare_payment_amt','stdev_Medicare_payment_amt','hcpcs_code'])\n",
    "df2 = df2.unique()\n",
    "df2.rename({'npi':':START_ID','hcpcs_code':':END_ID'})\n",
    "df2[':TYPE']='Conducts_Procedure'\n",
    "df2.save('data/graph/hcpcs_rels.csv', format='csv')"
   ]
  },
  {
   "cell_type": "markdown",
   "metadata": {},
   "source": [
    "## Create Taxonomy Nodes and Rels"
   ]
  },
  {
   "cell_type": "code",
   "execution_count": 13,
   "metadata": {
    "collapsed": false
   },
   "outputs": [
    {
     "name": "stdout",
     "output_type": "stream",
     "text": [
      "------------------------------------------------------\n",
      "Inferred types from first line of file as \n",
      "column_type_hints=[str,str,str,str,str,str]\n",
      "If parsing fails due to incorrect types, you can correct\n",
      "the inferred type list above and pass it to read_csv in\n",
      "the column_type_hints argument\n",
      "------------------------------------------------------\n",
      "PROGRESS: Finished parsing file /Users/astuckey002/Documents/Analytics/DocGraph/Dataset Builder/data/nucc_taxonomy_150.csv\n",
      "PROGRESS: Parsing completed. Parsed 834 lines in 0.014907 secs.\n"
     ]
    }
   ],
   "source": [
    "#create taxonomy code nodes\n",
    "tax_info = gl.SFrame.read_csv('data/nucc_taxonomy_150.csv',verbose=False)\n",
    "tax_info = tax_info.remove_columns(['Definition','Notes']).rename({'Code':'taxonomy_codeID:ID'})\n",
    "tax_info[':LABEL'] = 'Taxonomy_Code'\n",
    "tax_info.save('data/graph/taxonomies.csv')"
   ]
  },
  {
   "cell_type": "code",
   "execution_count": 14,
   "metadata": {
    "collapsed": false
   },
   "outputs": [],
   "source": [
    "#create taxonomy relationships\n",
    "df3 = docgraph_node_raw.select_columns(['npi','Healthcare Provider Taxonomy Code_1'])\n",
    "df3.rename({'npi':':START_ID','Healthcare Provider Taxonomy Code_1':':END_ID'})\n",
    "df3[':TYPE']='Has_Taxonomy'\n",
    "df3 = df3.unique()\n",
    "df3.save('data/graph/taxonomy_rels.csv', format='csv')"
   ]
  },
  {
   "cell_type": "markdown",
   "metadata": {},
   "source": [
    "## Create Referral Relationships between Providers"
   ]
  },
  {
   "cell_type": "code",
   "execution_count": 15,
   "metadata": {
    "collapsed": true
   },
   "outputs": [],
   "source": [
    "#create referral relationships\n",
    "edges = gl.SFrame.read_csv('data/dg_edges_chicago.csv',delimiter=',',\n",
    "                           column_type_hints={'SharedTransactionCount':int,'PatientTotal':int, 'SameDayTotal':int},\n",
    "                           verbose=False)"
   ]
  },
  {
   "cell_type": "code",
   "execution_count": 16,
   "metadata": {
    "collapsed": true
   },
   "outputs": [],
   "source": [
    "edges = edges.select_columns(['FirstNPI','SecondNPI','SharedTransactionCount'])\n",
    "edges.rename({'FirstNPI':':START_ID','SecondNPI':':END_ID'})\n",
    "edges[':TYPE']='Refers_To'"
   ]
  },
  {
   "cell_type": "code",
   "execution_count": 17,
   "metadata": {
    "collapsed": true
   },
   "outputs": [],
   "source": [
    "provider_dict = {}\n",
    "for npi in df['providerID:ID']:\n",
    "    provider_dict[npi] = 0"
   ]
  },
  {
   "cell_type": "code",
   "execution_count": 18,
   "metadata": {
    "collapsed": true
   },
   "outputs": [],
   "source": [
    "npi_list = {}\n",
    "for npi in edges[':START_ID'].unique().append(edges[':END_ID'].unique()).unique():\n",
    "    npi_list[npi] = 0"
   ]
  },
  {
   "cell_type": "code",
   "execution_count": 19,
   "metadata": {
    "collapsed": false
   },
   "outputs": [],
   "source": [
    "new_edges = edges.filter_by(npi_list.keys(),':START_ID').filter_by(npi_list.keys(),':END_ID')\n",
    "new_edges.save('data/graph/provider_rels.csv', format='csv')"
   ]
  },
  {
   "cell_type": "markdown",
   "metadata": {},
   "source": [
    "# Create SKA Nodes and Rels"
   ]
  },
  {
   "cell_type": "markdown",
   "metadata": {},
   "source": [
    "- Affiliation Value / State\n",
    "- IPA Value, State\n",
    "- Hospital Value, State\n",
    "- Health System Value, State\n",
    "- PGP Value, State\n",
    "- Physician Specialty Value\n",
    "- Practice Specialty Value\n",
    "- DEPT_EXPL"
   ]
  },
  {
   "cell_type": "markdown",
   "metadata": {},
   "source": [
    "### Import the SK&A Data"
   ]
  },
  {
   "cell_type": "code",
   "execution_count": 20,
   "metadata": {
    "collapsed": false
   },
   "outputs": [
    {
     "name": "stdout",
     "output_type": "stream",
     "text": [
      "------------------------------------------------------\n",
      "Inferred types from first line of file as \n",
      "column_type_hints=[str,str,str,str,str,str,str,str,str,str,str,str,str,str,str,str,str,str,str,str,str,str,str,int,int,str,int,int,int,str,str,int,int,int,str,str,str,str,str,str,str,int,str,str,str,str,str,str,str,str,str,str,float,float,int,str,int,str,str,str,str,str,str,str,str,str,str,str,str,str,str,str,str,str]\n",
      "If parsing fails due to incorrect types, you can correct\n",
      "the inferred type list above and pass it to read_csv in\n",
      "the column_type_hints argument\n",
      "------------------------------------------------------\n",
      "PROGRESS: Finished parsing file /Users/astuckey002/Documents/Analytics/DocGraph/Dataset Builder/data/SK&A Data Decoded.csv\n",
      "PROGRESS: Parsing completed. Parsed 21020 lines in 0.304231 secs.\n"
     ]
    }
   ],
   "source": [
    "# import data, change NPI to a string, filter the data by NPIs in Provider nodes\n",
    "ska_data = gl.SFrame.read_csv('data/SK&A Data Decoded.csv',verbose=False)\n",
    "ska_data['npi'] = ska_data['npi'].astype(str)\n",
    "ska_data = ska_data.filter_by(npi_list.keys(),'npi',exclude=True)"
   ]
  },
  {
   "cell_type": "code",
   "execution_count": 21,
   "metadata": {
    "collapsed": false
   },
   "outputs": [],
   "source": [
    "# rename the data\n",
    "ska_data = ska_data.rename({'T1':'Medical Title','COMPANY1':'Company','SIZE':'Num of Docs','PATVOLN':'Avg Daily Patient Volume',\n",
    "                 'FS':'Free Standing Surgery'})"
   ]
  },
  {
   "cell_type": "markdown",
   "metadata": {},
   "source": [
    "### Create SKA Nodes"
   ]
  },
  {
   "cell_type": "code",
   "execution_count": 22,
   "metadata": {
    "collapsed": false
   },
   "outputs": [],
   "source": [
    "# create Medical Title nodes\n",
    "med_title = ska_data[['Medical Title']]\n",
    "med_title.rename({'Medical Title':'medical_title'})\n",
    "med_title[':LABEL'] = 'Medical_Title'\n",
    "med_title['medical_titleID:ID'] = med_title['medical_title'].apply(lambda x: \"mt_\" + x.lower().lstrip().rstrip().replace(' ','_'))\n",
    "med_title = med_title.unique()\n",
    "med_title.save('data/graph/medical_titles.csv')"
   ]
  },
  {
   "cell_type": "code",
   "execution_count": 23,
   "metadata": {
    "collapsed": false
   },
   "outputs": [],
   "source": [
    "# create specialty nodes (covers provider type and physician/practice specialty)\n",
    "phys_spec = ska_data.select_column('Physician Specialty Value')\n",
    "prac_spec = ska_data.select_column('Practice Specialty Value')\n",
    "p_t = docgraph_node_raw.select_column('provider_type')\n",
    "spec_nodes = phys_spec.append(prac_spec).append(p_t)\n",
    "spec_nodes_df = gl.SFrame(spec_nodes.unique()).rename({'X1':'specialty'})\n",
    "spec_nodes_df[':LABEL'] = 'Specialty'\n",
    "spec_nodes_df['specialtyID:ID'] = spec_nodes_df['specialty'].apply(lambda x: \"spec_\" + x.lower().lstrip().rstrip().replace(' ','_'))\n",
    "spec_nodes_df = spec_nodes_df.unique()\n",
    "spec_nodes_df.save('data/graph/specialties.csv')"
   ]
  },
  {
   "cell_type": "code",
   "execution_count": 24,
   "metadata": {
    "collapsed": false
   },
   "outputs": [],
   "source": [
    "# create Entity nodes\n",
    "aff = ska_data[['Affiliation Value']]\n",
    "aff['Origination'] = 'Affiliation'\n",
    "aff.rename({'Affiliation Value':'entity_name'})\n",
    "aff['entityID:ID'] = aff['entity_name'].apply(lambda x: \"ent_\" + x.lower().lstrip().rstrip().replace(' ','_'))\n",
    "aff = aff.unique()\n",
    "\n",
    "ipa = ska_data[['IPA Value']]\n",
    "ipa['Origination'] = 'IPA'\n",
    "ipa.rename({'IPA Value':'entity_name'})\n",
    "ipa['entityID:ID'] = ipa['entity_name'].apply(lambda x: \"ent_\" + x.lower().lstrip().rstrip().replace(' ','_'))\n",
    "ipa = ipa.unique()\n",
    "\n",
    "hosp = ska_data[['Hospital Value']]\n",
    "hosp['Origination'] = 'Hospital'\n",
    "hosp.rename({'Hospital Value':'entity_name'})\n",
    "hosp['entityID:ID'] = hosp['entity_name'].apply(lambda x: \"ent_\" + x.lower().lstrip().rstrip().replace(' ','_'))\n",
    "hosp = hosp.unique()\n",
    "\n",
    "hs = ska_data[['Health System Value']]\n",
    "hs['Origination'] = 'Health System'\n",
    "hs.rename({'Health System Value':'entity_name'})\n",
    "hs['entityID:ID'] = hs['entity_name'].apply(lambda x: \"ent_\" + x.lower().lstrip().rstrip().replace(' ','_'))\n",
    "hs = hs.unique()\n",
    "\n",
    "pgp = ska_data[['PGP Value']]\n",
    "pgp['Origination'] = 'PGP'\n",
    "pgp.rename({'PGP Value':'entity_name'})\n",
    "pgp['entityID:ID'] = pgp['entity_name'].apply(lambda x: \"ent_\" + x.lower().lstrip().rstrip().replace(' ','_'))\n",
    "pgp = pgp.unique()\n",
    "\n",
    "comp = ska_data[['Company']]\n",
    "comp['Origination'] = 'Company'\n",
    "comp.rename({'Company':'entity_name'})\n",
    "comp['entityID:ID'] = comp['entity_name'].apply(lambda x: \"ent_\" + x.lower().lstrip().rstrip().replace(' ','_'))\n",
    "comp = comp.unique()\n",
    "\n",
    "entities = aff.append(ipa).append(hosp).append(hs).append(pgp).append(comp)\n",
    "entities = entities[['entityID:ID','entity_name']]\n",
    "entities[':LABEL'] = 'Entity'\n",
    "entities['entity_name'] = entities['entity_name'].apply(lambda x: x.lower())\n",
    "entities = entities.unique()\n",
    "entities.save('data/graph/entities.csv')"
   ]
  },
  {
   "cell_type": "code",
   "execution_count": 25,
   "metadata": {
    "collapsed": false
   },
   "outputs": [],
   "source": [
    "# create Career Title nodes\n",
    "df = ska_data.select_columns(['DEPT_EXPL','DEPTCODE'])\n",
    "df.rename({'DEPT_EXPL':'career_title','DEPTCODE':'deptID:ID'})\n",
    "df[':LABEL'] = 'Career_Title'\n",
    "df['career_title'] = df['career_title'].apply(lambda x: 'House-Call Doctor' if x == 'House-call Doctors' else x)\n",
    "df = df.unique()\n",
    "df.save('data/graph/career_titles.csv', format='csv')"
   ]
  },
  {
   "cell_type": "markdown",
   "metadata": {},
   "source": [
    "### Create SKA Relationships"
   ]
  },
  {
   "cell_type": "code",
   "execution_count": 26,
   "metadata": {
    "collapsed": false
   },
   "outputs": [],
   "source": [
    "# create affiliation rels\n",
    "df = ska_data.select_columns(['npi','Affiliation Value','Affiliation State'])\n",
    "df.rename({'npi':':START_ID','Affiliation Value':':END_ID','Affiliation State':'State'})\n",
    "df[':TYPE']='Hospital_Affiliation'\n",
    "df[':END_ID'] = df[':END_ID'].apply(lambda x: \"ent_\" + x.lower().lstrip().rstrip().replace(' ','_'))\n",
    "df = df.unique()\n",
    "df.save('data/graph/affiliation_rels.csv', format='csv')"
   ]
  },
  {
   "cell_type": "code",
   "execution_count": 27,
   "metadata": {
    "collapsed": false
   },
   "outputs": [],
   "source": [
    "# create IPA rels\n",
    "df = ska_data.select_columns(['npi','IPA Value','IPA State'])\n",
    "df.rename({'npi':':START_ID','IPA Value':':END_ID','IPA State':'State'})\n",
    "df[':TYPE']='Part_of_IPA'\n",
    "df[':END_ID'] = df[':END_ID'].apply(lambda x: \"ent_\" + x.lower().lstrip().rstrip().replace(' ','_'))\n",
    "df = df.unique()\n",
    "df.save('data/graph/IPA_rels.csv', format='csv')"
   ]
  },
  {
   "cell_type": "code",
   "execution_count": 28,
   "metadata": {
    "collapsed": false
   },
   "outputs": [],
   "source": [
    "# create Hospital rels\n",
    "df = ska_data.select_columns(['npi','Hospital Value','Hospital State'])\n",
    "df.rename({'npi':':START_ID','Hospital Value':':END_ID','Hospital State':'State'})\n",
    "df[':TYPE']='Hospital_Ownership'\n",
    "df[':END_ID'] = df[':END_ID'].apply(lambda x: \"ent_\" + x.lower().lstrip().rstrip().replace(' ','_'))\n",
    "df = df.unique()\n",
    "df.save('data/graph/hospital_rels.csv', format='csv')"
   ]
  },
  {
   "cell_type": "code",
   "execution_count": 29,
   "metadata": {
    "collapsed": false
   },
   "outputs": [],
   "source": [
    "# create Health System rels\n",
    "df = ska_data.select_columns(['npi','Health System Value','Health System State'])\n",
    "df.rename({'npi':':START_ID','Health System Value':':END_ID','Health System State':'State'})\n",
    "df[':TYPE']='Health_System_Used'\n",
    "df[':END_ID'] = df[':END_ID'].apply(lambda x: \"ent_\" + x.lower().lstrip().rstrip().replace(' ','_'))\n",
    "df = df.unique()\n",
    "df.save('data/graph/health_system_rels.csv', format='csv')"
   ]
  },
  {
   "cell_type": "code",
   "execution_count": 30,
   "metadata": {
    "collapsed": false
   },
   "outputs": [],
   "source": [
    "# create PGP rels\n",
    "df = ska_data.select_columns(['npi','PGP Value','PGP State','CD3_SITE','CD3ALL_DRS'])\n",
    "df.rename({'npi':':START_ID','PGP Value':':END_ID','PGP State':'State','CD3_SITE':'Num_Sites','CD3ALL_DRS':'Num_Docs'})\n",
    "df[':TYPE']='PGP_Affiliation'\n",
    "df[':END_ID'] = df[':END_ID'].apply(lambda x: \"ent_\" + x.lower().lstrip().rstrip().replace(' ','_'))\n",
    "df = df.unique()\n",
    "df.save('data/graph/pgp_rels.csv', format='csv')"
   ]
  },
  {
   "cell_type": "code",
   "execution_count": 31,
   "metadata": {
    "collapsed": false
   },
   "outputs": [],
   "source": [
    "# create company rels\n",
    "df = ska_data.select_columns(['npi','Company','Free Standing Surgery','Num of Docs','Avg Daily Patient Volume',\n",
    "                              'LATITUDE','LONGITUDE','ADDRESS1','CITY','STATE','ZIP'])\n",
    "df.rename({'npi':':START_ID','Company':':END_ID','LATITUDE':'lat','LONGITUDE':'long',\n",
    "           'ADDRESS1':'Address','CITY':'City','STATE':'State','ZIP':'Zip'})\n",
    "df[':TYPE']='Part_of_Company'\n",
    "df[':END_ID'] = df[':END_ID'].apply(lambda x: \"ent_\" + x.lower().lstrip().rstrip().replace(' ','_'))\n",
    "df = df.unique()\n",
    "df.save('data/graph/company_rels.csv')"
   ]
  },
  {
   "cell_type": "code",
   "execution_count": 32,
   "metadata": {
    "collapsed": false
   },
   "outputs": [],
   "source": [
    "# create Physician Specialty rels\n",
    "df = ska_data.select_columns(['npi','Physician Specialty Value'])\n",
    "df.rename({'npi':':START_ID','Physician Specialty Value':':END_ID'})\n",
    "df[':TYPE']='Has_Physician_Specialty'\n",
    "df = df.unique()\n",
    "df[':END_ID'] = df[':END_ID'].apply(lambda x: \"spec_\" + x.lower().lstrip().rstrip().replace(' ','_'))\n",
    "df = df.unique()\n",
    "df.save('data/graph/phys_spec_rels.csv', format='csv')"
   ]
  },
  {
   "cell_type": "code",
   "execution_count": 33,
   "metadata": {
    "collapsed": false
   },
   "outputs": [],
   "source": [
    "# create Practice Specialty rels\n",
    "df = ska_data.select_columns(['npi','Practice Specialty Value'])\n",
    "df.rename({'npi':':START_ID','Practice Specialty Value':':END_ID'})\n",
    "df[':TYPE']='Has_Practice_Specialty'\n",
    "df = df.unique()\n",
    "df[':END_ID'] = df[':END_ID'].apply(lambda x: \"spec_\" + x.lower().lstrip().rstrip().replace(' ','_'))\n",
    "df = df.unique()\n",
    "df.save('data/graph/prac_spec_rels.csv', format='csv')"
   ]
  },
  {
   "cell_type": "code",
   "execution_count": 34,
   "metadata": {
    "collapsed": false
   },
   "outputs": [],
   "source": [
    "# create Career Title rels\n",
    "df = ska_data.select_columns(['npi','DEPTCODE'])\n",
    "df.rename({'npi':':START_ID','DEPTCODE':':END_ID'})\n",
    "df[':TYPE']='Has_Career_Title'\n",
    "df = df.unique()\n",
    "df.save('data/graph/career_rels.csv', format='csv')"
   ]
  },
  {
   "cell_type": "code",
   "execution_count": 35,
   "metadata": {
    "collapsed": false
   },
   "outputs": [],
   "source": [
    "# create Medical Title rels\n",
    "df = ska_data.select_columns(['npi','Medical Title'])\n",
    "df.rename({'npi':':START_ID','Medical Title':':END_ID'})\n",
    "df[':TYPE']='Has_Medical_Title'\n",
    "df[':END_ID'] = df[':END_ID'].apply(lambda x: \"mt_\" + x.lower().lstrip().rstrip().replace(' ','_'))\n",
    "df = df.unique()\n",
    "df.save('data/graph/medical_rels.csv', format='csv')"
   ]
  },
  {
   "cell_type": "markdown",
   "metadata": {},
   "source": [
    "<p>bin/neo4j-import --into graph.db/ --stacktrace --nodes taxonomies.csv --relationships taxonomy_rels.csv --nodes specialties.csv --relationships pt_rels.csv --relationships prac_spec_rels.csv --relationships phys_spec_rels.csv --nodes providers.csv --relationships provider_rels.csv --nodes medical_titles.csv --relationships medical_rels.csv --nodes entities.csv --relationships pgp_rels.csv --relationships IPA_rels.csv --relationships hospital_rels.csv --relationships health_system_rels.csv --relationships affiliation_rels.csv --relationships company_rels.csv --nodes hcpcs_codes.csv --relationships hcpcs_rels.csv --nodes career_titles.csv --relationships career_rels.csv"
   ]
  }
 ],
 "metadata": {
  "kernelspec": {
   "display_name": "Python 2",
   "language": "python",
   "name": "python2"
  },
  "language_info": {
   "codemirror_mode": {
    "name": "ipython",
    "version": 2
   },
   "file_extension": ".py",
   "mimetype": "text/x-python",
   "name": "python",
   "nbconvert_exporter": "python",
   "pygments_lexer": "ipython2",
   "version": "2.7.9"
  }
 },
 "nbformat": 4,
 "nbformat_minor": 0
}
