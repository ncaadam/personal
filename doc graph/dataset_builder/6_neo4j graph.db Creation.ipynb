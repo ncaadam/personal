{
 "cells": [
  {
   "cell_type": "markdown",
   "metadata": {},
   "source": [
    "# neo4j Graph Database Creation"
   ]
  },
  {
   "cell_type": "markdown",
   "metadata": {},
   "source": [
    "After the execution of notebook #5, there should be multiple files in the _'graph'_ folder. Now we need to create the _'graph.db'_ folder to put into our neo4j database instance. See instructions below..."
   ]
  },
  {
   "cell_type": "markdown",
   "metadata": {},
   "source": [
    "## Compiling Instructions\n",
    "1. In your terminal, navigate to the _'data/graph/'_ directory\n",
    "    - e.g. <code> $ cd data/graph/ </code>\n",
    "2. In this directory, execute the following block of code:\n",
    "    - <code><b>~/your/path/to/neo4j/</b>bin/neo4j-import --into graph.db/ --stacktrace --nodes taxonomies.csv --relationships taxonomy_rels.csv --nodes specialties.csv --relationships pt_rels.csv --relationships prac_spec_rels.csv --relationships phys_spec_rels.csv --nodes providers.csv --relationships provider_rels.csv --nodes medical_titles.csv --relationships medical_rels.csv --nodes entities.csv --relationships pgp_rels.csv --relationships IPA_rels.csv --relationships hospital_rels.csv --relationships health_system_rels.csv --relationships affiliation_rels.csv --relationships company_rels.csv --nodes hcpcs_codes.csv --relationships hcpcs_rels.csv --nodes career_titles.csv --relationships career_rels.csv</code>\n",
    "    - Replace <code><b>~/your/path/to/neo4j/</b></code> above with the path to the neo4j instance installed on your machine\n",
    "        - e.g. <code>~/Documents/Packages/neo4j-community-2.2.0/</code>\n",
    "    - After you execute this code, it will take roughly 10-20 seconds to compile\n",
    "3. Copy the _'graph.db'_ folder in this directory\n",
    "4. Paste the _'graph.db'_ folder into your neo4j instance's directory, in the <code>/data/</code> folder\n",
    "    - the final directory should be <code>~/your/path/to/neo4j/data/graph.db</code>\n",
    "        - e.g. <code>~/Documents/Packages/neo4j-community-2.2.0/data/graph.db</code>\n",
    "5. Start your neo4j database\n",
    "6. Go to a web browser and navigate to localhost:7474"
   ]
  }
 ],
 "metadata": {
  "kernelspec": {
   "display_name": "Python 2",
   "language": "python",
   "name": "python2"
  },
  "language_info": {
   "codemirror_mode": {
    "name": "ipython",
    "version": 2
   },
   "file_extension": ".py",
   "mimetype": "text/x-python",
   "name": "python",
   "nbconvert_exporter": "python",
   "pygments_lexer": "ipython2",
   "version": "2.7.9"
  }
 },
 "nbformat": 4,
 "nbformat_minor": 0
}
