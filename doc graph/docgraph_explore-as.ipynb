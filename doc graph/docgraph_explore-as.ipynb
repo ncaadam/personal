{
 "metadata": {
  "name": "",
  "signature": "sha256:f888b533fb27b7475d289c4662f18b3cdaf27c6d15c1719b023245b92e0f8e09"
 },
 "nbformat": 3,
 "nbformat_minor": 0,
 "worksheets": [
  {
   "cells": [
    {
     "cell_type": "code",
     "collapsed": false,
     "input": [
      "import graphlab as gl\n",
      "import graphlab.aggregate as agg"
     ],
     "language": "python",
     "metadata": {},
     "outputs": [],
     "prompt_number": 1
    },
    {
     "cell_type": "code",
     "collapsed": false,
     "input": [
      "docgraph_node_raw = gl.SFrame.read_csv('./data/docgraph_node_chicago.csv', delimiter='\\t',\n",
      "                                       column_type_hints={'line_srvc_cnt':int, \n",
      "                                                          'bene_unique_cnt':int, \n",
      "                                                          'bene_day_srvc_cnt':int,\n",
      "                                                          'average_Medicare_allowed_amt':float,\n",
      "                                                          'stdev_Medicare_allowed_amt':float,\n",
      "                                                          'average_submitted_chrg_amt':float,\n",
      "                                                          'stdev_submitted_chrg_amt':float,\n",
      "                                                          'average_Medicare_payment_amt':float,\n",
      "                                                          'stdev_Medicare_payment_amt':float})"
     ],
     "language": "python",
     "metadata": {},
     "outputs": [
      {
       "html": [
        "<pre>PROGRESS: These column type hints were not used: average_Medicare_allowed_amt average_Medicare_payment_amt average_submitted_chrg_amt bene_day_srvc_cnt bene_unique_cnt line_srvc_cnt stdev_Medicare_allowed_amt stdev_Medicare_payment_amt stdev_submitted_chrg_amt</pre>"
       ],
       "metadata": {},
       "output_type": "display_data",
       "text": [
        "PROGRESS: These column type hints were not used: average_Medicare_allowed_amt average_Medicare_payment_amt average_submitted_chrg_amt bene_day_srvc_cnt bene_unique_cnt line_srvc_cnt stdev_Medicare_allowed_amt stdev_Medicare_payment_amt stdev_submitted_chrg_amt"
       ]
      },
      {
       "html": [
        "<pre>PROGRESS: Finished parsing file /home/ncaadam/Documents/inno_git/innovation/DocGraph Analysis/data/docgraph_node_chicago.csv</pre>"
       ],
       "metadata": {},
       "output_type": "display_data",
       "text": [
        "PROGRESS: Finished parsing file /home/ncaadam/Documents/inno_git/innovation/DocGraph Analysis/data/docgraph_node_chicago.csv"
       ]
      },
      {
       "html": [
        "<pre>PROGRESS: Parsing completed. Parsed 264209 lines in 0.463299 secs.</pre>"
       ],
       "metadata": {},
       "output_type": "display_data",
       "text": [
        "PROGRESS: Parsing completed. Parsed 264209 lines in 0.463299 secs."
       ]
      }
     ],
     "prompt_number": 5
    },
    {
     "cell_type": "code",
     "collapsed": false,
     "input": [
      "docgraph_edge_raw = gl.SFrame.read_csv('../../../DocGraph/data/DocGraph-2012-2013-Days365-Edge-Public-Domain/DocGraph-2012-2013-Days365.csv', header=False, \n",
      "                                       column_type_hints={'X3':int, 'X4':int, 'X5':int})"
     ],
     "language": "python",
     "metadata": {},
     "outputs": [
      {
       "html": [
        "<pre>PROGRESS: Read 1112564 lines. Lines per second: 340644</pre>"
       ],
       "metadata": {},
       "output_type": "display_data",
       "text": [
        "PROGRESS: Read 1112564 lines. Lines per second: 340644"
       ]
      },
      {
       "html": [
        "<pre>PROGRESS: Read 5562782 lines. Lines per second: 629159</pre>"
       ],
       "metadata": {},
       "output_type": "display_data",
       "text": [
        "PROGRESS: Read 5562782 lines. Lines per second: 629159"
       ]
      },
      {
       "html": [
        "<pre>PROGRESS: Read 10012998 lines. Lines per second: 692804</pre>"
       ],
       "metadata": {},
       "output_type": "display_data",
       "text": [
        "PROGRESS: Read 10012998 lines. Lines per second: 692804"
       ]
      },
      {
       "html": [
        "<pre>PROGRESS: Read 13350659 lines. Lines per second: 676147</pre>"
       ],
       "metadata": {},
       "output_type": "display_data",
       "text": [
        "PROGRESS: Read 13350659 lines. Lines per second: 676147"
       ]
      },
      {
       "html": [
        "<pre>PROGRESS: Read 15575767 lines. Lines per second: 629627</pre>"
       ],
       "metadata": {},
       "output_type": "display_data",
       "text": [
        "PROGRESS: Read 15575767 lines. Lines per second: 629627"
       ]
      },
      {
       "html": [
        "<pre>PROGRESS: Read 20025964 lines. Lines per second: 655263</pre>"
       ],
       "metadata": {},
       "output_type": "display_data",
       "text": [
        "PROGRESS: Read 20025964 lines. Lines per second: 655263"
       ]
      },
      {
       "html": [
        "<pre>PROGRESS: Read 24476190 lines. Lines per second: 672266</pre>"
       ],
       "metadata": {},
       "output_type": "display_data",
       "text": [
        "PROGRESS: Read 24476190 lines. Lines per second: 672266"
       ]
      },
      {
       "html": [
        "<pre>PROGRESS: Read 28926421 lines. Lines per second: 688600</pre>"
       ],
       "metadata": {},
       "output_type": "display_data",
       "text": [
        "PROGRESS: Read 28926421 lines. Lines per second: 688600"
       ]
      },
      {
       "html": [
        "<pre>PROGRESS: Read 33376635 lines. Lines per second: 699049</pre>"
       ],
       "metadata": {},
       "output_type": "display_data",
       "text": [
        "PROGRESS: Read 33376635 lines. Lines per second: 699049"
       ]
      },
      {
       "html": [
        "<pre>PROGRESS: Read 37826880 lines. Lines per second: 707180</pre>"
       ],
       "metadata": {},
       "output_type": "display_data",
       "text": [
        "PROGRESS: Read 37826880 lines. Lines per second: 707180"
       ]
      },
      {
       "html": [
        "<pre>PROGRESS: Read 42277117 lines. Lines per second: 714898</pre>"
       ],
       "metadata": {},
       "output_type": "display_data",
       "text": [
        "PROGRESS: Read 42277117 lines. Lines per second: 714898"
       ]
      },
      {
       "html": [
        "<pre>PROGRESS: Read 46727352 lines. Lines per second: 722677</pre>"
       ],
       "metadata": {},
       "output_type": "display_data",
       "text": [
        "PROGRESS: Read 46727352 lines. Lines per second: 722677"
       ]
      },
      {
       "html": [
        "<pre>PROGRESS: Read 51177575 lines. Lines per second: 726244</pre>"
       ],
       "metadata": {},
       "output_type": "display_data",
       "text": [
        "PROGRESS: Read 51177575 lines. Lines per second: 726244"
       ]
      },
      {
       "html": [
        "<pre>PROGRESS: Read 55627803 lines. Lines per second: 732542</pre>"
       ],
       "metadata": {},
       "output_type": "display_data",
       "text": [
        "PROGRESS: Read 55627803 lines. Lines per second: 732542"
       ]
      },
      {
       "html": [
        "<pre>PROGRESS: Read 57852938 lines. Lines per second: 702755</pre>"
       ],
       "metadata": {},
       "output_type": "display_data",
       "text": [
        "PROGRESS: Read 57852938 lines. Lines per second: 702755"
       ]
      },
      {
       "html": [
        "<pre>PROGRESS: Read 61190632 lines. Lines per second: 695528</pre>"
       ],
       "metadata": {},
       "output_type": "display_data",
       "text": [
        "PROGRESS: Read 61190632 lines. Lines per second: 695528"
       ]
      },
      {
       "html": [
        "<pre>PROGRESS: Read 65640839 lines. Lines per second: 697225</pre>"
       ],
       "metadata": {},
       "output_type": "display_data",
       "text": [
        "PROGRESS: Read 65640839 lines. Lines per second: 697225"
       ]
      },
      {
       "html": [
        "<pre>PROGRESS: Read 70091069 lines. Lines per second: 701036</pre>"
       ],
       "metadata": {},
       "output_type": "display_data",
       "text": [
        "PROGRESS: Read 70091069 lines. Lines per second: 701036"
       ]
      },
      {
       "html": [
        "<pre>PROGRESS: Read 74541275 lines. Lines per second: 705065</pre>"
       ],
       "metadata": {},
       "output_type": "display_data",
       "text": [
        "PROGRESS: Read 74541275 lines. Lines per second: 705065"
       ]
      },
      {
       "html": [
        "<pre>PROGRESS: Read 78991500 lines. Lines per second: 706298</pre>"
       ],
       "metadata": {},
       "output_type": "display_data",
       "text": [
        "PROGRESS: Read 78991500 lines. Lines per second: 706298"
       ]
      },
      {
       "html": [
        "<pre>PROGRESS: Read 83441741 lines. Lines per second: 705712</pre>"
       ],
       "metadata": {},
       "output_type": "display_data",
       "text": [
        "PROGRESS: Read 83441741 lines. Lines per second: 705712"
       ]
      },
      {
       "html": [
        "<pre>PROGRESS: Read 87891978 lines. Lines per second: 708765</pre>"
       ],
       "metadata": {},
       "output_type": "display_data",
       "text": [
        "PROGRESS: Read 87891978 lines. Lines per second: 708765"
       ]
      },
      {
       "html": [
        "<pre>PROGRESS: Read 92342223 lines. Lines per second: 708828</pre>"
       ],
       "metadata": {},
       "output_type": "display_data",
       "text": [
        "PROGRESS: Read 92342223 lines. Lines per second: 708828"
       ]
      },
      {
       "html": [
        "<pre>PROGRESS: Read 96792440 lines. Lines per second: 710860</pre>"
       ],
       "metadata": {},
       "output_type": "display_data",
       "text": [
        "PROGRESS: Read 96792440 lines. Lines per second: 710860"
       ]
      },
      {
       "html": [
        "<pre>PROGRESS: Read 101242645 lines. Lines per second: 711203</pre>"
       ],
       "metadata": {},
       "output_type": "display_data",
       "text": [
        "PROGRESS: Read 101242645 lines. Lines per second: 711203"
       ]
      },
      {
       "html": [
        "<pre>PROGRESS: Read 105692860 lines. Lines per second: 712211</pre>"
       ],
       "metadata": {},
       "output_type": "display_data",
       "text": [
        "PROGRESS: Read 105692860 lines. Lines per second: 712211"
       ]
      },
      {
       "html": [
        "<pre>PROGRESS: Read 110143085 lines. Lines per second: 714072</pre>"
       ],
       "metadata": {},
       "output_type": "display_data",
       "text": [
        "PROGRESS: Read 110143085 lines. Lines per second: 714072"
       ]
      },
      {
       "html": [
        "<pre>PROGRESS: Read 114593287 lines. Lines per second: 712212</pre>"
       ],
       "metadata": {},
       "output_type": "display_data",
       "text": [
        "PROGRESS: Read 114593287 lines. Lines per second: 712212"
       ]
      },
      {
       "html": [
        "<pre>PROGRESS: Read 116818407 lines. Lines per second: 701855</pre>"
       ],
       "metadata": {},
       "output_type": "display_data",
       "text": [
        "PROGRESS: Read 116818407 lines. Lines per second: 701855"
       ]
      },
      {
       "html": [
        "<pre>PROGRESS: Read 120156060 lines. Lines per second: 691123</pre>"
       ],
       "metadata": {},
       "output_type": "display_data",
       "text": [
        "PROGRESS: Read 120156060 lines. Lines per second: 691123"
       ]
      },
      {
       "html": [
        "<pre>PROGRESS: Read 124606326 lines. Lines per second: 692277</pre>"
       ],
       "metadata": {},
       "output_type": "display_data",
       "text": [
        "PROGRESS: Read 124606326 lines. Lines per second: 692277"
       ]
      },
      {
       "html": [
        "<pre>PROGRESS: Read 129056580 lines. Lines per second: 692997</pre>"
       ],
       "metadata": {},
       "output_type": "display_data",
       "text": [
        "PROGRESS: Read 129056580 lines. Lines per second: 692997"
       ]
      },
      {
       "html": [
        "<pre>PROGRESS: Read 133506800 lines. Lines per second: 693381</pre>"
       ],
       "metadata": {},
       "output_type": "display_data",
       "text": [
        "PROGRESS: Read 133506800 lines. Lines per second: 693381"
       ]
      },
      {
       "html": [
        "<pre>PROGRESS: Read 135731938 lines. Lines per second: 686799</pre>"
       ],
       "metadata": {},
       "output_type": "display_data",
       "text": [
        "PROGRESS: Read 135731938 lines. Lines per second: 686799"
       ]
      },
      {
       "html": [
        "<pre>PROGRESS: Read 139069611 lines. Lines per second: 684635</pre>"
       ],
       "metadata": {},
       "output_type": "display_data",
       "text": [
        "PROGRESS: Read 139069611 lines. Lines per second: 684635"
       ]
      },
      {
       "html": [
        "<pre>PROGRESS: Read 142407295 lines. Lines per second: 680551</pre>"
       ],
       "metadata": {},
       "output_type": "display_data",
       "text": [
        "PROGRESS: Read 142407295 lines. Lines per second: 680551"
       ]
      },
      {
       "html": [
        "<pre>PROGRESS: Read 145744959 lines. Lines per second: 678762</pre>"
       ],
       "metadata": {},
       "output_type": "display_data",
       "text": [
        "PROGRESS: Read 145744959 lines. Lines per second: 678762"
       ]
      },
      {
       "html": [
        "<pre>PROGRESS: Read 149082634 lines. Lines per second: 673295</pre>"
       ],
       "metadata": {},
       "output_type": "display_data",
       "text": [
        "PROGRESS: Read 149082634 lines. Lines per second: 673295"
       ]
      },
      {
       "html": [
        "<pre>PROGRESS: Read 153532862 lines. Lines per second: 673390</pre>"
       ],
       "metadata": {},
       "output_type": "display_data",
       "text": [
        "PROGRESS: Read 153532862 lines. Lines per second: 673390"
       ]
      },
      {
       "html": [
        "<pre>PROGRESS: Finished parsing file /home/ncaadam/Documents/DocGraph/data/DocGraph-2012-2013-Days365-Edge-Public-Domain/DocGraph-2012-2013-Days365.csv</pre>"
       ],
       "metadata": {},
       "output_type": "display_data",
       "text": [
        "PROGRESS: Finished parsing file /home/ncaadam/Documents/DocGraph/data/DocGraph-2012-2013-Days365-Edge-Public-Domain/DocGraph-2012-2013-Days365.csv"
       ]
      },
      {
       "html": [
        "<pre>PROGRESS: Parsing completed. Parsed 154568917 lines in 228.506 secs.</pre>"
       ],
       "metadata": {},
       "output_type": "display_data",
       "text": [
        "PROGRESS: Parsing completed. Parsed 154568917 lines in 228.506 secs."
       ]
      }
     ],
     "prompt_number": 3
    },
    {
     "cell_type": "code",
     "collapsed": false,
     "input": [
      "dg_node_raw = docgraph_node_raw\n",
      "#dg_edge_raw = docgraph_edge_raw"
     ],
     "language": "python",
     "metadata": {},
     "outputs": [],
     "prompt_number": 7
    },
    {
     "cell_type": "code",
     "collapsed": false,
     "input": [
      "#dg_edge_raw.show()\n",
      "dg_node_raw.show()"
     ],
     "language": "python",
     "metadata": {},
     "outputs": [],
     "prompt_number": 8
    },
    {
     "cell_type": "code",
     "collapsed": false,
     "input": [
      "g = gl.SGraph()"
     ],
     "language": "python",
     "metadata": {},
     "outputs": [],
     "prompt_number": 11
    },
    {
     "cell_type": "code",
     "collapsed": false,
     "input": [
      "g = g.add_vertices(vertices=docgraph_node_raw, vid_field='npi')"
     ],
     "language": "python",
     "metadata": {},
     "outputs": [],
     "prompt_number": 12
    },
    {
     "cell_type": "code",
     "collapsed": false,
     "input": [
      "g = g.add_edges(edges=docgraph_edge_raw, src_field='X1', dst_field='X2')"
     ],
     "language": "python",
     "metadata": {},
     "outputs": [],
     "prompt_number": 13
    },
    {
     "cell_type": "code",
     "collapsed": false,
     "input": [
      "g.summary()"
     ],
     "language": "python",
     "metadata": {},
     "outputs": [
      {
       "ename": "RuntimeError",
       "evalue": "Runtime Exception. Cancelled by user.",
       "output_type": "pyerr",
       "traceback": [
        "\u001b[1;31m---------------------------------------------------------------------------\u001b[0m\n\u001b[1;31mRuntimeError\u001b[0m                              Traceback (most recent call last)",
        "\u001b[1;32m<ipython-input-14-0f5e0bbe3179>\u001b[0m in \u001b[0;36m<module>\u001b[1;34m()\u001b[0m\n\u001b[1;32m----> 1\u001b[1;33m \u001b[0mg\u001b[0m\u001b[1;33m.\u001b[0m\u001b[0msummary\u001b[0m\u001b[1;33m(\u001b[0m\u001b[1;33m)\u001b[0m\u001b[1;33m\u001b[0m\u001b[0m\n\u001b[0m",
        "\u001b[1;32m/home/ncaadam/anaconda/lib/python2.7/site-packages/graphlab/data_structures/sgraph.pyc\u001b[0m in \u001b[0;36msummary\u001b[1;34m(self)\u001b[0m\n\u001b[0;32m    367\u001b[0m         \"\"\"\n\u001b[0;32m    368\u001b[0m         \u001b[0m_mt\u001b[0m\u001b[1;33m.\u001b[0m\u001b[0m_get_metric_tracker\u001b[0m\u001b[1;33m(\u001b[0m\u001b[1;33m)\u001b[0m\u001b[1;33m.\u001b[0m\u001b[0mtrack\u001b[0m\u001b[1;33m(\u001b[0m\u001b[1;34m'sgraph.summary'\u001b[0m\u001b[1;33m)\u001b[0m\u001b[1;33m\u001b[0m\u001b[0m\n\u001b[1;32m--> 369\u001b[1;33m         \u001b[0mret\u001b[0m \u001b[1;33m=\u001b[0m \u001b[0mself\u001b[0m\u001b[1;33m.\u001b[0m\u001b[0m__proxy__\u001b[0m\u001b[1;33m.\u001b[0m\u001b[0msummary\u001b[0m\u001b[1;33m(\u001b[0m\u001b[1;33m)\u001b[0m\u001b[1;33m\u001b[0m\u001b[0m\n\u001b[0m\u001b[0;32m    370\u001b[0m         \u001b[1;32mreturn\u001b[0m \u001b[0mdict\u001b[0m\u001b[1;33m(\u001b[0m\u001b[0mret\u001b[0m\u001b[1;33m.\u001b[0m\u001b[0mitems\u001b[0m\u001b[1;33m(\u001b[0m\u001b[1;33m)\u001b[0m\u001b[1;33m)\u001b[0m\u001b[1;33m\u001b[0m\u001b[0m\n\u001b[0;32m    371\u001b[0m \u001b[1;33m\u001b[0m\u001b[0m\n",
        "\u001b[1;32m/home/ncaadam/anaconda/lib/python2.7/site-packages/graphlab/cython/cy_graph.so\u001b[0m in \u001b[0;36mgraphlab.cython.cy_graph.UnityGraphProxy.summary\u001b[1;34m()\u001b[0m\n",
        "\u001b[1;32m/home/ncaadam/anaconda/lib/python2.7/site-packages/graphlab/cython/cy_graph.so\u001b[0m in \u001b[0;36mgraphlab.cython.cy_graph.UnityGraphProxy.summary\u001b[1;34m()\u001b[0m\n",
        "\u001b[1;31mRuntimeError\u001b[0m: Runtime Exception. Cancelled by user."
       ]
      }
     ],
     "prompt_number": 14
    },
    {
     "cell_type": "code",
     "collapsed": false,
     "input": [
      "pr = gl.pagerank.create(g)"
     ],
     "language": "python",
     "metadata": {},
     "outputs": [
      {
       "html": [
        "<pre>PROGRESS: +-----------+-----------------------+</pre>"
       ],
       "metadata": {},
       "output_type": "display_data",
       "text": [
        "PROGRESS: +-----------+-----------------------+"
       ]
      },
      {
       "html": [
        "<pre>PROGRESS: | Iteration | L1 change in pagerank |</pre>"
       ],
       "metadata": {},
       "output_type": "display_data",
       "text": [
        "PROGRESS: | Iteration | L1 change in pagerank |"
       ]
      },
      {
       "html": [
        "<pre>PROGRESS: +-----------+-----------------------+</pre>"
       ],
       "metadata": {},
       "output_type": "display_data",
       "text": [
        "PROGRESS: +-----------+-----------------------+"
       ]
      },
      {
       "html": [
        "<pre>PROGRESS: | 1         | 1.12586e+06           |</pre>"
       ],
       "metadata": {},
       "output_type": "display_data",
       "text": [
        "PROGRESS: | 1         | 1.12586e+06           |"
       ]
      },
      {
       "html": [
        "<pre>PROGRESS: | 2         | 478548                |</pre>"
       ],
       "metadata": {},
       "output_type": "display_data",
       "text": [
        "PROGRESS: | 2         | 478548                |"
       ]
      },
      {
       "html": [
        "<pre>PROGRESS: | 3         | 158156                |</pre>"
       ],
       "metadata": {},
       "output_type": "display_data",
       "text": [
        "PROGRESS: | 3         | 158156                |"
       ]
      },
      {
       "html": [
        "<pre>PROGRESS: | 4         | 62355.6               |</pre>"
       ],
       "metadata": {},
       "output_type": "display_data",
       "text": [
        "PROGRESS: | 4         | 62355.6               |"
       ]
      },
      {
       "html": [
        "<pre>PROGRESS: | 5         | 23008.8               |</pre>"
       ],
       "metadata": {},
       "output_type": "display_data",
       "text": [
        "PROGRESS: | 5         | 23008.8               |"
       ]
      },
      {
       "html": [
        "<pre>PROGRESS: | 6         | 9965.92               |</pre>"
       ],
       "metadata": {},
       "output_type": "display_data",
       "text": [
        "PROGRESS: | 6         | 9965.92               |"
       ]
      },
      {
       "html": [
        "<pre>PROGRESS: | 7         | 4638.49               |</pre>"
       ],
       "metadata": {},
       "output_type": "display_data",
       "text": [
        "PROGRESS: | 7         | 4638.49               |"
       ]
      },
      {
       "html": [
        "<pre>PROGRESS: | 8         | 2700.13               |</pre>"
       ],
       "metadata": {},
       "output_type": "display_data",
       "text": [
        "PROGRESS: | 8         | 2700.13               |"
       ]
      },
      {
       "html": [
        "<pre>PROGRESS: | 9         | 1753.95               |</pre>"
       ],
       "metadata": {},
       "output_type": "display_data",
       "text": [
        "PROGRESS: | 9         | 1753.95               |"
       ]
      },
      {
       "html": [
        "<pre>PROGRESS: | 10        | 1269.59               |</pre>"
       ],
       "metadata": {},
       "output_type": "display_data",
       "text": [
        "PROGRESS: | 10        | 1269.59               |"
       ]
      },
      {
       "html": [
        "<pre>PROGRESS: | 11        | 949.776               |</pre>"
       ],
       "metadata": {},
       "output_type": "display_data",
       "text": [
        "PROGRESS: | 11        | 949.776               |"
       ]
      },
      {
       "html": [
        "<pre>PROGRESS: | 12        | 729.398               |</pre>"
       ],
       "metadata": {},
       "output_type": "display_data",
       "text": [
        "PROGRESS: | 12        | 729.398               |"
       ]
      },
      {
       "html": [
        "<pre>PROGRESS: | 13        | 568.558               |</pre>"
       ],
       "metadata": {},
       "output_type": "display_data",
       "text": [
        "PROGRESS: | 13        | 568.558               |"
       ]
      },
      {
       "html": [
        "<pre>PROGRESS: | 14        | 448.103               |</pre>"
       ],
       "metadata": {},
       "output_type": "display_data",
       "text": [
        "PROGRESS: | 14        | 448.103               |"
       ]
      },
      {
       "html": [
        "<pre>PROGRESS: | 15        | 356.223               |</pre>"
       ],
       "metadata": {},
       "output_type": "display_data",
       "text": [
        "PROGRESS: | 15        | 356.223               |"
       ]
      },
      {
       "html": [
        "<pre>PROGRESS: | 16        | 285.045               |</pre>"
       ],
       "metadata": {},
       "output_type": "display_data",
       "text": [
        "PROGRESS: | 16        | 285.045               |"
       ]
      },
      {
       "html": [
        "<pre>PROGRESS: | 17        | 229.507               |</pre>"
       ],
       "metadata": {},
       "output_type": "display_data",
       "text": [
        "PROGRESS: | 17        | 229.507               |"
       ]
      },
      {
       "html": [
        "<pre>PROGRESS: | 18        | 185.681               |</pre>"
       ],
       "metadata": {},
       "output_type": "display_data",
       "text": [
        "PROGRESS: | 18        | 185.681               |"
       ]
      },
      {
       "html": [
        "<pre>PROGRESS: | 19        | 150.787               |</pre>"
       ],
       "metadata": {},
       "output_type": "display_data",
       "text": [
        "PROGRESS: | 19        | 150.787               |"
       ]
      },
      {
       "html": [
        "<pre>PROGRESS: | 20        | 122.767               |</pre>"
       ],
       "metadata": {},
       "output_type": "display_data",
       "text": [
        "PROGRESS: | 20        | 122.767               |"
       ]
      },
      {
       "html": [
        "<pre>PROGRESS: +-----------+-----------------------+</pre>"
       ],
       "metadata": {},
       "output_type": "display_data",
       "text": [
        "PROGRESS: +-----------+-----------------------+"
       ]
      }
     ],
     "prompt_number": 15
    },
    {
     "cell_type": "code",
     "collapsed": false,
     "input": [
      "pr.get('pagerank').topk(column_name='pagerank')"
     ],
     "language": "python",
     "metadata": {},
     "outputs": [
      {
       "html": [
        "<div style=\"max-height:1000px;max-width:1500px;overflow:auto;\"><table frame=\"box\" rules=\"cols\">\n",
        "    <tr>\n",
        "        <th style=\"padding-left: 1em; padding-right: 1em; text-align: center\">__id</th>\n",
        "        <th style=\"padding-left: 1em; padding-right: 1em; text-align: center\">pagerank</th>\n",
        "        <th style=\"padding-left: 1em; padding-right: 1em; text-align: center\">delta</th>\n",
        "    </tr>\n",
        "    <tr>\n",
        "        <td style=\"padding-left: 1em; padding-right: 1em; text-align: center; vertical-align: top\">1538144910</td>\n",
        "        <td style=\"padding-left: 1em; padding-right: 1em; text-align: center; vertical-align: top\">1498.28243371</td>\n",
        "        <td style=\"padding-left: 1em; padding-right: 1em; text-align: center; vertical-align: top\">0.0355149822424</td>\n",
        "    </tr>\n",
        "    <tr>\n",
        "        <td style=\"padding-left: 1em; padding-right: 1em; text-align: center; vertical-align: top\">1700865094</td>\n",
        "        <td style=\"padding-left: 1em; padding-right: 1em; text-align: center; vertical-align: top\">1304.84714594</td>\n",
        "        <td style=\"padding-left: 1em; padding-right: 1em; text-align: center; vertical-align: top\">0.0923596855791</td>\n",
        "    </tr>\n",
        "    <tr>\n",
        "        <td style=\"padding-left: 1em; padding-right: 1em; text-align: center; vertical-align: top\">1063497451</td>\n",
        "        <td style=\"padding-left: 1em; padding-right: 1em; text-align: center; vertical-align: top\">975.032956698</td>\n",
        "        <td style=\"padding-left: 1em; padding-right: 1em; text-align: center; vertical-align: top\">0.0338142760621</td>\n",
        "    </tr>\n",
        "    <tr>\n",
        "        <td style=\"padding-left: 1em; padding-right: 1em; text-align: center; vertical-align: top\">1932145778</td>\n",
        "        <td style=\"padding-left: 1em; padding-right: 1em; text-align: center; vertical-align: top\">847.831074582</td>\n",
        "        <td style=\"padding-left: 1em; padding-right: 1em; text-align: center; vertical-align: top\">0.00787232773962</td>\n",
        "    </tr>\n",
        "    <tr>\n",
        "        <td style=\"padding-left: 1em; padding-right: 1em; text-align: center; vertical-align: top\">1932184322</td>\n",
        "        <td style=\"padding-left: 1em; padding-right: 1em; text-align: center; vertical-align: top\">760.723979933</td>\n",
        "        <td style=\"padding-left: 1em; padding-right: 1em; text-align: center; vertical-align: top\">0.0328184506922</td>\n",
        "    </tr>\n",
        "    <tr>\n",
        "        <td style=\"padding-left: 1em; padding-right: 1em; text-align: center; vertical-align: top\">1346233277</td>\n",
        "        <td style=\"padding-left: 1em; padding-right: 1em; text-align: center; vertical-align: top\">747.498841197</td>\n",
        "        <td style=\"padding-left: 1em; padding-right: 1em; text-align: center; vertical-align: top\">0.0354510458528</td>\n",
        "    </tr>\n",
        "    <tr>\n",
        "        <td style=\"padding-left: 1em; padding-right: 1em; text-align: center; vertical-align: top\">1366479099</td>\n",
        "        <td style=\"padding-left: 1em; padding-right: 1em; text-align: center; vertical-align: top\">717.406102734</td>\n",
        "        <td style=\"padding-left: 1em; padding-right: 1em; text-align: center; vertical-align: top\">0.0330460104315</td>\n",
        "    </tr>\n",
        "    <tr>\n",
        "        <td style=\"padding-left: 1em; padding-right: 1em; text-align: center; vertical-align: top\">1932166386</td>\n",
        "        <td style=\"padding-left: 1em; padding-right: 1em; text-align: center; vertical-align: top\">650.422780127</td>\n",
        "        <td style=\"padding-left: 1em; padding-right: 1em; text-align: center; vertical-align: top\">0.020486502834</td>\n",
        "    </tr>\n",
        "    <tr>\n",
        "        <td style=\"padding-left: 1em; padding-right: 1em; text-align: center; vertical-align: top\">1295726032</td>\n",
        "        <td style=\"padding-left: 1em; padding-right: 1em; text-align: center; vertical-align: top\">645.018597958</td>\n",
        "        <td style=\"padding-left: 1em; padding-right: 1em; text-align: center; vertical-align: top\">0.00677907402553</td>\n",
        "    </tr>\n",
        "    <tr>\n",
        "        <td style=\"padding-left: 1em; padding-right: 1em; text-align: center; vertical-align: top\">1659352276</td>\n",
        "        <td style=\"padding-left: 1em; padding-right: 1em; text-align: center; vertical-align: top\">631.916341712</td>\n",
        "        <td style=\"padding-left: 1em; padding-right: 1em; text-align: center; vertical-align: top\">0.0565625084736</td>\n",
        "    </tr>\n",
        "</table>\n",
        "[10 rows x 3 columns]<br/>\n",
        "</div>"
       ],
       "metadata": {},
       "output_type": "pyout",
       "prompt_number": 16,
       "text": [
        "Columns:\n",
        "\t__id\tstr\n",
        "\tpagerank\tfloat\n",
        "\tdelta\tfloat\n",
        "\n",
        "Rows: 10\n",
        "\n",
        "Data:\n",
        "+------------+---------------+------------------+\n",
        "|    __id    |    pagerank   |      delta       |\n",
        "+------------+---------------+------------------+\n",
        "| 1538144910 | 1498.28243371 | 0.0355149822424  |\n",
        "| 1700865094 | 1304.84714594 | 0.0923596855791  |\n",
        "| 1063497451 | 975.032956698 | 0.0338142760621  |\n",
        "| 1932145778 | 847.831074582 | 0.00787232773962 |\n",
        "| 1932184322 | 760.723979933 | 0.0328184506922  |\n",
        "| 1346233277 | 747.498841197 | 0.0354510458528  |\n",
        "| 1366479099 | 717.406102734 | 0.0330460104315  |\n",
        "| 1932166386 | 650.422780127 |  0.020486502834  |\n",
        "| 1295726032 | 645.018597958 | 0.00677907402553 |\n",
        "| 1659352276 | 631.916341712 | 0.0565625084736  |\n",
        "+------------+---------------+------------------+\n",
        "[10 rows x 3 columns]"
       ]
      }
     ],
     "prompt_number": 16
    },
    {
     "cell_type": "code",
     "collapsed": false,
     "input": [
      "pr.summary()"
     ],
     "language": "python",
     "metadata": {},
     "outputs": [
      {
       "output_type": "stream",
       "stream": "stdout",
       "text": [
        "PagerankModel\n",
        "Graph:\n",
        "+--------------+-----------+\n",
        "| num_edges    | 154568917 |\n",
        "| num_vertices | 1093148   |\n",
        "+--------------+-----------+\n",
        "Result:\n",
        "+----------+-------------------------------------------------------+\n",
        "| graph    | SGraph. See m['graph']                                |\n",
        "| pagerank | SFrame with each vertex's pagerank. See m['pagerank'] |\n",
        "| delta    | 122.767485661                                         |\n",
        "+----------+-------------------------------------------------------+\n",
        "Setting:\n",
        "+-------------------+------+\n",
        "| threshold         | 0.01 |\n",
        "| reset_probability | 0.15 |\n",
        "| max_iterations    | 20   |\n",
        "+-------------------+------+\n",
        "Metric:\n",
        "+----------------+-------------+\n",
        "| num_iterations | 20          |\n",
        "| training_time  | 2117.928457 |\n",
        "+----------------+-------------+\n",
        "Queriable Fields\n",
        "+-------------------+-----------------------------------------------------------+\n",
        "| Field             | Description                                               |\n",
        "+-------------------+-----------------------------------------------------------+\n",
        "| training_time     | Total training time of the model                          |\n",
        "| graph             | A new SGraph with the pagerank as a vertex property       |\n",
        "| delta             | Change in pagerank for the last iteration in L1 norm      |\n",
        "| reset_probability | The probablity of randomly jumps to any node in the graph |\n",
        "| pagerank          | An SFrame with each vertex's pagerank                     |\n",
        "| num_iterations    | Number of iterations                                      |\n",
        "| threshold         | The convergence threshold in L1 norm                      |\n",
        "| max_iterations    | The maximun number of iterations to run                   |\n",
        "+-------------------+-----------------------------------------------------------+\n"
       ]
      }
     ],
     "prompt_number": 17
    },
    {
     "cell_type": "code",
     "collapsed": false,
     "input": [
      "g.get_vertices(ids=['1538144910'])"
     ],
     "language": "python",
     "metadata": {},
     "outputs": [
      {
       "html": [
        "<div style=\"max-height:1000px;max-width:1500px;overflow:auto;\"><table frame=\"box\" rules=\"cols\">\n",
        "    <tr>\n",
        "        <th style=\"padding-left: 1em; padding-right: 1em; text-align: center\">__id</th>\n",
        "        <th style=\"padding-left: 1em; padding-right: 1em; text-align: center\">nppes_provider_last_org_n<br>ame</th>\n",
        "        <th style=\"padding-left: 1em; padding-right: 1em; text-align: center\">nppes_provider_first_name</th>\n",
        "        <th style=\"padding-left: 1em; padding-right: 1em; text-align: center\">nppes_provider_mi</th>\n",
        "        <th style=\"padding-left: 1em; padding-right: 1em; text-align: center\">nppes_credentials</th>\n",
        "        <th style=\"padding-left: 1em; padding-right: 1em; text-align: center\">nppes_provider_gender</th>\n",
        "    </tr>\n",
        "    <tr>\n",
        "        <td style=\"padding-left: 1em; padding-right: 1em; text-align: center; vertical-align: top\">1538144910</td>\n",
        "        <td style=\"padding-left: 1em; padding-right: 1em; text-align: center; vertical-align: top\">LABORATORY CORPORATION OF<br>AMERICA HOLDINGS</td>\n",
        "        <td style=\"padding-left: 1em; padding-right: 1em; text-align: center; vertical-align: top\"></td>\n",
        "        <td style=\"padding-left: 1em; padding-right: 1em; text-align: center; vertical-align: top\"></td>\n",
        "        <td style=\"padding-left: 1em; padding-right: 1em; text-align: center; vertical-align: top\"></td>\n",
        "        <td style=\"padding-left: 1em; padding-right: 1em; text-align: center; vertical-align: top\"></td>\n",
        "    </tr>\n",
        "</table>\n",
        "<table frame=\"box\" rules=\"cols\">\n",
        "    <tr>\n",
        "        <th style=\"padding-left: 1em; padding-right: 1em; text-align: center\">nppes_entity_code</th>\n",
        "        <th style=\"padding-left: 1em; padding-right: 1em; text-align: center\">nppes_provider_street1</th>\n",
        "        <th style=\"padding-left: 1em; padding-right: 1em; text-align: center\">nppes_provider_street2</th>\n",
        "        <th style=\"padding-left: 1em; padding-right: 1em; text-align: center\">nppes_provider_city</th>\n",
        "        <th style=\"padding-left: 1em; padding-right: 1em; text-align: center\">nppes_provider_zip</th>\n",
        "        <th style=\"padding-left: 1em; padding-right: 1em; text-align: center\">nppes_provider_state</th>\n",
        "    </tr>\n",
        "    <tr>\n",
        "        <td style=\"padding-left: 1em; padding-right: 1em; text-align: center; vertical-align: top\">O</td>\n",
        "        <td style=\"padding-left: 1em; padding-right: 1em; text-align: center; vertical-align: top\">1447 YORK CT</td>\n",
        "        <td style=\"padding-left: 1em; padding-right: 1em; text-align: center; vertical-align: top\"></td>\n",
        "        <td style=\"padding-left: 1em; padding-right: 1em; text-align: center; vertical-align: top\">BURLINGTON</td>\n",
        "        <td style=\"padding-left: 1em; padding-right: 1em; text-align: center; vertical-align: top\">272153361</td>\n",
        "        <td style=\"padding-left: 1em; padding-right: 1em; text-align: center; vertical-align: top\">NC</td>\n",
        "    </tr>\n",
        "</table>\n",
        "<table frame=\"box\" rules=\"cols\">\n",
        "    <tr>\n",
        "        <th style=\"padding-left: 1em; padding-right: 1em; text-align: center\">nppes_provider_country</th>\n",
        "        <th style=\"padding-left: 1em; padding-right: 1em; text-align: center\">provider_type</th>\n",
        "        <th style=\"padding-left: 1em; padding-right: 1em; text-align: center\">medicare_participation_in<br>dicator</th>\n",
        "        <th style=\"padding-left: 1em; padding-right: 1em; text-align: center\">place_of_service</th>\n",
        "        <th style=\"padding-left: 1em; padding-right: 1em; text-align: center\">hcpcs_code</th>\n",
        "        <th style=\"padding-left: 1em; padding-right: 1em; text-align: center\">line_srvc_cnt</th>\n",
        "    </tr>\n",
        "    <tr>\n",
        "        <td style=\"padding-left: 1em; padding-right: 1em; text-align: center; vertical-align: top\">US</td>\n",
        "        <td style=\"padding-left: 1em; padding-right: 1em; text-align: center; vertical-align: top\">Clinical Laboratory</td>\n",
        "        <td style=\"padding-left: 1em; padding-right: 1em; text-align: center; vertical-align: top\">Y</td>\n",
        "        <td style=\"padding-left: 1em; padding-right: 1em; text-align: center; vertical-align: top\">O</td>\n",
        "        <td style=\"padding-left: 1em; padding-right: 1em; text-align: center; vertical-align: top\">P9604</td>\n",
        "        <td style=\"padding-left: 1em; padding-right: 1em; text-align: center; vertical-align: top\">195</td>\n",
        "    </tr>\n",
        "</table>\n",
        "<table frame=\"box\" rules=\"cols\">\n",
        "    <tr>\n",
        "        <th style=\"padding-left: 1em; padding-right: 1em; text-align: center\">bene_unique_cnt</th>\n",
        "        <th style=\"padding-left: 1em; padding-right: 1em; text-align: center\">bene_day_srvc_cnt</th>\n",
        "        <th style=\"padding-left: 1em; padding-right: 1em; text-align: center\">average_Medicare_allowed_<br>amt</th>\n",
        "        <th style=\"padding-left: 1em; padding-right: 1em; text-align: center\">stdev_Medicare_allowed_am<br>t</th>\n",
        "        <th style=\"padding-left: 1em; padding-right: 1em; text-align: center\">average_submitted_chrg_am<br>t</th>\n",
        "    </tr>\n",
        "    <tr>\n",
        "        <td style=\"padding-left: 1em; padding-right: 1em; text-align: center; vertical-align: top\">129</td>\n",
        "        <td style=\"padding-left: 1em; padding-right: 1em; text-align: center; vertical-align: top\">195</td>\n",
        "        <td style=\"padding-left: 1em; padding-right: 1em; text-align: center; vertical-align: top\">1.6301538462</td>\n",
        "        <td style=\"padding-left: 1em; padding-right: 1em; text-align: center; vertical-align: top\">1.8498259036</td>\n",
        "        <td style=\"padding-left: 1em; padding-right: 1em; text-align: center; vertical-align: top\">1.6301538462</td>\n",
        "    </tr>\n",
        "</table>\n",
        "<table frame=\"box\" rules=\"cols\">\n",
        "    <tr>\n",
        "        <th style=\"padding-left: 1em; padding-right: 1em; text-align: center\">stdev_submitted_chrg_amt</th>\n",
        "        <th style=\"padding-left: 1em; padding-right: 1em; text-align: center\">average_Medicare_payment_<br>amt</th>\n",
        "        <th style=\"padding-left: 1em; padding-right: 1em; text-align: center\">stdev_Medicare_payment_am<br>t</th>\n",
        "    </tr>\n",
        "    <tr>\n",
        "        <td style=\"padding-left: 1em; padding-right: 1em; text-align: center; vertical-align: top\">1.8498259036</td>\n",
        "        <td style=\"padding-left: 1em; padding-right: 1em; text-align: center; vertical-align: top\">1.6301538462</td>\n",
        "        <td style=\"padding-left: 1em; padding-right: 1em; text-align: center; vertical-align: top\">1.8498259036</td>\n",
        "    </tr>\n",
        "</table>\n",
        "[1 rows x 26 columns]<br/>\n",
        "</div>"
       ],
       "metadata": {},
       "output_type": "pyout",
       "prompt_number": 18,
       "text": [
        "Columns:\n",
        "\t__id\tstr\n",
        "\tnppes_provider_last_org_name\tstr\n",
        "\tnppes_provider_first_name\tstr\n",
        "\tnppes_provider_mi\tstr\n",
        "\tnppes_credentials\tstr\n",
        "\tnppes_provider_gender\tstr\n",
        "\tnppes_entity_code\tstr\n",
        "\tnppes_provider_street1\tstr\n",
        "\tnppes_provider_street2\tstr\n",
        "\tnppes_provider_city\tstr\n",
        "\tnppes_provider_zip\tstr\n",
        "\tnppes_provider_state\tstr\n",
        "\tnppes_provider_country\tstr\n",
        "\tprovider_type\tstr\n",
        "\tmedicare_participation_indicator\tstr\n",
        "\tplace_of_service\tstr\n",
        "\thcpcs_code\tstr\n",
        "\tline_srvc_cnt\tint\n",
        "\tbene_unique_cnt\tint\n",
        "\tbene_day_srvc_cnt\tint\n",
        "\taverage_Medicare_allowed_amt\tfloat\n",
        "\tstdev_Medicare_allowed_amt\tfloat\n",
        "\taverage_submitted_chrg_amt\tfloat\n",
        "\tstdev_submitted_chrg_amt\tfloat\n",
        "\taverage_Medicare_payment_amt\tfloat\n",
        "\tstdev_Medicare_payment_amt\tfloat\n",
        "\n",
        "Rows: 1\n",
        "\n",
        "Data:\n",
        "+------------+--------------------------------+---------------------------+-------------------+\n",
        "|    __id    |  nppes_provider_last_org_name  | nppes_provider_first_name | nppes_provider_mi |\n",
        "+------------+--------------------------------+---------------------------+-------------------+\n",
        "| 1538144910 | LABORATORY CORPORATION OF  ... |                           |                   |\n",
        "+------------+--------------------------------+---------------------------+-------------------+\n",
        "+-------------------+-----------------------+-------------------+------------------------+\n",
        "| nppes_credentials | nppes_provider_gender | nppes_entity_code | nppes_provider_street1 |\n",
        "+-------------------+-----------------------+-------------------+------------------------+\n",
        "|                   |                       |         O         |      1447 YORK CT      |\n",
        "+-------------------+-----------------------+-------------------+------------------------+\n",
        "+------------------------+---------------------+--------------------+----------------------+\n",
        "| nppes_provider_street2 | nppes_provider_city | nppes_provider_zip | nppes_provider_state |\n",
        "+------------------------+---------------------+--------------------+----------------------+\n",
        "|                        |      BURLINGTON     |     272153361      |          NC          |\n",
        "+------------------------+---------------------+--------------------+----------------------+\n",
        "+------------------------+---------------------+--------------------------------+\n",
        "| nppes_provider_country |    provider_type    | medicare_participation_ind ... |\n",
        "+------------------------+---------------------+--------------------------------+\n",
        "|           US           | Clinical Laboratory |               Y                |\n",
        "+------------------------+---------------------+--------------------------------+\n",
        "+------------------+------------+---------------+-----------------+-------------------+-----+\n",
        "| place_of_service | hcpcs_code | line_srvc_cnt | bene_unique_cnt | bene_day_srvc_cnt | ... |\n",
        "+------------------+------------+---------------+-----------------+-------------------+-----+\n",
        "|        O         |   P9604    |      195      |       129       |        195        | ... |\n",
        "+------------------+------------+---------------+-----------------+-------------------+-----+\n",
        "[1 rows x 26 columns]"
       ]
      }
     ],
     "prompt_number": 18
    },
    {
     "cell_type": "code",
     "collapsed": false,
     "input": [
      "g.get_vertices(ids=['1700865094'])"
     ],
     "language": "python",
     "metadata": {},
     "outputs": [
      {
       "html": [
        "<div style=\"max-height:1000px;max-width:1500px;overflow:auto;\"><table frame=\"box\" rules=\"cols\">\n",
        "    <tr>\n",
        "        <th style=\"padding-left: 1em; padding-right: 1em; text-align: center\">__id</th>\n",
        "        <th style=\"padding-left: 1em; padding-right: 1em; text-align: center\">nppes_provider_last_org_n<br>ame</th>\n",
        "        <th style=\"padding-left: 1em; padding-right: 1em; text-align: center\">nppes_provider_first_name</th>\n",
        "        <th style=\"padding-left: 1em; padding-right: 1em; text-align: center\">nppes_provider_mi</th>\n",
        "        <th style=\"padding-left: 1em; padding-right: 1em; text-align: center\">nppes_credentials</th>\n",
        "        <th style=\"padding-left: 1em; padding-right: 1em; text-align: center\">nppes_provider_gender</th>\n",
        "    </tr>\n",
        "    <tr>\n",
        "        <td style=\"padding-left: 1em; padding-right: 1em; text-align: center; vertical-align: top\">1700865094</td>\n",
        "        <td style=\"padding-left: 1em; padding-right: 1em; text-align: center; vertical-align: top\">SYMPHONY DIAGNOSTIC<br>SERVICES NO 1 INC</td>\n",
        "        <td style=\"padding-left: 1em; padding-right: 1em; text-align: center; vertical-align: top\"></td>\n",
        "        <td style=\"padding-left: 1em; padding-right: 1em; text-align: center; vertical-align: top\"></td>\n",
        "        <td style=\"padding-left: 1em; padding-right: 1em; text-align: center; vertical-align: top\"></td>\n",
        "        <td style=\"padding-left: 1em; padding-right: 1em; text-align: center; vertical-align: top\"></td>\n",
        "    </tr>\n",
        "</table>\n",
        "<table frame=\"box\" rules=\"cols\">\n",
        "    <tr>\n",
        "        <th style=\"padding-left: 1em; padding-right: 1em; text-align: center\">nppes_entity_code</th>\n",
        "        <th style=\"padding-left: 1em; padding-right: 1em; text-align: center\">nppes_provider_street1</th>\n",
        "        <th style=\"padding-left: 1em; padding-right: 1em; text-align: center\">nppes_provider_street2</th>\n",
        "        <th style=\"padding-left: 1em; padding-right: 1em; text-align: center\">nppes_provider_city</th>\n",
        "        <th style=\"padding-left: 1em; padding-right: 1em; text-align: center\">nppes_provider_zip</th>\n",
        "        <th style=\"padding-left: 1em; padding-right: 1em; text-align: center\">nppes_provider_state</th>\n",
        "    </tr>\n",
        "    <tr>\n",
        "        <td style=\"padding-left: 1em; padding-right: 1em; text-align: center; vertical-align: top\">O</td>\n",
        "        <td style=\"padding-left: 1em; padding-right: 1em; text-align: center; vertical-align: top\">101 ROCK RD</td>\n",
        "        <td style=\"padding-left: 1em; padding-right: 1em; text-align: center; vertical-align: top\"></td>\n",
        "        <td style=\"padding-left: 1em; padding-right: 1em; text-align: center; vertical-align: top\">HORSHAM</td>\n",
        "        <td style=\"padding-left: 1em; padding-right: 1em; text-align: center; vertical-align: top\">190442310</td>\n",
        "        <td style=\"padding-left: 1em; padding-right: 1em; text-align: center; vertical-align: top\">PA</td>\n",
        "    </tr>\n",
        "</table>\n",
        "<table frame=\"box\" rules=\"cols\">\n",
        "    <tr>\n",
        "        <th style=\"padding-left: 1em; padding-right: 1em; text-align: center\">nppes_provider_country</th>\n",
        "        <th style=\"padding-left: 1em; padding-right: 1em; text-align: center\">provider_type</th>\n",
        "        <th style=\"padding-left: 1em; padding-right: 1em; text-align: center\">medicare_participation_in<br>dicator</th>\n",
        "        <th style=\"padding-left: 1em; padding-right: 1em; text-align: center\">place_of_service</th>\n",
        "        <th style=\"padding-left: 1em; padding-right: 1em; text-align: center\">hcpcs_code</th>\n",
        "        <th style=\"padding-left: 1em; padding-right: 1em; text-align: center\">line_srvc_cnt</th>\n",
        "    </tr>\n",
        "    <tr>\n",
        "        <td style=\"padding-left: 1em; padding-right: 1em; text-align: center; vertical-align: top\">US</td>\n",
        "        <td style=\"padding-left: 1em; padding-right: 1em; text-align: center; vertical-align: top\">Portable X-ray</td>\n",
        "        <td style=\"padding-left: 1em; padding-right: 1em; text-align: center; vertical-align: top\">Y</td>\n",
        "        <td style=\"padding-left: 1em; padding-right: 1em; text-align: center; vertical-align: top\">O</td>\n",
        "        <td style=\"padding-left: 1em; padding-right: 1em; text-align: center; vertical-align: top\">R0075</td>\n",
        "        <td style=\"padding-left: 1em; padding-right: 1em; text-align: center; vertical-align: top\">192961</td>\n",
        "    </tr>\n",
        "</table>\n",
        "<table frame=\"box\" rules=\"cols\">\n",
        "    <tr>\n",
        "        <th style=\"padding-left: 1em; padding-right: 1em; text-align: center\">bene_unique_cnt</th>\n",
        "        <th style=\"padding-left: 1em; padding-right: 1em; text-align: center\">bene_day_srvc_cnt</th>\n",
        "        <th style=\"padding-left: 1em; padding-right: 1em; text-align: center\">average_Medicare_allowed_<br>amt</th>\n",
        "        <th style=\"padding-left: 1em; padding-right: 1em; text-align: center\">stdev_Medicare_allowed_am<br>t</th>\n",
        "        <th style=\"padding-left: 1em; padding-right: 1em; text-align: center\">average_submitted_chrg_am<br>t</th>\n",
        "    </tr>\n",
        "    <tr>\n",
        "        <td style=\"padding-left: 1em; padding-right: 1em; text-align: center; vertical-align: top\">133074</td>\n",
        "        <td style=\"padding-left: 1em; padding-right: 1em; text-align: center; vertical-align: top\">192443</td>\n",
        "        <td style=\"padding-left: 1em; padding-right: 1em; text-align: center; vertical-align: top\">64.523203082</td>\n",
        "        <td style=\"padding-left: 1em; padding-right: 1em; text-align: center; vertical-align: top\">23.649069527</td>\n",
        "        <td style=\"padding-left: 1em; padding-right: 1em; text-align: center; vertical-align: top\">116.60326957</td>\n",
        "    </tr>\n",
        "</table>\n",
        "<table frame=\"box\" rules=\"cols\">\n",
        "    <tr>\n",
        "        <th style=\"padding-left: 1em; padding-right: 1em; text-align: center\">stdev_submitted_chrg_amt</th>\n",
        "        <th style=\"padding-left: 1em; padding-right: 1em; text-align: center\">average_Medicare_payment_<br>amt</th>\n",
        "        <th style=\"padding-left: 1em; padding-right: 1em; text-align: center\">stdev_Medicare_payment_am<br>t</th>\n",
        "    </tr>\n",
        "    <tr>\n",
        "        <td style=\"padding-left: 1em; padding-right: 1em; text-align: center; vertical-align: top\">29.179047055</td>\n",
        "        <td style=\"padding-left: 1em; padding-right: 1em; text-align: center; vertical-align: top\">49.956299356</td>\n",
        "        <td style=\"padding-left: 1em; padding-right: 1em; text-align: center; vertical-align: top\">20.551721238</td>\n",
        "    </tr>\n",
        "</table>\n",
        "[1 rows x 26 columns]<br/>\n",
        "</div>"
       ],
       "metadata": {},
       "output_type": "pyout",
       "prompt_number": 19,
       "text": [
        "Columns:\n",
        "\t__id\tstr\n",
        "\tnppes_provider_last_org_name\tstr\n",
        "\tnppes_provider_first_name\tstr\n",
        "\tnppes_provider_mi\tstr\n",
        "\tnppes_credentials\tstr\n",
        "\tnppes_provider_gender\tstr\n",
        "\tnppes_entity_code\tstr\n",
        "\tnppes_provider_street1\tstr\n",
        "\tnppes_provider_street2\tstr\n",
        "\tnppes_provider_city\tstr\n",
        "\tnppes_provider_zip\tstr\n",
        "\tnppes_provider_state\tstr\n",
        "\tnppes_provider_country\tstr\n",
        "\tprovider_type\tstr\n",
        "\tmedicare_participation_indicator\tstr\n",
        "\tplace_of_service\tstr\n",
        "\thcpcs_code\tstr\n",
        "\tline_srvc_cnt\tint\n",
        "\tbene_unique_cnt\tint\n",
        "\tbene_day_srvc_cnt\tint\n",
        "\taverage_Medicare_allowed_amt\tfloat\n",
        "\tstdev_Medicare_allowed_amt\tfloat\n",
        "\taverage_submitted_chrg_amt\tfloat\n",
        "\tstdev_submitted_chrg_amt\tfloat\n",
        "\taverage_Medicare_payment_amt\tfloat\n",
        "\tstdev_Medicare_payment_amt\tfloat\n",
        "\n",
        "Rows: 1\n",
        "\n",
        "Data:\n",
        "+------------+--------------------------------+---------------------------+-------------------+\n",
        "|    __id    |  nppes_provider_last_org_name  | nppes_provider_first_name | nppes_provider_mi |\n",
        "+------------+--------------------------------+---------------------------+-------------------+\n",
        "| 1700865094 | SYMPHONY DIAGNOSTIC SERVIC ... |                           |                   |\n",
        "+------------+--------------------------------+---------------------------+-------------------+\n",
        "+-------------------+-----------------------+-------------------+------------------------+\n",
        "| nppes_credentials | nppes_provider_gender | nppes_entity_code | nppes_provider_street1 |\n",
        "+-------------------+-----------------------+-------------------+------------------------+\n",
        "|                   |                       |         O         |      101 ROCK RD       |\n",
        "+-------------------+-----------------------+-------------------+------------------------+\n",
        "+------------------------+---------------------+--------------------+----------------------+\n",
        "| nppes_provider_street2 | nppes_provider_city | nppes_provider_zip | nppes_provider_state |\n",
        "+------------------------+---------------------+--------------------+----------------------+\n",
        "|                        |       HORSHAM       |     190442310      |          PA          |\n",
        "+------------------------+---------------------+--------------------+----------------------+\n",
        "+------------------------+----------------+--------------------------------+------------------+\n",
        "| nppes_provider_country | provider_type  | medicare_participation_ind ... | place_of_service |\n",
        "+------------------------+----------------+--------------------------------+------------------+\n",
        "|           US           | Portable X-ray |               Y                |        O         |\n",
        "+------------------------+----------------+--------------------------------+------------------+\n",
        "+------------+---------------+-----------------+-------------------+-----+\n",
        "| hcpcs_code | line_srvc_cnt | bene_unique_cnt | bene_day_srvc_cnt | ... |\n",
        "+------------+---------------+-----------------+-------------------+-----+\n",
        "|   R0075    |     192961    |      133074     |       192443      | ... |\n",
        "+------------+---------------+-----------------+-------------------+-----+\n",
        "[1 rows x 26 columns]"
       ]
      }
     ],
     "prompt_number": 19
    },
    {
     "cell_type": "code",
     "collapsed": false,
     "input": [
      "pr.save('/Volumes/Transcend/data/pr_20141121.pr')"
     ],
     "language": "python",
     "metadata": {},
     "outputs": [],
     "prompt_number": 20
    },
    {
     "cell_type": "code",
     "collapsed": false,
     "input": [
      "kc = gl.kcore.create(g)"
     ],
     "language": "python",
     "metadata": {},
     "outputs": [
      {
       "html": [
        "<pre>PROGRESS: Finish computing core 0\t Vertices left: 1093148</pre>"
       ],
       "metadata": {},
       "output_type": "display_data",
       "text": [
        "PROGRESS: Finish computing core 0\t Vertices left: 1093148"
       ]
      },
      {
       "html": [
        "<pre>PROGRESS: Finish computing core 1\t Vertices left: 1070011</pre>"
       ],
       "metadata": {},
       "output_type": "display_data",
       "text": [
        "PROGRESS: Finish computing core 1\t Vertices left: 1070011"
       ]
      },
      {
       "html": [
        "<pre>PROGRESS: Finish computing core 2\t Vertices left: 1032892</pre>"
       ],
       "metadata": {},
       "output_type": "display_data",
       "text": [
        "PROGRESS: Finish computing core 2\t Vertices left: 1032892"
       ]
      },
      {
       "html": [
        "<pre>PROGRESS: Finish computing core 3\t Vertices left: 1013030</pre>"
       ],
       "metadata": {},
       "output_type": "display_data",
       "text": [
        "PROGRESS: Finish computing core 3\t Vertices left: 1013030"
       ]
      },
      {
       "html": [
        "<pre>PROGRESS: Finish computing core 4\t Vertices left: 988478</pre>"
       ],
       "metadata": {},
       "output_type": "display_data",
       "text": [
        "PROGRESS: Finish computing core 4\t Vertices left: 988478"
       ]
      },
      {
       "html": [
        "<pre>PROGRESS: Finish computing core 5\t Vertices left: 971593</pre>"
       ],
       "metadata": {},
       "output_type": "display_data",
       "text": [
        "PROGRESS: Finish computing core 5\t Vertices left: 971593"
       ]
      },
      {
       "html": [
        "<pre>PROGRESS: Finish computing core 6\t Vertices left: 952569</pre>"
       ],
       "metadata": {},
       "output_type": "display_data",
       "text": [
        "PROGRESS: Finish computing core 6\t Vertices left: 952569"
       ]
      },
      {
       "html": [
        "<pre>PROGRESS: Finish computing core 7\t Vertices left: 937724</pre>"
       ],
       "metadata": {},
       "output_type": "display_data",
       "text": [
        "PROGRESS: Finish computing core 7\t Vertices left: 937724"
       ]
      },
      {
       "html": [
        "<pre>PROGRESS: Finish computing core 8\t Vertices left: 922487</pre>"
       ],
       "metadata": {},
       "output_type": "display_data",
       "text": [
        "PROGRESS: Finish computing core 8\t Vertices left: 922487"
       ]
      },
      {
       "html": [
        "<pre>PROGRESS: Finish computing core 9\t Vertices left: 909935</pre>"
       ],
       "metadata": {},
       "output_type": "display_data",
       "text": [
        "PROGRESS: Finish computing core 9\t Vertices left: 909935"
       ]
      }
     ],
     "prompt_number": 17
    },
    {
     "cell_type": "code",
     "collapsed": false,
     "input": [
      "kcore_id = kc['core_id']"
     ],
     "language": "python",
     "metadata": {},
     "outputs": [],
     "prompt_number": 18
    },
    {
     "cell_type": "code",
     "collapsed": false,
     "input": [
      "kcore_id.groupby(key_columns='core_id',operations={'count': agg.COUNT()})"
     ],
     "language": "python",
     "metadata": {},
     "outputs": [
      {
       "html": [
        "<div style=\"max-height:1000px;max-width:1500px;overflow:auto;\"><table frame=\"box\" rules=\"cols\">\n",
        "    <tr>\n",
        "        <th style=\"padding-left: 1em; padding-right: 1em; text-align: center\">core_id</th>\n",
        "        <th style=\"padding-left: 1em; padding-right: 1em; text-align: center\">count</th>\n",
        "    </tr>\n",
        "    <tr>\n",
        "        <td style=\"padding-left: 1em; padding-right: 1em; text-align: center; vertical-align: top\">5</td>\n",
        "        <td style=\"padding-left: 1em; padding-right: 1em; text-align: center; vertical-align: top\">16885</td>\n",
        "    </tr>\n",
        "    <tr>\n",
        "        <td style=\"padding-left: 1em; padding-right: 1em; text-align: center; vertical-align: top\">4</td>\n",
        "        <td style=\"padding-left: 1em; padding-right: 1em; text-align: center; vertical-align: top\">24552</td>\n",
        "    </tr>\n",
        "    <tr>\n",
        "        <td style=\"padding-left: 1em; padding-right: 1em; text-align: center; vertical-align: top\">1</td>\n",
        "        <td style=\"padding-left: 1em; padding-right: 1em; text-align: center; vertical-align: top\">23137</td>\n",
        "    </tr>\n",
        "    <tr>\n",
        "        <td style=\"padding-left: 1em; padding-right: 1em; text-align: center; vertical-align: top\">10</td>\n",
        "        <td style=\"padding-left: 1em; padding-right: 1em; text-align: center; vertical-align: top\">909935</td>\n",
        "    </tr>\n",
        "    <tr>\n",
        "        <td style=\"padding-left: 1em; padding-right: 1em; text-align: center; vertical-align: top\">7</td>\n",
        "        <td style=\"padding-left: 1em; padding-right: 1em; text-align: center; vertical-align: top\">14845</td>\n",
        "    </tr>\n",
        "    <tr>\n",
        "        <td style=\"padding-left: 1em; padding-right: 1em; text-align: center; vertical-align: top\">2</td>\n",
        "        <td style=\"padding-left: 1em; padding-right: 1em; text-align: center; vertical-align: top\">37119</td>\n",
        "    </tr>\n",
        "    <tr>\n",
        "        <td style=\"padding-left: 1em; padding-right: 1em; text-align: center; vertical-align: top\">8</td>\n",
        "        <td style=\"padding-left: 1em; padding-right: 1em; text-align: center; vertical-align: top\">15237</td>\n",
        "    </tr>\n",
        "    <tr>\n",
        "        <td style=\"padding-left: 1em; padding-right: 1em; text-align: center; vertical-align: top\">3</td>\n",
        "        <td style=\"padding-left: 1em; padding-right: 1em; text-align: center; vertical-align: top\">19862</td>\n",
        "    </tr>\n",
        "    <tr>\n",
        "        <td style=\"padding-left: 1em; padding-right: 1em; text-align: center; vertical-align: top\">9</td>\n",
        "        <td style=\"padding-left: 1em; padding-right: 1em; text-align: center; vertical-align: top\">12552</td>\n",
        "    </tr>\n",
        "    <tr>\n",
        "        <td style=\"padding-left: 1em; padding-right: 1em; text-align: center; vertical-align: top\">6</td>\n",
        "        <td style=\"padding-left: 1em; padding-right: 1em; text-align: center; vertical-align: top\">19024</td>\n",
        "    </tr>\n",
        "</table>\n",
        "[10 rows x 2 columns]<br/>\n",
        "</div>"
       ],
       "metadata": {},
       "output_type": "pyout",
       "prompt_number": 23,
       "text": [
        "Columns:\n",
        "\tcore_id\tint\n",
        "\tcount\tint\n",
        "\n",
        "Rows: 10\n",
        "\n",
        "Data:\n",
        "+---------+--------+\n",
        "| core_id | count  |\n",
        "+---------+--------+\n",
        "|    5    | 16885  |\n",
        "|    4    | 24552  |\n",
        "|    1    | 23137  |\n",
        "|    10   | 909935 |\n",
        "|    7    | 14845  |\n",
        "|    2    | 37119  |\n",
        "|    8    | 15237  |\n",
        "|    3    | 19862  |\n",
        "|    9    | 12552  |\n",
        "|    6    | 19024  |\n",
        "+---------+--------+\n",
        "[10 rows x 2 columns]"
       ]
      }
     ],
     "prompt_number": 23
    },
    {
     "cell_type": "code",
     "collapsed": false,
     "input": [],
     "language": "python",
     "metadata": {},
     "outputs": []
    }
   ],
   "metadata": {}
  }
 ]
}