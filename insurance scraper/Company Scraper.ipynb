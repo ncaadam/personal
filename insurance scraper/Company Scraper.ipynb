{
 "metadata": {
  "name": "",
  "signature": "sha256:0feb930408db863045d6e30e56d08e83e94b207fcab8afcdf9202ed9b5269299"
 },
 "nbformat": 3,
 "nbformat_minor": 0,
 "worksheets": [
  {
   "cells": [
    {
     "cell_type": "code",
     "collapsed": false,
     "input": [
      "from bs4 import BeautifulSoup as bs\n",
      "import requests\n",
      "import urlparse\n",
      "import random\n",
      "import time\n",
      "import json"
     ],
     "language": "python",
     "metadata": {},
     "outputs": [],
     "prompt_number": 8
    },
    {
     "cell_type": "code",
     "collapsed": false,
     "input": [
      "state_list = ['al','ak','ar','de','dc','fl','il','ia','ks','md','mo','mt','ne','nh','nj','nc','nd','ok','or','pr','ri','sc','tn','vi','wv']"
     ],
     "language": "python",
     "metadata": {},
     "outputs": [],
     "prompt_number": 5
    },
    {
     "cell_type": "code",
     "collapsed": false,
     "input": [
      "#headers = {'searchState': 'al','searchFor':'companies','licensestatus':'active'}"
     ],
     "language": "python",
     "metadata": {},
     "outputs": [],
     "prompt_number": 91
    },
    {
     "cell_type": "raw",
     "metadata": {},
     "source": [
      "&searchFor=companies&firstName=&lastName=&npnNumber=&licensenum=&beName=&dbaName=&isresident=&licenseclass=&licensestatus=&loa=&city=&state=&sort=LNAME&businessType=I&courseGroup=&courseName=&providerName=&providerType=&recognizedcourse=All&providerId=&txtNaicNumber=&txtNaicGroupNumber=&txtCompName=&txtOldCompName=&hidCompanyType=&txtCompanyType=&txtDbaName=&txtOldDbaName=&x=24&y=1&txtfirstName=&txtLastName=&txtTrackingID=&txtMiddleName=&txtLicStatus=&txtBusAddressCity=&txtBusAddressState=&txtBusAddressZip=&txtMailingAddressCity=&txtMailingAddressState=&txtMailingAddressZip=&bustype="
     ]
    },
    {
     "cell_type": "code",
     "collapsed": false,
     "input": [
      "def get_state_company_list(state):\n",
      "    print \"We're getting the companies for state:\", state, \"...\"\n",
      "    headers = {'referer':'https://sbs-'+ state + '.naic.org/Lion-Web/jsp/sbsreports/CompanySearchLookup.jsp','host':'sbs-'+ state + '.naic.org'}\n",
      "    payload = {'hidCompanyStatusDesc':'Accepted Reinsurer','txtCompanyStatusSelection':'Active'}\n",
      "    request_url = 'https://sbs-' + state + '.naic.org/Lion-Web/jsp/sbsreports/CompanySearchLookupProcess.jsp'\n",
      "    response = requests.post(request_url,headers=headers,data=payload)\n",
      "    soup = bs(response.content,\"html.parser\")\n",
      "    even_list = []\n",
      "    for tr in soup.find_all('tr', {'class':'bg_evenRow'}):\n",
      "        for link in tr.find_all('a',href = True):\n",
      "            if link['onclick'].find(\"CompanyAppointmentDetail\") > 0:\n",
      "                add_on = link['onclick'][link['onclick'].find(\"CompanyAppointmentDetail\"):-2]\n",
      "                state = add_on[-2:].lower()\n",
      "                temp_link = 'https://sbs-' + state + '.naic.org/Lion-Web/jsp/sbsreports/'\n",
      "                final_link = temp_link + add_on\n",
      "                even_list.append(final_link)\n",
      "    odd_list = []\n",
      "    for tr in soup.find_all('tr', {'class':'bg_oddRow'}):\n",
      "        for link in tr.find_all('a',href = True):\n",
      "            if link['onclick'].find(\"CompanyAppointmentDetail\") > 0:\n",
      "                add_on = link['onclick'][link['onclick'].find(\"CompanyAppointmentDetail\"):-2]\n",
      "                state = add_on[-2:].lower()\n",
      "                temp_link = 'https://sbs-' + state + '.naic.org/Lion-Web/jsp/sbsreports/'\n",
      "                final_link = temp_link + add_on\n",
      "                odd_list.append(final_link)\n",
      "    \n",
      "    total_list = even_list + odd_list\n",
      "    return total_list"
     ],
     "language": "python",
     "metadata": {},
     "outputs": [],
     "prompt_number": 6
    },
    {
     "cell_type": "code",
     "collapsed": false,
     "input": [
      "def get_appts_by_state(data,state):\n",
      "    print \"We're getting the license from each company in state:\", state, \"...\"\n",
      "    if len(data[state]) > 0:\n",
      "        print \"There are\", str(len(data[state])), \"for state:\", state, \"...\"\n",
      "        error = 'COMPANY HAS NO ACTIVE APPOINTMENTS'\n",
      "        num_valid = 0\n",
      "        num_invalid = 0\n",
      "        l_list = []\n",
      "        counter = 0\n",
      "        for link in data[state]:\n",
      "            counter += 1\n",
      "            print \"We're on link\", counter, \"out of\", str(len(data[state])), \"in state:\", state, \"...\"\n",
      "            response = requests.get(link)\n",
      "            if response.status_code != 200:\n",
      "                print \"ERROR with link:\", link\n",
      "            else:\n",
      "                soup = bs(response.content, 'html.parser')\n",
      "                if soup.text.find(error) < 0:\n",
      "                    num_valid += 1\n",
      "                    for tr in soup.findAll('tr', {'class':'bg_evenRow'}):\n",
      "                        value = tr.findNext('td').text\n",
      "                        if value not in l_list:\n",
      "                            l_list.append(value)\n",
      "                    for tr in soup.findAll('tr',{'class':'bg_oddRow'}):\n",
      "                        value = tr.findNext('td').text\n",
      "                        if value not in l_list:\n",
      "                            l_list.append(value)\n",
      "                else:\n",
      "                    num_invalid += 1\n",
      "            time.sleep(.5)\n",
      "        print \"State:\", state\n",
      "        print \"Valid:\", num_valid\n",
      "        print \"Invalid:\", num_invalid\n",
      "        return l_list\n",
      "    else:\n",
      "        print state, \"didn't have any links in the data\"\n",
      "        return []"
     ],
     "language": "python",
     "metadata": {},
     "outputs": [],
     "prompt_number": 18
    },
    {
     "cell_type": "code",
     "collapsed": false,
     "input": [
      "with open(\"../links.txt\",'r') as links_json:\n",
      "    company_url_by_state = json.load(links_json)\n",
      "with open(\"../licensees.txt\",'r') as licensee_json:\n",
      "    license_list_by_state = json.load(licensee_json)"
     ],
     "language": "python",
     "metadata": {},
     "outputs": [],
     "prompt_number": 13
    },
    {
     "cell_type": "code",
     "collapsed": false,
     "input": [
      "for state in state_list:\n",
      "    url_list = get_state_company_list(state)\n",
      "    company_url_by_state[state] = url_list\n",
      "    print state, \"data added...\"\n",
      "    print \"FIRST LOOP DONE\""
     ],
     "language": "python",
     "metadata": {},
     "outputs": [
      {
       "ename": "NameError",
       "evalue": "name 'state_list' is not defined",
       "output_type": "pyerr",
       "traceback": [
        "\u001b[1;31m---------------------------------------------------------------------------\u001b[0m\n\u001b[1;31mNameError\u001b[0m                                 Traceback (most recent call last)",
        "\u001b[1;32m<ipython-input-1-e222e8062e77>\u001b[0m in \u001b[0;36m<module>\u001b[1;34m()\u001b[0m\n\u001b[0;32m      1\u001b[0m \u001b[0mcompany_url_by_state\u001b[0m \u001b[1;33m=\u001b[0m \u001b[0mopen\u001b[0m\u001b[1;33m(\u001b[0m\u001b[1;34m\"../links.txt\"\u001b[0m\u001b[1;33m,\u001b[0m\u001b[1;34m'r'\u001b[0m\u001b[1;33m)\u001b[0m\u001b[1;33m\u001b[0m\u001b[0m\n\u001b[0;32m      2\u001b[0m \u001b[0mlicense_list_by_state\u001b[0m \u001b[1;33m=\u001b[0m \u001b[1;33m{\u001b[0m\u001b[1;33m}\u001b[0m\u001b[1;33m\u001b[0m\u001b[0m\n\u001b[1;32m----> 3\u001b[1;33m \u001b[1;32mfor\u001b[0m \u001b[0mstate\u001b[0m \u001b[1;32min\u001b[0m \u001b[0mstate_list\u001b[0m\u001b[1;33m:\u001b[0m\u001b[1;33m\u001b[0m\u001b[0m\n\u001b[0m\u001b[0;32m      4\u001b[0m     \u001b[0murl_list\u001b[0m \u001b[1;33m=\u001b[0m \u001b[0mget_state_company_list\u001b[0m\u001b[1;33m(\u001b[0m\u001b[0mstate\u001b[0m\u001b[1;33m)\u001b[0m\u001b[1;33m\u001b[0m\u001b[0m\n\u001b[0;32m      5\u001b[0m     \u001b[0mcompany_url_by_state\u001b[0m\u001b[1;33m[\u001b[0m\u001b[0mstate\u001b[0m\u001b[1;33m]\u001b[0m \u001b[1;33m=\u001b[0m \u001b[0murl_list\u001b[0m\u001b[1;33m\u001b[0m\u001b[0m\n",
        "\u001b[1;31mNameError\u001b[0m: name 'state_list' is not defined"
       ]
      }
     ],
     "prompt_number": 1
    },
    {
     "cell_type": "code",
     "collapsed": false,
     "input": [
      "#individually changed the state to get these\n",
      "state = 'ne'\n",
      "license_num_list = get_appts_by_state(company_url_by_state,state)\n",
      "license_list_by_state[state] = license_num_list"
     ],
     "language": "python",
     "metadata": {},
     "outputs": []
    },
    {
     "cell_type": "code",
     "collapsed": false,
     "input": [
      "with open('../licensees2.txt','w') as outfile:\n",
      "    json.dump(license_list_by_state,outfile)"
     ],
     "language": "python",
     "metadata": {},
     "outputs": [],
     "prompt_number": 26
    },
    {
     "cell_type": "code",
     "collapsed": false,
     "input": [
      "with open('../links.txt', 'w') as outfile2:\n",
      "    json.dump(company_url_by_state, outfile2)"
     ],
     "language": "python",
     "metadata": {},
     "outputs": [],
     "prompt_number": 202
    }
   ],
   "metadata": {}
  }
 ]
}