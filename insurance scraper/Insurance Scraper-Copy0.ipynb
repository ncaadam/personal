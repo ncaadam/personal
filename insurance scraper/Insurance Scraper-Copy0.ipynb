{
 "metadata": {
  "name": "",
  "signature": "sha256:994c7c6b2f12ffb9302b30b097abc5153a6559f268104b48639f1fb397236956"
 },
 "nbformat": 3,
 "nbformat_minor": 0,
 "worksheets": [
  {
   "cells": [
    {
     "cell_type": "code",
     "collapsed": false,
     "input": [
      "from bs4 import BeautifulSoup as bs\n",
      "import requests\n",
      "import urlparse"
     ],
     "language": "python",
     "metadata": {},
     "outputs": [],
     "prompt_number": 1
    },
    {
     "cell_type": "code",
     "collapsed": false,
     "input": [
      "state_list = ['al','ak','ar','de','dc','fl','il','ia','ks','md','mo','mt','ne','nh','nj','nc','nd','ok','or','pr','ri','sc','tn','vi','wv']"
     ],
     "language": "python",
     "metadata": {},
     "outputs": [],
     "prompt_number": 90
    },
    {
     "cell_type": "code",
     "collapsed": false,
     "input": [
      "headers = {'referer':'https://sbs-'+ state + '.naic.org/Lion-Web/jsp/sbsreports/CompanySearchLookup.jsp','host':'sbs-'+ state + '.naic.org'}\n",
      "payload = {'hidCompanyStatusDesc':'Accepted Reinsurer','txtCompanyStatusSelection':'Active'}\n",
      "request_url = 'https://sbs-' + state + '.naic.org/Lion-Web/jsp/sbsreports/CompanySearchLookupProcess.jsp'\n",
      "#headers = {'searchState': 'al','searchFor':'companies','licensestatus':'active'}"
     ],
     "language": "python",
     "metadata": {},
     "outputs": [],
     "prompt_number": 91
    },
    {
     "cell_type": "raw",
     "metadata": {},
     "source": [
      "&searchFor=companies&firstName=&lastName=&npnNumber=&licensenum=&beName=&dbaName=&isresident=&licenseclass=&licensestatus=&loa=&city=&state=&sort=LNAME&businessType=I&courseGroup=&courseName=&providerName=&providerType=&recognizedcourse=All&providerId=&txtNaicNumber=&txtNaicGroupNumber=&txtCompName=&txtOldCompName=&hidCompanyType=&txtCompanyType=&txtDbaName=&txtOldDbaName=&x=24&y=1&txtfirstName=&txtLastName=&txtTrackingID=&txtMiddleName=&txtLicStatus=&txtBusAddressCity=&txtBusAddressState=&txtBusAddressZip=&txtMailingAddressCity=&txtMailingAddressState=&txtMailingAddressZip=&bustype='"
     ]
    },
    {
     "cell_type": "code",
     "collapsed": false,
     "input": [
      "response = requests.post(request_url,headers=headers,data=payload)"
     ],
     "language": "python",
     "metadata": {},
     "outputs": [],
     "prompt_number": 3
    },
    {
     "cell_type": "code",
     "collapsed": false,
     "input": [
      "#encoding = response.encoding if 'charset' in response.headers.get('content-type', '').lower() else None\n",
      "#content = url_response.content"
     ],
     "language": "python",
     "metadata": {},
     "outputs": [],
     "prompt_number": 72
    },
    {
     "cell_type": "code",
     "collapsed": false,
     "input": [
      "soup = bs(response.content,\"html.parser\")"
     ],
     "language": "python",
     "metadata": {},
     "outputs": [],
     "prompt_number": 77
    },
    {
     "cell_type": "code",
     "collapsed": false,
     "input": [],
     "language": "python",
     "metadata": {},
     "outputs": [],
     "prompt_number": 77
    },
    {
     "cell_type": "code",
     "collapsed": false,
     "input": [
      "even_list = []\n",
      "for tr in soup.find_all('tr', {'class':'bg_evenRow'}):\n",
      "    for link in tr.find_all('a',href = True):\n",
      "        if link['onclick'].find(\"CompanyAppointmentDetail\") > 0:\n",
      "            add_on = link['onclick'][link['onclick'].find(\"CompanyAppointmentDetail\"):-2]\n",
      "            state = add_on[-2:].lower()\n",
      "            temp_link = 'https://sbs-' + state + '.naic.org/Lion-Web/jsp/sbsreports/'\n",
      "            final_link = temp_link + add_on\n",
      "            even_list.append(final_link)"
     ],
     "language": "python",
     "metadata": {},
     "outputs": [],
     "prompt_number": 87
    },
    {
     "cell_type": "code",
     "collapsed": false,
     "input": [
      "len(even_list)"
     ],
     "language": "python",
     "metadata": {},
     "outputs": [
      {
       "metadata": {},
       "output_type": "pyout",
       "prompt_number": 88,
       "text": [
        "1194"
       ]
      }
     ],
     "prompt_number": 88
    },
    {
     "cell_type": "code",
     "collapsed": false,
     "input": [],
     "language": "python",
     "metadata": {},
     "outputs": []
    }
   ],
   "metadata": {}
  }
 ]
}