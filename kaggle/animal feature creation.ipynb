{
 "cells": [
  {
   "cell_type": "code",
   "execution_count": 191,
   "metadata": {
    "collapsed": false
   },
   "outputs": [],
   "source": [
    "from pyspark.ml.feature import PCA, VectorAssembler, OneHotEncoder, StringIndexer\n",
    "from pyspark.mllib.linalg import Vectors\n",
    "from pyspark.ml.classification import RandomForestClassifier\n",
    "from pyspark.ml.evaluation import RegressionEvaluator, MulticlassClassificationEvaluator\n",
    "from pyspark.ml import Pipeline\n",
    "import pandas as pd\n",
    "import pyspark as p\n",
    "import seaborn as sns\n",
    "\n",
    "%matplotlib inline"
   ]
  },
  {
   "cell_type": "code",
   "execution_count": 91,
   "metadata": {
    "collapsed": true
   },
   "outputs": [],
   "source": [
    "# sc.stop()"
   ]
  },
  {
   "cell_type": "code",
   "execution_count": 3,
   "metadata": {
    "collapsed": false
   },
   "outputs": [],
   "source": [
    "sc = p.SparkContext('local[*]')\n",
    "sql = p.SQLContext(sc)"
   ]
  },
  {
   "cell_type": "code",
   "execution_count": 100,
   "metadata": {
    "collapsed": false
   },
   "outputs": [],
   "source": [
    "train = sql.read.format('com.databricks.spark.csv').options(header=\"true\",inferSchema=\"true\").load('dog-train.csv')\n",
    "test = sql.read.format('com.databricks.spark.csv').options(header=\"true\",inferSchema=\"true\").load('dog-test.csv')"
   ]
  },
  {
   "cell_type": "code",
   "execution_count": 101,
   "metadata": {
    "collapsed": true
   },
   "outputs": [],
   "source": [
    "def calculate_days(string):\n",
    "    try:\n",
    "        count = int(string.split(' ')[0])\n",
    "        measure = string.split(' ')[-1]\n",
    "        if measure[-1] == 's':\n",
    "            measure = measure[:-1]\n",
    "        if measure == 'month':\n",
    "            return count*30\n",
    "        elif measure == 'week':\n",
    "            return count*7\n",
    "        elif measure == 'year':\n",
    "            return count*365\n",
    "        else:\n",
    "            return count\n",
    "    except Exception,e:\n",
    "        return None"
   ]
  },
  {
   "cell_type": "code",
   "execution_count": 102,
   "metadata": {
    "collapsed": true
   },
   "outputs": [],
   "source": [
    "def get_gender(string):\n",
    "    try:\n",
    "        if string.lower() != \"unknown\":\n",
    "            return string.split(' ')[-1].lower()\n",
    "        else:\n",
    "            return 'unknown'\n",
    "    except Exception,e:\n",
    "        return str(e)"
   ]
  },
  {
   "cell_type": "code",
   "execution_count": 103,
   "metadata": {
    "collapsed": true
   },
   "outputs": [],
   "source": [
    "def get_fix(string):\n",
    "    try:\n",
    "        if string.lower() != \"unknown\":\n",
    "            status = string.split(' ')[0].lower()\n",
    "            if status == 'intact':\n",
    "                return status\n",
    "            elif status in ['spayed','neutered']:\n",
    "                return \"fixed\"\n",
    "            else:\n",
    "                return \"unknown\"\n",
    "        elif string.lower() == 'unknown':\n",
    "            return \"unknown\"\n",
    "        else:\n",
    "            return None\n",
    "    except Exception,e:\n",
    "        return e"
   ]
  },
  {
   "cell_type": "code",
   "execution_count": 104,
   "metadata": {
    "collapsed": true
   },
   "outputs": [],
   "source": [
    "calculate_days_udf = p.sql.functions.udf(calculate_days,p.sql.types.IntegerType())\n",
    "get_gender_udf = p.sql.functions.udf(get_gender)\n",
    "get_fix_udf = p.sql.functions.udf(get_fix)"
   ]
  },
  {
   "cell_type": "code",
   "execution_count": 171,
   "metadata": {
    "collapsed": true
   },
   "outputs": [],
   "source": [
    "train_features = (train.withColumn('fixed_flag',get_fix_udf(train['SexuponOutcome']))\n",
    "                  .withColumn('gender',get_gender_udf(train['SexuponOutcome']))\n",
    "                  .withColumn('days_before_outcome',calculate_days_udf(train['AgeuponOutcome']))\n",
    "                  .drop('SexuponOutcome')\n",
    "                  .drop('AgeuponOutcome')\n",
    "                 )"
   ]
  },
  {
   "cell_type": "code",
   "execution_count": 106,
   "metadata": {
    "collapsed": false
   },
   "outputs": [
    {
     "name": "stdout",
     "output_type": "stream",
     "text": [
      "root\n",
      " |-- AnimalID: string (nullable = true)\n",
      " |-- Name: string (nullable = true)\n",
      " |-- DateTime: timestamp (nullable = true)\n",
      " |-- OutcomeType: string (nullable = true)\n",
      " |-- OutcomeSubtype: string (nullable = true)\n",
      " |-- AnimalType: string (nullable = true)\n",
      " |-- SexuponOutcome: string (nullable = true)\n",
      " |-- AgeuponOutcome: string (nullable = true)\n",
      " |-- Breed: string (nullable = true)\n",
      " |-- Color: string (nullable = true)\n",
      "\n"
     ]
    }
   ],
   "source": [
    "train.printSchema()"
   ]
  },
  {
   "cell_type": "code",
   "execution_count": 107,
   "metadata": {
    "collapsed": false
   },
   "outputs": [
    {
     "name": "stdout",
     "output_type": "stream",
     "text": [
      "root\n",
      " |-- ID: integer (nullable = true)\n",
      " |-- Name: string (nullable = true)\n",
      " |-- DateTime: timestamp (nullable = true)\n",
      " |-- AnimalType: string (nullable = true)\n",
      " |-- SexuponOutcome: string (nullable = true)\n",
      " |-- AgeuponOutcome: string (nullable = true)\n",
      " |-- Breed: string (nullable = true)\n",
      " |-- Color: string (nullable = true)\n",
      "\n"
     ]
    }
   ],
   "source": [
    "test.printSchema()"
   ]
  },
  {
   "cell_type": "code",
   "execution_count": 108,
   "metadata": {
    "collapsed": false
   },
   "outputs": [],
   "source": [
    "test_features = (test.withColumn('fixed_flag',get_fix_udf(test['SexuponOutcome']))\n",
    "                  .withColumn('gender',get_gender_udf(test['SexuponOutcome']))\n",
    "                  .withColumn('days_before_outcome',calculate_days_udf(test['AgeuponOutcome']))\n",
    "                  .drop('SexuponOutcome')\n",
    "                  .drop('AgeuponOutcome')\n",
    "                 )"
   ]
  },
  {
   "cell_type": "code",
   "execution_count": 174,
   "metadata": {
    "collapsed": true
   },
   "outputs": [],
   "source": [
    "def create_dummies(df,col):\n",
    "    filtered_data = df.where(df[col].isNotNull())\n",
    "    indexer = StringIndexer(inputCol=col,outputCol=col + \"_index\")\n",
    "    model = indexer.fit(filtered_data)\n",
    "    indexed = model.transform(filtered_data)\n",
    "    encoder = OneHotEncoder(inputCol=col + \"_index\", outputCol=col + \"_vector\")\n",
    "    encoded = encoder.transform(indexed)\n",
    "    return encoded"
   ]
  },
  {
   "cell_type": "code",
   "execution_count": 175,
   "metadata": {
    "collapsed": true
   },
   "outputs": [],
   "source": [
    "interested_list = ['fixed_flag','gender','Breed','Color','AnimalType','OutcomeType']"
   ]
  },
  {
   "cell_type": "code",
   "execution_count": 176,
   "metadata": {
    "collapsed": true
   },
   "outputs": [],
   "source": [
    "train_final = train_features\n",
    "for col in interested_list:\n",
    "    train_final = create_dummies(train_final,col)"
   ]
  },
  {
   "cell_type": "code",
   "execution_count": 177,
   "metadata": {
    "collapsed": false
   },
   "outputs": [],
   "source": [
    "test_final = test_features\n",
    "for col in interested_list[:-1]:\n",
    "    test_final = create_dummies(test_final,col)"
   ]
  },
  {
   "cell_type": "code",
   "execution_count": 178,
   "metadata": {
    "collapsed": true
   },
   "outputs": [],
   "source": [
    "(train_final, test_final) = train_final.randomSplit([0.7, 0.3])"
   ]
  },
  {
   "cell_type": "code",
   "execution_count": 179,
   "metadata": {
    "collapsed": true
   },
   "outputs": [],
   "source": [
    "feature_list = [x + '_vector' for x in interested_list[:-1]]\n",
    "label = 'OutcomeType_index'\n",
    "features_assembler = VectorAssembler(inputCols=feature_list,outputCol=\"features\")"
   ]
  },
  {
   "cell_type": "code",
   "execution_count": 193,
   "metadata": {
    "collapsed": false
   },
   "outputs": [],
   "source": [
    "k = list()\n",
    "for i in range(1,6,1):\n",
    "    rf = RandomForestClassifier(featuresCol=\"features\",labelCol=label,maxDepth=26,numTrees=i)\n",
    "    pipeline = Pipeline(stages=[features_assembler,rf])\n",
    "    predictions = pipeline.fit(train_final).transform(test_final)\n",
    "    evaluator = MulticlassClassificationEvaluator(labelCol=label, predictionCol=\"prediction\", metricName=\"precision\")\n",
    "    mse = evaluator.evaluate(predictions)\n",
    "    k.append([i,mse])"
   ]
  },
  {
   "cell_type": "code",
   "execution_count": 194,
   "metadata": {
    "collapsed": true
   },
   "outputs": [],
   "source": [
    "z = []\n",
    "for x,y in k:\n",
    "    z.append([x,y])"
   ]
  },
  {
   "cell_type": "code",
   "execution_count": 195,
   "metadata": {
    "collapsed": false
   },
   "outputs": [
    {
     "data": {
      "text/plain": [
       "<matplotlib.axes._subplots.AxesSubplot at 0x1106cfc50>"
      ]
     },
     "execution_count": 195,
     "metadata": {},
     "output_type": "execute_result"
    },
    {
     "data": {
      "image/png": "[encoded data removed]",
      "text/plain": [
       "<matplotlib.figure.Figure at 0x110755550>"
      ]
     },
     "metadata": {},
     "output_type": "display_data"
    }
   ],
   "source": [
    "pd.DataFrame(k, columns=['k', 'mse']).plot(x='k', y='mse', kind='line')"
   ]
  },
  {
   "cell_type": "code",
   "execution_count": null,
   "metadata": {
    "collapsed": true
   },
   "outputs": [],
   "source": []
  }
 ],
 "metadata": {
  "kernelspec": {
   "display_name": "Python 2",
   "language": "python",
   "name": "python2"
  },
  "language_info": {
   "codemirror_mode": {
    "name": "ipython",
    "version": 2
   },
   "file_extension": ".py",
   "mimetype": "text/x-python",
   "name": "python",
   "nbconvert_exporter": "python",
   "pygments_lexer": "ipython2",
   "version": "2.7.11"
  }
 },
 "nbformat": 4,
 "nbformat_minor": 0
}
