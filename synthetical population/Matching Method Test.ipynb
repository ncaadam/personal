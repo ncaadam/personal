{
 "metadata": {
  "name": "",
  "signature": "sha256:54111085455dcf5bc91f888efd9fadafabca62fdd37cf35cdcc165b409008963"
 },
 "nbformat": 3,
 "nbformat_minor": 0,
 "worksheets": [
  {
   "cells": [
    {
     "cell_type": "code",
     "collapsed": false,
     "input": [
      "#import pandas\n",
      "import pandas as pd\n",
      "\n",
      "#import distance for matching algo\n",
      "import scipy.spatial.distance as distance\n",
      "\n",
      "#import the Python3 division functionality\n",
      "from __future__ import division\n",
      "\n",
      "#import sklearn packages for training & testing models\n",
      "from sklearn.svm import SVC, SVR\n",
      "from sklearn.neighbors import KNeighborsClassifier, KNeighborsRegressor\n",
      "from sklearn.cross_validation import train_test_split\n",
      "from sklearn.metrics import accuracy_score,mean_squared_error\n",
      "from sklearn.linear_model import LogisticRegression, LinearRegression\n",
      "from sklearn.tree import DecisionTreeClassifier, DecisionTreeRegressor\n",
      "\n",
      "#import the datetime package\n",
      "from datetime import datetime\n",
      "\n",
      "#import json for dictionary saving\n",
      "import json"
     ],
     "language": "python",
     "metadata": {},
     "outputs": [],
     "prompt_number": 1
    },
    {
     "cell_type": "code",
     "collapsed": false,
     "input": [
      "def matching_columns(data,dataset_abbreviation,column_new_names_dict):\n",
      "    \"\"\"\n",
      "    Takes a full dataset, drops all columns but the ones identified in 'column_new_names_dict', \n",
      "    and renames the columns using the values in 'column_new_names_dict'. It also appends the abbreviation to\n",
      "    the front of each column name. \n",
      "    \n",
      "    Returns a pandas dataframe\n",
      "    \n",
      "    data - pandas data frame\n",
      "    dataset_abbreviation - an abbreviation to be used throughout the script (String)\n",
      "    column_new_names_dict - a dictionary with the original column names as keys (string) and the values as what you'd like to rename the column as (string)\n",
      "    \"\"\"\n",
      "    if isinstance(column_new_names_dict, dict) and isinstance(dataset_abbreviation, str):\n",
      "        subset = data[column_new_names_dict.keys()]\n",
      "        for key,value in column_new_names_dict.iteritems():\n",
      "            if column_new_names_dict[key][:len(dataset_abbreviation)] != dataset_abbreviation:\n",
      "                column_new_names_dict[key] = str(dataset_abbreviation) + '_' + value\n",
      "            else:\n",
      "                #print \"DATASET ALREADY NAMED\"\n",
      "                continue\n",
      "        subset_renamed = subset.rename(columns = column_new_names_dict)\n",
      "        return subset_renamed\n",
      "    else:\n",
      "        print \"PROBLEM\""
     ],
     "language": "python",
     "metadata": {},
     "outputs": [],
     "prompt_number": 2
    },
    {
     "cell_type": "code",
     "collapsed": false,
     "input": [
      "def import_data(path,sheet_no = 0, row_skip = 0):\n",
      "    \"\"\"\n",
      "    Imports a dataset from the path variable and exports it as a pandas dataframe\n",
      "    \"\"\"\n",
      "    extension = path[path.rfind('.')+1:]\n",
      "    if extension == 'xlsx' or extension == 'xls':\n",
      "        #bring in your data\n",
      "        excel = pd.ExcelFile(path)\n",
      "        #parse the data into a pandas dataframe - parse accepts arguments for sheet name/number and rows to skip (for example)\n",
      "        data = excel.parse(sheetname=sheet_no,skiprows=row_skip,)\n",
      "        return data\n",
      "    elif extension == 'csv':\n",
      "        csv = pd.read_csv(path)\n",
      "        return csv\n",
      "    else:\n",
      "        return \"PROBLEM\""
     ],
     "language": "python",
     "metadata": {},
     "outputs": [],
     "prompt_number": 3
    },
    {
     "cell_type": "code",
     "collapsed": false,
     "input": [
      "def get_distances(xa,xb,method):\n",
      "    \"\"\"\n",
      "    xa - 1-D array\n",
      "    xb - 2-D array\n",
      "    method - metric used to find the distance between each pair of the dataset\n",
      "             options for this argument are - 'braycurtis\u2019,\u2018canberra\u2019,\u2018chebyshev\u2019,\u2018cityblock\u2019,\u2018correlation\u2019,\u2018cosine\u2019,\u2018dice\u2019,\u2018euclidean\u2019,\u2018hamming\u2019,\u2018jaccard\u2019,\u2018kulsinski\u2019,\u2018mahalanobis\u2019,\u2018matching\u2019,\u2018minkowski\u2019,\u2018rogerstanimoto\u2019,\u2018russellrao\u2019,\u2018seuclidean\u2019,\u2018sokalmichener\u2019,\u2018sokalsneath\u2019,\u2018sqeuclidean\u2019,\u2018wminkowski\u2019,\u2018yule\u2019\n",
      "    \"\"\"\n",
      "    possibilities = [\"braycurtis\",\"canberra\",\"chebyshev\",\"cityblock\",\"correlation\",\"cosine\",\"dice\",\"euclidean\",\"hamming\",\"jaccard\",\"kulsinski\",\"mahalanobis\",\"matching\",\"minkowski\",\"rogerstanimoto\",\"russellrao\",\"seuclidean\",\"sokalmichener\",\"sokalsneath\",\"sqeuclidean\",\"wminkowski\",\"yule\"]\n",
      "    if method in possibilities:\n",
      "        try:\n",
      "            distances = distance.cdist(xa,xb,metric = method)\n",
      "        except:\n",
      "            distances = []\n",
      "        finally:\n",
      "            return distances"
     ],
     "language": "python",
     "metadata": {},
     "outputs": [],
     "prompt_number": 4
    },
    {
     "cell_type": "code",
     "collapsed": false,
     "input": [
      "def check_accuracy(data, xa_column_name, xb_column_name):\n",
      "    \"\"\"\n",
      "    Checks the accuracy of two columns in the same dataframe and returns the percent that are the same.\n",
      "    \n",
      "    data - pandas dataframe\n",
      "    xa_column_name - first column to be compared\n",
      "    xb_column_name - second column to be compared\n",
      "    \"\"\"\n",
      "    num_of_same = len(data[data[xa_column_name] == data[xb_column_name]])\n",
      "    num_total = len(data)\n",
      "    output = (num_of_same/num_total)*100\n",
      "    return output"
     ],
     "language": "python",
     "metadata": {},
     "outputs": [],
     "prompt_number": 5
    },
    {
     "cell_type": "code",
     "collapsed": false,
     "input": [
      "def drop_and_split(data,column_to_drop = \"\"):\n",
      "    \"\"\"\n",
      "    Drops the column indicated in the 'column_to_drop' parameter and splits the data set into train and test datasets.\n",
      "    \n",
      "    Uses 20% of the data for the test dataset\n",
      "    \n",
      "    Returns train,test as pandas dataframes\n",
      "    \n",
      "    data - pandas dataframe\n",
      "    column_to_drop - the name of the column to drop from the dataset(string)\n",
      "    \"\"\"\n",
      "    #one_drop = data.drop(column_to_drop,1)\n",
      "    #column_names = list(one_drop.columns.values)\n",
      "    train, test = train_test_split(data, test_size=0.20, random_state = 24)\n",
      "    train = pd.DataFrame(train,columns=data.columns.values.tolist())\n",
      "    test = pd.DataFrame(test,columns=data.columns.values.tolist())\n",
      "    return train,test"
     ],
     "language": "python",
     "metadata": {},
     "outputs": [],
     "prompt_number": 6
    },
    {
     "cell_type": "code",
     "collapsed": false,
     "input": [
      "def create_input_file(method, stat_matching_dict,donor_data, donor_abbreviation, donor_columns, client_final, client_abbreviation):\n",
      "    #convert distances to a dataframe and add IDs as indices\n",
      "    distancesDF = pd.DataFrame(stat_matching_dict, index=pd.np.array(client_final[[client_abbreviation + '_ID']][client_abbreviation + '_ID']))\n",
      "    distancesDF.columns = pd.np.array(donor_final[[donor_abbreviation + '_ID']][donor_abbreviation + '_ID'])\n",
      "\n",
      "    matched_records = distancesDF.idxmin(axis=1).to_dict()\n",
      "    print method + \": IDs indexed...\" + str(datetime.now())\n",
      "    \n",
      "    donor_input = matching_columns(donor_data,donor_abbreviation,donor_columns)\n",
      "    donor_input.describe()\n",
      "    print method + \": Donor Input created...\" + str(datetime.now())\n",
      "    \n",
      "    #assemble input file fields from client and donor datasets based on matched IDs\n",
      "    input_file_list = []\n",
      "\n",
      "    for client_id, donor_id in matched_records.iteritems():\n",
      "        matched_record = donor_input[donor_input[donor_abbreviation + '_ID'] == donor_id]\n",
      "        matched_record[client_abbreviation + '_ID'] = client_id\n",
      "        input_file_list.append(matched_record)\n",
      "        \n",
      "    print method + \": matched records found and created...\" + str(datetime.now())\n",
      "\n",
      "    input_file = pd.concat(input_file_list)\n",
      "    print method + \": input file concatenated...\" + str(datetime.now())\n",
      "\n",
      "    #merge the donor data with the client data for comparison\n",
      "    input_file = pd.merge(input_file, client_final, how = 'left', left_on=client_abbreviation + '_ID', right_on=client_abbreviation + '_ID')\n",
      "    print method + \": input file merged...\" + str(datetime.now())\n",
      "    \n",
      "    input_file.to_csv(\"../data/outputs/\" + method + \".csv\")\n",
      "    print method + \": input file saved...\" + str(datetime.now())\n",
      "    print method, \"is complete\", str(datetime.now())"
     ],
     "language": "python",
     "metadata": {},
     "outputs": [],
     "prompt_number": 7
    },
    {
     "cell_type": "code",
     "collapsed": false,
     "input": [
      "def predict(input_file, p_type, client_abbreviation, y_name):\n",
      "    acc_dict = {}\n",
      "    \n",
      "    train, test = drop_and_split(input_file)\n",
      "    \n",
      "    x_vars = []\n",
      "    y_var = \"\"\n",
      "    z_var = \"\"\n",
      "    \n",
      "    for col in train.columns.values:\n",
      "        if col.find(y_name) < 0 and col.find(\"STATE\") < 0:\n",
      "            x_vars.append(col)\n",
      "        elif col.find(y_name) > -1 and col.find(client_abbreviation) > -1:\n",
      "            y_var = col\n",
      "        elif col.find(y_name) > -1 and col.find(client_abbreviation) < 0:\n",
      "            z_var = col\n",
      "    \n",
      "    x = train[x_vars]\n",
      "    y = train[y_var]\n",
      "    test_x = test[x_vars]\n",
      "   \n",
      "    if(p_type == 'c'):\n",
      "        \n",
      "        #x = train[['SBI_AGE','SBI_SEX','SBI_SALARY','PUMD_SEX','PUMD_AGE','PUMD_SALARY']]\n",
      "        #y = train['PUMD_NEW_HOME_STATUS']\n",
      "        #test_x = test[['SBI_AGE','SBI_SEX','SBI_SALARY','PUMD_SEX','PUMD_AGE','PUMD_SALARY']]\n",
      "    \n",
      "        #Matching Accuracy\n",
      "        #acc_dict['OVERALL'] = check_accuracy(input_file,'SBI_HOME_STATUS','PUMD_NEW_HOME_STATUS')\n",
      "        acc_dict['OVERALL'] = accuracy_score(list(input_file[y_var]),list(input_file[z_var]))*100\n",
      "        \n",
      "        #SVM\n",
      "        clf = SVC()\n",
      "        clf.fit(x,y)\n",
      "        new_col_name = y_name + '_PREDICT_SVM'\n",
      "        test[new_col_name] = clf.predict(test_x)\n",
      "        acc_dict['SVM']= accuracy_score(list(test[y_var]),list(test[new_col_name]))*100\n",
      "        \n",
      "        #KNN\n",
      "        clf2 = KNeighborsClassifier()\n",
      "        clf2.fit(x,y)\n",
      "        new_col_name = y_name + '_PREDICT_KNN'\n",
      "        test[new_col_name] = clf2.predict(test_x)\n",
      "        #drop_acc = check_accuracy(test,'SBI_HOME_STATUS','HOME_STATUS_PREDICT_KNN')\n",
      "        #client_acc = check_accuracy(test,'PUMD_NEW_HOME_STATUS','HOME_STATUS_PREDICT_KNN')\n",
      "        #acc_dict['KNN'] = [drop_acc,client_acc]\n",
      "        acc_dict['KNN'] = accuracy_score(list(test[y_var]),list(test[new_col_name]))*100\n",
      "        \n",
      "        #Log Reg\n",
      "        clf3 = LogisticRegression()\n",
      "        clf3.fit(x,y)\n",
      "        new_col_name = y_name + '_PREDICT_LOG'\n",
      "        test[new_col_name] = clf3.predict(test_x)\n",
      "        acc_dict['LOG'] = accuracy_score(list(test[y_var]),list(test[new_col_name]))*100\n",
      "        \n",
      "        #Decision Tree\n",
      "        clf4 = DecisionTreeClassifier()\n",
      "        clf4.fit(x,y)\n",
      "        new_col_name = y_name + '_PREDICT_DT'\n",
      "        test[new_col_name] = clf4.predict(test_x)\n",
      "        acc_dict['DT'] = accuracy_score(list(test[y_var]),list(test[new_col_name]))*100\n",
      "        \n",
      "        return acc_dict\n",
      "        \n",
      "    elif(p_type == 'r'):\n",
      "        \n",
      "        #x = train[['SBI_HOME_STATUS','SBI_SEX','SBI_SALARY','PUMD_SEX','PUMD_SALARY', 'PUMD_NEW_HOME_STATUS']]\n",
      "        #y = train['PUMD_AGE']\n",
      "        #test_x = test[['SBI_HOME_STATUS','SBI_SEX','SBI_SALARY','PUMD_SEX','PUMD_SALARY','PUMD_NEW_HOME_STATUS']]\n",
      "        \n",
      "        #Overall\n",
      "        acc_dict['OVERALL'] = mean_squared_error(list(input_file[y_var]),list(input_file[z_var]))\n",
      "        \n",
      "        #SVM\n",
      "        clf = SVR()\n",
      "        clf.fit(x,y)\n",
      "        new_col_name = y_name + '_PREDICT_SVM'\n",
      "        test[new_col_name] = clf.predict(test_x)\n",
      "        acc_dict['SVM'] = mean_squared_error(list(test[y_var]),list(test[new_col_name]))\n",
      "        \n",
      "        #KNN\n",
      "        clf2 = KNeighborsRegressor()\n",
      "        clf2.fit(x,y)\n",
      "        new_col_name = y_name + '_PREDICT_KNN'\n",
      "        test[new_col_name] = clf2.predict(test_x)\n",
      "        acc_dict['KNN'] = mean_squared_error(list(test[y_var]),list(test[new_col_name]))\n",
      "        \n",
      "        #LIN\n",
      "        clf3 = LinearRegression(fit_intercept=False)\n",
      "        clf3.fit(x,y)\n",
      "        new_col_name = y_name + '_PREDICT_LIN'\n",
      "        test[new_col_name] = clf3.predict(test_x)\n",
      "        acc_dict['LIN'] = mean_squared_error(list(test[y_var]),list(test[new_col_name]))\n",
      "            \n",
      "        #Decision Tree    \n",
      "        clf4 = DecisionTreeRegressor()\n",
      "        clf4.fit(x,y)\n",
      "        new_col_name = y_name + '_PREDICT_DT'\n",
      "        test[new_col_name] = clf4.predict(test_x)\n",
      "        acc_dict['DT'] = mean_squared_error(list(test[y_var]),list(test[new_col_name]))\n",
      "        \n",
      "        return acc_dict\n",
      "        \n",
      "    else:\n",
      "        print \"the prediction type must be a regression or a classifier\""
     ],
     "language": "python",
     "metadata": {},
     "outputs": [],
     "prompt_number": 8
    },
    {
     "cell_type": "code",
     "collapsed": false,
     "input": [
      "#client abbreviation that will be used throughout the script\n",
      "client_abbreviation = 'PUMD'"
     ],
     "language": "python",
     "metadata": {},
     "outputs": [],
     "prompt_number": 9
    },
    {
     "cell_type": "code",
     "collapsed": false,
     "input": [
      "#identify the columns we're interested in - change the varaible names here\n",
      "client_columns = {'NEWID':'ID','SEX_REF':'SEX','AGE_REF':'AGE','FSALARYX':'SALARY','STATE':'STATE_CODE',\n",
      "                  'CUTENURE':'ORIG_HOUSE_STATUS'}"
     ],
     "language": "python",
     "metadata": {},
     "outputs": [],
     "prompt_number": 10
    },
    {
     "cell_type": "code",
     "collapsed": false,
     "input": [
      "#import the client dataset - if the dataset is large, this may take minutes to finish\n",
      "client_data = import_data(\"../../../data/synthetic_population/Interview_2013_FMLI_all.xlsx\")"
     ],
     "language": "python",
     "metadata": {},
     "outputs": [],
     "prompt_number": 12
    },
    {
     "cell_type": "code",
     "collapsed": false,
     "input": [
      "#grab the columns we're interested in and change the column names to more meaningful descriptors\n",
      "client_filtered = matching_columns(client_data,client_abbreviation,client_columns)"
     ],
     "language": "python",
     "metadata": {},
     "outputs": [],
     "prompt_number": 13
    },
    {
     "cell_type": "code",
     "collapsed": false,
     "input": [
      "#map values to different values to be consistent across datasets\n",
      "client_filtered[client_abbreviation + '_' + 'NEW_HOME_STATUS'] = client_filtered[client_abbreviation + '_' + 'ORIG_HOUSE_STATUS'].map({1:1,2:1,3:1,4:2,5:3,6:3})"
     ],
     "language": "python",
     "metadata": {},
     "outputs": [],
     "prompt_number": 14
    },
    {
     "cell_type": "code",
     "collapsed": false,
     "input": [
      "state_codes = import_data('../../../data/synthetic_population/State Codes.csv')"
     ],
     "language": "python",
     "metadata": {},
     "outputs": [],
     "prompt_number": 15
    },
    {
     "cell_type": "code",
     "collapsed": false,
     "input": [
      "#create a dictionary with this structure {'State Code':'State Abbreviation'}\n",
      "state_code_dict = dict(zip(state_codes.Code, state_codes.Abb))\n",
      "\n",
      "#transform the state codes into state abbreviations based on our state code data\n",
      "client_filtered[client_abbreviation + '_' + 'STATE_ABB'] = client_filtered[client_abbreviation + '_' + 'STATE_CODE'].map(state_code_dict)\n",
      "\n",
      "#drop the original columns that were transformed\n",
      "client_final = client_filtered.drop([client_abbreviation + '_' + 'STATE_CODE',\n",
      "                                     client_abbreviation + '_' + 'ORIG_HOUSE_STATUS'],1)"
     ],
     "language": "python",
     "metadata": {},
     "outputs": [],
     "prompt_number": 16
    },
    {
     "cell_type": "code",
     "collapsed": false,
     "input": [
      "#donor abbreviation that will be used throughout the script\n",
      "donor_abbreviation = \"SBI\"\n",
      "\n",
      "#identify the columns we're interested in - change the varaible names here\n",
      "donor_columns = {'ID':'ID','OCALC_4':'AGE','OCALC_27':'SALARY','OCALC_10':'SEX','STATE':'STATE','G4':'HOME_STATUS'}\n",
      "\n",
      "#pull in donor dataset\n",
      "donor_data = import_data('../../../data/synthetic_population/SBI_Complete.csv')"
     ],
     "language": "python",
     "metadata": {},
     "outputs": [],
     "prompt_number": 17
    },
    {
     "cell_type": "code",
     "collapsed": false,
     "input": [
      "#filter for the columns that we're interested in - this also renameds the columns\n",
      "donor_filtered = matching_columns(donor_data,donor_abbreviation,donor_columns)\n",
      "donor_final = donor_filtered"
     ],
     "language": "python",
     "metadata": {},
     "outputs": [],
     "prompt_number": 18
    },
    {
     "cell_type": "code",
     "collapsed": false,
     "input": [
      "#select statistical matching method to use\n",
      "potential_methods = [\"braycurtis\",\"canberra\",\"cityblock\",\"correlation\",\"cosine\",\"euclidean\",\"minkowski\",\"sqeuclidean\"]\n",
      "variables = ['SEX', 'HOME', 'AGE', 'SALARY']\n",
      "output_dict = {}\n",
      "for method in potential_methods:\n",
      "    print method, \"has started...\"\n",
      "    match_file = pd.read_csv('../data/' + method + '.csv')\n",
      "    match_file = match_file.drop('Unnamed: 0',1)\n",
      "    donor_input = matching_columns(donor_data,donor_abbreviation,donor_columns)\n",
      "    temp_dict = {}\n",
      "    for var in variables:\n",
      "        print var, \"has started...\"\n",
      "        if var in ['SEX','HOME']:\n",
      "            this_type = 'c'\n",
      "        elif var in ['AGE','SALARY']:\n",
      "            this_type = 'r'\n",
      "        else:\n",
      "            print \"WTF\"\n",
      "        try:\n",
      "            temp_dict[var] = predict(match_file,this_type,client_abbreviation,var)\n",
      "        except:\n",
      "            temp_dict[var] = \"Error\"\n",
      "            continue\n",
      "        print var, \"has completed...\"      \n",
      "    output_dict[method] = temp_dict\n",
      "    print method, \"has completed...\""
     ],
     "language": "python",
     "metadata": {},
     "outputs": [
      {
       "output_type": "stream",
       "stream": "stdout",
       "text": [
        "braycurtis has started...\n",
        "SEX"
       ]
      },
      {
       "output_type": "stream",
       "stream": "stdout",
       "text": [
        " has started...\n",
        "SEX"
       ]
      },
      {
       "output_type": "stream",
       "stream": "stdout",
       "text": [
        " has completed...\n",
        "HOME has started...\n",
        "HOME"
       ]
      },
      {
       "output_type": "stream",
       "stream": "stdout",
       "text": [
        " has completed...\n",
        "AGE has started...\n",
        "AGE"
       ]
      },
      {
       "output_type": "stream",
       "stream": "stdout",
       "text": [
        " has completed...\n",
        "SALARY has started...\n",
        "SALARY"
       ]
      },
      {
       "output_type": "stream",
       "stream": "stdout",
       "text": [
        " has completed...\n",
        "braycurtis has completed...\n",
        "canberra has started...\n",
        "SEX"
       ]
      },
      {
       "output_type": "stream",
       "stream": "stdout",
       "text": [
        " has started...\n",
        "HOME"
       ]
      },
      {
       "output_type": "stream",
       "stream": "stdout",
       "text": [
        " has started...\n",
        "AGE"
       ]
      },
      {
       "output_type": "stream",
       "stream": "stdout",
       "text": [
        " has started...\n",
        "SALARY"
       ]
      },
      {
       "output_type": "stream",
       "stream": "stdout",
       "text": [
        " has started...\n",
        "canberra"
       ]
      },
      {
       "output_type": "stream",
       "stream": "stdout",
       "text": [
        " has completed...\n",
        "cityblock has started...\n",
        "SEX"
       ]
      },
      {
       "output_type": "stream",
       "stream": "stdout",
       "text": [
        " has started...\n",
        "SEX"
       ]
      },
      {
       "output_type": "stream",
       "stream": "stdout",
       "text": [
        " has completed...\n",
        "HOME has started...\n",
        "HOME"
       ]
      },
      {
       "output_type": "stream",
       "stream": "stdout",
       "text": [
        " has completed...\n",
        "AGE has started...\n",
        "AGE"
       ]
      },
      {
       "output_type": "stream",
       "stream": "stdout",
       "text": [
        " has completed...\n",
        "SALARY has started...\n",
        "SALARY"
       ]
      },
      {
       "output_type": "stream",
       "stream": "stdout",
       "text": [
        " has completed...\n",
        "cityblock has completed...\n",
        "correlation has started...\n",
        "SEX"
       ]
      },
      {
       "output_type": "stream",
       "stream": "stdout",
       "text": [
        " has started...\n",
        "SEX"
       ]
      },
      {
       "output_type": "stream",
       "stream": "stdout",
       "text": [
        " has completed...\n",
        "HOME has started...\n",
        "HOME"
       ]
      },
      {
       "output_type": "stream",
       "stream": "stdout",
       "text": [
        " has completed...\n",
        "AGE has started...\n",
        "AGE"
       ]
      },
      {
       "output_type": "stream",
       "stream": "stdout",
       "text": [
        " has completed...\n",
        "SALARY has started...\n",
        "SALARY"
       ]
      },
      {
       "output_type": "stream",
       "stream": "stdout",
       "text": [
        " has completed...\n",
        "correlation has completed...\n",
        "cosine has started...\n",
        "SEX"
       ]
      },
      {
       "output_type": "stream",
       "stream": "stdout",
       "text": [
        " has started...\n",
        "SEX"
       ]
      },
      {
       "output_type": "stream",
       "stream": "stdout",
       "text": [
        " has completed...\n",
        "HOME has started...\n",
        "HOME"
       ]
      },
      {
       "output_type": "stream",
       "stream": "stdout",
       "text": [
        " has completed...\n",
        "AGE has started...\n",
        "AGE"
       ]
      },
      {
       "output_type": "stream",
       "stream": "stdout",
       "text": [
        " has completed...\n",
        "SALARY has started...\n",
        "SALARY"
       ]
      },
      {
       "output_type": "stream",
       "stream": "stdout",
       "text": [
        " has completed...\n",
        "cosine has completed...\n",
        "euclidean has started...\n",
        "SEX"
       ]
      },
      {
       "output_type": "stream",
       "stream": "stdout",
       "text": [
        " has started...\n",
        "SEX"
       ]
      },
      {
       "output_type": "stream",
       "stream": "stdout",
       "text": [
        " has completed...\n",
        "HOME has started...\n",
        "HOME"
       ]
      },
      {
       "output_type": "stream",
       "stream": "stdout",
       "text": [
        " has completed...\n",
        "AGE has started...\n",
        "AGE"
       ]
      },
      {
       "output_type": "stream",
       "stream": "stdout",
       "text": [
        " has completed...\n",
        "SALARY has started...\n",
        "SALARY"
       ]
      },
      {
       "output_type": "stream",
       "stream": "stdout",
       "text": [
        " has completed...\n",
        "euclidean has completed...\n",
        "minkowski has started...\n",
        "SEX has started...\n",
        "SEX"
       ]
      },
      {
       "output_type": "stream",
       "stream": "stdout",
       "text": [
        " has completed...\n",
        "HOME has started...\n",
        "HOME"
       ]
      },
      {
       "output_type": "stream",
       "stream": "stdout",
       "text": [
        " has completed...\n",
        "AGE has started...\n",
        "AGE"
       ]
      },
      {
       "output_type": "stream",
       "stream": "stdout",
       "text": [
        " has completed...\n",
        "SALARY has started...\n",
        "SALARY"
       ]
      },
      {
       "output_type": "stream",
       "stream": "stdout",
       "text": [
        " has completed...\n",
        "minkowski has completed...\n",
        "sqeuclidean has started...\n",
        "SEX"
       ]
      },
      {
       "output_type": "stream",
       "stream": "stdout",
       "text": [
        " has started...\n",
        "SEX"
       ]
      },
      {
       "output_type": "stream",
       "stream": "stdout",
       "text": [
        " has completed...\n",
        "HOME has started...\n",
        "HOME"
       ]
      },
      {
       "output_type": "stream",
       "stream": "stdout",
       "text": [
        " has completed...\n",
        "AGE has started...\n",
        "AGE"
       ]
      },
      {
       "output_type": "stream",
       "stream": "stdout",
       "text": [
        " has completed...\n",
        "SALARY has started...\n",
        "SALARY"
       ]
      },
      {
       "output_type": "stream",
       "stream": "stdout",
       "text": [
        " has completed...\n",
        "sqeuclidean has completed...\n"
       ]
      }
     ],
     "prompt_number": 96
    },
    {
     "cell_type": "code",
     "collapsed": false,
     "input": [
      "new_dict = {}\n",
      "for var in variables:\n",
      "    new_dict[var] = {}\n",
      "    for method in potential_methods:\n",
      "        new_dict[var][method] = output_dict[method][var]"
     ],
     "language": "python",
     "metadata": {},
     "outputs": [],
     "prompt_number": 113
    },
    {
     "cell_type": "code",
     "collapsed": false,
     "input": [
      "for method in potential_methods:\n",
      "    print new_dict['AGE'][method]"
     ],
     "language": "python",
     "metadata": {},
     "outputs": [
      {
       "output_type": "stream",
       "stream": "stdout",
       "text": [
        "{'KNN': 159.63412197483058, 'LIN': 207.43861312941527, 'SVM': 285.43651458875343, 'OVERALL': 121.15788862210518, 'DT': 62.871829622458854}\n",
        "Error\n",
        "{'KNN': 191.95852081316553, 'LIN': 202.67823258038004, 'SVM': 285.29888309790346, 'OVERALL': 332.2445201765936, 'DT': 96.718489835430788}\n",
        "{'KNN': 189.03913262342689, 'LIN': 216.36847007702494, 'SVM': 286.43754174959309, 'OVERALL': 802.26787235690495, 'DT': 112.75759922555663}\n",
        "{'KNN': 182.49249177153919, 'LIN': 197.63115649369675, 'SVM': 286.38821303078009, 'OVERALL': 314.97401440632018, 'DT': 93.266795740561477}\n",
        "{'KNN': 169.94268344627298, 'LIN': 196.6012217703132, 'SVM': 285.34697920199005, 'OVERALL': 177.93795987917281, 'DT': 76.247434656340758}\n",
        "{'KNN': 169.94268344627298, 'LIN': 196.6012217703132, 'SVM': 285.34697920199005, 'OVERALL': 177.93795987917281, 'DT': 75.409874152952568}\n",
        "{'KNN': 169.94268344627298, 'LIN': 196.6012217703132, 'SVM': 285.34697920199005, 'OVERALL': 177.93795987917281, 'DT': 76.317134559535333}\n"
       ]
      }
     ],
     "prompt_number": 115
    },
    {
     "cell_type": "code",
     "collapsed": false,
     "input": [
      "donor_input = matching_columns(donor_data,donor_abbreviation,donor_columns)"
     ],
     "language": "python",
     "metadata": {},
     "outputs": [],
     "prompt_number": 93
    },
    {
     "cell_type": "code",
     "collapsed": true,
     "input": [
      "with open(\"../data/matching_ml_output.json\", 'w') as f:\n",
      "    json.dump(output_dict, f)"
     ],
     "language": "python",
     "metadata": {},
     "outputs": [],
     "prompt_number": 119
    },
    {
     "cell_type": "code",
     "collapsed": false,
     "input": [
      "variables = ['SEX', 'HOME', 'AGE', 'SALARY']"
     ],
     "language": "python",
     "metadata": {},
     "outputs": [],
     "prompt_number": 90
    },
    {
     "cell_type": "code",
     "collapsed": false,
     "input": [
      "output_dict = {}\n",
      "for var in variables:\n",
      "    if var in ['SEX','HOME']:\n",
      "        this_type = 'c'\n",
      "    elif var in ['AGE','SALARY']:\n",
      "        this_type = 'r'\n",
      "    else:\n",
      "        print \"WTF\"\n",
      "    output_dict[var] = predict(match_file,this_type,client_abbreviation,var)"
     ],
     "language": "python",
     "metadata": {},
     "outputs": [],
     "prompt_number": 91
    },
    {
     "cell_type": "code",
     "collapsed": false,
     "input": [
      "print output_dict"
     ],
     "language": "python",
     "metadata": {},
     "outputs": [
      {
       "output_type": "stream",
       "stream": "stdout",
       "text": [
        "{'SALARY': {'KNN': 2968195622.6217852, 'LIN': 2789645482.5636296, 'SVM': 4413087442.0701761, 'OVERALL': 93521.666718302222, 'DT': 886418000.21529531}, 'HOME': {'KNN': 67.725072604065829, 'DT': 81.355275895450134, 'SVM': 79.709583736689254, 'OVERALL': 69.653783595383771, 'LOG': 64.491771539206198}, 'AGE': {'KNN': 191.95852081316553, 'LIN': 202.67823258038004, 'SVM': 285.29888309790346, 'OVERALL': 332.2445201765936, 'DT': 98.577928363988377}, 'SEX': {'KNN': 59.903194578896425, 'DT': 76.805421103581807, 'SVM': 77.328170377541142, 'OVERALL': 58.241034776547131, 'LOG': 54.114230396902229}}\n"
       ]
      }
     ],
     "prompt_number": 92
    },
    {
     "cell_type": "code",
     "collapsed": false,
     "input": [
      "predict(match_file,'c',client_abbreviation,\"SEX\")"
     ],
     "language": "python",
     "metadata": {},
     "outputs": [
      {
       "metadata": {},
       "output_type": "pyout",
       "prompt_number": 89,
       "text": [
        "{'DT': 0.23213939980638915,\n",
        " 'KNN': 0.24744240077444341,\n",
        " 'LIN': 0.25010361366448935,\n",
        " 'OVERALL': 0.41758965223452871,\n",
        " 'SVM': 0.13361356850317857}"
       ]
      }
     ],
     "prompt_number": 89
    }
   ],
   "metadata": {}
  }
 ]
}