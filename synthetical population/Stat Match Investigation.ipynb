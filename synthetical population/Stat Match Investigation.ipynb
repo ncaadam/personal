{
 "metadata": {
  "name": "",
  "signature": "sha256:825a0b8ff8ea073eec3973b7f7333af6f85102fc3f4dadbb39e5958e0560d5ae"
 },
 "nbformat": 3,
 "nbformat_minor": 0,
 "worksheets": [
  {
   "cells": [
    {
     "cell_type": "code",
     "collapsed": false,
     "input": [
      "%matplotlib inline\n",
      "import json\n",
      "import matplotlib.pyplot as plt\n",
      "import pandas as pd\n",
      "import math"
     ],
     "language": "python",
     "metadata": {},
     "outputs": [],
     "prompt_number": 56
    },
    {
     "cell_type": "code",
     "collapsed": false,
     "input": [
      "with open('../../../data/synthetic_population/outputs/matching_ml_output.json','r') as f:\n",
      "    stats = json.load(f)"
     ],
     "language": "python",
     "metadata": {},
     "outputs": [],
     "prompt_number": 93
    },
    {
     "cell_type": "code",
     "collapsed": false,
     "input": [
      "test = pd.DataFrame.from_dict(stats)"
     ],
     "language": "python",
     "metadata": {},
     "outputs": [],
     "prompt_number": 94
    },
    {
     "cell_type": "code",
     "collapsed": false,
     "input": [
      "overall_list = [['matching_technique','variable','knn','log/lin','svm','dt','overall','log_knn','log_log/lin','log_svm','log_dt','log_overall']]\n",
      "variable = [\"AGE\",\"SEX\",\"SALARY\",\"HOME\"]\n",
      "for k,v in test.iteritems():\n",
      "    for k2,v2 in v.iteritems():\n",
      "        temp_list = [\"\",\"\",0.0,0.0,0.0,0.0,0.0,0.0,0.0,0.0,0.0,0.0]\n",
      "        temp_list[0] = str(k)\n",
      "        temp_list[1] = str(k2)\n",
      "        if type(v2) is dict:\n",
      "            for k3,v3 in v2.iteritems():\n",
      "                if str(k3) == 'KNN':\n",
      "                    temp_list[2] = float(v3)\n",
      "                    temp_list[7] = math.log10(v3)\n",
      "                elif str(k3) in ['LOG','LIN']:\n",
      "                    temp_list[3] = float(v3)\n",
      "                    temp_list[8] = math.log10(v3)\n",
      "                elif str(k3) in 'SVM':\n",
      "                    temp_list[4] = float(v3)\n",
      "                    temp_list[9] = math.log10(v3)\n",
      "                elif str(k3) in 'DT':\n",
      "                    temp_list[5] = float(v3)\n",
      "                    temp_list[10] = math.log10(v3)\n",
      "                elif str(k3) in 'OVERALL':\n",
      "                    temp_list[6] = float(v3)\n",
      "                    temp_list[11] = math.log10(v3)\n",
      "            overall_list.append(temp_list)"
     ],
     "language": "python",
     "metadata": {},
     "outputs": [],
     "prompt_number": 95
    },
    {
     "cell_type": "code",
     "collapsed": false,
     "input": [
      "with open('../../../data/synthetic_population/outputs/output.csv','w') as f:\n",
      "    for line in overall_list:\n",
      "        for value in line:\n",
      "            f.write(str(value)+',')\n",
      "        f.write(\"\\n\")"
     ],
     "language": "python",
     "metadata": {},
     "outputs": [],
     "prompt_number": 96
    },
    {
     "cell_type": "code",
     "collapsed": false,
     "input": [],
     "language": "python",
     "metadata": {},
     "outputs": []
    }
   ],
   "metadata": {}
  }
 ]
}