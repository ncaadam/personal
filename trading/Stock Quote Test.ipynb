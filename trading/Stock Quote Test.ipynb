{
 "metadata": {
  "name": "",
  "signature": "sha256:ba9eda296cb6867b2840c1f597475eb29ba6ee3fbcbd9d917aa80a8af0cb00af"
 },
 "nbformat": 3,
 "nbformat_minor": 0,
 "worksheets": [
  {
   "cells": [
    {
     "cell_type": "code",
     "collapsed": false,
     "input": [
      "import ystockquote as ys\n",
      "import jsonpickle as jp\n",
      "import operator"
     ],
     "language": "python",
     "metadata": {},
     "outputs": [],
     "prompt_number": 82
    },
    {
     "cell_type": "code",
     "collapsed": false,
     "input": [
      "output = ys.get_historical_prices(\"RDY\",'2014-11-01','2014-11-07')"
     ],
     "language": "python",
     "metadata": {},
     "outputs": [],
     "prompt_number": 97
    },
    {
     "cell_type": "code",
     "collapsed": false,
     "input": [
      "print type(output)\n",
      "print output.items()"
     ],
     "language": "python",
     "metadata": {},
     "outputs": [
      {
       "output_type": "stream",
       "stream": "stdout",
       "text": [
        "<type 'dict'>\n",
        "[('2014-11-03', {'Volume': '117100', 'Adj Close': '52.13', 'High': '52.45', 'Low': '51.92', 'Close': '52.13', 'Open': '52.07'}), ('2014-11-06', {'Volume': '156000', 'Adj Close': '52.60', 'High': '53.00', 'Low': '52.46', 'Close': '52.60', 'Open': '52.87'}), ('2014-11-05', {'Volume': '221900', 'Adj Close': '52.90', 'High': '53.66', 'Low': '52.82', 'Close': '52.90', 'Open': '53.15'}), ('2014-11-04', {'Volume': '180800', 'Adj Close': '52.20', 'High': '52.62', 'Low': '51.98', 'Close': '52.20', 'Open': '52.02'})]\n"
       ]
      }
     ],
     "prompt_number": 98
    },
    {
     "cell_type": "code",
     "collapsed": false,
     "input": [
      "s_output = sorted(output.items(), key = operator.itemgetter(0))\n",
      "for line in dict(s_output).iteritems():\n",
      "    print line"
     ],
     "language": "python",
     "metadata": {},
     "outputs": [
      {
       "output_type": "stream",
       "stream": "stdout",
       "text": [
        "('2014-11-03', {'Volume': '117100', 'Adj Close': '52.13', 'High': '52.45', 'Low': '51.92', 'Close': '52.13', 'Open': '52.07'})\n",
        "('2014-11-06', {'Volume': '156000', 'Adj Close': '52.60', 'High': '53.00', 'Low': '52.46', 'Close': '52.60', 'Open': '52.87'})\n",
        "('2014-11-05', {'Volume': '221900', 'Adj Close': '52.90', 'High': '53.66', 'Low': '52.82', 'Close': '52.90', 'Open': '53.15'})\n",
        "('2014-11-04', {'Volume': '180800', 'Adj Close': '52.20', 'High': '52.62', 'Low': '51.98', 'Close': '52.20', 'Open': '52.02'})\n"
       ]
      }
     ],
     "prompt_number": 125
    },
    {
     "cell_type": "code",
     "collapsed": false,
     "input": [],
     "language": "python",
     "metadata": {},
     "outputs": []
    },
    {
     "cell_type": "code",
     "collapsed": false,
     "input": [],
     "language": "python",
     "metadata": {},
     "outputs": [
      {
       "output_type": "stream",
       "stream": "stdout",
       "text": [
        "\u001b[H\u001b[2J"
       ]
      }
     ],
     "prompt_number": 27
    },
    {
     "cell_type": "code",
     "collapsed": false,
     "input": [],
     "language": "python",
     "metadata": {},
     "outputs": []
    }
   ],
   "metadata": {}
  }
 ]
}